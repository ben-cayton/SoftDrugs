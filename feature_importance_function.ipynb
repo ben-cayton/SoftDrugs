{
 "cells": [
  {
   "cell_type": "code",
   "execution_count": 3,
   "metadata": {},
   "outputs": [],
   "source": [
    "from sklearn.ensemble import RandomForestRegressor\n",
    "from sklearn import datasets, model_selection\n",
    "\n",
    "def feature_importance(feature_arrays, labels):\n",
    "    y = labels\n",
    "    x = feature_arrays\n",
    "    _, n_features = featurized_train_array.shape\n",
    "    importance_values = np.zeros(n_features)\n",
    "    x_train, x_test, y_train, y_test = model_selection.train_test_split(\n",
    "        x, y, test_size=0.2, random_state=1)\n",
    "    kf = model_selection.KFold(n_splits=5)\n",
    "    for train_idx, val_idx in kf.split(x_train):\n",
    "        feature_imp_model = RandomForestRegressor(\n",
    "            n_estimators = 1000, criterion='mse',\n",
    "            min_samples_leaf=1, max_features = sqrt)\n",
    "        feature_imp_model.fit(x_train[train_idx], y_train[train_idx])\n",
    "        fold_feat_imp = feature_imp_model.feature_importances_\n",
    "        importance_values += fold_feat_imp\n",
    "    return importance_values\n",
    "    "
   ]
  },
  {
   "cell_type": "code",
   "execution_count": null,
   "metadata": {},
   "outputs": [],
   "source": []
  }
 ],
 "metadata": {
  "kernelspec": {
   "display_name": "Python 3",
   "language": "python",
   "name": "python3"
  },
  "language_info": {
   "codemirror_mode": {
    "name": "ipython",
    "version": 3
   },
   "file_extension": ".py",
   "mimetype": "text/x-python",
   "name": "python",
   "nbconvert_exporter": "python",
   "pygments_lexer": "ipython3",
   "version": "3.8.5"
  }
 },
 "nbformat": 4,
 "nbformat_minor": 4
}
