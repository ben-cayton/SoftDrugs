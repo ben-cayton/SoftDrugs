{
 "cells": [
  {
   "cell_type": "code",
   "execution_count": null,
   "id": "2dc44c8d",
   "metadata": {},
   "outputs": [],
   "source": [
    "import pandas as pd\n",
    "import numpy as np\n",
    "from sklearn.model_selection import train_test_split\n",
    "\n",
    "def load_combine_and_split_data(general_dataset = './data.csv', refine_dataset = './data.csv'):\n",
    "    general_dataset = pd.read_csv(general_dataset)\n",
    "    refine_dataset = pd.read_csv(refine_dataset)\n",
    "    gen_count = len(general_dataset)\n",
    "    ref_count = len(refine_dataset)\n",
    "    gen_Ids = general_dataset[\"Ids\"]\n",
    "    gen_labels = general_dataset[\"labels\"]\n",
    "    ref_Ids = refine_dataset[\"Id\"]\n",
    "    ref_labels = refine_dataset[\"Lable\"]\n",
    "    sanitized_files = gen_count + ref_count + 1\n",
    "    sanitized_dataset = np.zeros((sanitized_files,2))\n",
    "    sanitized_dataset = sanitized_dataset.astype(str)\n",
    "    sanitized_dataset[0:gen_count,0] = gen_Ids\n",
    "    sanitized_dataset[gen_count+1:sanitized_files,0] = ref_Ids\n",
    "    sanitized_dataset[0:gen_count,1] = gen_labels\n",
    "    sanitized_dataset[gen_count+1:sanitized_files,1] = ref_labels\n",
    "    X = sanitized_dataset[:, 0]\n",
    "    y = sanitized_dataset[:, 1]\n",
    "    X_train, X_temp, y_train, y_temp = train_test_split(\n",
    "        X, y, test_size=0.3)\n",
    "    X_val, X_test, y_val, y_test = train_test_split(\n",
    "        X_temp, y_temp, test_size=0.5)\n",
    "    d = {'col1': [1, 2], 'col2': [3, 4]}\n",
    "    train_data = {'Ids':X_train, 'Labels': y_train}\n",
    "    validation_data = {'Ids':X_val, 'Labels': y_val}\n",
    "    test_data = {'Ids':X_test, 'Labels': y_test}\n",
    "    train_data = pd.DataFrame(data=train_data)\n",
    "    validation_data = pd.DataFrame(data=validation_data)\n",
    "    test_data = pd.DataFrame(data=test_data)\n",
    "    total_data = pd.DataFrame(data=sanitized_dataset)\n",
    "    train_data.to_csv('train_dataset.csv')\n",
    "    validation_data.to_csv('validation_dataset.csv')\n",
    "    test_data.to_csv('test_dataset.csv')\n",
    "    total_data.to_csv('total_sanitized_dataset.csv')"
   ]
  },
  {
   "cell_type": "code",
   "execution_count": 20,
   "id": "baa24601",
   "metadata": {},
   "outputs": [],
   "source": [
    "load_combine_and_split_data('general sanitized.csv', 'refined sanitized.csv')"
   ]
  },
  {
   "cell_type": "code",
   "execution_count": null,
   "id": "9bf875ba",
   "metadata": {},
   "outputs": [],
   "source": []
  },
  {
   "cell_type": "code",
   "execution_count": null,
   "id": "5cec19c8",
   "metadata": {},
   "outputs": [],
   "source": []
  }
 ],
 "metadata": {
  "kernelspec": {
   "display_name": "Python 3",
   "language": "python",
   "name": "python3"
  },
  "language_info": {
   "codemirror_mode": {
    "name": "ipython",
    "version": 3
   },
   "file_extension": ".py",
   "mimetype": "text/x-python",
   "name": "python",
   "nbconvert_exporter": "python",
   "pygments_lexer": "ipython3",
   "version": "3.6.12"
  }
 },
 "nbformat": 4,
 "nbformat_minor": 5
}
