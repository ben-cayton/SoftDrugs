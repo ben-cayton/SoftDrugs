{
  "nbformat": 4,
  "nbformat_minor": 0,
  "metadata": {
    "colab": {
      "name": "KnnLooCV.ipynb",
      "provenance": []
    },
    "kernelspec": {
      "name": "python3",
      "display_name": "Python 3"
    },
    "language_info": {
      "name": "python"
    }
  },
  "cells": [
    {
      "cell_type": "code",
      "metadata": {
        "id": "xjDJzwo8sntA"
      },
      "source": [
        "import numpy as np\n",
        "from numpy.random import random_sample as rs, randint as r\n",
        "from sklearn.neighbors import KNeighborsRegressor as KNR\n",
        "from sklearn.model_selection import cross_val_predict as CV\n",
        "from sklearn.metrics import r2_score as r2\n",
        "X = np.array([r(2, size=10), r(2, size=10), r(2, size=10), r(2, size=10), r(2, size=10), r(2, size=10), r(2, size=10), r(2, size=10), r(2, size=10), r(2, size=10), r(2, size=10)]) \n",
        "y = np.array(rs((11)))\n",
        "model = KNR(n_neighbors=2)\n",
        "pred = CV(model, X, y, cv=len(X))\n",
        "r2_score = r2(pred,y)\n",
        "print(r2_score)"
      ],
      "execution_count": null,
      "outputs": []
    }
  ]
}