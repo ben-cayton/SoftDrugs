{
 "cells": [
  {
   "cell_type": "code",
   "execution_count": 1,
   "id": "194446f0",
   "metadata": {},
   "outputs": [],
   "source": [
    "import pandas as pd\n",
    "import numpy as np\n",
    "\n",
    "def load_data(csv_file='./data.csv'):\n",
    "    loaded_data = pd.read_csv(csv_file)\n",
    "    n_files = len(loaded_data)\n",
    "    Ids = loaded_data[\"Ids\"]\n",
    "    labels = loaded_data[\"Labels\"]\n",
    "    labels = labels.to_numpy()\n",
    "    return Ids, labels"
   ]
  },
  {
   "cell_type": "code",
   "execution_count": 2,
   "id": "d17d16e6",
   "metadata": {},
   "outputs": [
    {
     "name": "stdout",
     "output_type": "stream",
     "text": [
      "Requirement already satisfied: PubChemPy in c:\\tools\\anaconda3\\envs\\softdrugvirtenv\\lib\\site-packages (1.0.4)\n"
     ]
    },
    {
     "name": "stderr",
     "output_type": "stream",
     "text": [
      "C:\\tools\\Anaconda3\\envs\\softdrugVirtEnv\\lib\\site-packages\\tensorboard\\compat\\tensorflow_stub\\dtypes.py:541: FutureWarning: Passing (type, 1) or '1type' as a synonym of type is deprecated; in a future version of numpy, it will be understood as (type, (1,)) / '(1,)type'.\n",
      "  _np_qint8 = np.dtype([(\"qint8\", np.int8, 1)])\n",
      "C:\\tools\\Anaconda3\\envs\\softdrugVirtEnv\\lib\\site-packages\\tensorboard\\compat\\tensorflow_stub\\dtypes.py:542: FutureWarning: Passing (type, 1) or '1type' as a synonym of type is deprecated; in a future version of numpy, it will be understood as (type, (1,)) / '(1,)type'.\n",
      "  _np_quint8 = np.dtype([(\"quint8\", np.uint8, 1)])\n",
      "C:\\tools\\Anaconda3\\envs\\softdrugVirtEnv\\lib\\site-packages\\tensorboard\\compat\\tensorflow_stub\\dtypes.py:543: FutureWarning: Passing (type, 1) or '1type' as a synonym of type is deprecated; in a future version of numpy, it will be understood as (type, (1,)) / '(1,)type'.\n",
      "  _np_qint16 = np.dtype([(\"qint16\", np.int16, 1)])\n",
      "C:\\tools\\Anaconda3\\envs\\softdrugVirtEnv\\lib\\site-packages\\tensorboard\\compat\\tensorflow_stub\\dtypes.py:544: FutureWarning: Passing (type, 1) or '1type' as a synonym of type is deprecated; in a future version of numpy, it will be understood as (type, (1,)) / '(1,)type'.\n",
      "  _np_quint16 = np.dtype([(\"quint16\", np.uint16, 1)])\n",
      "C:\\tools\\Anaconda3\\envs\\softdrugVirtEnv\\lib\\site-packages\\tensorboard\\compat\\tensorflow_stub\\dtypes.py:545: FutureWarning: Passing (type, 1) or '1type' as a synonym of type is deprecated; in a future version of numpy, it will be understood as (type, (1,)) / '(1,)type'.\n",
      "  _np_qint32 = np.dtype([(\"qint32\", np.int32, 1)])\n",
      "C:\\tools\\Anaconda3\\envs\\softdrugVirtEnv\\lib\\site-packages\\tensorboard\\compat\\tensorflow_stub\\dtypes.py:550: FutureWarning: Passing (type, 1) or '1type' as a synonym of type is deprecated; in a future version of numpy, it will be understood as (type, (1,)) / '(1,)type'.\n",
      "  np_resource = np.dtype([(\"resource\", np.ubyte, 1)])\n"
     ]
    }
   ],
   "source": [
    "!pip install PubChemPy\n",
    "import numpy as np\n",
    "import os\n",
    "import deepchem as dc\n",
    "import pubchempy as pcp\n",
    "from os.path import dirname, join as pjoin\n",
    "from deepchem.utils.typing import RDKitMol\n",
    "from deepchem.feat.base_classes import MolecularFeaturizer\n",
    "from rdkit import Chem\n",
    "from rdkit.Chem import AllChem"
   ]
  },
  {
   "cell_type": "code",
   "execution_count": 3,
   "id": "e452b506",
   "metadata": {},
   "outputs": [],
   "source": [
    "def featurizing_MACKeys(Id_array, label_array, data_folder_name):\n",
    "    n_samples = len(Id_array)\n",
    "    features_and_labels = np.zeros((n_samples,169), dtype = int)\n",
    "    features_and_labels = features_and_labels.astype(str)\n",
    "    labels = np.zeros(n_samples)\n",
    "    prim_path = ('C:\\\\Users\\\\joslynn.deaver\\\\SoftDrugs\\\\Sanitization')\n",
    "    data_dir = pjoin(prim_path, data_folder_name)\n",
    "    os.chdir(data_dir)\n",
    "    MACKEYS_featurizer = dc.feat.MACCSKeysFingerprint()\n",
    "    for idx in range(n_samples):\n",
    "        pdbid = Id_array[idx]\n",
    "        ligand = '%s_ligand.pdb' % (pdbid)\n",
    "        try:\n",
    "            features_and_labels[idx,1:168] = MACKEYS_featurizer.featurize(([Chem.MolFromPDBFile(ligand)]))\n",
    "            features_and_labels[idx, -1] = label_array[idx]\n",
    "            features_and_labels[idx,0] = pdbid\n",
    "        except:\n",
    "            print('%s Featurization Failed' % (pdbid))\n",
    "    features_and_labels = features_and_labels[~np.all(features_and_labels == '0', axis=1)]\n",
    "    os.chdir(prim_path)\n",
    "    features_and_labels = pd.DataFrame(data=features_and_labels)\n",
    "    features_and_labels.to_csv('featured_MACKeys_train_data.csv')"
   ]
  },
  {
   "cell_type": "code",
   "execution_count": null,
   "id": "19eaf41f",
   "metadata": {},
   "outputs": [],
   "source": [
    "def featurizing_CF(Id_array, label_array, data_folder_name):\n",
    "    n_samples = len(Id_array)\n",
    "    features_and_labels = np.zeros((n_samples,2050), dtype = int)\n",
    "    features_and_labels = features_and_labels.astype(str)\n",
    "    labels = np.zeros(n_samples)\n",
    "    prim_path = ('C:\\\\Users\\\\joslynn.deaver\\\\SoftDrugs\\\\Sanitization')\n",
    "    data_dir = pjoin(prim_path, data_folder_name)\n",
    "    os.chdir(data_dir)\n",
    "    CF_featurizer = dc.feat.CircularFingerprint()\n",
    "    for idx in range(n_samples):\n",
    "        pdbid = Id_array[idx]\n",
    "        ligand = '%s_ligand.pdb' % (pdbid)\n",
    "        try:\n",
    "            features_and_labels[idx,1:2049] = CF_featurizer.featurize(([Chem.MolFromPDBFile(ligand)]))\n",
    "            features_and_labels[idx, -1] = label_array[idx]\n",
    "            features_and_labels[idx,0] = pdbid\n",
    "        except:\n",
    "            print('%s Featurization Failed' % (pdbid))\n",
    "    features_and_labels = features_and_labels[~np.all(features_and_labels == '0', axis=1)]\n",
    "    os.chdir(prim_path)\n",
    "    features_and_labels = pd.DataFrame(data=features_and_labels)\n",
    "    features_and_labels.to_csv('featured_CircularFP_train_data.csv')"
   ]
  },
  {
   "cell_type": "code",
   "execution_count": 9,
   "id": "c7364b81",
   "metadata": {},
   "outputs": [],
   "source": [
    "def featurizing_PubFP(Id_array, label_array, data_folder_name):\n",
    "    n_samples = len(Id_array)\n",
    "    features_and_labels = np.zeros((n_samples,883), dtype = int)\n",
    "    features_and_labels = features_and_labels.astype(str)\n",
    "    labels = np.zeros(n_samples)\n",
    "    prim_path = ('C:\\\\Users\\\\joslynn.deaver\\\\SoftDrugs\\\\Sanitization')\n",
    "    data_dir = pjoin(prim_path, data_folder_name)\n",
    "    os.chdir(data_dir)\n",
    "    PubFB_featurizer = dc.feat.PubChemFingerprint()\n",
    "    for idx in range(n_samples):\n",
    "        pdbid = Id_array[idx]\n",
    "        ligand = '%s_ligand.pdb' % (pdbid)\n",
    "        try:\n",
    "            features_and_labels[idx,1:882] = PubFB_featurizer.featurize(([Chem.MolFromPDBFile(ligand)]))\n",
    "            features_and_labels[idx, -1] = label_array[idx]\n",
    "            features_and_labels[idx,0] = pdbid\n",
    "        except:\n",
    "            print('%s Featurization Failed' % (pdbid))\n",
    "    features_and_labels = features_and_labels[~np.all(features_and_labels == '0', axis=1)]\n",
    "    os.chdir(prim_path)\n",
    "    features_and_labels = pd.DataFrame(data=features_and_labels)\n",
    "    features_and_labels.to_csv('featured_PubChemFP_train_data.csv')"
   ]
  },
  {
   "cell_type": "code",
   "execution_count": 5,
   "id": "1cafc9a1",
   "metadata": {},
   "outputs": [],
   "source": [
    "def featurizing_RDKit(Id_array, label_array, data_folder_name):\n",
    "    n_samples = len(Id_array)\n",
    "    features_and_labels = np.zeros((n_samples,202), dtype = int)\n",
    "    features_and_labels = features_and_labels.astype(str)\n",
    "    labels = np.zeros(n_samples)\n",
    "    prim_path = ('C:\\\\Users\\\\joslynn.deaver\\\\SoftDrugs\\\\Sanitization')\n",
    "    data_dir = pjoin(prim_path, data_folder_name)\n",
    "    os.chdir(data_dir)\n",
    "    RDKit_featurizer = dc.feat.RDKitDescriptors()\n",
    "    for idx in range(n_samples):\n",
    "        pdbid = Id_array[idx]\n",
    "        ligand = '%s_ligand.pdb' % (pdbid)\n",
    "        try:\n",
    "            features_and_labels[idx,1:201] = RDKit_featurizer.featurize(([Chem.MolFromPDBFile(ligand)]))\n",
    "            features_and_labels[idx, -1] = label_array[idx]\n",
    "            features_and_labels[idx,0] = pdbid\n",
    "        except:\n",
    "            print('%s Featurization Failed' % (pdbid))\n",
    "    features_and_labels = features_and_labels[~np.all(features_and_labels == '0', axis=1)]\n",
    "    os.chdir(prim_path)\n",
    "    features_and_labels = pd.DataFrame(data=features_and_labels)\n",
    "    features_and_labels.to_csv('featured_RDKit_train_data.csv')"
   ]
  },
  {
   "cell_type": "code",
   "execution_count": null,
   "id": "edd36ba4",
   "metadata": {},
   "outputs": [
    {
     "name": "stderr",
     "output_type": "stream",
     "text": [
      "Failed to featurize datapoint 0, CCCCOC(=O)C(NC(=O)C([NH3+])Cc1ccc(O)cc1)C1C(O)C(O)(CO)C(O)C[NH+]1O. Appending empty array\n",
      "Exception message: 'NoneType' object is not subscriptable\n"
     ]
    },
    {
     "name": "stdout",
     "output_type": "stream",
     "text": [
      "1jik Featurization Failed\n",
      "4m7b Featurization Failed\n"
     ]
    },
    {
     "name": "stderr",
     "output_type": "stream",
     "text": [
      "Failed to featurize datapoint 0, c1ccc(CC2CN(c3cc(-c4ccncc4)c(-c4ccc5ccccc5c4)nn3)CC[NH2+]2)cc1. Appending empty array\n",
      "Exception message: 'NoneType' object is not subscriptable\n"
     ]
    },
    {
     "name": "stdout",
     "output_type": "stream",
     "text": [
      "1yqj Featurization Failed\n"
     ]
    },
    {
     "name": "stderr",
     "output_type": "stream",
     "text": [
      "Failed to featurize datapoint 0, CC([NH3+])C(=O)N1CCCC1C(=O)N1CCCC1C(=O)N1CCCC1C(=O)NC(CCCNC(N)=[NH2+])C(=O)N1CCCC1C(=O)N1CCCC1C(=O)N1CCCC1C(=O)N1CCCC1C(=O)NC(CCC(=O)[O-])C(=O)[O-]. Appending empty array\n",
      "Exception message: 'NoneType' object is not subscriptable\n"
     ]
    },
    {
     "name": "stdout",
     "output_type": "stream",
     "text": [
      "4lnp Featurization Failed\n"
     ]
    },
    {
     "name": "stderr",
     "output_type": "stream",
     "text": [
      "Failed to featurize datapoint 0, CC(=O)NC(C(=O)NC(Cc1ccccc1)C(O)C[NH+](CC1CCCCC1)NC(=O)C(NC(C)=O)C(C)C)C(C)C. Appending empty array\n",
      "Exception message: 'NoneType' object is not subscriptable\n"
     ]
    },
    {
     "name": "stdout",
     "output_type": "stream",
     "text": [
      "1hii Featurization Failed\n"
     ]
    },
    {
     "name": "stderr",
     "output_type": "stream",
     "text": [
      "Failed to featurize datapoint 0, CCOC(Cc1ccc(OCc2csc(-c3ccc(Cl)cc3)n2)cc1C)C(=O)[O-]. Appending empty array\n",
      "Exception message: 'NoneType' object is not subscriptable\n"
     ]
    },
    {
     "name": "stdout",
     "output_type": "stream",
     "text": [
      "3fei Featurization Failed\n",
      "5vrl Featurization Failed\n"
     ]
    },
    {
     "name": "stderr",
     "output_type": "stream",
     "text": [
      "Failed to featurize datapoint 0, Nc1ccc2c(CNC(=O)C(Cc3ccccc3)NC(=O)c3ccc4[nH]c(=O)cc(O)c4c3)cccc2n1. Appending empty array\n",
      "Exception message: 'NoneType' object is not subscriptable\n"
     ]
    },
    {
     "name": "stdout",
     "output_type": "stream",
     "text": [
      "4cra Featurization Failed\n",
      "2z7h Featurization Failed\n"
     ]
    },
    {
     "name": "stderr",
     "output_type": "stream",
     "text": [
      "Failed to featurize datapoint 0, Cn1cc(C2C[NH+](C3CCc4cccc(F)c43)CC2[NH+](C)C)c2ccccc21. Appending empty array\n",
      "Exception message: 'NoneType' object is not subscriptable\n"
     ]
    },
    {
     "name": "stdout",
     "output_type": "stream",
     "text": [
      "5u8f Featurization Failed\n"
     ]
    },
    {
     "name": "stderr",
     "output_type": "stream",
     "text": [
      "Failed to featurize datapoint 0, CC(CS)C(=O)NC(Cc1c[nH]c2ccccc12)C(=O)[O-]. Appending empty array\n",
      "Exception message: 'NoneType' object is not subscriptable\n"
     ]
    },
    {
     "name": "stdout",
     "output_type": "stream",
     "text": [
      "5n4t Featurization Failed\n"
     ]
    },
    {
     "name": "stderr",
     "output_type": "stream",
     "text": [
      "Failed to featurize datapoint 0, CC(C)=CC[NH+]1Cc2cc(Cl)cc3[nH]c(=S)n(c23)CC1C. Appending empty array\n",
      "Exception message: 'NoneType' object is not subscriptable\n"
     ]
    },
    {
     "name": "stdout",
     "output_type": "stream",
     "text": [
      "1rev Featurization Failed\n"
     ]
    },
    {
     "name": "stderr",
     "output_type": "stream",
     "text": [
      "Failed to featurize datapoint 0, CC(C)C(CC(O)C([NH3+])C[NH+]1CC(=O)N(c2ccccc2Cl)CC1(C)C)C(=O)NCC(C)(C)C(N)=O. Appending empty array\n",
      "Exception message: 'NoneType' object is not subscriptable\n"
     ]
    },
    {
     "name": "stdout",
     "output_type": "stream",
     "text": [
      "3vsx Featurization Failed\n",
      "3g3m Featurization Failed\n"
     ]
    },
    {
     "name": "stderr",
     "output_type": "stream",
     "text": [
      "Failed to featurize datapoint 0, CC(NC(=O)CNC(=O)C(C)NC(=O)C(CO)NC(=O)C(CCCNC(N)=[NH2+])NC(=O)C(C)NC(=O)C([NH3+])CS)C(=O)NC(C)C(=O)NC(C(=O)[O-])C(C)O. Appending empty array\n",
      "Exception message: 'NoneType' object is not subscriptable\n"
     ]
    },
    {
     "name": "stdout",
     "output_type": "stream",
     "text": [
      "3uvo Featurization Failed\n"
     ]
    },
    {
     "name": "stderr",
     "output_type": "stream",
     "text": [
      "Failed to featurize datapoint 0, CC(=NN=C1N=CCN1)c1ccc(NC(=O)Nc2ccc(C(C)=NNC3N=CC[NH2+]3)cc2)cc1. Appending empty array\n",
      "Exception message: 'NoneType' object is not subscriptable\n"
     ]
    },
    {
     "name": "stdout",
     "output_type": "stream",
     "text": [
      "2ycr Featurization Failed\n"
     ]
    },
    {
     "name": "stderr",
     "output_type": "stream",
     "text": [
      "Failed to featurize datapoint 0, C[NH+](Cc1ccc(C(=O)NO)cc1F)CC12CC3CC(CC(C3)C1)C2. Appending empty array\n",
      "Exception message: 'NoneType' object is not subscriptable\n"
     ]
    },
    {
     "name": "stdout",
     "output_type": "stream",
     "text": [
      "6dvo Featurization Failed\n"
     ]
    },
    {
     "name": "stderr",
     "output_type": "stream",
     "text": [
      "Failed to featurize datapoint 0, CN1C(=[NH2+])NC2(C1=O)c1cc(-c3cccnc3F)ccc1OC1(C)CCCOC12. Appending empty array\n",
      "Exception message: 'NoneType' object is not subscriptable\n"
     ]
    },
    {
     "name": "stdout",
     "output_type": "stream",
     "text": [
      "4rro Featurization Failed\n"
     ]
    },
    {
     "name": "stderr",
     "output_type": "stream",
     "text": [
      "Failed to featurize datapoint 0, CC(NC(=O)C[NH3+])C(=O)NC(Cc1ccccc1)C(=O)NC(Cc1ccccc1)C(=O)NC(CO)C(=O)NC(C)C(=O)NC(CCCNC(N)=[NH2+])C(=O)NCC(=O)NC(Cc1cnc[nH]1)C(=O)NC(CCCNC(N)=[NH2+])C(=O)N1CCCC1C(=O)O. Appending empty array\n",
      "Exception message: 'NoneType' object is not subscriptable\n"
     ]
    },
    {
     "name": "stdout",
     "output_type": "stream",
     "text": [
      "1r17 Featurization Failed\n"
     ]
    },
    {
     "name": "stderr",
     "output_type": "stream",
     "text": [
      "Failed to featurize datapoint 0, CC[NH+]1CCN(c2ccc(C(=O)Nc3n[nH]c4cc(-c5cccc(OC)c5)ccc34)cc2)CC1. Appending empty array\n",
      "Exception message: 'NoneType' object is not subscriptable\n"
     ]
    },
    {
     "name": "stdout",
     "output_type": "stream",
     "text": [
      "4zsa Featurization Failed\n",
      "1e8h Featurization Failed\n"
     ]
    },
    {
     "name": "stderr",
     "output_type": "stream",
     "text": [
      "Failed to featurize datapoint 0, [NH3+]CCCCC([NH3+])C(=O)N1CCCC1C(=O)NC(Cc1c[nH]cn1)C(=O)NC(CO)C(=O)NC(CC(=O)[O-])C(=O)[O-]. Appending empty array\n",
      "Exception message: 'NoneType' object is not subscriptable\n"
     ]
    },
    {
     "name": "stdout",
     "output_type": "stream",
     "text": [
      "4j81 Featurization Failed\n"
     ]
    },
    {
     "name": "stderr",
     "output_type": "stream",
     "text": [
      "Failed to featurize datapoint 0, CNC(NC)=[NH+]CCCC(NC(=O)C(C)NC(=O)C(CCCNC(N)=[NH2+])NC(=O)C[NH3+])C(=O)NCC(=O)NC(CCC(N)=O)C(=O)[O-]. Appending empty array\n",
      "Exception message: 'NoneType' object is not subscriptable\n"
     ]
    },
    {
     "name": "stdout",
     "output_type": "stream",
     "text": [
      "3omg Featurization Failed\n"
     ]
    },
    {
     "name": "stderr",
     "output_type": "stream",
     "text": [
      "Failed to featurize datapoint 0, [NH3+]Cc1ccc(C(=O)NC2Cc3cccc(C(=O)[O-])c3OB2O)cc1. Appending empty array\n",
      "Exception message: 'NoneType' object is not subscriptable\n"
     ]
    },
    {
     "name": "stdout",
     "output_type": "stream",
     "text": [
      "5j8x Featurization Failed\n"
     ]
    },
    {
     "name": "stderr",
     "output_type": "stream",
     "text": [
      "Failed to featurize datapoint 0, N#Cc1ccc(OCCC[NH+]2CCC(C(O)(c3ccccc3)C3CCCC3)CC2)cc1. Appending empty array\n",
      "Exception message: 'NoneType' object is not subscriptable\n"
     ]
    },
    {
     "name": "stdout",
     "output_type": "stream",
     "text": [
      "4og4 Featurization Failed\n",
      "5h5o Featurization Failed\n"
     ]
    },
    {
     "name": "stderr",
     "output_type": "stream",
     "text": [
      "Failed to featurize datapoint 0, Cc1nc(-c2nc3ccc(Cl)cc3[nH]2)c(C)c(-c2ccccc2)c1C(OC(C)(C)C)C(=O)[O-]. Appending empty array\n",
      "Exception message: 'NoneType' object is not subscriptable\n"
     ]
    },
    {
     "name": "stdout",
     "output_type": "stream",
     "text": [
      "4o55 Featurization Failed\n",
      "4oas Featurization Failed\n",
      "4no6 Featurization Failed\n",
      "5mty Featurization Failed\n"
     ]
    },
    {
     "name": "stderr",
     "output_type": "stream",
     "text": [
      "Failed to featurize datapoint 0, Nc1ncnc2c1ncn2C1OC(C(=O)N2CC[NH+](CC(=O)Nc3cccc4c3CNC4=O)CC2)C(O)C1O. Appending empty array\n",
      "Exception message: 'NoneType' object is not subscriptable\n"
     ]
    },
    {
     "name": "stdout",
     "output_type": "stream",
     "text": [
      "4tk5 Featurization Failed\n",
      "6bir Featurization Failed\n",
      "2y1d Featurization Failed\n",
      "1maw Featurization Failed\n"
     ]
    },
    {
     "name": "stderr",
     "output_type": "stream",
     "text": [
      "Failed to featurize datapoint 0, CC(C=CC=C(C)Cc1cccc2ccc(C)cc12)=CC(=O)[O-]. Appending empty array\n",
      "Exception message: 'NoneType' object is not subscriptable\n"
     ]
    },
    {
     "name": "stdout",
     "output_type": "stream",
     "text": [
      "4poj Featurization Failed\n",
      "5nyz Featurization Failed\n",
      "6afr Featurization Failed\n"
     ]
    },
    {
     "name": "stderr",
     "output_type": "stream",
     "text": [
      "Failed to featurize datapoint 0, N=CC1(NC(=O)C2CC(S(=O)(=O)c3ccccc3C(F)(F)F)C[NH2+]2)CC1. Appending empty array\n",
      "Exception message: 'NoneType' object is not subscriptable\n"
     ]
    },
    {
     "name": "stdout",
     "output_type": "stream",
     "text": [
      "4bs5 Featurization Failed\n"
     ]
    },
    {
     "name": "stderr",
     "output_type": "stream",
     "text": [
      "Failed to featurize datapoint 0, COC1CCOC2(C)Oc3c(C)c(O)c4c(=O)c(c5oc6cccc(OCCCC[NH+]7CC[NH+](CCn8ccnc8)CC7)c6nc-5c4c3C2=O)NC(=O)C(C)CCCC(C)C(O)C(C)C(O)C(C)C(OC(C)=O)C1C. Appending empty array\n",
      "Exception message: 'NoneType' object is not subscriptable\n"
     ]
    },
    {
     "name": "stdout",
     "output_type": "stream",
     "text": [
      "4kn7 Featurization Failed\n",
      "4rt0 Featurization Failed\n"
     ]
    },
    {
     "name": "stderr",
     "output_type": "stream",
     "text": [
      "Failed to featurize datapoint 0, C=CCOc1cc(C(=O)[O-])c(O)c(I)c1-n1cccc1. Appending empty array\n",
      "Exception message: 'NoneType' object is not subscriptable\n"
     ]
    },
    {
     "name": "stdout",
     "output_type": "stream",
     "text": [
      "5o1e Featurization Failed\n",
      "4u0b Featurization Failed\n",
      "4yrg Featurization Failed\n"
     ]
    },
    {
     "name": "stderr",
     "output_type": "stream",
     "text": [
      "Failed to featurize datapoint 0, CCC1(O)CC2C[NH+](CCc3c([nH]c4ccccc34)C(C(=O)OC)(c3cc4c(cc3OC)N(C)C3C5(CC6(CC)C=CC[NH+]7CCC43C76)OC(=O)N(CCCl)C5=O)C2)C1. Appending empty array\n",
      "Exception message: 'NoneType' object is not subscriptable\n"
     ]
    },
    {
     "name": "stdout",
     "output_type": "stream",
     "text": [
      "1xa5 Featurization Failed\n",
      "5v8h Featurization Failed\n",
      "1fl6 Featurization Failed\n"
     ]
    },
    {
     "name": "stderr",
     "output_type": "stream",
     "text": [
      "Failed to featurize datapoint 0, O=C([O-])CCC(NC(=O)c1cccc(CNc2ccc(C=C3SC(=O)NC3=O)cc2)c1)C(=O)[O-]. Appending empty array\n",
      "Exception message: 'NoneType' object is not subscriptable\n"
     ]
    },
    {
     "name": "stdout",
     "output_type": "stream",
     "text": [
      "2x5o Featurization Failed\n"
     ]
    },
    {
     "name": "stderr",
     "output_type": "stream",
     "text": [
      "Failed to featurize datapoint 0, COc1ccc(S(=O)(=O)Nc2cc(C(=O)[O-])ccc2F)c2ccccc12. Appending empty array\n",
      "Exception message: 'NoneType' object is not subscriptable\n"
     ]
    },
    {
     "name": "stdout",
     "output_type": "stream",
     "text": [
      "5y0g Featurization Failed\n",
      "5ylv Featurization Failed\n"
     ]
    },
    {
     "name": "stderr",
     "output_type": "stream",
     "text": [
      "Failed to featurize datapoint 0, CC(NC(=O)C1CCCN1C(=O)C(CCCNC(N)=[NH2+])NC(=O)C(NC(=O)C([NH3+])CC(=O)[O-])C(C)O)C(=O)N1CCCC1C(=O)[O-]. Appending empty array\n",
      "Exception message: 'NoneType' object is not subscriptable\n"
     ]
    },
    {
     "name": "stdout",
     "output_type": "stream",
     "text": [
      "5t6p Featurization Failed\n",
      "5two Featurization Failed\n"
     ]
    },
    {
     "name": "stderr",
     "output_type": "stream",
     "text": [
      "Failed to featurize datapoint 0, CC(C)[NH+]1CCCC1C(=O)N1CCC(n2cnc3cnc4[nH]ccc4c32)CC1. Appending empty array\n",
      "Exception message: 'NoneType' object is not subscriptable\n"
     ]
    },
    {
     "name": "stdout",
     "output_type": "stream",
     "text": [
      "4e5w Featurization Failed\n"
     ]
    },
    {
     "name": "stderr",
     "output_type": "stream",
     "text": [
      "Failed to featurize datapoint 0, COCC#CCC(NS(=O)(=O)c1ccc(-c2ccc(OC)cc2)cc1)C(=O)[O-]. Appending empty array\n",
      "Exception message: 'NoneType' object is not subscriptable\n"
     ]
    },
    {
     "name": "stdout",
     "output_type": "stream",
     "text": [
      "1hy7 Featurization Failed\n"
     ]
    },
    {
     "name": "stderr",
     "output_type": "stream",
     "text": [
      "Failed to featurize datapoint 0, CCCCC(NC(=O)C(C)NC(=O)C(CCC(=O)[O-])NC(=O)C(Cc1ccccc1)NC(=O)C(CC(C)C)NC(=O)C(NC(=O)C([NH3+])CCCNC(N)=[NH2+])C(C)C)C(N)=O. Appending empty array\n",
      "Exception message: 'NoneType' object is not subscriptable\n"
     ]
    },
    {
     "name": "stdout",
     "output_type": "stream",
     "text": [
      "1bai Featurization Failed\n"
     ]
    },
    {
     "name": "stderr",
     "output_type": "stream",
     "text": [
      "Failed to featurize datapoint 0, CCC(CC)OC1CC(C(=O)[O-])CC([NH3+])C1NC(C)=O. Appending empty array\n",
      "Exception message: 'NoneType' object is not subscriptable\n"
     ]
    },
    {
     "name": "stdout",
     "output_type": "stream",
     "text": [
      "3ti6 Featurization Failed\n"
     ]
    },
    {
     "name": "stderr",
     "output_type": "stream",
     "text": [
      "Failed to featurize datapoint 0, CSCCC(NC(=O)C([NH3+])C(C)C)C(=O)NC(C)C(=O)N1CCCC1C(=O)NC(CCCNC(N)=[NH2+])C(=O)NC(C(=O)NC(CC(C)C)C(=O)NC(C(=O)NC(CC(C)C)C(=O)[O-])C(C)C)C(C)O. Appending empty array\n",
      "Exception message: 'NoneType' object is not subscriptable\n"
     ]
    },
    {
     "name": "stdout",
     "output_type": "stream",
     "text": [
      "5w1w Featurization Failed\n",
      "4xjr Featurization Failed\n"
     ]
    },
    {
     "name": "stderr",
     "output_type": "stream",
     "text": [
      "Failed to featurize datapoint 0, CCCOc1ccc2[nH]cc(CC(NS(=O)(=O)CC)C(=O)NC(CCC(N)=O)C(=O)NCc3ccc(C(N)=[NH2+])cc3)c2c1. Appending empty array\n",
      "Exception message: 'NoneType' object is not subscriptable\n"
     ]
    },
    {
     "name": "stdout",
     "output_type": "stream",
     "text": [
      "1wv7 Featurization Failed\n"
     ]
    },
    {
     "name": "stderr",
     "output_type": "stream",
     "text": [
      "Failed to featurize datapoint 0, CC1(c2cc(NC(=O)c3ccc(C#N)cn3)ccc2F)CC(C(F)(F)F)OC(=[NH2+])N1. Appending empty array\n",
      "Exception message: 'NoneType' object is not subscriptable\n"
     ]
    },
    {
     "name": "stdout",
     "output_type": "stream",
     "text": [
      "4j1f Featurization Failed\n"
     ]
    },
    {
     "name": "stderr",
     "output_type": "stream",
     "text": [
      "Failed to featurize datapoint 0, CNc1nc2c(CC[NH2+]CC3CCCCC3)c3[nH]c(=[NH2+])[nH]c(=O)c3cc2[nH]1. Appending empty array\n",
      "Exception message: 'NoneType' object is not subscriptable\n"
     ]
    },
    {
     "name": "stdout",
     "output_type": "stream",
     "text": [
      "3eos Featurization Failed\n"
     ]
    },
    {
     "name": "stderr",
     "output_type": "stream",
     "text": [
      "Failed to featurize datapoint 0, O=C([O-])C(CCc1ccccc1)CC1(C(=O)NC(Cc2c[nH]c3ccccc23)C(=O)[O-])CCCC1. Appending empty array\n",
      "Exception message: 'NoneType' object is not subscriptable\n"
     ]
    },
    {
     "name": "stdout",
     "output_type": "stream",
     "text": [
      "1thl Featurization Failed\n"
     ]
    },
    {
     "name": "stderr",
     "output_type": "stream",
     "text": [
      "Failed to featurize datapoint 0, [NH3+]C(CC1CCCCC1)C(=O)N1CCCC1C(=O)NCc1cccc(Cl)c1. Appending empty array\n",
      "Exception message: 'NoneType' object is not subscriptable\n"
     ]
    },
    {
     "name": "stdout",
     "output_type": "stream",
     "text": [
      "3dux Featurization Failed\n"
     ]
    },
    {
     "name": "stderr",
     "output_type": "stream",
     "text": [
      "Failed to featurize datapoint 0, OC1NC=CC2=CC(OCC3CC[NH2+]C3)C(Cl)C=C21. Appending empty array\n",
      "Exception message: 'NoneType' object is not subscriptable\n"
     ]
    },
    {
     "name": "stdout",
     "output_type": "stream",
     "text": [
      "3zlx Featurization Failed\n",
      "6ej4 Featurization Failed\n",
      "4yec Featurization Failed\n"
     ]
    },
    {
     "name": "stderr",
     "output_type": "stream",
     "text": [
      "Failed to featurize datapoint 0, O=C([O-])CNC(=O)c1ncc(-c2cccc(Cl)c2)cc1O. Appending empty array\n",
      "Exception message: 'NoneType' object is not subscriptable\n"
     ]
    },
    {
     "name": "stdout",
     "output_type": "stream",
     "text": [
      "5ox6 Featurization Failed\n"
     ]
    },
    {
     "name": "stderr",
     "output_type": "stream",
     "text": [
      "Failed to featurize datapoint 0, CCC(C)C(NC(=O)C(CCCC[NH3+])NC(=O)C(NC(=O)C(C)NC(=O)C(CC(N)=O)NC(=O)C(C)NC(=O)C(NC(=O)C(CCC(=O)[O-])NC(=O)C(CCCC[NH3+])NC(=O)C(Cc1ccccc1)NC(=O)C([NH3+])C(C)O)C(C)C)C(C)C)C(=O)NC(CO)C(=O)NC(C)C(=O)NC(CO)C(=O)NC(CC(C)C)C(=O)NC(CCSC)C(=O)[O-]. Appending empty array\n",
      "Exception message: 'PUGREST.BadRequest: error: '\n"
     ]
    },
    {
     "name": "stdout",
     "output_type": "stream",
     "text": [
      "2mg5 Featurization Failed\n"
     ]
    },
    {
     "name": "stderr",
     "output_type": "stream",
     "text": [
      "Failed to featurize datapoint 0, CC(C)(C)C1Cc2cc(F)ccc2S(=O)(=O)N(CC(O)C(Cc2ccccc2)NC(=O)OC2CCOC2)C1. Appending empty array\n",
      "Exception message: 'NoneType' object is not subscriptable\n",
      "Failed to featurize datapoint 0, None. Appending empty array\n",
      "Exception message: Python argument types in\n",
      "    rdkit.Chem.rdmolfiles.MolToSmiles(NoneType)\n",
      "did not match C++ signature:\n",
      "    MolToSmiles(class RDKit::ROMol mol, bool isomericSmiles=False, bool kekuleSmiles=False, int rootedAtAtom=-1, bool canonical=True, bool allBondsExplicit=False, bool allHsExplicit=False)\n"
     ]
    },
    {
     "name": "stdout",
     "output_type": "stream",
     "text": [
      "4mc2 Featurization Failed\n",
      "4n7h Featurization Failed\n"
     ]
    },
    {
     "name": "stderr",
     "output_type": "stream",
     "text": [
      "Failed to featurize datapoint 0, CSCCC1NC(=O)C(CCC(=O)[O-])NC(=O)C(Cc2ccc(O)cc2)NC(=O)C(CO)NC(=O)C(CC(=O)[O-])NC(=O)C(C)NC(=O)CNC(=O)C([NH3+])CSSCC(C(=O)[O-])NC(=O)C(CCCC[NH3+])NC(=O)C(CCCNC(N)=[NH2+])NC(=O)C(C(C)C)NC(=O)CNC(=O)C(CC(=O)[O-])NC(=O)C(CCC(=O)[O-])NC(=O)C(CCC(=O)[O-])NC1=O. Appending empty array\n",
      "Exception message: 'NoneType' object is not subscriptable\n"
     ]
    },
    {
     "name": "stdout",
     "output_type": "stream",
     "text": [
      "3g5y Featurization Failed\n",
      "4b4m Featurization Failed\n"
     ]
    },
    {
     "name": "stderr",
     "output_type": "stream",
     "text": [
      "Failed to featurize datapoint 0, CC(C)C(NC(=O)C(Cc1ccc(O)cc1)NC(=O)C(CCCC[NH3+])NC(=O)C(CCCCNC(=O)C(F)(F)F)NC(=O)C(CCC(=O)[O-])NC(=O)C(Cc1ccccc1)NC(=O)C(CCC(=O)[O-])NC(=O)C[NH3+])C(=O)[O-]. Appending empty array\n",
      "Exception message: 'NoneType' object is not subscriptable\n"
     ]
    },
    {
     "name": "stdout",
     "output_type": "stream",
     "text": [
      "5fyq Featurization Failed\n"
     ]
    },
    {
     "name": "stderr",
     "output_type": "stream",
     "text": [
      "Failed to featurize datapoint 0, CCCOC1(C(=O)[O-])CC(OC2(C(=O)[O-])CC(O)C(O)C(C(O)CO)O2)C(O)C(C(O)CO)O1. Appending empty array\n",
      "Exception message: 'NoneType' object is not subscriptable\n"
     ]
    },
    {
     "name": "stdout",
     "output_type": "stream",
     "text": [
      "3hzv Featurization Failed\n",
      "1ntk Featurization Failed\n",
      "2p99 Featurization Failed\n"
     ]
    },
    {
     "name": "stderr",
     "output_type": "stream",
     "text": [
      "Failed to featurize datapoint 0, O=C([O-])C(=O)CC(=O)c1c(F)cccc1F. Appending empty array\n",
      "Exception message: 'NoneType' object is not subscriptable\n"
     ]
    },
    {
     "name": "stdout",
     "output_type": "stream",
     "text": [
      "6dko Featurization Failed\n",
      "1t29 Featurization Failed\n",
      "5w4s Featurization Failed\n",
      "5ceo Featurization Failed\n"
     ]
    },
    {
     "name": "stderr",
     "output_type": "stream",
     "text": [
      "Failed to featurize datapoint 0, O=C(NCCOc1ccccc1)c1nc(C2CCCN2C(=O)CCc2ccccc2Cl)[nH]c(=O)c1O. Appending empty array\n",
      "Exception message: 'NoneType' object is not subscriptable\n"
     ]
    },
    {
     "name": "stdout",
     "output_type": "stream",
     "text": [
      "5wa7 Featurization Failed\n"
     ]
    },
    {
     "name": "stderr",
     "output_type": "stream",
     "text": [
      "Failed to featurize datapoint 0, CC([NH3+])C(=O)NC(CC(N)=O)C(=O)N1CCCC1C(=O)NC(Cc1c[nH]cn1)C(=O)NCC(=O)NC(C)C(=O)NC(C)C(=O)NC(CCCNC(N)=[NH2+])C(=O)NC(C)C(=O)NC(CCC(=O)[O-])C(=O)NC(C(=O)NC(Cc1ccc(O)cc1)C(=O)[O-])C(C)C. Appending empty array\n",
      "Exception message: 'NoneType' object is not subscriptable\n"
     ]
    },
    {
     "name": "stdout",
     "output_type": "stream",
     "text": [
      "4erz Featurization Failed\n"
     ]
    },
    {
     "name": "stderr",
     "output_type": "stream",
     "text": [
      "Failed to featurize datapoint 0, CC(=O)NC1C(O)CC(OCC2OC(O)C(O)C(O)C2O)(C(=O)[O-])OC1C(O)C(O)CO. Appending empty array\n",
      "Exception message: 'NoneType' object is not subscriptable\n"
     ]
    },
    {
     "name": "stdout",
     "output_type": "stream",
     "text": [
      "4yw2 Featurization Failed\n"
     ]
    },
    {
     "name": "stderr",
     "output_type": "stream",
     "text": [
      "Failed to featurize datapoint 0, CC(=O)N1CC(O)CC1C(=O)NCc1ccc(-c2cnco2)cc1. Appending empty array\n",
      "Exception message: 'NoneType' object is not subscriptable\n"
     ]
    },
    {
     "name": "stdout",
     "output_type": "stream",
     "text": [
      "4bks Featurization Failed\n"
     ]
    },
    {
     "name": "stderr",
     "output_type": "stream",
     "text": [
      "Failed to featurize datapoint 0, CC([NH3+])C(=O)NC(Cc1ccc(O)cc1)C(=O)NC(CCCC[NH3+])C(=O)NC(CCC(N)=O)C(=O)NC(Cc1ccccc1)C(=O)NC(CO)C(=O)NC(C(=O)[O-])C(C)C. Appending empty array\n",
      "Exception message: 'NoneType' object is not subscriptable\n"
     ]
    },
    {
     "name": "stdout",
     "output_type": "stream",
     "text": [
      "5hf1 Featurization Failed\n"
     ]
    },
    {
     "name": "stderr",
     "output_type": "stream",
     "text": [
      "Failed to featurize datapoint 0, [NH3+]CC1C(O)C(O)C2C(O)CC[NH+]12. Appending empty array\n",
      "Exception message: 'NoneType' object is not subscriptable\n"
     ]
    },
    {
     "name": "stdout",
     "output_type": "stream",
     "text": [
      "2x09 Featurization Failed\n"
     ]
    },
    {
     "name": "stderr",
     "output_type": "stream",
     "text": [
      "Failed to featurize datapoint 0, COc1ccc(C2(SCC([NH3+])C(=O)[O-])c3ccccc3CCc3ccccc32)cc1. Appending empty array\n",
      "Exception message: 'NoneType' object is not subscriptable\n"
     ]
    },
    {
     "name": "stdout",
     "output_type": "stream",
     "text": [
      "5zo7 Featurization Failed\n"
     ]
    },
    {
     "name": "stderr",
     "output_type": "stream",
     "text": [
      "Failed to featurize datapoint 0, COc1cc2ncnc(Nc3cc(NC(=O)c4ccnc(N5CCOCC5)c4)ccc3C)c2cc1OCC[NH+]1CCCC1. Appending empty array\n",
      "Exception message: 'NoneType' object is not subscriptable\n"
     ]
    },
    {
     "name": "stdout",
     "output_type": "stream",
     "text": [
      "2bak Featurization Failed\n"
     ]
    },
    {
     "name": "stderr",
     "output_type": "stream",
     "text": [
      "Failed to featurize datapoint 0, CCC(C)C(NC(=O)C(CCC(=O)[O-])NC(=O)C(CO)NC(=O)C([NH3+])CCCNC(N)=[NH2+])C(=O)NC(C(=O)NC(CO)C(=O)NC(C(=O)NC(C)C(=O)N1CC=CC1C(=O)NC(CO)C(=O)NC(CO)C(=O)NC(Cc1c[nH]c2ccccc12)C(=O)NC(C(=O)NC(C(=O)N1CCCC1C(=O)NCC(=O)N1CCCC1C(=O)[O-])C(C)C)C(C)C)C(C)O)C(C)CC. Appending empty array\n",
      "Exception message: 'PUGREST.BadRequest: error: '\n"
     ]
    },
    {
     "name": "stdout",
     "output_type": "stream",
     "text": [
      "3bim Featurization Failed\n"
     ]
    },
    {
     "name": "stderr",
     "output_type": "stream",
     "text": [
      "Failed to featurize datapoint 0, O=C(NN=Cc1cc(O)c(O)c(O)c1)c1cc(O)c(O)c(O)c1. Appending empty array\n",
      "Exception message: 'NoneType' object is not subscriptable\n"
     ]
    },
    {
     "name": "stdout",
     "output_type": "stream",
     "text": [
      "5ega Featurization Failed\n"
     ]
    },
    {
     "name": "stderr",
     "output_type": "stream",
     "text": [
      "Failed to featurize datapoint 0, CCC([NH3+])C(=O)NC(C(=O)NC(Cc1ccccc1)C(=O)NC1(C)CCCCCC=CCCCCC(C)(C(=O)NC(CCC(N)=O)C(=O)NC(CC(N)=O)C(=O)[O-])NC(=O)C(CC(C)C)NC(=O)C(CC(C)C)NC(=O)C(CCCNC(N)=[NH2+])NC(=O)C(Cc2c[nH]c3ccccc23)NC(=O)C(CC(C)C)NC(=O)C(CC(N)=O)NC1=O)C(C)O. Appending empty array\n",
      "Exception message: 'PUGREST.BadRequest: error: '\n"
     ]
    },
    {
     "name": "stdout",
     "output_type": "stream",
     "text": [
      "3v3b Featurization Failed\n",
      "2z4r Featurization Failed\n",
      "1ba8 Featurization Failed\n"
     ]
    },
    {
     "name": "stderr",
     "output_type": "stream",
     "text": [
      "Failed to featurize datapoint 0, O=NC(=O)C=Cc1ccc(N=Nc2ccccc2)cc1. Appending empty array\n",
      "Exception message: 'NoneType' object is not subscriptable\n"
     ]
    },
    {
     "name": "stdout",
     "output_type": "stream",
     "text": [
      "5g3w Featurization Failed\n"
     ]
    },
    {
     "name": "stderr",
     "output_type": "stream",
     "text": [
      "Failed to featurize datapoint 0, C[NH+](C)CCCNS(=O)(=O)c1ccc(Nc2nccc(-c3c[nH]c4cccn[n+]34)n2)cc1. Appending empty array\n",
      "Exception message: 'NoneType' object is not subscriptable\n"
     ]
    },
    {
     "name": "stdout",
     "output_type": "stream",
     "text": [
      "1urw Featurization Failed\n"
     ]
    },
    {
     "name": "stderr",
     "output_type": "stream",
     "text": [
      "Failed to featurize datapoint 0, [NH2+]=c1[nH]c(=O)c2[nH]cc(C[NH+]3CC(O)C(CO)C3)c2[nH]1. Appending empty array\n",
      "Exception message: 'NoneType' object is not subscriptable\n"
     ]
    },
    {
     "name": "stdout",
     "output_type": "stream",
     "text": [
      "5etj Featurization Failed\n"
     ]
    },
    {
     "name": "stderr",
     "output_type": "stream",
     "text": [
      "Failed to featurize datapoint 0, O=S(=O)(CC[NH2+]CCCO)c1ccc(Nc2nc(OCC3CCCCC3)c3[nH]cnc3n2)cc1. Appending empty array\n",
      "Exception message: 'NoneType' object is not subscriptable\n"
     ]
    },
    {
     "name": "stdout",
     "output_type": "stream",
     "text": [
      "2g9x Featurization Failed\n",
      "5wzt Featurization Failed\n",
      "6g15 Featurization Failed\n"
     ]
    },
    {
     "name": "stderr",
     "output_type": "stream",
     "text": [
      "Failed to featurize datapoint 0, CSCCC(NC(=O)CNC(=O)C(CCCNC(N)=[NH2+])NC(=O)C([NH3+])CCCNC(N)=[NH2+])C(=O)O. Appending empty array\n",
      "Exception message: 'NoneType' object is not subscriptable\n"
     ]
    },
    {
     "name": "stdout",
     "output_type": "stream",
     "text": [
      "3c89 Featurization Failed\n"
     ]
    },
    {
     "name": "stderr",
     "output_type": "stream",
     "text": [
      "Failed to featurize datapoint 0, CCC(C)C(NC(=O)C1CCCN1C(=O)C(CCC(=O)[O-])NC(=O)C(Cc1ccc(O)cc1)NC(=O)C(CC(=O)[O-])NC(=O)CCCCCCCCCCCNC(=O)C(Cc1cccs1)NC(=O)C1CCCCN1C(=O)C([NH3+])CCCNC(N)=[NH2+])C(=O)N1CCCC1C(=O)NC(CCC(=O)[O-])C(=O)NC(CCC(=O)[O-])C(=O)NC(C)C(=O)[O-]. Appending empty array\n",
      "Exception message: 'NoneType' object is not subscriptable\n"
     ]
    },
    {
     "name": "stdout",
     "output_type": "stream",
     "text": [
      "1eoj Featurization Failed\n"
     ]
    },
    {
     "name": "stderr",
     "output_type": "stream",
     "text": [
      "Failed to featurize datapoint 0, CC(C)CC1NC(=O)C(C)NC(=O)C(CCCNC(N)=[NH2+])NC(=O)C(CO)NC(=O)C(CO)NC(=O)C(CC(C)C)NC(=O)C(CC(N)=O)NC(=O)C(Cc2ccc(O)cc2)NC(=O)C(CCC(N)=O)NC(=O)C([NH3+])CSSCC(C(=O)[O-])NC(=O)C(CCCC[NH3+])NC1=O. Appending empty array\n",
      "Exception message: 'PUGREST.BadRequest: error: '\n"
     ]
    },
    {
     "name": "stdout",
     "output_type": "stream",
     "text": [
      "4gw5 Featurization Failed\n"
     ]
    },
    {
     "name": "stderr",
     "output_type": "stream",
     "text": [
      "Failed to featurize datapoint 0, Cc1ncc(C[NH+]2CSC(CCO)C2C)c(N)n1. Appending empty array\n",
      "Exception message: 'NoneType' object is not subscriptable\n"
     ]
    },
    {
     "name": "stdout",
     "output_type": "stream",
     "text": [
      "2lh8 Featurization Failed\n",
      "6apv Featurization Failed\n"
     ]
    },
    {
     "name": "stderr",
     "output_type": "stream",
     "text": [
      "Failed to featurize datapoint 0, CC(C)(c1ccc(O)cc1)c1ccc(OCc2cccc(COc3ccc(C(N)=[NH2+])cc3)c2)cc1. Appending empty array\n",
      "Exception message: 'NoneType' object is not subscriptable\n"
     ]
    },
    {
     "name": "stdout",
     "output_type": "stream",
     "text": [
      "5x33 Featurization Failed\n"
     ]
    },
    {
     "name": "stderr",
     "output_type": "stream",
     "text": [
      "Failed to featurize datapoint 0, O=C1CC(C[NH2+]CCCON=Cc2cccc(C(=O)[O-])c2)=NC(=O)N1. Appending empty array\n",
      "Exception message: 'NoneType' object is not subscriptable\n"
     ]
    },
    {
     "name": "stdout",
     "output_type": "stream",
     "text": [
      "3fci Featurization Failed\n",
      "5jmp Featurization Failed\n"
     ]
    },
    {
     "name": "stderr",
     "output_type": "stream",
     "text": [
      "Failed to featurize datapoint 0, CC(C)(C)NC(=O)C1CC2CCCCC2C[NH+]1CC(O)C(Cc1ccccc1)NC(=O)C(NC(=O)COc1cccnc1)C(C)(C)S(C)(=O)=O. Appending empty array\n",
      "Exception message: 'NoneType' object is not subscriptable\n"
     ]
    },
    {
     "name": "stdout",
     "output_type": "stream",
     "text": [
      "2f3k Featurization Failed\n",
      "4f70 Featurization Failed\n"
     ]
    },
    {
     "name": "stderr",
     "output_type": "stream",
     "text": [
      "Failed to featurize datapoint 0, Nc1ncnc2c1ncn2C1OC(CO)C(NC(=O)C([NH3+])CO)C1O. Appending empty array\n",
      "Exception message: 'NoneType' object is not subscriptable\n"
     ]
    },
    {
     "name": "stdout",
     "output_type": "stream",
     "text": [
      "3pd2 Featurization Failed\n"
     ]
    },
    {
     "name": "stderr",
     "output_type": "stream",
     "text": [
      "Failed to featurize datapoint 0, CC(NC(=O)C(C)NC(=O)C(CCC(=O)[O-])NC(=O)C(Cc1ccccc1)NC(=O)CNC(=O)CNC(=O)C(Cc1ccccc1)NC(=O)C(CC(=O)[O-])NC(=O)C([NH3+])CC(=O)[O-])C(=O)NC(CCC(=O)[O-])C(=O)NC(C(=O)O)C(C)O. Appending empty array\n",
      "Exception message: 'NoneType' object is not subscriptable\n"
     ]
    },
    {
     "name": "stdout",
     "output_type": "stream",
     "text": [
      "1om9 Featurization Failed\n"
     ]
    },
    {
     "name": "stderr",
     "output_type": "stream",
     "text": [
      "Failed to featurize datapoint 0, CCC(C)C(NC(=O)C(CCCC[NH3+])NC(=O)C1CCCN1C(=O)C(CCC(=O)[O-])NC(=O)C(CO)NC(=O)C(CCCNC(N)=[NH2+])NC(=O)C(C)NC(=O)C(CS)NC(=O)C[NH3+])C(=O)NC(CC(C)C)C(=O)NC(C(=O)[O-])C(C)O. Appending empty array\n",
      "Exception message: 'NoneType' object is not subscriptable\n"
     ]
    },
    {
     "name": "stdout",
     "output_type": "stream",
     "text": [
      "3uvk Featurization Failed\n",
      "1hv5 Featurization Failed\n"
     ]
    },
    {
     "name": "stderr",
     "output_type": "stream",
     "text": [
      "Failed to featurize datapoint 0, CC(C)(C)C1C(O)=C(C2=NS(=O)(=O)c3c(CNS(C)(=O)=O)cccc32)C(=O)N1Cc1ccc(F)c(Cl)c1. Appending empty array\n",
      "Exception message: 'NoneType' object is not subscriptable\n"
     ]
    },
    {
     "name": "stdout",
     "output_type": "stream",
     "text": [
      "3d5m Featurization Failed\n"
     ]
    },
    {
     "name": "stderr",
     "output_type": "stream",
     "text": [
      "Failed to featurize datapoint 0, Cc1cc2ccnc(NC3CC4CCC(C3)[NH+]4C)c2[nH]c1=O. Appending empty array\n",
      "Exception message: 'NoneType' object is not subscriptable\n"
     ]
    },
    {
     "name": "stdout",
     "output_type": "stream",
     "text": [
      "6hdn Featurization Failed\n"
     ]
    },
    {
     "name": "stderr",
     "output_type": "stream",
     "text": [
      "Failed to featurize datapoint 0, CSCCC(NC(=O)C(CCCC[NH3+])NC(=O)C1CCCN1C(=O)C(CCC(=O)[O-])NC(=O)C(CO)NC(=O)C(CCCNC(N)=[NH2+])NC(=O)C(C)NC(=O)C(CS)NC(=O)CNC(=O)C(NC(=O)C1CCCN1C(=O)C(CC(N)=O)NC(=O)C([NH3+])C(C)C)C(C)O)C(=O)NC(CO)C(=O)[O-]. Appending empty array\n",
      "Exception message: 'NoneType' object is not subscriptable\n"
     ]
    },
    {
     "name": "stdout",
     "output_type": "stream",
     "text": [
      "4ery Featurization Failed\n"
     ]
    },
    {
     "name": "stderr",
     "output_type": "stream",
     "text": [
      "Failed to featurize datapoint 0, CC(NC(=O)C(NC(=O)C([NH3+])CCC(N)=O)C(C)O)C(=O)NC(CCCNC(N)=[NH2+])C(=O)NC(CCCC[NH+](C)C)C(=O)NC(C=O)CO. Appending empty array\n",
      "Exception message: 'NoneType' object is not subscriptable\n"
     ]
    },
    {
     "name": "stdout",
     "output_type": "stream",
     "text": [
      "1kna Featurization Failed\n"
     ]
    },
    {
     "name": "stderr",
     "output_type": "stream",
     "text": [
      "Failed to featurize datapoint 0, COc1ccc(-c2c(-c3cc(C(C)C)c(O)cc3O)noc2NC(=O)C2=CC2)cc1. Appending empty array\n",
      "Exception message: 'NoneType' object is not subscriptable\n"
     ]
    },
    {
     "name": "stdout",
     "output_type": "stream",
     "text": [
      "4lwi Featurization Failed\n"
     ]
    },
    {
     "name": "stderr",
     "output_type": "stream",
     "text": [
      "Failed to featurize datapoint 0, CCC(C)C(NC(=O)C(CC(C)C)NC(=O)C(CCCNC(N)=[NH2+])NC(=O)c1nc(C)n(-c2ccc(Cl)cc2)n1)C(=O)NC(Cc1ccc(F)cc1)C(N)=O. Appending empty array\n",
      "Exception message: 'NoneType' object is not subscriptable\n"
     ]
    },
    {
     "name": "stdout",
     "output_type": "stream",
     "text": [
      "2v22 Featurization Failed\n",
      "4tpm Featurization Failed\n"
     ]
    },
    {
     "name": "stderr",
     "output_type": "stream",
     "text": [
      "Failed to featurize datapoint 0, CC(C)C(NC(=O)C(CCC(=O)[O-])NC(=O)C(CC(=O)[O-])NC(=O)OCc1ccccc1)C(=O)NC(C=O)CC(=O)[O-]. Appending empty array\n",
      "Exception message: 'NoneType' object is not subscriptable\n"
     ]
    },
    {
     "name": "stdout",
     "output_type": "stream",
     "text": [
      "1f9e Featurization Failed\n"
     ]
    },
    {
     "name": "stderr",
     "output_type": "stream",
     "text": [
      "Failed to featurize datapoint 0, Cn1cc(-c2cccc(C(F)(F)F)c2)c2sc(C(=[NH2+])NC3CCS(=O)(=O)CC3)cc2c1=O. Appending empty array\n",
      "Exception message: 'NoneType' object is not subscriptable\n"
     ]
    },
    {
     "name": "stdout",
     "output_type": "stream",
     "text": [
      "4uiy Featurization Failed\n"
     ]
    },
    {
     "name": "stderr",
     "output_type": "stream",
     "text": [
      "Failed to featurize datapoint 0, OC1C[NH2+]CC(O)C(O)C1O. Appending empty array\n",
      "Exception message: 'NoneType' object is not subscriptable\n"
     ]
    },
    {
     "name": "stdout",
     "output_type": "stream",
     "text": [
      "3ril Featurization Failed\n"
     ]
    },
    {
     "name": "stderr",
     "output_type": "stream",
     "text": [
      "Failed to featurize datapoint 0, CCC([NH3+])C(=O)N1CCCC1C(=O)NCc1ccc(C(N)=[NH2+])cc1. Appending empty array\n",
      "Exception message: 'NoneType' object is not subscriptable\n"
     ]
    },
    {
     "name": "stdout",
     "output_type": "stream",
     "text": [
      "2zgx Featurization Failed\n"
     ]
    },
    {
     "name": "stderr",
     "output_type": "stream",
     "text": [
      "Failed to featurize datapoint 0, CC(=O)NC(CCCC[NH3+])C(=O)NC(C=O)CCCNC(N)=[NH2+]. Appending empty array\n",
      "Exception message: 'NoneType' object is not subscriptable\n"
     ]
    },
    {
     "name": "stdout",
     "output_type": "stream",
     "text": [
      "5yof Featurization Failed\n"
     ]
    },
    {
     "name": "stderr",
     "output_type": "stream",
     "text": [
      "Failed to featurize datapoint 0, CC(C)C1NC(=O)C(NC(=O)C(Cc2ccc(O)cc2)NC(=O)C2CCCN2C(=O)CC[NH3+])CSSCC(C(N)=O)NC(=O)C(CO)NC(=O)C(Cc2c[nH]c3ccccc23)NC(=O)C(CO)NC(=O)CCNC(=O)C(CCCNC(N)=[NH2+])NC(=O)C(Cc2ccc(O)cc2)NC1=O. Appending empty array\n",
      "Exception message: 'NoneType' object is not subscriptable\n"
     ]
    },
    {
     "name": "stdout",
     "output_type": "stream",
     "text": [
      "5jr2 Featurization Failed\n"
     ]
    },
    {
     "name": "stderr",
     "output_type": "stream",
     "text": [
      "Failed to featurize datapoint 0, CC(=O)NC(CC(=O)[O-])C(=O)NC(CCC(=O)[O-])C(=O)NC(C(=O)NC(CC(=O)[O-])C(O)CCCc1ccccc1)C(C)C. Appending empty array\n",
      "Exception message: 'NoneType' object is not subscriptable\n"
     ]
    },
    {
     "name": "stdout",
     "output_type": "stream",
     "text": [
      "1rhk Featurization Failed\n",
      "3ml4 Featurization Failed\n"
     ]
    },
    {
     "name": "stderr",
     "output_type": "stream",
     "text": [
      "Failed to featurize datapoint 0, NC(=[NH2+])NCCC1OC(n2cnc3c(N)ncnc32)C(O)C1O. Appending empty array\n",
      "Exception message: 'NoneType' object is not subscriptable\n"
     ]
    },
    {
     "name": "stdout",
     "output_type": "stream",
     "text": [
      "5fwa Featurization Failed\n",
      "2z92 Featurization Failed\n",
      "6q74 Featurization Failed\n"
     ]
    },
    {
     "name": "stderr",
     "output_type": "stream",
     "text": [
      "Failed to featurize datapoint 0, Cc1cc(C(=O)NS(=O)(=O)c2ccc(NC(CC[NH+](C)C)CSc3ccccc3)c([N+](=O)[O-])c2)ccc1-c1cccc2c(CCCOc3cccc4ccccc34)c(C(=O)[O-])nn12. Appending empty array\n",
      "Exception message: 'NoneType' object is not subscriptable\n"
     ]
    },
    {
     "name": "stdout",
     "output_type": "stream",
     "text": [
      "3wiy Featurization Failed\n"
     ]
    },
    {
     "name": "stderr",
     "output_type": "stream",
     "text": [
      "Failed to featurize datapoint 0, CC(=O)NCCCCC(NC(=O)C(CCCNC(N)=[NH2+])NC(=O)C1CCCN1C(=O)C(C)[NH3+])C(=O)NC(CCC(N)=O)C(=O)NC(CC(C)C)C(=O)NC(C)C(=O)NC(C(=O)NC(CCCC[NH3+])C(=O)[O-])C(C)O. Appending empty array\n",
      "Exception message: 'NoneType' object is not subscriptable\n"
     ]
    },
    {
     "name": "stdout",
     "output_type": "stream",
     "text": [
      "5hjc Featurization Failed\n"
     ]
    },
    {
     "name": "stderr",
     "output_type": "stream",
     "text": [
      "Failed to featurize datapoint 0, Cn1nnc2cc(C(CC(=O)[O-])c3ccc(Cl)cc3)ccc21. Appending empty array\n",
      "Exception message: 'NoneType' object is not subscriptable\n"
     ]
    },
    {
     "name": "stdout",
     "output_type": "stream",
     "text": [
      "5fnr Featurization Failed\n",
      "4q3r Featurization Failed\n"
     ]
    },
    {
     "name": "stderr",
     "output_type": "stream",
     "text": [
      "Failed to featurize datapoint 0, COc1cc(-c2n[nH]c3ccc(CC(C#N)C(=O)NC(C)(C)CO)cc23)cc(OC)c1OC. Appending empty array\n",
      "Exception message: 'NoneType' object is not subscriptable\n"
     ]
    },
    {
     "name": "stdout",
     "output_type": "stream",
     "text": [
      "4jg8 Featurization Failed\n"
     ]
    },
    {
     "name": "stderr",
     "output_type": "stream",
     "text": [
      "Failed to featurize datapoint 0, CC(C)CC(NC(=O)C(CC(N)=O)NC(=O)C(CO)NC(=O)C(CO)NC(=O)C(CC(C)C)NC(=O)C([NH3+])CCCNC(N)=[NH2+])C(=O)[O-]. Appending empty array\n",
      "Exception message: 'NoneType' object is not subscriptable\n"
     ]
    },
    {
     "name": "stdout",
     "output_type": "stream",
     "text": [
      "4eqf Featurization Failed\n",
      "4nzm Featurization Failed\n",
      "4ps7 Featurization Failed\n"
     ]
    },
    {
     "name": "stderr",
     "output_type": "stream",
     "text": [
      "Failed to featurize datapoint 0, CC1=C(C(=O)[O-])NC(C(C=O)NC(=O)Cc2cccs2)SC1. Appending empty array\n",
      "Exception message: 'NoneType' object is not subscriptable\n"
     ]
    },
    {
     "name": "stdout",
     "output_type": "stream",
     "text": [
      "4ivk Featurization Failed\n"
     ]
    },
    {
     "name": "stderr",
     "output_type": "stream",
     "text": [
      "Failed to featurize datapoint 0, CC#CCOc1ccc(C(=O)NC(C(=O)NO)C(C)(C)[NH3+])cc1. Appending empty array\n",
      "Exception message: 'NoneType' object is not subscriptable\n"
     ]
    },
    {
     "name": "stdout",
     "output_type": "stream",
     "text": [
      "5u3b Featurization Failed\n",
      "1xz8 Featurization Failed\n"
     ]
    },
    {
     "name": "stderr",
     "output_type": "stream",
     "text": [
      "Failed to featurize datapoint 0, CC(C)CC(NC(=O)C1CCCN1C(=O)C1CCCN1C(=O)C([NH3+])CCC(=O)[O-])C(=O)NC(CC(N)=O)C(=O)N1CCCC1C(=O)NC(Cc1c[nH]cn1)C(=O)NCC(=O)NC(CO)C(=O)NC(C)C(=O)NC(CCCNC(N)=[NH2+])C(=O)NC(C)C(=O)NC(CCC(=O)[O-])C(=O)NC(C(=O)NC(Cc1c[nH]cn1)C(=O)NC(C)C(=O)[O-])C(C)C. Appending empty array\n",
      "Exception message: 'NoneType' object is not subscriptable\n"
     ]
    },
    {
     "name": "stdout",
     "output_type": "stream",
     "text": [
      "4esg Featurization Failed\n"
     ]
    },
    {
     "name": "stderr",
     "output_type": "stream",
     "text": [
      "Failed to featurize datapoint 0, CC(NC(=O)C(CCC(N)=O)NC(=O)CNC(=O)C(NC(=O)C1CCCN1C(=O)C([NH3+])Cc1c[nH]cn1)C(C)C)C(=O)NC(CC(=O)[O-])C(=O)NC(Cc1ccc(O)cc1)C(=O)NC(Cc1ccccc1)C(=O)NC(CCC(=O)[O-])C(=O)NC(Cc1ccc(O)cc1)C(=O)[O-]. Appending empty array\n",
      "Exception message: 'NoneType' object is not subscriptable\n"
     ]
    },
    {
     "name": "stdout",
     "output_type": "stream",
     "text": [
      "4pra Featurization Failed\n"
     ]
    },
    {
     "name": "stderr",
     "output_type": "stream",
     "text": [
      "Failed to featurize datapoint 0, CCC(C)C1NC(=O)C2CCCN2C(=O)C2CCCN2C(=O)C(C(C)CC)NC(=O)C(CO)NC(=O)CN(CCCC[NH3+])C(=O)C(C(C)O)NC(=O)C(NC(=O)C(CCCNC(N)=[NH2+])NC(=O)C[NH3+])CSSCC(C(=O)NC(Cc2ccccc2)C(=O)[O-])NC1=O. Appending empty array\n",
      "Exception message: 'NoneType' object is not subscriptable\n"
     ]
    },
    {
     "name": "stdout",
     "output_type": "stream",
     "text": [
      "4hgc Featurization Failed\n",
      "4o2a Featurization Failed\n"
     ]
    },
    {
     "name": "stderr",
     "output_type": "stream",
     "text": [
      "Failed to featurize datapoint 0, COc1c(NC(=O)c2ccc(NC(=O)c3ccc(N4C(=O)CC(NC(=O)c5ccc(NC(=O)C(C)=Cc6ccc(O)cc6)cc5)C4=O)cc3)c(OC)c2O)ccc(C(=O)[O-])c1O. Appending empty array\n",
      "Exception message: 'NoneType' object is not subscriptable\n"
     ]
    },
    {
     "name": "stdout",
     "output_type": "stream",
     "text": [
      "6hai Featurization Failed\n"
     ]
    },
    {
     "name": "stderr",
     "output_type": "stream",
     "text": [
      "Failed to featurize datapoint 0, CN=C1C=NN(C)C(=O)C1Cl. Appending empty array\n",
      "Exception message: 'NoneType' object is not subscriptable\n"
     ]
    },
    {
     "name": "stdout",
     "output_type": "stream",
     "text": [
      "5mli Featurization Failed\n",
      "5ael Featurization Failed\n"
     ]
    },
    {
     "name": "stderr",
     "output_type": "stream",
     "text": [
      "Failed to featurize datapoint 0, O=C(NC(Cc1ccccc1)C(O)C[NH2+]Cc1cccc(C(F)(F)F)c1)c1cc(N2CCCC2=O)c(=O)n(C2CCCC2)c1. Appending empty array\n",
      "Exception message: 'NoneType' object is not subscriptable\n"
     ]
    },
    {
     "name": "stdout",
     "output_type": "stream",
     "text": [
      "4k9h Featurization Failed\n"
     ]
    },
    {
     "name": "stderr",
     "output_type": "stream",
     "text": [
      "Failed to featurize datapoint 0, CC([NH3+])C(=O)NC(CCCNC(N)=[NH2+])C(=O)NC(C(=O)NC(CCCCC(C)(C)C)C(N)=O)C(C)O. Appending empty array\n",
      "Exception message: 'NoneType' object is not subscriptable\n"
     ]
    },
    {
     "name": "stdout",
     "output_type": "stream",
     "text": [
      "5c0m Featurization Failed\n",
      "3qx8 Featurization Failed\n",
      "3jq7 Featurization Failed\n"
     ]
    },
    {
     "name": "stderr",
     "output_type": "stream",
     "text": [
      "Failed to featurize datapoint 0, COc1cc(C(N)=O)ccc1NC(=O)C1[NH2+]C(CC(C)(C)C)C2(C(=O)Nc3cc(Cl)sc32)C1c1cccc(Cl)c1F. Appending empty array\n",
      "Exception message: 'NoneType' object is not subscriptable\n"
     ]
    },
    {
     "name": "stdout",
     "output_type": "stream",
     "text": [
      "4lwv Featurization Failed\n"
     ]
    },
    {
     "name": "stderr",
     "output_type": "stream",
     "text": [
      "Failed to featurize datapoint 0, CCC(C)C(NC(=O)C1CCCN1C(=O)C(CCC(=O)[O-])NC(=O)C(Cc1ccc(O)cc1)NC(=O)CCC(=O)[O-])C(=O)N1CCCC1C(=O)NC(CCC(=O)[O-])C(=O)NC(CCC(=O)[O-])C(=O)NC(C)C(=O)NC(C)C(N)=O. Appending empty array\n",
      "Exception message: 'NoneType' object is not subscriptable\n"
     ]
    },
    {
     "name": "stdout",
     "output_type": "stream",
     "text": [
      "1ths Featurization Failed\n",
      "3mbp Featurization Failed\n",
      "6c1s Featurization Failed\n"
     ]
    },
    {
     "name": "stderr",
     "output_type": "stream",
     "text": [
      "Failed to featurize datapoint 0, CC(O)C(NC(=O)C1CCC[NH2+]1)C(=O)NC(CCC(=O)[O-])C(=O)NC(C[NH2+]C(Cc1ccccc1)C(=O)NC(CCCNC(N)=[NH2+])C(=O)NC(CCC(=O)[O-])C(=O)[O-])Cc1ccccc1. Appending empty array\n",
      "Exception message: 'NoneType' object is not subscriptable\n"
     ]
    },
    {
     "name": "stdout",
     "output_type": "stream",
     "text": [
      "2er6 Featurization Failed\n"
     ]
    },
    {
     "name": "stderr",
     "output_type": "stream",
     "text": [
      "Failed to featurize datapoint 0, CC(C)CC([NH3+])C(=O)NC(CCC(N)=O)C(=O)NC(CCCNC(N)=[NH2+])C(=O)NC(CO)C(=O)N1CCCC1C(=O)N1CCCC1C(=O)NC(CC(=O)[O-])C(=O)NCC(=O)NC(CCC(N)=O)C(=O)NC(CO)C(=O)NC(Cc1ccccc1)C(=O)NC(CCCNC(N)=[NH2+])C(=O)NC(CO)C(N)=O. Appending empty array\n",
      "Exception message: 'PUGREST.BadRequest: error: '\n"
     ]
    },
    {
     "name": "stdout",
     "output_type": "stream",
     "text": [
      "3twr Featurization Failed\n",
      "3rsb Featurization Failed\n"
     ]
    },
    {
     "name": "stderr",
     "output_type": "stream",
     "text": [
      "Failed to featurize datapoint 0, O=c1ncc2c(-c3ccc(F)cc3F)cc(N3CC[NH2+]CC3)cc2n1-c1c(Cl)cccc1Cl. Appending empty array\n",
      "Exception message: 'NoneType' object is not subscriptable\n"
     ]
    },
    {
     "name": "stdout",
     "output_type": "stream",
     "text": [
      "1m7q Featurization Failed\n"
     ]
    },
    {
     "name": "stderr",
     "output_type": "stream",
     "text": [
      "Failed to featurize datapoint 0, CC(=O)NC1C(O)CC(OC2C(O)C(OC3C(CO)OC(O)C(O)C3O)OC(CO)C2OC2OC(CO)C(O)C(OC3OC(CO)C(O)C(O)C3O)C2NC(C)=O)(C(=O)[O-])OC1C(O)C(O)CO. Appending empty array\n",
      "Exception message: 'NoneType' object is not subscriptable\n"
     ]
    },
    {
     "name": "stdout",
     "output_type": "stream",
     "text": [
      "4x0z Featurization Failed\n",
      "4pz8 Featurization Failed\n",
      "5nhj Featurization Failed\n"
     ]
    },
    {
     "name": "stderr",
     "output_type": "stream",
     "text": [
      "Failed to featurize datapoint 0, CC(=O)NC(Cc1ccc(O)cc1)C(=O)NCC(=O)NC(CCCNC(N)=[NH2+])C(=O)N1CCCC1C(=O)N1CCCC1C(=O)NC(CC(C)C)C(=O)N1CCCC1C(=O)N1CCCC1C(=O)NC(CCCC[NH3+])C(=O)NC(CCC(N)=O)C(=O)NC(CCCC[NH3+])C(=O)NC(CCCNC(N)=[NH2+])C(=O)NC(CCCC[NH3+])C(N)=O. Appending empty array\n",
      "Exception message: 'NoneType' object is not subscriptable\n"
     ]
    },
    {
     "name": "stdout",
     "output_type": "stream",
     "text": [
      "6atv Featurization Failed\n",
      "4j4v Featurization Failed\n"
     ]
    },
    {
     "name": "stderr",
     "output_type": "stream",
     "text": [
      "Failed to featurize datapoint 0, Cc1cc(S(=O)(=O)N(Cc2cccc(C[NH3+])c2)C(C)C(=O)NO)ccc1F. Appending empty array\n",
      "Exception message: 'NoneType' object is not subscriptable\n"
     ]
    },
    {
     "name": "stdout",
     "output_type": "stream",
     "text": [
      "5d1t Featurization Failed\n"
     ]
    },
    {
     "name": "stderr",
     "output_type": "stream",
     "text": [
      "Failed to featurize datapoint 0, CC(COC(N)=O)(C(Nc1c(CO)cc2cc(C(N)=O)ccn12)C(=O)[O-])[SH+](=O)[O-]. Appending empty array\n",
      "Exception message: 'NoneType' object is not subscriptable\n"
     ]
    },
    {
     "name": "stdout",
     "output_type": "stream",
     "text": [
      "3fyz Featurization Failed\n"
     ]
    },
    {
     "name": "stderr",
     "output_type": "stream",
     "text": [
      "Failed to featurize datapoint 0, O=C([O-])c1cccc2c1C(=O)N(c1ccc(O)c(F)c1)C2. Appending empty array\n",
      "Exception message: 'NoneType' object is not subscriptable\n"
     ]
    },
    {
     "name": "stdout",
     "output_type": "stream",
     "text": [
      "5lm6 Featurization Failed\n"
     ]
    },
    {
     "name": "stderr",
     "output_type": "stream",
     "text": [
      "Failed to featurize datapoint 0, Cc1cc(N)c2ccccc2[n+]1C=CCCCCCCCC[n+]1c(C)cc(N)c2ccccc21. Appending empty array\n",
      "Exception message: 'NoneType' object is not subscriptable\n"
     ]
    },
    {
     "name": "stdout",
     "output_type": "stream",
     "text": [
      "3arp Featurization Failed\n"
     ]
    },
    {
     "name": "stderr",
     "output_type": "stream",
     "text": [
      "Failed to featurize datapoint 0, OC1C[NH2+]CC(OC2OCC(O)C(O)C2O)C1O. Appending empty array\n",
      "Exception message: 'NoneType' object is not subscriptable\n"
     ]
    },
    {
     "name": "stdout",
     "output_type": "stream",
     "text": [
      "1v0k Featurization Failed\n",
      "5yjb Featurization Failed\n",
      "4qsm Featurization Failed\n",
      "1mto Featurization Failed\n"
     ]
    },
    {
     "name": "stderr",
     "output_type": "stream",
     "text": [
      "Failed to featurize datapoint 0, CC(C)CC(NC(=O)C(C)NC(=O)C(CCCNC(N)=[NH2+])NC(=O)C([NH3+])CC(N)=O)C(=O)NC(CCC(=O)[O-])C(=O)NC(CC(C)C)C(=O)NC(CCC(=O)[O-])C(=O)NC(C)C(=O)NC(Cc1ccc(O)cc1)C(=O)NC(CCCNC(N)=[NH2+])C(=O)NC(CC(C)C)C(=O)NCC(=O)N1CCCC1C(=O)NC(C)C(=O)NC(CO)C(=O)[O-]. Appending empty array\n",
      "Exception message: 'PUGREST.BadRequest: error: '\n"
     ]
    },
    {
     "name": "stdout",
     "output_type": "stream",
     "text": [
      "4rqi Featurization Failed\n"
     ]
    },
    {
     "name": "stderr",
     "output_type": "stream",
     "text": [
      "Failed to featurize datapoint 0, CC(C)CC1NC(=O)CNC(=O)C(CCCCNC(N)=[NH2+])NC(=O)C(Cc2c[nH]c3ccccc23)NC(=O)C(CO)NC(=O)C([NH3+])CSSCC(C(=O)[O-])NC(=O)C(C)NC(=O)C(C)NC(=O)C(Cc2cnc[nH]2)NC(=O)C(CC(N)=O)NC(=O)C(CCC(=O)[O-])NC1=O. Appending empty array\n",
      "Exception message: 'PUGREST.BadRequest: error: '\n"
     ]
    },
    {
     "name": "stdout",
     "output_type": "stream",
     "text": [
      "5wxf Featurization Failed\n",
      "5q0d Featurization Failed\n",
      "2k7l Featurization Failed\n",
      "4hww Featurization Failed\n",
      "3moh Featurization Failed\n"
     ]
    },
    {
     "name": "stderr",
     "output_type": "stream",
     "text": [
      "Failed to featurize datapoint 0, CCC(C)C(NC(=O)C(C)NC(=O)CNC(=O)C1CCCN1C(=O)C(CCSC)NC(=O)C(CC(N)=O)NC(=O)C([NH3+])CCC(N)=O)C(=O)NC(CCCNC(N)=[NH2+])C(=O)N1CCCC1C(=O)NC(C)C(=O)NC(C)C(=O)[O-]. Appending empty array\n",
      "Exception message: 'NoneType' object is not subscriptable\n"
     ]
    },
    {
     "name": "stdout",
     "output_type": "stream",
     "text": [
      "5lgp Featurization Failed\n"
     ]
    },
    {
     "name": "stderr",
     "output_type": "stream",
     "text": [
      "Failed to featurize datapoint 0, C=CC(=O)N1CCC(Nc2nc(C[NH+]3CCOCC3)cc(Nc3nc4cccnc4s3)n2)C1. Appending empty array\n",
      "Exception message: 'NoneType' object is not subscriptable\n"
     ]
    },
    {
     "name": "stdout",
     "output_type": "stream",
     "text": [
      "4kio Featurization Failed\n"
     ]
    },
    {
     "name": "stderr",
     "output_type": "stream",
     "text": [
      "Failed to featurize datapoint 0, Cn1cccc1-c1cccc(C(=O)[O-])c1. Appending empty array\n",
      "Exception message: 'NoneType' object is not subscriptable\n"
     ]
    },
    {
     "name": "stdout",
     "output_type": "stream",
     "text": [
      "5qay Featurization Failed\n"
     ]
    },
    {
     "name": "stderr",
     "output_type": "stream",
     "text": [
      "Failed to featurize datapoint 0, CC1C(NC=O)CC(O)C(O)C1O. Appending empty array\n",
      "Exception message: 'NoneType' object is not subscriptable\n"
     ]
    },
    {
     "name": "stdout",
     "output_type": "stream",
     "text": [
      "4wsk Featurization Failed\n",
      "1rgk Featurization Failed\n"
     ]
    },
    {
     "name": "stderr",
     "output_type": "stream",
     "text": [
      "Failed to featurize datapoint 0, C[NH+](C)CCC[NH+](C)C1CCN(C(=O)c2[nH]c3cc(Cl)ccc3c2-c2c(-c3ccccc3)ncn2Cc2ccc(Cl)cc2)C1. Appending empty array\n",
      "Exception message: 'NoneType' object is not subscriptable\n"
     ]
    },
    {
     "name": "stdout",
     "output_type": "stream",
     "text": [
      "3lbj Featurization Failed\n",
      "5vee Featurization Failed\n"
     ]
    },
    {
     "name": "stderr",
     "output_type": "stream",
     "text": [
      "Failed to featurize datapoint 0, CC(C)CC(NC(=O)C([NH3+])CO)C(=O)NC(Cc1ccccc1)C(=O)NC(Cc1cnc[nH]1)C(=O)NC(C[NH2+]C(Cc1ccc(O)cc1)C(=O)NC(C(=O)N1CCCC1C(=O)[O-])C(C)O)Cc1ccccc1. Appending empty array\n",
      "Exception message: 'NoneType' object is not subscriptable\n"
     ]
    },
    {
     "name": "stdout",
     "output_type": "stream",
     "text": [
      "4lp9 Featurization Failed\n",
      "4o75 Featurization Failed\n"
     ]
    },
    {
     "name": "stderr",
     "output_type": "stream",
     "text": [
      "Failed to featurize datapoint 0, CCC(C)C(NC(=O)CNC(=O)C(C)NC(=O)C(CC(C)C)NC(=O)C([NH3+])CCC(=O)[O-])C(=O)NCC(=O)NC(C)C(=O)NC(CC(C)C)C(=O)NC(C(=O)NC(C(=O)[O-])C(C)C)C(C)O. Appending empty array\n",
      "Exception message: 'NoneType' object is not subscriptable\n"
     ]
    },
    {
     "name": "stdout",
     "output_type": "stream",
     "text": [
      "4jfe Featurization Failed\n"
     ]
    },
    {
     "name": "stderr",
     "output_type": "stream",
     "text": [
      "Failed to featurize datapoint 0, CN1C(=[NH2+])NC(C)(C2CC2c2ccccc2)CC1=O. Appending empty array\n",
      "Exception message: 'NoneType' object is not subscriptable\n"
     ]
    },
    {
     "name": "stdout",
     "output_type": "stream",
     "text": [
      "3wb5 Featurization Failed\n"
     ]
    },
    {
     "name": "stderr",
     "output_type": "stream",
     "text": [
      "Failed to featurize datapoint 0, Cc1ccc(CNC(=O)C(CCc2ccccc2)NC(=O)C(CCc2ccccc2)NC(=O)C([NH3+])CCc2ccccc2)cc1. Appending empty array\n",
      "Exception message: 'NoneType' object is not subscriptable\n"
     ]
    },
    {
     "name": "stdout",
     "output_type": "stream",
     "text": [
      "3mg4 Featurization Failed\n"
     ]
    },
    {
     "name": "stderr",
     "output_type": "stream",
     "text": [
      "Failed to featurize datapoint 0, CCC(C)C(NC(=O)C(C)NC(=O)C(CC(N)=O)NC(=O)C1CCCN1C(=O)C([NH3+])CC(C)C)C(=O)NCC(=O)NC(CCCNC(N)=[NH2+])C(=O)[O-]. Appending empty array\n",
      "Exception message: 'NoneType' object is not subscriptable\n"
     ]
    },
    {
     "name": "stdout",
     "output_type": "stream",
     "text": [
      "3sov Featurization Failed\n"
     ]
    },
    {
     "name": "stderr",
     "output_type": "stream",
     "text": [
      "Failed to featurize datapoint 0, COc1ccc(CC2[NH2+]CCc3c2[nH]c2ccc(C)cc32)c(Cl)c1OC. Appending empty array\n",
      "Exception message: 'NoneType' object is not subscriptable\n"
     ]
    },
    {
     "name": "stdout",
     "output_type": "stream",
     "text": [
      "6ds0 Featurization Failed\n",
      "2q2n Featurization Failed\n"
     ]
    },
    {
     "name": "stderr",
     "output_type": "stream",
     "text": [
      "Failed to featurize datapoint 0, CNC(=O)C1Cc2ccc(NS(=O)(=O)[O-])cc2CN1C(=O)OC(C)(C)C. Appending empty array\n",
      "Exception message: 'NoneType' object is not subscriptable\n"
     ]
    },
    {
     "name": "stdout",
     "output_type": "stream",
     "text": [
      "2f6t Featurization Failed\n"
     ]
    },
    {
     "name": "stderr",
     "output_type": "stream",
     "text": [
      "Failed to featurize datapoint 0, CCC(C)C([NH3+])C(=O)N1CCCC1C(O)[NH2+]C(C(=O)[O-])C(C)CC. Appending empty array\n",
      "Exception message: 'NoneType' object is not subscriptable\n"
     ]
    },
    {
     "name": "stdout",
     "output_type": "stream",
     "text": [
      "1nu8 Featurization Failed\n"
     ]
    },
    {
     "name": "stderr",
     "output_type": "stream",
     "text": [
      "Failed to featurize datapoint 0, CN1N=C(C(=O)[O-])C2C(C(=O)[O-])[NH2+]CC21. Appending empty array\n",
      "Exception message: 'NoneType' object is not subscriptable\n"
     ]
    },
    {
     "name": "stdout",
     "output_type": "stream",
     "text": [
      "5neb Featurization Failed\n"
     ]
    },
    {
     "name": "stderr",
     "output_type": "stream",
     "text": [
      "Failed to featurize datapoint 0, CC(C)CC(NC(=O)C(C)NC(=O)C(Cc1c[nH]c2ccccc12)NC(=O)C(Cc1ccc(O)cc1)NC(=O)C(CCC(=O)[O-])NC(=O)C(C)NC(=O)C(Cc1ccccc1)NC(=O)C(CO)NC(=O)C([NH3+])C(C)O)C(=O)NC(CC(C)C)C(=O)NC(CO)C(=O)[O-]. Appending empty array\n",
      "Exception message: 'NoneType' object is not subscriptable\n"
     ]
    },
    {
     "name": "stdout",
     "output_type": "stream",
     "text": [
      "3lnz Featurization Failed\n"
     ]
    },
    {
     "name": "stderr",
     "output_type": "stream",
     "text": [
      "Failed to featurize datapoint 0, [NH3+]CCNc1cc(-c2ccc[nH]2)c2c3c(ccc(F)c13)NC2=O. Appending empty array\n",
      "Exception message: 'NoneType' object is not subscriptable\n"
     ]
    },
    {
     "name": "stdout",
     "output_type": "stream",
     "text": [
      "1p2a Featurization Failed\n",
      "3w0l Featurization Failed\n",
      "3g3d Featurization Failed\n"
     ]
    },
    {
     "name": "stderr",
     "output_type": "stream",
     "text": [
      "Failed to featurize datapoint 0, CNC(=O)c1c(-c2ccc(O)cc2)oc2ccc(O)c(C[NH+]3CCCCC3)c12. Appending empty array\n",
      "Exception message: 'NoneType' object is not subscriptable\n"
     ]
    },
    {
     "name": "stdout",
     "output_type": "stream",
     "text": [
      "5v3y Featurization Failed\n",
      "5n3w Featurization Failed\n"
     ]
    },
    {
     "name": "stderr",
     "output_type": "stream",
     "text": [
      "Failed to featurize datapoint 0, COc1ccc(S(=O)(=O)N(CC(C)C)CC(O)C(Cc2ccccc2)NC(=O)OC2CC3OC(=O)N(c4ccccc4)C3C2)cc1. Appending empty array\n",
      "Exception message: 'NoneType' object is not subscriptable\n"
     ]
    },
    {
     "name": "stdout",
     "output_type": "stream",
     "text": [
      "6e7j Featurization Failed\n"
     ]
    },
    {
     "name": "stderr",
     "output_type": "stream",
     "text": [
      "Failed to featurize datapoint 0, COC(=O)NC(C(=O)N[NH+](CCCC1(O)Cc2ccc(cc2)CC=CCNC(=O)C(C(C)C)NC1=O)Cc1ccc(-c2ccncc2)cc1)C(C)(C)C. Appending empty array\n",
      "Exception message: 'NoneType' object is not subscriptable\n"
     ]
    },
    {
     "name": "stdout",
     "output_type": "stream",
     "text": [
      "4cps Featurization Failed\n"
     ]
    },
    {
     "name": "stderr",
     "output_type": "stream",
     "text": [
      "Failed to featurize datapoint 0, CC(C)CC(NC(=O)C(CC(C)C)NC(=O)C(CC(=O)[O-])NC(=O)C(CC(=O)[O-])NC(=O)C(CCCNC(N)=[NH2+])NC(=O)C(CC(C)C)NC(=O)C([NH3+])C(C)C)C(=O)NC(CCC(=O)[O-])C(=O)NC(C)C(=O)[O-]. Appending empty array\n",
      "Exception message: 'NoneType' object is not subscriptable\n"
     ]
    },
    {
     "name": "stdout",
     "output_type": "stream",
     "text": [
      "3ft4 Featurization Failed\n"
     ]
    },
    {
     "name": "stderr",
     "output_type": "stream",
     "text": [
      "Failed to featurize datapoint 0, CC(NC(=O)C(NC(=O)C([NH3+])CCC(N)=O)C(C)O)C(=O)NC(CCCNC(N)=[NH2+])C(=O)NC(CCCC[N+](C)(C)C)C(=O)NC(CO)C(=O)[O-]. Appending empty array\n",
      "Exception message: 'NoneType' object is not subscriptable\n"
     ]
    },
    {
     "name": "stdout",
     "output_type": "stream",
     "text": [
      "6asz Featurization Failed\n"
     ]
    },
    {
     "name": "stderr",
     "output_type": "stream",
     "text": [
      "Failed to featurize datapoint 0, CC(=O)NC(Cc1cc(F)cc(F)c1)C(O)C1COC(OCC2CCCCC2)C[NH2+]1. Appending empty array\n",
      "Exception message: 'NoneType' object is not subscriptable\n"
     ]
    },
    {
     "name": "stdout",
     "output_type": "stream",
     "text": [
      "6bfw Featurization Failed\n"
     ]
    },
    {
     "name": "stderr",
     "output_type": "stream",
     "text": [
      "Failed to featurize datapoint 0, [NH3+]C(CC(=O)N1CCCNC(=O)C1CC(F)(F)F)Cc1cc(F)c(F)cc1F. Appending empty array\n",
      "Exception message: 'NoneType' object is not subscriptable\n"
     ]
    },
    {
     "name": "stdout",
     "output_type": "stream",
     "text": [
      "2iit Featurization Failed\n"
     ]
    },
    {
     "name": "stderr",
     "output_type": "stream",
     "text": [
      "Failed to featurize datapoint 0, CC(=NNC(=[NH2+])NO)c1ccc(NC(=O)c2cc3cccc([N+](=O)[O-])c3[nH]2)cc1. Appending empty array\n",
      "Exception message: 'NoneType' object is not subscriptable\n"
     ]
    },
    {
     "name": "stdout",
     "output_type": "stream",
     "text": [
      "2xk9 Featurization Failed\n",
      "2xgs Featurization Failed\n"
     ]
    },
    {
     "name": "stderr",
     "output_type": "stream",
     "text": [
      "Failed to featurize datapoint 0, C=C1CCC(O)CC1CCC1CCCC2(C)C(C(C)CCCC(C)C)CCC12. Appending empty array\n",
      "Exception message: 'NoneType' object is not subscriptable\n"
     ]
    },
    {
     "name": "stdout",
     "output_type": "stream",
     "text": [
      "2gj5 Featurization Failed\n",
      "5lbq Featurization Failed\n"
     ]
    },
    {
     "name": "stderr",
     "output_type": "stream",
     "text": [
      "Failed to featurize datapoint 0, CCCCC(NC(=O)OCC1(Cc2ccc(F)cc2)CCC1)C(O)C(=O)Nc1cc[nH]n1. Appending empty array\n",
      "Exception message: 'NoneType' object is not subscriptable\n"
     ]
    },
    {
     "name": "stdout",
     "output_type": "stream",
     "text": [
      "1tu6 Featurization Failed\n",
      "4n7y Featurization Failed\n"
     ]
    },
    {
     "name": "stderr",
     "output_type": "stream",
     "text": [
      "Failed to featurize datapoint 0, C[NH2+]C(C)C(=O)NC(C(=O)N1CCCC1c1nc(-c2cccc3ccccc23)cs1)C1CCCCC1. Appending empty array\n",
      "Exception message: 'NoneType' object is not subscriptable\n"
     ]
    },
    {
     "name": "stdout",
     "output_type": "stream",
     "text": [
      "3gt9 Featurization Failed\n"
     ]
    },
    {
     "name": "stderr",
     "output_type": "stream",
     "text": [
      "Failed to featurize datapoint 0, CCC(C)C(NC(=O)C(NC(=O)C(CO)NC(=O)C(NC(=O)C1CCCN1C(=O)C(CC(C)C)NC(=O)C([NH3+])CCCNC(N)=[NH2+])C(C)O)C(C)CC)C(=O)[O-]. Appending empty array\n",
      "Exception message: 'NoneType' object is not subscriptable\n"
     ]
    },
    {
     "name": "stdout",
     "output_type": "stream",
     "text": [
      "4jof Featurization Failed\n",
      "4g0a Featurization Failed\n",
      "1qjb Featurization Failed\n"
     ]
    },
    {
     "name": "stderr",
     "output_type": "stream",
     "text": [
      "Failed to featurize datapoint 0, None. Appending empty array\n",
      "Exception message: Python argument types in\n",
      "    rdkit.Chem.rdmolfiles.MolToSmiles(NoneType)\n",
      "did not match C++ signature:\n",
      "    MolToSmiles(class RDKit::ROMol mol, bool isomericSmiles=False, bool kekuleSmiles=False, int rootedAtAtom=-1, bool canonical=True, bool allBondsExplicit=False, bool allHsExplicit=False)\n"
     ]
    },
    {
     "name": "stdout",
     "output_type": "stream",
     "text": [
      "2opy Featurization Failed\n",
      "44290 Featurization Failed\n",
      "2c5x Featurization Failed\n",
      "5f5b Featurization Failed\n"
     ]
    },
    {
     "name": "stderr",
     "output_type": "stream",
     "text": [
      "Failed to featurize datapoint 0, CC(C)(C)C(NC(=O)OC1CCCC1)C(=O)N1CC(Oc2nccc3ccccc23)CC1C(=O)NC(CCO)B(O)O. Appending empty array\n",
      "Exception message: 'NoneType' object is not subscriptable\n"
     ]
    },
    {
     "name": "stdout",
     "output_type": "stream",
     "text": [
      "2xcn Featurization Failed\n"
     ]
    },
    {
     "name": "stderr",
     "output_type": "stream",
     "text": [
      "Failed to featurize datapoint 0, CC(=O)NCCCCC(NC(=O)C(NC(=O)CNC(=O)CNC(=O)C(NC(=O)C([NH3+])CO)C(C)O)C(C)C)C(=O)NC(CCCC[NH3+])C(=O)N1CCCC1C(=O)NC(Cc1c[nH]cn1)C(=O)NC(CCCNC(N)=[NH2+])C(=O)NC(Cc1ccc(O)cc1)C(=O)NC(CCCC[NH3+])C(=O)NC(CS)C(=O)[O-]. Appending empty array\n",
      "Exception message: 'PUGREST.Timeout'\n"
     ]
    },
    {
     "name": "stdout",
     "output_type": "stream",
     "text": [
      "2rnx Featurization Failed\n"
     ]
    },
    {
     "name": "stderr",
     "output_type": "stream",
     "text": [
      "Failed to featurize datapoint 0, CNC(NC)=[NH+]CCCC(NC(=O)C(C)[NH3+])C(=O)NC(C(=O)NC(CCCC[NH3+])C(=O)NC(CCC(N)=O)C(=O)NC(C(N)=O)C(C)O)C(C)O. Appending empty array\n",
      "Exception message: 'NoneType' object is not subscriptable\n"
     ]
    },
    {
     "name": "stdout",
     "output_type": "stream",
     "text": [
      "4a7j Featurization Failed\n",
      "1los Featurization Failed\n"
     ]
    },
    {
     "name": "stderr",
     "output_type": "stream",
     "text": [
      "Failed to featurize datapoint 0, CC([NH3+])C(=O)NC(CCCNC(N)=[NH2+])C(=O)NC(C(=O)NC(CCCC[NH3+])C(=O)NC(CCC(N)=O)C(=O)NC(C(=O)[O-])C(C)O)C(C)O. Appending empty array\n",
      "Exception message: 'NoneType' object is not subscriptable\n"
     ]
    },
    {
     "name": "stdout",
     "output_type": "stream",
     "text": [
      "4gne Featurization Failed\n"
     ]
    },
    {
     "name": "stderr",
     "output_type": "stream",
     "text": [
      "Failed to featurize datapoint 0, CC([NH3+])C(=O)NCC(=O)NC(CC(=O)[O-])C(=O)NC(C(=O)[O-])C(C)C. Appending empty array\n",
      "Exception message: 'NoneType' object is not subscriptable\n"
     ]
    },
    {
     "name": "stdout",
     "output_type": "stream",
     "text": [
      "4z7o Featurization Failed\n",
      "5ncq Featurization Failed\n",
      "3mks Featurization Failed\n"
     ]
    },
    {
     "name": "stderr",
     "output_type": "stream",
     "text": [
      "Failed to featurize datapoint 0, CC(C)CC1NC(=O)C(Cc2c[nH]c3ccccc23)NC(=O)C(CCC(N)=O)NC(=O)C(Cc2c[nH]c3ccccc23)NC(=O)C(CCC(=O)[O-])NC(=O)C2CCCN2C(=O)C(Cc2ccc(O)cc2)NC(=O)C(CC(=O)[O-])NC(=O)C(NC(=O)C(C)NC(=O)CNC(=O)C([NH3+])CCCC[NH3+])CSSCC(C(=O)NC(C)C(=O)NC(C)C(=O)O)NC1=O. Appending empty array\n",
      "Exception message: 'NoneType' object is not subscriptable\n"
     ]
    },
    {
     "name": "stdout",
     "output_type": "stream",
     "text": [
      "2r5b Featurization Failed\n"
     ]
    },
    {
     "name": "stderr",
     "output_type": "stream",
     "text": [
      "Failed to featurize datapoint 0, Cc1cccc2c(=O)[nH]c(-c3ccc(C[NH+]4CCCC4)cc3)cc12. Appending empty array\n",
      "Exception message: 'NoneType' object is not subscriptable\n"
     ]
    },
    {
     "name": "stdout",
     "output_type": "stream",
     "text": [
      "4uvu Featurization Failed\n"
     ]
    },
    {
     "name": "stderr",
     "output_type": "stream",
     "text": [
      "Failed to featurize datapoint 0, N=CCNC(=O)C1CC(S(=O)(=O)c2ccccc2)CC1C(=O)N1CCOCC1. Appending empty array\n",
      "Exception message: 'NoneType' object is not subscriptable\n"
     ]
    },
    {
     "name": "stdout",
     "output_type": "stream",
     "text": [
      "4bsq Featurization Failed\n"
     ]
    },
    {
     "name": "stderr",
     "output_type": "stream",
     "text": [
      "Failed to featurize datapoint 0, NC(=O)CCC(NC(=O)C(Cc1c[nH]cn1)NC(=O)C(CO)NC(=O)C([NH3+])CCCC[NH3+])C(=O)NC(CCC(=O)[O-])C(=O)[O-]. Appending empty array\n",
      "Exception message: 'NoneType' object is not subscriptable\n"
     ]
    },
    {
     "name": "stdout",
     "output_type": "stream",
     "text": [
      "4j82 Featurization Failed\n"
     ]
    },
    {
     "name": "stderr",
     "output_type": "stream",
     "text": [
      "Failed to featurize datapoint 0, NC(=[NH2+])NCCCC1NC(=O)C2CCCN2C1=O. Appending empty array\n",
      "Exception message: 'NoneType' object is not subscriptable\n"
     ]
    },
    {
     "name": "stdout",
     "output_type": "stream",
     "text": [
      "1w1v Featurization Failed\n",
      "2fou Featurization Failed\n"
     ]
    },
    {
     "name": "stderr",
     "output_type": "stream",
     "text": [
      "Failed to featurize datapoint 0, C[NH2+]C1C(O)C(OC2C([NH3+])CC([NH3+])C(OC3OC(C[NH3+])C=CC3[NH3+])C2O)OCC1(C)O. Appending empty array\n",
      "Exception message: 'NoneType' object is not subscriptable\n"
     ]
    },
    {
     "name": "stdout",
     "output_type": "stream",
     "text": [
      "5c4l Featurization Failed\n"
     ]
    },
    {
     "name": "stderr",
     "output_type": "stream",
     "text": [
      "Failed to featurize datapoint 0, [NH2+]=C1NC(=O)C2C(=O)C(CC(=O)[O-])=NN=C2N1. Appending empty array\n",
      "Exception message: 'NoneType' object is not subscriptable\n"
     ]
    },
    {
     "name": "stdout",
     "output_type": "stream",
     "text": [
      "4dai Featurization Failed\n"
     ]
    },
    {
     "name": "stderr",
     "output_type": "stream",
     "text": [
      "Failed to featurize datapoint 0, CC(C(=O)SCCNC=O)C1CCC2C3CCC4=CC(=O)CCC4(C)C3CCC12C. Appending empty array\n",
      "Exception message: 'NoneType' object is not subscriptable\n"
     ]
    },
    {
     "name": "stdout",
     "output_type": "stream",
     "text": [
      "5cxi Featurization Failed\n"
     ]
    },
    {
     "name": "stderr",
     "output_type": "stream",
     "text": [
      "Failed to featurize datapoint 0, CC(O)C([NH3+])C(=O)NC(Cc1ccc(O)cc1)C(=O)NC(CCCC[NH3+])C(=O)NC(Cc1ccccc1)C(=O)NC(Cc1ccccc1)C(=O)NC(CCC(=O)[O-])C(=O)NC(CCC(N)=O)C(=O)[O-]. Appending empty array\n",
      "Exception message: 'NoneType' object is not subscriptable\n"
     ]
    },
    {
     "name": "stdout",
     "output_type": "stream",
     "text": [
      "4mdr Featurization Failed\n"
     ]
    },
    {
     "name": "stderr",
     "output_type": "stream",
     "text": [
      "Failed to featurize datapoint 0, NC(=O)CCC(NC(=O)CNC(=O)C(Cc1c[nH]c2ccccc12)NC(=O)C(CO)NC(=O)CNC(=O)CNC(=O)C(Cc1c[nH]cn1)NC(=O)C1CCC[NH2+]1)C(=O)N1CCCC1C(=O)[O-]. Appending empty array\n",
      "Exception message: 'NoneType' object is not subscriptable\n"
     ]
    },
    {
     "name": "stdout",
     "output_type": "stream",
     "text": [
      "4j8r Featurization Failed\n"
     ]
    },
    {
     "name": "stderr",
     "output_type": "stream",
     "text": [
      "Failed to featurize datapoint 0, N#Cc1cnn2c3cc(nc12)N1CC(CC1CO)OCCCCOc1cc(cc2c1NC(=O)CC2)N3. Appending empty array\n",
      "Exception message: 'NoneType' object is not subscriptable\n"
     ]
    },
    {
     "name": "stdout",
     "output_type": "stream",
     "text": [
      "5n1v Featurization Failed\n"
     ]
    },
    {
     "name": "stderr",
     "output_type": "stream",
     "text": [
      "Failed to featurize datapoint 0, CCC(C)C(NC(=O)C(NC(=O)C(Cc1ccccc1)NC(=O)C(CO)NC(=O)C(CCCC[NH3+])NC(=O)C(NC(=O)C(Cc1cnc[nH]1)NC(=O)C([NH3+])CCCC[NH3+])C(C)O)C(C)CC)C(=O)[O-]. Appending empty array\n",
      "Exception message: 'NoneType' object is not subscriptable\n"
     ]
    },
    {
     "name": "stdout",
     "output_type": "stream",
     "text": [
      "5gmj Featurization Failed\n"
     ]
    },
    {
     "name": "stderr",
     "output_type": "stream",
     "text": [
      "Failed to featurize datapoint 0, CCCCC(C[NH2+]C(CCCC)C(=O)NC(CCC(N)=O)C(=O)NC(CCCNC(N)=[NH2+])C(N)=O)NC(=O)C(NC(=O)C(NC(C)=O)C(C)O)C(C)CC. Appending empty array\n",
      "Exception message: 'NoneType' object is not subscriptable\n"
     ]
    },
    {
     "name": "stdout",
     "output_type": "stream",
     "text": [
      "3fsm Featurization Failed\n"
     ]
    },
    {
     "name": "stderr",
     "output_type": "stream",
     "text": [
      "Failed to featurize datapoint 0, CC(Nc1[nH]c(=O)c2cnn(C3CCCC3)c2[nH+]1)c1ccc(Cl)cc1. Appending empty array\n",
      "Exception message: 'NoneType' object is not subscriptable\n"
     ]
    },
    {
     "name": "stdout",
     "output_type": "stream",
     "text": [
      "4y87 Featurization Failed\n",
      "5a3u Featurization Failed\n"
     ]
    },
    {
     "name": "stderr",
     "output_type": "stream",
     "text": [
      "Failed to featurize datapoint 0, O=C([O-])C(Cc1ccccc1)N(Cc1cccc(C(F)(F)F)c1)C(=O)c1ccc(Cl)cc1Cl. Appending empty array\n",
      "Exception message: 'NoneType' object is not subscriptable\n"
     ]
    },
    {
     "name": "stdout",
     "output_type": "stream",
     "text": [
      "1nhu Featurization Failed\n"
     ]
    },
    {
     "name": "stderr",
     "output_type": "stream",
     "text": [
      "Failed to featurize datapoint 0, CC(C)C(NS(=O)(=O)c1ccc(-c2ccc(CSc3nc4c(c(=O)[nH]3)CCC4)cc2)cc1)C(=O)[O-]. Appending empty array\n",
      "Exception message: 'NoneType' object is not subscriptable\n"
     ]
    },
    {
     "name": "stdout",
     "output_type": "stream",
     "text": [
      "5uwk Featurization Failed\n"
     ]
    },
    {
     "name": "stderr",
     "output_type": "stream",
     "text": [
      "Failed to featurize datapoint 0, Cn1c(=O)cc(C2CC2c2ccccc2)[nH]c1=[NH2+]. Appending empty array\n",
      "Exception message: 'NoneType' object is not subscriptable\n"
     ]
    },
    {
     "name": "stdout",
     "output_type": "stream",
     "text": [
      "3vv6 Featurization Failed\n",
      "1g6g Featurization Failed\n"
     ]
    },
    {
     "name": "stderr",
     "output_type": "stream",
     "text": [
      "Failed to featurize datapoint 0, CC(C)C(NC(=O)C(CCCNC(N)=[NH2+])NC(=O)C(Cc1c[nH]cn1)NC(=O)CNC(=O)C1CCCN1C(=O)C1CCCN1C(=O)C1CCCN1C(=O)C1CCCN1C(=O)C(CCCNC(N)=[NH2+])NC(=O)C(Cc1c[nH]cn1)NC(=O)C([NH3+])CO)C(=O)[O-]. Appending empty array\n",
      "Exception message: 'NoneType' object is not subscriptable\n"
     ]
    },
    {
     "name": "stdout",
     "output_type": "stream",
     "text": [
      "1l2z Featurization Failed\n"
     ]
    },
    {
     "name": "stderr",
     "output_type": "stream",
     "text": [
      "Failed to featurize datapoint 0, CCC(C)C(NC(=O)C(Cc1ccc(O)cc1)NC(=O)C(CC(=O)[O-])NC(=O)C(Cc1ccccc1)NC(=O)C(CC(=O)[O-])NC(=O)C(CCCNC(N)=[NH2+])NC(=O)C(Cc1ccccc1)NC(=O)C([NH3+])CCSC)C(=O)NC(C)C(=O)NC(CC(=O)[O-])C(=O)NC(Cc1c[nH]c2ccccc12)C(=O)NC(CS)C(=O)[O-]. Appending empty array\n",
      "Exception message: 'NoneType' object is not subscriptable\n"
     ]
    },
    {
     "name": "stdout",
     "output_type": "stream",
     "text": [
      "6gbe Featurization Failed\n",
      "4h5d Featurization Failed\n"
     ]
    },
    {
     "name": "stderr",
     "output_type": "stream",
     "text": [
      "Failed to featurize datapoint 0, CC(=O)CCC1C(=O)NC(C(C)C)C(=O)NC(Cc2cccc(O)c2)C(=O)N2CCCC([NH2+]2)C(=O)OC(C(C)=CCO)CC=CC=CC(O)C(C)C1O. Appending empty array\n",
      "Exception message: 'NoneType' object is not subscriptable\n"
     ]
    },
    {
     "name": "stdout",
     "output_type": "stream",
     "text": [
      "1nmk Featurization Failed\n",
      "5hu0 Featurization Failed\n",
      "2jbv Featurization Failed\n",
      "5a7i Featurization Failed\n",
      "5kks Featurization Failed\n",
      "5alz Featurization Failed\n"
     ]
    },
    {
     "name": "stderr",
     "output_type": "stream",
     "text": [
      "Failed to featurize datapoint 0, CC(NC(=O)C(CCC(=O)[O-])NC(=O)C(Cc1c[nH]cn1)NC(=O)C(CCCNC(N)=[NH2+])NC(=O)C(Cc1ccccc1)NC(=O)C([NH3+])CCC(=O)[O-])C(=O)[O-]. Appending empty array\n",
      "Exception message: 'NoneType' object is not subscriptable\n"
     ]
    },
    {
     "name": "stdout",
     "output_type": "stream",
     "text": [
      "3eyu Featurization Failed\n"
     ]
    },
    {
     "name": "stderr",
     "output_type": "stream",
     "text": [
      "Failed to featurize datapoint 0, Cc1cc(S(=O)(=O)N(Cc2ccc(C[NH3+])cc2)C(C)C(=O)NO)ccc1F. Appending empty array\n",
      "Exception message: 'NoneType' object is not subscriptable\n"
     ]
    },
    {
     "name": "stdout",
     "output_type": "stream",
     "text": [
      "4pkv Featurization Failed\n"
     ]
    },
    {
     "name": "stderr",
     "output_type": "stream",
     "text": [
      "Failed to featurize datapoint 0, CCC(C)C1NC(=O)C(CCCC[NH3+])NC(=O)C(CC(C)C)NC(=O)C(C)NC(=O)C(CC(=O)[O-])NC(=O)C(CCSC)NC(=O)C(CC(N)=O)NC(=O)C(CC(=O)[O-])NC1=O. Appending empty array\n",
      "Exception message: 'NoneType' object is not subscriptable\n"
     ]
    },
    {
     "name": "stdout",
     "output_type": "stream",
     "text": [
      "3avj Featurization Failed\n"
     ]
    },
    {
     "name": "stderr",
     "output_type": "stream",
     "text": [
      "Failed to featurize datapoint 0, None. Appending empty array\n",
      "Exception message: Python argument types in\n",
      "    rdkit.Chem.rdmolfiles.MolToSmiles(NoneType)\n",
      "did not match C++ signature:\n",
      "    MolToSmiles(class RDKit::ROMol mol, bool isomericSmiles=False, bool kekuleSmiles=False, int rootedAtAtom=-1, bool canonical=True, bool allBondsExplicit=False, bool allHsExplicit=False)\n"
     ]
    },
    {
     "name": "stdout",
     "output_type": "stream",
     "text": [
      "5tgy Featurization Failed\n",
      "2xas Featurization Failed\n",
      "4l4l Featurization Failed\n"
     ]
    },
    {
     "name": "stderr",
     "output_type": "stream",
     "text": [
      "Failed to featurize datapoint 0, O=C([O-])C[NH+](CC(=O)[O-])CC(Cc1ccc(NC(=S)NCCO)cc1)[NH+](CC(=O)[O-])CC(=O)[O-]. Appending empty array\n",
      "Exception message: 'NoneType' object is not subscriptable\n"
     ]
    },
    {
     "name": "stdout",
     "output_type": "stream",
     "text": [
      "1ind Featurization Failed\n",
      "6buu Featurization Failed\n"
     ]
    },
    {
     "name": "stderr",
     "output_type": "stream",
     "text": [
      "Failed to featurize datapoint 0, CCC(C)C(NC(=O)C(CCCC[NH3+])NC(=O)C([NH3+])Cc1c[nH]cn1)C(=O)NC(CC(C)C)C(=O)NC(Cc1c[nH]cn1)C(=O)NC(CCCNC(N)=[NH2+])C(=O)NC(CC(C)C)C(=O)NC(CC(C)C)C(=O)NC(CCC(N)=O)C(=O)NC(CCC(=O)[O-])C(=O)NCC(=O)[O-]. Appending empty array\n",
      "Exception message: 'PUGREST.BadRequest: error: '\n"
     ]
    },
    {
     "name": "stdout",
     "output_type": "stream",
     "text": [
      "4dma Featurization Failed\n"
     ]
    },
    {
     "name": "stderr",
     "output_type": "stream",
     "text": [
      "Failed to featurize datapoint 0, [NH3+]Cc1ccc(-c2ccoc2)c(Cl)c1. Appending empty array\n",
      "Exception message: 'NoneType' object is not subscriptable\n"
     ]
    },
    {
     "name": "stdout",
     "output_type": "stream",
     "text": [
      "5moe Featurization Failed\n"
     ]
    },
    {
     "name": "stderr",
     "output_type": "stream",
     "text": [
      "Failed to featurize datapoint 0, CC(C)CC1NC(=O)C(CCCNC(N)=[NH2+])NC(=O)C(CCCNC(N)=[NH2+])NC(=O)C(C(C)O)NC(=O)C(CO)NC(=O)C(CC(C)C)NC(=O)C(CC(=O)[O-])NC(=O)C(Cc2c[nH]cn2)NC(=O)C(CCC(N)=O)NC(=O)C([NH3+])CSSCC(C(=O)[O-])NC(=O)C(CCCC[NH3+])NC1=O. Appending empty array\n",
      "Exception message: 'PUGREST.BadRequest: error: '\n"
     ]
    },
    {
     "name": "stdout",
     "output_type": "stream",
     "text": [
      "5euk Featurization Failed\n"
     ]
    },
    {
     "name": "stderr",
     "output_type": "stream",
     "text": [
      "Failed to featurize datapoint 0, CC(NC(=O)C(Cc1ccc(O)cc1)NC(=O)C1CCCN1C(=O)CNC(=O)C1CCCN1C(=O)C(CCC(=O)[O-])NC(=O)C1CCC[NH2+]1)C(=O)NC(CCC(N)=O)C(=O)N1CCCC1C(=O)[O-]. Appending empty array\n",
      "Exception message: 'NoneType' object is not subscriptable\n"
     ]
    },
    {
     "name": "stdout",
     "output_type": "stream",
     "text": [
      "2ms4 Featurization Failed\n",
      "4dhr Featurization Failed\n"
     ]
    },
    {
     "name": "stderr",
     "output_type": "stream",
     "text": [
      "Failed to featurize datapoint 0, CC(=O)NC(C(=O)NC(CO)C(=O)NC(Cc1ccccc1)C(=O)NC1(C)CCCCCCC=CCCCC(C)(C(N)=O)NC(=O)C(CC(C)C)NC(=O)C(CC(C)C)NC(=O)C(C)NC(=O)C(Cc2c[nH]c3cc(Cl)ccc23)NC(=O)C(Cc2ccc(O)cc2)NC(=O)C(CCC(=O)[O-])NC1=O)C(C)O. Appending empty array\n",
      "Exception message: 'NoneType' object is not subscriptable\n"
     ]
    },
    {
     "name": "stdout",
     "output_type": "stream",
     "text": [
      "5xxk Featurization Failed\n"
     ]
    },
    {
     "name": "stderr",
     "output_type": "stream",
     "text": [
      "Failed to featurize datapoint 0, CSCCC(NC(=O)C(C)[NH3+])C(=O)NC(CCCC[NH3+])C(=O)NC(CCCNC(N)=[NH2+])C(=O)NC(Cc1c[nH]cn1)C(=O)NCC(=O)NC(CC(C)C)C(=O)NC(CC(=O)[O-])C(=O)NC(CC(N)=O)C(=O)NC(Cc1ccc(O)cc1)C(=O)NC(CCCNC(N)=[NH2+])C(=O)NCC(=O)NC(Cc1ccc(O)cc1)C(=O)NC(CO)C(=O)[O-]. Appending empty array\n",
      "Exception message: 'NoneType' object is not subscriptable\n"
     ]
    },
    {
     "name": "stdout",
     "output_type": "stream",
     "text": [
      "1f3j Featurization Failed\n"
     ]
    },
    {
     "name": "stderr",
     "output_type": "stream",
     "text": [
      "Failed to featurize datapoint 0, CC(C)CN(C(=O)c1cnc(C(C)(C)C)nc1NCc1ccco1)C1CCC[NH2+]C1. Appending empty array\n",
      "Exception message: 'NoneType' object is not subscriptable\n"
     ]
    },
    {
     "name": "stdout",
     "output_type": "stream",
     "text": [
      "5koq Featurization Failed\n"
     ]
    },
    {
     "name": "stderr",
     "output_type": "stream",
     "text": [
      "Failed to featurize datapoint 0, None. Appending empty array\n",
      "Exception message: Python argument types in\n",
      "    rdkit.Chem.rdmolfiles.MolToSmiles(NoneType)\n",
      "did not match C++ signature:\n",
      "    MolToSmiles(class RDKit::ROMol mol, bool isomericSmiles=False, bool kekuleSmiles=False, int rootedAtAtom=-1, bool canonical=True, bool allBondsExplicit=False, bool allHsExplicit=False)\n"
     ]
    },
    {
     "name": "stdout",
     "output_type": "stream",
     "text": [
      "2cfg Featurization Failed\n"
     ]
    },
    {
     "name": "stderr",
     "output_type": "stream",
     "text": [
      "Failed to featurize datapoint 0, CC(C)CC(NC(=O)C1CCCN1C(=O)CNC(=O)C(Cc1ccccc1)NC(=O)C([NH3+])CC(=O)[O-])C(=O)NC(C(=O)NCC(=O)NC(C)C(=O)O)C(C)C. Appending empty array\n",
      "Exception message: 'NoneType' object is not subscriptable\n"
     ]
    },
    {
     "name": "stdout",
     "output_type": "stream",
     "text": [
      "1p4u Featurization Failed\n"
     ]
    },
    {
     "name": "stderr",
     "output_type": "stream",
     "text": [
      "Failed to featurize datapoint 0, CC(C)CC(NC(=O)C(C)NC(=O)C([NH3+])CC(N)=O)C(=O)NC(CC(C)C)C(=O)NC(CCCNC(N)=[NH2+])C(=O)NC(Cc1ccc(O)cc1)C(=O)NC(CC(C)C)C(=O)NC(CC(C)C)C(=O)NC(CC(=O)[O-])C(=O)NC(CCCC[NH3+])C(=O)[O-]. Appending empty array\n",
      "Exception message: 'NoneType' object is not subscriptable\n"
     ]
    },
    {
     "name": "stdout",
     "output_type": "stream",
     "text": [
      "5iaw Featurization Failed\n"
     ]
    },
    {
     "name": "stderr",
     "output_type": "stream",
     "text": [
      "Failed to featurize datapoint 0, CC(=O)NC(CC(=O)[O-])C(=O)NC(CCC(=O)[O-])C(=O)NC(C(=O)NC(CO)CC(=O)[O-])C(C)C. Appending empty array\n",
      "Exception message: 'NoneType' object is not subscriptable\n"
     ]
    },
    {
     "name": "stdout",
     "output_type": "stream",
     "text": [
      "1f1j Featurization Failed\n",
      "2jbj Featurization Failed\n"
     ]
    },
    {
     "name": "stderr",
     "output_type": "stream",
     "text": [
      "Failed to featurize datapoint 0, O=C(C1C[NH2+]CC12CCCc1ccccc12)N1CCC(c2ccccc2)CC1c1ccccc1. Appending empty array\n",
      "Exception message: 'NoneType' object is not subscriptable\n"
     ]
    },
    {
     "name": "stdout",
     "output_type": "stream",
     "text": [
      "3ufl Featurization Failed\n",
      "3wcb Featurization Failed\n"
     ]
    },
    {
     "name": "stderr",
     "output_type": "stream",
     "text": [
      "Failed to featurize datapoint 0, CCC(=O)N1CC([NH+]2CCN(C(=O)CNc3cc(Cl)c(Cl)cc3O)CC2)C1. Appending empty array\n",
      "Exception message: 'NoneType' object is not subscriptable\n"
     ]
    },
    {
     "name": "stdout",
     "output_type": "stream",
     "text": [
      "6b0v Featurization Failed\n"
     ]
    },
    {
     "name": "stderr",
     "output_type": "stream",
     "text": [
      "Failed to featurize datapoint 0, COc1cccc(C(C)NC(=O)CN2Cc3ccc(-c4nc(NC5CCOCC5)ncc4Cl)cc3C2=O)c1. Appending empty array\n",
      "Exception message: 'NoneType' object is not subscriptable\n"
     ]
    },
    {
     "name": "stdout",
     "output_type": "stream",
     "text": [
      "6ge0 Featurization Failed\n"
     ]
    },
    {
     "name": "stderr",
     "output_type": "stream",
     "text": [
      "Failed to featurize datapoint 0, CCNc1nc(NC2CC[NH+](C)CC2)c2cc(OC)c(OC)cc2n1. Appending empty array\n",
      "Exception message: 'NoneType' object is not subscriptable\n"
     ]
    },
    {
     "name": "stdout",
     "output_type": "stream",
     "text": [
      "5ttg Featurization Failed\n"
     ]
    },
    {
     "name": "stderr",
     "output_type": "stream",
     "text": [
      "Failed to featurize datapoint 0, CC(C)CC([NH3+])C(=O)N1CCCC1C(=O)NC(C)C(=O)NC(C(=O)NC(C(=O)NCC(=O)NC(CC(C)C)C(=O)NC(CO)C(=O)N1CCCC1C(=O)NCC(=O)NC(CCC(=O)[O-])C(=O)NC(CCC(N)=O)C(=O)NC(CCC(=O)[O-])C(=O)NC(Cc1ccc(O)cc1)C(=O)[O-])C(C)C)C(C)C. Appending empty array\n",
      "Exception message: 'NoneType' object is not subscriptable\n"
     ]
    },
    {
     "name": "stdout",
     "output_type": "stream",
     "text": [
      "1xh3 Featurization Failed\n"
     ]
    },
    {
     "name": "stderr",
     "output_type": "stream",
     "text": [
      "Failed to featurize datapoint 0, CCC(NC(=O)C(NC(=O)C(CCCNC(N)=[NH2+])NC(=O)C(C)NC(C)=O)C(C)O)C(=O)[O-]. Appending empty array\n",
      "Exception message: 'NoneType' object is not subscriptable\n"
     ]
    },
    {
     "name": "stdout",
     "output_type": "stream",
     "text": [
      "3psl Featurization Failed\n",
      "4lq3 Featurization Failed\n"
     ]
    },
    {
     "name": "stderr",
     "output_type": "stream",
     "text": [
      "Failed to featurize datapoint 0, CC(C)CC1NC(=O)C(NC(=O)C([NH3+])C(C)O)C(C)OC(=O)CC2NC(=O)C3COC(=O)CC(NC(=O)C(Cc4c[nH]c5ccccc45)NC2=O)C(=O)NC(C(=O)[O-])CC(=O)NCCCCC(NC1=O)C(=O)NC(Cc1ccccc1)C(=O)N1CCCC1C(=O)N3. Appending empty array\n",
      "Exception message: 'NoneType' object is not subscriptable\n"
     ]
    },
    {
     "name": "stdout",
     "output_type": "stream",
     "text": [
      "2cv3 Featurization Failed\n"
     ]
    },
    {
     "name": "stderr",
     "output_type": "stream",
     "text": [
      "Failed to featurize datapoint 0, Cn1cc(C2C[NH+](Cc3c(F)cccc3Br)CC2[NH+](C)C)c2ccccc21. Appending empty array\n",
      "Exception message: 'NoneType' object is not subscriptable\n"
     ]
    },
    {
     "name": "stdout",
     "output_type": "stream",
     "text": [
      "5u8a Featurization Failed\n"
     ]
    },
    {
     "name": "stderr",
     "output_type": "stream",
     "text": [
      "Failed to featurize datapoint 0, [NH3+]CC1CCCN1C(=O)C([NH3+])Cc1ccc(I)cc1. Appending empty array\n",
      "Exception message: 'NoneType' object is not subscriptable\n"
     ]
    },
    {
     "name": "stdout",
     "output_type": "stream",
     "text": [
      "1orw Featurization Failed\n"
     ]
    },
    {
     "name": "stderr",
     "output_type": "stream",
     "text": [
      "Failed to featurize datapoint 0, CC(NC(=O)c1cc(C(=O)NC(Cc2ccccc2)C(O)C[NH2+]C2CC2)cc(N(C)S(C)(=O)=O)c1)c1ccccc1. Appending empty array\n",
      "Exception message: 'NoneType' object is not subscriptable\n"
     ]
    },
    {
     "name": "stdout",
     "output_type": "stream",
     "text": [
      "3tpr Featurization Failed\n"
     ]
    },
    {
     "name": "stderr",
     "output_type": "stream",
     "text": [
      "Failed to featurize datapoint 0, CC(C)CC([NH3+])C(=O)NC(CC(C)C)C(=O)NC(C=O)CCCNC(N)=[NH2+]. Appending empty array\n",
      "Exception message: 'NoneType' object is not subscriptable\n"
     ]
    },
    {
     "name": "stdout",
     "output_type": "stream",
     "text": [
      "2psx Featurization Failed\n",
      "2clf Featurization Failed\n",
      "2e9a Featurization Failed\n"
     ]
    },
    {
     "name": "stderr",
     "output_type": "stream",
     "text": [
      "Failed to featurize datapoint 0, C=C1Nc2cc(C(=O)NC(C)c3cnn(C)c3C)ccc2N(CC)C1=O. Appending empty array\n",
      "Exception message: 'NoneType' object is not subscriptable\n"
     ]
    },
    {
     "name": "stdout",
     "output_type": "stream",
     "text": [
      "5o55 Featurization Failed\n"
     ]
    },
    {
     "name": "stderr",
     "output_type": "stream",
     "text": [
      "Failed to featurize datapoint 0, CC(C)CC(NC(=O)C(CCc1ccccc1)NC(=O)C[NH+]1CCOCC1)C(=O)NC(Cc1ccccc1)C(=O)NC(CC(C)C)C(O)C(C)CO. Appending empty array\n",
      "Exception message: 'NoneType' object is not subscriptable\n"
     ]
    },
    {
     "name": "stdout",
     "output_type": "stream",
     "text": [
      "4qws Featurization Failed\n"
     ]
    },
    {
     "name": "stderr",
     "output_type": "stream",
     "text": [
      "Failed to featurize datapoint 0, CC([NH3+])C(=O)NC(C(=O)N1CCCC1C(=O)NC(Cc1c[nH]c2ccccc12)C(=O)[O-])C(C)C. Appending empty array\n",
      "Exception message: 'NoneType' object is not subscriptable\n"
     ]
    },
    {
     "name": "stdout",
     "output_type": "stream",
     "text": [
      "2i3h Featurization Failed\n"
     ]
    },
    {
     "name": "stderr",
     "output_type": "stream",
     "text": [
      "Failed to featurize datapoint 0, CCC(NC(=O)c1ccc(OCc2ccccn2)c(C(F)(F)F)c1Cl)C(O)C(N)=O. Appending empty array\n",
      "Exception message: 'NoneType' object is not subscriptable\n"
     ]
    },
    {
     "name": "stdout",
     "output_type": "stream",
     "text": [
      "3ovz Featurization Failed\n"
     ]
    },
    {
     "name": "stderr",
     "output_type": "stream",
     "text": [
      "Failed to featurize datapoint 0, O=c1[nH]c(=O)c2[nH]c(=O)n(CC(O)C(O)C(O)CO)c2[nH]1. Appending empty array\n",
      "Exception message: 'NoneType' object is not subscriptable\n"
     ]
    },
    {
     "name": "stdout",
     "output_type": "stream",
     "text": [
      "2c9b Featurization Failed\n"
     ]
    },
    {
     "name": "stderr",
     "output_type": "stream",
     "text": [
      "Failed to featurize datapoint 0, [NH3+]Cc1ccc(-c2ccccc2)c(Cl)c1. Appending empty array\n",
      "Exception message: 'NoneType' object is not subscriptable\n"
     ]
    },
    {
     "name": "stdout",
     "output_type": "stream",
     "text": [
      "5csh Featurization Failed\n"
     ]
    },
    {
     "name": "stderr",
     "output_type": "stream",
     "text": [
      "Failed to featurize datapoint 0, COC(=O)C(NC(=O)CNC(=O)C(CS)[NH2+]Cc1ccc(-c2ccccc2)cc1)C(C)C. Appending empty array\n",
      "Exception message: 'NoneType' object is not subscriptable\n"
     ]
    },
    {
     "name": "stdout",
     "output_type": "stream",
     "text": [
      "1c3i Featurization Failed\n"
     ]
    },
    {
     "name": "stderr",
     "output_type": "stream",
     "text": [
      "Failed to featurize datapoint 0, [NH3+]C(CCc1ccc2[nH]c(=O)c(=O)[nH]c2c1)C(=O)[O-]. Appending empty array\n",
      "Exception message: 'NoneType' object is not subscriptable\n"
     ]
    },
    {
     "name": "stdout",
     "output_type": "stream",
     "text": [
      "4qf9 Featurization Failed\n",
      "5ema Featurization Failed\n"
     ]
    },
    {
     "name": "stderr",
     "output_type": "stream",
     "text": [
      "Failed to featurize datapoint 0, Nc1ncnc2c1ncn2C1OC(C(O)NS(=O)(=O)CC2C(CO)OC(n3ccc(=O)[nH]c3=O)C2O)C(O)C1O. Appending empty array\n",
      "Exception message: 'NoneType' object is not subscriptable\n"
     ]
    },
    {
     "name": "stdout",
     "output_type": "stream",
     "text": [
      "2xog Featurization Failed\n"
     ]
    },
    {
     "name": "stderr",
     "output_type": "stream",
     "text": [
      "Failed to featurize datapoint 0, C=C1C(O)CC(=CC=C2CCCC3(C)C2CCC3C(C)C(CCCC)CCC(OC)c2ccc(O)cc2)CC1O. Appending empty array\n",
      "Exception message: 'NoneType' object is not subscriptable\n"
     ]
    },
    {
     "name": "stdout",
     "output_type": "stream",
     "text": [
      "5xpm Featurization Failed\n"
     ]
    },
    {
     "name": "stderr",
     "output_type": "stream",
     "text": [
      "Failed to featurize datapoint 0, CCC(C)C(NC(=O)C(CCCC[NH3+])NC(=O)C(NC(=O)C(NC(=O)C1CCCN1C(=O)C(Cc1ccc(O)cc1)NC(=O)C(CC(C)C)NC(=O)C(CO)NC(=O)C(NC(=O)C(CC(N)=O)NC(=O)C([NH3+])C(C)O)C(C)C)C(C)C)C(C)C)C(=O)NC(CCCNC(N)=[NH2+])C(=O)NC(CCCNC(N)=[NH2+])C(=O)NC(CC(C)C)C(=O)NC(CO)C(=O)NC(CC(C)C)C(=O)[O-]. Appending empty array\n",
      "Exception message: 'PUGREST.BadRequest: error: '\n"
     ]
    },
    {
     "name": "stdout",
     "output_type": "stream",
     "text": [
      "3q6s Featurization Failed\n",
      "4p44 Featurization Failed\n"
     ]
    },
    {
     "name": "stderr",
     "output_type": "stream",
     "text": [
      "Failed to featurize datapoint 0, COc1ccc(CCC(OC(=O)C2CCCCN2C(=O)C(C(C)O)C2CCCCC2)c2cccc(OCC[NH+]3CCOCC3)c2)cc1OC. Appending empty array\n",
      "Exception message: 'NoneType' object is not subscriptable\n"
     ]
    },
    {
     "name": "stdout",
     "output_type": "stream",
     "text": [
      "5dit Featurization Failed\n"
     ]
    },
    {
     "name": "stderr",
     "output_type": "stream",
     "text": [
      "Failed to featurize datapoint 0, CC(C)n1nc(Nc2cc(C(F)(F)F)ccn2)cc1C1CC[NH2+]CC1. Appending empty array\n",
      "Exception message: 'NoneType' object is not subscriptable\n"
     ]
    },
    {
     "name": "stdout",
     "output_type": "stream",
     "text": [
      "5cep Featurization Failed\n",
      "3bwf Featurization Failed\n",
      "6df2 Featurization Failed\n"
     ]
    },
    {
     "name": "stderr",
     "output_type": "stream",
     "text": [
      "Failed to featurize datapoint 0, CCOCC(CC(C)C)NC(=O)C1C[NH2+]CC(C(=O)N(c2ccc(C(C)C)cn2)C2CC2)C1O. Appending empty array\n",
      "Exception message: 'NoneType' object is not subscriptable\n"
     ]
    },
    {
     "name": "stdout",
     "output_type": "stream",
     "text": [
      "4q1n Featurization Failed\n"
     ]
    },
    {
     "name": "stderr",
     "output_type": "stream",
     "text": [
      "Failed to featurize datapoint 0, CCON=C1CN(C(=O)NC(CC)c2ccc(C(=O)[O-])cc2)C(=O)C(Cc2cc(Cl)ccc2OC)CN1. Appending empty array\n",
      "Exception message: 'NoneType' object is not subscriptable\n"
     ]
    },
    {
     "name": "stdout",
     "output_type": "stream",
     "text": [
      "5yjp Featurization Failed\n",
      "4mg8 Featurization Failed\n",
      "4p5e Featurization Failed\n"
     ]
    },
    {
     "name": "stderr",
     "output_type": "stream",
     "text": [
      "Failed to featurize datapoint 0, CSCCC(NC(=O)C1CCCN1C(=O)C(Cc1ccc(O)cc1)NC(=O)C(CCCNC(N)=[NH2+])NC(=O)C(CO)NC(=O)C(Cc1ccc(O)cc1)NC(=O)C1CCCN1C(=O)C1CCCN1C(=O)C1CCCN1C(=O)C1CCCN1C(=O)C(CO)NC(=O)C(CCC(=O)[O-])NC(=O)C[NH3+])C(=O)NC(CC(=O)[O-])C(=O)[O-]. Appending empty array\n",
      "Exception message: 'NoneType' object is not subscriptable\n"
     ]
    },
    {
     "name": "stdout",
     "output_type": "stream",
     "text": [
      "2ltw Featurization Failed\n",
      "1h1d Featurization Failed\n"
     ]
    },
    {
     "name": "stderr",
     "output_type": "stream",
     "text": [
      "Failed to featurize datapoint 0, CSCCC(NC(=O)C(CC(=O)[O-])NC(=O)C(CC(=O)[O-])NC(=O)C([NH3+])CC(=O)[O-])C(=O)NCC(=O)NC(Cc1ccccc1)C(=O)NCC(=O)NC(CC(C)C)C(=O)NC(Cc1ccccc1)C(=O)NC(CC(=O)[O-])C(=O)[O-]. Appending empty array\n",
      "Exception message: 'NoneType' object is not subscriptable\n"
     ]
    },
    {
     "name": "stdout",
     "output_type": "stream",
     "text": [
      "2jdl Featurization Failed\n",
      "5tgc Featurization Failed\n",
      "6g2a Featurization Failed\n",
      "1w1d Featurization Failed\n"
     ]
    },
    {
     "name": "stderr",
     "output_type": "stream",
     "text": [
      "Failed to featurize datapoint 0, CCC(NC(=O)OC(C)(C)C)C(=O)NC(CC1CCCCC1)C(=O)NC(CO)CCC(=O)NC. Appending empty array\n",
      "Exception message: 'NoneType' object is not subscriptable\n"
     ]
    },
    {
     "name": "stdout",
     "output_type": "stream",
     "text": [
      "5dgj Featurization Failed\n",
      "4kij Featurization Failed\n"
     ]
    },
    {
     "name": "stderr",
     "output_type": "stream",
     "text": [
      "Failed to featurize datapoint 0, CCC(C)C(NC(=O)C([NH3+])CCC(=O)[O-])C(=O)NC(CCCNC(N)=[NH2+])C(=O)NC(CCC(=O)[O-])C(=O)NC(CCC(N)=O)C(=O)NCC(=O)NC(CC(=O)[O-])C(=O)NCC(=O)NC(C)C(=O)NC(CCC(=O)[O-])C(=O)NC(CC(=O)[O-])C(=O)NC(CCC(=O)[O-])C(=O)[O-]. Appending empty array\n",
      "Exception message: 'PUGREST.BadRequest: error: '\n"
     ]
    },
    {
     "name": "stdout",
     "output_type": "stream",
     "text": [
      "4z68 Featurization Failed\n"
     ]
    },
    {
     "name": "stderr",
     "output_type": "stream",
     "text": [
      "Failed to featurize datapoint 0, CCCCSCC1C[NH+](Cc2c[nH]c3c(N)ncnc23)CC1O. Appending empty array\n",
      "Exception message: 'NoneType' object is not subscriptable\n"
     ]
    },
    {
     "name": "stdout",
     "output_type": "stream",
     "text": [
      "4wkc Featurization Failed\n"
     ]
    },
    {
     "name": "stderr",
     "output_type": "stream",
     "text": [
      "Failed to featurize datapoint 0, CCC(C)C(NC(=O)C(CCCC[NH3+])NC(=O)C(Cc1c[nH]cn1)NC(=O)C([NH3+])CCCNC(N)=[NH2+])C(=O)NC(CC(C)C)C(=O)NC(Cc1c[nH]cn1)C(=O)NC(CCCNC(N)=[NH2+])C(=O)NC(CC(C)C)C(=O)NC(CC(C)C)C(=O)NC(CCC(N)=O)C(=O)NC(CCC(=O)[O-])C(=O)[O-]. Appending empty array\n",
      "Exception message: 'PUGREST.BadRequest: error: '\n"
     ]
    },
    {
     "name": "stdout",
     "output_type": "stream",
     "text": [
      "4fgy Featurization Failed\n"
     ]
    },
    {
     "name": "stderr",
     "output_type": "stream",
     "text": [
      "Failed to featurize datapoint 0, CSCCC(NC(=O)C(CC(C)C)NC(=O)CNC(=O)C(Cc1ccccc1)NC(=O)C(Cc1ccccc1)NC(=O)C(CCC(N)=O)NC(=O)C(CCC(N)=O)NC(=O)C1CCCN1C(=O)C(CCCC[NH3+])NC(=O)C1CCCN1C(=O)C([NH3+])CCCNC(N)=[NH2+])C(=O)[O-]. Appending empty array\n",
      "Exception message: 'NoneType' object is not subscriptable\n"
     ]
    },
    {
     "name": "stdout",
     "output_type": "stream",
     "text": [
      "2ks9 Featurization Failed\n"
     ]
    },
    {
     "name": "stderr",
     "output_type": "stream",
     "text": [
      "Failed to featurize datapoint 0, CC(C)CC(NC(=O)C(C)NC(=O)C1CCCN1C(=O)C1CCC[NH2+]1)C(=O)N1CCCC1C(=O)NC(CO)C(=O)NC(CO)C(=O)NC(C)C(=O)N1CCCC1C(=O)NC(CO)C(N)=O. Appending empty array\n",
      "Exception message: 'NoneType' object is not subscriptable\n"
     ]
    },
    {
     "name": "stdout",
     "output_type": "stream",
     "text": [
      "4cc7 Featurization Failed\n"
     ]
    },
    {
     "name": "stderr",
     "output_type": "stream",
     "text": [
      "Failed to featurize datapoint 0, CC([NH3+])C(=O)NC(CCCNC(N)=[NH2+])C(=O)NC(C(=O)NC(CCCC[NH3+])C(=O)[O-])C(C)O. Appending empty array\n",
      "Exception message: 'NoneType' object is not subscriptable\n"
     ]
    },
    {
     "name": "stdout",
     "output_type": "stream",
     "text": [
      "3uii Featurization Failed\n",
      "3tl0 Featurization Failed\n"
     ]
    },
    {
     "name": "stderr",
     "output_type": "stream",
     "text": [
      "Failed to featurize datapoint 0, CCC(C)C(NC(C)=O)C(=O)NC(C)C(=O)NC(Cc1ccccc1)C(=O)[O-]. Appending empty array\n",
      "Exception message: 'NoneType' object is not subscriptable\n"
     ]
    },
    {
     "name": "stdout",
     "output_type": "stream",
     "text": [
      "6m8w Featurization Failed\n"
     ]
    },
    {
     "name": "stderr",
     "output_type": "stream",
     "text": [
      "Failed to featurize datapoint 0, CC(C)C(NC(=O)C(CCCNC(N)=[NH2+])NC(=O)Cc1cccc(CNC(N)=[NH2+])c1)C(=O)NC(CCCNC(N)=[NH2+])C(=O)NCc1ccc(C(N)=[NH2+])cc1. Appending empty array\n",
      "Exception message: 'NoneType' object is not subscriptable\n"
     ]
    },
    {
     "name": "stdout",
     "output_type": "stream",
     "text": [
      "4omc Featurization Failed\n"
     ]
    },
    {
     "name": "stderr",
     "output_type": "stream",
     "text": [
      "Failed to featurize datapoint 0, Cc1c[nH]c2ncnc(N3CCC([NH3+])C3)c12. Appending empty array\n",
      "Exception message: 'NoneType' object is not subscriptable\n"
     ]
    },
    {
     "name": "stdout",
     "output_type": "stream",
     "text": [
      "3mv5 Featurization Failed\n"
     ]
    },
    {
     "name": "stderr",
     "output_type": "stream",
     "text": [
      "Failed to featurize datapoint 0, C[NH+](C)CCSC(Cc1ccccc1)=NOS(=O)(=O)[O-]. Appending empty array\n",
      "Exception message: 'NoneType' object is not subscriptable\n"
     ]
    },
    {
     "name": "stdout",
     "output_type": "stream",
     "text": [
      "2wxd Featurization Failed\n",
      "4uxb Featurization Failed\n",
      "5fqr Featurization Failed\n"
     ]
    },
    {
     "name": "stderr",
     "output_type": "stream",
     "text": [
      "Failed to featurize datapoint 0, CSCCC(NC(=O)C1CCCN1C(=O)C(NC(=O)C(CC(C)C)NC(=O)C([NH3+])CC(N)=O)C(C)C)C(=O)NC(C(=O)NC(C)C(=O)NC(C(=O)NC(C(=O)[O-])C(C)C)C(C)O)C(C)C. Appending empty array\n",
      "Exception message: 'NoneType' object is not subscriptable\n"
     ]
    },
    {
     "name": "stdout",
     "output_type": "stream",
     "text": [
      "2x4r Featurization Failed\n"
     ]
    },
    {
     "name": "stderr",
     "output_type": "stream",
     "text": [
      "Failed to featurize datapoint 0, COC(=O)NC(C(=O)N[NH+](CCC(O)(Cc1ccccc1)C(=O)NC1c2ccccc2CC1O)Cc1ccc(-c2ccccn2)cc1)C(C)(C)C. Appending empty array\n",
      "Exception message: 'NoneType' object is not subscriptable\n"
     ]
    },
    {
     "name": "stdout",
     "output_type": "stream",
     "text": [
      "2wkz Featurization Failed\n",
      "2z4z Featurization Failed\n",
      "3eor Featurization Failed\n",
      "4zx6 Featurization Failed\n",
      "3rg2 Featurization Failed\n"
     ]
    },
    {
     "name": "stderr",
     "output_type": "stream",
     "text": [
      "Failed to featurize datapoint 0, O=C([O-])c1occc(=O)c1O. Appending empty array\n",
      "Exception message: 'NoneType' object is not subscriptable\n"
     ]
    },
    {
     "name": "stdout",
     "output_type": "stream",
     "text": [
      "6dcz Featurization Failed\n"
     ]
    },
    {
     "name": "stderr",
     "output_type": "stream",
     "text": [
      "Failed to featurize datapoint 0, Cc1nc2ccc(CN(C)c3ccc(C(=O)NC(CCC(=O)[O-])C(=O)[O-])s3)cc2c(=O)[nH]1. Appending empty array\n",
      "Exception message: 'NoneType' object is not subscriptable\n"
     ]
    },
    {
     "name": "stdout",
     "output_type": "stream",
     "text": [
      "1i00 Featurization Failed\n",
      "5yun Featurization Failed\n"
     ]
    },
    {
     "name": "stderr",
     "output_type": "stream",
     "text": [
      "Failed to featurize datapoint 0, C#Cc1cc(C#CCOc2ccccc2)cc(C[NH+]2CCC([NH+](CC)CC)CC2)c1O. Appending empty array\n",
      "Exception message: 'NoneType' object is not subscriptable\n"
     ]
    },
    {
     "name": "stdout",
     "output_type": "stream",
     "text": [
      "5a7b Featurization Failed\n"
     ]
    },
    {
     "name": "stderr",
     "output_type": "stream",
     "text": [
      "Failed to featurize datapoint 0, CC(O)C([NH3+])C(=O)NS(=O)(=O)c1cccc(-c2ccc3[nH]ncc3c2)c1. Appending empty array\n",
      "Exception message: 'NoneType' object is not subscriptable\n"
     ]
    },
    {
     "name": "stdout",
     "output_type": "stream",
     "text": [
      "4hwr Featurization Failed\n"
     ]
    },
    {
     "name": "stderr",
     "output_type": "stream",
     "text": [
      "Failed to featurize datapoint 0, [NH2+]=c1[nH]c(=O)c2c([nH]1)n(C1OC(CNS(=O)(=O)C(F)(F)F)C(O)C1O)c[n+]2Cc1ccccc1. Appending empty array\n",
      "Exception message: 'NoneType' object is not subscriptable\n"
     ]
    },
    {
     "name": "stdout",
     "output_type": "stream",
     "text": [
      "5ei3 Featurization Failed\n"
     ]
    },
    {
     "name": "stderr",
     "output_type": "stream",
     "text": [
      "Failed to featurize datapoint 0, None. Appending empty array\n",
      "Exception message: Python argument types in\n",
      "    rdkit.Chem.rdmolfiles.MolToSmiles(NoneType)\n",
      "did not match C++ signature:\n",
      "    MolToSmiles(class RDKit::ROMol mol, bool isomericSmiles=False, bool kekuleSmiles=False, int rootedAtAtom=-1, bool canonical=True, bool allBondsExplicit=False, bool allHsExplicit=False)\n"
     ]
    },
    {
     "name": "stdout",
     "output_type": "stream",
     "text": [
      "3ro0 Featurization Failed\n"
     ]
    },
    {
     "name": "stderr",
     "output_type": "stream",
     "text": [
      "Failed to featurize datapoint 0, COCCCC1OC(n2c(NCc3ccc(Cl)cc3)nc3c(N)ncnc32)C(O)C1O. Appending empty array\n",
      "Exception message: 'NoneType' object is not subscriptable\n"
     ]
    },
    {
     "name": "stdout",
     "output_type": "stream",
     "text": [
      "5mks Featurization Failed\n"
     ]
    },
    {
     "name": "stderr",
     "output_type": "stream",
     "text": [
      "Failed to featurize datapoint 0, CC(NC(=O)C(CCC(=O)[O-])NC(=O)C(CC(=O)[O-])NC(=O)C(Cc1c[nH]cn1)NC(=O)C(Cc1c[nH]c2ccccc12)NC(=O)CNC(=O)C[NH3+])C(=O)NC(C(=O)NC(Cc1c[nH]c2ccccc12)C(=O)NC(CCCC[NH3+])C(=O)[O-])C(C)O. Appending empty array\n",
      "Exception message: 'NoneType' object is not subscriptable\n"
     ]
    },
    {
     "name": "stdout",
     "output_type": "stream",
     "text": [
      "5n8w Featurization Failed\n",
      "4d0x Featurization Failed\n"
     ]
    },
    {
     "name": "stderr",
     "output_type": "stream",
     "text": [
      "Failed to featurize datapoint 0, CN1CC(c2cn(C)nc2COc2ccc(-c3cccc4c3ncn4C)cc2)=CCC1=O. Appending empty array\n",
      "Exception message: 'NoneType' object is not subscriptable\n"
     ]
    },
    {
     "name": "stdout",
     "output_type": "stream",
     "text": [
      "4xy2 Featurization Failed\n",
      "5f41 Featurization Failed\n"
     ]
    },
    {
     "name": "stderr",
     "output_type": "stream",
     "text": [
      "Failed to featurize datapoint 0, O=c1[nH]c(=O)n(C2OC(CO)C(O)C(O)C2O)cc1Br. Appending empty array\n",
      "Exception message: 'NoneType' object is not subscriptable\n"
     ]
    },
    {
     "name": "stdout",
     "output_type": "stream",
     "text": [
      "3t3g Featurization Failed\n",
      "2e5y Featurization Failed\n"
     ]
    },
    {
     "name": "stderr",
     "output_type": "stream",
     "text": [
      "Failed to featurize datapoint 0, O=C(Cc1cccs1)NC(Cn1cc(C(=O)[O-])nn1)B(O)O. Appending empty array\n",
      "Exception message: 'NoneType' object is not subscriptable\n"
     ]
    },
    {
     "name": "stdout",
     "output_type": "stream",
     "text": [
      "5eec Featurization Failed\n",
      "3k16 Featurization Failed\n",
      "4umj Featurization Failed\n"
     ]
    },
    {
     "name": "stderr",
     "output_type": "stream",
     "text": [
      "Failed to featurize datapoint 0, CCC(C)C1NC(=O)C(CCCC[NH3+])NC(=O)C(CC(C)C)NC(=O)C(CO)NC(=O)C(CC(=O)[O-])NC(=O)C(CCC(=O)[O-])NC(=O)C(CC(N)=O)NC(=O)C(CC(=O)[O-])NC1=O. Appending empty array\n",
      "Exception message: 'NoneType' object is not subscriptable\n"
     ]
    },
    {
     "name": "stdout",
     "output_type": "stream",
     "text": [
      "3avk Featurization Failed\n"
     ]
    },
    {
     "name": "stderr",
     "output_type": "stream",
     "text": [
      "Failed to featurize datapoint 0, COC1C=COC2(C)Oc3c(C)c(O)c4c(O)c(c(C[NH2+][NH+]5CC[NH+](C6CCCC6)CC5)c(O)c4c3C2=O)NC(=O)C(C)=CC=CC(C)C(O)C(C)C(O)C(C)C(OC(C)=O)C1C. Appending empty array\n",
      "Exception message: 'PUGREST.BadRequest: error: '\n"
     ]
    },
    {
     "name": "stdout",
     "output_type": "stream",
     "text": [
      "6beh Featurization Failed\n",
      "1csh Featurization Failed\n",
      "3kbz Featurization Failed\n",
      "6czd Featurization Failed\n"
     ]
    },
    {
     "name": "stderr",
     "output_type": "stream",
     "text": [
      "Failed to featurize datapoint 0, CC(C)CC(NC(=O)C([NH3+])Cc1ccc(O)cc1)C(=O)NC(C(=O)NC(C(=O)NC(CO)C(=O)NC(C(=O)[O-])C(C)C)C(C)O)C(C)C. Appending empty array\n",
      "Exception message: 'NoneType' object is not subscriptable\n"
     ]
    },
    {
     "name": "stdout",
     "output_type": "stream",
     "text": [
      "4g69 Featurization Failed\n"
     ]
    },
    {
     "name": "stderr",
     "output_type": "stream",
     "text": [
      "Failed to featurize datapoint 0, CC(=O)NC(C(=O)NC(C(=O)NC(CC1CCCCC1)C(=O)NC(Cc1c[nH]cn1)C(=O)[O-])C(C)C)C(C)O. Appending empty array\n",
      "Exception message: 'NoneType' object is not subscriptable\n"
     ]
    },
    {
     "name": "stdout",
     "output_type": "stream",
     "text": [
      "3atw Featurization Failed\n",
      "2frd Featurization Failed\n"
     ]
    },
    {
     "name": "stderr",
     "output_type": "stream",
     "text": [
      "Failed to featurize datapoint 0, CC(C)CC(NC(=O)C(CCCNC(N)=[NH2+])NC(=O)C1CCCN1C(=O)C(CCCNC(N)=[NH2+])NC(=O)C(CC(N)=O)NC(=O)C(CCCNC(N)=[NH2+])NC(=O)C1CCCN1C(=O)C1CCCN1C(=O)C(CC(C)C)NC(=O)C1CCCN1C(=O)C1CCCN1C(=O)C(C)[NH3+])C(=O)[O-]. Appending empty array\n",
      "Exception message: 'NoneType' object is not subscriptable\n"
     ]
    },
    {
     "name": "stdout",
     "output_type": "stream",
     "text": [
      "1qwe Featurization Failed\n"
     ]
    },
    {
     "name": "stderr",
     "output_type": "stream",
     "text": [
      "Failed to featurize datapoint 0, CC(C)CC(NC(=O)C([NH3+])CCCC[NH3+])C(=O)NC(CCCC[NH3+])C(=O)[O-]. Appending empty array\n",
      "Exception message: 'NoneType' object is not subscriptable\n"
     ]
    },
    {
     "name": "stdout",
     "output_type": "stream",
     "text": [
      "1b9j Featurization Failed\n",
      "4ixu Featurization Failed\n"
     ]
    },
    {
     "name": "stderr",
     "output_type": "stream",
     "text": [
      "Failed to featurize datapoint 0, CCC(CO)NC(=O)CCc1nc2ccccc2c(=O)[nH]1. Appending empty array\n",
      "Exception message: 'NoneType' object is not subscriptable\n"
     ]
    },
    {
     "name": "stdout",
     "output_type": "stream",
     "text": [
      "4l7r Featurization Failed\n"
     ]
    },
    {
     "name": "stderr",
     "output_type": "stream",
     "text": [
      "Failed to featurize datapoint 0, CCC(C)C(NC(=O)C(NC(=O)C(CC(C)C)NC(=O)C(C)NC(=O)C1CCCN1C(=O)C(CC(C)C)NC(=O)C(NC(=O)C1CCCN1C(=O)C(CCCC[NH3+])NC(=O)C(CCCNC(N)=[NH2+])NC(=O)C(C)[NH3+])C(C)C)C(C)O)C(=O)NC(C)C(=O)[O-]. Appending empty array\n",
      "Exception message: 'NoneType' object is not subscriptable\n"
     ]
    },
    {
     "name": "stdout",
     "output_type": "stream",
     "text": [
      "4h3q Featurization Failed\n"
     ]
    },
    {
     "name": "stderr",
     "output_type": "stream",
     "text": [
      "Failed to featurize datapoint 0, Cc1ccccc1CC(C)(C)[NH2+]CC(O)c1ccc(O)c2c1OCC(=O)N2. Appending empty array\n",
      "Exception message: 'NoneType' object is not subscriptable\n"
     ]
    },
    {
     "name": "stdout",
     "output_type": "stream",
     "text": [
      "3p0g Featurization Failed\n"
     ]
    },
    {
     "name": "stderr",
     "output_type": "stream",
     "text": [
      "Failed to featurize datapoint 0, CC(NC(=O)C(C)NC(=O)C(CCC(=O)[O-])NC(=O)C([NH3+])CCCNC(N)=[NH2+])C(=O)[O-]. Appending empty array\n",
      "Exception message: 'NoneType' object is not subscriptable\n"
     ]
    },
    {
     "name": "stdout",
     "output_type": "stream",
     "text": [
      "3nik Featurization Failed\n"
     ]
    },
    {
     "name": "stderr",
     "output_type": "stream",
     "text": [
      "Failed to featurize datapoint 0, COCc1cn(C2C=C(C(=O)[O-])OC(C(O)C(O)CO)C2NC(=O)C(C)C)nn1. Appending empty array\n",
      "Exception message: 'NoneType' object is not subscriptable\n"
     ]
    },
    {
     "name": "stdout",
     "output_type": "stream",
     "text": [
      "5kv8 Featurization Failed\n"
     ]
    },
    {
     "name": "stderr",
     "output_type": "stream",
     "text": [
      "Failed to featurize datapoint 0, COc1cc(S(=O)(=O)N(CC(C)C)C(C(=O)NO)C(C)C)ccc1F. Appending empty array\n",
      "Exception message: 'NoneType' object is not subscriptable\n"
     ]
    },
    {
     "name": "stdout",
     "output_type": "stream",
     "text": [
      "4xm7 Featurization Failed\n",
      "4wku Featurization Failed\n"
     ]
    },
    {
     "name": "stderr",
     "output_type": "stream",
     "text": [
      "Failed to featurize datapoint 0, [NH3+]CCCNc1nc(Nc2cccc(NC(=O)N3CCCC3)c2)ncc1I. Appending empty array\n",
      "Exception message: 'NoneType' object is not subscriptable\n"
     ]
    },
    {
     "name": "stdout",
     "output_type": "stream",
     "text": [
      "5ci7 Featurization Failed\n"
     ]
    },
    {
     "name": "stderr",
     "output_type": "stream",
     "text": [
      "Failed to featurize datapoint 0, CCC(C)C(NC(=O)C(CO)NC(=O)C(NC(=O)C(CCC(N)=O)NC(=O)C(CC(C)C)NC(=O)C(CC(=O)[O-])NC(C)=O)C(C)O)C(=O)[O-]. Appending empty array\n",
      "Exception message: 'NoneType' object is not subscriptable\n"
     ]
    },
    {
     "name": "stdout",
     "output_type": "stream",
     "text": [
      "6exj Featurization Failed\n"
     ]
    },
    {
     "name": "stderr",
     "output_type": "stream",
     "text": [
      "Failed to featurize datapoint 0, [NH2+]=c1[nH]c(=O)c2[nH]c(SCc3ccc(F)cc3)nc2[nH]1. Appending empty array\n",
      "Exception message: 'NoneType' object is not subscriptable\n"
     ]
    },
    {
     "name": "stdout",
     "output_type": "stream",
     "text": [
      "5etm Featurization Failed\n",
      "5uwj Featurization Failed\n"
     ]
    },
    {
     "name": "stderr",
     "output_type": "stream",
     "text": [
      "Failed to featurize datapoint 0, O=C(OC1OC(C(=O)[O-])C(O)C(O)C1O)c1c[nH]c2cc(Cl)c(-c3ccc(C4(O)CCC4)cc3)cc12. Appending empty array\n",
      "Exception message: 'NoneType' object is not subscriptable\n"
     ]
    },
    {
     "name": "stdout",
     "output_type": "stream",
     "text": [
      "6e4t Featurization Failed\n"
     ]
    },
    {
     "name": "stderr",
     "output_type": "stream",
     "text": [
      "Failed to featurize datapoint 0, COc1ccc(C2=NN(C(C)C)C(=O)C3CC=CCC23)cc1-c1ccc(C(=O)N2CCC(O)C2)cc1. Appending empty array\n",
      "Exception message: 'NoneType' object is not subscriptable\n"
     ]
    },
    {
     "name": "stdout",
     "output_type": "stream",
     "text": [
      "5g5v Featurization Failed\n",
      "3jq9 Featurization Failed\n"
     ]
    },
    {
     "name": "stderr",
     "output_type": "stream",
     "text": [
      "Failed to featurize datapoint 0, OCC1[NH2+][NH2+]CC(O)C1O. Appending empty array\n",
      "Exception message: 'PUGREST.BadRequest: error: '\n"
     ]
    },
    {
     "name": "stdout",
     "output_type": "stream",
     "text": [
      "2j7h Featurization Failed\n",
      "5hyr Featurization Failed\n"
     ]
    },
    {
     "name": "stderr",
     "output_type": "stream",
     "text": [
      "Failed to featurize datapoint 0, CN1C(=[NH2+])NC(c2ccc(OC(F)(F)F)cc2)(c2ccc(F)c(-c3cncnc3)c2)C1=O. Appending empty array\n",
      "Exception message: 'NoneType' object is not subscriptable\n"
     ]
    },
    {
     "name": "stdout",
     "output_type": "stream",
     "text": [
      "3inh Featurization Failed\n"
     ]
    },
    {
     "name": "stderr",
     "output_type": "stream",
     "text": [
      "Failed to featurize datapoint 0, CCc1nc2ccc(OC)cc2nc1OC1CC2C(=O)NC3(C(=O)NS(=O)(=O)C4CC4)CC3CCCCCCCC(NC(=O)OC(C)(C)C)C(=O)N2C1. Appending empty array\n",
      "Exception message: 'NoneType' object is not subscriptable\n"
     ]
    },
    {
     "name": "stdout",
     "output_type": "stream",
     "text": [
      "5epn Featurization Failed\n"
     ]
    },
    {
     "name": "stderr",
     "output_type": "stream",
     "text": [
      "Failed to featurize datapoint 0, CC(C)Oc1cc2c(OC3CCC[NH2+]C3)ccnc2cc1C(N)=O. Appending empty array\n",
      "Exception message: 'NoneType' object is not subscriptable\n"
     ]
    },
    {
     "name": "stdout",
     "output_type": "stream",
     "text": [
      "5uis Featurization Failed\n"
     ]
    },
    {
     "name": "stderr",
     "output_type": "stream",
     "text": [
      "Failed to featurize datapoint 0, COc1cc(OC2CC[NH+](C)CC2)ccc1Nc1ncc2c(n1)n(C1CCCC1)c(=O)n2C. Appending empty array\n",
      "Exception message: 'NoneType' object is not subscriptable\n"
     ]
    },
    {
     "name": "stdout",
     "output_type": "stream",
     "text": [
      "5ap3 Featurization Failed\n"
     ]
    },
    {
     "name": "stderr",
     "output_type": "stream",
     "text": [
      "Failed to featurize datapoint 0, CSCCC(NC(=O)C(CC(=O)[O-])NC(C)=O)C(=O)NC(CCC(N)=O)C(=O)NC(CO)CC(=O)[O-]. Appending empty array\n",
      "Exception message: 'NoneType' object is not subscriptable\n"
     ]
    },
    {
     "name": "stdout",
     "output_type": "stream",
     "text": [
      "2h5j Featurization Failed\n",
      "2p1c Featurization Failed\n"
     ]
    },
    {
     "name": "stderr",
     "output_type": "stream",
     "text": [
      "Failed to featurize datapoint 0, None. Appending empty array\n",
      "Exception message: Python argument types in\n",
      "    rdkit.Chem.rdmolfiles.MolToSmiles(NoneType)\n",
      "did not match C++ signature:\n",
      "    MolToSmiles(class RDKit::ROMol mol, bool isomericSmiles=False, bool kekuleSmiles=False, int rootedAtAtom=-1, bool canonical=True, bool allBondsExplicit=False, bool allHsExplicit=False)\n"
     ]
    },
    {
     "name": "stdout",
     "output_type": "stream",
     "text": [
      "3pab Featurization Failed\n"
     ]
    },
    {
     "name": "stderr",
     "output_type": "stream",
     "text": [
      "Failed to featurize datapoint 0, C[NH+](C)CC(O)COc1ccc(Nc2cc(Nc3c(F)cccc3F)ncn2)cc1. Appending empty array\n",
      "Exception message: 'NoneType' object is not subscriptable\n"
     ]
    },
    {
     "name": "stdout",
     "output_type": "stream",
     "text": [
      "1h00 Featurization Failed\n"
     ]
    },
    {
     "name": "stderr",
     "output_type": "stream",
     "text": [
      "Failed to featurize datapoint 0, O=C([O-])c1ccnc2cc(C(OCC[NH+]3CCCCC3)c3ccccc3Cl)[nH]c12. Appending empty array\n",
      "Exception message: 'NoneType' object is not subscriptable\n"
     ]
    },
    {
     "name": "stdout",
     "output_type": "stream",
     "text": [
      "6bh1 Featurization Failed\n"
     ]
    },
    {
     "name": "stderr",
     "output_type": "stream",
     "text": [
      "Failed to featurize datapoint 0, CC(C)CC(NC(=O)C(C)NC(=O)C(CC(N)=O)NC(=O)C(CCC(=O)[O-])NC(=O)C(NC(=O)C(C)NC(=O)C(NC(=O)C([NH3+])Cc1c[nH]cn1)C(C)C)C(C)C)C(=O)[O-]. Appending empty array\n",
      "Exception message: 'NoneType' object is not subscriptable\n"
     ]
    },
    {
     "name": "stdout",
     "output_type": "stream",
     "text": [
      "4o2f Featurization Failed\n",
      "5eud Featurization Failed\n",
      "5aqk Featurization Failed\n"
     ]
    },
    {
     "name": "stderr",
     "output_type": "stream",
     "text": [
      "Failed to featurize datapoint 0, C[NH2+]CCCCC(NC(=O)C(CCCNC(N)=[NH2+])NC(=O)C(C)NC(=O)C(NC(=O)C(CCC(N)=O)NC(=O)C(CCCC[NH2+]C)NC(=O)C([NH3+])C(C)O)C(C)O)C(=O)NC(CO)C(=O)NC(C(=O)[O-])C(C)O. Appending empty array\n",
      "Exception message: 'NoneType' object is not subscriptable\n"
     ]
    },
    {
     "name": "stdout",
     "output_type": "stream",
     "text": [
      "4iuv Featurization Failed\n"
     ]
    },
    {
     "name": "stderr",
     "output_type": "stream",
     "text": [
      "Failed to featurize datapoint 0, CC(=O)NC1C(O)CC(OC2C(O)C(OC3C(CO)OC(O)C(O)C3O)OC(CO)C2OC2OC(CO)C(O)C(OC3OC(CO)C(O)C(O)C3O)C2NC(C)=O)(C(=O)[O-])OC1C(O)C(O)CO. Appending empty array\n",
      "Exception message: 'NoneType' object is not subscriptable\n"
     ]
    },
    {
     "name": "stdout",
     "output_type": "stream",
     "text": [
      "4l6t Featurization Failed\n"
     ]
    },
    {
     "name": "stderr",
     "output_type": "stream",
     "text": [
      "Failed to featurize datapoint 0, Cc1ccc(F)c(C(=O)C=C(O)C(=O)[O-])c1Cl. Appending empty array\n",
      "Exception message: 'NoneType' object is not subscriptable\n"
     ]
    },
    {
     "name": "stdout",
     "output_type": "stream",
     "text": [
      "3sb0 Featurization Failed\n"
     ]
    },
    {
     "name": "stderr",
     "output_type": "stream",
     "text": [
      "Failed to featurize datapoint 0, CSCCC(NC(=O)C(Cc1c[nH]cn1)NC(=O)C(CCC(N)=O)NC(=O)C(CCCNC(N)=[NH2+])NC(=O)C(CCC(=O)[O-])NC(=O)C(Cc1ccccc1)NC(=O)C(CCCC[NH3+])NC(=O)C(C)NC(=O)C(C)NC(=O)C(C)NC(=O)C(NC(=O)C(CCC(=O)[O-])NC(=O)C([NH3+])CCCC[NH3+])C(C)O)C(=O)NC(CC(=O)[O-])C(=O)NC(CO)C(N)=O. Appending empty array\n",
      "Exception message: 'NoneType' object is not subscriptable\n"
     ]
    },
    {
     "name": "stdout",
     "output_type": "stream",
     "text": [
      "1j80 Featurization Failed\n"
     ]
    },
    {
     "name": "stderr",
     "output_type": "stream",
     "text": [
      "Failed to featurize datapoint 0, O=C(Nc1cnccc1OC1CC[NH2+]C1)c1csc(-c2c(F)cccc2F)n1. Appending empty array\n",
      "Exception message: 'NoneType' object is not subscriptable\n"
     ]
    },
    {
     "name": "stdout",
     "output_type": "stream",
     "text": [
      "4x7q Featurization Failed\n",
      "5lu2 Featurization Failed\n",
      "5xmt Featurization Failed\n",
      "5xs2 Featurization Failed\n"
     ]
    },
    {
     "name": "stderr",
     "output_type": "stream",
     "text": [
      "Failed to featurize datapoint 0, Cc1ccccc1Nc1nc2cc(F)c(N(C)C(=O)C=CC[NH+](C)C)cc2n2cncc12. Appending empty array\n",
      "Exception message: 'NoneType' object is not subscriptable\n"
     ]
    },
    {
     "name": "stdout",
     "output_type": "stream",
     "text": [
      "3t9t Featurization Failed\n",
      "4tk3 Featurization Failed\n"
     ]
    },
    {
     "name": "stderr",
     "output_type": "stream",
     "text": [
      "Failed to featurize datapoint 0, CC1C[NH+](CC(=O)N2CC(C)(C)c3ncc(Cc4ccccc4)cc32)C(CN2CCCC2=O)C[NH2+]1. Appending empty array\n",
      "Exception message: 'NoneType' object is not subscriptable\n"
     ]
    },
    {
     "name": "stdout",
     "output_type": "stream",
     "text": [
      "5m6m Featurization Failed\n"
     ]
    },
    {
     "name": "stderr",
     "output_type": "stream",
     "text": [
      "Failed to featurize datapoint 0, C[N+](C)(C)CCCN1C(=O)C2C(C1=O)C(c1ccc(C(N)=[NH2+])cc1)[NH+]1CCCC21. Appending empty array\n",
      "Exception message: 'NoneType' object is not subscriptable\n"
     ]
    },
    {
     "name": "stdout",
     "output_type": "stream",
     "text": [
      "2bok Featurization Failed\n"
     ]
    },
    {
     "name": "stderr",
     "output_type": "stream",
     "text": [
      "Failed to featurize datapoint 0, CC(=O)NC1C(O)OC(CO)C(OC2OC(CO)C(O)C(OC3(C(=O)[O-])CC(O)C(NC(C)=O)C(C(O)C(O)CO)O3)C2O)C1O. Appending empty array\n",
      "Exception message: 'NoneType' object is not subscriptable\n"
     ]
    },
    {
     "name": "stdout",
     "output_type": "stream",
     "text": [
      "4k63 Featurization Failed\n"
     ]
    },
    {
     "name": "stderr",
     "output_type": "stream",
     "text": [
      "Failed to featurize datapoint 0, CC(C)Oc1cccc(C[NH+]2CCC3(CC2C)CN(C)S(=O)(=O)N3c2cccc(F)c2)c1. Appending empty array\n",
      "Exception message: 'NoneType' object is not subscriptable\n"
     ]
    },
    {
     "name": "stdout",
     "output_type": "stream",
     "text": [
      "4fm8 Featurization Failed\n",
      "4mic Featurization Failed\n",
      "1ag9 Featurization Failed\n"
     ]
    },
    {
     "name": "stderr",
     "output_type": "stream",
     "text": [
      "Failed to featurize datapoint 0, CC(=O)NC1C([NH3+])C=C(C(=O)[O-])OC1C(O)C(O)C[NH3+]. Appending empty array\n",
      "Exception message: 'NoneType' object is not subscriptable\n"
     ]
    },
    {
     "name": "stdout",
     "output_type": "stream",
     "text": [
      "1f8e Featurization Failed\n"
     ]
    },
    {
     "name": "stderr",
     "output_type": "stream",
     "text": [
      "Failed to featurize datapoint 0, COc1ccc(S(=O)(=O)N(CC(C)C)CC(O)C(Cc2ccccc2)NC(=O)OC2CC3NC(=O)OC3C2)cc1. Appending empty array\n",
      "Exception message: 'NoneType' object is not subscriptable\n"
     ]
    },
    {
     "name": "stdout",
     "output_type": "stream",
     "text": [
      "6e9a Featurization Failed\n"
     ]
    },
    {
     "name": "stderr",
     "output_type": "stream",
     "text": [
      "Failed to featurize datapoint 0, CC(C)CC(NC(=O)C(CCC(=O)[O-])NC(=O)C([NH3+])CCCNC(N)=[NH2+])C(=O)NC(CC(C)C)C(=O)N1CCCC1C(=O)NC(CCC(=O)[O-])C(=O)NC(CC(C)C)C(=O)N1CCCC1C(=O)NC(Cc1c[nH]cn1)C(=O)N1CCCC1C(=O)N1CCCC1C=O. Appending empty array\n",
      "Exception message: 'NoneType' object is not subscriptable\n"
     ]
    },
    {
     "name": "stdout",
     "output_type": "stream",
     "text": [
      "2w2u Featurization Failed\n",
      "1gpy Featurization Failed\n"
     ]
    },
    {
     "name": "stderr",
     "output_type": "stream",
     "text": [
      "Failed to featurize datapoint 0, O=C(Cc1cccs1)NC(Cn1cc(-c2cccc(C(=O)[O-])c2)nn1)B(O)O. Appending empty array\n",
      "Exception message: 'NoneType' object is not subscriptable\n"
     ]
    },
    {
     "name": "stdout",
     "output_type": "stream",
     "text": [
      "5w14 Featurization Failed\n"
     ]
    },
    {
     "name": "stderr",
     "output_type": "stream",
     "text": [
      "Failed to featurize datapoint 0, Nc1ncnc2c(C[NH+]3CC(O)C(O)C3CO)c[nH]c12. Appending empty array\n",
      "Exception message: 'NoneType' object is not subscriptable\n"
     ]
    },
    {
     "name": "stdout",
     "output_type": "stream",
     "text": [
      "4i71 Featurization Failed\n"
     ]
    },
    {
     "name": "stderr",
     "output_type": "stream",
     "text": [
      "Failed to featurize datapoint 0, CCC(C)C(NC(=O)C([NH3+])CC(N)=O)C(=O)NC(CCC(=O)[O-])C(=O)NC(Cc1ccccc1)C(=O)NC(CCCNC(N)=[NH2+])C(=O)NC(CCCC[NH3+])C(=O)NC(C)C(=O)NC(Cc1ccccc1)C(=O)NC(CC(C)C)C(=O)NC(CCCC[NH3+])C(=O)NC(C(=O)NC(CC(C)C)C(=O)NC(Cc1c[nH]cn1)C(=O)NC(CO)C(=O)[O-])C(C)CC. Appending empty array\n",
      "Exception message: 'PUGREST.BadRequest: error: '\n"
     ]
    },
    {
     "name": "stdout",
     "output_type": "stream",
     "text": [
      "5aer Featurization Failed\n"
     ]
    },
    {
     "name": "stderr",
     "output_type": "stream",
     "text": [
      "Failed to featurize datapoint 0, CN1CCC2=C1CCC(c1cn3c(n1)CC=C3)C2. Appending empty array\n",
      "Exception message: 'NoneType' object is not subscriptable\n"
     ]
    },
    {
     "name": "stdout",
     "output_type": "stream",
     "text": [
      "6dai Featurization Failed\n"
     ]
    },
    {
     "name": "stderr",
     "output_type": "stream",
     "text": [
      "Failed to featurize datapoint 0, CCc1ccccc1-c1c(Cl)cc(C[NH3+])cc1Cl. Appending empty array\n",
      "Exception message: 'NoneType' object is not subscriptable\n"
     ]
    },
    {
     "name": "stdout",
     "output_type": "stream",
     "text": [
      "5otz Featurization Failed\n"
     ]
    },
    {
     "name": "stderr",
     "output_type": "stream",
     "text": [
      "Failed to featurize datapoint 0, CC(=O)Nc1ccccc1Oc1nc(Nc2ccc(N3CC[NH+](C)CC3)cc2)ncc1Cl. Appending empty array\n",
      "Exception message: 'NoneType' object is not subscriptable\n"
     ]
    },
    {
     "name": "stdout",
     "output_type": "stream",
     "text": [
      "5e7r Featurization Failed\n"
     ]
    },
    {
     "name": "stderr",
     "output_type": "stream",
     "text": [
      "Failed to featurize datapoint 0, OCC1OC(OC2C(O)C(CO)OC(OC3C(O)C(CO)OC(n4cc(COCc5ccc6ccccc6c5)nn4)C3O)C2O)C(O)C(O)C1O. Appending empty array\n",
      "Exception message: 'NoneType' object is not subscriptable\n"
     ]
    },
    {
     "name": "stdout",
     "output_type": "stream",
     "text": [
      "5o9o Featurization Failed\n"
     ]
    },
    {
     "name": "stderr",
     "output_type": "stream",
     "text": [
      "Failed to featurize datapoint 0, CSCCC(NC(=O)C(CC(C)C)NC(=O)C(CCCC[NH3+])NC(=O)C(CCCC[NH3+])NC(=O)C([NH3+])Cc1c[nH]cn1)C(=O)[O-]. Appending empty array\n",
      "Exception message: 'NoneType' object is not subscriptable\n"
     ]
    },
    {
     "name": "stdout",
     "output_type": "stream",
     "text": [
      "4bv2 Featurization Failed\n"
     ]
    },
    {
     "name": "stderr",
     "output_type": "stream",
     "text": [
      "Failed to featurize datapoint 0, CSCCC(NC(=O)C1CSSCC(NC(=O)C(CC(N)=O)NC(=O)C([NH3+])CCCNC(N)=[NH2+])C(=O)NC(Cc2ccccc2)C(=O)NC(CCC(=O)[O-])C(=O)NC(CO)C(=O)NC(C(C)C)C(=O)NC(C)C(=O)NC(C)C(=O)NC(CC(C)C)C(=O)NC(CCCNC(N)=[NH2+])C(=O)NC(CCCNC(N)=[NH2+])C(=O)N1)C(=O)NC(Cc1ccc(O)cc1)C(=O)NCC(=O)[O-]. Appending empty array\n",
      "Exception message: 'NoneType' object is not subscriptable\n"
     ]
    },
    {
     "name": "stdout",
     "output_type": "stream",
     "text": [
      "1pmx Featurization Failed\n"
     ]
    },
    {
     "name": "stderr",
     "output_type": "stream",
     "text": [
      "Failed to featurize datapoint 0, CC(C)C(NC(=O)C(CCC(N)=O)NC(=O)C(NC(=O)C(CCC(=O)[O-])NC(=O)C(CC(N)=O)NC(=O)C(CCCNC(N)=[NH2+])NC(=O)C(CCC(N)=O)NC(=O)C(CCCNC(N)=[NH2+])NC(=O)C(NC(=O)C(CCCNC(N)=[NH2+])NC(=O)C1CCC(O)[NH2+]1)C(C)O)C(C)O)C(=O)[O-]. Appending empty array\n",
      "Exception message: 'PUGREST.BadRequest: error: '\n"
     ]
    },
    {
     "name": "stdout",
     "output_type": "stream",
     "text": [
      "2m3m Featurization Failed\n",
      "5klt Featurization Failed\n",
      "4p74 Featurization Failed\n"
     ]
    },
    {
     "name": "stderr",
     "output_type": "stream",
     "text": [
      "Failed to featurize datapoint 0, CC(C)CC(NC(=O)C(NC(=O)C(C)[NH3+])C(C)C)C(=O)NC(C=N)CCC(N)=O. Appending empty array\n",
      "Exception message: 'NoneType' object is not subscriptable\n"
     ]
    },
    {
     "name": "stdout",
     "output_type": "stream",
     "text": [
      "3vb6 Featurization Failed\n"
     ]
    },
    {
     "name": "stderr",
     "output_type": "stream",
     "text": [
      "Failed to featurize datapoint 0, CC(NC(=O)C(Cc1ccc(O)cc1)NC(=O)C(CC(=O)[O-])NC(=O)C1CCCN1C(=O)C(NC(=O)C(CC(=O)[O-])NC(=O)C([NH3+])Cc1ccc(O)cc1)C(C)C)C(=O)NC(CO)C(N)=O. Appending empty array\n",
      "Exception message: 'NoneType' object is not subscriptable\n"
     ]
    },
    {
     "name": "stdout",
     "output_type": "stream",
     "text": [
      "1him Featurization Failed\n"
     ]
    },
    {
     "name": "stderr",
     "output_type": "stream",
     "text": [
      "Failed to featurize datapoint 0, COc1cccc2c(O)c3c(O)c4c(c(O)c3c(O)c12)C(OC1CC([NH3+])C(O)C(C)O1)CC(O)(C(=O)CO)C4. Appending empty array\n",
      "Exception message: 'NoneType' object is not subscriptable\n"
     ]
    },
    {
     "name": "stdout",
     "output_type": "stream",
     "text": [
      "1i1e Featurization Failed\n"
     ]
    },
    {
     "name": "stderr",
     "output_type": "stream",
     "text": [
      "Failed to featurize datapoint 0, Nc1ccc(C2c3ccc(O)cc3Oc3cc(O)ccc32)c(C(=O)[O-])c1. Appending empty array\n",
      "Exception message: 'NoneType' object is not subscriptable\n"
     ]
    },
    {
     "name": "stdout",
     "output_type": "stream",
     "text": [
      "4zs3 Featurization Failed\n",
      "2itk Featurization Failed\n",
      "4l7n Featurization Failed\n"
     ]
    },
    {
     "name": "stderr",
     "output_type": "stream",
     "text": [
      "Failed to featurize datapoint 0, CCC(C)C(NC(=O)C(CO)NC(=O)C([NH3+])Cc1ccccc1)C(=O)NC(C(=O)NCC(=O)NC(CO)C(=O)NC(CC(C)C)C(=O)N1CCCC1C(=O)NC(CCCNC(N)=[NH2+])C(=O)NC(CC(=O)[O-])C(=O)NC(Cc1ccccc1)C(=O)NC(CCC(=O)[O-])C(=O)NC(CC(C)C)C(=O)O)C(C)C. Appending empty array\n",
      "Exception message: 'NoneType' object is not subscriptable\n"
     ]
    },
    {
     "name": "stdout",
     "output_type": "stream",
     "text": [
      "2fts Featurization Failed\n"
     ]
    },
    {
     "name": "stderr",
     "output_type": "stream",
     "text": [
      "Failed to featurize datapoint 0, C[NH+](CCO[NH3+])CC1OC(n2cnc3c(N)ncnc32)C(O)C1O. Appending empty array\n",
      "Exception message: 'NoneType' object is not subscriptable\n"
     ]
    },
    {
     "name": "stdout",
     "output_type": "stream",
     "text": [
      "1i72 Featurization Failed\n"
     ]
    },
    {
     "name": "stderr",
     "output_type": "stream",
     "text": [
      "Failed to featurize datapoint 0, CC(=O)NC1[NH2+]CC(C(=O)[O-])C(O)C1O. Appending empty array\n",
      "Exception message: 'NoneType' object is not subscriptable\n"
     ]
    },
    {
     "name": "stdout",
     "output_type": "stream",
     "text": [
      "4x6k Featurization Failed\n"
     ]
    },
    {
     "name": "stderr",
     "output_type": "stream",
     "text": [
      "Failed to featurize datapoint 0, O=C([O-])c1ccc(-c2nn(C(=O)c3c(Cl)cccc3C(F)(F)F)c3ccccc23)cc1. Appending empty array\n",
      "Exception message: 'NoneType' object is not subscriptable\n"
     ]
    },
    {
     "name": "stdout",
     "output_type": "stream",
     "text": [
      "5c4o Featurization Failed\n"
     ]
    },
    {
     "name": "stderr",
     "output_type": "stream",
     "text": [
      "Failed to featurize datapoint 0, Nc1ncc(CCC([NH3+])C(=O)[O-])[nH]1. Appending empty array\n",
      "Exception message: 'NoneType' object is not subscriptable\n"
     ]
    },
    {
     "name": "stdout",
     "output_type": "stream",
     "text": [
      "3mfv Featurization Failed\n"
     ]
    },
    {
     "name": "stderr",
     "output_type": "stream",
     "text": [
      "Failed to featurize datapoint 0, O=C1NC(=O)C(c2ccccc2)([NH+]2CCC(CCO)CC2)C(=O)N1. Appending empty array\n",
      "Exception message: 'NoneType' object is not subscriptable\n"
     ]
    },
    {
     "name": "stdout",
     "output_type": "stream",
     "text": [
      "1jj9 Featurization Failed\n"
     ]
    },
    {
     "name": "stderr",
     "output_type": "stream",
     "text": [
      "Failed to featurize datapoint 0, O=C(NC(Cc1ccc(O)cc1)C(=O)[O-])c1cc(-c2ccccc2)c(=O)n2c1sc1ccc(OC3CCCCC3)cc12. Appending empty array\n",
      "Exception message: 'NoneType' object is not subscriptable\n"
     ]
    },
    {
     "name": "stdout",
     "output_type": "stream",
     "text": [
      "5iq6 Featurization Failed\n",
      "4k5o Featurization Failed\n",
      "4m3f Featurization Failed\n"
     ]
    },
    {
     "name": "stderr",
     "output_type": "stream",
     "text": [
      "Failed to featurize datapoint 0, CC1(C)CCCCc2cccc3c2CN(C3)C(=O)OC2CC(C(=O)NC(CCO)B(O)O)N(C2)C(=O)C(C(C)(C)C)NC(=O)OC1. Appending empty array\n",
      "Exception message: 'NoneType' object is not subscriptable\n"
     ]
    },
    {
     "name": "stdout",
     "output_type": "stream",
     "text": [
      "2xni Featurization Failed\n"
     ]
    },
    {
     "name": "stderr",
     "output_type": "stream",
     "text": [
      "Failed to featurize datapoint 0, CC(C)CC([NH3+])C(=O)N1CCCC1C(=O)NC(CO)C(=O)NC(Cc1ccccc1)C(=O)NC(CCC(=O)[O-])C(=O)NC(C(=O)NC(C)C(=O)NC(CC(C)C)C(=O)[O-])C(C)O. Appending empty array\n",
      "Exception message: 'NoneType' object is not subscriptable\n"
     ]
    },
    {
     "name": "stdout",
     "output_type": "stream",
     "text": [
      "5wou Featurization Failed\n",
      "3okc Featurization Failed\n"
     ]
    },
    {
     "name": "stderr",
     "output_type": "stream",
     "text": [
      "Failed to featurize datapoint 0, COC(=O)c1coc(-c2ccc(S(=O)(=O)N(CC(C)C)CC(O)C(Cc3ccccc3)NC(=O)OC3COC4OCCC34)cc2)n1. Appending empty array\n",
      "Exception message: 'NoneType' object is not subscriptable\n"
     ]
    },
    {
     "name": "stdout",
     "output_type": "stream",
     "text": [
      "6b4n Featurization Failed\n"
     ]
    },
    {
     "name": "stderr",
     "output_type": "stream",
     "text": [
      "Failed to featurize datapoint 0, CC(O)C(C=O)C1N=C(C(=O)[O-])C(SC2C[NH2+]C(C(=O)N(C)C)C2)C1C. Appending empty array\n",
      "Exception message: 'NoneType' object is not subscriptable\n"
     ]
    },
    {
     "name": "stdout",
     "output_type": "stream",
     "text": [
      "1h8y Featurization Failed\n"
     ]
    },
    {
     "name": "stderr",
     "output_type": "stream",
     "text": [
      "Failed to featurize datapoint 0, CCCC(=NNC(N)=[NH2+])c1ccc(NC(=O)c2cc3cc(OC)ccc3[nH]2)cc1. Appending empty array\n",
      "Exception message: 'NoneType' object is not subscriptable\n"
     ]
    },
    {
     "name": "stdout",
     "output_type": "stream",
     "text": [
      "2yit Featurization Failed\n"
     ]
    },
    {
     "name": "stderr",
     "output_type": "stream",
     "text": [
      "Failed to featurize datapoint 0, CCOC1CC2CN(C(=O)C(NC(=O)C(C)[NH2+]C)C3CCC(F)(F)CC3)C(C(=O)NC3CCOc4ccccc43)C[NH+]2C1. Appending empty array\n",
      "Exception message: 'NoneType' object is not subscriptable\n"
     ]
    },
    {
     "name": "stdout",
     "output_type": "stream",
     "text": [
      "4hy0 Featurization Failed\n",
      "3lxo Featurization Failed\n"
     ]
    },
    {
     "name": "stderr",
     "output_type": "stream",
     "text": [
      "Failed to featurize datapoint 0, CC1(c2ccccc2)CC(=O)N(CCOc2ccc(F)c(C#N)c2)C1. Appending empty array\n",
      "Exception message: 'NoneType' object is not subscriptable\n"
     ]
    },
    {
     "name": "stdout",
     "output_type": "stream",
     "text": [
      "5lz5 Featurization Failed\n"
     ]
    },
    {
     "name": "stderr",
     "output_type": "stream",
     "text": [
      "Failed to featurize datapoint 0, C[N+](C)(C)CCCN1C(=O)C2C(C1=O)C(c1cc(-c3ccc(Cl)s3)on1)[NH+]1CCCC21. Appending empty array\n",
      "Exception message: 'NoneType' object is not subscriptable\n"
     ]
    },
    {
     "name": "stdout",
     "output_type": "stream",
     "text": [
      "2jkh Featurization Failed\n"
     ]
    },
    {
     "name": "stderr",
     "output_type": "stream",
     "text": [
      "Failed to featurize datapoint 0, Cc1nc(C)c(C(=O)Nc2nc(C[NH+]3CC(C)CC(C)C3)cs2)o1. Appending empty array\n",
      "Exception message: 'NoneType' object is not subscriptable\n"
     ]
    },
    {
     "name": "stdout",
     "output_type": "stream",
     "text": [
      "6ekq Featurization Failed\n"
     ]
    },
    {
     "name": "stderr",
     "output_type": "stream",
     "text": [
      "Failed to featurize datapoint 0, CCc1ccc(C(C)CC(=O)NC2OC(CO)C(O)C(O)C2O)cc1. Appending empty array\n",
      "Exception message: 'NoneType' object is not subscriptable\n"
     ]
    },
    {
     "name": "stdout",
     "output_type": "stream",
     "text": [
      "4mi9 Featurization Failed\n"
     ]
    },
    {
     "name": "stderr",
     "output_type": "stream",
     "text": [
      "Failed to featurize datapoint 0, N#Cc1ccnc(Nc2cc(C3CC[NH+](C4COC4)CC3)n(C3CCCC3)n2)c1. Appending empty array\n",
      "Exception message: 'NoneType' object is not subscriptable\n"
     ]
    },
    {
     "name": "stdout",
     "output_type": "stream",
     "text": [
      "5ceq Featurization Failed\n"
     ]
    },
    {
     "name": "stderr",
     "output_type": "stream",
     "text": [
      "Failed to featurize datapoint 0, CSCCC(NC(=O)C(CC(C)C)NC(=O)C(CCCNC(N)=[NH2+])NC(=O)C([NH3+])CC(N)=O)C(=O)NC(CC(C)C)C(=O)NC(C(=O)NCC(=O)[O-])C(C)O. Appending empty array\n",
      "Exception message: 'NoneType' object is not subscriptable\n"
     ]
    },
    {
     "name": "stdout",
     "output_type": "stream",
     "text": [
      "4ezx Featurization Failed\n"
     ]
    },
    {
     "name": "stderr",
     "output_type": "stream",
     "text": [
      "Failed to featurize datapoint 0, O=C(NCc1ccccc1)Nc1ccccc1C(=O)[O-]. Appending empty array\n",
      "Exception message: 'NoneType' object is not subscriptable\n"
     ]
    },
    {
     "name": "stdout",
     "output_type": "stream",
     "text": [
      "5mt4 Featurization Failed\n"
     ]
    },
    {
     "name": "stderr",
     "output_type": "stream",
     "text": [
      "Failed to featurize datapoint 0, CC(C)C1C[NH2+]C(C(=O)[O-])C1CC(=O)[O-]. Appending empty array\n",
      "Exception message: 'NoneType' object is not subscriptable\n"
     ]
    },
    {
     "name": "stdout",
     "output_type": "stream",
     "text": [
      "2xxt Featurization Failed\n"
     ]
    },
    {
     "name": "stderr",
     "output_type": "stream",
     "text": [
      "Failed to featurize datapoint 0, N=C1NC(=[NH2+])NC(=O)C1N=O. Appending empty array\n",
      "Exception message: 'NoneType' object is not subscriptable\n"
     ]
    },
    {
     "name": "stdout",
     "output_type": "stream",
     "text": [
      "3h22 Featurization Failed\n",
      "6f5h Featurization Failed\n"
     ]
    },
    {
     "name": "stderr",
     "output_type": "stream",
     "text": [
      "Failed to featurize datapoint 0, CN1C(=[NH2+])NC2(CC(C)(C)Oc3ccc(Br)cc32)C1=O. Appending empty array\n",
      "Exception message: 'NoneType' object is not subscriptable\n"
     ]
    },
    {
     "name": "stdout",
     "output_type": "stream",
     "text": [
      "4joo Featurization Failed\n",
      "4yih Featurization Failed\n",
      "5khg Featurization Failed\n"
     ]
    },
    {
     "name": "stderr",
     "output_type": "stream",
     "text": [
      "Failed to featurize datapoint 0, CN1C(=O)C(N2CCc3c(nn(Cc4ccccc4)c3Cl)C2=O)COc2cc(C#N)ccc21. Appending empty array\n",
      "Exception message: 'NoneType' object is not subscriptable\n"
     ]
    },
    {
     "name": "stdout",
     "output_type": "stream",
     "text": [
      "6c4d Featurization Failed\n"
     ]
    },
    {
     "name": "stderr",
     "output_type": "stream",
     "text": [
      "Failed to featurize datapoint 0, CC(=O)N1CCN(C(=O)c2ccc(S(N)(=O)=O)cc2)CC1Cc1ccccc1. Appending empty array\n",
      "Exception message: 'NoneType' object is not subscriptable\n"
     ]
    },
    {
     "name": "stdout",
     "output_type": "stream",
     "text": [
      "6evr Featurization Failed\n",
      "4c3k Featurization Failed\n"
     ]
    },
    {
     "name": "stderr",
     "output_type": "stream",
     "text": [
      "Failed to featurize datapoint 0, NC(=[NH2+])c1cccc(CC(NC(=O)NC2C3CC4CC(C3)CC2C4)C(=O)NCCc2ccccc2)c1. Appending empty array\n",
      "Exception message: 'NoneType' object is not subscriptable\n"
     ]
    },
    {
     "name": "stdout",
     "output_type": "stream",
     "text": [
      "3liw Featurization Failed\n"
     ]
    },
    {
     "name": "stderr",
     "output_type": "stream",
     "text": [
      "Failed to featurize datapoint 0, COC(=O)N1CC[NH+](CC2CCCC([NH2+]C(O)[NH2+]C3CCC(C)=NC3)C2F)CC1. Appending empty array\n",
      "Exception message: 'NoneType' object is not subscriptable\n"
     ]
    },
    {
     "name": "stdout",
     "output_type": "stream",
     "text": [
      "5n69 Featurization Failed\n"
     ]
    },
    {
     "name": "stderr",
     "output_type": "stream",
     "text": [
      "Failed to featurize datapoint 0, COc1cc2ncc3c(N)nc(-c4cncc(OCC([NH3+])Cc5ccccc5)c4)cc3c2cc1OC. Appending empty array\n",
      "Exception message: 'NoneType' object is not subscriptable\n"
     ]
    },
    {
     "name": "stdout",
     "output_type": "stream",
     "text": [
      "3ion Featurization Failed\n"
     ]
    },
    {
     "name": "stderr",
     "output_type": "stream",
     "text": [
      "Failed to featurize datapoint 0, Cc1ccc(Cl)c2c1NC(=O)C2[NH2+]NC(=O)C(C)c1ccc(O)cc1. Appending empty array\n",
      "Exception message: 'NoneType' object is not subscriptable\n"
     ]
    },
    {
     "name": "stdout",
     "output_type": "stream",
     "text": [
      "3zze Featurization Failed\n"
     ]
    },
    {
     "name": "stderr",
     "output_type": "stream",
     "text": [
      "Failed to featurize datapoint 0, CNC(NC)=[NH+]CCCC(NC(=O)CNC(=O)C(CCCNC(N)=[NH2+])NC(=O)C(C)[NH3+])C(=O)NCC(=O)NC(CCCNC(N)=[NH2+])C(=O)[O-]. Appending empty array\n",
      "Exception message: 'NoneType' object is not subscriptable\n"
     ]
    },
    {
     "name": "stdout",
     "output_type": "stream",
     "text": [
      "3nth Featurization Failed\n"
     ]
    },
    {
     "name": "stderr",
     "output_type": "stream",
     "text": [
      "Failed to featurize datapoint 0, COC1OC(C)Cc2oc3cc(O)c(O)c(C(=O)[O-])c3c(=O)c21. Appending empty array\n",
      "Exception message: 'NoneType' object is not subscriptable\n"
     ]
    },
    {
     "name": "stdout",
     "output_type": "stream",
     "text": [
      "1hlk Featurization Failed\n"
     ]
    },
    {
     "name": "stderr",
     "output_type": "stream",
     "text": [
      "Failed to featurize datapoint 0, O=c1[nH]c2[n+](c3ccccc13)CCC2C[NH+]1CCCCC1. Appending empty array\n",
      "Exception message: 'NoneType' object is not subscriptable\n"
     ]
    },
    {
     "name": "stdout",
     "output_type": "stream",
     "text": [
      "5fh6 Featurization Failed\n"
     ]
    },
    {
     "name": "stderr",
     "output_type": "stream",
     "text": [
      "Failed to featurize datapoint 0, CCC1C[NH2+]Cc2ccc(NC(=O)c3ccc4cc(C(N)=[NH2+])ccc4c3)cc21. Appending empty array\n",
      "Exception message: 'NoneType' object is not subscriptable\n"
     ]
    },
    {
     "name": "stdout",
     "output_type": "stream",
     "text": [
      "1owd Featurization Failed\n"
     ]
    },
    {
     "name": "stderr",
     "output_type": "stream",
     "text": [
      "Failed to featurize datapoint 0, CC(C)CC(NC(=O)C(CCCC[NH3+])NC(=O)C(CC(C)C)NC(=O)C(NC(=O)C(CC(N)=O)NC(=O)C(CCC(N)=O)NC(=O)C(CCCC[NH3+])NC(=O)C(NC(=O)C(Cc1ccc(O)cc1)NC(=O)C(CCCC[NH3+])NC(=O)C1CCC[NH2+]1)C(C)C)C(C)O)C(=O)NC(C)C(=O)NC(C(=O)[O-])C(C)O. Appending empty array\n",
      "Exception message: 'NoneType' object is not subscriptable\n"
     ]
    },
    {
     "name": "stdout",
     "output_type": "stream",
     "text": [
      "1jwm Featurization Failed\n"
     ]
    },
    {
     "name": "stderr",
     "output_type": "stream",
     "text": [
      "Failed to featurize datapoint 0, [NH3+]CCCCCC(=O)NC1Cc2ccccc2C1Cc1ccc2c(c1C(=O)[O-])OCO2. Appending empty array\n",
      "Exception message: 'NoneType' object is not subscriptable\n"
     ]
    },
    {
     "name": "stdout",
     "output_type": "stream",
     "text": [
      "4cgi Featurization Failed\n",
      "5kjk Featurization Failed\n"
     ]
    },
    {
     "name": "stderr",
     "output_type": "stream",
     "text": [
      "Failed to featurize datapoint 0, CNC(=O)C1Cc2ccc(NS(=O)(=O)[O-])cc2CN1C(=O)OCc1ccccc1. Appending empty array\n",
      "Exception message: 'NoneType' object is not subscriptable\n"
     ]
    },
    {
     "name": "stdout",
     "output_type": "stream",
     "text": [
      "2f6v Featurization Failed\n"
     ]
    },
    {
     "name": "stderr",
     "output_type": "stream",
     "text": [
      "Failed to featurize datapoint 0, CC(C)C1NC(=O)C2(C)CSC(=N2)c2cccc(n2)CNC(=O)CC(C=CCCS)NC1=O. Appending empty array\n",
      "Exception message: 'NoneType' object is not subscriptable\n"
     ]
    },
    {
     "name": "stdout",
     "output_type": "stream",
     "text": [
      "4rn1 Featurization Failed\n",
      "3ftq Featurization Failed\n",
      "4fut Featurization Failed\n"
     ]
    },
    {
     "name": "stderr",
     "output_type": "stream",
     "text": [
      "Failed to featurize datapoint 0, CC1=C(SCC(NC(=O)CCC([NH3+])C(=O)[O-])C(O)[NH2+]CC(=O)[O-])C(=O)c2ccccc2C1=O. Appending empty array\n",
      "Exception message: 'NoneType' object is not subscriptable\n"
     ]
    },
    {
     "name": "stdout",
     "output_type": "stream",
     "text": [
      "4g0k Featurization Failed\n"
     ]
    },
    {
     "name": "stderr",
     "output_type": "stream",
     "text": [
      "Failed to featurize datapoint 0, COC(=O)C(Cc1cccc(C(N)=[NH2+])c1)NC(=O)CNS(=O)(=O)c1ccc(C)cc1. Appending empty array\n",
      "Exception message: 'NoneType' object is not subscriptable\n"
     ]
    },
    {
     "name": "stdout",
     "output_type": "stream",
     "text": [
      "1v2w Featurization Failed\n"
     ]
    },
    {
     "name": "stderr",
     "output_type": "stream",
     "text": [
      "Failed to featurize datapoint 0, Cc1cccc2c1CC(c1ccc(C[NH+]3CC[NH2+]CC3)cc1)=NC2=O. Appending empty array\n",
      "Exception message: 'NoneType' object is not subscriptable\n"
     ]
    },
    {
     "name": "stdout",
     "output_type": "stream",
     "text": [
      "4uuh Featurization Failed\n",
      "5afx Featurization Failed\n"
     ]
    },
    {
     "name": "stderr",
     "output_type": "stream",
     "text": [
      "Failed to featurize datapoint 0, CCC(C)C(NC(=O)CNC(=O)C(NC(=O)C(C)[NH3+])C(C)C)C(=O)NCC(=O)NC(C)C(=O)NC(C(=O)NC(Cc1ccccc1)C(=O)[O-])C(C)C. Appending empty array\n",
      "Exception message: 'NoneType' object is not subscriptable\n"
     ]
    },
    {
     "name": "stdout",
     "output_type": "stream",
     "text": [
      "6cdo Featurization Failed\n"
     ]
    },
    {
     "name": "stderr",
     "output_type": "stream",
     "text": [
      "Failed to featurize datapoint 0, CN(C)c1c(Cc2cccc3ccccc23)cc(=O)n2c1SCC2C(=O)[O-]. Appending empty array\n",
      "Exception message: 'NoneType' object is not subscriptable\n"
     ]
    },
    {
     "name": "stdout",
     "output_type": "stream",
     "text": [
      "6ev0 Featurization Failed\n"
     ]
    },
    {
     "name": "stderr",
     "output_type": "stream",
     "text": [
      "Failed to featurize datapoint 0, Cc1cc(S(=O)(=O)N(C)C(C)C(=O)NO)ccc1F. Appending empty array\n",
      "Exception message: 'NoneType' object is not subscriptable\n"
     ]
    },
    {
     "name": "stdout",
     "output_type": "stream",
     "text": [
      "5d1s Featurization Failed\n",
      "3ho9 Featurization Failed\n",
      "3u8d Featurization Failed\n"
     ]
    },
    {
     "name": "stderr",
     "output_type": "stream",
     "text": [
      "Failed to featurize datapoint 0, CCCc1[nH]c(C)c2c(=O)[nH]c(-c3cc(S(=O)(=O)N4CC[NH+](CC)CC4)ccc3OCC)n[n+]12. Appending empty array\n",
      "Exception message: 'NoneType' object is not subscriptable\n"
     ]
    },
    {
     "name": "stdout",
     "output_type": "stream",
     "text": [
      "1xot Featurization Failed\n"
     ]
    },
    {
     "name": "stderr",
     "output_type": "stream",
     "text": [
      "Failed to featurize datapoint 0, NC(=[NH2+])c1ccc(CNC(=O)C2CCCN2C(=O)C[NH2+]C2CCCCCCC2)cc1. Appending empty array\n",
      "Exception message: 'NoneType' object is not subscriptable\n"
     ]
    },
    {
     "name": "stdout",
     "output_type": "stream",
     "text": [
      "2zq2 Featurization Failed\n",
      "3rl4 Featurization Failed\n",
      "2rok Featurization Failed\n"
     ]
    },
    {
     "name": "stderr",
     "output_type": "stream",
     "text": [
      "Failed to featurize datapoint 0, Cc1c[n+]2c(-c3cnn(CC(=O)Nc4cc[nH+]cc4F)c3)c[nH]c2c(Nc2cc(C[NH+]3CCCC(C)C3)ns2)n1. Appending empty array\n",
      "Exception message: 'NoneType' object is not subscriptable\n"
     ]
    },
    {
     "name": "stdout",
     "output_type": "stream",
     "text": [
      "3vap Featurization Failed\n",
      "1zsh Featurization Failed\n"
     ]
    },
    {
     "name": "stderr",
     "output_type": "stream",
     "text": [
      "Failed to featurize datapoint 0, CCC(=O)NC(Cc1nc2ccc(C(C)C)cc2s1)C(=O)NC(CNC(=O)CC[NH+]1CCOCC1)C1CCCCC1. Appending empty array\n",
      "Exception message: 'NoneType' object is not subscriptable\n"
     ]
    },
    {
     "name": "stdout",
     "output_type": "stream",
     "text": [
      "5ufi Featurization Failed\n"
     ]
    },
    {
     "name": "stderr",
     "output_type": "stream",
     "text": [
      "Failed to featurize datapoint 0, Cc1noc(C)c1Cn1cc(C#N)c2cc(Oc3ccc(NC(=O)C4CCC[NH2+]4)cc3)ccc21. Appending empty array\n",
      "Exception message: 'NoneType' object is not subscriptable\n"
     ]
    },
    {
     "name": "stdout",
     "output_type": "stream",
     "text": [
      "5ajx Featurization Failed\n",
      "5jyp Featurization Failed\n",
      "2foy Featurization Failed\n",
      "4igk Featurization Failed\n"
     ]
    },
    {
     "name": "stderr",
     "output_type": "stream",
     "text": [
      "Failed to featurize datapoint 0, CCCNC(=O)C(O)CC(=O)NC(C(=O)N1CCCC1C(=O)[O-])C(C)CC. Appending empty array\n",
      "Exception message: 'NoneType' object is not subscriptable\n"
     ]
    },
    {
     "name": "stdout",
     "output_type": "stream",
     "text": [
      "3qsd Featurization Failed\n"
     ]
    },
    {
     "name": "stderr",
     "output_type": "stream",
     "text": [
      "Failed to featurize datapoint 0, [NH2+]=C1NC2(c3cccc(-c4cncnc4)c3)CCOCC2O1. Appending empty array\n",
      "Exception message: 'NoneType' object is not subscriptable\n"
     ]
    },
    {
     "name": "stdout",
     "output_type": "stream",
     "text": [
      "4l7g Featurization Failed\n",
      "4aig Featurization Failed\n",
      "6g8n Featurization Failed\n"
     ]
    },
    {
     "name": "stderr",
     "output_type": "stream",
     "text": [
      "Failed to featurize datapoint 0, CC(C)CC([NH3+])C(=O)NC(CC(C)C)C(=O)N1CCCC1C(=O)NC(C(=O)NC(CC(C)C)C(=O)N1CCCC1C(=O)NC(CCCC[NH3+])C(=O)NC(CC(C)C)C(=O)N1CCCC1C(=O)NC(CO)C(=O)NC(CC(C)C)C(=O)[O-])C(C)O. Appending empty array\n",
      "Exception message: 'NoneType' object is not subscriptable\n"
     ]
    },
    {
     "name": "stdout",
     "output_type": "stream",
     "text": [
      "3v2x Featurization Failed\n"
     ]
    },
    {
     "name": "stderr",
     "output_type": "stream",
     "text": [
      "Failed to featurize datapoint 0, CC=C(C)C(=O)OC1C(C)=C2C(C1OC(=O)CCCCCCC)C(C)(OC(C)=O)CC(OC(=O)CCCc1ccc(O)c(CCCCCCNC(=O)OC(C)(C)C)c1)C1(O)C2OC(=O)C1(C)O. Appending empty array\n",
      "Exception message: 'NoneType' object is not subscriptable\n"
     ]
    },
    {
     "name": "stdout",
     "output_type": "stream",
     "text": [
      "3nan Featurization Failed\n",
      "2vfz Featurization Failed\n",
      "5nad Featurization Failed\n"
     ]
    },
    {
     "name": "stderr",
     "output_type": "stream",
     "text": [
      "Failed to featurize datapoint 0, CC(=O)N1c2ccc(-c3ccc(C[NH+]4CCCCC4)cc3)cc2C(Nc2ccccc2)CC1C. Appending empty array\n",
      "Exception message: 'NoneType' object is not subscriptable\n"
     ]
    },
    {
     "name": "stdout",
     "output_type": "stream",
     "text": [
      "5acy Featurization Failed\n"
     ]
    },
    {
     "name": "stderr",
     "output_type": "stream",
     "text": [
      "Failed to featurize datapoint 0, Nc1ncc(CC([NH3+])C(=O)[O-])[nH]1. Appending empty array\n",
      "Exception message: 'NoneType' object is not subscriptable\n"
     ]
    },
    {
     "name": "stdout",
     "output_type": "stream",
     "text": [
      "3mfw Featurization Failed\n"
     ]
    },
    {
     "name": "stderr",
     "output_type": "stream",
     "text": [
      "Failed to featurize datapoint 0, CCOCC(Oc1cc(CC2CS(=O)(=O)CC([NH2+]Cc3cccc(C(C)(C)C)c3)C2O)cc(F)c1N)C(F)(F)F. Appending empty array\n",
      "Exception message: 'NoneType' object is not subscriptable\n"
     ]
    },
    {
     "name": "stdout",
     "output_type": "stream",
     "text": [
      "4d89 Featurization Failed\n"
     ]
    },
    {
     "name": "stderr",
     "output_type": "stream",
     "text": [
      "Failed to featurize datapoint 0, CC(C)C(NC(=O)C(Cc1c[nH]c2ccccc12)NC(=O)C(NC(=O)C(CCC(=O)[O-])NC(=O)C(Cc1c[nH]c2ccccc12)NC(=O)CNC(=O)C([NH3+])C(C)O)C(C)O)C(=O)[O-]. Appending empty array\n",
      "Exception message: 'NoneType' object is not subscriptable\n"
     ]
    },
    {
     "name": "stdout",
     "output_type": "stream",
     "text": [
      "1n7t Featurization Failed\n",
      "4hnp Featurization Failed\n",
      "2xn6 Featurization Failed\n"
     ]
    },
    {
     "name": "stderr",
     "output_type": "stream",
     "text": [
      "Failed to featurize datapoint 0, [NH3+]C(Cc1cc(Cl)c(Cl)c(-c2cncc(O)c2)c1)C(=O)[O-]. Appending empty array\n",
      "Exception message: 'NoneType' object is not subscriptable\n"
     ]
    },
    {
     "name": "stdout",
     "output_type": "stream",
     "text": [
      "5cbr Featurization Failed\n"
     ]
    },
    {
     "name": "stderr",
     "output_type": "stream",
     "text": [
      "Failed to featurize datapoint 0, O=C1c2cc3sc(-c4cccc([N+](=O)[O-])c4)cc3n2C(=S)N1CCC[NH+]1CCOCC1. Appending empty array\n",
      "Exception message: 'NoneType' object is not subscriptable\n"
     ]
    },
    {
     "name": "stdout",
     "output_type": "stream",
     "text": [
      "1ft4 Featurization Failed\n"
     ]
    },
    {
     "name": "stderr",
     "output_type": "stream",
     "text": [
      "Failed to featurize datapoint 0, [NH2+]=c1[nH]c(=O)c2c(nc(S)n2CCO)[nH]1. Appending empty array\n",
      "Exception message: 'NoneType' object is not subscriptable\n"
     ]
    },
    {
     "name": "stdout",
     "output_type": "stream",
     "text": [
      "4ad6 Featurization Failed\n"
     ]
    },
    {
     "name": "stderr",
     "output_type": "stream",
     "text": [
      "Failed to featurize datapoint 0, None. Appending empty array\n",
      "Exception message: Python argument types in\n",
      "    rdkit.Chem.rdmolfiles.MolToSmiles(NoneType)\n",
      "did not match C++ signature:\n",
      "    MolToSmiles(class RDKit::ROMol mol, bool isomericSmiles=False, bool kekuleSmiles=False, int rootedAtAtom=-1, bool canonical=True, bool allBondsExplicit=False, bool allHsExplicit=False)\n"
     ]
    },
    {
     "name": "stdout",
     "output_type": "stream",
     "text": [
      "2cfd Featurization Failed\n",
      "2lya Featurization Failed\n",
      "2pll Featurization Failed\n"
     ]
    },
    {
     "name": "stderr",
     "output_type": "stream",
     "text": [
      "Failed to featurize datapoint 0, [NH3+]C(Cn1c2c(c(=O)[nH]c1=O)CCC2)C(=O)[O-]. Appending empty array\n",
      "Exception message: 'NoneType' object is not subscriptable\n"
     ]
    },
    {
     "name": "stdout",
     "output_type": "stream",
     "text": [
      "1syi Featurization Failed\n"
     ]
    },
    {
     "name": "stderr",
     "output_type": "stream",
     "text": [
      "Failed to featurize datapoint 0, CCCCCC=CCCC=CCCCCC(O)CCCC(=O)[O-]. Appending empty array\n",
      "Exception message: 'NoneType' object is not subscriptable\n"
     ]
    },
    {
     "name": "stdout",
     "output_type": "stream",
     "text": [
      "3nhi Featurization Failed\n"
     ]
    },
    {
     "name": "stderr",
     "output_type": "stream",
     "text": [
      "Failed to featurize datapoint 0, CC(C=NNC(N)=[NH2+])[NH2+]NC(N)=[NH2+]. Appending empty array\n",
      "Exception message: 'PUGREST.BadRequest: error: '\n"
     ]
    },
    {
     "name": "stdout",
     "output_type": "stream",
     "text": [
      "1i7c Featurization Failed\n"
     ]
    },
    {
     "name": "stderr",
     "output_type": "stream",
     "text": [
      "Failed to featurize datapoint 0, O=C(C=Cc1ccoc1)N1CCCC1. Appending empty array\n",
      "Exception message: 'NoneType' object is not subscriptable\n"
     ]
    },
    {
     "name": "stdout",
     "output_type": "stream",
     "text": [
      "5ipa Featurization Failed\n",
      "4y2v Featurization Failed\n"
     ]
    },
    {
     "name": "stderr",
     "output_type": "stream",
     "text": [
      "Failed to featurize datapoint 0, O=C([O-])Cc1ccc(O)c(-c2ccccc2)c1. Appending empty array\n",
      "Exception message: 'NoneType' object is not subscriptable\n"
     ]
    },
    {
     "name": "stdout",
     "output_type": "stream",
     "text": [
      "5hn0 Featurization Failed\n"
     ]
    },
    {
     "name": "stderr",
     "output_type": "stream",
     "text": [
      "Failed to featurize datapoint 0, O=c1ccc2c([nH]1)CCCC2[NH2+]CCCCCCCCCCCC[NH2+]C1CCCc2[nH]c(=O)ccc21. Appending empty array\n",
      "Exception message: 'NoneType' object is not subscriptable\n"
     ]
    },
    {
     "name": "stdout",
     "output_type": "stream",
     "text": [
      "1h23 Featurization Failed\n",
      "6cho Featurization Failed\n",
      "3t0l Featurization Failed\n",
      "5jf7 Featurization Failed\n"
     ]
    },
    {
     "name": "stderr",
     "output_type": "stream",
     "text": [
      "Failed to featurize datapoint 0, CSCCC(NC(=O)C(CC(C)C)NC(=O)CNC(=O)C(Cc1ccccc1)NC(=O)C(Cc1ccccc1)NC(=O)C(CCC(N)=O)NC(=O)C(CCC(N)=O)NC(=O)C1CCCN1C(=O)C(CCCC[NH3+])NC(=O)C1CCCN1C(=O)C([NH3+])CCCNC(N)=[NH2+])C(=O)[O-]. Appending empty array\n",
      "Exception message: 'NoneType' object is not subscriptable\n"
     ]
    },
    {
     "name": "stdout",
     "output_type": "stream",
     "text": [
      "2ksb Featurization Failed\n"
     ]
    },
    {
     "name": "stderr",
     "output_type": "stream",
     "text": [
      "Failed to featurize datapoint 0, O=C(NC1=CCc2[nH]c(Cc3c[nH]c4ccccc34)nc2C1)C1CCC[NH2+]1. Appending empty array\n",
      "Exception message: 'NoneType' object is not subscriptable\n"
     ]
    },
    {
     "name": "stdout",
     "output_type": "stream",
     "text": [
      "4epy Featurization Failed\n"
     ]
    },
    {
     "name": "stderr",
     "output_type": "stream",
     "text": [
      "Failed to featurize datapoint 0, CCC(C)C1NC(=O)C(C)n2cc(nn2)C2CCCN2C(=O)C(C(C)CC)NC(=O)C(CO)NC(=O)C(CCCC[NH3+])NC(=O)C(C(C)O)NC(=O)C(NC(=O)C(CCCNC(N)=[NH2+])NC(=O)C[NH3+])CSSCC(C(=O)NC(Cc2ccccc2)C(=O)[O-])NC1=O. Appending empty array\n",
      "Exception message: 'NoneType' object is not subscriptable\n"
     ]
    },
    {
     "name": "stdout",
     "output_type": "stream",
     "text": [
      "4abi Featurization Failed\n"
     ]
    },
    {
     "name": "stderr",
     "output_type": "stream",
     "text": [
      "Failed to featurize datapoint 0, CC(NC(=O)C([NH3+])CC(=O)[O-])C(=O)NC(CCC(=O)[O-])C(=O)NC(C(=O)NC(CC(=O)[O-])C(=O)NC(C(=O)NC(C(=O)NC(CO)C(=O)NC(C(=O)NC(CC(=O)[O-])C(=O)[O-])C(C)C)C(C)O)C(C)C)C(C)C. Appending empty array\n",
      "Exception message: 'NoneType' object is not subscriptable\n"
     ]
    },
    {
     "name": "stdout",
     "output_type": "stream",
     "text": [
      "2xl2 Featurization Failed\n"
     ]
    },
    {
     "name": "stderr",
     "output_type": "stream",
     "text": [
      "Failed to featurize datapoint 0, NS(=O)(=O)c1ccc(C(=O)N2CC[NH2+]C(Cc3ccccc3)C2)cc1. Appending empty array\n",
      "Exception message: 'NoneType' object is not subscriptable\n"
     ]
    },
    {
     "name": "stdout",
     "output_type": "stream",
     "text": [
      "6ex1 Featurization Failed\n"
     ]
    },
    {
     "name": "stderr",
     "output_type": "stream",
     "text": [
      "Failed to featurize datapoint 0, CC(NC(=O)C([NH3+])CCC(N)=O)C(=O)NC(CCC(N)=O)C(=O)NCC(=O)N1CCCC1C(=O)N1CCCC1C(=O)NC(Cc1ccc(O)cc1)C(=O)N1CCCC1C(=O)NC(C(=O)NC(Cc1ccc(O)cc1)C(=O)N1CCCC1C(=O)NCC(=O)NC(Cc1ccc(O)cc1)C(=O)[O-])C(C)O. Appending empty array\n",
      "Exception message: 'NoneType' object is not subscriptable\n"
     ]
    },
    {
     "name": "stdout",
     "output_type": "stream",
     "text": [
      "3e1r Featurization Failed\n"
     ]
    },
    {
     "name": "stderr",
     "output_type": "stream",
     "text": [
      "Failed to featurize datapoint 0, Nc1c(C(=O)c2cccc(OC3CC[NH2+]CC3)c2)cnn1-c1ccc(F)cc1. Appending empty array\n",
      "Exception message: 'NoneType' object is not subscriptable\n"
     ]
    },
    {
     "name": "stdout",
     "output_type": "stream",
     "text": [
      "2bal Featurization Failed\n"
     ]
    },
    {
     "name": "stderr",
     "output_type": "stream",
     "text": [
      "Failed to featurize datapoint 0, Cc1cccc(Cl)c1NC(=O)c1cnc(Nc2cccc(C(=O)NC3CC[NH2+]CC3F)c2)s1. Appending empty array\n",
      "Exception message: 'NoneType' object is not subscriptable\n"
     ]
    },
    {
     "name": "stdout",
     "output_type": "stream",
     "text": [
      "5nk7 Featurization Failed\n"
     ]
    },
    {
     "name": "stderr",
     "output_type": "stream",
     "text": [
      "Failed to featurize datapoint 0, O=C(NCCOc1ccccc1)c1nc(C2CCCN2C(=O)COc2ccccc2Cl)[nH]c(=O)c1O. Appending empty array\n",
      "Exception message: 'NoneType' object is not subscriptable\n"
     ]
    },
    {
     "name": "stdout",
     "output_type": "stream",
     "text": [
      "5w73 Featurization Failed\n"
     ]
    },
    {
     "name": "stderr",
     "output_type": "stream",
     "text": [
      "Failed to featurize datapoint 0, NC(=[NH2+])c1ccc2[nH]c(-c3cc(C(CC(=O)[O-])C(=O)[O-])cc(Br)c3O)nc2c1. Appending empty array\n",
      "Exception message: 'NoneType' object is not subscriptable\n"
     ]
    },
    {
     "name": "stdout",
     "output_type": "stream",
     "text": [
      "1o2y Featurization Failed\n"
     ]
    },
    {
     "name": "stderr",
     "output_type": "stream",
     "text": [
      "Failed to featurize datapoint 0, CC(=O)NC(Cc1ccccc1)C(=O)NC(C(=O)NC(CCCC[NH3+])C(=O)NC(CCC(N)=O)C(=O)NC(CC(N)=O)C(=O)NC(C)C(=O)N(C)C(C)C(=O)NC(C)C(=O)NC(CC(C)C)C(=O)[O-])C(C)C. Appending empty array\n",
      "Exception message: 'NoneType' object is not subscriptable\n"
     ]
    },
    {
     "name": "stdout",
     "output_type": "stream",
     "text": [
      "1pyw Featurization Failed\n"
     ]
    },
    {
     "name": "stderr",
     "output_type": "stream",
     "text": [
      "Failed to featurize datapoint 0, Cc1ccc(S(=O)(=O)Nc2cc(Oc3ccccc3)ccc2C(=O)[O-])cc1. Appending empty array\n",
      "Exception message: 'NoneType' object is not subscriptable\n"
     ]
    },
    {
     "name": "stdout",
     "output_type": "stream",
     "text": [
      "4j0a Featurization Failed\n"
     ]
    },
    {
     "name": "stderr",
     "output_type": "stream",
     "text": [
      "Failed to featurize datapoint 0, CCC(CO)N1C(=O)C(CC(=O)[O-])OC(c2cccc(Cl)c2)C1c1ccc(Cl)cc1. Appending empty array\n",
      "Exception message: 'NoneType' object is not subscriptable\n"
     ]
    },
    {
     "name": "stdout",
     "output_type": "stream",
     "text": [
      "4jwr Featurization Failed\n",
      "2gga Featurization Failed\n",
      "5f4l Featurization Failed\n"
     ]
    },
    {
     "name": "stderr",
     "output_type": "stream",
     "text": [
      "Failed to featurize datapoint 0, O=C([O-])c1ccc(OCC(C2CCCCC2)n2c(-c3ccc(Cl)cc3)nc3cc(F)c(F)cc32)c(F)c1. Appending empty array\n",
      "Exception message: 'NoneType' object is not subscriptable\n"
     ]
    },
    {
     "name": "stdout",
     "output_type": "stream",
     "text": [
      "5q14 Featurization Failed\n"
     ]
    },
    {
     "name": "stderr",
     "output_type": "stream",
     "text": [
      "Failed to featurize datapoint 0, CC(CCCC[NH3+])NC(=O)C(CCCNC(N)=[NH2+])NC(=O)C(C)NC(=O)C(NC(=O)C(CCC(N)=O)NC(=O)C(CCCC[N+](C)(C)C)NC(=O)C(NC(=O)C(CCCNC(N)=[NH2+])NC(=O)C(C)[NH3+])C(C)O)C(C)O. Appending empty array\n",
      "Exception message: 'NoneType' object is not subscriptable\n"
     ]
    },
    {
     "name": "stdout",
     "output_type": "stream",
     "text": [
      "2kgi Featurization Failed\n"
     ]
    },
    {
     "name": "stderr",
     "output_type": "stream",
     "text": [
      "Failed to featurize datapoint 0, CCC(CC)OC1OC(C(=O)[O-])=CC(O)C1NC(C)=O. Appending empty array\n",
      "Exception message: 'NoneType' object is not subscriptable\n"
     ]
    },
    {
     "name": "stdout",
     "output_type": "stream",
     "text": [
      "4d8s Featurization Failed\n",
      "2pj7 Featurization Failed\n",
      "3dxg Featurization Failed\n"
     ]
    },
    {
     "name": "stderr",
     "output_type": "stream",
     "text": [
      "Failed to featurize datapoint 0, N=CC1CCCN1C(=O)C1CCC(COc2cc(C(=O)[O-])ccc2Cl)[NH2+]1. Appending empty array\n",
      "Exception message: 'NoneType' object is not subscriptable\n"
     ]
    },
    {
     "name": "stdout",
     "output_type": "stream",
     "text": [
      "2g5t Featurization Failed\n"
     ]
    },
    {
     "name": "stderr",
     "output_type": "stream",
     "text": [
      "Failed to featurize datapoint 0, CC(C)CC1NC(=O)C(C)NC(=O)C(CCCNC(N)=[NH2+])N=C(C(CC(C)C)NC(=O)C(NC(=O)C([NH3+])CO)C(C)O)OCC(C)CC(C(=O)NC(C(=O)NC(CC(N)=O)C(=O)[O-])C(C)O)NC1=O. Appending empty array\n",
      "Exception message: 'NoneType' object is not subscriptable\n"
     ]
    },
    {
     "name": "stdout",
     "output_type": "stream",
     "text": [
      "2xhs Featurization Failed\n"
     ]
    },
    {
     "name": "stderr",
     "output_type": "stream",
     "text": [
      "Failed to featurize datapoint 0, CC(C)CC(NC(=O)C(NC(=O)C(CCONC(N)=[NH2+])NC(=O)OCc1ccccc1)C1CCCCC1)C(O)CC(=O)NCCc1ccccc1. Appending empty array\n",
      "Exception message: 'NoneType' object is not subscriptable\n"
     ]
    },
    {
     "name": "stdout",
     "output_type": "stream",
     "text": [
      "6c4g Featurization Failed\n",
      "1ol1 Featurization Failed\n",
      "6ba7 Featurization Failed\n"
     ]
    },
    {
     "name": "stderr",
     "output_type": "stream",
     "text": [
      "Failed to featurize datapoint 0, Cc1cc(C(=O)NC(Cc2ccc(F)cc2)C(=O)NC(C=O)CC2CCC[NH2+]C2O)no1. Appending empty array\n",
      "Exception message: 'NoneType' object is not subscriptable\n"
     ]
    },
    {
     "name": "stdout",
     "output_type": "stream",
     "text": [
      "5gsw Featurization Failed\n"
     ]
    },
    {
     "name": "stderr",
     "output_type": "stream",
     "text": [
      "Failed to featurize datapoint 0, CC(=O)Nc1cc(Nc2cc(NC3C=C3)n3ncc(C#N)c3n2)ccc1N(C)CC[NH3+]. Appending empty array\n",
      "Exception message: 'NoneType' object is not subscriptable\n"
     ]
    },
    {
     "name": "stdout",
     "output_type": "stream",
     "text": [
      "5h8e Featurization Failed\n"
     ]
    },
    {
     "name": "stderr",
     "output_type": "stream",
     "text": [
      "Failed to featurize datapoint 0, C[NH2+]C(C)C(=O)NC(C(=O)N1CCCC1c1nc2c(-c3ccccc3)cccc2s1)C1CCCCC1. Appending empty array\n",
      "Exception message: 'NoneType' object is not subscriptable\n"
     ]
    },
    {
     "name": "stdout",
     "output_type": "stream",
     "text": [
      "3gta Featurization Failed\n"
     ]
    },
    {
     "name": "stderr",
     "output_type": "stream",
     "text": [
      "Failed to featurize datapoint 0, CCCOc1ccc(C[NH3+])cc1Cl. Appending empty array\n",
      "Exception message: 'NoneType' object is not subscriptable\n"
     ]
    },
    {
     "name": "stdout",
     "output_type": "stream",
     "text": [
      "5cs6 Featurization Failed\n"
     ]
    },
    {
     "name": "stderr",
     "output_type": "stream",
     "text": [
      "Failed to featurize datapoint 0, CSCCC(NC(=O)C1CCCN1C(=O)C(NC(=O)C(CC(=O)[O-])NC(=O)C(CO)NC(=O)C(CC(C)C)NC(=O)C([NH3+])CCC(N)=O)C(C)C)C(=O)NC(CC(=O)[O-])C(=O)NC(CC(C)C)C(=O)[O-]. Appending empty array\n",
      "Exception message: 'NoneType' object is not subscriptable\n"
     ]
    },
    {
     "name": "stdout",
     "output_type": "stream",
     "text": [
      "3tfk Featurization Failed\n"
     ]
    },
    {
     "name": "stderr",
     "output_type": "stream",
     "text": [
      "Failed to featurize datapoint 0, CCC(CO)NC(=O)c1cccc(C(F)(F)F)c1Cl. Appending empty array\n",
      "Exception message: 'NoneType' object is not subscriptable\n"
     ]
    },
    {
     "name": "stdout",
     "output_type": "stream",
     "text": [
      "3ovx Featurization Failed\n"
     ]
    },
    {
     "name": "stderr",
     "output_type": "stream",
     "text": [
      "Failed to featurize datapoint 0, CCC(C)C(NC(=O)CNC(=O)C(CCC(=O)[O-])NC(=O)C([NH3+])CCC(=O)[O-])C(=O)NC(Cc1c[nH]c2ccccc12)C(=O)NC(C)C(=O)[O-]. Appending empty array\n",
      "Exception message: 'NoneType' object is not subscriptable\n"
     ]
    },
    {
     "name": "stdout",
     "output_type": "stream",
     "text": [
      "1zub Featurization Failed\n"
     ]
    },
    {
     "name": "stderr",
     "output_type": "stream",
     "text": [
      "Failed to featurize datapoint 0, NC(=[NH2+])Nc1ccc(CNC(=O)NC23CC4CC(CC(C4)C2)C3)cc1. Appending empty array\n",
      "Exception message: 'NoneType' object is not subscriptable\n"
     ]
    },
    {
     "name": "stdout",
     "output_type": "stream",
     "text": [
      "1ejn Featurization Failed\n"
     ]
    },
    {
     "name": "stderr",
     "output_type": "stream",
     "text": [
      "Failed to featurize datapoint 0, CCC1(C)OC2=CC(C=CC2=O)C(O)C([NH2+]C)C(=O)NC(C(C)C)C(=O)NC1C(=O)NCC(=O)[O-]. Appending empty array\n",
      "Exception message: 'NoneType' object is not subscriptable\n"
     ]
    },
    {
     "name": "stdout",
     "output_type": "stream",
     "text": [
      "3ut5 Featurization Failed\n"
     ]
    },
    {
     "name": "stderr",
     "output_type": "stream",
     "text": [
      "Failed to featurize datapoint 0, CC1(Cc2ncc(CC(=O)[O-])s2)CC(c2cccc(Cl)c2)C(c2ccc(Cl)c(F)c2)N(C(CS(=O)(=O)C(C)(C)C)C2CC2)C1=O. Appending empty array\n",
      "Exception message: 'NoneType' object is not subscriptable\n"
     ]
    },
    {
     "name": "stdout",
     "output_type": "stream",
     "text": [
      "4ode Featurization Failed\n"
     ]
    },
    {
     "name": "stderr",
     "output_type": "stream",
     "text": [
      "Failed to featurize datapoint 0, O=C([O-])C(S)=Cc1ccccc1Cc1ccc2ccccc2c1. Appending empty array\n",
      "Exception message: 'NoneType' object is not subscriptable\n"
     ]
    },
    {
     "name": "stdout",
     "output_type": "stream",
     "text": [
      "6f2n Featurization Failed\n",
      "5j5r Featurization Failed\n"
     ]
    },
    {
     "name": "stderr",
     "output_type": "stream",
     "text": [
      "Failed to featurize datapoint 0, O=C([O-])c1ccccc1C(=O)NCc1c(Cl)cccc1Sc1ccc(Cl)cc1Cl. Appending empty array\n",
      "Exception message: 'NoneType' object is not subscriptable\n"
     ]
    },
    {
     "name": "stdout",
     "output_type": "stream",
     "text": [
      "3tfp Featurization Failed\n"
     ]
    },
    {
     "name": "stderr",
     "output_type": "stream",
     "text": [
      "Failed to featurize datapoint 0, C[n+]1ccccc1CNC(=O)C1CCCN1C(=O)C([NH3+])Cc1ccccc1. Appending empty array\n",
      "Exception message: 'NoneType' object is not subscriptable\n"
     ]
    },
    {
     "name": "stdout",
     "output_type": "stream",
     "text": [
      "3si4 Featurization Failed\n"
     ]
    },
    {
     "name": "stderr",
     "output_type": "stream",
     "text": [
      "Failed to featurize datapoint 0, CC([NH3+])C(=O)NC(CCCNC(N)=[NH2+])C(=O)NC(C(=O)NC(CCCC[NH+](C)C)C(=O)NC(CCC(N)=O)C(=O)NC(C(=O)O)C(C)O)C(C)O. Appending empty array\n",
      "Exception message: 'NoneType' object is not subscriptable\n"
     ]
    },
    {
     "name": "stdout",
     "output_type": "stream",
     "text": [
      "2o9k Featurization Failed\n"
     ]
    },
    {
     "name": "stderr",
     "output_type": "stream",
     "text": [
      "Failed to featurize datapoint 0, CC(C=CC1C(C)CCCC1(C)C)CC=CC(C)CC(=O)[O-]. Appending empty array\n",
      "Exception message: 'NoneType' object is not subscriptable\n"
     ]
    },
    {
     "name": "stdout",
     "output_type": "stream",
     "text": [
      "4zsh Featurization Failed\n"
     ]
    },
    {
     "name": "stderr",
     "output_type": "stream",
     "text": [
      "Failed to featurize datapoint 0, CCC([NH2+]C)C(=O)NC1C(=O)N2C(CCC1CO)CCC2C(=O)NC(c1ccccc1)c1cn(CCCCc2ccc(CCCCn3cc(C(NC(=O)C4CCC5CCC(CO)C(NC(=O)C(CC)[NH2+]C)C(=O)N54)c4ccccc4)nn3)cc2)nn1. Appending empty array\n",
      "Exception message: 'NoneType' object is not subscriptable\n"
     ]
    },
    {
     "name": "stdout",
     "output_type": "stream",
     "text": [
      "4ec4 Featurization Failed\n",
      "5w7x Featurization Failed\n"
     ]
    },
    {
     "name": "stderr",
     "output_type": "stream",
     "text": [
      "Failed to featurize datapoint 0, CC(=O)[N+](=O)CCCC(NC(=O)C(C)NC(=O)C([NH3+])CO)C(=O)NC1CCCNC(=O)C(CO)NC(=O)C(CCC[N+](=O)C(C)=O)NC(=O)C(CC(=O)[O-])NC1=O. Appending empty array\n",
      "Exception message: 'NoneType' object is not subscriptable\n"
     ]
    },
    {
     "name": "stdout",
     "output_type": "stream",
     "text": [
      "2w6u Featurization Failed\n",
      "5cuu Featurization Failed\n"
     ]
    },
    {
     "name": "stderr",
     "output_type": "stream",
     "text": [
      "Failed to featurize datapoint 0, CC(=O)NCCCCC([NH3+])C(=O)NCC(=O)NC(CC(C)C)C(=O)NCC(=O)NC(CCCCNC(C)=O)C(=O)[O-]. Appending empty array\n",
      "Exception message: 'NoneType' object is not subscriptable\n"
     ]
    },
    {
     "name": "stdout",
     "output_type": "stream",
     "text": [
      "3uw9 Featurization Failed\n"
     ]
    },
    {
     "name": "stderr",
     "output_type": "stream",
     "text": [
      "Failed to featurize datapoint 0, O=C(Nc1ccc2n[nH]c(-c3ccncc3)c2c1)C1CC[NH+](CC(=O)N2CCN(c3ccc(-c4ncccn4)cc3)CC2)C1. Appending empty array\n",
      "Exception message: 'NoneType' object is not subscriptable\n"
     ]
    },
    {
     "name": "stdout",
     "output_type": "stream",
     "text": [
      "4qtc Featurization Failed\n"
     ]
    },
    {
     "name": "stderr",
     "output_type": "stream",
     "text": [
      "Failed to featurize datapoint 0, CCCC(C(=O)[O-])c1c(C)nc2ccc(Cl)cc2c1-c1ccccc1. Appending empty array\n",
      "Exception message: 'NoneType' object is not subscriptable\n"
     ]
    },
    {
     "name": "stdout",
     "output_type": "stream",
     "text": [
      "3lpu Featurization Failed\n"
     ]
    },
    {
     "name": "stderr",
     "output_type": "stream",
     "text": [
      "Failed to featurize datapoint 0, CC1O[Fe+7]2345OC(CCC(=O)NCCCCCN(O2)C(CCC(=O)NCCCCCN1O3)O4)N(CCCCC[NH3+])O5. Appending empty array\n",
      "Exception message: 'NoneType' object is not subscriptable\n"
     ]
    },
    {
     "name": "stdout",
     "output_type": "stream",
     "text": [
      "4fil Featurization Failed\n"
     ]
    },
    {
     "name": "stderr",
     "output_type": "stream",
     "text": [
      "Failed to featurize datapoint 0, CC(=O)NC1C(OC(C)C([NH3+])C(=O)[O-])OC(CO)C(O)C1OC1OC(CO)C(O)C(O)C1O. Appending empty array\n",
      "Exception message: 'NoneType' object is not subscriptable\n"
     ]
    },
    {
     "name": "stdout",
     "output_type": "stream",
     "text": [
      "3aya Featurization Failed\n",
      "1j4q Featurization Failed\n"
     ]
    },
    {
     "name": "stderr",
     "output_type": "stream",
     "text": [
      "Failed to featurize datapoint 0, CC(=O)NC(C(=O)N1CCCC1C(=O)N1CCCC1C(=O)N1CCCC1C(=O)NC(C(=O)N1CCCC1C(=O)N1CCCC1C(=O)NC(CCCNC(N)=[NH2+])C(=O)NC(CCCNC(N)=[NH2+])C(=O)NC(CCCNC(N)=[NH2+])C(N)=O)C(C)C)C(C)C. Appending empty array\n",
      "Exception message: 'NoneType' object is not subscriptable\n"
     ]
    },
    {
     "name": "stdout",
     "output_type": "stream",
     "text": [
      "1gbq Featurization Failed\n"
     ]
    },
    {
     "name": "stderr",
     "output_type": "stream",
     "text": [
      "Failed to featurize datapoint 0, CC(C)CC([NH3+])C(=O)NC(CS)C(=O)NC(CO)C(=O)NC(CC(=O)[O-])C(=O)NC(CCCNC(N)=[NH2+])C(=O)NCC(=O)NC(CS)C(=O)NC(CCC(=O)[O-])C(=O)NC(CC(N)=O)C(=O)NC(CCCNC(N)=[NH2+])C(=O)NC(Cc1c[nH]c2ccccc12)C(=O)NC(CS)C(=O)NC(CCCC[NH3+])C(N)=O. Appending empty array\n",
      "Exception message: 'PUGREST.BadRequest: error: '\n"
     ]
    },
    {
     "name": "stdout",
     "output_type": "stream",
     "text": [
      "4mnx Featurization Failed\n"
     ]
    },
    {
     "name": "stderr",
     "output_type": "stream",
     "text": [
      "Failed to featurize datapoint 0, CC1NC(=O)C2CSSCC(NC(=O)C[NH3+])C(=O)NC(CSSCC(C(N)=O)NC(=O)C(CCCNC(N)=[NH2+])NC(=O)C(Cc3c[nH]c4ccccc34)NC1=O)C(=O)NC(CO)C(=O)NC(CC(=O)[O-])C(=O)N1CCCC1C(=O)NC(CCCNC(N)=[NH2+])C(=O)N2. Appending empty array\n",
      "Exception message: 'PUGREST.BadRequest: error: '\n"
     ]
    },
    {
     "name": "stdout",
     "output_type": "stream",
     "text": [
      "2byp Featurization Failed\n"
     ]
    },
    {
     "name": "stderr",
     "output_type": "stream",
     "text": [
      "Failed to featurize datapoint 0, CC(NC(=O)C(NC(=O)C(Cc1ccccc1)NC(=O)C1CCCN1C(=O)C(CC(=O)[O-])NC(=O)C(NC(=O)C(CO)NC(=O)C(CCC(=O)[O-])NC(=O)C(Cc1ccc(O)cc1)NC(=O)C(CC(N)=O)NC(=O)C([NH3+])Cc1ccccc1)C(C)O)C(C)O)C(=O)NC(CCCC[NH3+])C(=O)[O-]. Appending empty array\n",
      "Exception message: 'NoneType' object is not subscriptable\n"
     ]
    },
    {
     "name": "stdout",
     "output_type": "stream",
     "text": [
      "2kfg Featurization Failed\n"
     ]
    },
    {
     "name": "stderr",
     "output_type": "stream",
     "text": [
      "Failed to featurize datapoint 0, CCCCN(C)C(=O)c1cc(-c2[nH][nH]c(=O)[n+]2-c2ccccc2F)c(O)cc1O. Appending empty array\n",
      "Exception message: 'NoneType' object is not subscriptable\n"
     ]
    },
    {
     "name": "stdout",
     "output_type": "stream",
     "text": [
      "5j9x Featurization Failed\n",
      "1lor Featurization Failed\n"
     ]
    },
    {
     "name": "stderr",
     "output_type": "stream",
     "text": [
      "Failed to featurize datapoint 0, CCCc1[nH]c(C)c2c(=O)[nH]c(-c3cc(S(=O)(=O)N4CC[NH+](CC)CC4)ccc3OCC)n[n+]12. Appending empty array\n",
      "Exception message: 'NoneType' object is not subscriptable\n"
     ]
    },
    {
     "name": "stdout",
     "output_type": "stream",
     "text": [
      "1uho Featurization Failed\n"
     ]
    },
    {
     "name": "stderr",
     "output_type": "stream",
     "text": [
      "Failed to featurize datapoint 0, None. Appending empty array\n",
      "Exception message: Python argument types in\n",
      "    rdkit.Chem.rdmolfiles.MolToSmiles(NoneType)\n",
      "did not match C++ signature:\n",
      "    MolToSmiles(class RDKit::ROMol mol, bool isomericSmiles=False, bool kekuleSmiles=False, int rootedAtAtom=-1, bool canonical=True, bool allBondsExplicit=False, bool allHsExplicit=False)\n"
     ]
    },
    {
     "name": "stdout",
     "output_type": "stream",
     "text": [
      "4q3q Featurization Failed\n"
     ]
    },
    {
     "name": "stderr",
     "output_type": "stream",
     "text": [
      "Failed to featurize datapoint 0, CCC(C)C1NC(=O)C(NC(=O)C(Cc2ccccc2)NC(=O)C(Cc2c[nH]c3ccccc23)NC(=O)C([NH3+])CC(N)=O)CSCC(=O)NCCCC(C(=O)NC(Cc2c[nH]c3ccccc23)C(=O)NC(CC(C)C)C(=O)NC(Cc2c[nH]c3ccccc23)C(=O)NC(CCCC[NH3+])C(=O)NC(CCCC[NH3+])C(=O)NC(CCCC[NH3+])C(=O)NC(CCCC[NH3+])C(=O)[O-])NC(=O)C(C(C)O)NC1=O. Appending empty array\n",
      "Exception message: 'NoneType' object is not subscriptable\n"
     ]
    },
    {
     "name": "stdout",
     "output_type": "stream",
     "text": [
      "2fx9 Featurization Failed\n"
     ]
    },
    {
     "name": "stderr",
     "output_type": "stream",
     "text": [
      "Failed to featurize datapoint 0, Cn1c(-c2ccc(N3CC[NH2+]CC3)cc2)cc2c(C#N)ccnc21. Appending empty array\n",
      "Exception message: 'NoneType' object is not subscriptable\n"
     ]
    },
    {
     "name": "stdout",
     "output_type": "stream",
     "text": [
      "5tur Featurization Failed\n"
     ]
    },
    {
     "name": "stderr",
     "output_type": "stream",
     "text": [
      "Failed to featurize datapoint 0, C[NH+](C)CCC(CSc1ccccc1)Nc1ccc(S(=O)(=O)NC(=O)c2ccc(N3CC[NH+](Cc4ccccc4-c4ccc(Cl)cc4)CC3)cc2)cc1[N+](=O)[O-]. Appending empty array\n",
      "Exception message: 'NoneType' object is not subscriptable\n"
     ]
    },
    {
     "name": "stdout",
     "output_type": "stream",
     "text": [
      "2yxj Featurization Failed\n"
     ]
    },
    {
     "name": "stderr",
     "output_type": "stream",
     "text": [
      "Failed to featurize datapoint 0, COc1cc(OC)c2c(=O)[nH]c(-c3cc(C)c(OCC[NH+]4CCCC4)c(C)c3)nc2c1. Appending empty array\n",
      "Exception message: 'NoneType' object is not subscriptable\n"
     ]
    },
    {
     "name": "stdout",
     "output_type": "stream",
     "text": [
      "5dw1 Featurization Failed\n"
     ]
    },
    {
     "name": "stderr",
     "output_type": "stream",
     "text": [
      "Failed to featurize datapoint 0, CC(=O)NC1C[NH2+]CC(O)C(O)C1O. Appending empty array\n",
      "Exception message: 'NoneType' object is not subscriptable\n"
     ]
    },
    {
     "name": "stdout",
     "output_type": "stream",
     "text": [
      "4mss Featurization Failed\n"
     ]
    },
    {
     "name": "stderr",
     "output_type": "stream",
     "text": [
      "Failed to featurize datapoint 0, NC(=O)c1nn(CC(=O)N2C(C(=O)Nc3cccc(Br)n3)CC3CC32)c2ccccc12. Appending empty array\n",
      "Exception message: 'NoneType' object is not subscriptable\n"
     ]
    },
    {
     "name": "stdout",
     "output_type": "stream",
     "text": [
      "5nb7 Featurization Failed\n"
     ]
    },
    {
     "name": "stderr",
     "output_type": "stream",
     "text": [
      "Failed to featurize datapoint 0, NC(=[NH2+])c1ccc(CNC(=O)C2CCCN2C(=O)COC2CCCCC2)cc1. Appending empty array\n",
      "Exception message: 'NoneType' object is not subscriptable\n"
     ]
    },
    {
     "name": "stdout",
     "output_type": "stream",
     "text": [
      "2zdm Featurization Failed\n"
     ]
    },
    {
     "name": "stderr",
     "output_type": "stream",
     "text": [
      "Failed to featurize datapoint 0, CC(C)CC(NC(=O)C(O)CC(=O)NC(CCCNC(N)=[NH2+])C(=O)N1CCCC1C(N)=O)C(=O)NCCCCNC(N)=[NH2+]. Appending empty array\n",
      "Exception message: 'NoneType' object is not subscriptable\n"
     ]
    },
    {
     "name": "stdout",
     "output_type": "stream",
     "text": [
      "4qbb Featurization Failed\n"
     ]
    },
    {
     "name": "stderr",
     "output_type": "stream",
     "text": [
      "Failed to featurize datapoint 0, [NH2+]=c1[nH]c(=O)c2[nH]c(SCc3ccc(F)cc3)nc2[nH]1. Appending empty array\n",
      "Exception message: 'NoneType' object is not subscriptable\n"
     ]
    },
    {
     "name": "stdout",
     "output_type": "stream",
     "text": [
      "5etr Featurization Failed\n"
     ]
    },
    {
     "name": "stderr",
     "output_type": "stream",
     "text": [
      "Failed to featurize datapoint 0, CCCCCC(CC(=O)NO)C(=O)NC(C(=O)N1CCCC1C(=O)[O-])C(C)C. Appending empty array\n",
      "Exception message: 'NoneType' object is not subscriptable\n"
     ]
    },
    {
     "name": "stdout",
     "output_type": "stream",
     "text": [
      "1q1y Featurization Failed\n",
      "2vr0 Featurization Failed\n"
     ]
    },
    {
     "name": "stderr",
     "output_type": "stream",
     "text": [
      "Failed to featurize datapoint 0, OC1C[NH2+]CC(OC2OCC(O)C(O)C2O)C1O. Appending empty array\n",
      "Exception message: 'NoneType' object is not subscriptable\n"
     ]
    },
    {
     "name": "stdout",
     "output_type": "stream",
     "text": [
      "1fh7 Featurization Failed\n",
      "4jjg Featurization Failed\n",
      "5h09 Featurization Failed\n"
     ]
    },
    {
     "name": "stderr",
     "output_type": "stream",
     "text": [
      "Failed to featurize datapoint 0, Nc1ncnc2c1ncn2C1OC(CC(CCC([NH3+])C(=O)[O-])[NH2+]Cc2ccccc2)C(O)C1O. Appending empty array\n",
      "Exception message: 'NoneType' object is not subscriptable\n"
     ]
    },
    {
     "name": "stdout",
     "output_type": "stream",
     "text": [
      "5lsx Featurization Failed\n",
      "3tkz Featurization Failed\n"
     ]
    },
    {
     "name": "stderr",
     "output_type": "stream",
     "text": [
      "Failed to featurize datapoint 0, CC(C)(C)[NH2+]CC(O)COc1cccc2[nH]c(C#N)cc12. Appending empty array\n",
      "Exception message: 'NoneType' object is not subscriptable\n"
     ]
    },
    {
     "name": "stdout",
     "output_type": "stream",
     "text": [
      "6h7o Featurization Failed\n"
     ]
    },
    {
     "name": "stderr",
     "output_type": "stream",
     "text": [
      "Failed to featurize datapoint 0, CC(=S)NC1COC(CO)C(O)C1O. Appending empty array\n",
      "Exception message: 'NoneType' object is not subscriptable\n"
     ]
    },
    {
     "name": "stdout",
     "output_type": "stream",
     "text": [
      "5fcz Featurization Failed\n"
     ]
    },
    {
     "name": "stderr",
     "output_type": "stream",
     "text": [
      "Failed to featurize datapoint 0, CC(NC(=O)C(C)NC(=O)C(CCCC[NH3+])NC(=O)C(C)NC(=O)C1CCCN1C(=O)C(CCCNC(N)=O)NC(=O)C(C)[NH2+]C(O)C(CCCNC(N)=O)NC(=O)C(Cc1ccc(O)cc1)NC(=O)CNC(=O)C[NH3+])C(=O)NC(C)C(=O)NC(C(=O)[O-])C(C)O. Appending empty array\n",
      "Exception message: 'NoneType' object is not subscriptable\n"
     ]
    },
    {
     "name": "stdout",
     "output_type": "stream",
     "text": [
      "6bij Featurization Failed\n"
     ]
    },
    {
     "name": "stderr",
     "output_type": "stream",
     "text": [
      "Failed to featurize datapoint 0, CN(Cc1ccc2c(c1)CC(CNC(N)=[NH2+])C2NC(=O)C(=O)Nc1ccc(Cl)c(F)c1)C(N)=[NH2+]. Appending empty array\n",
      "Exception message: 'NoneType' object is not subscriptable\n"
     ]
    },
    {
     "name": "stdout",
     "output_type": "stream",
     "text": [
      "5f4r Featurization Failed\n",
      "4qmy Featurization Failed\n",
      "6ftn Featurization Failed\n"
     ]
    },
    {
     "name": "stderr",
     "output_type": "stream",
     "text": [
      "Failed to featurize datapoint 0, COCCN1C(=O)c2cc(-c3nc(Nc4ccnn4C)ncc3C)[nH]c2CC1C. Appending empty array\n",
      "Exception message: 'NoneType' object is not subscriptable\n"
     ]
    },
    {
     "name": "stdout",
     "output_type": "stream",
     "text": [
      "5nho Featurization Failed\n"
     ]
    },
    {
     "name": "stderr",
     "output_type": "stream",
     "text": [
      "Failed to featurize datapoint 0, CC(=O)NC1C(O)CC(OCC2OC(O)C(O)C(O)C2O)(C(=O)[O-])OC1C(O)C(O)CO. Appending empty array\n",
      "Exception message: 'NoneType' object is not subscriptable\n"
     ]
    },
    {
     "name": "stdout",
     "output_type": "stream",
     "text": [
      "4k64 Featurization Failed\n",
      "5tha Featurization Failed\n"
     ]
    },
    {
     "name": "stderr",
     "output_type": "stream",
     "text": [
      "Failed to featurize datapoint 0, CC(C)CC([NH3+])C(=O)NCC(=O)NC(CCCC[NH3+])C(=O)NC(CCCNC(N)=[NH2+])C(=O)NC(CCCC[NH3+])C(=O)NC(CCCNC(N)=[NH2+])C(=O)NC(Cc1cnc[nH]1)C(=O)[O-]. Appending empty array\n",
      "Exception message: 'NoneType' object is not subscriptable\n"
     ]
    },
    {
     "name": "stdout",
     "output_type": "stream",
     "text": [
      "2ynr Featurization Failed\n"
     ]
    },
    {
     "name": "stderr",
     "output_type": "stream",
     "text": [
      "Failed to featurize datapoint 0, Cc1cn(C2CC(N=[N+2]#N)C(CO)O2)c(=O)[nH]c1=O. Appending empty array\n",
      "Exception message: 'PUGREST.BadRequest: error: '\n"
     ]
    },
    {
     "name": "stdout",
     "output_type": "stream",
     "text": [
      "4lhm Featurization Failed\n"
     ]
    },
    {
     "name": "stderr",
     "output_type": "stream",
     "text": [
      "Failed to featurize datapoint 0, C[NH+](C)CCC(c1ccccc1)n1cc(NC(=O)c2n[nH]c3cc(-c4cn[nH]c4)ccc23)cn1. Appending empty array\n",
      "Exception message: 'NoneType' object is not subscriptable\n"
     ]
    },
    {
     "name": "stdout",
     "output_type": "stream",
     "text": [
      "4ppb Featurization Failed\n"
     ]
    },
    {
     "name": "stderr",
     "output_type": "stream",
     "text": [
      "Failed to featurize datapoint 0, CC(C)CC(NC(=O)C1CSSC2CSSCC(NC(=O)CNC(=O)C(CCCNC(N)=[NH2+])NC(=O)CNC(=O)C(CC(C)C)NC(=O)C(C)NC(=O)C(NC(=O)C[NH3+])C2)C(=O)NC(CCC(=O)[O-])C(=O)NC(CC(N)=O)C(=O)NC(Cc2c[nH]cn2)C(=O)NC(CCCNC(N)=[NH2+])C(=O)N1)C(N)=O. Appending empty array\n",
      "Exception message: 'PUGREST.BadRequest: error: '\n"
     ]
    },
    {
     "name": "stdout",
     "output_type": "stream",
     "text": [
      "4os1 Featurization Failed\n",
      "3drs Featurization Failed\n",
      "6htz Featurization Failed\n"
     ]
    },
    {
     "name": "stderr",
     "output_type": "stream",
     "text": [
      "Failed to featurize datapoint 0, COC(=O)Nc1ccc2c(c1)NC(=O)CC(C)C=CCC(NC(=O)C=Cc1cc(Cl)ccc1-n1cnnn1)c1nc-2c[nH]1. Appending empty array\n",
      "Exception message: 'NoneType' object is not subscriptable\n"
     ]
    },
    {
     "name": "stdout",
     "output_type": "stream",
     "text": [
      "5q0f Featurization Failed\n",
      "3ryw Featurization Failed\n"
     ]
    },
    {
     "name": "stderr",
     "output_type": "stream",
     "text": [
      "Failed to featurize datapoint 0, CC(O)C([NH3+])C(=O)NC1C(CO)OC(n2cnc3c(N)ncnc32)C1O. Appending empty array\n",
      "Exception message: 'NoneType' object is not subscriptable\n"
     ]
    },
    {
     "name": "stdout",
     "output_type": "stream",
     "text": [
      "4rrg Featurization Failed\n"
     ]
    },
    {
     "name": "stderr",
     "output_type": "stream",
     "text": [
      "Failed to featurize datapoint 0, CCc1[nH]c2nc(Sc3cnc4nccnc4c3)nc(N3CCC([NH3+])C3)c2c1Cl. Appending empty array\n",
      "Exception message: 'NoneType' object is not subscriptable\n"
     ]
    },
    {
     "name": "stdout",
     "output_type": "stream",
     "text": [
      "4hxw Featurization Failed\n",
      "3bb1 Featurization Failed\n",
      "5m0m Featurization Failed\n",
      "1sqb Featurization Failed\n"
     ]
    },
    {
     "name": "stderr",
     "output_type": "stream",
     "text": [
      "Failed to featurize datapoint 0, Cc1cc(C#N)ccc1N1CCN(S(=O)(=O)N2CSCC2C(=O)NO)CC1. Appending empty array\n",
      "Exception message: 'NoneType' object is not subscriptable\n"
     ]
    },
    {
     "name": "stdout",
     "output_type": "stream",
     "text": [
      "5cuh Featurization Failed\n",
      "1vij Featurization Failed\n"
     ]
    },
    {
     "name": "stderr",
     "output_type": "stream",
     "text": [
      "Failed to featurize datapoint 0, CCC(C)C(NC(=O)C(C)NC(=O)C([NH3+])CC(C)C)C(=O)NC(Cc1ccc(O)cc1)C(=O)NC(CO)CO. Appending empty array\n",
      "Exception message: 'NoneType' object is not subscriptable\n"
     ]
    },
    {
     "name": "stdout",
     "output_type": "stream",
     "text": [
      "1t37 Featurization Failed\n"
     ]
    },
    {
     "name": "stderr",
     "output_type": "stream",
     "text": [
      "Failed to featurize datapoint 0, CC(=O)NC(Cc1ccccc1)C(=O)N1CCCC1C(=O)N1CCCC1C(=O)N1CCCC1C(=O)N1CCCC1C(=O)[O-]. Appending empty array\n",
      "Exception message: 'NoneType' object is not subscriptable\n"
     ]
    },
    {
     "name": "stdout",
     "output_type": "stream",
     "text": [
      "1evh Featurization Failed\n"
     ]
    },
    {
     "name": "stderr",
     "output_type": "stream",
     "text": [
      "Failed to featurize datapoint 0, CC(CS)C(=O)NC(C(=O)[O-])c1ccc(O)cc1. Appending empty array\n",
      "Exception message: 'NoneType' object is not subscriptable\n"
     ]
    },
    {
     "name": "stdout",
     "output_type": "stream",
     "text": [
      "5y6e Featurization Failed\n",
      "1a1b Featurization Failed\n",
      "4mjr Featurization Failed\n",
      "6fi4 Featurization Failed\n"
     ]
    },
    {
     "name": "stderr",
     "output_type": "stream",
     "text": [
      "Failed to featurize datapoint 0, Brc1ccc(-c2c[nH]c(C3Cc4ccccc4C[NH2+]3)n2)cc1. Appending empty array\n",
      "Exception message: 'NoneType' object is not subscriptable\n"
     ]
    },
    {
     "name": "stdout",
     "output_type": "stream",
     "text": [
      "3k3i Featurization Failed\n",
      "4gdy Featurization Failed\n"
     ]
    },
    {
     "name": "stderr",
     "output_type": "stream",
     "text": [
      "Failed to featurize datapoint 0, CCc1ccc2c(c1)C([NH2+]CC(O)C1Cc3cccc(c3)CCCCCCC(=O)N1)CC1(CCC1)O2. Appending empty array\n",
      "Exception message: 'NoneType' object is not subscriptable\n"
     ]
    },
    {
     "name": "stdout",
     "output_type": "stream",
     "text": [
      "4ke0 Featurization Failed\n"
     ]
    },
    {
     "name": "stderr",
     "output_type": "stream",
     "text": [
      "Failed to featurize datapoint 0, CC(NC(=O)C(CCCNC(N)=[NH2+])NC(=O)C([NH3+])CCCC[NH3+])C(=O)NC(CO)C(=O)NC(CCCNC(N)=[NH2+])C(=O)NC(Cc1c[nH]c2ccccc12)C(=O)NC(CC(=O)[O-])C(=O)NC(CCC(=O)[O-])C(=O)NC(C(=O)N1CCCC1C(=O)[O-])C(C)O. Appending empty array\n",
      "Exception message: 'NoneType' object is not subscriptable\n"
     ]
    },
    {
     "name": "stdout",
     "output_type": "stream",
     "text": [
      "2peh Featurization Failed\n",
      "4ch2 Featurization Failed\n"
     ]
    },
    {
     "name": "stderr",
     "output_type": "stream",
     "text": [
      "Failed to featurize datapoint 0, CN1CC(c2ccnc(-n3ncc4cc(C(C)(C)C)cc(F)c4c3=O)c2CO)=CC(Nc2ccncn2)C1=O. Appending empty array\n",
      "Exception message: 'NoneType' object is not subscriptable\n"
     ]
    },
    {
     "name": "stdout",
     "output_type": "stream",
     "text": [
      "5kup Featurization Failed\n"
     ]
    },
    {
     "name": "stderr",
     "output_type": "stream",
     "text": [
      "Failed to featurize datapoint 0, COc1ccc(CC(NC(=O)C(CS)CC(C)C)C(=O)[O-])cc1. Appending empty array\n",
      "Exception message: 'NoneType' object is not subscriptable\n"
     ]
    },
    {
     "name": "stdout",
     "output_type": "stream",
     "text": [
      "1atl Featurization Failed\n"
     ]
    },
    {
     "name": "stderr",
     "output_type": "stream",
     "text": [
      "Failed to featurize datapoint 0, CSCCC(NC(=O)NC(CCCCNC(=O)c1ccc(I)cc1)C(=O)[O-])C(=O)[O-]. Appending empty array\n",
      "Exception message: 'NoneType' object is not subscriptable\n"
     ]
    },
    {
     "name": "stdout",
     "output_type": "stream",
     "text": [
      "3sjf Featurization Failed\n"
     ]
    },
    {
     "name": "stderr",
     "output_type": "stream",
     "text": [
      "Failed to featurize datapoint 0, CCN(CC)C(=O)c1ccc2c(c1)[nH]c1c(C(N)=O)ccc(-c3ccccc3Cl)c12. Appending empty array\n",
      "Exception message: 'NoneType' object is not subscriptable\n"
     ]
    },
    {
     "name": "stdout",
     "output_type": "stream",
     "text": [
      "5bq0 Featurization Failed\n"
     ]
    },
    {
     "name": "stderr",
     "output_type": "stream",
     "text": [
      "Failed to featurize datapoint 0, CC(=O)NCCCCC(NC(=O)CNC(=O)C[NH3+])C(=O)NC(C)C(=O)[O-]. Appending empty array\n",
      "Exception message: 'NoneType' object is not subscriptable\n"
     ]
    },
    {
     "name": "stdout",
     "output_type": "stream",
     "text": [
      "3jvk Featurization Failed\n"
     ]
    },
    {
     "name": "stderr",
     "output_type": "stream",
     "text": [
      "Failed to featurize datapoint 0, CC([NH3+])C(=O)N1CCCC1C(=O)NC(Cc1ccc(O)cc1)C(=O)NC1CSSCC(C(N)=O)NC(=O)C(CO)NC(=O)C(Cc2c[nH]c3ccccc23)NC(=O)C(CO)NC(=O)CCNC(=O)C(CCCNC(N)=[NH2+])NC(=O)C(Cc2ccc(O)cc2)NC(=O)C(C(C)C)NC1=O. Appending empty array\n",
      "Exception message: 'NoneType' object is not subscriptable\n"
     ]
    },
    {
     "name": "stdout",
     "output_type": "stream",
     "text": [
      "4w4z Featurization Failed\n",
      "6fdc Featurization Failed\n"
     ]
    },
    {
     "name": "stderr",
     "output_type": "stream",
     "text": [
      "Failed to featurize datapoint 0, COc1ccc2c(c1)cc(C(=O)NS(=O)(=O)Cc1ccc(C(F)(F)F)cc1)n2CC(=O)[O-]. Appending empty array\n",
      "Exception message: 'NoneType' object is not subscriptable\n"
     ]
    },
    {
     "name": "stdout",
     "output_type": "stream",
     "text": [
      "4muk Featurization Failed\n",
      "4yv8 Featurization Failed\n"
     ]
    },
    {
     "name": "stderr",
     "output_type": "stream",
     "text": [
      "Failed to featurize datapoint 0, CC(C)(C)c1ccc(N2C(=O)c3cc(F)ccc3C(CC(=O)[O-])C2c2ccc3c(c2)OCCO3)cc1Cl. Appending empty array\n",
      "Exception message: 'NoneType' object is not subscriptable\n"
     ]
    },
    {
     "name": "stdout",
     "output_type": "stream",
     "text": [
      "6mxe Featurization Failed\n",
      "2pgj Featurization Failed\n",
      "4uwl Featurization Failed\n",
      "1py1 Featurization Failed\n",
      "5k7h Featurization Failed\n"
     ]
    },
    {
     "name": "stderr",
     "output_type": "stream",
     "text": [
      "Failed to featurize datapoint 0, O=C([O-])c1ccccc1OC1C[NH2+]C(C(=O)[O-])C1. Appending empty array\n",
      "Exception message: 'NoneType' object is not subscriptable\n"
     ]
    },
    {
     "name": "stdout",
     "output_type": "stream",
     "text": [
      "5m2v Featurization Failed\n",
      "5kyk Featurization Failed\n"
     ]
    },
    {
     "name": "stderr",
     "output_type": "stream",
     "text": [
      "Failed to featurize datapoint 0, C=CC(C)=CC1(C)SC(=O)C(CC)=C1O. Appending empty array\n",
      "Exception message: 'NoneType' object is not subscriptable\n"
     ]
    },
    {
     "name": "stdout",
     "output_type": "stream",
     "text": [
      "4c6z Featurization Failed\n"
     ]
    },
    {
     "name": "stderr",
     "output_type": "stream",
     "text": [
      "Failed to featurize datapoint 0, C[NH+](C)CC(O)COc1ccc(Nc2ncc(Br)c(Nc3ccccc3)n2)cc1. Appending empty array\n",
      "Exception message: 'NoneType' object is not subscriptable\n"
     ]
    },
    {
     "name": "stdout",
     "output_type": "stream",
     "text": [
      "1h08 Featurization Failed\n"
     ]
    },
    {
     "name": "stderr",
     "output_type": "stream",
     "text": [
      "Failed to featurize datapoint 0, Cc1c(Oc2nc(N)ns2)cc2c(c1C)C(CC(=O)[O-])OB2O. Appending empty array\n",
      "Exception message: 'NoneType' object is not subscriptable\n"
     ]
    },
    {
     "name": "stdout",
     "output_type": "stream",
     "text": [
      "4wz4 Featurization Failed\n",
      "4crd Featurization Failed\n",
      "4ay6 Featurization Failed\n"
     ]
    },
    {
     "name": "stderr",
     "output_type": "stream",
     "text": [
      "Failed to featurize datapoint 0, CCCCC(NC(=O)C(C)NC(=O)C(CCC(=O)[O-])NC(=O)C(Cc1ccccc1)[NH2+]CC(Cc1ccccc1)NC(=O)C(NC(=O)C([NH3+])CCCNC(C)=[NH2+])C(C)C)C(=O)[O-]. Appending empty array\n",
      "Exception message: 'NoneType' object is not subscriptable\n"
     ]
    },
    {
     "name": "stdout",
     "output_type": "stream",
     "text": [
      "4gye Featurization Failed\n",
      "2ipo Featurization Failed\n",
      "5ivj Featurization Failed\n",
      "5edq Featurization Failed\n"
     ]
    },
    {
     "name": "stderr",
     "output_type": "stream",
     "text": [
      "Failed to featurize datapoint 0, CC([NH3+])C(=O)NC(CCCNC(N)=[NH2+])C(=O)NC(C(=O)NC(CCCC[NH3+])C(=O)NC(CCC(N)=O)C(=O)NC(C(=O)NC(C)C(=O)NC(CCCNC(N)=[NH2+])C(=O)NC(CCCC[N+](C)(C)C)C(=O)NC(CO)C(=O)NC(C(=O)NCC(=O)NCC(=O)NC(CCCC[NH3+])C(=O)NC(C)C(=O)[O-])C(C)O)C(C)O)C(C)O. Appending empty array\n",
      "Exception message: 'PUGREST.BadRequest: error: '\n"
     ]
    },
    {
     "name": "stdout",
     "output_type": "stream",
     "text": [
      "2lbm Featurization Failed\n",
      "4nyt Featurization Failed\n"
     ]
    },
    {
     "name": "stderr",
     "output_type": "stream",
     "text": [
      "Failed to featurize datapoint 0, CCC(C)C(NC(=O)C([NH3+])CC(=O)[O-])C(=O)N1CCCC1C(=O)NC(Cc1ccccc1)C(=O)[O-]. Appending empty array\n",
      "Exception message: 'NoneType' object is not subscriptable\n"
     ]
    },
    {
     "name": "stdout",
     "output_type": "stream",
     "text": [
      "3c94 Featurization Failed\n"
     ]
    },
    {
     "name": "stderr",
     "output_type": "stream",
     "text": [
      "Failed to featurize datapoint 0, Cc1cc(OCCCc2c3n(c4c(-c5c(C)nn(C)c5C)cccc24)CCCN(Cc2cccc(C(=O)[O-])c2)C3=O)cc(C)c1Cl. Appending empty array\n",
      "Exception message: 'NoneType' object is not subscriptable\n"
     ]
    },
    {
     "name": "stdout",
     "output_type": "stream",
     "text": [
      "6bw2 Featurization Failed\n"
     ]
    },
    {
     "name": "stderr",
     "output_type": "stream",
     "text": [
      "Failed to featurize datapoint 0, CC(=O)NCCc1cccc(-c2cccc(C(=O)[O-])c2)c1. Appending empty array\n",
      "Exception message: 'NoneType' object is not subscriptable\n"
     ]
    },
    {
     "name": "stdout",
     "output_type": "stream",
     "text": [
      "5qar Featurization Failed\n"
     ]
    },
    {
     "name": "stderr",
     "output_type": "stream",
     "text": [
      "Failed to featurize datapoint 0, O=c1[nH]c2ccc(Cl)cc2c(NC2C[NH+]3CCC2CC3)c1-c1nc2ccccc2[nH]1. Appending empty array\n",
      "Exception message: 'NoneType' object is not subscriptable\n"
     ]
    },
    {
     "name": "stdout",
     "output_type": "stream",
     "text": [
      "2gdo Featurization Failed\n"
     ]
    },
    {
     "name": "stderr",
     "output_type": "stream",
     "text": [
      "Failed to featurize datapoint 0, C[NH2+]CCCCc1c(-c2cc(C)cc(C)c2)cnc2ccc(-c3cncc(O)c3)cc12. Appending empty array\n",
      "Exception message: 'NoneType' object is not subscriptable\n"
     ]
    },
    {
     "name": "stdout",
     "output_type": "stream",
     "text": [
      "5t1s Featurization Failed\n"
     ]
    },
    {
     "name": "stderr",
     "output_type": "stream",
     "text": [
      "Failed to featurize datapoint 0, CCc1cc(Nc2ncc(C(=O)Nc3c(C)cccc3Cl)s2)cc(C(=O)NC2CC[NH2+]CC2)c1. Appending empty array\n",
      "Exception message: 'NoneType' object is not subscriptable\n"
     ]
    },
    {
     "name": "stdout",
     "output_type": "stream",
     "text": [
      "5nkg Featurization Failed\n"
     ]
    },
    {
     "name": "stderr",
     "output_type": "stream",
     "text": [
      "Failed to featurize datapoint 0, N=CC1CC2CC2N1C(=O)C([NH3+])C12CC3CC(O)(CC(O)(C3)C1)C2. Appending empty array\n",
      "Exception message: 'NoneType' object is not subscriptable\n"
     ]
    },
    {
     "name": "stdout",
     "output_type": "stream",
     "text": [
      "6b1o Featurization Failed\n"
     ]
    },
    {
     "name": "stderr",
     "output_type": "stream",
     "text": [
      "Failed to featurize datapoint 0, [NH3+]C(CC(=O)N1CCCCCN1C(=O)c1ccccc1)Cc1cc(F)c(F)cc1F. Appending empty array\n",
      "Exception message: 'NoneType' object is not subscriptable\n"
     ]
    },
    {
     "name": "stdout",
     "output_type": "stream",
     "text": [
      "2ole Featurization Failed\n",
      "5gvp Featurization Failed\n",
      "3vjt Featurization Failed\n"
     ]
    },
    {
     "name": "stderr",
     "output_type": "stream",
     "text": [
      "Failed to featurize datapoint 0, O=C1c2ccccc2NC(c2ccccc2F)N1CC[NH+]1CCC(N2C(=O)c3ccccc3NC2c2ccccc2F)CC1. Appending empty array\n",
      "Exception message: 'NoneType' object is not subscriptable\n"
     ]
    },
    {
     "name": "stdout",
     "output_type": "stream",
     "text": [
      "5x74 Featurization Failed\n"
     ]
    },
    {
     "name": "stderr",
     "output_type": "stream",
     "text": [
      "Failed to featurize datapoint 0, CC(C=O)NC(=O)C(C)NC(=O)CNC(=O)C(C)NC(=O)C(CO)NC(=O)C(CCCC[N+](C)(C)C)NC(=O)C(CCCNC(N)=[NH2+])NC(=O)C(C)[NH3+]. Appending empty array\n",
      "Exception message: 'NoneType' object is not subscriptable\n"
     ]
    },
    {
     "name": "stdout",
     "output_type": "stream",
     "text": [
      "3iiy Featurization Failed\n"
     ]
    },
    {
     "name": "stderr",
     "output_type": "stream",
     "text": [
      "Failed to featurize datapoint 0, CC(C)CC(NC(=O)C(CO)NC(=O)C(CO)NC(=O)C(CCC(=O)[O-])NC(=O)C(Cc1ccc(O)cc1)NC(=O)C(Cc1ccc(O)cc1)NC(=O)C(CCCNC(N)=[NH2+])NC(=O)C([NH3+])Cc1ccccc1)C(=O)NC(CCC(=O)[O-])C(=O)N1CCCC1C(=O)NC(Cc1c[nH]c2ccccc12)C(=O)NC(CC(=O)[O-])C(=O)NC(CC(=O)[O-])C(=O)O. Appending empty array\n",
      "Exception message: 'NoneType' object is not subscriptable\n"
     ]
    },
    {
     "name": "stdout",
     "output_type": "stream",
     "text": [
      "1rgj Featurization Failed\n"
     ]
    },
    {
     "name": "stderr",
     "output_type": "stream",
     "text": [
      "Failed to featurize datapoint 0, NC(=O)C(CCCC[NH3+])[NH2+]Cc1ccc(-c2cccnc2)cc1. Appending empty array\n",
      "Exception message: 'NoneType' object is not subscriptable\n"
     ]
    },
    {
     "name": "stdout",
     "output_type": "stream",
     "text": [
      "4u5l Featurization Failed\n"
     ]
    },
    {
     "name": "stderr",
     "output_type": "stream",
     "text": [
      "Failed to featurize datapoint 0, CC(C)CC(NC(=O)C(C)NC(=O)C(CC(=O)[O-])NC(=O)CNC(=O)C(CO)NC(=O)C(Cc1ccc(O)cc1)NC(=O)C(CO)NC(=O)C(CC(=O)[O-])NC(=O)C(CCCNC(N)=[NH2+])NC(=O)C1CCC[NH2+]1)C(=O)NC(Cc1ccc(O)cc1)C(=O)NC(CCC(=O)[O-])C(=O)NC(Cc1ccccc1)C(=O)[O-]. Appending empty array\n",
      "Exception message: 'NoneType' object is not subscriptable\n"
     ]
    },
    {
     "name": "stdout",
     "output_type": "stream",
     "text": [
      "4yjl Featurization Failed\n",
      "1gx4 Featurization Failed\n",
      "5wf7 Featurization Failed\n"
     ]
    },
    {
     "name": "stderr",
     "output_type": "stream",
     "text": [
      "Failed to featurize datapoint 0, C[NH2+]C(C)C(=O)NC(C(=O)N1CCC(C)C1C(=O)Nc1ccccc1-c1ncccn1)C1CCCCC1. Appending empty array\n",
      "Exception message: 'NoneType' object is not subscriptable\n"
     ]
    },
    {
     "name": "stdout",
     "output_type": "stream",
     "text": [
      "3hl5 Featurization Failed\n"
     ]
    },
    {
     "name": "stderr",
     "output_type": "stream",
     "text": [
      "Failed to featurize datapoint 0, CC[NH+](CC)CCCCC(NC(=O)C(CC(C)C)NC(=O)C(C)NC(=O)C(Cc1ccccc1)NC(=O)c1ccc(C(C)(C)C)cc1)C(=O)NC(CO)C(=O)OC. Appending empty array\n",
      "Exception message: 'NoneType' object is not subscriptable\n"
     ]
    },
    {
     "name": "stdout",
     "output_type": "stream",
     "text": [
      "5epl Featurization Failed\n"
     ]
    },
    {
     "name": "stderr",
     "output_type": "stream",
     "text": [
      "Failed to featurize datapoint 0, Cc1cc(Cn2c(N3CC[NH2+]CC3)nc3c(-c4c(C)n[nH]c4C)cc(Cl)cc32)cc(C)c1F. Appending empty array\n",
      "Exception message: 'NoneType' object is not subscriptable\n"
     ]
    },
    {
     "name": "stdout",
     "output_type": "stream",
     "text": [
      "6d59 Featurization Failed\n"
     ]
    },
    {
     "name": "stderr",
     "output_type": "stream",
     "text": [
      "Failed to featurize datapoint 0, CC(C)(C)c1ccc(C(=O)CC2CCC(O)C3C(O)C(O)C[NH+]23)cc1. Appending empty array\n",
      "Exception message: 'NoneType' object is not subscriptable\n"
     ]
    },
    {
     "name": "stdout",
     "output_type": "stream",
     "text": [
      "3ejr Featurization Failed\n"
     ]
    },
    {
     "name": "stderr",
     "output_type": "stream",
     "text": [
      "Failed to featurize datapoint 0, N#[N+2]=NCCCCCCCC[NH2+]C1CC(O)C(O)C(O)C1C(=O)[O-]. Appending empty array\n",
      "Exception message: 'PUGREST.BadRequest: error: '\n"
     ]
    },
    {
     "name": "stdout",
     "output_type": "stream",
     "text": [
      "5g0q Featurization Failed\n"
     ]
    },
    {
     "name": "stderr",
     "output_type": "stream",
     "text": [
      "Failed to featurize datapoint 0, COc1ccc2nc(C)c(OC3CC4C(=O)NC5(C(=O)NS(=O)(=O)C6(C)CC6)CC5C=CCCCCCC(NC(=O)OC(C)(C)C)C(=O)N4C3)nc2c1. Appending empty array\n",
      "Exception message: 'NoneType' object is not subscriptable\n"
     ]
    },
    {
     "name": "stdout",
     "output_type": "stream",
     "text": [
      "5voj Featurization Failed\n",
      "2qv7 Featurization Failed\n"
     ]
    },
    {
     "name": "stderr",
     "output_type": "stream",
     "text": [
      "Failed to featurize datapoint 0, Nc1cc(Cl)ccc1NC(=O)Nc1cccc(S(=O)(=O)Oc2ccc(C(=O)[O-])cc2)c1. Appending empty array\n",
      "Exception message: 'NoneType' object is not subscriptable\n"
     ]
    },
    {
     "name": "stdout",
     "output_type": "stream",
     "text": [
      "5ehg Featurization Failed\n",
      "5kqd Featurization Failed\n",
      "3kc0 Featurization Failed\n",
      "3ex3 Featurization Failed\n",
      "4w5j Featurization Failed\n"
     ]
    },
    {
     "name": "stderr",
     "output_type": "stream",
     "text": [
      "Failed to featurize datapoint 0, CCC(CC)OC1CC(C(=O)[O-])CC([NH3+])C1NC(C)=O. Appending empty array\n",
      "Exception message: 'NoneType' object is not subscriptable\n"
     ]
    },
    {
     "name": "stdout",
     "output_type": "stream",
     "text": [
      "4mww Featurization Failed\n"
     ]
    },
    {
     "name": "stderr",
     "output_type": "stream",
     "text": [
      "Failed to featurize datapoint 0, C[NH+]1CCN(C(=O)C(CNC(=O)c2ccc(Cl)s2)NS(=O)(=O)c2cc(F)cc(N3CCCCC3=O)c2Cl)CC1. Appending empty array\n",
      "Exception message: 'NoneType' object is not subscriptable\n"
     ]
    },
    {
     "name": "stdout",
     "output_type": "stream",
     "text": [
      "4loy Featurization Failed\n"
     ]
    },
    {
     "name": "stderr",
     "output_type": "stream",
     "text": [
      "Failed to featurize datapoint 0, CCCN(C)C(=O)C1OC(C(=O)[O-])=CC(NC(N)=[NH2+])C1NC(C)=O. Appending empty array\n",
      "Exception message: 'NoneType' object is not subscriptable\n"
     ]
    },
    {
     "name": "stdout",
     "output_type": "stream",
     "text": [
      "2qwf Featurization Failed\n"
     ]
    },
    {
     "name": "stderr",
     "output_type": "stream",
     "text": [
      "Failed to featurize datapoint 0, COc1ncc(Nc2ncc(C(C)[NH+]3CCN(S(C)(=O)=O)CC3)cc2-c2nc(C)nc(N)n2)cc1F. Appending empty array\n",
      "Exception message: 'NoneType' object is not subscriptable\n"
     ]
    },
    {
     "name": "stdout",
     "output_type": "stream",
     "text": [
      "4flh Featurization Failed\n"
     ]
    },
    {
     "name": "stderr",
     "output_type": "stream",
     "text": [
      "Failed to featurize datapoint 0, [NH3+]C1CCC(Nc2nc(NCc3ccccc3)c3ncn(C4CCCC4)c3n2)CC1. Appending empty array\n",
      "Exception message: 'NoneType' object is not subscriptable\n"
     ]
    },
    {
     "name": "stdout",
     "output_type": "stream",
     "text": [
      "1g5s Featurization Failed\n"
     ]
    },
    {
     "name": "stderr",
     "output_type": "stream",
     "text": [
      "Failed to featurize datapoint 0, Nc1nc2nnc(CCC(=O)[O-])c(O)c2c(=O)[nH]1. Appending empty array\n",
      "Exception message: 'NoneType' object is not subscriptable\n"
     ]
    },
    {
     "name": "stdout",
     "output_type": "stream",
     "text": [
      "4db7 Featurization Failed\n"
     ]
    },
    {
     "name": "stderr",
     "output_type": "stream",
     "text": [
      "Failed to featurize datapoint 0, CCN1CCN(C(=O)NC(CCc2ccc(O)cc2)C(=O)NCB(O)O)C(=O)C1=O. Appending empty array\n",
      "Exception message: 'NoneType' object is not subscriptable\n"
     ]
    },
    {
     "name": "stdout",
     "output_type": "stream",
     "text": [
      "3mxr Featurization Failed\n"
     ]
    },
    {
     "name": "stderr",
     "output_type": "stream",
     "text": [
      "Failed to featurize datapoint 0, CCn1c(CSc2nc(=[NH2+])[nH][nH]2)nc2c1c(=O)[nH]c(=O)n2Cc1ccc(Cl)cc1. Appending empty array\n",
      "Exception message: 'NoneType' object is not subscriptable\n"
     ]
    },
    {
     "name": "stdout",
     "output_type": "stream",
     "text": [
      "5ei4 Featurization Failed\n"
     ]
    },
    {
     "name": "stderr",
     "output_type": "stream",
     "text": [
      "Failed to featurize datapoint 0, CC(=O)N1CC[NH+](C2CCC(Nc3ncnn4ccc(C(C)CC(N)=O)c34)CC2)CC1. Appending empty array\n",
      "Exception message: 'NoneType' object is not subscriptable\n"
     ]
    },
    {
     "name": "stdout",
     "output_type": "stream",
     "text": [
      "6f3i Featurization Failed\n"
     ]
    },
    {
     "name": "stderr",
     "output_type": "stream",
     "text": [
      "Failed to featurize datapoint 0, NC(=O)C(CCCC[NH3+])[NH2+]Cc1ccc(-c2cccnc2)cc1. Appending empty array\n",
      "Exception message: 'NoneType' object is not subscriptable\n"
     ]
    },
    {
     "name": "stdout",
     "output_type": "stream",
     "text": [
      "4u5o Featurization Failed\n"
     ]
    },
    {
     "name": "stderr",
     "output_type": "stream",
     "text": [
      "Failed to featurize datapoint 0, C=C1CC(=O)C(O)=C(C(=O)[O-])O1. Appending empty array\n",
      "Exception message: 'NoneType' object is not subscriptable\n"
     ]
    },
    {
     "name": "stdout",
     "output_type": "stream",
     "text": [
      "6dzq Featurization Failed\n"
     ]
    },
    {
     "name": "stderr",
     "output_type": "stream",
     "text": [
      "Failed to featurize datapoint 0, CC(C)CC(NC(=O)C(C)NC(=O)C([NH3+])CC(N)=O)C(=O)NC(CC(C)C)C(=O)NC(C)C(=O)NC(Cc1ccc(O)cc1)C(=O)NC(CC(C)C)C(=O)NC(CC(C)C)C(=O)NC(CO)CC(=O)[O-]. Appending empty array\n",
      "Exception message: 'NoneType' object is not subscriptable\n"
     ]
    },
    {
     "name": "stdout",
     "output_type": "stream",
     "text": [
      "1gwr Featurization Failed\n"
     ]
    },
    {
     "name": "stderr",
     "output_type": "stream",
     "text": [
      "Failed to featurize datapoint 0, C=C1C(O)CC(=CC=C2CCCC3(C)C2CCC3C(C)CCC(=O)CCC)CC1O. Appending empty array\n",
      "Exception message: 'NoneType' object is not subscriptable\n"
     ]
    },
    {
     "name": "stdout",
     "output_type": "stream",
     "text": [
      "5zwf Featurization Failed\n",
      "2w8g Featurization Failed\n",
      "1u0h Featurization Failed\n",
      "4yl3 Featurization Failed\n"
     ]
    },
    {
     "name": "stderr",
     "output_type": "stream",
     "text": [
      "Failed to featurize datapoint 0, C[NH+](C)CCC(c1ccccc1)n1cc(NC(=O)c2[nH]nc3c2CCC(C)(C)C3)cn1. Appending empty array\n",
      "Exception message: 'NoneType' object is not subscriptable\n"
     ]
    },
    {
     "name": "stdout",
     "output_type": "stream",
     "text": [
      "4pqn Featurization Failed\n"
     ]
    },
    {
     "name": "stderr",
     "output_type": "stream",
     "text": [
      "Failed to featurize datapoint 0, CC(C)C([NH3+])C(=O)NC(C(=O)NC(Cc1ccc(O)cc1)C(=O)N1CCCC1C(=O)NC(Cc1c[nH]c2ccccc12)C(=O)[O-])C(C)C. Appending empty array\n",
      "Exception message: 'NoneType' object is not subscriptable\n"
     ]
    },
    {
     "name": "stdout",
     "output_type": "stream",
     "text": [
      "3t6b Featurization Failed\n"
     ]
    },
    {
     "name": "stderr",
     "output_type": "stream",
     "text": [
      "Failed to featurize datapoint 0, COc1cc(C(CC(=O)[O-])SCC(NC(=O)CCC([NH3+])C(=O)[O-])C(=O)NCC(=O)[O-])cc(OC)c1OC. Appending empty array\n",
      "Exception message: 'NoneType' object is not subscriptable\n"
     ]
    },
    {
     "name": "stdout",
     "output_type": "stream",
     "text": [
      "5j41 Featurization Failed\n"
     ]
    },
    {
     "name": "stderr",
     "output_type": "stream",
     "text": [
      "Failed to featurize datapoint 0, CC(N=Cc1cc(NC(N)=[NH2+])ccc1O)C(=O)[O-]. Appending empty array\n",
      "Exception message: 'NoneType' object is not subscriptable\n"
     ]
    },
    {
     "name": "stdout",
     "output_type": "stream",
     "text": [
      "3aas Featurization Failed\n"
     ]
    },
    {
     "name": "stderr",
     "output_type": "stream",
     "text": [
      "Failed to featurize datapoint 0, CC(=O)NC(Cc1ccc(C(=O)[O-])c(CO)c1)C(=O)NC1CCCCN(Cc2ccc(-c3ccccc3)cc2)C1=O. Appending empty array\n",
      "Exception message: 'NoneType' object is not subscriptable\n"
     ]
    },
    {
     "name": "stdout",
     "output_type": "stream",
     "text": [
      "1o4a Featurization Failed\n"
     ]
    },
    {
     "name": "stderr",
     "output_type": "stream",
     "text": [
      "Failed to featurize datapoint 0, O=CCC(NC(=O)OC1CCCC1)c1ccccc1. Appending empty array\n",
      "Exception message: 'NoneType' object is not subscriptable\n"
     ]
    },
    {
     "name": "stdout",
     "output_type": "stream",
     "text": [
      "3zmh Featurization Failed\n",
      "4jiz Featurization Failed\n"
     ]
    },
    {
     "name": "stderr",
     "output_type": "stream",
     "text": [
      "Failed to featurize datapoint 0, CCC(=O)NC1CN(c2nc(Nc3cnn(C)c3)c3ncn(C(C)C)c3n2)CC1F. Appending empty array\n",
      "Exception message: 'NoneType' object is not subscriptable\n"
     ]
    },
    {
     "name": "stdout",
     "output_type": "stream",
     "text": [
      "5ug8 Featurization Failed\n"
     ]
    },
    {
     "name": "stderr",
     "output_type": "stream",
     "text": [
      "Failed to featurize datapoint 0, NC(=[NH2+])NCCCC(NC(=O)CCCCCNC(=O)C(CCCNC(N)=[NH2+])NC(=O)CCCCCCCC(=O)N1CCN(c2ncnc3[nH]ccc23)CC1)C(N)=O. Appending empty array\n",
      "Exception message: 'NoneType' object is not subscriptable\n"
     ]
    },
    {
     "name": "stdout",
     "output_type": "stream",
     "text": [
      "5izf Featurization Failed\n"
     ]
    },
    {
     "name": "stderr",
     "output_type": "stream",
     "text": [
      "Failed to featurize datapoint 0, CCC(C)C(NC(=O)C1CCC[NH+]1CC(O)C(Cc1ccccc1)NC(=O)C(CC(N)=O)NC(=O)C(CC(C)C)NC(=O)C(CO)NC(C)=O)C(=O)NC(C(=O)OC)C(C)C. Appending empty array\n",
      "Exception message: 'NoneType' object is not subscriptable\n"
     ]
    },
    {
     "name": "stdout",
     "output_type": "stream",
     "text": [
      "7hvp Featurization Failed\n",
      "1mj7 Featurization Failed\n"
     ]
    },
    {
     "name": "stderr",
     "output_type": "stream",
     "text": [
      "Failed to featurize datapoint 0, CCCNC(=O)C1CCCN1C(=O)C([NH3+])C(c1ccccc1)c1ccccc1. Appending empty array\n",
      "Exception message: 'NoneType' object is not subscriptable\n"
     ]
    },
    {
     "name": "stdout",
     "output_type": "stream",
     "text": [
      "3da9 Featurization Failed\n",
      "5km1 Featurization Failed\n"
     ]
    },
    {
     "name": "stderr",
     "output_type": "stream",
     "text": [
      "Failed to featurize datapoint 0, O=C(NO)c1ccc(-c2csc3c2OC([NH+]2CCOCC2)CC3=O)cc1. Appending empty array\n",
      "Exception message: 'NoneType' object is not subscriptable\n"
     ]
    },
    {
     "name": "stdout",
     "output_type": "stream",
     "text": [
      "5u2c Featurization Failed\n"
     ]
    },
    {
     "name": "stderr",
     "output_type": "stream",
     "text": [
      "Failed to featurize datapoint 0, O=C(CC[NH2+]Cc1ccc(-c2ccccc2)c(Cl)c1)NCCC(=O)Nc1cccc(C(=O)[O-])c1. Appending empty array\n",
      "Exception message: 'NoneType' object is not subscriptable\n"
     ]
    },
    {
     "name": "stdout",
     "output_type": "stream",
     "text": [
      "5cu4 Featurization Failed\n",
      "4ngt Featurization Failed\n"
     ]
    },
    {
     "name": "stderr",
     "output_type": "stream",
     "text": [
      "Failed to featurize datapoint 0, CS(=O)(=O)NC(Cc1ccccc1)C(=O)N1CCCC1C(=O)NCC1CCN(C(N)=[NH2+])CC1. Appending empty array\n",
      "Exception message: 'NoneType' object is not subscriptable\n"
     ]
    },
    {
     "name": "stdout",
     "output_type": "stream",
     "text": [
      "3tu7 Featurization Failed\n"
     ]
    },
    {
     "name": "stderr",
     "output_type": "stream",
     "text": [
      "Failed to featurize datapoint 0, COc1ccc(-c2ccc(C(=O)NC(CO)C(C)(C)C)cc2C(=O)[O-])c(C(=O)Nc2cccc(C(N)=O)c2)n1. Appending empty array\n",
      "Exception message: 'NoneType' object is not subscriptable\n"
     ]
    },
    {
     "name": "stdout",
     "output_type": "stream",
     "text": [
      "4jzf Featurization Failed\n"
     ]
    },
    {
     "name": "stderr",
     "output_type": "stream",
     "text": [
      "Failed to featurize datapoint 0, O=C(Nc1ccc(OC(F)(F)F)cc1)NC1CCC(Oc2ccc(C(=O)[O-])cc2)CC1. Appending empty array\n",
      "Exception message: 'NoneType' object is not subscriptable\n"
     ]
    },
    {
     "name": "stdout",
     "output_type": "stream",
     "text": [
      "6aum Featurization Failed\n",
      "2cia Featurization Failed\n"
     ]
    },
    {
     "name": "stderr",
     "output_type": "stream",
     "text": [
      "Failed to featurize datapoint 0, COc1ccc(-c2cccc3[nH]c(Nc4ccc(N5CC[NH+](C)CC5)cc4)n[n+]23)cc1. Appending empty array\n",
      "Exception message: 'NoneType' object is not subscriptable\n"
     ]
    },
    {
     "name": "stdout",
     "output_type": "stream",
     "text": [
      "4jia Featurization Failed\n"
     ]
    },
    {
     "name": "stderr",
     "output_type": "stream",
     "text": [
      "Failed to featurize datapoint 0, CC(NC(=O)CCCCC([NH3+])C(=O)[O-])B(O)O. Appending empty array\n",
      "Exception message: 'NoneType' object is not subscriptable\n"
     ]
    },
    {
     "name": "stdout",
     "output_type": "stream",
     "text": [
      "2xdm Featurization Failed\n",
      "4mji Featurization Failed\n",
      "3a1s Featurization Failed\n",
      "1hiy Featurization Failed\n"
     ]
    },
    {
     "name": "stderr",
     "output_type": "stream",
     "text": [
      "Failed to featurize datapoint 0, Cc1cn(C2CC(O)C(C[NH+]3CCCC3)O2)c(=O)[nH]c1=O. Appending empty array\n",
      "Exception message: 'NoneType' object is not subscriptable\n"
     ]
    },
    {
     "name": "stdout",
     "output_type": "stream",
     "text": [
      "3d8z Featurization Failed\n"
     ]
    },
    {
     "name": "stderr",
     "output_type": "stream",
     "text": [
      "Failed to featurize datapoint 0, COc1cc(C(=O)NCCC[NH+]2CC[NH+](C)CC2)ccc1NC(=O)c1csc2c(=O)[nH]cnc12. Appending empty array\n",
      "Exception message: 'NoneType' object is not subscriptable\n"
     ]
    },
    {
     "name": "stdout",
     "output_type": "stream",
     "text": [
      "5jgb Featurization Failed\n"
     ]
    },
    {
     "name": "stderr",
     "output_type": "stream",
     "text": [
      "Failed to featurize datapoint 0, CC(=CC=CC(C)=CC(=O)[O-])C=C1CCCc2c(C)cccc21. Appending empty array\n",
      "Exception message: 'NoneType' object is not subscriptable\n"
     ]
    },
    {
     "name": "stdout",
     "output_type": "stream",
     "text": [
      "4pp5 Featurization Failed\n",
      "3zuk Featurization Failed\n",
      "6ccs Featurization Failed\n"
     ]
    },
    {
     "name": "stderr",
     "output_type": "stream",
     "text": [
      "Failed to featurize datapoint 0, Cc1cccc(C)c1OCC(=O)NC(Cc1ccccc1)C(O)C[NH+]1CCC(S(=O)(=O)c2ccncc2)CC1C(=O)NC(C)(C)C. Appending empty array\n",
      "Exception message: 'NoneType' object is not subscriptable\n"
     ]
    },
    {
     "name": "stdout",
     "output_type": "stream",
     "text": [
      "1idb Featurization Failed\n",
      "2pj8 Featurization Failed\n"
     ]
    },
    {
     "name": "stderr",
     "output_type": "stream",
     "text": [
      "Failed to featurize datapoint 0, Oc1ccc2c3c1OC1c4[nH]c5ccccc5c4CC4(O)C(C2)[NH+](CC2CC2)CCC314. Appending empty array\n",
      "Exception message: 'NoneType' object is not subscriptable\n"
     ]
    },
    {
     "name": "stdout",
     "output_type": "stream",
     "text": [
      "4n6h Featurization Failed\n",
      "1gx0 Featurization Failed\n"
     ]
    },
    {
     "name": "stderr",
     "output_type": "stream",
     "text": [
      "Failed to featurize datapoint 0, CCC(C)C(NC(=O)CNC(=O)C1CCCN1C(=O)C(NC(=O)C(C)NC(=O)C(NC(=O)C(NC(=O)C(Cc1c[nH]c2ccccc12)NC(=O)C(CC(C)C)NC(=O)C([NH3+])CC(=O)[O-])C(C)O)C(C)O)C(C)CC)C(N)=O. Appending empty array\n",
      "Exception message: 'NoneType' object is not subscriptable\n"
     ]
    },
    {
     "name": "stdout",
     "output_type": "stream",
     "text": [
      "2y36 Featurization Failed\n"
     ]
    },
    {
     "name": "stderr",
     "output_type": "stream",
     "text": [
      "Failed to featurize datapoint 0, CC1CC([NH3+])c2cc(S(N)(=O)=O)sc2S1(=O)=O. Appending empty array\n",
      "Exception message: 'NoneType' object is not subscriptable\n"
     ]
    },
    {
     "name": "stdout",
     "output_type": "stream",
     "text": [
      "1cim Featurization Failed\n"
     ]
    },
    {
     "name": "stderr",
     "output_type": "stream",
     "text": [
      "Failed to featurize datapoint 0, OCC1O[NH2+]CC(O)C1O. Appending empty array\n",
      "Exception message: 'NoneType' object is not subscriptable\n"
     ]
    },
    {
     "name": "stdout",
     "output_type": "stream",
     "text": [
      "1w3j Featurization Failed\n",
      "4ab8 Featurization Failed\n"
     ]
    },
    {
     "name": "stderr",
     "output_type": "stream",
     "text": [
      "Failed to featurize datapoint 0, CC(C)C([NH3+])C(=O)NC(Cc1ccccc1)CC(O)C(Cc1ccccc1)NC(=O)OCc1cncs1. Appending empty array\n",
      "Exception message: 'NoneType' object is not subscriptable\n"
     ]
    },
    {
     "name": "stdout",
     "output_type": "stream",
     "text": [
      "4u7v Featurization Failed\n",
      "2ajl Featurization Failed\n"
     ]
    },
    {
     "name": "stderr",
     "output_type": "stream",
     "text": [
      "Failed to featurize datapoint 0, c1cc2nc(NC3CCC[NH2+]C3)c3cc[nH]c3n2n1. Appending empty array\n",
      "Exception message: 'NoneType' object is not subscriptable\n"
     ]
    },
    {
     "name": "stdout",
     "output_type": "stream",
     "text": [
      "3wi6 Featurization Failed\n"
     ]
    },
    {
     "name": "stderr",
     "output_type": "stream",
     "text": [
      "Failed to featurize datapoint 0, CCCCCCCCOc1cccc(CSc2ccc(Br)cc2C(=O)[O-])c1. Appending empty array\n",
      "Exception message: 'NoneType' object is not subscriptable\n"
     ]
    },
    {
     "name": "stdout",
     "output_type": "stream",
     "text": [
      "3tfv Featurization Failed\n"
     ]
    },
    {
     "name": "stderr",
     "output_type": "stream",
     "text": [
      "Failed to featurize datapoint 0, N#Cc1ccc(Cn2cncc2C[NH+]2CCN(c3cccc(Cl)c3)C(=O)C2)cc1. Appending empty array\n",
      "Exception message: 'NoneType' object is not subscriptable\n"
     ]
    },
    {
     "name": "stdout",
     "output_type": "stream",
     "text": [
      "1s64 Featurization Failed\n",
      "6aol Featurization Failed\n"
     ]
    },
    {
     "name": "stderr",
     "output_type": "stream",
     "text": [
      "Failed to featurize datapoint 0, COCCCOc1ccccc1N1CC[NH+](CC([NH3+])C(O)CC(C(=O)NCC(C)(C)C(N)=O)C(C)C)CC1=O. Appending empty array\n",
      "Exception message: 'NoneType' object is not subscriptable\n"
     ]
    },
    {
     "name": "stdout",
     "output_type": "stream",
     "text": [
      "3vsw Featurization Failed\n"
     ]
    },
    {
     "name": "stderr",
     "output_type": "stream",
     "text": [
      "Failed to featurize datapoint 0, COC(=O)C1CC2(C[NH2+]1)C(=O)Nc1ccccc12. Appending empty array\n",
      "Exception message: 'NoneType' object is not subscriptable\n"
     ]
    },
    {
     "name": "stdout",
     "output_type": "stream",
     "text": [
      "3udj Featurization Failed\n",
      "4y6r Featurization Failed\n"
     ]
    },
    {
     "name": "stderr",
     "output_type": "stream",
     "text": [
      "Failed to featurize datapoint 0, CCC(CC)C(NC(C)=O)C1C(NC(N)=[NH2+])CC(C(=O)[O-])C1O. Appending empty array\n",
      "Exception message: 'NoneType' object is not subscriptable\n"
     ]
    },
    {
     "name": "stdout",
     "output_type": "stream",
     "text": [
      "4mwv Featurization Failed\n",
      "1nzv Featurization Failed\n"
     ]
    },
    {
     "name": "stderr",
     "output_type": "stream",
     "text": [
      "Failed to featurize datapoint 0, CCC(C)C(NC(C)=O)C(=O)NC(CO)C(=O)NC1C(=O)NC(CCCNC(N)=[NH2+])C(=O)NC2CCCCNC(=O)CCC(C(=O)[O-])NC(=O)C3CCC(=O)OCC(NC(=O)C4CCCN4C(=O)C(Cc4ccc(O)cc4)NC2=O)C(=O)NC(CC(=O)OC1C)C(=O)NC(Cc1c[nH]c2ccccc12)C(=O)N3. Appending empty array\n",
      "Exception message: 'NoneType' object is not subscriptable\n"
     ]
    },
    {
     "name": "stdout",
     "output_type": "stream",
     "text": [
      "4ktu Featurization Failed\n",
      "4zx8 Featurization Failed\n"
     ]
    },
    {
     "name": "stderr",
     "output_type": "stream",
     "text": [
      "Failed to featurize datapoint 0, CC(=O)NC1C(O)CC(OCC2OC(OC3C(CO)OC(O)C(O)C3O)C(O)C(O)C2O)(C(=O)[O-])OC1C(O)C(O)CO. Appending empty array\n",
      "Exception message: 'NoneType' object is not subscriptable\n"
     ]
    },
    {
     "name": "stdout",
     "output_type": "stream",
     "text": [
      "6er4 Featurization Failed\n",
      "4tn2 Featurization Failed\n"
     ]
    },
    {
     "name": "stderr",
     "output_type": "stream",
     "text": [
      "Failed to featurize datapoint 0, None. Appending empty array\n",
      "Exception message: Python argument types in\n",
      "    rdkit.Chem.rdmolfiles.MolToSmiles(NoneType)\n",
      "did not match C++ signature:\n",
      "    MolToSmiles(class RDKit::ROMol mol, bool isomericSmiles=False, bool kekuleSmiles=False, int rootedAtAtom=-1, bool canonical=True, bool allBondsExplicit=False, bool allHsExplicit=False)\n"
     ]
    },
    {
     "name": "stdout",
     "output_type": "stream",
     "text": [
      "4mnv Featurization Failed\n",
      "5vii Featurization Failed\n"
     ]
    },
    {
     "name": "stderr",
     "output_type": "stream",
     "text": [
      "Failed to featurize datapoint 0, CC(C)C(NC(=O)C(Cc1c[nH]c2ccccc12)NC(=O)C1CSCC(=O)NC(Cc2ccc(O)cc2)C(=O)N2CCCC2C(=O)NC(Cc2ccc(O)cc2)C(=O)NC(CO)C(=O)N1)C(=O)NC(CCCNC(N)=[NH2+])C(=O)NC(Cc1c[nH]cn1)C(N)=O. Appending empty array\n",
      "Exception message: 'NoneType' object is not subscriptable\n"
     ]
    },
    {
     "name": "stdout",
     "output_type": "stream",
     "text": [
      "5kez Featurization Failed\n"
     ]
    },
    {
     "name": "stderr",
     "output_type": "stream",
     "text": [
      "Failed to featurize datapoint 0, Cc1nc(C)c(C(=O)Nc2nc(C[NH+]3CC(C)CC(C)C3)cs2)o1. Appending empty array\n",
      "Exception message: 'NoneType' object is not subscriptable\n"
     ]
    },
    {
     "name": "stdout",
     "output_type": "stream",
     "text": [
      "5owa Featurization Failed\n",
      "5npd Featurization Failed\n",
      "5wfm Featurization Failed\n"
     ]
    },
    {
     "name": "stderr",
     "output_type": "stream",
     "text": [
      "Failed to featurize datapoint 0, CCNc1cc(C(=O)NC(Cc2ccccc2)C(O)C[NH2+]Cc2cccc(OC)c2)cc2c1CCCS(=O)(=O)N2C. Appending empty array\n",
      "Exception message: 'NoneType' object is not subscriptable\n"
     ]
    },
    {
     "name": "stdout",
     "output_type": "stream",
     "text": [
      "2wf3 Featurization Failed\n"
     ]
    },
    {
     "name": "stderr",
     "output_type": "stream",
     "text": [
      "Failed to featurize datapoint 0, CCCCCCCC(=O)OC1C(OC(=O)C(C)CC)C(C)C2C1C(C)(OC(C)=O)CC(OC(O)CCC)C1(OC(O)CCC)C2OC(O)C1(C)O. Appending empty array\n",
      "Exception message: 'NoneType' object is not subscriptable\n"
     ]
    },
    {
     "name": "stdout",
     "output_type": "stream",
     "text": [
      "4j2t Featurization Failed\n"
     ]
    },
    {
     "name": "stderr",
     "output_type": "stream",
     "text": [
      "Failed to featurize datapoint 0, O=C([O-])C(=O)C=C(O)c1ccccc1F. Appending empty array\n",
      "Exception message: 'NoneType' object is not subscriptable\n"
     ]
    },
    {
     "name": "stdout",
     "output_type": "stream",
     "text": [
      "6c8p Featurization Failed\n",
      "4mqp Featurization Failed\n"
     ]
    },
    {
     "name": "stderr",
     "output_type": "stream",
     "text": [
      "Failed to featurize datapoint 0, O=C1C=CC(=O)NC(CC2CCCCC2)C(=O)NC(Cc2ccc(F)cc2)C(=O)NC(Cc2ccc([N+](=O)[O-])cc2)C(=O)NCCCC(C(=O)[O-])N1. Appending empty array\n",
      "Exception message: 'NoneType' object is not subscriptable\n"
     ]
    },
    {
     "name": "stdout",
     "output_type": "stream",
     "text": [
      "5bmm Featurization Failed\n"
     ]
    },
    {
     "name": "stderr",
     "output_type": "stream",
     "text": [
      "Failed to featurize datapoint 0, CC1[NH2+]CCC(C(=O)[O-])[NH2+]1. Appending empty array\n",
      "Exception message: 'NoneType' object is not subscriptable\n"
     ]
    },
    {
     "name": "stdout",
     "output_type": "stream",
     "text": [
      "3ppr Featurization Failed\n",
      "3gep Featurization Failed\n"
     ]
    },
    {
     "name": "stderr",
     "output_type": "stream",
     "text": [
      "Failed to featurize datapoint 0, ON=CC1=CCC=CN1CCCCCCCN1C=CC=CC1C=NO. Appending empty array\n",
      "Exception message: 'NoneType' object is not subscriptable\n"
     ]
    },
    {
     "name": "stdout",
     "output_type": "stream",
     "text": [
      "5bwc Featurization Failed\n",
      "4jg1 Featurization Failed\n"
     ]
    },
    {
     "name": "stderr",
     "output_type": "stream",
     "text": [
      "Failed to featurize datapoint 0, CCC(C)C(NC(=O)C([NH3+])Cc1c[nH]cn1)C(=O)NC(C)C(=O)[O-]. Appending empty array\n",
      "Exception message: 'NoneType' object is not subscriptable\n"
     ]
    },
    {
     "name": "stdout",
     "output_type": "stream",
     "text": [
      "3nij Featurization Failed\n"
     ]
    },
    {
     "name": "stderr",
     "output_type": "stream",
     "text": [
      "Failed to featurize datapoint 0, C[NH2+]C(CNC(=O)N1CCCC(C(OCCNC(=O)OC)c2cccc(Cl)c2)C1)CC1CCCOC1. Appending empty array\n",
      "Exception message: 'NoneType' object is not subscriptable\n"
     ]
    },
    {
     "name": "stdout",
     "output_type": "stream",
     "text": [
      "3q4b Featurization Failed\n",
      "3hb8 Featurization Failed\n"
     ]
    },
    {
     "name": "stderr",
     "output_type": "stream",
     "text": [
      "Failed to featurize datapoint 0, COc1cccc(C2OC(CC(=O)N3CCC(CC(=O)[O-])CC3)c3cccn3-c3ccc(Cl)cc32)c1OC. Appending empty array\n",
      "Exception message: 'NoneType' object is not subscriptable\n"
     ]
    },
    {
     "name": "stdout",
     "output_type": "stream",
     "text": [
      "3v66 Featurization Failed\n",
      "3s9y Featurization Failed\n"
     ]
    },
    {
     "name": "stderr",
     "output_type": "stream",
     "text": [
      "Failed to featurize datapoint 0, N#Cc1ccc(CSc2nc3[nH]c(=[NH2+])[nH]c(=O)c3[nH]2)c(F)c1. Appending empty array\n",
      "Exception message: 'NoneType' object is not subscriptable\n"
     ]
    },
    {
     "name": "stdout",
     "output_type": "stream",
     "text": [
      "5ett Featurization Failed\n"
     ]
    },
    {
     "name": "stderr",
     "output_type": "stream",
     "text": [
      "Failed to featurize datapoint 0, Cc1ccccc1S(=O)(=O)Nc1cc(-c2ccc(C#N)cc2)sc1C(=O)[O-]. Appending empty array\n",
      "Exception message: 'NoneType' object is not subscriptable\n"
     ]
    },
    {
     "name": "stdout",
     "output_type": "stream",
     "text": [
      "2d3u Featurization Failed\n"
     ]
    },
    {
     "name": "stderr",
     "output_type": "stream",
     "text": [
      "Failed to featurize datapoint 0, O=C([O-])c1csc(-c2cccc3ccccc23)n1. Appending empty array\n",
      "Exception message: 'NoneType' object is not subscriptable\n"
     ]
    },
    {
     "name": "stdout",
     "output_type": "stream",
     "text": [
      "6g46 Featurization Failed\n",
      "3bar Featurization Failed\n",
      "1wc6 Featurization Failed\n",
      "1hyz Featurization Failed\n"
     ]
    },
    {
     "name": "stderr",
     "output_type": "stream",
     "text": [
      "Failed to featurize datapoint 0, CC1(C)SC(C(NC(=O)Cc2ccccc2)C(=O)NCc2ccccc2)[NH2+]C1C(=O)[O-]. Appending empty array\n",
      "Exception message: 'NoneType' object is not subscriptable\n"
     ]
    },
    {
     "name": "stdout",
     "output_type": "stream",
     "text": [
      "1hte Featurization Failed\n",
      "4ngq Featurization Failed\n",
      "5ohj Featurization Failed\n"
     ]
    },
    {
     "name": "stderr",
     "output_type": "stream",
     "text": [
      "Failed to featurize datapoint 0, [NH3+]C(Cc1ccccc1)C(=O)N1CCCC1C(=O)NCc1cnccc1Cl. Appending empty array\n",
      "Exception message: 'NoneType' object is not subscriptable\n"
     ]
    },
    {
     "name": "stdout",
     "output_type": "stream",
     "text": [
      "3sha Featurization Failed\n"
     ]
    },
    {
     "name": "stderr",
     "output_type": "stream",
     "text": [
      "Failed to featurize datapoint 0, [NH2+]=c1[nH]c(=O)c2cc(CCCCc3csc(C(=O)NC(CCC(=O)[O-])C(=O)[O-])c3)[nH]c2[nH]1. Appending empty array\n",
      "Exception message: 'NoneType' object is not subscriptable\n"
     ]
    },
    {
     "name": "stdout",
     "output_type": "stream",
     "text": [
      "4zyx Featurization Failed\n",
      "3iqv Featurization Failed\n",
      "5u6k Featurization Failed\n"
     ]
    },
    {
     "name": "stderr",
     "output_type": "stream",
     "text": [
      "Failed to featurize datapoint 0, CCCC=CCCOC1OC(CO)C(O)C(O)C1O. Appending empty array\n",
      "Exception message: 'NoneType' object is not subscriptable\n"
     ]
    },
    {
     "name": "stdout",
     "output_type": "stream",
     "text": [
      "4lov Featurization Failed\n"
     ]
    },
    {
     "name": "stderr",
     "output_type": "stream",
     "text": [
      "Failed to featurize datapoint 0, CCC(C)C(NC(=O)C([NH3+])CO)C(=O)NC(Cc1ccc(O)cc1)C(=O)NC(CCCNC(N)=[NH2+])C(=O)NC(Cc1ccc(O)cc1)C(=O)NC(Cc1ccc(O)cc1)C(=O)NCC(=O)NC(CC(C)C)C(=O)[O-]. Appending empty array\n",
      "Exception message: 'NoneType' object is not subscriptable\n"
     ]
    },
    {
     "name": "stdout",
     "output_type": "stream",
     "text": [
      "1g6r Featurization Failed\n"
     ]
    },
    {
     "name": "stderr",
     "output_type": "stream",
     "text": [
      "Failed to featurize datapoint 0, CCCC([NH2+]CC(O)C(Cc1cccs1)NC(=O)C(Cc1cccs1)NC(=O)C(NC(=O)C([NH3+])CCC(=O)[O-])C(C)CC)C(=O)[O-]. Appending empty array\n",
      "Exception message: 'NoneType' object is not subscriptable\n"
     ]
    },
    {
     "name": "stdout",
     "output_type": "stream",
     "text": [
      "4trz Featurization Failed\n",
      "2fjm Featurization Failed\n"
     ]
    },
    {
     "name": "stderr",
     "output_type": "stream",
     "text": [
      "Failed to featurize datapoint 0, CC(C)CC(NC(=O)C(CO)NC(=O)C(C)NC(=O)C(Cc1c[nH]c2ccccc12)NC(=O)C(C)[NH3+])C(=O)NC(CCCC[NH3+])C(=O)NC(CCCNC(N)=[NH2+])C(=O)NC(CC(C)C)C(=O)NC(C(=O)NC(C(=O)NC(C)C(=O)[O-])C(C)O)C(C)C. Appending empty array\n",
      "Exception message: 'NoneType' object is not subscriptable\n"
     ]
    },
    {
     "name": "stdout",
     "output_type": "stream",
     "text": [
      "5nin Featurization Failed\n",
      "4yik Featurization Failed\n"
     ]
    },
    {
     "name": "stderr",
     "output_type": "stream",
     "text": [
      "Failed to featurize datapoint 0, None. Appending empty array\n",
      "Exception message: Python argument types in\n",
      "    rdkit.Chem.rdmolfiles.MolToSmiles(NoneType)\n",
      "did not match C++ signature:\n",
      "    MolToSmiles(class RDKit::ROMol mol, bool isomericSmiles=False, bool kekuleSmiles=False, int rootedAtAtom=-1, bool canonical=True, bool allBondsExplicit=False, bool allHsExplicit=False)\n"
     ]
    },
    {
     "name": "stdout",
     "output_type": "stream",
     "text": [
      "3e6k Featurization Failed\n",
      "5ofu Featurization Failed\n"
     ]
    },
    {
     "name": "stderr",
     "output_type": "stream",
     "text": [
      "Failed to featurize datapoint 0, CC(NC(=O)C1CCCN1C(=O)C(Cc1ccc(O)cc1)NC(=O)C(CC(N)=O)NC(=O)CNC(=O)C1CCCN1C(=O)C(C)NC(=O)C([NH3+])Cc1ccccc1)C(=O)NC(Cc1ccccc1)C(=O)[O-]. Appending empty array\n",
      "Exception message: 'NoneType' object is not subscriptable\n"
     ]
    },
    {
     "name": "stdout",
     "output_type": "stream",
     "text": [
      "4pgd Featurization Failed\n"
     ]
    },
    {
     "name": "stderr",
     "output_type": "stream",
     "text": [
      "Failed to featurize datapoint 0, CCC(C)C1NC(=O)CC(NC(=O)C([NH3+])CCCNC(N)=[NH2+])C(=O)NCC(C(=O)NC(CCCNC(N)=[NH2+])C(=O)NC(CC(C)C)C(=O)NC(CC(C)C)C(=O)NC(CCC(N)=O)C(N)=O)NC(=O)C(CC(C)C)NC1=O. Appending empty array\n",
      "Exception message: 'NoneType' object is not subscriptable\n"
     ]
    },
    {
     "name": "stdout",
     "output_type": "stream",
     "text": [
      "5gs4 Featurization Failed\n"
     ]
    },
    {
     "name": "stderr",
     "output_type": "stream",
     "text": [
      "Failed to featurize datapoint 0, Cn1nccc1Nc1nccc(C2=CCN(C(CO)c3ccc(Cl)c(F)c3)C(=O)C2)n1. Appending empty array\n",
      "Exception message: 'NoneType' object is not subscriptable\n"
     ]
    },
    {
     "name": "stdout",
     "output_type": "stream",
     "text": [
      "5k4j Featurization Failed\n"
     ]
    },
    {
     "name": "stderr",
     "output_type": "stream",
     "text": [
      "Failed to featurize datapoint 0, CCC(CC)(NC(=O)C(C)C)C(=O)NC(CCCNC(N)=[NH2+])C(=O)NC1(C(=O)NC(c2ccc(F)cc2)c2ccc(F)cc2)CCCC1. Appending empty array\n",
      "Exception message: 'NoneType' object is not subscriptable\n"
     ]
    },
    {
     "name": "stdout",
     "output_type": "stream",
     "text": [
      "4gm8 Featurization Failed\n",
      "4yv9 Featurization Failed\n"
     ]
    },
    {
     "name": "stderr",
     "output_type": "stream",
     "text": [
      "Failed to featurize datapoint 0, Cc1nnc(-c2ccc3occ(-c4ccc([S+](C)O)cc4)c3c2)o1. Appending empty array\n",
      "Exception message: 'NoneType' object is not subscriptable\n"
     ]
    },
    {
     "name": "stdout",
     "output_type": "stream",
     "text": [
      "3gb2 Featurization Failed\n"
     ]
    },
    {
     "name": "stderr",
     "output_type": "stream",
     "text": [
      "Failed to featurize datapoint 0, Cc1cc(OCCCc2c(C(=O)Nc3cccc(C(=O)[O-])c3)[nH]c3c(-c4c(C)nn(C)c4C)c(Cl)ccc23)cc(C)c1Cl. Appending empty array\n",
      "Exception message: 'NoneType' object is not subscriptable\n"
     ]
    },
    {
     "name": "stdout",
     "output_type": "stream",
     "text": [
      "5iez Featurization Failed\n"
     ]
    },
    {
     "name": "stderr",
     "output_type": "stream",
     "text": [
      "Failed to featurize datapoint 0, O=C([O-])CCC[NH+]1CCCC1COc1ccc(Oc2ccc(Cl)cc2)cc1. Appending empty array\n",
      "Exception message: 'NoneType' object is not subscriptable\n"
     ]
    },
    {
     "name": "stdout",
     "output_type": "stream",
     "text": [
      "3fh7 Featurization Failed\n"
     ]
    },
    {
     "name": "stderr",
     "output_type": "stream",
     "text": [
      "Failed to featurize datapoint 0, CC(C)CCCC(C)CCCC(C)CCCCC(C)CCCC(C)CCC1OC1(C)C. Appending empty array\n",
      "Exception message: 'NoneType' object is not subscriptable\n"
     ]
    },
    {
     "name": "stdout",
     "output_type": "stream",
     "text": [
      "4omj Featurization Failed\n"
     ]
    },
    {
     "name": "stderr",
     "output_type": "stream",
     "text": [
      "Failed to featurize datapoint 0, CC(=O)NC(C(=O)NC(C(=O)NC(Cc1ccccc1)C(=O)NC(C(=O)NC(CO)C(=O)NC(Cc1c[nH]c2ccccc12)C(=O)NC(CCC(=O)[O-])C(=O)NC(CCC(=O)[O-])C(=O)NC(Cc1ccc(O)cc1)C(=O)NC(CC(C)C)C(=O)NC(CC(=O)[O-])C(=O)NC(Cc1c[nH]c2ccccc12)C(=O)NC(C(N)=O)C(C)C)C(C)O)C(C)C)C(C)O. Appending empty array\n",
      "Exception message: 'NoneType' object is not subscriptable\n"
     ]
    },
    {
     "name": "stdout",
     "output_type": "stream",
     "text": [
      "5vll Featurization Failed\n"
     ]
    },
    {
     "name": "stderr",
     "output_type": "stream",
     "text": [
      "Failed to featurize datapoint 0, Cc1ccc(Nc2ccccc2C(=O)[O-])c(C(=O)[O-])c1. Appending empty array\n",
      "Exception message: 'NoneType' object is not subscriptable\n"
     ]
    },
    {
     "name": "stdout",
     "output_type": "stream",
     "text": [
      "4gkm Featurization Failed\n"
     ]
    },
    {
     "name": "stderr",
     "output_type": "stream",
     "text": [
      "Failed to featurize datapoint 0, COc1ncc(F)c(N2Cc3cn(-c4cccc(S(C)(=O)=O)c4)nc3C2C(C)C)n1. Appending empty array\n",
      "Exception message: 'NoneType' object is not subscriptable\n"
     ]
    },
    {
     "name": "stdout",
     "output_type": "stream",
     "text": [
      "5kyj Featurization Failed\n",
      "5ogk Featurization Failed\n"
     ]
    },
    {
     "name": "stderr",
     "output_type": "stream",
     "text": [
      "Failed to featurize datapoint 0, O=C([O-])Cc1ccc(N2C(=O)C(O)=C(C(=O)c3ccccc3Cl)C2c2ccccc2Cl)cc1. Appending empty array\n",
      "Exception message: 'NoneType' object is not subscriptable\n"
     ]
    },
    {
     "name": "stdout",
     "output_type": "stream",
     "text": [
      "4ibc Featurization Failed\n"
     ]
    },
    {
     "name": "stderr",
     "output_type": "stream",
     "text": [
      "Failed to featurize datapoint 0, O=C([O-])c1cc(O)c2c(O)c3c(O)cccc3c(O)c2c1. Appending empty array\n",
      "Exception message: 'NoneType' object is not subscriptable\n"
     ]
    },
    {
     "name": "stdout",
     "output_type": "stream",
     "text": [
      "4rfr Featurization Failed\n"
     ]
    },
    {
     "name": "stderr",
     "output_type": "stream",
     "text": [
      "Failed to featurize datapoint 0, CC(=N)NCCCC(NC(=O)C([NH3+])CC(=O)[O-])C(N)=O. Appending empty array\n",
      "Exception message: 'NoneType' object is not subscriptable\n"
     ]
    },
    {
     "name": "stdout",
     "output_type": "stream",
     "text": [
      "4dkt Featurization Failed\n"
     ]
    },
    {
     "name": "stderr",
     "output_type": "stream",
     "text": [
      "Failed to featurize datapoint 0, C[NH+]1CC[NH+](CCn2cnc3c(NC4CCCCC4)nc(C=N)nc32)CC1. Appending empty array\n",
      "Exception message: 'NoneType' object is not subscriptable\n"
     ]
    },
    {
     "name": "stdout",
     "output_type": "stream",
     "text": [
      "1u9v Featurization Failed\n"
     ]
    },
    {
     "name": "stderr",
     "output_type": "stream",
     "text": [
      "Failed to featurize datapoint 0, CCCCCCCCCC(=O)NC1CCSC1=O. Appending empty array\n",
      "Exception message: 'NoneType' object is not subscriptable\n"
     ]
    },
    {
     "name": "stdout",
     "output_type": "stream",
     "text": [
      "2vc7 Featurization Failed\n"
     ]
    },
    {
     "name": "stderr",
     "output_type": "stream",
     "text": [
      "Failed to featurize datapoint 0, CSCCC(NC(=O)C(CO)NC(=O)C(NC(=O)C(CC(C)C)NC(=O)C([NH3+])C(C)O)C(C)C)C(=O)N1CCCC1C(=O)N1CCCC1C(=O)NC(CC(C)C)C(=O)N1CCCC1C(=O)NCC(=O)NC(CC(C)C)C(=O)NC(CC(=O)[O-])C(=O)NC(CC(C)C)C(=O)NC(C)C(=O)NCC(=O)NC(CO)C(=O)[O-]. Appending empty array\n",
      "Exception message: 'NoneType' object is not subscriptable\n"
     ]
    },
    {
     "name": "stdout",
     "output_type": "stream",
     "text": [
      "3v30 Featurization Failed\n"
     ]
    },
    {
     "name": "stderr",
     "output_type": "stream",
     "text": [
      "Failed to featurize datapoint 0, O=C([O-])CCCCCn1c(C(=O)[O-])cc2cc(OCc3c(Cl)cccc3Cl)ccc21. Appending empty array\n",
      "Exception message: 'NoneType' object is not subscriptable\n"
     ]
    },
    {
     "name": "stdout",
     "output_type": "stream",
     "text": [
      "1mzs Featurization Failed\n",
      "3evc Featurization Failed\n",
      "5oxn Featurization Failed\n"
     ]
    },
    {
     "name": "stderr",
     "output_type": "stream",
     "text": [
      "Failed to featurize datapoint 0, CCC(C)C(NC(=O)C(CCCNC(N)=[NH2+])NC(=O)CNC(=O)C(NC(=O)C(NC(=O)C(NC(=O)C(NC(=O)C(CO)NC(=O)CNC(=O)C[NH3+])C(C)C)C(C)C)C(C)CC)C(C)C)C(=O)NC(C(=O)NC(CC(C)C)C(=O)NC(CO)C(=O)[O-])C(C)CC. Appending empty array\n",
      "Exception message: 'NoneType' object is not subscriptable\n"
     ]
    },
    {
     "name": "stdout",
     "output_type": "stream",
     "text": [
      "4i33 Featurization Failed\n"
     ]
    },
    {
     "name": "stderr",
     "output_type": "stream",
     "text": [
      "Failed to featurize datapoint 0, CC(C)CC(NC(=O)C(CCC(=O)[O-])NC(=O)C(CCC(=O)[O-])NC(=O)C(NC(=O)C(CC(C)C)NC(=O)C(NC(=O)C(Cc1ccc(O)cc1)NC(=O)C(CO)NC(=O)C(CC(=O)[O-])NC(=O)C(CCCC[NH3+])NC(=O)C(NC(=O)C1CCC[NH2+]1)C(C)O)C(C)O)C(C)O)C(=O)[O-]. Appending empty array\n",
      "Exception message: 'NoneType' object is not subscriptable\n"
     ]
    },
    {
     "name": "stdout",
     "output_type": "stream",
     "text": [
      "6gzl Featurization Failed\n"
     ]
    },
    {
     "name": "stderr",
     "output_type": "stream",
     "text": [
      "Failed to featurize datapoint 0, CCOCC(Oc1cc(CC2CS(=O)(=O)CC([NH2+]Cc3cccc(C(C)(C)C)c3)C2O)cc(F)c1N)C(F)(F)F. Appending empty array\n",
      "Exception message: 'NoneType' object is not subscriptable\n"
     ]
    },
    {
     "name": "stdout",
     "output_type": "stream",
     "text": [
      "4d8c Featurization Failed\n"
     ]
    },
    {
     "name": "stderr",
     "output_type": "stream",
     "text": [
      "Failed to featurize datapoint 0, CCC(C)C(NC(=O)C([NH3+])CO)C(=O)NC(C(=O)NC(CC(N)=O)C(=O)NC(Cc1ccccc1)C(=O)NC(CCC(=O)[O-])C(=O)NC(CCCC[NH3+])C(=O)NC(CC(C)C)C(=O)[O-])C(C)CC. Appending empty array\n",
      "Exception message: 'NoneType' object is not subscriptable\n"
     ]
    },
    {
     "name": "stdout",
     "output_type": "stream",
     "text": [
      "3p9l Featurization Failed\n"
     ]
    },
    {
     "name": "stderr",
     "output_type": "stream",
     "text": [
      "Failed to featurize datapoint 0, CC(O)(C(F)F)C(NC(=O)c1ccc(C#CC#Cc2ccc(N)cc2)cc1)C(=O)N=O. Appending empty array\n",
      "Exception message: 'NoneType' object is not subscriptable\n"
     ]
    },
    {
     "name": "stdout",
     "output_type": "stream",
     "text": [
      "5drr Featurization Failed\n"
     ]
    },
    {
     "name": "stderr",
     "output_type": "stream",
     "text": [
      "Failed to featurize datapoint 0, CC1[NH2+]C(CNC(=O)Cc2c[nH]c3ccccc23)C(O)C(O)C1O. Appending empty array\n",
      "Exception message: 'NoneType' object is not subscriptable\n"
     ]
    },
    {
     "name": "stdout",
     "output_type": "stream",
     "text": [
      "2zx6 Featurization Failed\n"
     ]
    },
    {
     "name": "stderr",
     "output_type": "stream",
     "text": [
      "Failed to featurize datapoint 0, CN(C)c1cccc2c(S(=O)(=O)NC(CCCNC(N)=[NH2+])C(=O)N3CCCCC3CCC(=O)c3nccs3)cccc12. Appending empty array\n",
      "Exception message: 'NoneType' object is not subscriptable\n"
     ]
    },
    {
     "name": "stdout",
     "output_type": "stream",
     "text": [
      "1a4w Featurization Failed\n"
     ]
    },
    {
     "name": "stderr",
     "output_type": "stream",
     "text": [
      "Failed to featurize datapoint 0, CC#CCn1c(N2CCCC([NH3+])C2)nc2c1c(=O)[nH+]c1n2CCCN1Cc1nc(C)c2ccccc2n1. Appending empty array\n",
      "Exception message: 'NoneType' object is not subscriptable\n"
     ]
    },
    {
     "name": "stdout",
     "output_type": "stream",
     "text": [
      "5t4e Featurization Failed\n"
     ]
    },
    {
     "name": "stderr",
     "output_type": "stream",
     "text": [
      "Failed to featurize datapoint 0, O=C([O-])c1cc(NC(=S)NCCOC2OC(CO)C(O)C(O)C2O)ccc1-c1c2ccc(=O)cc-2oc2cc(O)ccc12. Appending empty array\n",
      "Exception message: 'NoneType' object is not subscriptable\n"
     ]
    },
    {
     "name": "stdout",
     "output_type": "stream",
     "text": [
      "5ofi Featurization Failed\n"
     ]
    },
    {
     "name": "stderr",
     "output_type": "stream",
     "text": [
      "Failed to featurize datapoint 0, CC(C)CC(NC(=O)C1CCCN1C(=O)CNC(=O)C1CCC[NH2+]1)C(=O)N1CCCC1C(=O)NC(C)C(=O)[O-]. Appending empty array\n",
      "Exception message: 'NoneType' object is not subscriptable\n"
     ]
    },
    {
     "name": "stdout",
     "output_type": "stream",
     "text": [
      "4dgb Featurization Failed\n"
     ]
    },
    {
     "name": "stderr",
     "output_type": "stream",
     "text": [
      "Failed to featurize datapoint 0, Nc1ncccc1-c1nc2ccc(-c3ccccc3)nc2n1-c1ccc(C2([NH3+])CCC2)cc1. Appending empty array\n",
      "Exception message: 'NoneType' object is not subscriptable\n"
     ]
    },
    {
     "name": "stdout",
     "output_type": "stream",
     "text": [
      "5kcv Featurization Failed\n"
     ]
    },
    {
     "name": "stderr",
     "output_type": "stream",
     "text": [
      "Failed to featurize datapoint 0, Cc1cn(-c2nc(Nc3cc(C)c(OS(C)(=O)=O)c(C)c3)ncc2F)cc1C[NH+]1CCC(O)C1. Appending empty array\n",
      "Exception message: 'NoneType' object is not subscriptable\n"
     ]
    },
    {
     "name": "stdout",
     "output_type": "stream",
     "text": [
      "4xg3 Featurization Failed\n",
      "2xml Featurization Failed\n"
     ]
    },
    {
     "name": "stderr",
     "output_type": "stream",
     "text": [
      "Failed to featurize datapoint 0, CC(CC(=O)[O-])c1cccc(-n2c(C(N)=O)cc3ccc(OC(F)(F)F)cc32)c1. Appending empty array\n",
      "Exception message: 'NoneType' object is not subscriptable\n"
     ]
    },
    {
     "name": "stdout",
     "output_type": "stream",
     "text": [
      "6g5j Featurization Failed\n"
     ]
    },
    {
     "name": "stderr",
     "output_type": "stream",
     "text": [
      "Failed to featurize datapoint 0, CC(NC(=O)C(CO)NS(=O)(=O)CCc1ccccc1)C(=O)NC(CO)CCCNC(N)=[NH2+]. Appending empty array\n",
      "Exception message: 'NoneType' object is not subscriptable\n"
     ]
    },
    {
     "name": "stdout",
     "output_type": "stream",
     "text": [
      "1w14 Featurization Failed\n",
      "1c7e Featurization Failed\n",
      "4ynd Featurization Failed\n"
     ]
    },
    {
     "name": "stderr",
     "output_type": "stream",
     "text": [
      "Failed to featurize datapoint 0, CC(=O)NC(Cc1ccccc1)C(=O)N1CCCC1C(=O)NC(CCCCC[NH3+])B(O)O. Appending empty array\n",
      "Exception message: 'NoneType' object is not subscriptable\n"
     ]
    },
    {
     "name": "stdout",
     "output_type": "stream",
     "text": [
      "1lhf Featurization Failed\n"
     ]
    },
    {
     "name": "stderr",
     "output_type": "stream",
     "text": [
      "Failed to featurize datapoint 0, O=C([O-])C[NH+]1CCC2C1C(c1cccc(Cl)c1)C1(C(=O)Nc3cc(Cl)ccc31)[NH+]2CC1CC1. Appending empty array\n",
      "Exception message: 'NoneType' object is not subscriptable\n"
     ]
    },
    {
     "name": "stdout",
     "output_type": "stream",
     "text": [
      "5law Featurization Failed\n"
     ]
    },
    {
     "name": "stderr",
     "output_type": "stream",
     "text": [
      "Failed to featurize datapoint 0, CCC1CN(c2nc(-c3cc(OC)c(OC)c(OC)c3)cnc2N)CCC1C(=O)[O-]. Appending empty array\n",
      "Exception message: 'NoneType' object is not subscriptable\n"
     ]
    },
    {
     "name": "stdout",
     "output_type": "stream",
     "text": [
      "2xk7 Featurization Failed\n"
     ]
    },
    {
     "name": "stderr",
     "output_type": "stream",
     "text": [
      "Failed to featurize datapoint 0, CC(C)CC(NC(=O)C([NH3+])Cc1ccc(O)cc1)C(=O)NC(C(=O)NC(C(=O)NC(CO)C(=O)NC(C(=O)[O-])C(C)C)C(C)O)C(C)C. Appending empty array\n",
      "Exception message: 'NoneType' object is not subscriptable\n"
     ]
    },
    {
     "name": "stdout",
     "output_type": "stream",
     "text": [
      "3rl8 Featurization Failed\n"
     ]
    },
    {
     "name": "stderr",
     "output_type": "stream",
     "text": [
      "Failed to featurize datapoint 0, CC1(c2cc(C[NH2+]C3(C(F)(F)F)CC3)c(F)cc2F)CCSC(=[NH2+])N1. Appending empty array\n",
      "Exception message: 'NoneType' object is not subscriptable\n"
     ]
    },
    {
     "name": "stdout",
     "output_type": "stream",
     "text": [
      "5t1u Featurization Failed\n"
     ]
    },
    {
     "name": "stderr",
     "output_type": "stream",
     "text": [
      "Failed to featurize datapoint 0, Cc1[nH]nc2ccc(-c3cncc(OCC([NH3+])Cc4cccc(OCC5CCCCC5)c4)c3)cc12. Appending empty array\n",
      "Exception message: 'NoneType' object is not subscriptable\n"
     ]
    },
    {
     "name": "stdout",
     "output_type": "stream",
     "text": [
      "2uzv Featurization Failed\n"
     ]
    },
    {
     "name": "stderr",
     "output_type": "stream",
     "text": [
      "Failed to featurize datapoint 0, CCC(C)C1NC(=O)C2CCCN2C(=O)C(C)n2nncc2C(C(C)CC)NC(=O)C(CO)NC(=O)C(CCCC[NH3+])NC(=O)C(C(C)O)NC(=O)C(NC(=O)C([NH3+])CCCNC(N)=[NH2+])CSSCC(C(=O)NC(Cc2ccccc2)C(=O)[O-])NC1=O. Appending empty array\n",
      "Exception message: 'NoneType' object is not subscriptable\n"
     ]
    },
    {
     "name": "stdout",
     "output_type": "stream",
     "text": [
      "4abj Featurization Failed\n"
     ]
    },
    {
     "name": "stderr",
     "output_type": "stream",
     "text": [
      "Failed to featurize datapoint 0, CC(C)CC(NC(=O)C([NH3+])Cc1ccc(O)cc1)C(=O)NC(C(=O)NC(C(=O)NC(CO)C(=O)NC(C(=O)[O-])C(C)C)C(C)O)C(C)C. Appending empty array\n",
      "Exception message: 'NoneType' object is not subscriptable\n"
     ]
    },
    {
     "name": "stdout",
     "output_type": "stream",
     "text": [
      "1vj6 Featurization Failed\n"
     ]
    },
    {
     "name": "stderr",
     "output_type": "stream",
     "text": [
      "Failed to featurize datapoint 0, CCC(C)C(NC(=O)C(CC(C)C)NC(=O)C(Cc1c[nH]c2ccccc12)NC(=O)C(C)NC(=O)C1CCCN1C(=O)C(C)NC(=O)C(NC(=O)C(CC(N)=O)NC(=O)C(CC(=O)[O-])NC(=O)C(C)[NH3+])C(C)C)C(=O)NC(CO)C(=O)N1CCCC1C(=O)NC(Cc1c[nH]c2ccccc12)C(=O)NCC(=O)NC(Cc1ccccc1)C(=O)[O-]. Appending empty array\n",
      "Exception message: 'NoneType' object is not subscriptable\n"
     ]
    },
    {
     "name": "stdout",
     "output_type": "stream",
     "text": [
      "5v6y Featurization Failed\n"
     ]
    },
    {
     "name": "stderr",
     "output_type": "stream",
     "text": [
      "Failed to featurize datapoint 0, [NH3+]C1CCc2cccc(-c3ccccc3)c2CC1(O)O. Appending empty array\n",
      "Exception message: 'NoneType' object is not subscriptable\n"
     ]
    },
    {
     "name": "stdout",
     "output_type": "stream",
     "text": [
      "5mft Featurization Failed\n",
      "5cfa Featurization Failed\n"
     ]
    },
    {
     "name": "stderr",
     "output_type": "stream",
     "text": [
      "Failed to featurize datapoint 0, CC(C)CC(NC(=O)C(O)COS(=O)(=O)O)C(=O)NC1C(=O)NC(CCCNC(N)=[NH2+])C(=O)NC2CCC(O)N(C2=O)C(CC(C)C)C(=O)N(C)C(Cc2ccc(O)cc2)C(=O)NC(C(C)C)C(=O)OC1C. Appending empty array\n",
      "Exception message: 'NoneType' object is not subscriptable\n"
     ]
    },
    {
     "name": "stdout",
     "output_type": "stream",
     "text": [
      "1tps Featurization Failed\n"
     ]
    },
    {
     "name": "stderr",
     "output_type": "stream",
     "text": [
      "Failed to featurize datapoint 0, CC(C)CC(CC(C)C)NC(=O)C1C[NH2+]CC([NH+]2CC(=O)N(c3ccccc3Cl)CC2(C)C)C1. Appending empty array\n",
      "Exception message: 'NoneType' object is not subscriptable\n"
     ]
    },
    {
     "name": "stdout",
     "output_type": "stream",
     "text": [
      "3vyf Featurization Failed\n"
     ]
    },
    {
     "name": "stderr",
     "output_type": "stream",
     "text": [
      "Failed to featurize datapoint 0, Cc1ccc(C(=O)Nc2ccc3nc(C[NH+]4CCCCC4)[nH]c3c2)cc1I. Appending empty array\n",
      "Exception message: 'NoneType' object is not subscriptable\n"
     ]
    },
    {
     "name": "stdout",
     "output_type": "stream",
     "text": [
      "6hpw Featurization Failed\n",
      "4pv7 Featurization Failed\n"
     ]
    },
    {
     "name": "stderr",
     "output_type": "stream",
     "text": [
      "Failed to featurize datapoint 0, CC(COC(N)=O)(C(Nc1c(CO)cc2cc(C(N)=O)ccn12)C(=O)[O-])[SH+](=O)[O-]. Appending empty array\n",
      "Exception message: 'NoneType' object is not subscriptable\n"
     ]
    },
    {
     "name": "stdout",
     "output_type": "stream",
     "text": [
      "3mbz Featurization Failed\n"
     ]
    },
    {
     "name": "stderr",
     "output_type": "stream",
     "text": [
      "Failed to featurize datapoint 0, CC(=O)NCCCCC(NC(=O)C[NH3+])C(=O)NCC(=O)NCC(=O)NC(CCCCNC(C)=O)C(=O)NCC(=O)[O-]. Appending empty array\n",
      "Exception message: 'NoneType' object is not subscriptable\n"
     ]
    },
    {
     "name": "stdout",
     "output_type": "stream",
     "text": [
      "4yyi Featurization Failed\n"
     ]
    },
    {
     "name": "stderr",
     "output_type": "stream",
     "text": [
      "Failed to featurize datapoint 0, CCC(C)C(NC(=O)C(Cc1c[nH]c2ccccc12)NC(=O)C(Cc1c[nH]c2ccccc12)NC(=O)C(CC(C)C)NC(=O)C(CO)NC(=O)C(CC(=O)[O-])NC(=O)C(CC(C)C)NC(=O)C1CCCN1C(=O)C([NH3+])CO)C(=O)[O-]. Appending empty array\n",
      "Exception message: 'NoneType' object is not subscriptable\n"
     ]
    },
    {
     "name": "stdout",
     "output_type": "stream",
     "text": [
      "3tjh Featurization Failed\n"
     ]
    },
    {
     "name": "stderr",
     "output_type": "stream",
     "text": [
      "Failed to featurize datapoint 0, Cc1ccc(-c2ccc(CCC(=O)NC(CCC(=O)[O-])C(N)=O)cc2)s1. Appending empty array\n",
      "Exception message: 'NoneType' object is not subscriptable\n"
     ]
    },
    {
     "name": "stdout",
     "output_type": "stream",
     "text": [
      "3tt4 Featurization Failed\n"
     ]
    },
    {
     "name": "stderr",
     "output_type": "stream",
     "text": [
      "Failed to featurize datapoint 0, C#CCC(CC(O)C(CC1CCCCC1)NC(=O)C(CSC)NC(=O)c1nc2ccccc2[nH]1)C(O)[NH2+]CC[NH+]1CCOCC1. Appending empty array\n",
      "Exception message: 'NoneType' object is not subscriptable\n"
     ]
    },
    {
     "name": "stdout",
     "output_type": "stream",
     "text": [
      "1fq4 Featurization Failed\n"
     ]
    },
    {
     "name": "stderr",
     "output_type": "stream",
     "text": [
      "Failed to featurize datapoint 0, O=C([O-])C1=Nc2cc(Cl)ccc2C(=O)C1. Appending empty array\n",
      "Exception message: 'NoneType' object is not subscriptable\n"
     ]
    },
    {
     "name": "stdout",
     "output_type": "stream",
     "text": [
      "5cc2 Featurization Failed\n"
     ]
    },
    {
     "name": "stderr",
     "output_type": "stream",
     "text": [
      "Failed to featurize datapoint 0, C=C(CC(C)C)C(=O)C(CC(C)C)N(C)C(=O)C(CC(C)C)N(C)C(=O)C(C)NC(=O)C(C)NC(=O)C(CC(C)C)N(C)C(=O)C(NC(=O)C(CC(C)C)N(C)C(=O)CN(C)C(=O)C(CC)NC(=O)C(C(O)C(C)CC=CC)[NH+](C)OO)C(C)C. Appending empty array\n",
      "Exception message: 'NoneType' object is not subscriptable\n"
     ]
    },
    {
     "name": "stdout",
     "output_type": "stream",
     "text": [
      "1qnh Featurization Failed\n"
     ]
    },
    {
     "name": "stderr",
     "output_type": "stream",
     "text": [
      "Failed to featurize datapoint 0, CSCCC(NC(=O)C(CC(C)C)NC(=O)C(CCC(=O)[O-])NC(=O)C(CC(=O)[O-])NC(=O)C(CC(C)C)NC(=O)C(CCC(=O)[O-])NC(=O)C(CCCNC(N)=[NH2+])NC(=O)C([NH3+])C(C)O)C(=O)NC(C)C(=O)NC(CO)C(=O)NC(CC(C)C)C(=O)NC(CO)C(=O)[O-]. Appending empty array\n",
      "Exception message: 'PUGREST.BadRequest: error: '\n"
     ]
    },
    {
     "name": "stdout",
     "output_type": "stream",
     "text": [
      "1ow7 Featurization Failed\n"
     ]
    },
    {
     "name": "stderr",
     "output_type": "stream",
     "text": [
      "Failed to featurize datapoint 0, Cc1cccc2scc(Cn3c(SCCCC(=O)[O-])nc4ccccc43)c12. Appending empty array\n",
      "Exception message: 'NoneType' object is not subscriptable\n"
     ]
    },
    {
     "name": "stdout",
     "output_type": "stream",
     "text": [
      "4kp0 Featurization Failed\n"
     ]
    },
    {
     "name": "stderr",
     "output_type": "stream",
     "text": [
      "Failed to featurize datapoint 0, CC(C)C([NH3+])C(=O)NC(C(=O)[O-])C(C)O. Appending empty array\n",
      "Exception message: 'NoneType' object is not subscriptable\n"
     ]
    },
    {
     "name": "stdout",
     "output_type": "stream",
     "text": [
      "4qfp Featurization Failed\n"
     ]
    },
    {
     "name": "stderr",
     "output_type": "stream",
     "text": [
      "Failed to featurize datapoint 0, Cc1nc2ccc(CN(C)c3ccc(C(=O)NC(CCC(=O)[O-])C(=O)[O-])s3)cc2c(=O)[nH]1. Appending empty array\n",
      "Exception message: 'NoneType' object is not subscriptable\n"
     ]
    },
    {
     "name": "stdout",
     "output_type": "stream",
     "text": [
      "2tsr Featurization Failed\n",
      "5l2n Featurization Failed\n"
     ]
    },
    {
     "name": "stderr",
     "output_type": "stream",
     "text": [
      "Failed to featurize datapoint 0, NC(=O)CCC(NC(=O)C([NH3+])CCCC[NH3+])C(=O)NC(CCCC[NH3+])C(=O)[O-]. Appending empty array\n",
      "Exception message: 'NoneType' object is not subscriptable\n"
     ]
    },
    {
     "name": "stdout",
     "output_type": "stream",
     "text": [
      "1b5j Featurization Failed\n"
     ]
    },
    {
     "name": "stderr",
     "output_type": "stream",
     "text": [
      "Failed to featurize datapoint 0, C[NH2+]CCCCNC(=O)N1CCC(NS(=O)(=O)[O-])C1CO. Appending empty array\n",
      "Exception message: 'NoneType' object is not subscriptable\n"
     ]
    },
    {
     "name": "stdout",
     "output_type": "stream",
     "text": [
      "3s22 Featurization Failed\n",
      "4dum Featurization Failed\n"
     ]
    },
    {
     "name": "stderr",
     "output_type": "stream",
     "text": [
      "Failed to featurize datapoint 0, COC(=O)NC(CC(C)C)C(=O)NC(CO)CC1CCNC1=O. Appending empty array\n",
      "Exception message: 'NoneType' object is not subscriptable\n"
     ]
    },
    {
     "name": "stdout",
     "output_type": "stream",
     "text": [
      "3ur9 Featurization Failed\n"
     ]
    },
    {
     "name": "stderr",
     "output_type": "stream",
     "text": [
      "Failed to featurize datapoint 0, OC(CC1c2ccccc2Sc2ccccc21)C[NH+]1CCCC1. Appending empty array\n",
      "Exception message: 'NoneType' object is not subscriptable\n"
     ]
    },
    {
     "name": "stdout",
     "output_type": "stream",
     "text": [
      "4gj8 Featurization Failed\n"
     ]
    },
    {
     "name": "stderr",
     "output_type": "stream",
     "text": [
      "Failed to featurize datapoint 0, N=CC1(NC(=O)C2CCCCC2C(=O)N2CCc3[nH]c4ccc(F)cc4c3C2)CC1. Appending empty array\n",
      "Exception message: 'NoneType' object is not subscriptable\n"
     ]
    },
    {
     "name": "stdout",
     "output_type": "stream",
     "text": [
      "4dmy Featurization Failed\n",
      "4xnw Featurization Failed\n"
     ]
    },
    {
     "name": "stderr",
     "output_type": "stream",
     "text": [
      "Failed to featurize datapoint 0, C=CC1(F)CN(C2CCCC2)c2nc(Nc3ccc(C(=O)N[NH+]4CC[NH+](C)CC4)cc3OC)ncc2N(C)C1=O. Appending empty array\n",
      "Exception message: 'NoneType' object is not subscriptable\n"
     ]
    },
    {
     "name": "stdout",
     "output_type": "stream",
     "text": [
      "4j52 Featurization Failed\n",
      "5n70 Featurization Failed\n"
     ]
    },
    {
     "name": "stderr",
     "output_type": "stream",
     "text": [
      "Failed to featurize datapoint 0, CCC(=O)Oc1ccccc1Nc1nc(Nc2ccc(N3CC[NH+](C)CC3)cc2)ncc1Cl. Appending empty array\n",
      "Exception message: 'NoneType' object is not subscriptable\n"
     ]
    },
    {
     "name": "stdout",
     "output_type": "stream",
     "text": [
      "5jh6 Featurization Failed\n"
     ]
    },
    {
     "name": "stderr",
     "output_type": "stream",
     "text": [
      "Failed to featurize datapoint 0, CC(=O)NC1C([NH2+]OC(=O)Nc2ccccc2)OC(CO)C(O)C1O. Appending empty array\n",
      "Exception message: 'NoneType' object is not subscriptable\n"
     ]
    },
    {
     "name": "stdout",
     "output_type": "stream",
     "text": [
      "3suu Featurization Failed\n",
      "5ods Featurization Failed\n"
     ]
    },
    {
     "name": "stderr",
     "output_type": "stream",
     "text": [
      "Failed to featurize datapoint 0, Cc1cc(C=Cc2cccc(C=O)c2)cc(C)c1O. Appending empty array\n",
      "Exception message: 'NoneType' object is not subscriptable\n"
     ]
    },
    {
     "name": "stdout",
     "output_type": "stream",
     "text": [
      "3hj0 Featurization Failed\n"
     ]
    },
    {
     "name": "stderr",
     "output_type": "stream",
     "text": [
      "Failed to featurize datapoint 0, C[NH+](C)CCC[NH+](CCC([NH3+])C(=O)[O-])CC1OC(n2cnc3c(N)ncnc32)C(O)C1O. Appending empty array\n",
      "Exception message: 'NoneType' object is not subscriptable\n"
     ]
    },
    {
     "name": "stdout",
     "output_type": "stream",
     "text": [
      "5hi7 Featurization Failed\n",
      "5hex Featurization Failed\n"
     ]
    },
    {
     "name": "stderr",
     "output_type": "stream",
     "text": [
      "Failed to featurize datapoint 0, O=C(NC1CCCCC1)C(C1CCCCC1)n1c(-c2ccc(-n3cccn3)nc2)nc2cc(F)c(F)cc21. Appending empty array\n",
      "Exception message: 'NoneType' object is not subscriptable\n"
     ]
    },
    {
     "name": "stdout",
     "output_type": "stream",
     "text": [
      "5q0y Featurization Failed\n"
     ]
    },
    {
     "name": "stderr",
     "output_type": "stream",
     "text": [
      "Failed to featurize datapoint 0, CCC(C)C(NC(=O)C(CC(=O)[O-])NC(=O)C(Cc1c[nH]c2ccccc12)NC(=O)C(Cc1ccccc1)NC(=O)C(CCCC[NH3+])NC(=O)C(CC(C)C)NC(=O)C(NC(=O)C(Cc1ccccc1)NC(=O)C([NH3+])CC(N)=O)C(C)O)C(=O)NC(Cc1ccccc1)C(=O)O. Appending empty array\n",
      "Exception message: 'NoneType' object is not subscriptable\n"
     ]
    },
    {
     "name": "stdout",
     "output_type": "stream",
     "text": [
      "2pv3 Featurization Failed\n"
     ]
    },
    {
     "name": "stderr",
     "output_type": "stream",
     "text": [
      "Failed to featurize datapoint 0, CCC(C)C(NC(=O)C(CCC(=O)[O-])NC(=O)C(CCC(N)=O)NC(=O)C1CCCN1C(=O)C(CCC(=O)[O-])NC(=O)C(CCC(N)=O)NC(=O)C([NH3+])CCCC[NH3+])C(=O)NC(CC(=O)[O-])C(=O)NC(Cc1ccccc1)C(=O)[O-]. Appending empty array\n",
      "Exception message: 'NoneType' object is not subscriptable\n"
     ]
    },
    {
     "name": "stdout",
     "output_type": "stream",
     "text": [
      "1lb6 Featurization Failed\n"
     ]
    },
    {
     "name": "stderr",
     "output_type": "stream",
     "text": [
      "Failed to featurize datapoint 0, N=c1nc[nH]c2c1nc(SCC(=O)NCCc1cccc(Br)c1)n2C1OC(CO)C(O)C1O. Appending empty array\n",
      "Exception message: 'NoneType' object is not subscriptable\n"
     ]
    },
    {
     "name": "stdout",
     "output_type": "stream",
     "text": [
      "5dhq Featurization Failed\n"
     ]
    },
    {
     "name": "stderr",
     "output_type": "stream",
     "text": [
      "Failed to featurize datapoint 0, O=C([O-])C(=O)Nc1cc2[nH]ccc2cc1C(=O)[O-]. Appending empty array\n",
      "Exception message: 'NoneType' object is not subscriptable\n"
     ]
    },
    {
     "name": "stdout",
     "output_type": "stream",
     "text": [
      "1c83 Featurization Failed\n"
     ]
    },
    {
     "name": "stderr",
     "output_type": "stream",
     "text": [
      "Failed to featurize datapoint 0, CC(NC(=O)c1cc(F)cc(CN2C(=[NH2+])NC(C)(C(C)C)CC2=O)c1)c1ccccc1. Appending empty array\n",
      "Exception message: 'NoneType' object is not subscriptable\n"
     ]
    },
    {
     "name": "stdout",
     "output_type": "stream",
     "text": [
      "4s1g Featurization Failed\n"
     ]
    },
    {
     "name": "stderr",
     "output_type": "stream",
     "text": [
      "Failed to featurize datapoint 0, O=C([O-])C[NH+](CC(=O)[O-])C(Cc1ccc(NC(S)=NC(CO)(CO)CO)cc1)C[NH+](CC(=O)[O-])C1CCCCC1[NH+](CC(=O)[O-])CC(=O)[O-]. Appending empty array\n",
      "Exception message: 'NoneType' object is not subscriptable\n"
     ]
    },
    {
     "name": "stdout",
     "output_type": "stream",
     "text": [
      "3dsz Featurization Failed\n"
     ]
    },
    {
     "name": "stderr",
     "output_type": "stream",
     "text": [
      "Failed to featurize datapoint 0, CC(C)CC(NC(=O)C(Cc1ccccc1)NC(=O)C1CCCN1C(=O)C(CC(N)=O)NC(=O)C(NC(=O)C([NH3+])CO)C(C)O)C(=O)[O-]. Appending empty array\n",
      "Exception message: 'NoneType' object is not subscriptable\n"
     ]
    },
    {
     "name": "stdout",
     "output_type": "stream",
     "text": [
      "1ff1 Featurization Failed\n"
     ]
    },
    {
     "name": "stderr",
     "output_type": "stream",
     "text": [
      "Failed to featurize datapoint 0, CCC(C)C(NC(=O)C(NC(=O)C1CCCN1C(=O)CNC(=O)C([NH3+])CO)C(C)O)C(=O)NC(CCC(=O)[O-])C(=O)NC(CCC(=O)[O-])C(=O)NC(C(=O)NC(CC(=O)[O-])C(=O)[O-])C(C)C. Appending empty array\n",
      "Exception message: 'NoneType' object is not subscriptable\n"
     ]
    },
    {
     "name": "stdout",
     "output_type": "stream",
     "text": [
      "6fdt Featurization Failed\n"
     ]
    },
    {
     "name": "stderr",
     "output_type": "stream",
     "text": [
      "Failed to featurize datapoint 0, CC(C)CC(NC(=O)C(Cc1c[nH]cn1)NC(=O)C(CC(=O)[O-])NC(=O)C(CCCNC(N)=[NH2+])NC(=O)C(CO)NC(=O)C1CCCN1C(=O)C([NH3+])CCCNC(N)=[NH2+])C(=O)NC(Cc1ccc(O)cc1)C(=O)NC(CC(C)C)C(=O)N1CCCC1C(=O)NC(CC(C)C)C(=O)NC(CCC(=O)[O-])C(=O)[O-]. Appending empty array\n",
      "Exception message: 'PUGREST.BadRequest: error: '\n"
     ]
    },
    {
     "name": "stdout",
     "output_type": "stream",
     "text": [
      "2xs0 Featurization Failed\n",
      "5ual Featurization Failed\n"
     ]
    },
    {
     "name": "stderr",
     "output_type": "stream",
     "text": [
      "Failed to featurize datapoint 0, CCCCC(C[NH2+]C(CCCC)C(O)[NH2+]C(CCC(N)=O)C(=O)NC(CCCNC(N)=[NH2+])C(N)=O)NC(=O)C(NC(=O)C(NC(C)=O)C(C)O)C(C)CC. Appending empty array\n",
      "Exception message: 'NoneType' object is not subscriptable\n"
     ]
    },
    {
     "name": "stdout",
     "output_type": "stream",
     "text": [
      "3iaw Featurization Failed\n",
      "4y3b Featurization Failed\n"
     ]
    },
    {
     "name": "stderr",
     "output_type": "stream",
     "text": [
      "Failed to featurize datapoint 0, NS(=O)(=O)OC1CCN(S(=O)(=O)C2OC(CO)C(O)C(O)C2O)CC1. Appending empty array\n",
      "Exception message: 'NoneType' object is not subscriptable\n"
     ]
    },
    {
     "name": "stdout",
     "output_type": "stream",
     "text": [
      "4r59 Featurization Failed\n",
      "6b4h Featurization Failed\n"
     ]
    },
    {
     "name": "stderr",
     "output_type": "stream",
     "text": [
      "Failed to featurize datapoint 0, Cc1nc2ccc(Br)cc2c(-c2ccc(Cl)cc2)c1C(OC(C)(C)C)C(=O)[O-]. Appending empty array\n",
      "Exception message: 'NoneType' object is not subscriptable\n"
     ]
    },
    {
     "name": "stdout",
     "output_type": "stream",
     "text": [
      "4gw6 Featurization Failed\n"
     ]
    },
    {
     "name": "stderr",
     "output_type": "stream",
     "text": [
      "Failed to featurize datapoint 0, CC1CN(C(C)C(=O)[O-])C(=O)c2cccc(NS(=O)(=O)c3ccc(F)cc3)c2OC1CN(C)C(=O)Nc1ccc(C(F)(F)F)cc1. Appending empty array\n",
      "Exception message: 'NoneType' object is not subscriptable\n"
     ]
    },
    {
     "name": "stdout",
     "output_type": "stream",
     "text": [
      "4wgi Featurization Failed\n",
      "5ksx Featurization Failed\n"
     ]
    },
    {
     "name": "stderr",
     "output_type": "stream",
     "text": [
      "Failed to featurize datapoint 0, CC(=O)N1c2ccc(-c3ccc(C(=O)[O-])cc3)cc2C(Nc2ccc(Cl)cc2)CC1C. Appending empty array\n",
      "Exception message: 'NoneType' object is not subscriptable\n"
     ]
    },
    {
     "name": "stdout",
     "output_type": "stream",
     "text": [
      "4bjx Featurization Failed\n"
     ]
    },
    {
     "name": "stderr",
     "output_type": "stream",
     "text": [
      "Failed to featurize datapoint 0, CCOc1c(Br)cc(Br)cc1C[NH2+]CCCN=C1CC(=O)c2ccccc2N1. Appending empty array\n",
      "Exception message: 'NoneType' object is not subscriptable\n"
     ]
    },
    {
     "name": "stdout",
     "output_type": "stream",
     "text": [
      "4eg4 Featurization Failed\n"
     ]
    },
    {
     "name": "stderr",
     "output_type": "stream",
     "text": [
      "Failed to featurize datapoint 0, CC(C)CC(NC(=O)C([NH3+])CC(=O)[O-])C(=O)NC(Cc1ccc(O)cc1)C(=O)NC(CS)C(=O)NC(Cc1ccc(O)cc1)C(=O)NC(CCC(=O)[O-])C(=O)NC(CCC(N)=O)C(=O)NC(CC(C)C)C(=O)NC(CC(N)=O)C(=O)[O-]. Appending empty array\n",
      "Exception message: 'NoneType' object is not subscriptable\n"
     ]
    },
    {
     "name": "stdout",
     "output_type": "stream",
     "text": [
      "1gux Featurization Failed\n"
     ]
    },
    {
     "name": "stderr",
     "output_type": "stream",
     "text": [
      "Failed to featurize datapoint 0, CCC(=O)Nc1cccc(CNc2nc(Nc3ccc(N4CC[NH+](C)CC4)cc3OC)ncc2Cl)c1. Appending empty array\n",
      "Exception message: 'NoneType' object is not subscriptable\n"
     ]
    },
    {
     "name": "stdout",
     "output_type": "stream",
     "text": [
      "4z16 Featurization Failed\n"
     ]
    },
    {
     "name": "stderr",
     "output_type": "stream",
     "text": [
      "Failed to featurize datapoint 0, O=C([O-])CCC(NC(=O)NC(CCCCn1cc(COCCOCCOCCOCCOCCOCCOCCOCCNc2ccc([N+](=O)[O-])cc2[N+](=O)[O-])nn1)C(=O)[O-])C(=O)[O-]. Appending empty array\n",
      "Exception message: 'NoneType' object is not subscriptable\n"
     ]
    },
    {
     "name": "stdout",
     "output_type": "stream",
     "text": [
      "2xef Featurization Failed\n",
      "3cwe Featurization Failed\n",
      "5vqr Featurization Failed\n"
     ]
    },
    {
     "name": "stderr",
     "output_type": "stream",
     "text": [
      "Failed to featurize datapoint 0, CC(O)C(NC(=O)C(CC(N)=O)NC(=O)C(CCC(N)=O)NC(=O)C1CCCN1C(=O)C(Cc1c[nH]cn1)NC(=O)C(CO)NC(=O)C([NH3+])Cc1ccccc1)C(=O)[O-]. Appending empty array\n",
      "Exception message: 'NoneType' object is not subscriptable\n"
     ]
    },
    {
     "name": "stdout",
     "output_type": "stream",
     "text": [
      "1slg Featurization Failed\n"
     ]
    },
    {
     "name": "stderr",
     "output_type": "stream",
     "text": [
      "Failed to featurize datapoint 0, C=CC1CC1(NC(=O)C1CC(Oc2nc3cc(OC)ccc3nc2Cl)CN1C(=O)C(NC(=O)OC1CCCC1)C(C)(C)C)C(=O)NS(=O)(=O)C1(C)CC1. Appending empty array\n",
      "Exception message: 'NoneType' object is not subscriptable\n"
     ]
    },
    {
     "name": "stdout",
     "output_type": "stream",
     "text": [
      "6cvy Featurization Failed\n"
     ]
    },
    {
     "name": "stderr",
     "output_type": "stream",
     "text": [
      "Failed to featurize datapoint 0, N#Cc1cccnc1N1CCC2(c3ccc(F)cc3F)NC(=[NH2+])OC2C1. Appending empty array\n",
      "Exception message: 'NoneType' object is not subscriptable\n"
     ]
    },
    {
     "name": "stdout",
     "output_type": "stream",
     "text": [
      "4l7h Featurization Failed\n"
     ]
    },
    {
     "name": "stderr",
     "output_type": "stream",
     "text": [
      "Failed to featurize datapoint 0, NC(=[NH2+])NCCCC(CO)NC(=O)C(CCCC[NH3+])NC(=O)C(CCCC[NH3+])NC(=O)c1ccc2ccccc2c1. Appending empty array\n",
      "Exception message: 'NoneType' object is not subscriptable\n"
     ]
    },
    {
     "name": "stdout",
     "output_type": "stream",
     "text": [
      "3e90 Featurization Failed\n"
     ]
    },
    {
     "name": "stderr",
     "output_type": "stream",
     "text": [
      "Failed to featurize datapoint 0, [NH3+]C(Cc1ccc(O)cc1)C(=O)NC(C(=O)[O-])C1C(O)C2(O)COC(C2O)[NH+]1O. Appending empty array\n",
      "Exception message: 'NoneType' object is not subscriptable\n"
     ]
    },
    {
     "name": "stdout",
     "output_type": "stream",
     "text": [
      "1jii Featurization Failed\n"
     ]
    },
    {
     "name": "stderr",
     "output_type": "stream",
     "text": [
      "Failed to featurize datapoint 0, C[NH2+]CCCCC(NC(=O)C(CCCNC(N)=[NH2+])NC(=O)C(C)NC(=O)C(NC(=O)C(CCC(N)=O)NC(=O)C(CCCC[NH3+])NC(=O)C([NH3+])C(C)O)C(C)O)C(=O)NC(CO)C(=O)[O-]. Appending empty array\n",
      "Exception message: 'NoneType' object is not subscriptable\n"
     ]
    },
    {
     "name": "stdout",
     "output_type": "stream",
     "text": [
      "4iuu Featurization Failed\n"
     ]
    },
    {
     "name": "stderr",
     "output_type": "stream",
     "text": [
      "Failed to featurize datapoint 0, CC[NH+]1CCC(Nc2ccc3c(c2)C(=C(c2ccccc2)c2nc4cc(OC)ccc4[nH]2)C(=O)N3)CC1. Appending empty array\n",
      "Exception message: 'NoneType' object is not subscriptable\n"
     ]
    },
    {
     "name": "stdout",
     "output_type": "stream",
     "text": [
      "4aw5 Featurization Failed\n",
      "6g2n Featurization Failed\n"
     ]
    },
    {
     "name": "stderr",
     "output_type": "stream",
     "text": [
      "Failed to featurize datapoint 0, CC(NC(=O)C(Cc1c[nH]c2ccccc12)NC(=O)C(CC(N)=O)NC(=O)C(CC(N)=O)NC(=O)C1CCC[NH2+]1)C(=O)NC(CC(=O)[O-])C(=O)NC(Cc1ccccc1)C(=O)NC(CO)C(=O)NC(CO)C(=O)NC(C(=O)NC(Cc1c[nH]c2ccccc12)C(=O)N1CCCC1C(=O)[O-])C(C)O. Appending empty array\n",
      "Exception message: 'NoneType' object is not subscriptable\n"
     ]
    },
    {
     "name": "stdout",
     "output_type": "stream",
     "text": [
      "3hs8 Featurization Failed\n",
      "1w1g Featurization Failed\n"
     ]
    },
    {
     "name": "stderr",
     "output_type": "stream",
     "text": [
      "Failed to featurize datapoint 0, O=C([O-])C1(O)C=C(C=CCOc2ccccc2)C(O)C(O)C1. Appending empty array\n",
      "Exception message: 'NoneType' object is not subscriptable\n"
     ]
    },
    {
     "name": "stdout",
     "output_type": "stream",
     "text": [
      "3n76 Featurization Failed\n"
     ]
    },
    {
     "name": "stderr",
     "output_type": "stream",
     "text": [
      "Failed to featurize datapoint 0, O=C(c1ccc(F)nc1)N1CCCC1c1nc(Nc2cc(C3CC3)[nH]n2)c2cccn2n1. Appending empty array\n",
      "Exception message: 'NoneType' object is not subscriptable\n"
     ]
    },
    {
     "name": "stdout",
     "output_type": "stream",
     "text": [
      "3nw6 Featurization Failed\n"
     ]
    },
    {
     "name": "stderr",
     "output_type": "stream",
     "text": [
      "Failed to featurize datapoint 0, CC1CCC(O)C1NC(=O)C(Cc1ccccc1)CC(O)C[NH+]1CCN(C(=O)C=Cc2cccnc2)CC1C(=O)NC(C)(C)C. Appending empty array\n",
      "Exception message: 'NoneType' object is not subscriptable\n"
     ]
    },
    {
     "name": "stdout",
     "output_type": "stream",
     "text": [
      "2bpv Featurization Failed\n",
      "1zaj Featurization Failed\n",
      "1wvc Featurization Failed\n",
      "4iu4 Featurization Failed\n"
     ]
    },
    {
     "name": "stderr",
     "output_type": "stream",
     "text": [
      "Failed to featurize datapoint 0, COc1c(NC(=O)c2ccc(NC(=O)c3ccc(N4C(=N)CC(NC(=O)c5ccc(NC(=O)C(C)=Cc6ccc(O)cc6)cc5)C4=O)cc3)c(OC)c2O)ccc(C(=O)[O-])c1O. Appending empty array\n",
      "Exception message: 'NoneType' object is not subscriptable\n"
     ]
    },
    {
     "name": "stdout",
     "output_type": "stream",
     "text": [
      "6h96 Featurization Failed\n",
      "3abu Featurization Failed\n"
     ]
    },
    {
     "name": "stderr",
     "output_type": "stream",
     "text": [
      "Failed to featurize datapoint 0, Nc1ccc2c(c1)C(c1ccccc1)N(CCCCCc1cn(CCNc3c4ccccc4nc4ccccc34)nn1)c1cc(N)ccc1-2. Appending empty array\n",
      "Exception message: 'NoneType' object is not subscriptable\n"
     ]
    },
    {
     "name": "stdout",
     "output_type": "stream",
     "text": [
      "5ehq Featurization Failed\n"
     ]
    },
    {
     "name": "stderr",
     "output_type": "stream",
     "text": [
      "Failed to featurize datapoint 0, O=C(NCCOc1ccccc1)c1nc(C2CCCN2C(=O)CCc2ccccc2Cl)[nH]c(=O)c1O. Appending empty array\n",
      "Exception message: 'NoneType' object is not subscriptable\n"
     ]
    },
    {
     "name": "stdout",
     "output_type": "stream",
     "text": [
      "5wg9 Featurization Failed\n"
     ]
    },
    {
     "name": "stderr",
     "output_type": "stream",
     "text": [
      "Failed to featurize datapoint 0, Cn1c(=O)cc(OCc2cn(C3CC4C=CC(C3)[N+]4(C)C)nn2)c2ccccc21. Appending empty array\n",
      "Exception message: 'NoneType' object is not subscriptable\n"
     ]
    },
    {
     "name": "stdout",
     "output_type": "stream",
     "text": [
      "4dbm Featurization Failed\n"
     ]
    },
    {
     "name": "stderr",
     "output_type": "stream",
     "text": [
      "Failed to featurize datapoint 0, O=C([O-])C(=O)Nc1sc2c(c1C(=O)[O-])CCOC2COC1=NS(=O)(=O)c2ccccc21. Appending empty array\n",
      "Exception message: 'NoneType' object is not subscriptable\n"
     ]
    },
    {
     "name": "stdout",
     "output_type": "stream",
     "text": [
      "1l8g Featurization Failed\n"
     ]
    },
    {
     "name": "stderr",
     "output_type": "stream",
     "text": [
      "Failed to featurize datapoint 0, CC(C)(C)OC(=O)NC(CC[NH2+]C(Cc1ccccc1)C(=O)NC(CCC(=O)[O-])C(=O)NC(Cc1ccccc1)C(N)=O)Cc1ccccc1. Appending empty array\n",
      "Exception message: 'NoneType' object is not subscriptable\n"
     ]
    },
    {
     "name": "stdout",
     "output_type": "stream",
     "text": [
      "1lzq Featurization Failed\n"
     ]
    },
    {
     "name": "stderr",
     "output_type": "stream",
     "text": [
      "Failed to featurize datapoint 0, CSCCC([NH3+])C(=O)NC(CO)C(=O)NC(CC(C)C)C(=O)N1CCCC1C(=O)NCC(=O)NC(CCCNC(N)=[NH2+])C(=O)NC(Cc1c[nH]c2ccccc12)C(=O)NC(CCCC[NH3+])C(=O)N1CCCC1C(=O)NC(C)C(=O)[O-]. Appending empty array\n",
      "Exception message: 'NoneType' object is not subscriptable\n"
     ]
    },
    {
     "name": "stdout",
     "output_type": "stream",
     "text": [
      "2hrp Featurization Failed\n"
     ]
    },
    {
     "name": "stderr",
     "output_type": "stream",
     "text": [
      "Failed to featurize datapoint 0, Cc1ncccc1-c1c(Cl)sc2ccc(NC(=O)NCC(=O)NCCC[NH+](C)C3CCCN(c4ncnc5[nH]ccc45)C3)cc12. Appending empty array\n",
      "Exception message: 'NoneType' object is not subscriptable\n"
     ]
    },
    {
     "name": "stdout",
     "output_type": "stream",
     "text": [
      "5mw4 Featurization Failed\n"
     ]
    },
    {
     "name": "stderr",
     "output_type": "stream",
     "text": [
      "Failed to featurize datapoint 0, Cc1cnc(Nc2ccc(N3CC[NH+](C)CC3)cc2)nc1Nc1ccc(Cl)c(NS(=O)(=O)C(C)(C)C)c1. Appending empty array\n",
      "Exception message: 'NoneType' object is not subscriptable\n"
     ]
    },
    {
     "name": "stdout",
     "output_type": "stream",
     "text": [
      "5f60 Featurization Failed\n"
     ]
    },
    {
     "name": "stderr",
     "output_type": "stream",
     "text": [
      "Failed to featurize datapoint 0, CC(C)CC(NC(=O)C(CCc1ccccc1)NC(=O)C[NH+]1CCOCC1)C(=O)NC(Cc1ccccc1)C(=O)NC(CC(C)C)C(O)C(C)CO. Appending empty array\n",
      "Exception message: 'NoneType' object is not subscriptable\n"
     ]
    },
    {
     "name": "stdout",
     "output_type": "stream",
     "text": [
      "4qw4 Featurization Failed\n"
     ]
    },
    {
     "name": "stderr",
     "output_type": "stream",
     "text": [
      "Failed to featurize datapoint 0, CC(C)S(=O)(=O)N1CCC2(CC1)CC(NC(=O)NCc1ccc(OC(F)(F)F)cc1)CCO2. Appending empty array\n",
      "Exception message: 'NoneType' object is not subscriptable\n"
     ]
    },
    {
     "name": "stdout",
     "output_type": "stream",
     "text": [
      "6fr2 Featurization Failed\n"
     ]
    },
    {
     "name": "stderr",
     "output_type": "stream",
     "text": [
      "Failed to featurize datapoint 0, CSCCC(NC(=O)C(NC(=O)CC(O)C(CC(C)C)NC(=O)C(NC(=O)C(CCC(N)=O)NC(=O)C1CCCN1C(=O)C(C)NC(C)=O)C(C)C)C(C)C)C(=O)NC(Cc1c[nH]cn1)C(=O)N1CCCC1C(=O)[O-]. Appending empty array\n",
      "Exception message: 'NoneType' object is not subscriptable\n"
     ]
    },
    {
     "name": "stdout",
     "output_type": "stream",
     "text": [
      "2b7f Featurization Failed\n",
      "3wk8 Featurization Failed\n"
     ]
    },
    {
     "name": "stderr",
     "output_type": "stream",
     "text": [
      "Failed to featurize datapoint 0, CC([NH3+])C(=O)NC(CCCNC(N)=[NH2+])C(=O)NC(C(=O)NC(CCCC[N+](C)(C)C)C(=O)NC(CCC(N)=O)C(=O)NC(C(=O)[O-])C(C)O)C(C)O. Appending empty array\n",
      "Exception message: 'NoneType' object is not subscriptable\n"
     ]
    },
    {
     "name": "stdout",
     "output_type": "stream",
     "text": [
      "3lqj Featurization Failed\n"
     ]
    },
    {
     "name": "stderr",
     "output_type": "stream",
     "text": [
      "Failed to featurize datapoint 0, CCC(=O)N1CCCC(n2nc(-c3cn(C)c4ccccc34)c3c(N)ncnc32)C1. Appending empty array\n",
      "Exception message: 'NoneType' object is not subscriptable\n"
     ]
    },
    {
     "name": "stdout",
     "output_type": "stream",
     "text": [
      "5j9z Featurization Failed\n"
     ]
    },
    {
     "name": "stderr",
     "output_type": "stream",
     "text": [
      "Failed to featurize datapoint 0, CCCN(C)c1nc(NC2CC[NH+](C)CC2)c2cc(OC)c(OC)cc2n1. Appending empty array\n",
      "Exception message: 'NoneType' object is not subscriptable\n"
     ]
    },
    {
     "name": "stdout",
     "output_type": "stream",
     "text": [
      "5vsc Featurization Failed\n",
      "1dub Featurization Failed\n"
     ]
    },
    {
     "name": "stderr",
     "output_type": "stream",
     "text": [
      "Failed to featurize datapoint 0, CN(Cc1cnc2[nH]c(=[NH2+])[nH]c(=[NH2+])c2n1)c1ccc(C(=O)NC(CCC(=O)[O-])C(=O)[O-])cc1. Appending empty array\n",
      "Exception message: 'NoneType' object is not subscriptable\n"
     ]
    },
    {
     "name": "stdout",
     "output_type": "stream",
     "text": [
      "1ao8 Featurization Failed\n"
     ]
    },
    {
     "name": "stderr",
     "output_type": "stream",
     "text": [
      "Failed to featurize datapoint 0, CCC(C)C(CO)C(O)C(=O)NC1CC1CC(CCc1ccccc1)NC(=O)C(C)NC(=O)OCc1ccccc1. Appending empty array\n",
      "Exception message: 'NoneType' object is not subscriptable\n"
     ]
    },
    {
     "name": "stdout",
     "output_type": "stream",
     "text": [
      "4j70 Featurization Failed\n",
      "4lkl Featurization Failed\n",
      "5cuq Featurization Failed\n"
     ]
    },
    {
     "name": "stderr",
     "output_type": "stream",
     "text": [
      "Failed to featurize datapoint 0, O=S(=O)([O-])OC1CC(O)C(O)C(O)C1CO. Appending empty array\n",
      "Exception message: 'NoneType' object is not subscriptable\n"
     ]
    },
    {
     "name": "stdout",
     "output_type": "stream",
     "text": [
      "5npb Featurization Failed\n",
      "5hfu Featurization Failed\n"
     ]
    },
    {
     "name": "stderr",
     "output_type": "stream",
     "text": [
      "Failed to featurize datapoint 0, CC(=O)C1=C(C)N(c2cccc(C(F)(F)F)c2)C(=O)N(CC(=O)[O-])C1c1ccc(C#N)cc1. Appending empty array\n",
      "Exception message: 'NoneType' object is not subscriptable\n"
     ]
    },
    {
     "name": "stdout",
     "output_type": "stream",
     "text": [
      "5a09 Featurization Failed\n"
     ]
    },
    {
     "name": "stderr",
     "output_type": "stream",
     "text": [
      "Failed to featurize datapoint 0, O=C([O-])CNC(=O)c1ccc(NC(=O)c2cc(Br)c(Br)[nH]2)cc1. Appending empty array\n",
      "Exception message: 'NoneType' object is not subscriptable\n"
     ]
    },
    {
     "name": "stdout",
     "output_type": "stream",
     "text": [
      "4zvi Featurization Failed\n"
     ]
    },
    {
     "name": "stderr",
     "output_type": "stream",
     "text": [
      "Failed to featurize datapoint 0, OCC1OC(OC2C(O)C(CO)OC(OC3C(O)C(CO)OC(n4cc(CCCN5C=CCc6ccccc65)nn4)C3O)C2O)C(O)C(O)C1O. Appending empty array\n",
      "Exception message: 'NoneType' object is not subscriptable\n"
     ]
    },
    {
     "name": "stdout",
     "output_type": "stream",
     "text": [
      "5oa6 Featurization Failed\n"
     ]
    },
    {
     "name": "stderr",
     "output_type": "stream",
     "text": [
      "Failed to featurize datapoint 0, O=c1[nH]c(=O)n(C2OC(CO)C(O)C(O)C2O)cc1I. Appending empty array\n",
      "Exception message: 'NoneType' object is not subscriptable\n"
     ]
    },
    {
     "name": "stdout",
     "output_type": "stream",
     "text": [
      "3t3h Featurization Failed\n"
     ]
    },
    {
     "name": "stderr",
     "output_type": "stream",
     "text": [
      "Failed to featurize datapoint 0, CCCCOC(=O)CN1C(=O)C(O)c2ccccc21. Appending empty array\n",
      "Exception message: 'NoneType' object is not subscriptable\n"
     ]
    },
    {
     "name": "stdout",
     "output_type": "stream",
     "text": [
      "6afj Featurization Failed\n",
      "4p4i Featurization Failed\n",
      "5apj Featurization Failed\n"
     ]
    },
    {
     "name": "stderr",
     "output_type": "stream",
     "text": [
      "Failed to featurize datapoint 0, C=CC(=O)OC1CCC(C)(O)C(C2(C)OC2CC=C(C)C)C1OC. Appending empty array\n",
      "Exception message: 'NoneType' object is not subscriptable\n"
     ]
    },
    {
     "name": "stdout",
     "output_type": "stream",
     "text": [
      "3fmq Featurization Failed\n",
      "4jit Featurization Failed\n"
     ]
    },
    {
     "name": "stderr",
     "output_type": "stream",
     "text": [
      "Failed to featurize datapoint 0, CCC(C)C(NC(=O)C(CCC(=O)[O-])NC(=O)C(C)NC(=O)C(CC(C)C)NC(=O)C(C)NC(=O)C(NC(=O)C(NC(=O)CNC(=O)C1C=CCN1C(=O)C(CCCNC(N)=[NH2+])NC(=O)C(Cc1ccc(O)cc1)NC(=O)C(CCCNC(N)=[NH2+])NC(=O)C(Cc1c[nH]cn1)NC(=O)C1CCCN1C(C)=O)C(C)O)C(C)C)C(=O)NC(CCCNC(N)=[NH2+])C(N)=O. Appending empty array\n",
      "Exception message: 'NoneType' object is not subscriptable\n"
     ]
    },
    {
     "name": "stdout",
     "output_type": "stream",
     "text": [
      "5t1i Featurization Failed\n"
     ]
    },
    {
     "name": "stderr",
     "output_type": "stream",
     "text": [
      "Failed to featurize datapoint 0, CC([NH2+]C(CCc1ccccc1)C(=O)NC(CCCNC(N)=[NH2+])C(=O)Nc1ccccc1)C(=O)[O-]. Appending empty array\n",
      "Exception message: 'NoneType' object is not subscriptable\n"
     ]
    },
    {
     "name": "stdout",
     "output_type": "stream",
     "text": [
      "2srt Featurization Failed\n"
     ]
    },
    {
     "name": "stderr",
     "output_type": "stream",
     "text": [
      "Failed to featurize datapoint 0, CCC(C)C(NC(=O)C(CCC(=O)[O-])NC(=O)C(CCC(N)=O)NC(=O)C(Cc1c[nH]c2ccccc12)NC(=O)C(NC(=O)C(CCCC[NH3+])NC(=O)C(C)NC(=O)C(CC(N)=O)NC(=O)C1CCCN1C(=O)C(CC(N)=O)NC(=O)C([NH3+])CC(C)C)C(C)C)C(=O)[O-]. Appending empty array\n",
      "Exception message: 'NoneType' object is not subscriptable\n"
     ]
    },
    {
     "name": "stdout",
     "output_type": "stream",
     "text": [
      "3pkn Featurization Failed\n"
     ]
    },
    {
     "name": "stderr",
     "output_type": "stream",
     "text": [
      "Failed to featurize datapoint 0, CC[B+]O. Appending empty array\n",
      "Exception message: 'PUGREST.BadRequest: error: '\n"
     ]
    },
    {
     "name": "stdout",
     "output_type": "stream",
     "text": [
      "4wks Featurization Failed\n",
      "4u7o Featurization Failed\n"
     ]
    },
    {
     "name": "stderr",
     "output_type": "stream",
     "text": [
      "Failed to featurize datapoint 0, COc1cc2c(cc1OC)CC(NC(=O)c1nc(C3CCCN3C(=O)CSc3ccccc3Cl)[nH]c(=O)c1O)C2. Appending empty array\n",
      "Exception message: 'NoneType' object is not subscriptable\n"
     ]
    },
    {
     "name": "stdout",
     "output_type": "stream",
     "text": [
      "5wfw Featurization Failed\n"
     ]
    },
    {
     "name": "stderr",
     "output_type": "stream",
     "text": [
      "Failed to featurize datapoint 0, CC(C)CC([NH2+]CC(Cc1ccccc1)NC(=O)C(CC(N)=O)NC(=O)CNC(=O)C1CCCN1C(=O)C([NH3+])CCCNC(N)=[NH2+])C(=O)NC(CCC(N)=O)C(=O)NC(CO)C(=O)NC(CCCNC(N)=[NH2+])C(=O)N1CCCC1C(N)=O. Appending empty array\n",
      "Exception message: 'NoneType' object is not subscriptable\n"
     ]
    },
    {
     "name": "stdout",
     "output_type": "stream",
     "text": [
      "2aoi Featurization Failed\n"
     ]
    },
    {
     "name": "stderr",
     "output_type": "stream",
     "text": [
      "Failed to featurize datapoint 0, CCC(C)C(NC(=O)C(CCCC[NH3+])NC(=O)C(CC(C)C)NC(=O)C1CCCN1C(=O)C(CC(N)=O)NC(=O)C(CCC(N)=O)NC(=O)C(CO)NC(=O)C(CCCNC(N)=[NH2+])NC(=O)C(CCC(N)=O)NC(=O)C(NC(=O)C(CCCNC(N)=[NH2+])NC(=O)C(Cc1c[nH]c2ccccc12)NC(=O)C([NH3+])C(C)O)C(C)C)C(=O)NC(CCCNC(N)=[NH2+])C(=O)NC(CC(C)C)C(=O)NC(C(=O)NC(CCCNC(N)=[NH2+])C(=O)[O-])C(C)O. Appending empty array\n",
      "Exception message: 'NoneType' object is not subscriptable\n"
     ]
    },
    {
     "name": "stdout",
     "output_type": "stream",
     "text": [
      "2n3k Featurization Failed\n"
     ]
    },
    {
     "name": "stderr",
     "output_type": "stream",
     "text": [
      "Failed to featurize datapoint 0, N#CNC(Nc1ccncc1)=[NH+]Cc1ccc(S(=O)(=O)c2cccc(OC(F)(F)F)c2)cc1. Appending empty array\n",
      "Exception message: 'NoneType' object is not subscriptable\n"
     ]
    },
    {
     "name": "stdout",
     "output_type": "stream",
     "text": [
      "4lts Featurization Failed\n"
     ]
    },
    {
     "name": "stderr",
     "output_type": "stream",
     "text": [
      "Failed to featurize datapoint 0, CS(=O)(=O)CCCn1c(Cn2c3c(n(C4CC4)c2=O)CC[NH2+]C3)nc2c1CC=C(Br)C2. Appending empty array\n",
      "Exception message: 'NoneType' object is not subscriptable\n"
     ]
    },
    {
     "name": "stdout",
     "output_type": "stream",
     "text": [
      "5ea4 Featurization Failed\n",
      "3u0p Featurization Failed\n"
     ]
    },
    {
     "name": "stderr",
     "output_type": "stream",
     "text": [
      "Failed to featurize datapoint 0, CC1CCC[NH+]1Cc1nc2ccc(NC(=O)c3ccc4c(cnn4C)c3)cc2[nH]1. Appending empty array\n",
      "Exception message: 'NoneType' object is not subscriptable\n"
     ]
    },
    {
     "name": "stdout",
     "output_type": "stream",
     "text": [
      "6ht1 Featurization Failed\n"
     ]
    },
    {
     "name": "stderr",
     "output_type": "stream",
     "text": [
      "Failed to featurize datapoint 0, CN1C(=[NH2+])NC(C)(c2cc(-c3cccc(C#N)c3)cs2)CC1=O. Appending empty array\n",
      "Exception message: 'NoneType' object is not subscriptable\n"
     ]
    },
    {
     "name": "stdout",
     "output_type": "stream",
     "text": [
      "4ha5 Featurization Failed\n"
     ]
    },
    {
     "name": "stderr",
     "output_type": "stream",
     "text": [
      "Failed to featurize datapoint 0, c1ccc(C2CC[NH2+]C3(CCN(c4ncnc5nc[nH]c45)CC3)C2)cc1. Appending empty array\n",
      "Exception message: 'NoneType' object is not subscriptable\n"
     ]
    },
    {
     "name": "stdout",
     "output_type": "stream",
     "text": [
      "3zo4 Featurization Failed\n"
     ]
    },
    {
     "name": "stderr",
     "output_type": "stream",
     "text": [
      "Failed to featurize datapoint 0, O=C(NC1C[NH2+]CCCC1OC(=O)c1cc(O)c(C(=O)c2c(O)cccc2C(=O)[O-])c(O)c1)c1ccc(O)cc1. Appending empty array\n",
      "Exception message: 'NoneType' object is not subscriptable\n"
     ]
    },
    {
     "name": "stdout",
     "output_type": "stream",
     "text": [
      "3krw Featurization Failed\n"
     ]
    },
    {
     "name": "stderr",
     "output_type": "stream",
     "text": [
      "Failed to featurize datapoint 0, C[NH+]1CCN(c2ccc(Nc3nccc(-c4cc5c([nH]4)CCNC5=O)n3)cc2)CC1. Appending empty array\n",
      "Exception message: 'NoneType' object is not subscriptable\n"
     ]
    },
    {
     "name": "stdout",
     "output_type": "stream",
     "text": [
      "5ngu Featurization Failed\n",
      "6c7j Featurization Failed\n",
      "6cck Featurization Failed\n"
     ]
    },
    {
     "name": "stderr",
     "output_type": "stream",
     "text": [
      "Failed to featurize datapoint 0, O=C1C2=C(C[NH2+]CC2)C2(c3ccc(Cl)cc3)N1CCN2C(=O)c1cccnc1. Appending empty array\n",
      "Exception message: 'NoneType' object is not subscriptable\n"
     ]
    },
    {
     "name": "stdout",
     "output_type": "stream",
     "text": [
      "5ea6 Featurization Failed\n"
     ]
    },
    {
     "name": "stderr",
     "output_type": "stream",
     "text": [
      "Failed to featurize datapoint 0, CCCC1N(C(=O)c2cnccc2C(F)(F)F)CCCC1(Oc1csc(C(F)(F)F)c1)C(=O)N1CCN(c2ccccc2OCCCC(=O)[O-])CC1. Appending empty array\n",
      "Exception message: 'NoneType' object is not subscriptable\n"
     ]
    },
    {
     "name": "stdout",
     "output_type": "stream",
     "text": [
      "5hmh Featurization Failed\n"
     ]
    },
    {
     "name": "stderr",
     "output_type": "stream",
     "text": [
      "Failed to featurize datapoint 0, O=C1NCc2cc(OCC3C[NH2+]CCC3c3ccc(F)cc3)ccc21. Appending empty array\n",
      "Exception message: 'NoneType' object is not subscriptable\n"
     ]
    },
    {
     "name": "stdout",
     "output_type": "stream",
     "text": [
      "4mk0 Featurization Failed\n",
      "1njb Featurization Failed\n"
     ]
    },
    {
     "name": "stderr",
     "output_type": "stream",
     "text": [
      "Failed to featurize datapoint 0, Cc1ncn(-c2nc3c(C(=O)NC(c4ccc(OC(F)(F)F)cc4)C(C)(C)O)cnn3cc2C)n1. Appending empty array\n",
      "Exception message: 'NoneType' object is not subscriptable\n"
     ]
    },
    {
     "name": "stdout",
     "output_type": "stream",
     "text": [
      "5vp1 Featurization Failed\n"
     ]
    },
    {
     "name": "stderr",
     "output_type": "stream",
     "text": [
      "Failed to featurize datapoint 0, NC(=[NH2+])NCCCNC(=O)C1CSC2CCC(NS(=O)(=O)Cc3ccccc3)C(=O)N21. Appending empty array\n",
      "Exception message: 'NoneType' object is not subscriptable\n"
     ]
    },
    {
     "name": "stdout",
     "output_type": "stream",
     "text": [
      "1bhx Featurization Failed\n"
     ]
    },
    {
     "name": "stderr",
     "output_type": "stream",
     "text": [
      "Failed to featurize datapoint 0, CC(=O)CCC(CC1CCNC1=O)NC(=O)C(CC(C)C)NC(=O)C(CNC(=O)C(C)(C)C)NC(=O)OCc1ccccc1. Appending empty array\n",
      "Exception message: 'NoneType' object is not subscriptable\n"
     ]
    },
    {
     "name": "stdout",
     "output_type": "stream",
     "text": [
      "2zu3 Featurization Failed\n"
     ]
    },
    {
     "name": "stderr",
     "output_type": "stream",
     "text": [
      "Failed to featurize datapoint 0, CNC(=O)C(CCCNC(N)=[NH2+])NC(=O)C(CCCC[NH3+])NC(=O)C1CCCN1C(=O)C([NH3+])CO. Appending empty array\n",
      "Exception message: 'NoneType' object is not subscriptable\n"
     ]
    },
    {
     "name": "stdout",
     "output_type": "stream",
     "text": [
      "6dub Featurization Failed\n"
     ]
    },
    {
     "name": "stderr",
     "output_type": "stream",
     "text": [
      "Failed to featurize datapoint 0, Cc1nc2c(N)ncnc2n1C1OC(C[NH+](C)C)C(O)C1O. Appending empty array\n",
      "Exception message: 'NoneType' object is not subscriptable\n"
     ]
    },
    {
     "name": "stdout",
     "output_type": "stream",
     "text": [
      "3h0w Featurization Failed\n"
     ]
    },
    {
     "name": "stderr",
     "output_type": "stream",
     "text": [
      "Failed to featurize datapoint 0, CC(=O)NC1C(OC2CC(C(=O)NCCS(=O)(=O)[O-])[NH2+]C2CO)OC(CO)C(OS(=O)(=O)[O-])C1O. Appending empty array\n",
      "Exception message: 'NoneType' object is not subscriptable\n"
     ]
    },
    {
     "name": "stdout",
     "output_type": "stream",
     "text": [
      "6cfc Featurization Failed\n",
      "4nah Featurization Failed\n"
     ]
    },
    {
     "name": "stderr",
     "output_type": "stream",
     "text": [
      "Failed to featurize datapoint 0, NS(=O)(=O)c1ccc(C(=O)N2CC[NH+](Cc3ccc(F)cc3)CC2)cc1. Appending empty array\n",
      "Exception message: 'NoneType' object is not subscriptable\n"
     ]
    },
    {
     "name": "stdout",
     "output_type": "stream",
     "text": [
      "6h38 Featurization Failed\n"
     ]
    },
    {
     "name": "stderr",
     "output_type": "stream",
     "text": [
      "Failed to featurize datapoint 0, Cn1cc(-c2cnc3c(-c4csc(C(=O)NC5CCCCC5[NH3+])c4)cnn3c2)cn1. Appending empty array\n",
      "Exception message: 'NoneType' object is not subscriptable\n"
     ]
    },
    {
     "name": "stdout",
     "output_type": "stream",
     "text": [
      "5eak Featurization Failed\n",
      "4r02 Featurization Failed\n"
     ]
    },
    {
     "name": "stderr",
     "output_type": "stream",
     "text": [
      "Failed to featurize datapoint 0, C#CC[NH+]1CCCC(CN(CCOC)C(=O)c2ccc3ccccc3c2)C1. Appending empty array\n",
      "Exception message: 'NoneType' object is not subscriptable\n"
     ]
    },
    {
     "name": "stdout",
     "output_type": "stream",
     "text": [
      "5lkr Featurization Failed\n"
     ]
    },
    {
     "name": "stderr",
     "output_type": "stream",
     "text": [
      "Failed to featurize datapoint 0, O=CN1CC([NH2+]OS(=O)(=O)[O-])CCC1C(=O)NNC(=O)C1CCC[NH2+]C1. Appending empty array\n",
      "Exception message: 'NoneType' object is not subscriptable\n"
     ]
    },
    {
     "name": "stdout",
     "output_type": "stream",
     "text": [
      "6b1j Featurization Failed\n"
     ]
    },
    {
     "name": "stderr",
     "output_type": "stream",
     "text": [
      "Failed to featurize datapoint 0, CCN(C(=O)CO)C1CN(C(Nc2cccc(OC(F)F)c2)=[NH+]C#N)N=C1c1ccc(Cl)c(Cl)c1. Appending empty array\n",
      "Exception message: 'NoneType' object is not subscriptable\n"
     ]
    },
    {
     "name": "stdout",
     "output_type": "stream",
     "text": [
      "5arg Featurization Failed\n"
     ]
    },
    {
     "name": "stderr",
     "output_type": "stream",
     "text": [
      "Failed to featurize datapoint 0, Cc1nc2c(N)ncnc2n1C1OC(C[NH+](C)CCC[NH3+])C(O)C1O. Appending empty array\n",
      "Exception message: 'NoneType' object is not subscriptable\n"
     ]
    },
    {
     "name": "stdout",
     "output_type": "stream",
     "text": [
      "3dz2 Featurization Failed\n"
     ]
    },
    {
     "name": "stderr",
     "output_type": "stream",
     "text": [
      "Failed to featurize datapoint 0, CSCCC(NC(=O)C(C)[NH3+])C(=O)NC(CCCNC(N)=[NH2+])C(=O)NC(C(=O)[O-])C(C)C. Appending empty array\n",
      "Exception message: 'NoneType' object is not subscriptable\n"
     ]
    },
    {
     "name": "stdout",
     "output_type": "stream",
     "text": [
      "4j48 Featurization Failed\n"
     ]
    },
    {
     "name": "stderr",
     "output_type": "stream",
     "text": [
      "Failed to featurize datapoint 0, CC(C)CC(NC(=O)C(CC(N)=O)NC(=O)C([NH3+])CCCNC(N)=[NH2+])C(=O)NC(Cc1ccccc1)C(=O)NCC(=O)N1CCCC1C(=O)[O-]. Appending empty array\n",
      "Exception message: 'NoneType' object is not subscriptable\n"
     ]
    },
    {
     "name": "stdout",
     "output_type": "stream",
     "text": [
      "1h27 Featurization Failed\n"
     ]
    },
    {
     "name": "stderr",
     "output_type": "stream",
     "text": [
      "Failed to featurize datapoint 0, CC(=O)NCCSSCCNC(=O)C1CCC(NC(=O)c2nccnc2C(=O)[O-])CC1. Appending empty array\n",
      "Exception message: 'NoneType' object is not subscriptable\n"
     ]
    },
    {
     "name": "stdout",
     "output_type": "stream",
     "text": [
      "1nwl Featurization Failed\n",
      "5jur Featurization Failed\n"
     ]
    },
    {
     "name": "stderr",
     "output_type": "stream",
     "text": [
      "Failed to featurize datapoint 0, O=C1Cn2c(Cl)cnc(c2=O)NC(Cc2ccccc2)C[NH2+]CCC[NH2+]CCc2ccccc2CN1. Appending empty array\n",
      "Exception message: 'NoneType' object is not subscriptable\n"
     ]
    },
    {
     "name": "stdout",
     "output_type": "stream",
     "text": [
      "1nm6 Featurization Failed\n",
      "4tq3 Featurization Failed\n",
      "3ewz Featurization Failed\n"
     ]
    },
    {
     "name": "stderr",
     "output_type": "stream",
     "text": [
      "Failed to featurize datapoint 0, CC(=O)NNC(=O)C1CCC([NH2+]OS(=O)(=O)[O-])C[NH+]1CO. Appending empty array\n",
      "Exception message: 'NoneType' object is not subscriptable\n"
     ]
    },
    {
     "name": "stdout",
     "output_type": "stream",
     "text": [
      "5fa7 Featurization Failed\n"
     ]
    },
    {
     "name": "stderr",
     "output_type": "stream",
     "text": [
      "Failed to featurize datapoint 0, COc1ccc(CNC(=O)c2cc3c(cc2C[NH+](C)Cc2cccc(OC)c2C(=O)[O-])OCO3)cc1. Appending empty array\n",
      "Exception message: 'NoneType' object is not subscriptable\n"
     ]
    },
    {
     "name": "stdout",
     "output_type": "stream",
     "text": [
      "4cjr Featurization Failed\n"
     ]
    },
    {
     "name": "stderr",
     "output_type": "stream",
     "text": [
      "Failed to featurize datapoint 0, O=c1[nH]cnc2c(C[NH+]3CC(O)C(O)C3CO)csc12. Appending empty array\n",
      "Exception message: 'NoneType' object is not subscriptable\n"
     ]
    },
    {
     "name": "stdout",
     "output_type": "stream",
     "text": [
      "4i74 Featurization Failed\n",
      "5xwr Featurization Failed\n"
     ]
    },
    {
     "name": "stderr",
     "output_type": "stream",
     "text": [
      "Failed to featurize datapoint 0, CC(C)CC(NC(=O)CNC(=O)C(CCCNC(N)=[NH2+])NC(=O)C([NH3+])CO)C(=O)NC(CCC(=O)[O-])C(=O)NC(C(=O)NC(CO)C(=O)NC(Cc1c[nH]cn1)C(=O)NC(CCCNC(N)=[NH2+])C(=O)NC(CC(C)C)C(=O)NC(C)C(=O)N1CCCC1C(=O)NC(Cc1c[nH]c2ccccc12)C(=O)[O-])C(C)C. Appending empty array\n",
      "Exception message: 'PUGREST.BadRequest: error: '\n"
     ]
    },
    {
     "name": "stdout",
     "output_type": "stream",
     "text": [
      "4m7c Featurization Failed\n",
      "2qpj Featurization Failed\n",
      "2xvn Featurization Failed\n"
     ]
    },
    {
     "name": "stderr",
     "output_type": "stream",
     "text": [
      "Failed to featurize datapoint 0, Nc1nc(OC(c2ccc(Cl)cc2-c2ccccc2)C(F)(F)F)cc(N2CCC3(CC2)C[NH2+]C(C(=O)[O-])C3)n1. Appending empty array\n",
      "Exception message: 'NoneType' object is not subscriptable\n"
     ]
    },
    {
     "name": "stdout",
     "output_type": "stream",
     "text": [
      "5l01 Featurization Failed\n"
     ]
    },
    {
     "name": "stderr",
     "output_type": "stream",
     "text": [
      "Failed to featurize datapoint 0, CN1C(=[NH2+])NC(CCC2CCCCC2)(CC2CCCC(NC(=O)Nc3ccccc3)C2)C1=O. Appending empty array\n",
      "Exception message: 'NoneType' object is not subscriptable\n"
     ]
    },
    {
     "name": "stdout",
     "output_type": "stream",
     "text": [
      "4r93 Featurization Failed\n"
     ]
    },
    {
     "name": "stderr",
     "output_type": "stream",
     "text": [
      "Failed to featurize datapoint 0, CCOC(=O)c1cnc2[nH]nc(-c3cccc(C#N)c3)c2c1N1CCOC(C[NH3+])C1. Appending empty array\n",
      "Exception message: 'NoneType' object is not subscriptable\n"
     ]
    },
    {
     "name": "stdout",
     "output_type": "stream",
     "text": [
      "2ym4 Featurization Failed\n",
      "5alk Featurization Failed\n"
     ]
    },
    {
     "name": "stderr",
     "output_type": "stream",
     "text": [
      "Failed to featurize datapoint 0, N#CC1(OC(=O)C2CC3(C[NH2+]2)C(=O)Nc2ccccc23)CCCCC1. Appending empty array\n",
      "Exception message: 'NoneType' object is not subscriptable\n"
     ]
    },
    {
     "name": "stdout",
     "output_type": "stream",
     "text": [
      "3udr Featurization Failed\n"
     ]
    },
    {
     "name": "stderr",
     "output_type": "stream",
     "text": [
      "Failed to featurize datapoint 0, CCS(=O)(=O)NC(Cc1ccc(-c2ccccc2)cc1)C(=O)NC(CCC(N)=O)C(=O)NCc1ccc(C(N)=[NH2+])cc1. Appending empty array\n",
      "Exception message: 'NoneType' object is not subscriptable\n"
     ]
    },
    {
     "name": "stdout",
     "output_type": "stream",
     "text": [
      "1wtg Featurization Failed\n"
     ]
    },
    {
     "name": "stderr",
     "output_type": "stream",
     "text": [
      "Failed to featurize datapoint 0, COc1ccc(C=NOC2CC(C(=O)NC(C(=O)NC(C)C(=O)N3CCCC3C(=O)N3CCCC3C(=O)NC(CCC(=O)[O-])C(=O)NC(CCC(=O)[O-])C(N)=O)C(C)O)N(C(=O)C(CCC(=O)[O-])NC(=O)C3CCCN3C(C)=O)C2)cc1OC. Appending empty array\n",
      "Exception message: 'NoneType' object is not subscriptable\n"
     ]
    },
    {
     "name": "stdout",
     "output_type": "stream",
     "text": [
      "3p9h Featurization Failed\n"
     ]
    },
    {
     "name": "stderr",
     "output_type": "stream",
     "text": [
      "Failed to featurize datapoint 0, CC=CC(=O)NCCCCC(NC(=O)C(CCCNC(N)=[NH2+])NC(=O)C(C)NC(=O)C(NC(=O)C(CCC(N)=O)NC(C)=O)C(C)O)C(=O)NC(CO)C(=O)NC(C(=O)[O-])C(C)O. Appending empty array\n",
      "Exception message: 'NoneType' object is not subscriptable\n"
     ]
    },
    {
     "name": "stdout",
     "output_type": "stream",
     "text": [
      "5iok Featurization Failed\n"
     ]
    },
    {
     "name": "stderr",
     "output_type": "stream",
     "text": [
      "Failed to featurize datapoint 0, CCC1=CC2Cc3c(c(N)c4ccc(Cl)cc4[n+]3C)C(C1)C2. Appending empty array\n",
      "Exception message: 'NoneType' object is not subscriptable\n"
     ]
    },
    {
     "name": "stdout",
     "output_type": "stream",
     "text": [
      "6g1v Featurization Failed\n",
      "4p0v Featurization Failed\n",
      "4x7h Featurization Failed\n"
     ]
    },
    {
     "name": "stderr",
     "output_type": "stream",
     "text": [
      "Failed to featurize datapoint 0, CSCCC(NC(=O)C1CCCN1C(=O)C(Cc1ccc(O)cc1)NC(=O)C(CCCNC(N)=[NH2+])NC(=O)C(CO)NC(=O)C(Cc1ccc(O)cc1)NC(=O)C1CCCN1C(=O)C1CCCN1C(=O)C1CCCN1C(=O)C1CCCN1C(=O)C([NH3+])CO)C(=O)NC(CC(=O)[O-])C(=O)[O-]. Appending empty array\n",
      "Exception message: 'NoneType' object is not subscriptable\n"
     ]
    },
    {
     "name": "stdout",
     "output_type": "stream",
     "text": [
      "2ltv Featurization Failed\n",
      "3b2t Featurization Failed\n",
      "5i94 Featurization Failed\n"
     ]
    },
    {
     "name": "stderr",
     "output_type": "stream",
     "text": [
      "Failed to featurize datapoint 0, CC1CC(C)CN(c2ccc(C(=O)Nc3ccccc3C(=O)[O-])cc2Oc2ccccc2)C1. Appending empty array\n",
      "Exception message: 'NoneType' object is not subscriptable\n"
     ]
    },
    {
     "name": "stdout",
     "output_type": "stream",
     "text": [
      "3il6 Featurization Failed\n"
     ]
    },
    {
     "name": "stderr",
     "output_type": "stream",
     "text": [
      "Failed to featurize datapoint 0, CC(C)CC(NC(=O)CC(O)C(Cc1ccccc1)NC(=O)C(CCC(N)=O)N(C)C(=O)C(NC(=O)C(C)O)C(C)C)C(=O)NC(C)C(=O)N(C)C(Cc1ccccc1)C(=O)[O-]. Appending empty array\n",
      "Exception message: 'NoneType' object is not subscriptable\n"
     ]
    },
    {
     "name": "stdout",
     "output_type": "stream",
     "text": [
      "4fgx Featurization Failed\n"
     ]
    },
    {
     "name": "stderr",
     "output_type": "stream",
     "text": [
      "Failed to featurize datapoint 0, O=CC1C(NS(=O)(=O)[O-])CCN1C(=O)NC1CCC[NH2+]CC1. Appending empty array\n",
      "Exception message: 'NoneType' object is not subscriptable\n"
     ]
    },
    {
     "name": "stdout",
     "output_type": "stream",
     "text": [
      "2wzx Featurization Failed\n",
      "4jvj Featurization Failed\n",
      "1dmt Featurization Failed\n"
     ]
    },
    {
     "name": "stderr",
     "output_type": "stream",
     "text": [
      "Failed to featurize datapoint 0, CC(=O)NC(CC(=O)[O-])C(=O)NC1CCc2cccc3c2N(C1=O)C(C(=O)NC(CC(=O)[O-])C(O)CSCc1ccccc1)C3. Appending empty array\n",
      "Exception message: 'NoneType' object is not subscriptable\n"
     ]
    },
    {
     "name": "stdout",
     "output_type": "stream",
     "text": [
      "1rhu Featurization Failed\n"
     ]
    },
    {
     "name": "stderr",
     "output_type": "stream",
     "text": [
      "Failed to featurize datapoint 0, CC(NC(=O)C(CCC(N)=O)NC(=O)C([NH3+])Cc1ccc(O)cc1)C(=O)NC(CCCNC(N)=[NH2+])C(=O)N1CCCC1C(=O)NC(CC(N)=O)C(=O)NC(C)C(=O)NC(CCC(=O)[O-])C(=O)NC(C(=O)[O-])C(C)O. Appending empty array\n",
      "Exception message: 'NoneType' object is not subscriptable\n"
     ]
    },
    {
     "name": "stdout",
     "output_type": "stream",
     "text": [
      "2xzq Featurization Failed\n"
     ]
    },
    {
     "name": "stderr",
     "output_type": "stream",
     "text": [
      "Failed to featurize datapoint 0, CC(C)CC(NC(=O)C([NH3+])CC(=O)[O-])C(=O)NC(CC(=O)[O-])C(=O)NC(C)C(=O)NC(CC(C)C)C(=O)NC(CC(C)C)C(=O)NC(C)C(=O)NC(CC(=O)[O-])C(=O)NC(CC(C)C)C(=O)NC(CCC(=O)[O-])C(=O)[O-]. Appending empty array\n",
      "Exception message: 'NoneType' object is not subscriptable\n"
     ]
    },
    {
     "name": "stdout",
     "output_type": "stream",
     "text": [
      "2k2r Featurization Failed\n"
     ]
    },
    {
     "name": "stderr",
     "output_type": "stream",
     "text": [
      "Failed to featurize datapoint 0, CCC(=O)N1CCCC(n2nc(-c3cccc(C(=O)Nc4ccc(C(C)C)cc4)c3)c3c(N)ncnc32)C1. Appending empty array\n",
      "Exception message: 'NoneType' object is not subscriptable\n"
     ]
    },
    {
     "name": "stdout",
     "output_type": "stream",
     "text": [
      "4hcv Featurization Failed\n"
     ]
    },
    {
     "name": "stderr",
     "output_type": "stream",
     "text": [
      "Failed to featurize datapoint 0, CC1CC(=O)Nc2ccc(OC(C)c3ccccc3)cc2N1. Appending empty array\n",
      "Exception message: 'NoneType' object is not subscriptable\n"
     ]
    },
    {
     "name": "stdout",
     "output_type": "stream",
     "text": [
      "5i83 Featurization Failed\n"
     ]
    },
    {
     "name": "stderr",
     "output_type": "stream",
     "text": [
      "Failed to featurize datapoint 0, CCC(CC)OC1C=C(C(=O)[O-])CC(NC(N)=[NH2+])C1NC(C)=O. Appending empty array\n",
      "Exception message: 'NoneType' object is not subscriptable\n"
     ]
    },
    {
     "name": "stdout",
     "output_type": "stream",
     "text": [
      "4ks2 Featurization Failed\n"
     ]
    },
    {
     "name": "stderr",
     "output_type": "stream",
     "text": [
      "Failed to featurize datapoint 0, CC(C)CC(NC(=O)C1CCCN1C(=O)C(NC(=O)C(CCC(=O)[O-])NC(=O)C(CCCC[NH3+])NC(=O)C([NH3+])CO)C(C)O)C(=O)[O-]. Appending empty array\n",
      "Exception message: 'NoneType' object is not subscriptable\n"
     ]
    },
    {
     "name": "stdout",
     "output_type": "stream",
     "text": [
      "5ez0 Featurization Failed\n",
      "1q6j Featurization Failed\n"
     ]
    },
    {
     "name": "stderr",
     "output_type": "stream",
     "text": [
      "Failed to featurize datapoint 0, CC(Cn1cc(CNC(=O)CCCC(=O)Nc2cccc(C(N)=O)c2)nn1)c1ccccc1. Appending empty array\n",
      "Exception message: 'NoneType' object is not subscriptable\n"
     ]
    },
    {
     "name": "stdout",
     "output_type": "stream",
     "text": [
      "5lxp Featurization Failed\n"
     ]
    },
    {
     "name": "stderr",
     "output_type": "stream",
     "text": [
      "Failed to featurize datapoint 0, CCCCCC(C)(NC(=O)C(CCCC[NH3+])NC(=O)C([NH3+])Cc1cnc[nH]1)C(=O)NC(CC(C)C)C(=O)NC(Cc1cnc[nH]1)C(=O)NC(CCCNC(N)=[NH2+])C(=O)NC(C)(CCCCC)C(=O)NC(CC(C)C)C(=O)NC(CCC(N)=O)C(=O)NC(CC(=O)[O-])C(=O)NCC(N)=O. Appending empty array\n",
      "Exception message: 'PUGREST.Timeout'\n"
     ]
    },
    {
     "name": "stdout",
     "output_type": "stream",
     "text": [
      "5dxg Featurization Failed\n"
     ]
    },
    {
     "name": "stderr",
     "output_type": "stream",
     "text": [
      "Failed to featurize datapoint 0, CC(=O)NC(C)C(=S)N1CC(O)CC1C(=O)NCc1ccc(-c2scnc2C)cc1. Appending empty array\n",
      "Exception message: 'NoneType' object is not subscriptable\n"
     ]
    },
    {
     "name": "stdout",
     "output_type": "stream",
     "text": [
      "6fmj Featurization Failed\n"
     ]
    },
    {
     "name": "stderr",
     "output_type": "stream",
     "text": [
      "Failed to featurize datapoint 0, CC(C)Oc1cc(C[NH+]2CCC3(CC2C)CN(C)S(=O)(=O)N3c2cccc(F)c2)ccc1O. Appending empty array\n",
      "Exception message: 'NoneType' object is not subscriptable\n"
     ]
    },
    {
     "name": "stdout",
     "output_type": "stream",
     "text": [
      "4fm7 Featurization Failed\n"
     ]
    },
    {
     "name": "stderr",
     "output_type": "stream",
     "text": [
      "Failed to featurize datapoint 0, CC(C)CC(NC(=O)C(C)NC(=O)C(CC(N)=O)NC(=O)C([NH3+])CCC(=O)[O-])C(=O)NC(CC(C)C)C(=O)NC(CCCNC(N)=[NH2+])C(=O)NC(Cc1ccc(O)cc1)C(=O)NC(CC(C)C)C(=O)NC(CC(C)C)C(=O)NC(CC(=O)[O-])C(=O)[O-]. Appending empty array\n",
      "Exception message: 'NoneType' object is not subscriptable\n"
     ]
    },
    {
     "name": "stdout",
     "output_type": "stream",
     "text": [
      "5h1e Featurization Failed\n"
     ]
    },
    {
     "name": "stderr",
     "output_type": "stream",
     "text": [
      "Failed to featurize datapoint 0, CNC(NC)=[NH+]CCCC(NC(=O)C(C)[NH3+])C(=O)NC(C(=O)NC(CCCC[N+](C)(C)C)C(=O)NC(CCC(N)=O)C(=O)NC(C(=O)NC(C)C(=O)NC(C)C(=O)NC(C)C(N)=O)C(C)O)C(C)O. Appending empty array\n",
      "Exception message: 'NoneType' object is not subscriptable\n"
     ]
    },
    {
     "name": "stdout",
     "output_type": "stream",
     "text": [
      "2v87 Featurization Failed\n",
      "3whw Featurization Failed\n"
     ]
    },
    {
     "name": "stderr",
     "output_type": "stream",
     "text": [
      "Failed to featurize datapoint 0, CC(F)(F)c1cccc(C[NH2+]C2CS(=O)(=O)CC(Cc3cc(F)c(N)c(Br)c3)C2O)c1. Appending empty array\n",
      "Exception message: 'NoneType' object is not subscriptable\n"
     ]
    },
    {
     "name": "stdout",
     "output_type": "stream",
     "text": [
      "3vf3 Featurization Failed\n"
     ]
    },
    {
     "name": "stderr",
     "output_type": "stream",
     "text": [
      "Failed to featurize datapoint 0, N#Cc1ccc(C(=O)Nc2ccc(F)c(C3(CF)NC(=[NH2+])OCC3(F)F)c2)nc1. Appending empty array\n",
      "Exception message: 'NoneType' object is not subscriptable\n"
     ]
    },
    {
     "name": "stdout",
     "output_type": "stream",
     "text": [
      "4j1c Featurization Failed\n",
      "3udn Featurization Failed\n"
     ]
    },
    {
     "name": "stderr",
     "output_type": "stream",
     "text": [
      "Failed to featurize datapoint 0, CCC(C)C(NC(=O)C(CCC(=O)[O-])NC(=O)C(CCC(=O)[O-])NC(=O)C(Cc1ccccc1)NC(=O)C(CC(=O)[O-])NC(=O)C[NH3+])C(=O)N1CC=CC1C(=O)NCC(=O)NC(CCC(=O)[O-])C(=O)NC(Cc1ccc(O)cc1)C(=O)NC(C)C(=O)[O-]. Appending empty array\n",
      "Exception message: 'NoneType' object is not subscriptable\n"
     ]
    },
    {
     "name": "stdout",
     "output_type": "stream",
     "text": [
      "1a3e Featurization Failed\n"
     ]
    },
    {
     "name": "stderr",
     "output_type": "stream",
     "text": [
      "Failed to featurize datapoint 0, CC(C)CC(NC(=O)C(CCCNC(N)=[NH2+])NC(=O)C([NH3+])CC(N)=O)C(=O)NC(CC(C)C)C(=O)NC(CC(C)C)C(=O)NC(C(=O)NCC(=O)[O-])C(C)O. Appending empty array\n",
      "Exception message: 'NoneType' object is not subscriptable\n"
     ]
    },
    {
     "name": "stdout",
     "output_type": "stream",
     "text": [
      "1q5l Featurization Failed\n"
     ]
    },
    {
     "name": "stderr",
     "output_type": "stream",
     "text": [
      "Failed to featurize datapoint 0, CC(C)CC(NC(=O)C[NH3+])C(=O)NC(CC(C)C)C(=O)NC(Cc1c[nH]c2ccccc12)C(=O)NC(CC(=O)[O-])C(=O)NC(CC(C)C)C(=O)NC(CC(C)C)C(=O)NC(C(=O)[O-])C(C)O. Appending empty array\n",
      "Exception message: 'NoneType' object is not subscriptable\n"
     ]
    },
    {
     "name": "stdout",
     "output_type": "stream",
     "text": [
      "1t7f Featurization Failed\n"
     ]
    },
    {
     "name": "stderr",
     "output_type": "stream",
     "text": [
      "Failed to featurize datapoint 0, Cc1noc(C)c1C1CC(C)(c2ccc(F)cc2F)NC(=[NH2+])S1. Appending empty array\n",
      "Exception message: 'NoneType' object is not subscriptable\n"
     ]
    },
    {
     "name": "stdout",
     "output_type": "stream",
     "text": [
      "5kr8 Featurization Failed\n"
     ]
    },
    {
     "name": "stderr",
     "output_type": "stream",
     "text": [
      "Failed to featurize datapoint 0, None. Appending empty array\n",
      "Exception message: Python argument types in\n",
      "    rdkit.Chem.rdmolfiles.MolToSmiles(NoneType)\n",
      "did not match C++ signature:\n",
      "    MolToSmiles(class RDKit::ROMol mol, bool isomericSmiles=False, bool kekuleSmiles=False, int rootedAtAtom=-1, bool canonical=True, bool allBondsExplicit=False, bool allHsExplicit=False)\n"
     ]
    },
    {
     "name": "stdout",
     "output_type": "stream",
     "text": [
      "4jhq Featurization Failed\n"
     ]
    },
    {
     "name": "stderr",
     "output_type": "stream",
     "text": [
      "Failed to featurize datapoint 0, CC(NC(=O)C(CO)NC(=O)C(CC(=O)[O-])NC(=O)C(CCC(N)=O)NC(=O)C(CCC(=O)[O-])NC(=O)C1CCC[NH2+]1)C(=O)NC(C(=O)NC(C(=O)NC(CO)C(=O)NCC(=O)NC(CCC(=O)[O-])C(=O)[O-])C(C)O)C(C)C. Appending empty array\n",
      "Exception message: 'NoneType' object is not subscriptable\n"
     ]
    },
    {
     "name": "stdout",
     "output_type": "stream",
     "text": [
      "6f8g Featurization Failed\n"
     ]
    },
    {
     "name": "stderr",
     "output_type": "stream",
     "text": [
      "Failed to featurize datapoint 0, OCC1CC2[NH2+]C2C(OC2OC(CO)C(O)C(O)C2O)C1O. Appending empty array\n",
      "Exception message: 'NoneType' object is not subscriptable\n"
     ]
    },
    {
     "name": "stdout",
     "output_type": "stream",
     "text": [
      "6hmg Featurization Failed\n"
     ]
    },
    {
     "name": "stderr",
     "output_type": "stream",
     "text": [
      "Failed to featurize datapoint 0, Cc1cc2cccc(NCC[NH+](C)C)c2[nH]c1=O. Appending empty array\n",
      "Exception message: 'NoneType' object is not subscriptable\n"
     ]
    },
    {
     "name": "stdout",
     "output_type": "stream",
     "text": [
      "5a5p Featurization Failed\n"
     ]
    },
    {
     "name": "stderr",
     "output_type": "stream",
     "text": [
      "Failed to featurize datapoint 0, OCC[NH+]1CC(O)C(O)C(O)C(O)C1. Appending empty array\n",
      "Exception message: 'NoneType' object is not subscriptable\n"
     ]
    },
    {
     "name": "stdout",
     "output_type": "stream",
     "text": [
      "3rik Featurization Failed\n"
     ]
    },
    {
     "name": "stderr",
     "output_type": "stream",
     "text": [
      "Failed to featurize datapoint 0, CN(C(=O)c1cc(OS(=O)(=O)c2ccc3ccccc3c2)ccc1NS(=O)(=O)c1ccc2ccccc2c1)C(CC(=O)[O-])C(=O)[O-]. Appending empty array\n",
      "Exception message: 'NoneType' object is not subscriptable\n"
     ]
    },
    {
     "name": "stdout",
     "output_type": "stream",
     "text": [
      "1ybg Featurization Failed\n"
     ]
    },
    {
     "name": "stderr",
     "output_type": "stream",
     "text": [
      "Failed to featurize datapoint 0, CC([NH3+])C(=O)NC(CCCNC(N)=[NH2+])C(=O)NC(C(=O)NC(CCCC[N+](C)(C)C)C(=O)NC(CCC(N)=O)C(=O)NC(C(=O)NC(C)C(=O)NC(CCCNC(N)=[NH2+])C(=O)NC(CCCC[NH3+])C(=O)NC(CO)C(=O)NC(C(=O)[O-])C(C)O)C(C)O)C(C)O. Appending empty array\n",
      "Exception message: 'PUGREST.BadRequest: error: '\n"
     ]
    },
    {
     "name": "stdout",
     "output_type": "stream",
     "text": [
      "5svx Featurization Failed\n"
     ]
    },
    {
     "name": "stderr",
     "output_type": "stream",
     "text": [
      "Failed to featurize datapoint 0, CC(=O)C(CC(=O)[O-])NC(=O)C1CC(O)CN1C(=O)C(CCC(N)=O)NC(=O)C(CC(C)C)NC(=O)CC[NH3+]. Appending empty array\n",
      "Exception message: 'NoneType' object is not subscriptable\n"
     ]
    },
    {
     "name": "stdout",
     "output_type": "stream",
     "text": [
      "4ps1 Featurization Failed\n"
     ]
    },
    {
     "name": "stderr",
     "output_type": "stream",
     "text": [
      "Failed to featurize datapoint 0, CC(C)CC(NC(=O)C1CCCN1C(=O)C1CCCN1C(=O)C(C)NC(=O)C(Cc1ccccc1)NC(=O)C(C)[NH3+])C(=O)N1CCCC1C(=O)NC(CCCNC(N)=[NH2+])C(=O)NC(CCCNC(N)=[NH2+])C(=O)[O-]. Appending empty array\n",
      "Exception message: 'NoneType' object is not subscriptable\n"
     ]
    },
    {
     "name": "stdout",
     "output_type": "stream",
     "text": [
      "1prm Featurization Failed\n",
      "5u62 Featurization Failed\n",
      "5hlm Featurization Failed\n",
      "1ao0 Featurization Failed\n",
      "6gu6 Featurization Failed\n"
     ]
    },
    {
     "name": "stderr",
     "output_type": "stream",
     "text": [
      "Failed to featurize datapoint 0, CCCC1C[NH+](Cc2c[nH]c3c(N)ncnc23)CC1O. Appending empty array\n",
      "Exception message: 'NoneType' object is not subscriptable\n"
     ]
    },
    {
     "name": "stdout",
     "output_type": "stream",
     "text": [
      "6ayo Featurization Failed\n",
      "4euv Featurization Failed\n"
     ]
    },
    {
     "name": "stderr",
     "output_type": "stream",
     "text": [
      "Failed to featurize datapoint 0, CC=CC(=O)NCCCCC(NC(=O)C(CCCNC(N)=[NH2+])NC(=O)C(C)NC(=O)C(C)[NH3+])C(=O)NC(CO)C(=O)NC(C)C(=O)N1CC=CC1C(=O)NC(C)C(=O)[O-]. Appending empty array\n",
      "Exception message: 'NoneType' object is not subscriptable\n"
     ]
    },
    {
     "name": "stdout",
     "output_type": "stream",
     "text": [
      "5iql Featurization Failed\n"
     ]
    },
    {
     "name": "stderr",
     "output_type": "stream",
     "text": [
      "Failed to featurize datapoint 0, [NH3+]CC1CN(c2ncnc3[nH]cnc23)CCO1. Appending empty array\n",
      "Exception message: 'NoneType' object is not subscriptable\n"
     ]
    },
    {
     "name": "stdout",
     "output_type": "stream",
     "text": [
      "2wmv Featurization Failed\n",
      "5y6d Featurization Failed\n",
      "5j71 Featurization Failed\n",
      "4wn1 Featurization Failed\n",
      "2gv2 Featurization Failed\n"
     ]
    },
    {
     "name": "stderr",
     "output_type": "stream",
     "text": [
      "Failed to featurize datapoint 0, CCCC(NC(=O)C1CCCN1C(=O)C(C)NC(=O)C(CCCCNC(C)=O)NC(=O)CNC(=O)CNC(=O)C(NC(=O)C(CO)NC(=O)C(CCCC[NH+](C)C)NC(=O)C(CCCNC(N)=[NH2+])NC(=O)C(C)[NH3+])C(C)O)C(=O)NC(C)C(=O)[O-]. Appending empty array\n",
      "Exception message: 'NoneType' object is not subscriptable\n"
     ]
    },
    {
     "name": "stdout",
     "output_type": "stream",
     "text": [
      "6bhd Featurization Failed\n"
     ]
    },
    {
     "name": "stderr",
     "output_type": "stream",
     "text": [
      "Failed to featurize datapoint 0, CC(C)CC([NH2+]C1CCC(n2cc(-c3ccc(Oc4ccccc4)cc3)c3c(N)ncnc32)CC1)C(N)=O. Appending empty array\n",
      "Exception message: 'NoneType' object is not subscriptable\n"
     ]
    },
    {
     "name": "stdout",
     "output_type": "stream",
     "text": [
      "5h0e Featurization Failed\n"
     ]
    },
    {
     "name": "stderr",
     "output_type": "stream",
     "text": [
      "Failed to featurize datapoint 0, Cc1cccc(Nc2nc(NC3CCCCC3[NH3+])ncc2C(N)=O)c1. Appending empty array\n",
      "Exception message: 'NoneType' object is not subscriptable\n"
     ]
    },
    {
     "name": "stdout",
     "output_type": "stream",
     "text": [
      "3fqe Featurization Failed\n",
      "2y3p Featurization Failed\n"
     ]
    },
    {
     "name": "stderr",
     "output_type": "stream",
     "text": [
      "Failed to featurize datapoint 0, CC(=O)NC1C[NH2+]CC(O)C(O)C1O. Appending empty array\n",
      "Exception message: 'NoneType' object is not subscriptable\n"
     ]
    },
    {
     "name": "stdout",
     "output_type": "stream",
     "text": [
      "2w67 Featurization Failed\n"
     ]
    },
    {
     "name": "stderr",
     "output_type": "stream",
     "text": [
      "Failed to featurize datapoint 0, C[NH2+]C(Cc1ccccc1)C(=O)N1CCCC1C(=O)NC(Cc1c[nH]c2ccccc12)C(O)C(F)(F)C(F)(F)F. Appending empty array\n",
      "Exception message: 'NoneType' object is not subscriptable\n"
     ]
    },
    {
     "name": "stdout",
     "output_type": "stream",
     "text": [
      "1ad8 Featurization Failed\n",
      "6etj Featurization Failed\n",
      "3wyj Featurization Failed\n"
     ]
    },
    {
     "name": "stderr",
     "output_type": "stream",
     "text": [
      "Failed to featurize datapoint 0, CCCNc1ncc(-c2nc3ccccc3s2)c(NC2CC(CO)C(O)C2O)n1. Appending empty array\n",
      "Exception message: 'NoneType' object is not subscriptable\n"
     ]
    },
    {
     "name": "stdout",
     "output_type": "stream",
     "text": [
      "4ztl Featurization Failed\n"
     ]
    },
    {
     "name": "stderr",
     "output_type": "stream",
     "text": [
      "Failed to featurize datapoint 0, CC(=O)NC(Cc1cnc[nH]1)C(=O)NC(CCCC[NH3+])C(=O)NC1(C)CCCC=CCCCC(C)(C(=O)NC(CC(C)C)C(=O)NC(CCC(N)=O)C(=O)NC(CC(=O)[O-])C(=O)NC(CO)C(N)=O)NC(=O)C(CCCNC(N)=[NH2+])NC(=O)C(Cc2cnc[nH]2)NC(=O)C(CC(C)C)NC1=O. Appending empty array\n",
      "Exception message: 'PUGREST.BadRequest: error: '\n"
     ]
    },
    {
     "name": "stdout",
     "output_type": "stream",
     "text": [
      "5dxe Featurization Failed\n"
     ]
    },
    {
     "name": "stderr",
     "output_type": "stream",
     "text": [
      "Failed to featurize datapoint 0, [NH3+]CCCCC([NH3+])C(=O)NC(CCCC[NH3+])C(=O)NC(CCCC[NH3+])C(=O)[O-]. Appending empty array\n",
      "Exception message: 'NoneType' object is not subscriptable\n"
     ]
    },
    {
     "name": "stdout",
     "output_type": "stream",
     "text": [
      "2olb Featurization Failed\n",
      "4p4t Featurization Failed\n"
     ]
    },
    {
     "name": "stderr",
     "output_type": "stream",
     "text": [
      "Failed to featurize datapoint 0, CCC(C)C1NC(=O)C2CCCN2C(=O)C2CCCN2C(=O)C(C(C)CC)NC(=O)C(CO)NC(=O)C(CCCC[NH3+])NC(=O)C(C(C)O)NC(=O)C2CSSCC(NC1=O)C(=O)NC(Cc1ccccc1)C(=O)N1CCCC1C(=O)NC(CC(=O)[O-])C(=O)NCC(=O)NC(CCCNC(N)=[NH2+])C(=O)N2. Appending empty array\n",
      "Exception message: 'NoneType' object is not subscriptable\n"
     ]
    },
    {
     "name": "stdout",
     "output_type": "stream",
     "text": [
      "1sfi Featurization Failed\n"
     ]
    },
    {
     "name": "stderr",
     "output_type": "stream",
     "text": [
      "Failed to featurize datapoint 0, CC(NC(=O)C(Cc1ccc(O)cc1)NC(=O)C(Cc1ccccc1)NC(=O)C(C)NC(=O)C(C)NC(=O)C(C)NC(=O)C(CCCC[NH3+])NC(=O)C([NH3+])C(C)O)C(=O)[O-]. Appending empty array\n",
      "Exception message: 'NoneType' object is not subscriptable\n"
     ]
    },
    {
     "name": "stdout",
     "output_type": "stream",
     "text": [
      "4gvd Featurization Failed\n"
     ]
    },
    {
     "name": "stderr",
     "output_type": "stream",
     "text": [
      "Failed to featurize datapoint 0, CCCCCCC(C)(NC(=O)CNC(=O)C([NH3+])CCC(N)=O)C(=O)NC(C(=O)NC(CC(=O)[O-])C(=O)NC(C)(CCCCCC)C(=O)NC(CC(C)C)C(=O)NC(CC(=O)[O-])C(=O)NC(CC(C)C)C(=O)NC(C)C(=O)NC(CC(C(=O)[O-])C(=O)[O-])C(N)=O)C12CC3CC(CC(C3)C1)C2. Appending empty array\n",
      "Exception message: 'NoneType' object is not subscriptable\n"
     ]
    },
    {
     "name": "stdout",
     "output_type": "stream",
     "text": [
      "5jm4 Featurization Failed\n",
      "1ppw Featurization Failed\n"
     ]
    },
    {
     "name": "stderr",
     "output_type": "stream",
     "text": [
      "Failed to featurize datapoint 0, NC(=[NH2+])NCCCC(NC(=O)c1sccc1NS(=O)(=O)c1cc(-c2ccc(C[NH3+])cc2)cc2ccoc12)C(=O)[O-]. Appending empty array\n",
      "Exception message: 'NoneType' object is not subscriptable\n"
     ]
    },
    {
     "name": "stdout",
     "output_type": "stream",
     "text": [
      "6fmc Featurization Failed\n"
     ]
    },
    {
     "name": "stderr",
     "output_type": "stream",
     "text": [
      "Failed to featurize datapoint 0, O=C([O-])c1cc(-c2ccc(CNC(=O)c3ccc(-c4ccc(C(=O)[O-])o4)cc3Cl)cc2)n(-c2ccc(Cl)c(Cl)c2)n1. Appending empty array\n",
      "Exception message: 'NoneType' object is not subscriptable\n"
     ]
    },
    {
     "name": "stdout",
     "output_type": "stream",
     "text": [
      "4r4c Featurization Failed\n"
     ]
    },
    {
     "name": "stderr",
     "output_type": "stream",
     "text": [
      "Failed to featurize datapoint 0, COC(=O)c1c(O)cccc1OCCCCNC(=O)C(Cc1ccc(OCC(=O)[O-])c(O)c1)NC(C)=O. Appending empty array\n",
      "Exception message: 'NoneType' object is not subscriptable\n"
     ]
    },
    {
     "name": "stdout",
     "output_type": "stream",
     "text": [
      "1qxk Featurization Failed\n"
     ]
    },
    {
     "name": "stderr",
     "output_type": "stream",
     "text": [
      "Failed to featurize datapoint 0, [NH3+]Cc1cccc(-c2cccc(C(=O)NC3CCCc4ccccc43)c2)c1. Appending empty array\n",
      "Exception message: 'NoneType' object is not subscriptable\n"
     ]
    },
    {
     "name": "stdout",
     "output_type": "stream",
     "text": [
      "6fut Featurization Failed\n"
     ]
    },
    {
     "name": "stderr",
     "output_type": "stream",
     "text": [
      "Failed to featurize datapoint 0, CCC(C)C(NC(=O)C(CC(C)C)NC(=O)C(CCCC[NH3+])NC(=O)C(CCC(N)=O)NC(=O)C([NH3+])CCC(=O)[O-])C(=O)NC(CO)C(=O)NC(CCC(=O)[O-])C(=O)NC(CCC(=O)[O-])C(=O)NC(CC(=O)[O-])C(=O)NC(CC(C)C)C(=O)NC(CC(N)=O)C(=O)[O-]. Appending empty array\n",
      "Exception message: 'NoneType' object is not subscriptable\n"
     ]
    },
    {
     "name": "stdout",
     "output_type": "stream",
     "text": [
      "2or9 Featurization Failed\n",
      "3zjv Featurization Failed\n"
     ]
    },
    {
     "name": "stderr",
     "output_type": "stream",
     "text": [
      "Failed to featurize datapoint 0, COc1cc2c(cc1OC)C1CC([NH3+])C(c3cccc(CF)c3)C[NH+]1CC2. Appending empty array\n",
      "Exception message: 'NoneType' object is not subscriptable\n"
     ]
    },
    {
     "name": "stdout",
     "output_type": "stream",
     "text": [
      "3kwj Featurization Failed\n"
     ]
    },
    {
     "name": "stderr",
     "output_type": "stream",
     "text": [
      "Failed to featurize datapoint 0, CCC(C)C(NC(=O)C([NH3+])CCCNC(N)=[NH2+])C(=O)N1CCCC1C(=O)NC(CO)C(=O)NC(Cc1ccc(O)cc1)C(=O)NC(CCCNC(N)=[NH2+])C(=O)NC(Cc1ccc(O)cc1)C(=O)NC(CCCNC(N)=[NH2+])C(=O)NC(Cc1ccc(O)cc1)C(=O)[O-]. Appending empty array\n",
      "Exception message: 'NoneType' object is not subscriptable\n"
     ]
    },
    {
     "name": "stdout",
     "output_type": "stream",
     "text": [
      "4x3h Featurization Failed\n",
      "5f37 Featurization Failed\n",
      "5n2x Featurization Failed\n"
     ]
    },
    {
     "name": "stderr",
     "output_type": "stream",
     "text": [
      "Failed to featurize datapoint 0, C[NH+](C)C1CCC(Nc2ncnc3[nH]cc(C4CCC(C(N)=O)CC4)c23)CC1. Appending empty array\n",
      "Exception message: 'NoneType' object is not subscriptable\n"
     ]
    },
    {
     "name": "stdout",
     "output_type": "stream",
     "text": [
      "6f3d Featurization Failed\n"
     ]
    },
    {
     "name": "stderr",
     "output_type": "stream",
     "text": [
      "Failed to featurize datapoint 0, CC(=O)NC(CC(N)=O)C(=O)NC(CO)C(=O)NC(Cc1ccccc1)C(=O)NC(CO)C(=O)NC(CO)CCC(N)=O. Appending empty array\n",
      "Exception message: 'NoneType' object is not subscriptable\n"
     ]
    },
    {
     "name": "stdout",
     "output_type": "stream",
     "text": [
      "3sna Featurization Failed\n"
     ]
    },
    {
     "name": "stderr",
     "output_type": "stream",
     "text": [
      "Failed to featurize datapoint 0, [NH3+]CCC[NH2+]CCCCCC(O)(O)C(F)(F)F. Appending empty array\n",
      "Exception message: 'NoneType' object is not subscriptable\n"
     ]
    },
    {
     "name": "stdout",
     "output_type": "stream",
     "text": [
      "5efh Featurization Failed\n"
     ]
    },
    {
     "name": "stderr",
     "output_type": "stream",
     "text": [
      "Failed to featurize datapoint 0, C=C1C(O)CC(=CCC2CCCC3(C)C(C(C)CCC(O)(CC)CC)CCC23)CC1O. Appending empty array\n",
      "Exception message: 'NoneType' object is not subscriptable\n"
     ]
    },
    {
     "name": "stdout",
     "output_type": "stream",
     "text": [
      "3vrv Featurization Failed\n"
     ]
    },
    {
     "name": "stderr",
     "output_type": "stream",
     "text": [
      "Failed to featurize datapoint 0, CC(C)c1ccc(N2CCc3cc(O)ccc3C2(C)c2ccc(C=CC(=O)[O-])cc2)cc1. Appending empty array\n",
      "Exception message: 'NoneType' object is not subscriptable\n"
     ]
    },
    {
     "name": "stdout",
     "output_type": "stream",
     "text": [
      "5t97 Featurization Failed\n"
     ]
    },
    {
     "name": "stderr",
     "output_type": "stream",
     "text": [
      "Failed to featurize datapoint 0, NC(=[NH2+])c1ccc(C2C3C(=O)N(Cc4ccc(F)cc4)C(C(F)F)C3C3CCC[NH+]32)cc1. Appending empty array\n",
      "Exception message: 'NoneType' object is not subscriptable\n"
     ]
    },
    {
     "name": "stdout",
     "output_type": "stream",
     "text": [
      "2cn0 Featurization Failed\n"
     ]
    },
    {
     "name": "stderr",
     "output_type": "stream",
     "text": [
      "Failed to featurize datapoint 0, [NH3+]C1(C(=O)[O-])CC2(CC2)C2C(C(=O)[O-])C21. Appending empty array\n",
      "Exception message: 'NoneType' object is not subscriptable\n"
     ]
    },
    {
     "name": "stdout",
     "output_type": "stream",
     "text": [
      "4xas Featurization Failed\n",
      "5xig Featurization Failed\n"
     ]
    },
    {
     "name": "stderr",
     "output_type": "stream",
     "text": [
      "Failed to featurize datapoint 0, CCC(NC(=O)C(NC(=O)C(CC(C)C)NC(=O)C(CC(=O)[O-])NC(=O)C(CCC(N)=O)NC(=O)C(CCC(=O)[O-])NC(=O)C(NC(=O)C1CCCN1C(=O)C1CCCN1C(=O)C([NH3+])CC(C)C)C(C)O)C(C)O)C(=O)NC(CC(C)C)C(=O)NC(CC(C)C)C(=O)NC(C)C(=O)NC(CCC(=O)[O-])C(=O)O. Appending empty array\n",
      "Exception message: 'NoneType' object is not subscriptable\n"
     ]
    },
    {
     "name": "stdout",
     "output_type": "stream",
     "text": [
      "1oj5 Featurization Failed\n",
      "4xsz Featurization Failed\n",
      "4r07 Featurization Failed\n",
      "5k8n Featurization Failed\n"
     ]
    },
    {
     "name": "stderr",
     "output_type": "stream",
     "text": [
      "Failed to featurize datapoint 0, O=C([O-])c1cccc(CC(NS(=O)(=O)Cc2ccccc2)B(O)O)c1. Appending empty array\n",
      "Exception message: 'NoneType' object is not subscriptable\n"
     ]
    },
    {
     "name": "stdout",
     "output_type": "stream",
     "text": [
      "3o88 Featurization Failed\n"
     ]
    },
    {
     "name": "stderr",
     "output_type": "stream",
     "text": [
      "Failed to featurize datapoint 0, COC(C(O)COC=O)C1OC(C(=O)[O-])CC(NC(N)=[NH2+])C1NC(C)=O. Appending empty array\n",
      "Exception message: 'NoneType' object is not subscriptable\n"
     ]
    },
    {
     "name": "stdout",
     "output_type": "stream",
     "text": [
      "3tib Featurization Failed\n"
     ]
    },
    {
     "name": "stderr",
     "output_type": "stream",
     "text": [
      "Failed to featurize datapoint 0, Oc1ccc(C2Sc3cc(O)ccc3OC2c2ccc(OCC[NH+]3CCCCC3)cc2)cc1. Appending empty array\n",
      "Exception message: 'NoneType' object is not subscriptable\n"
     ]
    },
    {
     "name": "stdout",
     "output_type": "stream",
     "text": [
      "1sj0 Featurization Failed\n",
      "3vfq Featurization Failed\n",
      "4bhf Featurization Failed\n",
      "1p17 Featurization Failed\n"
     ]
    },
    {
     "name": "stderr",
     "output_type": "stream",
     "text": [
      "Failed to featurize datapoint 0, [NH3+]C1CCCC(Nc2cccc(-c3n[nH]c4cnc(-c5cccnc5)cc34)n2)C1. Appending empty array\n",
      "Exception message: 'NoneType' object is not subscriptable\n"
     ]
    },
    {
     "name": "stdout",
     "output_type": "stream",
     "text": [
      "5dia Featurization Failed\n"
     ]
    },
    {
     "name": "stderr",
     "output_type": "stream",
     "text": [
      "Failed to featurize datapoint 0, CCC([NH3+])C(=O)N1CCCC1C(=O)NCc1cccc(Cl)c1. Appending empty array\n",
      "Exception message: 'NoneType' object is not subscriptable\n"
     ]
    },
    {
     "name": "stdout",
     "output_type": "stream",
     "text": [
      "2zfp Featurization Failed\n"
     ]
    },
    {
     "name": "stderr",
     "output_type": "stream",
     "text": [
      "Failed to featurize datapoint 0, NC(=[NH2+])NCCCC(NC(=O)C1CC[NH+]2CCC([NH3+])(Cc3ccccc3)C(=O)N12)C(O)c1nccs1. Appending empty array\n",
      "Exception message: 'NoneType' object is not subscriptable\n"
     ]
    },
    {
     "name": "stdout",
     "output_type": "stream",
     "text": [
      "1a61 Featurization Failed\n"
     ]
    },
    {
     "name": "stderr",
     "output_type": "stream",
     "text": [
      "Failed to featurize datapoint 0, O=C([O-])CC(O)CCc1ccc2c(c1)Cc1ccccc1-2. Appending empty array\n",
      "Exception message: 'NoneType' object is not subscriptable\n"
     ]
    },
    {
     "name": "stdout",
     "output_type": "stream",
     "text": [
      "2woa Featurization Failed\n",
      "1bm2 Featurization Failed\n"
     ]
    },
    {
     "name": "stderr",
     "output_type": "stream",
     "text": [
      "Failed to featurize datapoint 0, CCC(NC(=O)C(NC(=O)C1CCC[NH2+]1)C(C)O)C(=O)NC. Appending empty array\n",
      "Exception message: 'NoneType' object is not subscriptable\n"
     ]
    },
    {
     "name": "stdout",
     "output_type": "stream",
     "text": [
      "6cct Featurization Failed\n",
      "1css Featurization Failed\n"
     ]
    },
    {
     "name": "stderr",
     "output_type": "stream",
     "text": [
      "Failed to featurize datapoint 0, Oc1ccc(C(O)C=Cc2ccc(O)c(O)c2)c(O)c1. Appending empty array\n",
      "Exception message: 'NoneType' object is not subscriptable\n"
     ]
    },
    {
     "name": "stdout",
     "output_type": "stream",
     "text": [
      "4rlw Featurization Failed\n"
     ]
    },
    {
     "name": "stderr",
     "output_type": "stream",
     "text": [
      "Failed to featurize datapoint 0, CCCN(C)c1nc(NC2CC[NH+](C)CC2)c2cc(OC)c(OC)cc2n1. Appending empty array\n",
      "Exception message: 'NoneType' object is not subscriptable\n"
     ]
    },
    {
     "name": "stdout",
     "output_type": "stream",
     "text": [
      "5vsd Featurization Failed\n"
     ]
    },
    {
     "name": "stderr",
     "output_type": "stream",
     "text": [
      "Failed to featurize datapoint 0, CC(NC(=O)C([NH3+])CCCC[NH3+])C(=O)NC(CCCC[NH3+])C(=O)[O-]. Appending empty array\n",
      "Exception message: 'NoneType' object is not subscriptable\n"
     ]
    },
    {
     "name": "stdout",
     "output_type": "stream",
     "text": [
      "1jet Featurization Failed\n"
     ]
    },
    {
     "name": "stderr",
     "output_type": "stream",
     "text": [
      "Failed to featurize datapoint 0, CC(CCCCC(=O)NO)Nc1c(Nc2ccc(OC(F)(F)F)cc2)c(=O)c1=O. Appending empty array\n",
      "Exception message: 'NoneType' object is not subscriptable\n"
     ]
    },
    {
     "name": "stdout",
     "output_type": "stream",
     "text": [
      "6g3o Featurization Failed\n",
      "5edu Featurization Failed\n"
     ]
    },
    {
     "name": "stderr",
     "output_type": "stream",
     "text": [
      "Failed to featurize datapoint 0, CC(C)COC(=O)NC(C(=O)NC(CC1CC1)C(=O)NC(CC1CC1)C(O)C(=O)NCC(=O)NC(C(=O)[O-])c1ccccc1)C1CCCCC1. Appending empty array\n",
      "Exception message: 'NoneType' object is not subscriptable\n"
     ]
    },
    {
     "name": "stdout",
     "output_type": "stream",
     "text": [
      "2a4r Featurization Failed\n"
     ]
    },
    {
     "name": "stderr",
     "output_type": "stream",
     "text": [
      "Failed to featurize datapoint 0, C#CCOC1C(C)C(OC(=O)NCCCNC(=[NH2+])NC(=O)NC)C(C)C(=O)OC(CC)C(C)(O)C(O)C(C)C(O)C(C)CC1(C)O. Appending empty array\n",
      "Exception message: 'NoneType' object is not subscriptable\n"
     ]
    },
    {
     "name": "stdout",
     "output_type": "stream",
     "text": [
      "4z2l Featurization Failed\n"
     ]
    },
    {
     "name": "stderr",
     "output_type": "stream",
     "text": [
      "Failed to featurize datapoint 0, CC#CCn1c(N2CCCC([NH3+])C2)nc2c1C(=O)N(Cc1ccc(C#N)cc1)C1=[NH+]CCN12. Appending empty array\n",
      "Exception message: 'NoneType' object is not subscriptable\n"
     ]
    },
    {
     "name": "stdout",
     "output_type": "stream",
     "text": [
      "5t4f Featurization Failed\n",
      "4op2 Featurization Failed\n"
     ]
    },
    {
     "name": "stderr",
     "output_type": "stream",
     "text": [
      "Failed to featurize datapoint 0, CC(C)CC(NC(=O)C(NC(=O)C(CCCC[N+](C)(C)C)NC(=O)C(CCCNC(N)=[NH2+])NC(=O)C(Cc1c[nH]cn1)NC(=O)C([NH3+])CCCNC(N)=[NH2+])C(C)C)C(=O)NC(CCCNC(N)=[NH2+])C(=O)O. Appending empty array\n",
      "Exception message: 'NoneType' object is not subscriptable\n"
     ]
    },
    {
     "name": "stdout",
     "output_type": "stream",
     "text": [
      "2qqs Featurization Failed\n",
      "1zd2 Featurization Failed\n",
      "5kx7 Featurization Failed\n"
     ]
    },
    {
     "name": "stderr",
     "output_type": "stream",
     "text": [
      "Failed to featurize datapoint 0, O=CC1C(NS(=O)(=O)[O-])CCN1C(=O)NC1CCC[NH2+]CC1. Appending empty array\n",
      "Exception message: 'NoneType' object is not subscriptable\n"
     ]
    },
    {
     "name": "stdout",
     "output_type": "stream",
     "text": [
      "2wzz Featurization Failed\n"
     ]
    },
    {
     "name": "stderr",
     "output_type": "stream",
     "text": [
      "Failed to featurize datapoint 0, CCC(C)C(NC(=O)C1CCCN1C(=O)C(Cc1ccc(O)cc1)NC(C)=O)C(=O)NC(CCC(N)=O)C(=O)NC(CCC(=O)[O-])C(=O)NC(C(=O)[O-])C(C)O. Appending empty array\n",
      "Exception message: 'NoneType' object is not subscriptable\n"
     ]
    },
    {
     "name": "stdout",
     "output_type": "stream",
     "text": [
      "1qsc Featurization Failed\n",
      "5ey9 Featurization Failed\n"
     ]
    },
    {
     "name": "stderr",
     "output_type": "stream",
     "text": [
      "Failed to featurize datapoint 0, CCC(C)C(NC(=O)C(NC(=O)C(CC(C)C)NC(=O)C(CO)NC(=O)C(CCCC[NH3+])NC(=O)C([NH3+])CCCNC(N)=[NH2+])C(C)O)C(=O)NC(Cc1ccc(O)cc1)C(=O)NC(C)C(=O)NC(CCC(N)=O)C(=O)NC(C(=O)NC(CCC(N)=O)C(=O)NC(CCCC[NH3+])C(=O)[O-])C(C)C. Appending empty array\n",
      "Exception message: 'PUGREST.BadRequest: error: '\n"
     ]
    },
    {
     "name": "stdout",
     "output_type": "stream",
     "text": [
      "1ka7 Featurization Failed\n"
     ]
    },
    {
     "name": "stderr",
     "output_type": "stream",
     "text": [
      "Failed to featurize datapoint 0, CC(CCCCC(O)C(C=O)CO)CC(C)CC(C)CC(=O)[O-]. Appending empty array\n",
      "Exception message: 'NoneType' object is not subscriptable\n"
     ]
    },
    {
     "name": "stdout",
     "output_type": "stream",
     "text": [
      "3v4x Featurization Failed\n"
     ]
    },
    {
     "name": "stderr",
     "output_type": "stream",
     "text": [
      "Failed to featurize datapoint 0, N=C1CCC(C(=O)NNC(=O)C2CCC[NH2+]C2)N(C=O)C1. Appending empty array\n",
      "Exception message: 'NoneType' object is not subscriptable\n"
     ]
    },
    {
     "name": "stdout",
     "output_type": "stream",
     "text": [
      "6b1w Featurization Failed\n"
     ]
    },
    {
     "name": "stderr",
     "output_type": "stream",
     "text": [
      "Failed to featurize datapoint 0, CC(=O)NC(Cc1cnc[nH]1)C(=O)NC(CCCC[NH3+])C(=O)NC1(C)CCC=CCCC(C)CC(C)(C(=O)NC(CC(C)C)C(=O)NC(CCC(N)=O)C(=O)NC(CC(=O)[O-])C(=O)NC(CO)C(N)=O)NC(=O)C(CCCNC(N)=[NH2+])NC(=O)C(Cc2cnc[nH]2)NC(=O)C(CC(C)C)NC1=O. Appending empty array\n",
      "Exception message: 'PUGREST.BadRequest: error: '\n"
     ]
    },
    {
     "name": "stdout",
     "output_type": "stream",
     "text": [
      "5dxb Featurization Failed\n"
     ]
    },
    {
     "name": "stderr",
     "output_type": "stream",
     "text": [
      "Failed to featurize datapoint 0, Oc1ccc2c(Cc3ccc(C[NH+]4CCCC4)c(Br)c3)c(-c3ccc(OCC[NH+]4CCCC4)cc3)sc2c1. Appending empty array\n",
      "Exception message: 'NoneType' object is not subscriptable\n"
     ]
    },
    {
     "name": "stdout",
     "output_type": "stream",
     "text": [
      "1d3d Featurization Failed\n",
      "4yrt Featurization Failed\n"
     ]
    },
    {
     "name": "stderr",
     "output_type": "stream",
     "text": [
      "Failed to featurize datapoint 0, CC1NC(=O)C2CSSCC(NC(=O)C[NH3+])C(=O)NC(CSSCC(C(N)=O)NC(=O)C(CCCNC(N)=[NH2+])NC(=O)C(Cc3c[nH]c4ccccc34)NC1=O)C(=O)NC(CO)C(=O)NC(CC(=O)[O-])C(=O)N1CCCC1C(=O)NC(CCCNC(N)=[NH2+])C(=O)N2. Appending empty array\n",
      "Exception message: 'PUGREST.BadRequest: error: '\n"
     ]
    },
    {
     "name": "stdout",
     "output_type": "stream",
     "text": [
      "2c9t Featurization Failed\n",
      "3dgl Featurization Failed\n"
     ]
    },
    {
     "name": "stderr",
     "output_type": "stream",
     "text": [
      "Failed to featurize datapoint 0, Cc1cc(N2CC[NH+](C3C[NH2+]C(C(=O)N4CCSC4)C3)CC2)n(-c2ccccc2)n1. Appending empty array\n",
      "Exception message: 'NoneType' object is not subscriptable\n"
     ]
    },
    {
     "name": "stdout",
     "output_type": "stream",
     "text": [
      "3vjk Featurization Failed\n"
     ]
    },
    {
     "name": "stderr",
     "output_type": "stream",
     "text": [
      "Failed to featurize datapoint 0, OCC1[NH2+]C(CO)C(OC2OC(CO)C(O)C(O)C2O)C1O. Appending empty array\n",
      "Exception message: 'NoneType' object is not subscriptable\n"
     ]
    },
    {
     "name": "stdout",
     "output_type": "stream",
     "text": [
      "4u2y Featurization Failed\n"
     ]
    },
    {
     "name": "stderr",
     "output_type": "stream",
     "text": [
      "Failed to featurize datapoint 0, CC(N=Cc1cc(C(N)=[NH2+])ccc1O)C(=O)[O-]. Appending empty array\n",
      "Exception message: 'NoneType' object is not subscriptable\n"
     ]
    },
    {
     "name": "stdout",
     "output_type": "stream",
     "text": [
      "1g3b Featurization Failed\n"
     ]
    },
    {
     "name": "stderr",
     "output_type": "stream",
     "text": [
      "Failed to featurize datapoint 0, FC(F)(CNc1nccc2oc(Cc3ccccc3-n3cncn3)nc12)C1CCCC[NH2+]1. Appending empty array\n",
      "Exception message: 'NoneType' object is not subscriptable\n"
     ]
    },
    {
     "name": "stdout",
     "output_type": "stream",
     "text": [
      "1zgi Featurization Failed\n",
      "2h5e Featurization Failed\n"
     ]
    },
    {
     "name": "stderr",
     "output_type": "stream",
     "text": [
      "Failed to featurize datapoint 0, Cc1[nH]nc2ccc(-c3cncc(OCC([NH3+])Cc4c[nH]c5ccccc45)c3)cc12. Appending empty array\n",
      "Exception message: 'NoneType' object is not subscriptable\n"
     ]
    },
    {
     "name": "stdout",
     "output_type": "stream",
     "text": [
      "2jdv Featurization Failed\n",
      "4fxy Featurization Failed\n",
      "5y62 Featurization Failed\n"
     ]
    },
    {
     "name": "stderr",
     "output_type": "stream",
     "text": [
      "Failed to featurize datapoint 0, Oc1ccc(-c2cc[nH]n2)cc1-c1nc(NC2CC[NH2+]C2)c2ccccc2n1. Appending empty array\n",
      "Exception message: 'NoneType' object is not subscriptable\n"
     ]
    },
    {
     "name": "stdout",
     "output_type": "stream",
     "text": [
      "2xm9 Featurization Failed\n"
     ]
    },
    {
     "name": "stderr",
     "output_type": "stream",
     "text": [
      "Failed to featurize datapoint 0, COc1cc(Cc2cnc(N)nc2N)cc(C=CC(=O)N2[NH2+]Cc3ccccc3C2CC(C)C)c1OC. Appending empty array\n",
      "Exception message: 'NoneType' object is not subscriptable\n"
     ]
    },
    {
     "name": "stdout",
     "output_type": "stream",
     "text": [
      "4elg Featurization Failed\n",
      "1tkc Featurization Failed\n",
      "4wkv Featurization Failed\n"
     ]
    },
    {
     "name": "stderr",
     "output_type": "stream",
     "text": [
      "Failed to featurize datapoint 0, CC([NH2+]C(CC[NH2+]C(Cc1cnc[nH]1)C(=O)[O-])C(=O)[O-])C(=O)[O-]. Appending empty array\n",
      "Exception message: 'NoneType' object is not subscriptable\n"
     ]
    },
    {
     "name": "stdout",
     "output_type": "stream",
     "text": [
      "5yhe Featurization Failed\n"
     ]
    },
    {
     "name": "stderr",
     "output_type": "stream",
     "text": [
      "Failed to featurize datapoint 0, OCC1OC(OCC2OC([NH2+]O)C(O)C2O)C(O)C1O. Appending empty array\n",
      "Exception message: 'NoneType' object is not subscriptable\n"
     ]
    },
    {
     "name": "stdout",
     "output_type": "stream",
     "text": [
      "5m1z Featurization Failed\n"
     ]
    },
    {
     "name": "stderr",
     "output_type": "stream",
     "text": [
      "Failed to featurize datapoint 0, None. Appending empty array\n",
      "Exception message: Python argument types in\n",
      "    rdkit.Chem.rdmolfiles.MolToSmiles(NoneType)\n",
      "did not match C++ signature:\n",
      "    MolToSmiles(class RDKit::ROMol mol, bool isomericSmiles=False, bool kekuleSmiles=False, int rootedAtAtom=-1, bool canonical=True, bool allBondsExplicit=False, bool allHsExplicit=False)\n"
     ]
    },
    {
     "name": "stdout",
     "output_type": "stream",
     "text": [
      "4u0m Featurization Failed\n",
      "1ch8 Featurization Failed\n"
     ]
    },
    {
     "name": "stderr",
     "output_type": "stream",
     "text": [
      "Failed to featurize datapoint 0, COC(C(O)CO)C1OC(C(=O)[O-])CC(NC(N)=[NH2+])C1NC(C)=O. Appending empty array\n",
      "Exception message: 'NoneType' object is not subscriptable\n"
     ]
    },
    {
     "name": "stdout",
     "output_type": "stream",
     "text": [
      "3tia Featurization Failed\n"
     ]
    },
    {
     "name": "stderr",
     "output_type": "stream",
     "text": [
      "Failed to featurize datapoint 0, CC(C)(C)c1cccc(C[NH2+]C2C[S+](O)CC(Cc3cc(F)c(N)c(OC(C(F)(F)F)C(F)(F)F)c3)C2O)c1. Appending empty array\n",
      "Exception message: 'NoneType' object is not subscriptable\n"
     ]
    },
    {
     "name": "stdout",
     "output_type": "stream",
     "text": [
      "4lxa Featurization Failed\n"
     ]
    },
    {
     "name": "stderr",
     "output_type": "stream",
     "text": [
      "Failed to featurize datapoint 0, CCCc1cc(=O)[nH]c(=[NH2+])[nH]1. Appending empty array\n",
      "Exception message: 'NoneType' object is not subscriptable\n"
     ]
    },
    {
     "name": "stdout",
     "output_type": "stream",
     "text": [
      "3hvg Featurization Failed\n"
     ]
    },
    {
     "name": "stderr",
     "output_type": "stream",
     "text": [
      "Failed to featurize datapoint 0, O=C([O-])C1(O)C=C(CO)C(O)C(O)C1. Appending empty array\n",
      "Exception message: 'NoneType' object is not subscriptable\n"
     ]
    },
    {
     "name": "stdout",
     "output_type": "stream",
     "text": [
      "4civ Featurization Failed\n",
      "4qlv Featurization Failed\n"
     ]
    },
    {
     "name": "stderr",
     "output_type": "stream",
     "text": [
      "Failed to featurize datapoint 0, [NH2+]=c1[nH]c(=O)c2cc(CCCCc3cc(C(=O)NC(CCC(=O)[O-])C(=O)[O-])cs3)[nH]c2[nH]1. Appending empty array\n",
      "Exception message: 'NoneType' object is not subscriptable\n"
     ]
    },
    {
     "name": "stdout",
     "output_type": "stream",
     "text": [
      "4zyy Featurization Failed\n"
     ]
    },
    {
     "name": "stderr",
     "output_type": "stream",
     "text": [
      "Failed to featurize datapoint 0, C[NH+](C)C1C[NH+](C2CCc3cccc(F)c32)CC1c1ccc(N2CCN(S(C)(=O)=O)CC2)cc1. Appending empty array\n",
      "Exception message: 'NoneType' object is not subscriptable\n"
     ]
    },
    {
     "name": "stdout",
     "output_type": "stream",
     "text": [
      "5k0m Featurization Failed\n",
      "4qkx Featurization Failed\n"
     ]
    },
    {
     "name": "stderr",
     "output_type": "stream",
     "text": [
      "Failed to featurize datapoint 0, CC(C)CC(NC(=O)C(NC(=O)CNC(=O)c1ccccc1)C(C)C)C(=O)NC(CCCC[NH3+])C(=O)NC(CCC(=O)[O-])C(=O)NC(Cc1ccc(O)cc1)C(=O)NCC(=O)NC(C(=O)[O-])C(C)C. Appending empty array\n",
      "Exception message: 'NoneType' object is not subscriptable\n"
     ]
    },
    {
     "name": "stdout",
     "output_type": "stream",
     "text": [
      "4utr Featurization Failed\n"
     ]
    },
    {
     "name": "stderr",
     "output_type": "stream",
     "text": [
      "Failed to featurize datapoint 0, None. Appending empty array\n",
      "Exception message: Python argument types in\n",
      "    rdkit.Chem.rdmolfiles.MolToSmiles(NoneType)\n",
      "did not match C++ signature:\n",
      "    MolToSmiles(class RDKit::ROMol mol, bool isomericSmiles=False, bool kekuleSmiles=False, int rootedAtAtom=-1, bool canonical=True, bool allBondsExplicit=False, bool allHsExplicit=False)\n"
     ]
    },
    {
     "name": "stdout",
     "output_type": "stream",
     "text": [
      "2w78 Featurization Failed\n"
     ]
    },
    {
     "name": "stderr",
     "output_type": "stream",
     "text": [
      "Failed to featurize datapoint 0, [NH3+]C(CSCC[B-](O)(O)O)C(=O)[O-]. Appending empty array\n",
      "Exception message: 'NoneType' object is not subscriptable\n"
     ]
    },
    {
     "name": "stdout",
     "output_type": "stream",
     "text": [
      "1pq3 Featurization Failed\n"
     ]
    },
    {
     "name": "stderr",
     "output_type": "stream",
     "text": [
      "Failed to featurize datapoint 0, CC(=O)NC(C(=O)NC(Cc1ccccc1)C(O)C[NH+](CC1CCCCC1)NC(=O)C(NC(C)=O)C(C)C)C(C)C. Appending empty array\n",
      "Exception message: 'NoneType' object is not subscriptable\n"
     ]
    },
    {
     "name": "stdout",
     "output_type": "stream",
     "text": [
      "1hih Featurization Failed\n"
     ]
    },
    {
     "name": "stderr",
     "output_type": "stream",
     "text": [
      "Failed to featurize datapoint 0, CCCC(=O)NCCCCC([NH3+])C(=O)NCC(=O)NCC(=O)NC(CCCCNC(=O)CCC)C(=O)NCC(=O)NC(CC(C)C)C(=O)NCC(=O)[O-]. Appending empty array\n",
      "Exception message: 'NoneType' object is not subscriptable\n"
     ]
    },
    {
     "name": "stdout",
     "output_type": "stream",
     "text": [
      "4yym Featurization Failed\n"
     ]
    },
    {
     "name": "stderr",
     "output_type": "stream",
     "text": [
      "Failed to featurize datapoint 0, Cn1c(-c2ccc(N3CC[NH+](C)CC3)cc2)cc2c(Cl)cc(C(N)=O)nc21. Appending empty array\n",
      "Exception message: 'NoneType' object is not subscriptable\n"
     ]
    },
    {
     "name": "stdout",
     "output_type": "stream",
     "text": [
      "5kcx Featurization Failed\n",
      "5vjn Featurization Failed\n"
     ]
    },
    {
     "name": "stderr",
     "output_type": "stream",
     "text": [
      "Failed to featurize datapoint 0, CCC(C)C(NC(=O)C(Cc1c[nH]c2ccccc12)NC(=O)C([NH3+])C(C)O)C(=O)NC(CCC(=O)[O-])C(=O)NC(CC(N)=O)C(=O)NC(CCCC[NH3+])C(=O)NC(CC(C)C)C(=O)NC(Cc1ccc(O)cc1)C(=O)NCC(=O)NC(CCSC)C(=O)O. Appending empty array\n",
      "Exception message: 'NoneType' object is not subscriptable\n"
     ]
    },
    {
     "name": "stdout",
     "output_type": "stream",
     "text": [
      "1uef Featurization Failed\n",
      "3fea Featurization Failed\n",
      "4kvm Featurization Failed\n"
     ]
    },
    {
     "name": "stderr",
     "output_type": "stream",
     "text": [
      "Failed to featurize datapoint 0, CC(C)CC(NC(=O)C(Cc1c[nH]c2ccccc12)NC(=O)C(CC(=O)[O-])NC(=O)C([NH3+])CC(N)=O)C(=O)NC(CC(C)C)C(=O)N1CCCC1C(=O)NC(CO)C(=O)NC(Cc1ccc(O)cc1)C(=O)[O-]. Appending empty array\n",
      "Exception message: 'NoneType' object is not subscriptable\n"
     ]
    },
    {
     "name": "stdout",
     "output_type": "stream",
     "text": [
      "4eoy Featurization Failed\n"
     ]
    },
    {
     "name": "stderr",
     "output_type": "stream",
     "text": [
      "Failed to featurize datapoint 0, O=C(OC1CCOCC1)C1CC2(C[NH2+]1)C(=O)Nc1ccccc12. Appending empty array\n",
      "Exception message: 'NoneType' object is not subscriptable\n"
     ]
    },
    {
     "name": "stdout",
     "output_type": "stream",
     "text": [
      "3udk Featurization Failed\n",
      "6bny Featurization Failed\n",
      "3shv Featurization Failed\n"
     ]
    },
    {
     "name": "stderr",
     "output_type": "stream",
     "text": [
      "Failed to featurize datapoint 0, None. Appending empty array\n",
      "Exception message: Python argument types in\n",
      "    rdkit.Chem.rdmolfiles.MolToSmiles(NoneType)\n",
      "did not match C++ signature:\n",
      "    MolToSmiles(class RDKit::ROMol mol, bool isomericSmiles=False, bool kekuleSmiles=False, int rootedAtAtom=-1, bool canonical=True, bool allBondsExplicit=False, bool allHsExplicit=False)\n"
     ]
    },
    {
     "name": "stdout",
     "output_type": "stream",
     "text": [
      "2yak Featurization Failed\n"
     ]
    },
    {
     "name": "stderr",
     "output_type": "stream",
     "text": [
      "Failed to featurize datapoint 0, O=C([O-])c1cc(-c2ccc(C(=S)NCc3ccc(-c4ccc(C(=O)[O-])o4)cc3)cc2)n(-c2ccc(Cl)c(Cl)c2)n1. Appending empty array\n",
      "Exception message: 'NoneType' object is not subscriptable\n"
     ]
    },
    {
     "name": "stdout",
     "output_type": "stream",
     "text": [
      "4r4o Featurization Failed\n"
     ]
    },
    {
     "name": "stderr",
     "output_type": "stream",
     "text": [
      "Failed to featurize datapoint 0, [NH3+]C(Cc1ccccc1)C(=O)N1CCCC1C(=O)NCCNc1ccncc1. Appending empty array\n",
      "Exception message: 'NoneType' object is not subscriptable\n"
     ]
    },
    {
     "name": "stdout",
     "output_type": "stream",
     "text": [
      "1qbv Featurization Failed\n"
     ]
    },
    {
     "name": "stderr",
     "output_type": "stream",
     "text": [
      "Failed to featurize datapoint 0, CC(C)CC(NC(=O)C(CC(=O)[O-])NC(=O)C(Cc1ccccc1)NC(=O)C1CCCN1C(=O)C(Cc1ccccc1)NC(=O)C1CCCN1C(=O)C(CO)NC(=O)C(CC(C)C)NC(=O)C([NH3+])CCC(N)=O)C(=O)[O-]. Appending empty array\n",
      "Exception message: 'NoneType' object is not subscriptable\n"
     ]
    },
    {
     "name": "stdout",
     "output_type": "stream",
     "text": [
      "3tf7 Featurization Failed\n",
      "1jjk Featurization Failed\n"
     ]
    },
    {
     "name": "stderr",
     "output_type": "stream",
     "text": [
      "Failed to featurize datapoint 0, C[NH2+]CCCCC(NC(=O)C(CCCNC(N)=[NH2+])NC(=O)C([NH3+])Cc1cnc[nH]1)C(=O)NC(C(=O)NC(CC(C)C)C(=O)NC(CCCNC(N)=[NH2+])C(=O)[O-])C(C)C. Appending empty array\n",
      "Exception message: 'NoneType' object is not subscriptable\n"
     ]
    },
    {
     "name": "stdout",
     "output_type": "stream",
     "text": [
      "3h6z Featurization Failed\n"
     ]
    },
    {
     "name": "stderr",
     "output_type": "stream",
     "text": [
      "Failed to featurize datapoint 0, [NH2+]=C[N-]C1CCc2ccc(-c3ncnc4[n-]ccc34)cc21. Appending empty array\n",
      "Exception message: 'NoneType' object is not subscriptable\n"
     ]
    },
    {
     "name": "stdout",
     "output_type": "stream",
     "text": [
      "6dud Featurization Failed\n"
     ]
    },
    {
     "name": "stderr",
     "output_type": "stream",
     "text": [
      "Failed to featurize datapoint 0, CC1NC(=O)c2cc(-c3cccc4c(=O)n(C)c(=[NH+]C(C)(C)C)[nH]c34)[nH]c21. Appending empty array\n",
      "Exception message: 'NoneType' object is not subscriptable\n"
     ]
    },
    {
     "name": "stdout",
     "output_type": "stream",
     "text": [
      "5ipj Featurization Failed\n",
      "4dj7 Featurization Failed\n"
     ]
    },
    {
     "name": "stderr",
     "output_type": "stream",
     "text": [
      "Failed to featurize datapoint 0, O=C([O-])c1cccc(-c2ccc(-c3nnn[nH]3)cc2)c1. Appending empty array\n",
      "Exception message: 'NoneType' object is not subscriptable\n"
     ]
    },
    {
     "name": "stdout",
     "output_type": "stream",
     "text": [
      "5qav Featurization Failed\n",
      "5ald Featurization Failed\n"
     ]
    },
    {
     "name": "stderr",
     "output_type": "stream",
     "text": [
      "Failed to featurize datapoint 0, O=C(NCc1ccncc1)c1ccc(Oc2ccc(C#CC3(O)C[NH+]4CCC3CC4)cc2)cc1. Appending empty array\n",
      "Exception message: 'NoneType' object is not subscriptable\n"
     ]
    },
    {
     "name": "stdout",
     "output_type": "stream",
     "text": [
      "2yig Featurization Failed\n"
     ]
    },
    {
     "name": "stderr",
     "output_type": "stream",
     "text": [
      "Failed to featurize datapoint 0, O=C([O-])c1ccnc(C[NH2+]Cc2ccccc2)c1. Appending empty array\n",
      "Exception message: 'NoneType' object is not subscriptable\n"
     ]
    },
    {
     "name": "stdout",
     "output_type": "stream",
     "text": [
      "5f5i Featurization Failed\n"
     ]
    },
    {
     "name": "stderr",
     "output_type": "stream",
     "text": [
      "Failed to featurize datapoint 0, CN1CC(C(=O)NCC[NH3+])CCC1=O. Appending empty array\n",
      "Exception message: 'NoneType' object is not subscriptable\n"
     ]
    },
    {
     "name": "stdout",
     "output_type": "stream",
     "text": [
      "6fg6 Featurization Failed\n",
      "1nu1 Featurization Failed\n",
      "3rbm Featurization Failed\n",
      "3v9b Featurization Failed\n"
     ]
    },
    {
     "name": "stderr",
     "output_type": "stream",
     "text": [
      "Failed to featurize datapoint 0, O=C(c1ccc(F)nc1)N1CCCC1c1nc(Nc2cc(C3C=C3)[nH]n2)c2cccn2n1. Appending empty array\n",
      "Exception message: 'NoneType' object is not subscriptable\n"
     ]
    },
    {
     "name": "stdout",
     "output_type": "stream",
     "text": [
      "3nw5 Featurization Failed\n"
     ]
    },
    {
     "name": "stderr",
     "output_type": "stream",
     "text": [
      "Failed to featurize datapoint 0, COc1cncc(-c2cnc(NC3CC[NH2+]CC3)c3[nH]c(=O)c(C)cc23)c1. Appending empty array\n",
      "Exception message: 'NoneType' object is not subscriptable\n"
     ]
    },
    {
     "name": "stdout",
     "output_type": "stream",
     "text": [
      "5a5s Featurization Failed\n"
     ]
    },
    {
     "name": "stderr",
     "output_type": "stream",
     "text": [
      "Failed to featurize datapoint 0, CCC(C)C([NH3+])C(=O)NC(C(=O)NC(Cc1ccccc1)C(=O)NC(CCC(=O)[O-])C(=O)NC(CC(=O)[O-])C(=O)NC(CC(C)C)C(=O)NC(CC(C)C)C(=O)NC(CC(=O)[O-])C(=O)NC(Cc1ccc(O)cc1)C(=O)NC(Cc1ccc(O)cc1)C(=O)NCC(=O)N1CCCC1C(=O)[O-])C(C)O. Appending empty array\n",
      "Exception message: 'NoneType' object is not subscriptable\n"
     ]
    },
    {
     "name": "stdout",
     "output_type": "stream",
     "text": [
      "3ds3 Featurization Failed\n",
      "4ran Featurization Failed\n"
     ]
    },
    {
     "name": "stderr",
     "output_type": "stream",
     "text": [
      "Failed to featurize datapoint 0, CCC(C)C(NC(=O)C(CCCC[NH3+])NC(=O)C(Cc1c[nH]cn1)NC(=O)C([NH3+])CCCC[NH3+])C(=O)NC(CC(C)C)C(=O)NC(Cc1c[nH]cn1)C(=O)NC(CCCNC(N)=[NH2+])C(=O)NC(CC(C)C)C(=O)NC(CC(C)C)C(=O)NC(CCC(N)=O)C(=O)NC(CC(=O)[O-])C(=O)[O-]. Appending empty array\n",
      "Exception message: 'PUGREST.BadRequest: error: '\n"
     ]
    },
    {
     "name": "stdout",
     "output_type": "stream",
     "text": [
      "3oap Featurization Failed\n"
     ]
    },
    {
     "name": "stderr",
     "output_type": "stream",
     "text": [
      "Failed to featurize datapoint 0, COC1C[NH+](CC(=O)Nc2ccc(-n3ccccc3=O)cc2F)CC1NC(=O)c1ccc(Cl)s1. Appending empty array\n",
      "Exception message: 'NoneType' object is not subscriptable\n"
     ]
    },
    {
     "name": "stdout",
     "output_type": "stream",
     "text": [
      "2vvc Featurization Failed\n",
      "5mim Featurization Failed\n"
     ]
    },
    {
     "name": "stderr",
     "output_type": "stream",
     "text": [
      "Failed to featurize datapoint 0, C=CC1CC1(NC(=O)C1CC(Oc2nc3cc(OC)ccc3nc2C(C)C)CN1C(=O)C(NC(=O)OC1CCCC1)C(C)(C)C)C(=O)NS(=O)(=O)C1(C)CC1. Appending empty array\n",
      "Exception message: 'NoneType' object is not subscriptable\n"
     ]
    },
    {
     "name": "stdout",
     "output_type": "stream",
     "text": [
      "6cvx Featurization Failed\n",
      "6b67 Featurization Failed\n"
     ]
    },
    {
     "name": "stderr",
     "output_type": "stream",
     "text": [
      "Failed to featurize datapoint 0, CCCC(C)[NH+]1CCC(N(Cc2ccccc2NC(=O)CC)C(=O)Nc2cccc(C(F)(F)F)c2)CC1. Appending empty array\n",
      "Exception message: 'NoneType' object is not subscriptable\n"
     ]
    },
    {
     "name": "stdout",
     "output_type": "stream",
     "text": [
      "5v88 Featurization Failed\n"
     ]
    },
    {
     "name": "stderr",
     "output_type": "stream",
     "text": [
      "Failed to featurize datapoint 0, CCCCC(C[NH2+]C(CCCC)C(=O)NC(CCC(N)=O)C(=O)NC(CCCNC(N)=[NH2+])C(N)=O)NC(=O)C(NC(=O)C(NC(C)=O)C(C)OC)C(C)CC. Appending empty array\n",
      "Exception message: 'NoneType' object is not subscriptable\n"
     ]
    },
    {
     "name": "stdout",
     "output_type": "stream",
     "text": [
      "2aod Featurization Failed\n"
     ]
    },
    {
     "name": "stderr",
     "output_type": "stream",
     "text": [
      "Failed to featurize datapoint 0, O=C1CC(=O)C(Cl)C2=C1C(=O)NCCCC=CCCC(C(=O)NCc1ccccc1)C(=O)C2. Appending empty array\n",
      "Exception message: 'NoneType' object is not subscriptable\n"
     ]
    },
    {
     "name": "stdout",
     "output_type": "stream",
     "text": [
      "2xx5 Featurization Failed\n"
     ]
    },
    {
     "name": "stderr",
     "output_type": "stream",
     "text": [
      "Failed to featurize datapoint 0, Cc1nc(C)c(-c2n[nH]c3c2C(=O)c2c(NC(=O)N[NH+]4CC[NH+](C)CC4)cccc2-3)s1. Appending empty array\n",
      "Exception message: 'NoneType' object is not subscriptable\n"
     ]
    },
    {
     "name": "stdout",
     "output_type": "stream",
     "text": [
      "2b52 Featurization Failed\n"
     ]
    },
    {
     "name": "stderr",
     "output_type": "stream",
     "text": [
      "Failed to featurize datapoint 0, CC(C)CC(NC(=O)C(CC(=O)[O-])NC(=O)C(CO)NC(=O)C(Cc1ccccc1)NC(=O)C(NC(=O)C([NH3+])CCC(=O)[O-])C(C)O)C(=O)NC(Cc1c[nH]c2ccccc12)C(=O)NC(CCCC[NH3+])C(=O)NC(CC(C)C)C(=O)NC(CC(C)C)C(=O)N1CCCC1C(=O)[O-]. Appending empty array\n",
      "Exception message: 'NoneType' object is not subscriptable\n"
     ]
    },
    {
     "name": "stdout",
     "output_type": "stream",
     "text": [
      "4hfz Featurization Failed\n"
     ]
    },
    {
     "name": "stderr",
     "output_type": "stream",
     "text": [
      "Failed to featurize datapoint 0, CCc1[nH]c2nc(Sc3cnc4ncc(=O)[nH]c4c3)nc(N3CCC([NH3+])C3)c2c1Cl. Appending empty array\n",
      "Exception message: 'NoneType' object is not subscriptable\n"
     ]
    },
    {
     "name": "stdout",
     "output_type": "stream",
     "text": [
      "4ggl Featurization Failed\n"
     ]
    },
    {
     "name": "stderr",
     "output_type": "stream",
     "text": [
      "Failed to featurize datapoint 0, COc1ccc(Cn2nnc3c2C(C)(O)CCC3OC(=O)NC(C)C)cc1. Appending empty array\n",
      "Exception message: 'NoneType' object is not subscriptable\n"
     ]
    },
    {
     "name": "stdout",
     "output_type": "stream",
     "text": [
      "5d6e Featurization Failed\n"
     ]
    },
    {
     "name": "stderr",
     "output_type": "stream",
     "text": [
      "Failed to featurize datapoint 0, Cc1cc(=O)[nH]c2cc(-c3ccc(C(=O)[O-])cc3Cl)ccc12. Appending empty array\n",
      "Exception message: 'NoneType' object is not subscriptable\n"
     ]
    },
    {
     "name": "stdout",
     "output_type": "stream",
     "text": [
      "4j3m Featurization Failed\n",
      "3wf6 Featurization Failed\n",
      "4a0j Featurization Failed\n",
      "4og6 Featurization Failed\n"
     ]
    },
    {
     "name": "stderr",
     "output_type": "stream",
     "text": [
      "Failed to featurize datapoint 0, NC(=O)Nc1sc(-c2ccccc2)cc1C(=O)NC1CCC[NH2+]C1. Appending empty array\n",
      "Exception message: 'NoneType' object is not subscriptable\n"
     ]
    },
    {
     "name": "stdout",
     "output_type": "stream",
     "text": [
      "2ydk Featurization Failed\n",
      "2np9 Featurization Failed\n"
     ]
    },
    {
     "name": "stderr",
     "output_type": "stream",
     "text": [
      "Failed to featurize datapoint 0, NC(=O)C(CCC(=O)[O-])NC(=O)c1ccc(-c2cc(-c3ccccc3)cs2)cc1. Appending empty array\n",
      "Exception message: 'NoneType' object is not subscriptable\n"
     ]
    },
    {
     "name": "stdout",
     "output_type": "stream",
     "text": [
      "4efs Featurization Failed\n",
      "3ued Featurization Failed\n"
     ]
    },
    {
     "name": "stderr",
     "output_type": "stream",
     "text": [
      "Failed to featurize datapoint 0, Nc1[nH]nc2cc(-c3ccnc(C(Cc4ccccc4)NC(=O)C4CCC(C[NH3+])CC4)c3)ccc12. Appending empty array\n",
      "Exception message: 'NoneType' object is not subscriptable\n"
     ]
    },
    {
     "name": "stdout",
     "output_type": "stream",
     "text": [
      "4wxi Featurization Failed\n",
      "6dvm Featurization Failed\n"
     ]
    },
    {
     "name": "stderr",
     "output_type": "stream",
     "text": [
      "Failed to featurize datapoint 0, c1ccc(C(OC2CC[NH+](CCCc3nnn[nH]3)CC2)c2ccccc2)cc1. Appending empty array\n",
      "Exception message: 'NoneType' object is not subscriptable\n"
     ]
    },
    {
     "name": "stdout",
     "output_type": "stream",
     "text": [
      "2cvd Featurization Failed\n"
     ]
    },
    {
     "name": "stderr",
     "output_type": "stream",
     "text": [
      "Failed to featurize datapoint 0, OC(CCCCCCc1ccccc1)c1nnc(-c2ccccn2)o1. Appending empty array\n",
      "Exception message: 'NoneType' object is not subscriptable\n"
     ]
    },
    {
     "name": "stdout",
     "output_type": "stream",
     "text": [
      "3pr0 Featurization Failed\n"
     ]
    },
    {
     "name": "stderr",
     "output_type": "stream",
     "text": [
      "Failed to featurize datapoint 0, CC(=O)NC1C(O)CC(OC2C(O)C(O)OC(CO)C2O)(C(=O)[O-])OC1C(O)C(O)CO. Appending empty array\n",
      "Exception message: 'NoneType' object is not subscriptable\n"
     ]
    },
    {
     "name": "stdout",
     "output_type": "stream",
     "text": [
      "4k66 Featurization Failed\n",
      "4yog Featurization Failed\n",
      "4q4e Featurization Failed\n",
      "1aku Featurization Failed\n"
     ]
    },
    {
     "name": "stderr",
     "output_type": "stream",
     "text": [
      "Failed to featurize datapoint 0, CC(=O)NC1C(O)OC(CO)C(OC2OC(CO)C(O)C(NC(=O)c3ccccc3)C2O)C1O. Appending empty array\n",
      "Exception message: 'NoneType' object is not subscriptable\n"
     ]
    },
    {
     "name": "stdout",
     "output_type": "stream",
     "text": [
      "2xg3 Featurization Failed\n"
     ]
    },
    {
     "name": "stderr",
     "output_type": "stream",
     "text": [
      "Failed to featurize datapoint 0, CC(C)(C)NC(=O)C1(c2c(C(=O)[O-])[nH]c3cc(Cl)ccc23)N2C(=O)C21c1ccc(OCc2ccc(Cl)cc2)cc1. Appending empty array\n",
      "Exception message: 'NoneType' object is not subscriptable\n"
     ]
    },
    {
     "name": "stdout",
     "output_type": "stream",
     "text": [
      "4mdn Featurization Failed\n"
     ]
    },
    {
     "name": "stderr",
     "output_type": "stream",
     "text": [
      "Failed to featurize datapoint 0, CCC(C)C1NC(=O)C(CCC(N)=O)NC(=O)C(CCC(N)=O)NC(=O)C2CCCN2C(=O)C2CCCN2C(=O)C(CO)NC(=O)C(CCSC)NC(=O)C(CCCNC(N)=[NH2+])NC(=O)C(C(C)O)NC(=O)C(C(C)O)NC(=O)C(Cc2c[nH]c3cc(Cl)ccc23)NC(=O)C([NH3+])CSSCC(C(=O)[O-])NC1=O. Appending empty array\n",
      "Exception message: 'NoneType' object is not subscriptable\n"
     ]
    },
    {
     "name": "stdout",
     "output_type": "stream",
     "text": [
      "4z0f Featurization Failed\n"
     ]
    },
    {
     "name": "stderr",
     "output_type": "stream",
     "text": [
      "Failed to featurize datapoint 0, N#Cc1ccnc2[nH]c(-c3ccc(N4CC[NH2+]CC4)cc3)cc12. Appending empty array\n",
      "Exception message: 'NoneType' object is not subscriptable\n"
     ]
    },
    {
     "name": "stdout",
     "output_type": "stream",
     "text": [
      "5toe Featurization Failed\n"
     ]
    },
    {
     "name": "stderr",
     "output_type": "stream",
     "text": [
      "Failed to featurize datapoint 0, Cc1cccc(Cl)c1NC(=O)c1cnc(Nc2cccc(C(=O)NC3CC[NH2+]CC3)c2)s1. Appending empty array\n",
      "Exception message: 'NoneType' object is not subscriptable\n"
     ]
    },
    {
     "name": "stdout",
     "output_type": "stream",
     "text": [
      "5njz Featurization Failed\n"
     ]
    },
    {
     "name": "stderr",
     "output_type": "stream",
     "text": [
      "Failed to featurize datapoint 0, COc1c(NC(=O)c2ccc(NC(=O)c3ccc(NC(=O)C(CC#N)NC(=O)c4ccc(NC(=O)C(C)=Cc5ccc(O)cc5)cc4)cc3)c(OC)c2O)ccc(C(=O)[O-])c1O. Appending empty array\n",
      "Exception message: 'NoneType' object is not subscriptable\n"
     ]
    },
    {
     "name": "stdout",
     "output_type": "stream",
     "text": [
      "6et8 Featurization Failed\n",
      "1r10 Featurization Failed\n"
     ]
    },
    {
     "name": "stderr",
     "output_type": "stream",
     "text": [
      "Failed to featurize datapoint 0, CCC(C)C(NC(=O)C(CO)NC(=O)C(Cc1c[nH]c2ccccc12)NC(=O)C([NH3+])CC(=O)[O-])C(=O)[O-]. Appending empty array\n",
      "Exception message: 'NoneType' object is not subscriptable\n"
     ]
    },
    {
     "name": "stdout",
     "output_type": "stream",
     "text": [
      "3t4p Featurization Failed\n"
     ]
    },
    {
     "name": "stderr",
     "output_type": "stream",
     "text": [
      "Failed to featurize datapoint 0, COc1ccc(Nc2nc3cc(C(=O)[O-])ccc3n2Cc2ccccc2C(F)(F)F)cc1F. Appending empty array\n",
      "Exception message: 'NoneType' object is not subscriptable\n"
     ]
    },
    {
     "name": "stdout",
     "output_type": "stream",
     "text": [
      "3zcw Featurization Failed\n",
      "4yl0 Featurization Failed\n"
     ]
    },
    {
     "name": "stderr",
     "output_type": "stream",
     "text": [
      "Failed to featurize datapoint 0, Cc1cc(S(=O)(=O)N(Cc2ccccc2)C(C)C(=O)NO)ccc1F. Appending empty array\n",
      "Exception message: 'NoneType' object is not subscriptable\n"
     ]
    },
    {
     "name": "stdout",
     "output_type": "stream",
     "text": [
      "4pkr Featurization Failed\n",
      "1vyj Featurization Failed\n"
     ]
    },
    {
     "name": "stderr",
     "output_type": "stream",
     "text": [
      "Failed to featurize datapoint 0, CCNC(=O)c1nc(C2CCCN2C(C)=O)[nH]c(=O)c1O. Appending empty array\n",
      "Exception message: 'NoneType' object is not subscriptable\n"
     ]
    },
    {
     "name": "stdout",
     "output_type": "stream",
     "text": [
      "5wei Featurization Failed\n"
     ]
    },
    {
     "name": "stderr",
     "output_type": "stream",
     "text": [
      "Failed to featurize datapoint 0, CC(C)CC1NC(=O)C(CCCNC(N)=[NH2+])NC(=O)C(CCCNC(=[NH2+])NCCCO)NC(=O)C(C(C)O)NC(=O)C(CO)NC(=O)C(CC(C)C)NC(=O)C(CC(=O)[O-])NC(=O)C(Cc2ccccc2)NC(=O)C(CCC(N)=O)NC(=O)CCCCCCNC(=O)C(CCCC[NH3+])NC1=O. Appending empty array\n",
      "Exception message: 'PUGREST.BadRequest: error: '\n"
     ]
    },
    {
     "name": "stdout",
     "output_type": "stream",
     "text": [
      "6azk Featurization Failed\n"
     ]
    },
    {
     "name": "stderr",
     "output_type": "stream",
     "text": [
      "Failed to featurize datapoint 0, CC([NH3+])C(=O)NC(CCCNC(N)=[NH2+])C(=O)NC(C(=O)NC(C)C(=O)NC(C)C(=O)[O-])C(C)O. Appending empty array\n",
      "Exception message: 'NoneType' object is not subscriptable\n"
     ]
    },
    {
     "name": "stdout",
     "output_type": "stream",
     "text": [
      "4o45 Featurization Failed\n",
      "4dwg Featurization Failed\n"
     ]
    },
    {
     "name": "stderr",
     "output_type": "stream",
     "text": [
      "Failed to featurize datapoint 0, CNC(=O)c1ccc(F)cc1C(C)Oc1nc(-c2cccnc2OC)cnc1N. Appending empty array\n",
      "Exception message: 'NoneType' object is not subscriptable\n"
     ]
    },
    {
     "name": "stdout",
     "output_type": "stream",
     "text": [
      "4cmo Featurization Failed\n",
      "3d9l Featurization Failed\n"
     ]
    },
    {
     "name": "stderr",
     "output_type": "stream",
     "text": [
      "Failed to featurize datapoint 0, NC(=O)C(CCCC[NH3+])NC(=O)c1ccc(-c2cccnc2)cc1. Appending empty array\n",
      "Exception message: 'NoneType' object is not subscriptable\n"
     ]
    },
    {
     "name": "stdout",
     "output_type": "stream",
     "text": [
      "4u58 Featurization Failed\n"
     ]
    },
    {
     "name": "stderr",
     "output_type": "stream",
     "text": [
      "Failed to featurize datapoint 0, COc1c(C(=O)CCC2CC[NH+](CC3CCCCC3)CC2)cc(Cl)c2[nH]ccc12. Appending empty array\n",
      "Exception message: 'NoneType' object is not subscriptable\n"
     ]
    },
    {
     "name": "stdout",
     "output_type": "stream",
     "text": [
      "6ezh Featurization Failed\n"
     ]
    },
    {
     "name": "stderr",
     "output_type": "stream",
     "text": [
      "Failed to featurize datapoint 0, CC(C)CC1NC(=O)CNC(=O)C([NH3+])CSSCC(C(=O)NC(CC(N)=O)C(=O)NC(Cc2ccccc2)C(=O)NCC(=O)[O-])NC(=O)C(CCC(=O)[O-])NC1=O. Appending empty array\n",
      "Exception message: 'NoneType' object is not subscriptable\n"
     ]
    },
    {
     "name": "stdout",
     "output_type": "stream",
     "text": [
      "5wtt Featurization Failed\n"
     ]
    },
    {
     "name": "stderr",
     "output_type": "stream",
     "text": [
      "Failed to featurize datapoint 0, O=C([O-])COc1c(C(=O)[O-])sc2c1sc1cc(NC3CCN(S(=O)(=O)Cc4ccccc4)CC3)ccc12. Appending empty array\n",
      "Exception message: 'NoneType' object is not subscriptable\n"
     ]
    },
    {
     "name": "stdout",
     "output_type": "stream",
     "text": [
      "2b07 Featurization Failed\n"
     ]
    },
    {
     "name": "stderr",
     "output_type": "stream",
     "text": [
      "Failed to featurize datapoint 0, CC1CCC(C(=O)N(c2ccc(Oc3ccccc3)cc2C(=O)[O-])C(C)C)CC1. Appending empty array\n",
      "Exception message: 'NoneType' object is not subscriptable\n"
     ]
    },
    {
     "name": "stdout",
     "output_type": "stream",
     "text": [
      "4ju7 Featurization Failed\n",
      "2y1n Featurization Failed\n"
     ]
    },
    {
     "name": "stderr",
     "output_type": "stream",
     "text": [
      "Failed to featurize datapoint 0, CCC(C)C(NC(=O)C(NC(=O)C(CC(C)C)NC(=O)C(CO)NC(=O)C([NH3+])CCCC[NH3+])C(C)O)C(=O)NC(Cc1ccc(O)cc1)C(=O)NC(C)C(=O)NC(CCC(N)=O)C(=O)NC(C(=O)NC(CCC(N)=O)C(=O)NC(CCCC[NH3+])C(=O)[O-])C(C)C. Appending empty array\n",
      "Exception message: 'NoneType' object is not subscriptable\n"
     ]
    },
    {
     "name": "stdout",
     "output_type": "stream",
     "text": [
      "1d4t Featurization Failed\n"
     ]
    },
    {
     "name": "stderr",
     "output_type": "stream",
     "text": [
      "Failed to featurize datapoint 0, CC(C)CC(NC(=O)C(CCCNC(N)=[NH2+])NC(=O)C(NC(=O)C(CC(=O)[O-])NC(=O)C([NH3+])CCC(N)=O)C(C)O)C(=O)[O-]. Appending empty array\n",
      "Exception message: 'NoneType' object is not subscriptable\n"
     ]
    },
    {
     "name": "stdout",
     "output_type": "stream",
     "text": [
      "2m0v Featurization Failed\n"
     ]
    },
    {
     "name": "stderr",
     "output_type": "stream",
     "text": [
      "Failed to featurize datapoint 0, O=C([O-])C(S)=Cc1ccc(F)cc1. Appending empty array\n",
      "Exception message: 'NoneType' object is not subscriptable\n"
     ]
    },
    {
     "name": "stdout",
     "output_type": "stream",
     "text": [
      "5jmx Featurization Failed\n"
     ]
    },
    {
     "name": "stderr",
     "output_type": "stream",
     "text": [
      "Failed to featurize datapoint 0, C=C1C=C(O)C(=O)C(O)C=C1C(=O)[O-]. Appending empty array\n",
      "Exception message: 'NoneType' object is not subscriptable\n"
     ]
    },
    {
     "name": "stdout",
     "output_type": "stream",
     "text": [
      "6e0q Featurization Failed\n"
     ]
    },
    {
     "name": "stderr",
     "output_type": "stream",
     "text": [
      "Failed to featurize datapoint 0, CC1COCC(C)[N+]1=C1CC(=O)N2CCC(C(F)(F)F)N(Cc3ccc(Cl)s3)C2=[NH+]1. Appending empty array\n",
      "Exception message: 'NoneType' object is not subscriptable\n"
     ]
    },
    {
     "name": "stdout",
     "output_type": "stream",
     "text": [
      "4uwk Featurization Failed\n"
     ]
    },
    {
     "name": "stderr",
     "output_type": "stream",
     "text": [
      "Failed to featurize datapoint 0, [NH3+]CCCCC([NH3+])C(=O)NCC(=O)NC(CCCC[NH3+])C(=O)[O-]. Appending empty array\n",
      "Exception message: 'NoneType' object is not subscriptable\n"
     ]
    },
    {
     "name": "stdout",
     "output_type": "stream",
     "text": [
      "1b3l Featurization Failed\n",
      "6fel Featurization Failed\n",
      "2qcm Featurization Failed\n",
      "3l0k Featurization Failed\n",
      "5v7i Featurization Failed\n"
     ]
    },
    {
     "name": "stderr",
     "output_type": "stream",
     "text": [
      "Failed to featurize datapoint 0, NC(=O)CC([NH3+])C(=O)N1CCC(Nc2ccc3c(c2)CN(S(=O)(=O)c2ccc(O)cc2O)C3)CC1. Appending empty array\n",
      "Exception message: 'NoneType' object is not subscriptable\n"
     ]
    },
    {
     "name": "stdout",
     "output_type": "stream",
     "text": [
      "5j6a Featurization Failed\n",
      "3ux0 Featurization Failed\n"
     ]
    },
    {
     "name": "stderr",
     "output_type": "stream",
     "text": [
      "Failed to featurize datapoint 0, CC(NC(=O)C(CC(N)=O)NC(=O)C1CCCN1C(=O)C(CC(=O)[O-])NC(=O)C1CCCN1C(=O)C([NH3+])CC(N)=O)C(=O)NC(CC(N)=O)C(=O)N1CCCC1C(=O)NC(CC(N)=O)C(=O)NC(C(=O)NC(CC(=O)[O-])C(=O)N1CCCC1C(=O)NC(CC(N)=O)C(=O)[O-])C(C)C. Appending empty array\n",
      "Exception message: 'NoneType' object is not subscriptable\n"
     ]
    },
    {
     "name": "stdout",
     "output_type": "stream",
     "text": [
      "6b5m Featurization Failed\n",
      "4z8m Featurization Failed\n",
      "5usf Featurization Failed\n",
      "5vqs Featurization Failed\n"
     ]
    },
    {
     "name": "stderr",
     "output_type": "stream",
     "text": [
      "Failed to featurize datapoint 0, CC(=O)NC1(CC(C)C)CCN(C(CCc2ccccc2)C(=O)NC(Cc2cc(F)cc(F)c2)C(O)C2Cc3ccccc3C[NH2+]2)C1=O. Appending empty array\n",
      "Exception message: 'NoneType' object is not subscriptable\n"
     ]
    },
    {
     "name": "stdout",
     "output_type": "stream",
     "text": [
      "3skg Featurization Failed\n",
      "2pjb Featurization Failed\n"
     ]
    },
    {
     "name": "stderr",
     "output_type": "stream",
     "text": [
      "Failed to featurize datapoint 0, C[NH2+]C(C)C(=O)NC(C(=O)N1CCCC1C(=O)Nc1snnc1-c1ccccc1)C1CCCCC1. Appending empty array\n",
      "Exception message: 'NoneType' object is not subscriptable\n"
     ]
    },
    {
     "name": "stdout",
     "output_type": "stream",
     "text": [
      "3uw4 Featurization Failed\n"
     ]
    },
    {
     "name": "stderr",
     "output_type": "stream",
     "text": [
      "Failed to featurize datapoint 0, CCC(NC(=O)C(NC(=O)C1CCCN1C(=O)C(CCCNC(N)=[NH2+])NC(=O)C([NH3+])CC(C)C)C(C)C)C(=O)NC(CCSC)C(=O)NC(C(=O)NC(CCCNC(N)=[NH2+])C(=O)N1CCCC1C(=O)NC(C(=O)NC(C(=O)[O-])C(C)C)C(C)O)C(C)C. Appending empty array\n",
      "Exception message: 'NoneType' object is not subscriptable\n"
     ]
    },
    {
     "name": "stdout",
     "output_type": "stream",
     "text": [
      "4i7b Featurization Failed\n"
     ]
    },
    {
     "name": "stderr",
     "output_type": "stream",
     "text": [
      "Failed to featurize datapoint 0, COc1ccc(OCCN2CC(C(O)CO)C3CCCC(C2=O)N3S(=O)(=O)c2cc(Cl)cc(Cl)c2)cc1OC. Appending empty array\n",
      "Exception message: 'NoneType' object is not subscriptable\n"
     ]
    },
    {
     "name": "stdout",
     "output_type": "stream",
     "text": [
      "4w9o Featurization Failed\n"
     ]
    },
    {
     "name": "stderr",
     "output_type": "stream",
     "text": [
      "Failed to featurize datapoint 0, CC(O)C([NH3+])C(=O)NC(Cc1ccccc1)C(=O)NC(CCCC[NH3+])C(=O)NC(CCCC[NH3+])C(=O)NC(C(=O)NC(CC(N)=O)C(=O)[O-])C(C)O. Appending empty array\n",
      "Exception message: 'NoneType' object is not subscriptable\n"
     ]
    },
    {
     "name": "stdout",
     "output_type": "stream",
     "text": [
      "4j86 Featurization Failed\n"
     ]
    },
    {
     "name": "stderr",
     "output_type": "stream",
     "text": [
      "Failed to featurize datapoint 0, CCC(C)C1NC(=O)C(Cc2ccc(O)cc2)NC(=O)C(CCCNC(N)=[NH2+])NC(=O)C(CO)NC(=O)C(Cc2ccc(O)cc2)NC(=O)C(C)NC(=O)C2CCCN2C(=O)C([NH3+])CSSCC(C(=O)[O-])NC(=O)CNC1=O. Appending empty array\n",
      "Exception message: 'NoneType' object is not subscriptable\n"
     ]
    },
    {
     "name": "stdout",
     "output_type": "stream",
     "text": [
      "4zhl Featurization Failed\n"
     ]
    },
    {
     "name": "stderr",
     "output_type": "stream",
     "text": [
      "Failed to featurize datapoint 0, CCc1cc(OC)ccc1-c1ccc(CC(NC(=O)C(CC(=O)[O-])NC(=O)C(CO)NC(=O)C(NC(=O)C(C)(Cc2ccccc2F)NC(=O)C(NC(=O)CNC(=O)C(Cc2nn[nH]n2)NC(=O)C(C)(C)C(=O)NCCc2cnc[nH]2)C(C)O)C(C)O)C(=O)NC(CCCc2cc(C)cc(C)c2)C(N)=O)cc1. Appending empty array\n",
      "Exception message: 'NoneType' object is not subscriptable\n"
     ]
    },
    {
     "name": "stdout",
     "output_type": "stream",
     "text": [
      "5nx2 Featurization Failed\n"
     ]
    },
    {
     "name": "stderr",
     "output_type": "stream",
     "text": [
      "Failed to featurize datapoint 0, CC(=O)NC1C(O)CC(OC2C(O)C(CO)OC(OC3C(CO)OC(O)C(O)C3O)C2O)(C(=O)[O-])OC1C(O)C(O)CO. Appending empty array\n",
      "Exception message: 'NoneType' object is not subscriptable\n"
     ]
    },
    {
     "name": "stdout",
     "output_type": "stream",
     "text": [
      "4c1w Featurization Failed\n"
     ]
    },
    {
     "name": "stderr",
     "output_type": "stream",
     "text": [
      "Failed to featurize datapoint 0, [NH3+]C(CNc1ncc(-c2ccc3c(c2)CC(=O)N3)s1)Cc1ccc(C(F)(F)F)cc1. Appending empty array\n",
      "Exception message: 'NoneType' object is not subscriptable\n"
     ]
    },
    {
     "name": "stdout",
     "output_type": "stream",
     "text": [
      "3l9l Featurization Failed\n"
     ]
    },
    {
     "name": "stderr",
     "output_type": "stream",
     "text": [
      "Failed to featurize datapoint 0, Cc1ccc(C(=O)CC2CCC(O)C3C(O)C(O)C[NH+]23)cc1. Appending empty array\n",
      "Exception message: 'NoneType' object is not subscriptable\n"
     ]
    },
    {
     "name": "stdout",
     "output_type": "stream",
     "text": [
      "3ejq Featurization Failed\n"
     ]
    },
    {
     "name": "stderr",
     "output_type": "stream",
     "text": [
      "Failed to featurize datapoint 0, CC1(c2nc3c(C(N)=O)cccc3[nH]2)CCC[NH2+]1. Appending empty array\n",
      "Exception message: 'NoneType' object is not subscriptable\n"
     ]
    },
    {
     "name": "stdout",
     "output_type": "stream",
     "text": [
      "2rd6 Featurization Failed\n",
      "1tka Featurization Failed\n"
     ]
    },
    {
     "name": "stderr",
     "output_type": "stream",
     "text": [
      "Failed to featurize datapoint 0, CCCCC(C[NH2+]C(CCCC)C(=O)NC(CCC(N)=O)C(=O)NC(CCCNC(N)=[NH2+])C(N)=O)NC(=O)C(NC(=O)C(NC(C)=O)C(C)O)C(C)CC. Appending empty array\n",
      "Exception message: 'NoneType' object is not subscriptable\n"
     ]
    },
    {
     "name": "stdout",
     "output_type": "stream",
     "text": [
      "2aog Featurization Failed\n"
     ]
    },
    {
     "name": "stderr",
     "output_type": "stream",
     "text": [
      "Failed to featurize datapoint 0, CCC(C)C(NC(=O)C1CCCN1C(=O)C(C)NC(=O)C(NC(=O)C(NC(=O)C(C)NC(=O)C(C)NC(=O)C1CCCN1C(=O)C([NH3+])CCCC[NH3+])C(C)C)C(C)C)C(=O)O. Appending empty array\n",
      "Exception message: 'NoneType' object is not subscriptable\n"
     ]
    },
    {
     "name": "stdout",
     "output_type": "stream",
     "text": [
      "2a25 Featurization Failed\n",
      "6ccn Featurization Failed\n",
      "6f3f Featurization Failed\n"
     ]
    },
    {
     "name": "stderr",
     "output_type": "stream",
     "text": [
      "Failed to featurize datapoint 0, CC(C)C(NC(=O)C(CCCNC(N)=[NH2+])NC(=O)C(CCCNC(N)=[NH2+])NC(=O)C([NH3+])CCCNC(N)=[NH2+])C(=O)NC(CCCNC(N)=[NH2+])C(=O)NCc1ccc(C(N)=[NH2+])cc1. Appending empty array\n",
      "Exception message: 'PUGREST.BadRequest: error: '\n"
     ]
    },
    {
     "name": "stdout",
     "output_type": "stream",
     "text": [
      "6eqx Featurization Failed\n",
      "1ai6 Featurization Failed\n"
     ]
    },
    {
     "name": "stderr",
     "output_type": "stream",
     "text": [
      "Failed to featurize datapoint 0, C[NH2+]C1CC2OC(C)(C1OC)n1c3ccccc3c3c4c(c5c6ccccc6n2c5c31)C(O)[NH2+]C4. Appending empty array\n",
      "Exception message: 'NoneType' object is not subscriptable\n"
     ]
    },
    {
     "name": "stdout",
     "output_type": "stream",
     "text": [
      "4erw Featurization Failed\n"
     ]
    },
    {
     "name": "stderr",
     "output_type": "stream",
     "text": [
      "Failed to featurize datapoint 0, CC(C)CC1NC(=O)C(CCCNC(N)=[NH2+])NC(=O)C(CCCNC(N)=O)NC(=O)C(C(C)O)NC(=O)C(CO)NC(=O)C(CC(C)C)NC(=O)C(CC(=O)[O-])NC(=O)C(Cc2ccccc2)NC(=O)C(CCC(N)=O)NC(=O)C2ON2C(=O)CNC(=O)C(CCCC[NH3+])NC1=O. Appending empty array\n",
      "Exception message: 'PUGREST.BadRequest: error: '\n"
     ]
    },
    {
     "name": "stdout",
     "output_type": "stream",
     "text": [
      "5ivz Featurization Failed\n"
     ]
    },
    {
     "name": "stderr",
     "output_type": "stream",
     "text": [
      "Failed to featurize datapoint 0, CC(C)CC(NC(=O)C(CO)NC(=O)C(CO)NC(=O)C(CCC(=O)[O-])NC(=O)C(Cc1ccc(O)cc1)NC(=O)C(Cc1ccc(O)cc1)NC(=O)C(CCCNC(N)=[NH2+])NC(=O)C([NH3+])Cc1c[nH]c2ccccc12)C(=O)NC(CCC(=O)[O-])C(=O)N1CCCC1C(=O)NC(Cc1ccc(O)cc1)C(=O)N1CCCC1C(=O)NC(CC(=O)[O-])C(=O)[O-]. Appending empty array\n",
      "Exception message: 'NoneType' object is not subscriptable\n"
     ]
    },
    {
     "name": "stdout",
     "output_type": "stream",
     "text": [
      "1haa Featurization Failed\n"
     ]
    },
    {
     "name": "stderr",
     "output_type": "stream",
     "text": [
      "Failed to featurize datapoint 0, CC(=O)NC1C(O)CC(OC2C(O)C(CO)OC(OC3C(CO)OC(O)C(O)C3O)C2O)(C(=O)[O-])OC1C(O)C(O)CO. Appending empty array\n",
      "Exception message: 'NoneType' object is not subscriptable\n"
     ]
    },
    {
     "name": "stdout",
     "output_type": "stream",
     "text": [
      "4lbl Featurization Failed\n"
     ]
    },
    {
     "name": "stderr",
     "output_type": "stream",
     "text": [
      "Failed to featurize datapoint 0, COC(=O)C1CC(C(=O)[O-])OC1C(CC(C)C)NC(C)=O. Appending empty array\n",
      "Exception message: 'NoneType' object is not subscriptable\n"
     ]
    },
    {
     "name": "stdout",
     "output_type": "stream",
     "text": [
      "1xog Featurization Failed\n",
      "2z50 Featurization Failed\n"
     ]
    },
    {
     "name": "stderr",
     "output_type": "stream",
     "text": [
      "Failed to featurize datapoint 0, CC(NC(=O)C(Cc1ccccc1)NC(=O)C1CCC[NH2+]1)C(=O)NC(C(=O)NC(CS)C(=O)NC(CC(=O)[O-])C(=O)NC(CO)C(=O)[O-])C(C)O. Appending empty array\n",
      "Exception message: 'NoneType' object is not subscriptable\n"
     ]
    },
    {
     "name": "stdout",
     "output_type": "stream",
     "text": [
      "4tky Featurization Failed\n"
     ]
    },
    {
     "name": "stderr",
     "output_type": "stream",
     "text": [
      "Failed to featurize datapoint 0, CCC(C=O)C(CNS(=O)(=O)c1ccc([N+](=O)[O-])cc1)C(=O)[O-]. Appending empty array\n",
      "Exception message: 'NoneType' object is not subscriptable\n"
     ]
    },
    {
     "name": "stdout",
     "output_type": "stream",
     "text": [
      "1e37 Featurization Failed\n"
     ]
    },
    {
     "name": "stderr",
     "output_type": "stream",
     "text": [
      "Failed to featurize datapoint 0, O=C([O-])CNC(=O)c1c(O)n(C2CCCCC2)c(=O)n(C2CCCCC2)c1=O. Appending empty array\n",
      "Exception message: 'NoneType' object is not subscriptable\n"
     ]
    },
    {
     "name": "stdout",
     "output_type": "stream",
     "text": [
      "5op6 Featurization Failed\n"
     ]
    },
    {
     "name": "stderr",
     "output_type": "stream",
     "text": [
      "Failed to featurize datapoint 0, COc1ccc(-c2nc3cc(F)ccc3n2C(C(=O)NC2CCC(C(=O)[O-])CC2)C2CCCCC2)c(OC)n1. Appending empty array\n",
      "Exception message: 'NoneType' object is not subscriptable\n"
     ]
    },
    {
     "name": "stdout",
     "output_type": "stream",
     "text": [
      "5q1f Featurization Failed\n"
     ]
    },
    {
     "name": "stderr",
     "output_type": "stream",
     "text": [
      "Failed to featurize datapoint 0, CCC(C)C1NC(=O)C(C)(NC(=O)C(CCC(N)=O)NC(=O)C2CCCN2C(=O)C(Cc2c[nH]c3ccccc23)NC(=O)C([NH3+])CCCNC(N)=[NH2+])CCCC=CCC=CC(C)(C(=O)NC(Cc2c[nH]cn2)C(=O)NC(C(=O)NC(CCCNC(N)=[NH2+])C(=O)NC(CCCNC(N)=[NH2+])C(=O)NC(C(=O)NC(Cc2c[nH]c3ccccc23)C(=O)[O-])C(C)C)C(C)C)NC(=O)C(CC(=O)[O-])NC(=O)C(CC(C)C)NC1=O. Appending empty array\n",
      "Exception message: 'NoneType' object is not subscriptable\n"
     ]
    },
    {
     "name": "stdout",
     "output_type": "stream",
     "text": [
      "4djs Featurization Failed\n"
     ]
    },
    {
     "name": "stderr",
     "output_type": "stream",
     "text": [
      "Failed to featurize datapoint 0, COC(=O)N=c1ccn2c(c1)C=C(CO)C2[NH2+]C(C(=O)[O-])C(C)(C)[SH+](=O)[O-]. Appending empty array\n",
      "Exception message: 'NoneType' object is not subscriptable\n"
     ]
    },
    {
     "name": "stdout",
     "output_type": "stream",
     "text": [
      "3fv7 Featurization Failed\n"
     ]
    },
    {
     "name": "stderr",
     "output_type": "stream",
     "text": [
      "Failed to featurize datapoint 0, Cc1ccc(CC(NC(=O)C(C)NC(=O)C2CCCN2C(=O)C2CC3CCCCC3N2C(=O)C([NH3+])CC=CNC(N)=[NH2+])C(N)=O)cc1. Appending empty array\n",
      "Exception message: 'NoneType' object is not subscriptable\n"
     ]
    },
    {
     "name": "stdout",
     "output_type": "stream",
     "text": [
      "3bv9 Featurization Failed\n"
     ]
    },
    {
     "name": "stderr",
     "output_type": "stream",
     "text": [
      "Failed to featurize datapoint 0, CCC(C)C(NC(=O)C(CCCCNC(=O)c1ccc(F)cc1)NC(=O)C(CO)NC(=O)C(NC(=O)C1CCCN1C(=O)C([NH3+])Cc1c[nH]c2ccccc12)C(C)O)C(=O)[O-]. Appending empty array\n",
      "Exception message: 'NoneType' object is not subscriptable\n"
     ]
    },
    {
     "name": "stdout",
     "output_type": "stream",
     "text": [
      "4nms Featurization Failed\n"
     ]
    },
    {
     "name": "stderr",
     "output_type": "stream",
     "text": [
      "Failed to featurize datapoint 0, C#CCN(Cc1ccc2[nH]c(N)nc(=O)c2c1)c1ccc(C(=O)NC(CCC(=O)[O-])C(=O)[O-])cc1. Appending empty array\n",
      "Exception message: 'NoneType' object is not subscriptable\n"
     ]
    },
    {
     "name": "stdout",
     "output_type": "stream",
     "text": [
      "1ci7 Featurization Failed\n"
     ]
    },
    {
     "name": "stderr",
     "output_type": "stream",
     "text": [
      "Failed to featurize datapoint 0, CCC(C)C(NC(=O)C(Cc1ccccc1)NC(=O)C1CCCN1C(=O)C(CCCC[NH3+])NC(=O)C([NH3+])CCSC)C(=O)NC(Cc1ccccc1)C(=O)[O-]. Appending empty array\n",
      "Exception message: 'NoneType' object is not subscriptable\n"
     ]
    },
    {
     "name": "stdout",
     "output_type": "stream",
     "text": [
      "4odm Featurization Failed\n",
      "5t2g Featurization Failed\n"
     ]
    },
    {
     "name": "stderr",
     "output_type": "stream",
     "text": [
      "Failed to featurize datapoint 0, CC(O)CC1OCC(C2CCCCC2)N(c2cc(C#CC(C)(C)C)sc2C(=O)[O-])C1=O. Appending empty array\n",
      "Exception message: 'NoneType' object is not subscriptable\n"
     ]
    },
    {
     "name": "stdout",
     "output_type": "stream",
     "text": [
      "4tlr Featurization Failed\n"
     ]
    },
    {
     "name": "stderr",
     "output_type": "stream",
     "text": [
      "Failed to featurize datapoint 0, CCn1nc(-c2ccccc2)c(C(C)=O)c(Nc2ccc(C(=O)[O-])cc2)c1=O. Appending empty array\n",
      "Exception message: 'NoneType' object is not subscriptable\n"
     ]
    },
    {
     "name": "stdout",
     "output_type": "stream",
     "text": [
      "5k1i Featurization Failed\n",
      "1lol Featurization Failed\n"
     ]
    },
    {
     "name": "stderr",
     "output_type": "stream",
     "text": [
      "Failed to featurize datapoint 0, C[NH+](C)Cc1ccccc1-c1ccc(N2CCc3c(C(F)(F)F)nn(-c4cccc(C(N)=O)c4)c3C2=O)cc1. Appending empty array\n",
      "Exception message: 'NoneType' object is not subscriptable\n"
     ]
    },
    {
     "name": "stdout",
     "output_type": "stream",
     "text": [
      "2g00 Featurization Failed\n"
     ]
    },
    {
     "name": "stderr",
     "output_type": "stream",
     "text": [
      "Failed to featurize datapoint 0, Cc1onc(C(=O)[O-])c1CC([NH3+])C(=O)[O-]. Appending empty array\n",
      "Exception message: 'NoneType' object is not subscriptable\n"
     ]
    },
    {
     "name": "stdout",
     "output_type": "stream",
     "text": [
      "1m5e Featurization Failed\n",
      "2vf6 Featurization Failed\n",
      "5cte Featurization Failed\n"
     ]
    },
    {
     "name": "stderr",
     "output_type": "stream",
     "text": [
      "Failed to featurize datapoint 0, [NH2+]=c1[nH]c2cc(-c3ccccc3)ccc2c(=O)n1CC1CCC(c2ccccc2)O1. Appending empty array\n",
      "Exception message: 'NoneType' object is not subscriptable\n"
     ]
    },
    {
     "name": "stdout",
     "output_type": "stream",
     "text": [
      "4z22 Featurization Failed\n",
      "5c20 Featurization Failed\n"
     ]
    },
    {
     "name": "stderr",
     "output_type": "stream",
     "text": [
      "Failed to featurize datapoint 0, CC12C3(C)C4(C)C56CC7=CCCC8=[N+]7[Ir+8]1345(N(S(=O)(=O)c1ccc(CNC(=O)C(CCCCNC(=O)c3cccc(O)c3O)NC(=O)c3cccc(O)c3O)cc1)C8)C26C. Appending empty array\n",
      "Exception message: 'NoneType' object is not subscriptable\n"
     ]
    },
    {
     "name": "stdout",
     "output_type": "stream",
     "text": [
      "5od5 Featurization Failed\n"
     ]
    },
    {
     "name": "stderr",
     "output_type": "stream",
     "text": [
      "Failed to featurize datapoint 0, [NH3+]CCC[NH2+]CCCCCC(O)(O)C(F)(F)F. Appending empty array\n",
      "Exception message: 'NoneType' object is not subscriptable\n"
     ]
    },
    {
     "name": "stdout",
     "output_type": "stream",
     "text": [
      "5td7 Featurization Failed\n"
     ]
    },
    {
     "name": "stderr",
     "output_type": "stream",
     "text": [
      "Failed to featurize datapoint 0, CC(Nc1[nH]c(=O)c2cnn(C3CCCC3)c2[nH+]1)c1ccc(Cl)cc1. Appending empty array\n",
      "Exception message: 'NoneType' object is not subscriptable\n"
     ]
    },
    {
     "name": "stdout",
     "output_type": "stream",
     "text": [
      "4y8c Featurization Failed\n"
     ]
    },
    {
     "name": "stderr",
     "output_type": "stream",
     "text": [
      "Failed to featurize datapoint 0, O=C(c1c2ccccc2cc2ccccc12)N1CCC([NH+]2CCCC(C(=O)N3CCOCC3)C2)CC1. Appending empty array\n",
      "Exception message: 'NoneType' object is not subscriptable\n"
     ]
    },
    {
     "name": "stdout",
     "output_type": "stream",
     "text": [
      "1w2x Featurization Failed\n"
     ]
    },
    {
     "name": "stderr",
     "output_type": "stream",
     "text": [
      "Failed to featurize datapoint 0, CCC(C)C(NC(=O)C([NH3+])CCCNC(N)=[NH2+])C(=O)NC(C(=O)NC(Cc1ccc(O)cc1)C(=O)NC(CC(=O)[O-])C(=O)NC(CCCNC(N)=[NH2+])C(=O)NC(C)C(=O)NC(Cc1ccccc1)C(=O)NC(CC(C)C)C(=O)NC(CCSC)C(=O)NC(CCC(=O)[O-])C(=O)NC(CS)C(=O)NC(CCCNC(N)=[NH2+])C(=O)NC(CC(N)=O)C(=O)[O-])C(C)CC. Appending empty array\n",
      "Exception message: 'NoneType' object is not subscriptable\n"
     ]
    },
    {
     "name": "stdout",
     "output_type": "stream",
     "text": [
      "1ej4 Featurization Failed\n"
     ]
    },
    {
     "name": "stderr",
     "output_type": "stream",
     "text": [
      "Failed to featurize datapoint 0, CCC(C)C(NC(C)=O)C(=O)NC(CCC(=O)[O-])C(=O)N1CCCC1C(=O)NC(CO)CC(=O)[O-]. Appending empty array\n",
      "Exception message: 'NoneType' object is not subscriptable\n"
     ]
    },
    {
     "name": "stdout",
     "output_type": "stream",
     "text": [
      "3gjt Featurization Failed\n"
     ]
    },
    {
     "name": "stderr",
     "output_type": "stream",
     "text": [
      "Failed to featurize datapoint 0, COc1ccc(CC(NC(=O)C(C)NC(=O)C[NH+]2CCOCC2)C(=O)NC(Cc2ccccc2)C(O)C(C)CO)cc1. Appending empty array\n",
      "Exception message: 'NoneType' object is not subscriptable\n"
     ]
    },
    {
     "name": "stdout",
     "output_type": "stream",
     "text": [
      "4qxj Featurization Failed\n"
     ]
    },
    {
     "name": "stderr",
     "output_type": "stream",
     "text": [
      "Failed to featurize datapoint 0, CC(C)C(NC(=O)C(CO)NC(=O)C(Cc1ccc(O)cc1)NC(=O)C(Cc1ccccc1)NC(=O)C(CCCC[NH3+])NC(=O)C(Cc1ccc(O)cc1)NC(=O)C(CCC(N)=O)NC(=O)C([NH3+])CCC(=O)[O-])C(=O)[O-]. Appending empty array\n",
      "Exception message: 'NoneType' object is not subscriptable\n"
     ]
    },
    {
     "name": "stdout",
     "output_type": "stream",
     "text": [
      "1lek Featurization Failed\n"
     ]
    },
    {
     "name": "stderr",
     "output_type": "stream",
     "text": [
      "Failed to featurize datapoint 0, COc1cc(OC)cc(-c2nc(N)c(C[NH3+])c(-c3ccc(Cl)cc3Cl)n2)c1. Appending empty array\n",
      "Exception message: 'NoneType' object is not subscriptable\n"
     ]
    },
    {
     "name": "stdout",
     "output_type": "stream",
     "text": [
      "1rwq Featurization Failed\n"
     ]
    },
    {
     "name": "stderr",
     "output_type": "stream",
     "text": [
      "Failed to featurize datapoint 0, C=CC(C)=CC1(C)SC(=O)C(CCC)=C1O. Appending empty array\n",
      "Exception message: 'NoneType' object is not subscriptable\n"
     ]
    },
    {
     "name": "stdout",
     "output_type": "stream",
     "text": [
      "4c70 Featurization Failed\n"
     ]
    },
    {
     "name": "stderr",
     "output_type": "stream",
     "text": [
      "Failed to featurize datapoint 0, COC1OC(C(=O)[O-])C(OC2OC(COS(=O)(=O)[O-])C(O)C(OS(=O)(=O)[O-])C2NS(=O)(=O)[O-])C(O)C1OS(=O)(=O)[O-]. Appending empty array\n",
      "Exception message: 'NoneType' object is not subscriptable\n"
     ]
    },
    {
     "name": "stdout",
     "output_type": "stream",
     "text": [
      "3uda Featurization Failed\n"
     ]
    },
    {
     "name": "stderr",
     "output_type": "stream",
     "text": [
      "Failed to featurize datapoint 0, N#Cc1ccccc1Cn1c(N2CCCC([NH3+])C2)[nH+]cc(Br)c1=O. Appending empty array\n",
      "Exception message: 'NoneType' object is not subscriptable\n"
     ]
    },
    {
     "name": "stdout",
     "output_type": "stream",
     "text": [
      "3g0g Featurization Failed\n",
      "6h7y Featurization Failed\n",
      "5h63 Featurization Failed\n"
     ]
    },
    {
     "name": "stderr",
     "output_type": "stream",
     "text": [
      "Failed to featurize datapoint 0, CSCCC(NC(=O)C(CC(N)=O)NC(=O)C(CO)NC(=O)C(Cc1ccccc1)NC(=O)C[NH3+])C(=O)NC(CO)C(=O)NC(Cc1ccccc1)C(=O)NC(CCC(=O)[O-])C(=O)NC(CC(=O)[O-])C(=O)NC(Cc1ccccc1)C(=O)N1CCCC1C(=O)[O-]. Appending empty array\n",
      "Exception message: 'NoneType' object is not subscriptable\n"
     ]
    },
    {
     "name": "stdout",
     "output_type": "stream",
     "text": [
      "1ddm Featurization Failed\n"
     ]
    },
    {
     "name": "stderr",
     "output_type": "stream",
     "text": [
      "Failed to featurize datapoint 0, CC1(c2nc3c(C(N)=O)cccc3[nH]2)CCC[NH2+]1. Appending empty array\n",
      "Exception message: 'NoneType' object is not subscriptable\n"
     ]
    },
    {
     "name": "stdout",
     "output_type": "stream",
     "text": [
      "5lx6 Featurization Failed\n",
      "3nzc Featurization Failed\n"
     ]
    },
    {
     "name": "stderr",
     "output_type": "stream",
     "text": [
      "Failed to featurize datapoint 0, COC1CCOC2(C)Oc3c(C)c(O)c4c(c3C2=O)C2=NC3(CC[NH+](CC(C)C)CC3)NC2=C(NC(=O)C(C)=CC=CC(C)C(O)C(C)C(O)C(C)C(OC(C)=O)C1C)C4=O. Appending empty array\n",
      "Exception message: 'NoneType' object is not subscriptable\n"
     ]
    },
    {
     "name": "stdout",
     "output_type": "stream",
     "text": [
      "6bec Featurization Failed\n"
     ]
    },
    {
     "name": "stderr",
     "output_type": "stream",
     "text": [
      "Failed to featurize datapoint 0, COC(=O)NC(C(=O)N[N+](=Cc1ccc(C2=CCSC2)cc1)CCCC1(O)Cc2ccc(cc2)CC=CCNC(=O)C(C(C)C)NC1=O)C(C)(C)C. Appending empty array\n",
      "Exception message: 'NoneType' object is not subscriptable\n"
     ]
    },
    {
     "name": "stdout",
     "output_type": "stream",
     "text": [
      "4cpu Featurization Failed\n"
     ]
    },
    {
     "name": "stderr",
     "output_type": "stream",
     "text": [
      "Failed to featurize datapoint 0, O=C(NC1CCC[NH2+]CC1NC(=O)c1ccncc1)c1ccc(C(=O)c2cc(N3CCCCC3)ccc2O)cc1. Appending empty array\n",
      "Exception message: 'NoneType' object is not subscriptable\n"
     ]
    },
    {
     "name": "stdout",
     "output_type": "stream",
     "text": [
      "1xh6 Featurization Failed\n"
     ]
    },
    {
     "name": "stderr",
     "output_type": "stream",
     "text": [
      "Failed to featurize datapoint 0, O=C(NCCC[NH+]1CCC(c2c(Cl)cccc2Cl)CC1)C1CCC[NH+]1Cc1ccccc1. Appending empty array\n",
      "Exception message: 'NoneType' object is not subscriptable\n"
     ]
    },
    {
     "name": "stdout",
     "output_type": "stream",
     "text": [
      "5dhg Featurization Failed\n"
     ]
    },
    {
     "name": "stderr",
     "output_type": "stream",
     "text": [
      "Failed to featurize datapoint 0, CCNC(=O)Nc1nc(C=Cc2cccnc2)c(-c2ccc[nH]2)s1. Appending empty array\n",
      "Exception message: 'NoneType' object is not subscriptable\n"
     ]
    },
    {
     "name": "stdout",
     "output_type": "stream",
     "text": [
      "5d6q Featurization Failed\n"
     ]
    },
    {
     "name": "stderr",
     "output_type": "stream",
     "text": [
      "Failed to featurize datapoint 0, CC1(C)C2CCC1(C)C(NC(=O)C(CC1CCCCC1)NC(=O)NC(CCCC[NH3+])C(=O)[O-])C2. Appending empty array\n",
      "Exception message: 'NoneType' object is not subscriptable\n"
     ]
    },
    {
     "name": "stdout",
     "output_type": "stream",
     "text": [
      "4uib Featurization Failed\n",
      "2z7i Featurization Failed\n"
     ]
    },
    {
     "name": "stderr",
     "output_type": "stream",
     "text": [
      "Failed to featurize datapoint 0, C[NH+]1CC[NH+](CCOc2cc(OC3CCOCC3)c3c(Nc4c(Cl)ccc5c4OCO5)ncnc3c2)CC1. Appending empty array\n",
      "Exception message: 'NoneType' object is not subscriptable\n"
     ]
    },
    {
     "name": "stdout",
     "output_type": "stream",
     "text": [
      "4qmx Featurization Failed\n"
     ]
    },
    {
     "name": "stderr",
     "output_type": "stream",
     "text": [
      "Failed to featurize datapoint 0, CSCC(NC(=O)C1[NH2+]OC2OCCC21)C(=O)NC(CC(C)C)C(O)CC(C)C(=O)NC(C(=O)NCC(C)C)C(C)C. Appending empty array\n",
      "Exception message: 'NoneType' object is not subscriptable\n"
     ]
    },
    {
     "name": "stdout",
     "output_type": "stream",
     "text": [
      "6dhc Featurization Failed\n"
     ]
    },
    {
     "name": "stderr",
     "output_type": "stream",
     "text": [
      "Failed to featurize datapoint 0, NC(=O)C1CCC([NH2+]OS(=O)(=O)[O-])CN1C=O. Appending empty array\n",
      "Exception message: 'NoneType' object is not subscriptable\n"
     ]
    },
    {
     "name": "stdout",
     "output_type": "stream",
     "text": [
      "4s2i Featurization Failed\n"
     ]
    },
    {
     "name": "stderr",
     "output_type": "stream",
     "text": [
      "Failed to featurize datapoint 0, CCC(C)C(NC(=O)C(CO)NC(=O)C(CCCC[NH3+])NC(=O)C(Cc1ccc(O)cc1)NC(=O)C([NH3+])CCC(N)=O)C(=O)NC(CC(C)C)C(=O)[O-]. Appending empty array\n",
      "Exception message: 'NoneType' object is not subscriptable\n"
     ]
    },
    {
     "name": "stdout",
     "output_type": "stream",
     "text": [
      "5fpi Featurization Failed\n"
     ]
    },
    {
     "name": "stderr",
     "output_type": "stream",
     "text": [
      "Failed to featurize datapoint 0, NC(=[NH2+])c1ccc(CNC(=O)C2CCCN2C(=O)CCC2CCCCC2)cc1. Appending empty array\n",
      "Exception message: 'NoneType' object is not subscriptable\n"
     ]
    },
    {
     "name": "stdout",
     "output_type": "stream",
     "text": [
      "2zdk Featurization Failed\n"
     ]
    },
    {
     "name": "stderr",
     "output_type": "stream",
     "text": [
      "Failed to featurize datapoint 0, CC1CC(=O)Nc2ncnc(N3CCC(c4nc(-c5ccc(F)c(C(F)(F)F)c5)cn4CC[NH+]4CCCC4)CC3)c21. Appending empty array\n",
      "Exception message: 'NoneType' object is not subscriptable\n"
     ]
    },
    {
     "name": "stdout",
     "output_type": "stream",
     "text": [
      "6ccy Featurization Failed\n"
     ]
    },
    {
     "name": "stderr",
     "output_type": "stream",
     "text": [
      "Failed to featurize datapoint 0, CC(=O)NC1C(O)OC(CO)C(OC2OC(CO)C(O)C(OC3(C(=O)[O-])CC(O)C(NC(C)=O)C(C(O)C(O)CO)O3)C2O)C1O. Appending empty array\n",
      "Exception message: 'NoneType' object is not subscriptable\n"
     ]
    },
    {
     "name": "stdout",
     "output_type": "stream",
     "text": [
      "4lkg Featurization Failed\n"
     ]
    },
    {
     "name": "stderr",
     "output_type": "stream",
     "text": [
      "Failed to featurize datapoint 0, CC([NH3+])C(=O)NC(C)C(=O)NC(CO)C(=O)NC(CCCNC(N)=[NH2+])C(=O)NC(C(=O)N1CCCC1C(=O)NC(C)C(=O)NC(CC(=O)[O-])C(=O)NCC(=O)NC(CCCNC(N)=[NH2+])C(=O)[O-])C(C)O. Appending empty array\n",
      "Exception message: 'NoneType' object is not subscriptable\n"
     ]
    },
    {
     "name": "stdout",
     "output_type": "stream",
     "text": [
      "5gp7 Featurization Failed\n"
     ]
    },
    {
     "name": "stderr",
     "output_type": "stream",
     "text": [
      "Failed to featurize datapoint 0, NC(=[NH2+])NCCCC(=O)NCC1CCCN1C(=O)C(CO)NS(=O)(=O)c1ccc2ccccc2c1. Appending empty array\n",
      "Exception message: 'NoneType' object is not subscriptable\n"
     ]
    },
    {
     "name": "stdout",
     "output_type": "stream",
     "text": [
      "1bmm Featurization Failed\n"
     ]
    },
    {
     "name": "stderr",
     "output_type": "stream",
     "text": [
      "Failed to featurize datapoint 0, CCC(=O)NC(C(=O)NC(Cc1ccc(O)cc1)C(O)C[NH2+]C1Cc2ccc(cc2)OCCCNC(=O)C(C(C)CC)NC1=O)C(C)C. Appending empty array\n",
      "Exception message: 'NoneType' object is not subscriptable\n"
     ]
    },
    {
     "name": "stdout",
     "output_type": "stream",
     "text": [
      "1b6p Featurization Failed\n"
     ]
    },
    {
     "name": "stderr",
     "output_type": "stream",
     "text": [
      "Failed to featurize datapoint 0, [NH3+]CCC[NH2+]CCCCCC(O)(O)C(F)(F)F. Appending empty array\n",
      "Exception message: 'NoneType' object is not subscriptable\n"
     ]
    },
    {
     "name": "stdout",
     "output_type": "stream",
     "text": [
      "4zum Featurization Failed\n"
     ]
    },
    {
     "name": "stderr",
     "output_type": "stream",
     "text": [
      "Failed to featurize datapoint 0, [NH3+]C(Cc1cc(Cl)c([N+](=O)[O-])cc1CCC(=O)[O-])C(=O)[O-]. Appending empty array\n",
      "Exception message: 'NoneType' object is not subscriptable\n"
     ]
    },
    {
     "name": "stdout",
     "output_type": "stream",
     "text": [
      "4dld Featurization Failed\n"
     ]
    },
    {
     "name": "stderr",
     "output_type": "stream",
     "text": [
      "Failed to featurize datapoint 0, O=C([O-])CCC(NC(=O)C1CCCN1C(=O)CNC(=O)C1CCC[NH2+]1)C(=O)NCC(=O)N1CCCC1C(=O)N1CCCC1C(=O)NCC(=O)[O-]. Appending empty array\n",
      "Exception message: 'NoneType' object is not subscriptable\n"
     ]
    },
    {
     "name": "stdout",
     "output_type": "stream",
     "text": [
      "6evp Featurization Failed\n"
     ]
    },
    {
     "name": "stderr",
     "output_type": "stream",
     "text": [
      "Failed to featurize datapoint 0, Cc1cc(Cn2c(N3CC4(C[NH2+]C4)C3)nc3c(N4CC[NH+](C)CC4)cc(Cl)cc32)cc(C)c1F. Appending empty array\n",
      "Exception message: 'NoneType' object is not subscriptable\n"
     ]
    },
    {
     "name": "stdout",
     "output_type": "stream",
     "text": [
      "6d55 Featurization Failed\n"
     ]
    },
    {
     "name": "stderr",
     "output_type": "stream",
     "text": [
      "Failed to featurize datapoint 0, C[NH2+]Cc1ccc(N2CCC(CCC(=O)n3cccc3)CC2)cc1. Appending empty array\n",
      "Exception message: 'NoneType' object is not subscriptable\n"
     ]
    },
    {
     "name": "stdout",
     "output_type": "stream",
     "text": [
      "5eyr Featurization Failed\n"
     ]
    },
    {
     "name": "stderr",
     "output_type": "stream",
     "text": [
      "Failed to featurize datapoint 0, O=C([O-])c1ccc(C2=C(O)C(O)c3cc(Cl)cc(Cl)c3O2)cc1. Appending empty array\n",
      "Exception message: 'NoneType' object is not subscriptable\n"
     ]
    },
    {
     "name": "stdout",
     "output_type": "stream",
     "text": [
      "5m4f Featurization Failed\n",
      "3r2a Featurization Failed\n"
     ]
    },
    {
     "name": "stderr",
     "output_type": "stream",
     "text": [
      "Failed to featurize datapoint 0, CCN1CCN(C(=O)NC(C(=O)NC(C(=O)[O-])C2[NH2+]C(C(=O)[O-])C(C)(C)S2)c2ccccc2)C(=O)C1=O. Appending empty array\n",
      "Exception message: 'NoneType' object is not subscriptable\n"
     ]
    },
    {
     "name": "stdout",
     "output_type": "stream",
     "text": [
      "4kqr Featurization Failed\n"
     ]
    },
    {
     "name": "stderr",
     "output_type": "stream",
     "text": [
      "Failed to featurize datapoint 0, CC(C)(C)c1ccc(CCC2CCC(O)C3C(O)C(O)C[NH+]23)cc1. Appending empty array\n",
      "Exception message: 'NoneType' object is not subscriptable\n"
     ]
    },
    {
     "name": "stdout",
     "output_type": "stream",
     "text": [
      "3ejt Featurization Failed\n",
      "5m9d Featurization Failed\n",
      "5all Featurization Failed\n"
     ]
    },
    {
     "name": "stderr",
     "output_type": "stream",
     "text": [
      "Failed to featurize datapoint 0, C[NH2+]Cc1ccc2c(c1)c1ccccc1n2CC(F)F. Appending empty array\n",
      "Exception message: 'NoneType' object is not subscriptable\n"
     ]
    },
    {
     "name": "stdout",
     "output_type": "stream",
     "text": [
      "5g4n Featurization Failed\n"
     ]
    },
    {
     "name": "stderr",
     "output_type": "stream",
     "text": [
      "Failed to featurize datapoint 0, Cc1[nH]c2ccccc2c1C1=C(c2c(C)n(CCC[NH+](C)C)c3ccccc23)C(=O)NC1=O. Appending empty array\n",
      "Exception message: 'NoneType' object is not subscriptable\n"
     ]
    },
    {
     "name": "stdout",
     "output_type": "stream",
     "text": [
      "2i0e Featurization Failed\n"
     ]
    },
    {
     "name": "stderr",
     "output_type": "stream",
     "text": [
      "Failed to featurize datapoint 0, CC(C)CC(NC(=O)C([NH3+])CO)C(=O)NC(CC(C)C)C(=O)NC(CCCC[NH3+])C(=O)NC(CCCC[NH3+])C(=O)NC(CC(C)C)C(=O)NC(CC(C)C)C(=O)NC(CC(C)C)C(=O)NC(C)C(=O)[O-]. Appending empty array\n",
      "Exception message: 'NoneType' object is not subscriptable\n"
     ]
    },
    {
     "name": "stdout",
     "output_type": "stream",
     "text": [
      "5unj Featurization Failed\n"
     ]
    },
    {
     "name": "stderr",
     "output_type": "stream",
     "text": [
      "Failed to featurize datapoint 0, CCC(C)C(NC(=O)C(CCC(=O)[O-])NC(=O)C(CC(N)=O)NC(=O)C([NH3+])CC(=O)[O-])C(=O)NC(CCC(=O)[O-])C(=O)NC(C(=O)NC(C(=O)NC(C(=O)NC(C(=O)NC(Cc1c[nH]c2ccccc12)C(=O)NC(CCC(=O)[O-])C(=O)NC(CCCC[NH3+])C(=O)NC(CCCC[NH3+])C(=O)[O-])C(C)C)C(C)CC)C(C)CC)C(C)C. Appending empty array\n",
      "Exception message: 'PUGREST.BadRequest: error: '\n"
     ]
    },
    {
     "name": "stdout",
     "output_type": "stream",
     "text": [
      "2las Featurization Failed\n"
     ]
    },
    {
     "name": "stderr",
     "output_type": "stream",
     "text": [
      "Failed to featurize datapoint 0, CC(=O)NC(CC(=O)[O-])C(=O)NC(C(=O)NC(C)C(=O)NC(CC(=O)[O-])C(=O)[O-])C(C)C. Appending empty array\n",
      "Exception message: 'NoneType' object is not subscriptable\n"
     ]
    },
    {
     "name": "stdout",
     "output_type": "stream",
     "text": [
      "3r7n Featurization Failed\n"
     ]
    },
    {
     "name": "stderr",
     "output_type": "stream",
     "text": [
      "Failed to featurize datapoint 0, CSCCC(NC(=O)C(CCC(N)=O)NC(=O)C(CCC(=O)[O-])NC(=O)C(Cc1ccc(O)cc1)NC(=O)C(CO)NC(=O)C(CCCNC(N)=[NH2+])NC(=O)C(CCCC[NH3+])NC(=O)C(NC(=O)CNC(=O)C(CCC(N)=O)NC(=O)C([NH3+])CO)C(C)O)C(=O)NC(CCC(=O)[O-])C(=O)[O-]. Appending empty array\n",
      "Exception message: 'PUGREST.BadRequest: error: '\n"
     ]
    },
    {
     "name": "stdout",
     "output_type": "stream",
     "text": [
      "4zdu Featurization Failed\n"
     ]
    },
    {
     "name": "stderr",
     "output_type": "stream",
     "text": [
      "Failed to featurize datapoint 0, CCC(C)C(NC(=O)C(CO)NC(=O)C(CCSC)NC(=O)C(CC(N)=O)NC(=O)C(Cc1ccc(O)cc1)NC(=O)C(C)NC(=O)C(CC(N)=O)NC(C)=O)C(=O)NC(CCCNC(N)=[NH2+])C(=O)NC(CCCNC(N)=[NH2+])C(N)=O. Appending empty array\n",
      "Exception message: 'PUGREST.BadRequest: error: '\n"
     ]
    },
    {
     "name": "stdout",
     "output_type": "stream",
     "text": [
      "4qyo Featurization Failed\n",
      "4oti Featurization Failed\n",
      "5ylu Featurization Failed\n"
     ]
    },
    {
     "name": "stderr",
     "output_type": "stream",
     "text": [
      "Failed to featurize datapoint 0, N#Cc1cnn2c(Nc3ccc4c(c3)CCC(=O)N4)cc(N3CCCC3CC(=O)[O-])nc12. Appending empty array\n",
      "Exception message: 'NoneType' object is not subscriptable\n"
     ]
    },
    {
     "name": "stdout",
     "output_type": "stream",
     "text": [
      "5n21 Featurization Failed\n"
     ]
    },
    {
     "name": "stderr",
     "output_type": "stream",
     "text": [
      "Failed to featurize datapoint 0, O=C([O-])CNC(=O)c1ncccc1O. Appending empty array\n",
      "Exception message: 'NoneType' object is not subscriptable\n"
     ]
    },
    {
     "name": "stdout",
     "output_type": "stream",
     "text": [
      "5opc Featurization Failed\n"
     ]
    },
    {
     "name": "stderr",
     "output_type": "stream",
     "text": [
      "Failed to featurize datapoint 0, CC(C)CC(NC(=O)C(Cc1ccccc1)NC(=O)C([NH3+])CO)C(=O)[O-]. Appending empty array\n",
      "Exception message: 'NoneType' object is not subscriptable\n"
     ]
    },
    {
     "name": "stdout",
     "output_type": "stream",
     "text": [
      "5lb7 Featurization Failed\n"
     ]
    },
    {
     "name": "stderr",
     "output_type": "stream",
     "text": [
      "Failed to featurize datapoint 0, O=C(Nc1ccccc1C(=O)[O-])c1cccc(S(=O)(=O)N2CCc3ccccc3C2)c1. Appending empty array\n",
      "Exception message: 'NoneType' object is not subscriptable\n"
     ]
    },
    {
     "name": "stdout",
     "output_type": "stream",
     "text": [
      "3dy6 Featurization Failed\n"
     ]
    },
    {
     "name": "stderr",
     "output_type": "stream",
     "text": [
      "Failed to featurize datapoint 0, CCC(C)C1NC(=O)C(CCCC[NH3+])NC(=O)C(Cc2ccccc2)NC(=O)CNC(=O)C(Cc2ccc(O)cc2)NC(=O)C(CC(C)C)NC(=O)C(CCCNC(N)=[NH2+])NC(=O)C(NC(=O)C[NH3+])CSSCC(C(=O)NCC(=O)[O-])NC(=O)CNC(=O)C(Cc2c[nH]cn2)NC1=O. Appending empty array\n",
      "Exception message: 'PUGREST.BadRequest: error: '\n"
     ]
    },
    {
     "name": "stdout",
     "output_type": "stream",
     "text": [
      "4ib5 Featurization Failed\n",
      "5ncy Featurization Failed\n"
     ]
    },
    {
     "name": "stderr",
     "output_type": "stream",
     "text": [
      "Failed to featurize datapoint 0, Cc1cc(OCCCc2c(C(=O)[O-])sc3ccccc23)cc(C)c1Cl. Appending empty array\n",
      "Exception message: 'NoneType' object is not subscriptable\n"
     ]
    },
    {
     "name": "stdout",
     "output_type": "stream",
     "text": [
      "4hw3 Featurization Failed\n"
     ]
    },
    {
     "name": "stderr",
     "output_type": "stream",
     "text": [
      "Failed to featurize datapoint 0, Cn1c(C(=O)Nc2ccc(COc3ccc(OC4CC[NH+](C)CC4)cc3)cc2)cc2sccc21. Appending empty array\n",
      "Exception message: 'NoneType' object is not subscriptable\n"
     ]
    },
    {
     "name": "stdout",
     "output_type": "stream",
     "text": [
      "5lhg Featurization Failed\n"
     ]
    },
    {
     "name": "stderr",
     "output_type": "stream",
     "text": [
      "Failed to featurize datapoint 0, NC(=[NH2+])c1ccc(CNC(=O)C(CO)NC(=O)C(CO)NS(=O)(=O)Cc2ccccc2)cc1. Appending empty array\n",
      "Exception message: 'NoneType' object is not subscriptable\n"
     ]
    },
    {
     "name": "stdout",
     "output_type": "stream",
     "text": [
      "1vja Featurization Failed\n"
     ]
    },
    {
     "name": "stderr",
     "output_type": "stream",
     "text": [
      "Failed to featurize datapoint 0, CCOC(=O)NC(CCCC[NH3+])C(O)c1noc(Cc2ccc(C(=O)NC3Cc4ccccc4C3)cc2)n1. Appending empty array\n",
      "Exception message: 'NoneType' object is not subscriptable\n"
     ]
    },
    {
     "name": "stdout",
     "output_type": "stream",
     "text": [
      "2fs9 Featurization Failed\n"
     ]
    },
    {
     "name": "stderr",
     "output_type": "stream",
     "text": [
      "Failed to featurize datapoint 0, NC(=[NH2+])NCCCC(NS(=O)(=O)c1cccc(C(F)(F)F)c1)C(=O)N1CC[NH+](CCC[NH3+])CC1. Appending empty array\n",
      "Exception message: 'NoneType' object is not subscriptable\n"
     ]
    },
    {
     "name": "stdout",
     "output_type": "stream",
     "text": [
      "1w7g Featurization Failed\n"
     ]
    },
    {
     "name": "stderr",
     "output_type": "stream",
     "text": [
      "Failed to featurize datapoint 0, CC(=O)NCCCCC(NC(=O)C(NC(=O)C(CCCNC(N)=[NH2+])NC(=O)C(C)[NH3+])C(C)O)C(=O)NC(CCC(N)=O)C(=O)NC(C(=O)NC(C)C(=O)[O-])C(C)O. Appending empty array\n",
      "Exception message: 'NoneType' object is not subscriptable\n"
     ]
    },
    {
     "name": "stdout",
     "output_type": "stream",
     "text": [
      "5wxg Featurization Failed\n"
     ]
    },
    {
     "name": "stderr",
     "output_type": "stream",
     "text": [
      "Failed to featurize datapoint 0, O=C([O-])C(=O)Nc1sc2c(c1C(=O)[O-])CCSC2. Appending empty array\n",
      "Exception message: 'NoneType' object is not subscriptable\n"
     ]
    },
    {
     "name": "stdout",
     "output_type": "stream",
     "text": [
      "1gfy Featurization Failed\n",
      "4bgk Featurization Failed\n"
     ]
    },
    {
     "name": "stderr",
     "output_type": "stream",
     "text": [
      "Failed to featurize datapoint 0, CCC(C)C(NC(=O)C(CO)NC(=O)C(CCSC)NC(=O)C(CC(N)=O)NC(=O)C(Cc1ccc(O)cc1)NC(=O)C(C)NC(=O)C(CC(N)=O)NC(=O)C(CC(N)=O)NC(=O)C(C)[NH3+])C(=O)NC(CCCNC(N)=[NH2+])C(=O)NC(CCCNC(N)=[NH2+])C(=O)NC(CO)C(N)=O. Appending empty array\n",
      "Exception message: 'PUGREST.BadRequest: error: '\n"
     ]
    },
    {
     "name": "stdout",
     "output_type": "stream",
     "text": [
      "4r3s Featurization Failed\n",
      "3bh9 Featurization Failed\n"
     ]
    },
    {
     "name": "stderr",
     "output_type": "stream",
     "text": [
      "Failed to featurize datapoint 0, O=C(C1=C(O)C(=O)N(c2ccc(Cl)c(C(=O)[O-])c2)C1c1cc(Br)cs1)c1ccccc1. Appending empty array\n",
      "Exception message: 'NoneType' object is not subscriptable\n"
     ]
    },
    {
     "name": "stdout",
     "output_type": "stream",
     "text": [
      "4ibe Featurization Failed\n"
     ]
    },
    {
     "name": "stderr",
     "output_type": "stream",
     "text": [
      "Failed to featurize datapoint 0, CCC(C)C(NC(=O)C(CC(N)=O)NC(=O)C(Cc1c[nH]c2ccccc12)NC(=O)C([NH3+])CC(N)=O)C(=O)[O-]. Appending empty array\n",
      "Exception message: 'NoneType' object is not subscriptable\n"
     ]
    },
    {
     "name": "stdout",
     "output_type": "stream",
     "text": [
      "3iqg Featurization Failed\n"
     ]
    },
    {
     "name": "stderr",
     "output_type": "stream",
     "text": [
      "Failed to featurize datapoint 0, N#Cc1cc2cc(C[NH+]3CCC(Nc4ncnc5sc(CC(F)(F)F)cc45)CC3)ccc2n1CC(N)=O. Appending empty array\n",
      "Exception message: 'NoneType' object is not subscriptable\n"
     ]
    },
    {
     "name": "stdout",
     "output_type": "stream",
     "text": [
      "5db2 Featurization Failed\n"
     ]
    },
    {
     "name": "stderr",
     "output_type": "stream",
     "text": [
      "Failed to featurize datapoint 0, C[NH+]1CC[NH+](CCOc2cc(OC3CCOCC3)c3c(Nc4c(Cl)ccc5c4OCO5)ncnc3c2)CC1. Appending empty array\n",
      "Exception message: 'NoneType' object is not subscriptable\n"
     ]
    },
    {
     "name": "stdout",
     "output_type": "stream",
     "text": [
      "5vcx Featurization Failed\n",
      "4uv8 Featurization Failed\n"
     ]
    },
    {
     "name": "stderr",
     "output_type": "stream",
     "text": [
      "Failed to featurize datapoint 0, COc1ccc(C(=O)N2CCCc3cc(C4[NH2+]NC(=O)SC4C)ccc32)cc1OC. Appending empty array\n",
      "Exception message: 'NoneType' object is not subscriptable\n"
     ]
    },
    {
     "name": "stdout",
     "output_type": "stream",
     "text": [
      "1ih0 Featurization Failed\n"
     ]
    },
    {
     "name": "stderr",
     "output_type": "stream",
     "text": [
      "Failed to featurize datapoint 0, CCC(=O)Nc1cc(N=C2C=C(c3cccc(NC(=O)c4ccc(C(C)(C)C)cc4)c3C)CN(C)C2=O)ccc1C(=O)N1CCOCC1. Appending empty array\n",
      "Exception message: 'NoneType' object is not subscriptable\n"
     ]
    },
    {
     "name": "stdout",
     "output_type": "stream",
     "text": [
      "5j87 Featurization Failed\n"
     ]
    },
    {
     "name": "stderr",
     "output_type": "stream",
     "text": [
      "Failed to featurize datapoint 0, CC(NC(=O)C(NC(=O)C([NH3+])CCC(N)=O)C(C)O)C(=O)NC(CCCNC(N)=[NH2+])C(=O)NC(CCCC[N+](C)(C)C)C(=O)NC(C=O)CO. Appending empty array\n",
      "Exception message: 'NoneType' object is not subscriptable\n"
     ]
    },
    {
     "name": "stdout",
     "output_type": "stream",
     "text": [
      "1kne Featurization Failed\n"
     ]
    },
    {
     "name": "stderr",
     "output_type": "stream",
     "text": [
      "Failed to featurize datapoint 0, CC(=O)Nc1cccc(-c2cc(C(=O)[O-])cc(-c3ccc4cccnc4c3)c2)c1. Appending empty array\n",
      "Exception message: 'NoneType' object is not subscriptable\n"
     ]
    },
    {
     "name": "stdout",
     "output_type": "stream",
     "text": [
      "5qb3 Featurization Failed\n",
      "5ypo Featurization Failed\n"
     ]
    },
    {
     "name": "stderr",
     "output_type": "stream",
     "text": [
      "Failed to featurize datapoint 0, CC1CN(c2cc(-c3[nH]nc4ccc(OC5(C)C=C5)cc34)ncn2)CC(C)O1. Appending empty array\n",
      "Exception message: 'NoneType' object is not subscriptable\n"
     ]
    },
    {
     "name": "stdout",
     "output_type": "stream",
     "text": [
      "5opb Featurization Failed\n"
     ]
    },
    {
     "name": "stderr",
     "output_type": "stream",
     "text": [
      "Failed to featurize datapoint 0, CC1(C)Cc2cc(Cl)ccc2C(NC(Cc2ccccc2)c2nc(=O)o[nH]2)=N1. Appending empty array\n",
      "Exception message: 'NoneType' object is not subscriptable\n"
     ]
    },
    {
     "name": "stdout",
     "output_type": "stream",
     "text": [
      "4hzt Featurization Failed\n",
      "4urk Featurization Failed\n"
     ]
    },
    {
     "name": "stderr",
     "output_type": "stream",
     "text": [
      "Failed to featurize datapoint 0, CC(NC(=O)C(CCC(N)=O)NC(=O)CNC(=O)C(NC(=O)C1CCCN1C(=O)C([NH3+])Cc1c[nH]cn1)C(C)C)C(=O)NC(CC(=O)[O-])C(=O)NC(Cc1ccc(O)cc1)C(=O)NC(Cc1ccccc1)C(=O)NC(CCC(=O)[O-])C(=O)NC(Cc1ccc(O)cc1)C(=O)[O-]. Appending empty array\n",
      "Exception message: 'NoneType' object is not subscriptable\n"
     ]
    },
    {
     "name": "stdout",
     "output_type": "stream",
     "text": [
      "4pre Featurization Failed\n"
     ]
    },
    {
     "name": "stderr",
     "output_type": "stream",
     "text": [
      "Failed to featurize datapoint 0, CC([NH3+])C(=O)NC(CCC(=O)[O-])C(=O)NC(C)C(=O)NC(C(=O)[O-])C(C)C. Appending empty array\n",
      "Exception message: 'NoneType' object is not subscriptable\n"
     ]
    },
    {
     "name": "stdout",
     "output_type": "stream",
     "text": [
      "1oxn Featurization Failed\n"
     ]
    },
    {
     "name": "stderr",
     "output_type": "stream",
     "text": [
      "Failed to featurize datapoint 0, CCCCSCC1C[NH+](Cc2c[nH]c3c(N)ncnc23)CC1O. Appending empty array\n",
      "Exception message: 'NoneType' object is not subscriptable\n"
     ]
    },
    {
     "name": "stdout",
     "output_type": "stream",
     "text": [
      "3dp9 Featurization Failed\n",
      "3eu5 Featurization Failed\n",
      "5a3s Featurization Failed\n"
     ]
    },
    {
     "name": "stderr",
     "output_type": "stream",
     "text": [
      "Failed to featurize datapoint 0, CC(NC(=O)C(CO)NS(=O)(=O)Cc1ccccc1)C(=O)NCc1ccc(C(N)=[NH2+])cc1. Appending empty array\n",
      "Exception message: 'NoneType' object is not subscriptable\n"
     ]
    },
    {
     "name": "stdout",
     "output_type": "stream",
     "text": [
      "1w11 Featurization Failed\n",
      "6e8k Featurization Failed\n",
      "6eo0 Featurization Failed\n"
     ]
    },
    {
     "name": "stderr",
     "output_type": "stream",
     "text": [
      "Failed to featurize datapoint 0, [NH2+]=c1[nH]c(=O)c2nc(CNc3ccc(C(=O)NC(CCC(=O)[O-])C(=O)[O-])cc3)cnc2[nH]1. Appending empty array\n",
      "Exception message: 'NoneType' object is not subscriptable\n"
     ]
    },
    {
     "name": "stdout",
     "output_type": "stream",
     "text": [
      "4lrh Featurization Failed\n"
     ]
    },
    {
     "name": "stderr",
     "output_type": "stream",
     "text": [
      "Failed to featurize datapoint 0, O=C([O-])c1cn2c(n1)C(O)C(O)C(O)C2CO. Appending empty array\n",
      "Exception message: 'NoneType' object is not subscriptable\n"
     ]
    },
    {
     "name": "stdout",
     "output_type": "stream",
     "text": [
      "2j7f Featurization Failed\n",
      "2lko Featurization Failed\n"
     ]
    },
    {
     "name": "stderr",
     "output_type": "stream",
     "text": [
      "Failed to featurize datapoint 0, CCC(C)C([NH3+])C(=O)NC(CC(N)=O)C(=O)NC(Cc1ccc(OS(=O)(=O)[O-])cc1)C(=O)NC(Cc1ccc(OS(=O)(=O)[O-])cc1)C(=O)NC(C(=O)NC(CO)C(=O)NC(CCC(=O)[O-])C(=O)N1CCCC1C(=O)[O-])C(C)O. Appending empty array\n",
      "Exception message: 'NoneType' object is not subscriptable\n"
     ]
    },
    {
     "name": "stdout",
     "output_type": "stream",
     "text": [
      "5yy4 Featurization Failed\n"
     ]
    },
    {
     "name": "stderr",
     "output_type": "stream",
     "text": [
      "Failed to featurize datapoint 0, CCC(C)C(NC(=O)C(CCSC)NC(C)=O)C(=O)NC(C)C(=O)NC(CC(C)C)C(=O)NC(C)C(=O)NC(C)C(=O)NC(C)C(=O)NC(C)C(=O)NC(C)C(=O)NC(C)C(=O)NC(C)C(=O)[O-]. Appending empty array\n",
      "Exception message: 'NoneType' object is not subscriptable\n"
     ]
    },
    {
     "name": "stdout",
     "output_type": "stream",
     "text": [
      "4gao Featurization Failed\n",
      "6apu Featurization Failed\n",
      "5nwz Featurization Failed\n",
      "4qmz Featurization Failed\n",
      "3buw Featurization Failed\n"
     ]
    },
    {
     "name": "stderr",
     "output_type": "stream",
     "text": [
      "Failed to featurize datapoint 0, CC(C)CC1NC(=O)C(CCCNC(N)=[NH2+])NC(=O)C(CCCNC(N)=[NH2+])NC(=O)C(C(C)O)NC(=O)C(CO)NC(=O)C(CCC(N)=O)NC(=O)C(CC(=O)[O-])NC(=O)C(Cc2ccccc2)NC(=O)C(CCC(N)=O)NC(=O)C([NH3+])CSSCC(C(=O)[O-])NC(=O)C(CCCC[NH3+])NC1=O. Appending empty array\n",
      "Exception message: 'PUGREST.BadRequest: error: '\n"
     ]
    },
    {
     "name": "stdout",
     "output_type": "stream",
     "text": [
      "5th2 Featurization Failed\n"
     ]
    },
    {
     "name": "stderr",
     "output_type": "stream",
     "text": [
      "Failed to featurize datapoint 0, CCC(CC)C(=O)Nc1cc(C(=O)[O-])ccc1NC(C)=O. Appending empty array\n",
      "Exception message: 'NoneType' object is not subscriptable\n"
     ]
    },
    {
     "name": "stdout",
     "output_type": "stream",
     "text": [
      "1b9s Featurization Failed\n",
      "2uzl Featurization Failed\n"
     ]
    },
    {
     "name": "stderr",
     "output_type": "stream",
     "text": [
      "Failed to featurize datapoint 0, COc1ccc2c(n1)CCN(C(=O)C1CC(CC(=O)[O-])C1)C2C(=O)Nc1cc(F)c2c(c1)CCC2(C)C. Appending empty array\n",
      "Exception message: 'NoneType' object is not subscriptable\n"
     ]
    },
    {
     "name": "stdout",
     "output_type": "stream",
     "text": [
      "6br3 Featurization Failed\n",
      "4yvc Featurization Failed\n",
      "4zx9 Featurization Failed\n",
      "2hr6 Featurization Failed\n"
     ]
    },
    {
     "name": "stderr",
     "output_type": "stream",
     "text": [
      "Failed to featurize datapoint 0, O=C(CC(O)C(=O)[O-])c1ccc(O)cc1Br. Appending empty array\n",
      "Exception message: 'NoneType' object is not subscriptable\n"
     ]
    },
    {
     "name": "stdout",
     "output_type": "stream",
     "text": [
      "6c6o Featurization Failed\n",
      "5e2v Featurization Failed\n",
      "2wtx Featurization Failed\n"
     ]
    },
    {
     "name": "stderr",
     "output_type": "stream",
     "text": [
      "Failed to featurize datapoint 0, O=C(OC1CC2CCC(C1)[NH+]2CCc1ccccc1)c1ccccc1. Appending empty array\n",
      "Exception message: 'NoneType' object is not subscriptable\n"
     ]
    },
    {
     "name": "stdout",
     "output_type": "stream",
     "text": [
      "2y57 Featurization Failed\n"
     ]
    },
    {
     "name": "stderr",
     "output_type": "stream",
     "text": [
      "Failed to featurize datapoint 0, NC(=O)CCC(NC(=O)C1CCCN1C(=O)C(Cc1cnc[nH]1)NC(=O)C([NH3+])CO)C(=O)NC(C=O)Cc1ccccc1. Appending empty array\n",
      "Exception message: 'NoneType' object is not subscriptable\n"
     ]
    },
    {
     "name": "stdout",
     "output_type": "stream",
     "text": [
      "1kl5 Featurization Failed\n",
      "2q8i Featurization Failed\n"
     ]
    },
    {
     "name": "stderr",
     "output_type": "stream",
     "text": [
      "Failed to featurize datapoint 0, [NH3+]C(CCSCC(O)C(O)C(=O)NO)C(=O)[O-]. Appending empty array\n",
      "Exception message: 'NoneType' object is not subscriptable\n"
     ]
    },
    {
     "name": "stdout",
     "output_type": "stream",
     "text": [
      "2fqt Featurization Failed\n"
     ]
    },
    {
     "name": "stderr",
     "output_type": "stream",
     "text": [
      "Failed to featurize datapoint 0, CC(C=Cc1c(C)cc(O)c(C)c1C)=CC=CC(C)=CC(=O)[O-]. Appending empty array\n",
      "Exception message: 'NoneType' object is not subscriptable\n"
     ]
    },
    {
     "name": "stdout",
     "output_type": "stream",
     "text": [
      "3cbs Featurization Failed\n",
      "4wmc Featurization Failed\n"
     ]
    },
    {
     "name": "stderr",
     "output_type": "stream",
     "text": [
      "Failed to featurize datapoint 0, C[NH+](CCC([NH3+])C(=O)[O-])CC1OC(n2cnc3c(N)ncnc32)C(O)C1O. Appending empty array\n",
      "Exception message: 'NoneType' object is not subscriptable\n"
     ]
    },
    {
     "name": "stdout",
     "output_type": "stream",
     "text": [
      "2h2e Featurization Failed\n",
      "4rj3 Featurization Failed\n"
     ]
    },
    {
     "name": "stderr",
     "output_type": "stream",
     "text": [
      "Failed to featurize datapoint 0, CC(C)n1cc(-c2cc(-c3ccc(C[NH+]4CCOCC4)cc3)cnc2N)nn1. Appending empty array\n",
      "Exception message: 'NoneType' object is not subscriptable\n"
     ]
    },
    {
     "name": "stdout",
     "output_type": "stream",
     "text": [
      "5opr Featurization Failed\n",
      "3nkx Featurization Failed\n"
     ]
    },
    {
     "name": "stderr",
     "output_type": "stream",
     "text": [
      "Failed to featurize datapoint 0, Cc1noc(C)c1-c1cc(NS(=O)(=O)c2ccccc2)cc(C(=O)[O-])c1. Appending empty array\n",
      "Exception message: 'NoneType' object is not subscriptable\n"
     ]
    },
    {
     "name": "stdout",
     "output_type": "stream",
     "text": [
      "4tu4 Featurization Failed\n"
     ]
    },
    {
     "name": "stderr",
     "output_type": "stream",
     "text": [
      "Failed to featurize datapoint 0, CC(NC(=O)C(NC(=O)C(CCC(=O)[O-])NC(=O)C(CCC(N)=O)NC(=O)C(CC(=O)[O-])NC(=O)C([NH3+])CCC(=O)[O-])C(C)O)C(=O)NC(C(=O)[O-])C(C)C. Appending empty array\n",
      "Exception message: 'NoneType' object is not subscriptable\n"
     ]
    },
    {
     "name": "stdout",
     "output_type": "stream",
     "text": [
      "5elq Featurization Failed\n",
      "5ugc Featurization Failed\n"
     ]
    },
    {
     "name": "stderr",
     "output_type": "stream",
     "text": [
      "Failed to featurize datapoint 0, CC(C)COC(=O)NC(CCC(=O)[O-])C(=O)NC(CC(C)C)C(=O)NC(CC(F)F)C(=O)NCCc1ccc(C(=O)[O-])cc1Cl. Appending empty array\n",
      "Exception message: 'NoneType' object is not subscriptable\n"
     ]
    },
    {
     "name": "stdout",
     "output_type": "stream",
     "text": [
      "2k1q Featurization Failed\n"
     ]
    },
    {
     "name": "stderr",
     "output_type": "stream",
     "text": [
      "Failed to featurize datapoint 0, CC(=O)NC1C(NC(N)=[NH2+])CC(C(=O)[O-])OC1C(O)C(O)CO. Appending empty array\n",
      "Exception message: 'NoneType' object is not subscriptable\n"
     ]
    },
    {
     "name": "stdout",
     "output_type": "stream",
     "text": [
      "3tic Featurization Failed\n"
     ]
    },
    {
     "name": "stderr",
     "output_type": "stream",
     "text": [
      "Failed to featurize datapoint 0, NS(=O)(=O)c1ccc(C(=O)N2CC[NH+](Cc3ccc(F)cc3)CC2)cc1. Appending empty array\n",
      "Exception message: 'NoneType' object is not subscriptable\n"
     ]
    },
    {
     "name": "stdout",
     "output_type": "stream",
     "text": [
      "6h34 Featurization Failed\n"
     ]
    },
    {
     "name": "stderr",
     "output_type": "stream",
     "text": [
      "Failed to featurize datapoint 0, None. Appending empty array\n",
      "Exception message: Python argument types in\n",
      "    rdkit.Chem.rdmolfiles.MolToSmiles(NoneType)\n",
      "did not match C++ signature:\n",
      "    MolToSmiles(class RDKit::ROMol mol, bool isomericSmiles=False, bool kekuleSmiles=False, int rootedAtAtom=-1, bool canonical=True, bool allBondsExplicit=False, bool allHsExplicit=False)\n"
     ]
    },
    {
     "name": "stdout",
     "output_type": "stream",
     "text": [
      "5mk3 Featurization Failed\n"
     ]
    },
    {
     "name": "stderr",
     "output_type": "stream",
     "text": [
      "Failed to featurize datapoint 0, O=C([O-])c1cccc(OCc2ccc(Cl)cc2)c1N1Cc2ccccc2C1=O. Appending empty array\n",
      "Exception message: 'NoneType' object is not subscriptable\n"
     ]
    },
    {
     "name": "stdout",
     "output_type": "stream",
     "text": [
      "5tri Featurization Failed\n"
     ]
    },
    {
     "name": "stderr",
     "output_type": "stream",
     "text": [
      "Failed to featurize datapoint 0, CC(C)CC1NC(=O)c2c1c1c3ccccc3n(CCCC[NH3+])c1c1[nH]c3ccccc3c21. Appending empty array\n",
      "Exception message: 'NoneType' object is not subscriptable\n"
     ]
    },
    {
     "name": "stdout",
     "output_type": "stream",
     "text": [
      "4mcv Featurization Failed\n"
     ]
    },
    {
     "name": "stderr",
     "output_type": "stream",
     "text": [
      "Failed to featurize datapoint 0, CC(O)C(C=O)C1CC(S)=C(C(=O)[O-])N1. Appending empty array\n",
      "Exception message: 'NoneType' object is not subscriptable\n"
     ]
    },
    {
     "name": "stdout",
     "output_type": "stream",
     "text": [
      "4jmx Featurization Failed\n"
     ]
    },
    {
     "name": "stderr",
     "output_type": "stream",
     "text": [
      "Failed to featurize datapoint 0, NC(=[NH2+])NCCCC([NH3+])C(=O)NC(CCCNC(N)=[NH2+])C(=O)NC(Cc1ccccc1)C(=O)NC(CS)C(N)=O. Appending empty array\n",
      "Exception message: 'NoneType' object is not subscriptable\n"
     ]
    },
    {
     "name": "stdout",
     "output_type": "stream",
     "text": [
      "3qw7 Featurization Failed\n"
     ]
    },
    {
     "name": "stderr",
     "output_type": "stream",
     "text": [
      "Failed to featurize datapoint 0, [NH3+]CCCCC([NH3+])C(=O)NC(Cc1c[nH]c2ccccc12)C(=O)NC(CC(=O)[O-])C(=O)NC(CC(=O)[O-])C(=O)NC(Cc1ccccc1)C(=O)[O-]. Appending empty array\n",
      "Exception message: 'NoneType' object is not subscriptable\n"
     ]
    },
    {
     "name": "stdout",
     "output_type": "stream",
     "text": [
      "5fjx Featurization Failed\n"
     ]
    },
    {
     "name": "stderr",
     "output_type": "stream",
     "text": [
      "Failed to featurize datapoint 0, CCC(C)C(NC(=O)C(CCCC[NH3+])NC(=O)C1CCCN1C(=O)C([NH3+])CCCNC(N)=[NH2+])C(=O)N1CCCC1C(=O)N1CCCC1C(=O)[O-]. Appending empty array\n",
      "Exception message: 'NoneType' object is not subscriptable\n"
     ]
    },
    {
     "name": "stdout",
     "output_type": "stream",
     "text": [
      "4aa2 Featurization Failed\n",
      "1lrt Featurization Failed\n"
     ]
    },
    {
     "name": "stderr",
     "output_type": "stream",
     "text": [
      "Failed to featurize datapoint 0, Cc1c(Oc2nc(N)ns2)cc2c(c1C)C(CC(=O)[O-])OB2O. Appending empty array\n",
      "Exception message: 'NoneType' object is not subscriptable\n"
     ]
    },
    {
     "name": "stdout",
     "output_type": "stream",
     "text": [
      "4wz5 Featurization Failed\n"
     ]
    },
    {
     "name": "stderr",
     "output_type": "stream",
     "text": [
      "Failed to featurize datapoint 0, C[NH+]1CCN(c2ccc(OCc3ccccc3)c(C(=O)Nc3cccnc3)c2)CC1. Appending empty array\n",
      "Exception message: 'NoneType' object is not subscriptable\n"
     ]
    },
    {
     "name": "stdout",
     "output_type": "stream",
     "text": [
      "5oq7 Featurization Failed\n",
      "1q6t Featurization Failed\n"
     ]
    },
    {
     "name": "stderr",
     "output_type": "stream",
     "text": [
      "Failed to featurize datapoint 0, NS(=O)(=O)c1c(F)c(F)c(S(=O)(=O)CCO)c(NC2CCCc3ccccc32)c1F. Appending empty array\n",
      "Exception message: 'NoneType' object is not subscriptable\n"
     ]
    },
    {
     "name": "stdout",
     "output_type": "stream",
     "text": [
      "5llp Featurization Failed\n"
     ]
    },
    {
     "name": "stderr",
     "output_type": "stream",
     "text": [
      "Failed to featurize datapoint 0, CC(C)(C)NC(=O)C1C[NH+](Cc2cc3ccccc3o2)CC[NH+]1CC(O)CC(Cc1ccccc1)C(=O)NC1c2ccccc2CC1O. Appending empty array\n",
      "Exception message: 'NoneType' object is not subscriptable\n"
     ]
    },
    {
     "name": "stdout",
     "output_type": "stream",
     "text": [
      "1c70 Featurization Failed\n",
      "3hiw Featurization Failed\n"
     ]
    },
    {
     "name": "stderr",
     "output_type": "stream",
     "text": [
      "Failed to featurize datapoint 0, CCC(C)C(NC(=O)CNC(=O)C(NC(=O)C(C)[NH3+])C(C)C)C(=O)NCC(=O)NC(C)C(=O)NC(C(=O)NC(Cc1ccccc1)C(=O)[O-])C(C)C. Appending empty array\n",
      "Exception message: 'NoneType' object is not subscriptable\n"
     ]
    },
    {
     "name": "stdout",
     "output_type": "stream",
     "text": [
      "5i8c Featurization Failed\n"
     ]
    },
    {
     "name": "stderr",
     "output_type": "stream",
     "text": [
      "Failed to featurize datapoint 0, O=C([O-])C1(O)CC(O)C(O)C(OCc2cc3ccccc3s2)=C1Cc1cccs1. Appending empty array\n",
      "Exception message: 'NoneType' object is not subscriptable\n"
     ]
    },
    {
     "name": "stdout",
     "output_type": "stream",
     "text": [
      "2y77 Featurization Failed\n"
     ]
    },
    {
     "name": "stderr",
     "output_type": "stream",
     "text": [
      "Failed to featurize datapoint 0, CCOC(=O)CCC(CC1CCNC1=O)NC(=O)C(C)Cc1ccccc1. Appending empty array\n",
      "Exception message: 'NoneType' object is not subscriptable\n"
     ]
    },
    {
     "name": "stdout",
     "output_type": "stream",
     "text": [
      "5dp4 Featurization Failed\n",
      "3l6f Featurization Failed\n"
     ]
    },
    {
     "name": "stderr",
     "output_type": "stream",
     "text": [
      "Failed to featurize datapoint 0, O=C([O-])c1cc2c(-c3cccc4ccccc34)cccc2[nH]1. Appending empty array\n",
      "Exception message: 'NoneType' object is not subscriptable\n"
     ]
    },
    {
     "name": "stdout",
     "output_type": "stream",
     "text": [
      "5djp Featurization Failed\n"
     ]
    },
    {
     "name": "stderr",
     "output_type": "stream",
     "text": [
      "Failed to featurize datapoint 0, CC(=O)C(CC(=O)[O-])NC(=O)C1C=CC(C)n2c(=O)n(CCCC(=O)[O-])c(=O)n21. Appending empty array\n",
      "Exception message: 'NoneType' object is not subscriptable\n"
     ]
    },
    {
     "name": "stdout",
     "output_type": "stream",
     "text": [
      "3kjq Featurization Failed\n"
     ]
    },
    {
     "name": "stderr",
     "output_type": "stream",
     "text": [
      "Failed to featurize datapoint 0, CC1[NH2+]C(CNC(=O)CCc2c[nH]c3ccccc23)C(O)C(O)C1O. Appending empty array\n",
      "Exception message: 'NoneType' object is not subscriptable\n"
     ]
    },
    {
     "name": "stdout",
     "output_type": "stream",
     "text": [
      "2zx5 Featurization Failed\n"
     ]
    },
    {
     "name": "stderr",
     "output_type": "stream",
     "text": [
      "Failed to featurize datapoint 0, [NH2+]=c1[nH]c(=O)c2[nH]cc(C[NH+]3CC(O)C(CO)C3)c2[nH]1. Appending empty array\n",
      "Exception message: 'NoneType' object is not subscriptable\n"
     ]
    },
    {
     "name": "stdout",
     "output_type": "stream",
     "text": [
      "4ear Featurization Failed\n"
     ]
    },
    {
     "name": "stderr",
     "output_type": "stream",
     "text": [
      "Failed to featurize datapoint 0, O=C([O-])c1cccc(C=Cc2ccc(O)cc2Cl)c1. Appending empty array\n",
      "Exception message: 'NoneType' object is not subscriptable\n"
     ]
    },
    {
     "name": "stdout",
     "output_type": "stream",
     "text": [
      "5u4d Featurization Failed\n"
     ]
    },
    {
     "name": "stderr",
     "output_type": "stream",
     "text": [
      "Failed to featurize datapoint 0, C=C1C(O)CC(=CC=C2CCCC3(C)C2CCC3C(C)C(CCO)CCCCCC)CC1O. Appending empty array\n",
      "Exception message: 'NoneType' object is not subscriptable\n"
     ]
    },
    {
     "name": "stdout",
     "output_type": "stream",
     "text": [
      "5awj Featurization Failed\n"
     ]
    },
    {
     "name": "stderr",
     "output_type": "stream",
     "text": [
      "Failed to featurize datapoint 0, CC(=O)NC(Cc1ccc(C(N)=[NH2+])cc1)C(=O)NC(C(=O)NC(CO)Cc1ccc[n+](C)c1)C1CCCCC1. Appending empty array\n",
      "Exception message: 'NoneType' object is not subscriptable\n"
     ]
    },
    {
     "name": "stdout",
     "output_type": "stream",
     "text": [
      "7kme Featurization Failed\n"
     ]
    },
    {
     "name": "stderr",
     "output_type": "stream",
     "text": [
      "Failed to featurize datapoint 0, O=C(C[N+]1=CC(NC(=O)c2ccc(Cl)s2)CC1C(=O)NCC1CC1)Nc1ccc(-n2ccccc2=O)cc1F. Appending empty array\n",
      "Exception message: 'NoneType' object is not subscriptable\n"
     ]
    },
    {
     "name": "stdout",
     "output_type": "stream",
     "text": [
      "2vwm Featurization Failed\n"
     ]
    },
    {
     "name": "stderr",
     "output_type": "stream",
     "text": [
      "Failed to featurize datapoint 0, CC(C)CC1NC(=O)C(CCCNC(N)=[NH2+])NC(=O)C(CCCNC(N)=[NH2+])NC(=O)C(C(C)O)NC(=O)C(CO)NC(=O)C(CC(C)C)NC(=O)C(CC(=O)[O-])NC(=O)C(Cc2cccc(Br)c2)NC(=O)C(CCC(N)=O)NC(=O)C2ON2C(=O)CNC(=O)C(CCCC[NH3+])NC1=O. Appending empty array\n",
      "Exception message: 'PUGREST.BadRequest: error: '\n"
     ]
    },
    {
     "name": "stdout",
     "output_type": "stream",
     "text": [
      "5ir1 Featurization Failed\n"
     ]
    },
    {
     "name": "stderr",
     "output_type": "stream",
     "text": [
      "Failed to featurize datapoint 0, CC(=O)NC1C(OC2C(O)C(O)OC(CO)C2OC2OC(COC3OC(C)C(O)C(O)C3O)C(O)C(O)C2O)OC(CO)C(O)C1O. Appending empty array\n",
      "Exception message: 'NoneType' object is not subscriptable\n"
     ]
    },
    {
     "name": "stdout",
     "output_type": "stream",
     "text": [
      "2x6x Featurization Failed\n"
     ]
    },
    {
     "name": "stderr",
     "output_type": "stream",
     "text": [
      "Failed to featurize datapoint 0, O=C1C(O)C(O)CC(O)(C(=O)[O-])C1Cc1c(F)c(F)c(F)c(F)c1F. Appending empty array\n",
      "Exception message: 'NoneType' object is not subscriptable\n"
     ]
    },
    {
     "name": "stdout",
     "output_type": "stream",
     "text": [
      "4b6p Featurization Failed\n"
     ]
    },
    {
     "name": "stderr",
     "output_type": "stream",
     "text": [
      "Failed to featurize datapoint 0, CC(=O)NC(CCCNC(N)=[NH2+])C(=O)NC1CCCCNC(=O)CNC(=O)C(Cc2ccccc2)NC(=O)C(CC(C)C)NC1=O. Appending empty array\n",
      "Exception message: 'NoneType' object is not subscriptable\n"
     ]
    },
    {
     "name": "stdout",
     "output_type": "stream",
     "text": [
      "1urc Featurization Failed\n"
     ]
    },
    {
     "name": "stderr",
     "output_type": "stream",
     "text": [
      "Failed to featurize datapoint 0, CCC(C)C([NH3+])C(=O)NC(Cc1cnc[nH]1)C(=O)NC(C(=O)NC(C(=O)NC(C(=O)N1CCCC1C(=O)NC(C)C(=O)NC(CC(=O)[O-])C(=O)NC(CC(C)C)C(=O)NC(Cc1c[nH]c2ccccc12)C(=O)NC(CC(=O)[O-])C(=O)NC(Cc1c[nH]c2ccccc12)C(=O)NC(C(=O)NC(CC(N)=O)C(=O)[O-])C(C)CC)C(C)CC)C(C)O)C(C)C. Appending empty array\n",
      "Exception message: 'NoneType' object is not subscriptable\n"
     ]
    },
    {
     "name": "stdout",
     "output_type": "stream",
     "text": [
      "5hhx Featurization Failed\n"
     ]
    },
    {
     "name": "stderr",
     "output_type": "stream",
     "text": [
      "Failed to featurize datapoint 0, Oc1cc(O)c(-c2[nH]ncc2N2CC[NH2+]CC2)cc1Cl. Appending empty array\n",
      "Exception message: 'NoneType' object is not subscriptable\n"
     ]
    },
    {
     "name": "stdout",
     "output_type": "stream",
     "text": [
      "2ccs Featurization Failed\n",
      "5ks7 Featurization Failed\n"
     ]
    },
    {
     "name": "stderr",
     "output_type": "stream",
     "text": [
      "Failed to featurize datapoint 0, Cc1cc(C)c(C2C(C(=O)c3cccs3)=C(O)C(=O)N2c2ccc(CC(=O)[O-])cc2)cc1C. Appending empty array\n",
      "Exception message: 'NoneType' object is not subscriptable\n"
     ]
    },
    {
     "name": "stdout",
     "output_type": "stream",
     "text": [
      "4ibb Featurization Failed\n"
     ]
    },
    {
     "name": "stderr",
     "output_type": "stream",
     "text": [
      "Failed to featurize datapoint 0, CC1NC(=[NH+]CCCC([NH3+])C(=O)[O-])NC1O. Appending empty array\n",
      "Exception message: 'NoneType' object is not subscriptable\n"
     ]
    },
    {
     "name": "stdout",
     "output_type": "stream",
     "text": [
      "2mov Featurization Failed\n",
      "5vdp Featurization Failed\n"
     ]
    },
    {
     "name": "stderr",
     "output_type": "stream",
     "text": [
      "Failed to featurize datapoint 0, O=[N+]1C=C(C(F)(F)F)C=CC1=S. Appending empty array\n",
      "Exception message: 'NoneType' object is not subscriptable\n"
     ]
    },
    {
     "name": "stdout",
     "output_type": "stream",
     "text": [
      "4q8x Featurization Failed\n"
     ]
    },
    {
     "name": "stderr",
     "output_type": "stream",
     "text": [
      "Failed to featurize datapoint 0, CC(C)CC(NC(=O)C(C)NC(=O)C(CCCC[NH3+])NC(=O)C1CCCN1C(=O)C(Cc1ccccc1)NC(=O)C(NC(=O)CNC(=O)C1CCCN1C(=O)C(CCCC[NH3+])NC(=O)C(Cc1cnc[nH]1)NC(=O)C(CC(=O)[O-])NC(=O)C([NH3+])CCC(=O)[O-])C(C)O)C(=O)NC(C(=O)NC(CC(N)=O)C(=O)[O-])C(C)O. Appending empty array\n",
      "Exception message: 'NoneType' object is not subscriptable\n"
     ]
    },
    {
     "name": "stdout",
     "output_type": "stream",
     "text": [
      "2loz Featurization Failed\n"
     ]
    },
    {
     "name": "stderr",
     "output_type": "stream",
     "text": [
      "Failed to featurize datapoint 0, CCC(C)C(NC(=O)C([NH3+])CC(=O)[O-])C(=O)N1CCCC1C(=O)NC(Cc1ccccc1)C(=O)[O-]. Appending empty array\n",
      "Exception message: 'NoneType' object is not subscriptable\n"
     ]
    },
    {
     "name": "stdout",
     "output_type": "stream",
     "text": [
      "4z0u Featurization Failed\n"
     ]
    },
    {
     "name": "stderr",
     "output_type": "stream",
     "text": [
      "Failed to featurize datapoint 0, [NH3+]C(C(=O)[O-])C1N=C(C(=O)[O-])CCS1. Appending empty array\n",
      "Exception message: 'NoneType' object is not subscriptable\n"
     ]
    },
    {
     "name": "stdout",
     "output_type": "stream",
     "text": [
      "4old Featurization Failed\n"
     ]
    },
    {
     "name": "stderr",
     "output_type": "stream",
     "text": [
      "Failed to featurize datapoint 0, CN1CCN=C1c1cccc(Oc2nc(Oc3cc(C(N)=[NH2+])ccc3O)c(F)c(N(C)CC(=O)[O-])c2F)c1. Appending empty array\n",
      "Exception message: 'NoneType' object is not subscriptable\n"
     ]
    },
    {
     "name": "stdout",
     "output_type": "stream",
     "text": [
      "1fjs Featurization Failed\n"
     ]
    },
    {
     "name": "stderr",
     "output_type": "stream",
     "text": [
      "Failed to featurize datapoint 0, [NH3+]C(CF)(Cc1c[nH]c2ccccc12)C(=O)[O-]. Appending empty array\n",
      "Exception message: 'NoneType' object is not subscriptable\n"
     ]
    },
    {
     "name": "stdout",
     "output_type": "stream",
     "text": [
      "4obv Featurization Failed\n"
     ]
    },
    {
     "name": "stderr",
     "output_type": "stream",
     "text": [
      "Failed to featurize datapoint 0, CCCCC(NC(=O)C1CCCN1C(=O)C(C)NC(=O)C(C)[NH3+])B(O)O. Appending empty array\n",
      "Exception message: 'NoneType' object is not subscriptable\n"
     ]
    },
    {
     "name": "stdout",
     "output_type": "stream",
     "text": [
      "6lpr Featurization Failed\n",
      "4dxj Featurization Failed\n",
      "2lct Featurization Failed\n"
     ]
    },
    {
     "name": "stderr",
     "output_type": "stream",
     "text": [
      "Failed to featurize datapoint 0, CSCCC(NC(=O)C(C)NC(=O)C(NC(=O)C([NH3+])CC(=O)[O-])C(C)O)C(=O)NC(CCC(=O)[O-])C(=O)NC(CCC(=O)[O-])C(=O)NC(C(=O)NC(CC(=O)[O-])C(=O)[O-])C(C)C. Appending empty array\n",
      "Exception message: 'NoneType' object is not subscriptable\n"
     ]
    },
    {
     "name": "stdout",
     "output_type": "stream",
     "text": [
      "5mgx Featurization Failed\n",
      "4hbn Featurization Failed\n",
      "4n1z Featurization Failed\n",
      "1h79 Featurization Failed\n"
     ]
    },
    {
     "name": "stderr",
     "output_type": "stream",
     "text": [
      "Failed to featurize datapoint 0, CC(=O)c1ccc(-c2cc(NS(=O)(=O)c3ccc(C)cc3C)c(C(=O)[O-])s2)s1. Appending empty array\n",
      "Exception message: 'NoneType' object is not subscriptable\n"
     ]
    },
    {
     "name": "stdout",
     "output_type": "stream",
     "text": [
      "2d41 Featurization Failed\n"
     ]
    },
    {
     "name": "stderr",
     "output_type": "stream",
     "text": [
      "Failed to featurize datapoint 0, O=C(Nc1cc(C(F)(F)F)ccc1N1CC[NH+](Cc2ccccn2)CC1)c1ccc(-c2ccncc2)o1. Appending empty array\n",
      "Exception message: 'NoneType' object is not subscriptable\n"
     ]
    },
    {
     "name": "stdout",
     "output_type": "stream",
     "text": [
      "5my8 Featurization Failed\n"
     ]
    },
    {
     "name": "stderr",
     "output_type": "stream",
     "text": [
      "Failed to featurize datapoint 0, CCOc1cc(OC(C)C)c(F)c(C(Nc2ccc(C(N)=[NH2+])cc2)c2nc(-c3ccccc3C(N)=O)c[nH]2)c1. Appending empty array\n",
      "Exception message: 'NoneType' object is not subscriptable\n"
     ]
    },
    {
     "name": "stdout",
     "output_type": "stream",
     "text": [
      "4yt7 Featurization Failed\n"
     ]
    },
    {
     "name": "stderr",
     "output_type": "stream",
     "text": [
      "Failed to featurize datapoint 0, CC1[NH2+]C2C(OC(CO)C(O)C2O)S1. Appending empty array\n",
      "Exception message: 'NoneType' object is not subscriptable\n"
     ]
    },
    {
     "name": "stdout",
     "output_type": "stream",
     "text": [
      "4azc Featurization Failed\n"
     ]
    },
    {
     "name": "stderr",
     "output_type": "stream",
     "text": [
      "Failed to featurize datapoint 0, O=C([O-])COc1c(C(=O)[O-])sc2ncccc12. Appending empty array\n",
      "Exception message: 'NoneType' object is not subscriptable\n"
     ]
    },
    {
     "name": "stdout",
     "output_type": "stream",
     "text": [
      "2azr Featurization Failed\n"
     ]
    },
    {
     "name": "stderr",
     "output_type": "stream",
     "text": [
      "Failed to featurize datapoint 0, CCOC(=O)C1=C(COCC[NH+](C)C)NC(C)=C(C(=O)OC)C1c1ccccc1Br. Appending empty array\n",
      "Exception message: 'NoneType' object is not subscriptable\n"
     ]
    },
    {
     "name": "stdout",
     "output_type": "stream",
     "text": [
      "5kls Featurization Failed\n"
     ]
    },
    {
     "name": "stderr",
     "output_type": "stream",
     "text": [
      "Failed to featurize datapoint 0, C=C1CC23C=CC(=O)C(C)(CCC(=O)NC4C(=O)CC=C(C(=O)[O-])C4=O)C2CC1CC3. Appending empty array\n",
      "Exception message: 'NoneType' object is not subscriptable\n"
     ]
    },
    {
     "name": "stdout",
     "output_type": "stream",
     "text": [
      "3ho2 Featurization Failed\n",
      "3lf0 Featurization Failed\n",
      "5oq6 Featurization Failed\n"
     ]
    },
    {
     "name": "stderr",
     "output_type": "stream",
     "text": [
      "Failed to featurize datapoint 0, CCC1CCCC(NC(=O)C=Cc2cc(Cl)ccc2-n2cnnn2)c2nc(c[nH]2)-c2ccc(NC(=O)OC)cc2NC1=O. Appending empty array\n",
      "Exception message: 'NoneType' object is not subscriptable\n"
     ]
    },
    {
     "name": "stdout",
     "output_type": "stream",
     "text": [
      "5q0g Featurization Failed\n"
     ]
    },
    {
     "name": "stderr",
     "output_type": "stream",
     "text": [
      "Failed to featurize datapoint 0, Cc1ccc(N2C(=O)C(O)=C(C(=O)c3ccccc3)C2c2cc(Br)cs2)cc1C(=O)[O-]. Appending empty array\n",
      "Exception message: 'NoneType' object is not subscriptable\n"
     ]
    },
    {
     "name": "stdout",
     "output_type": "stream",
     "text": [
      "4ibd Featurization Failed\n"
     ]
    },
    {
     "name": "stderr",
     "output_type": "stream",
     "text": [
      "Failed to featurize datapoint 0, Cn1cc(C(=O)Nc2cccc(C(=O)[O-])c2)ccc1=O. Appending empty array\n",
      "Exception message: 'NoneType' object is not subscriptable\n"
     ]
    },
    {
     "name": "stdout",
     "output_type": "stream",
     "text": [
      "5ep7 Featurization Failed\n",
      "5mat Featurization Failed\n"
     ]
    },
    {
     "name": "stderr",
     "output_type": "stream",
     "text": [
      "Failed to featurize datapoint 0, Oc1ccc2c(Cc3ccc(OCC[NH+]4CCCC4)cc3)c(-c3ccc(OCC[NH+]4CCCC4)nc3)sc2c1. Appending empty array\n",
      "Exception message: 'NoneType' object is not subscriptable\n"
     ]
    },
    {
     "name": "stdout",
     "output_type": "stream",
     "text": [
      "1d3p Featurization Failed\n"
     ]
    },
    {
     "name": "stderr",
     "output_type": "stream",
     "text": [
      "Failed to featurize datapoint 0, CC(C)CC(NC(=O)C(CS)NC(=O)C(CCC(=O)[O-])NC(=O)C(Cc1ccc(O)cc1)NC(=O)CNC(=O)C(Cc1ccc(O)cc1)NC(=O)C(CCC(=O)[O-])NC(=O)C(CCC(=O)[O-])NC(=O)C([NH3+])CC(=O)[O-])C(=O)NC(CC(=O)[O-])C(=O)[O-]. Appending empty array\n",
      "Exception message: 'NoneType' object is not subscriptable\n"
     ]
    },
    {
     "name": "stdout",
     "output_type": "stream",
     "text": [
      "2pr9 Featurization Failed\n"
     ]
    },
    {
     "name": "stderr",
     "output_type": "stream",
     "text": [
      "Failed to featurize datapoint 0, NC(=O)C(CCC(=O)[O-])NC(=O)C(CCC(=O)[O-])NC(=O)C(CC(=O)[O-])Cc1cc(-c2ccc(-c3cccc(Cl)c3)cc2)no1. Appending empty array\n",
      "Exception message: 'NoneType' object is not subscriptable\n"
     ]
    },
    {
     "name": "stdout",
     "output_type": "stream",
     "text": [
      "5cxa Featurization Failed\n",
      "6fn9 Featurization Failed\n"
     ]
    },
    {
     "name": "stderr",
     "output_type": "stream",
     "text": [
      "Failed to featurize datapoint 0, CCc1cccc(CC)c1NC(=O)c1nn(C)c2c1ccc1cnc(Nc3ccc(N4CC[NH+](C)CC4)cc3OC)nc12. Appending empty array\n",
      "Exception message: 'NoneType' object is not subscriptable\n"
     ]
    },
    {
     "name": "stdout",
     "output_type": "stream",
     "text": [
      "5mrb Featurization Failed\n",
      "4e9c Featurization Failed\n",
      "4ztm Featurization Failed\n"
     ]
    },
    {
     "name": "stderr",
     "output_type": "stream",
     "text": [
      "Failed to featurize datapoint 0, NC(=[NH2+])c1cccc(-c2cccc(C(CCCNc3ccncc3)C(=O)[O-])c2)c1. Appending empty array\n",
      "Exception message: 'NoneType' object is not subscriptable\n"
     ]
    },
    {
     "name": "stdout",
     "output_type": "stream",
     "text": [
      "1xka Featurization Failed\n"
     ]
    },
    {
     "name": "stderr",
     "output_type": "stream",
     "text": [
      "Failed to featurize datapoint 0, Cc1ccc(CC([NH3+])CNc2nnc(-c3ccc4n[nH]cc4c3)s2)cc1. Appending empty array\n",
      "Exception message: 'NoneType' object is not subscriptable\n"
     ]
    },
    {
     "name": "stdout",
     "output_type": "stream",
     "text": [
      "3l9n Featurization Failed\n",
      "6aqo Featurization Failed\n"
     ]
    },
    {
     "name": "stderr",
     "output_type": "stream",
     "text": [
      "Failed to featurize datapoint 0, CCN(C=Cc1nc(Nc2ccccc2)nc2nc[nH]c12)CC. Appending empty array\n",
      "Exception message: 'NoneType' object is not subscriptable\n"
     ]
    },
    {
     "name": "stdout",
     "output_type": "stream",
     "text": [
      "5m55 Featurization Failed\n",
      "4dhm Featurization Failed\n"
     ]
    },
    {
     "name": "stderr",
     "output_type": "stream",
     "text": [
      "Failed to featurize datapoint 0, CC(C)C(NC(=O)C1CCCN1C(=O)C(CCCNC(N)=[NH2+])NC(=O)C(CC(N)=O)NC(=O)C([NH3+])Cc1ccccc1)C(=O)[O-]. Appending empty array\n",
      "Exception message: 'NoneType' object is not subscriptable\n"
     ]
    },
    {
     "name": "stdout",
     "output_type": "stream",
     "text": [
      "2pcu Featurization Failed\n"
     ]
    },
    {
     "name": "stderr",
     "output_type": "stream",
     "text": [
      "Failed to featurize datapoint 0, O=C1N=CCc2cc(NC(=O)C3C[NH2+]CC3c3ccc(Cl)cc3)c(Cl)cc21. Appending empty array\n",
      "Exception message: 'NoneType' object is not subscriptable\n"
     ]
    },
    {
     "name": "stdout",
     "output_type": "stream",
     "text": [
      "3ndm Featurization Failed\n"
     ]
    },
    {
     "name": "stderr",
     "output_type": "stream",
     "text": [
      "Failed to featurize datapoint 0, CC(NC(=O)C(CCCC[NH2+]C(C)C(=O)[O-])NC(=O)C(Cc1ccccc1)NC(=O)C(CCC(=O)[O-])NC(=O)C([NH3+])CC(=O)[O-])C(=O)NC(CC(=O)[O-])C(=O)NC(CCC(=O)[O-])C(=O)[O-]. Appending empty array\n",
      "Exception message: 'NoneType' object is not subscriptable\n"
     ]
    },
    {
     "name": "stdout",
     "output_type": "stream",
     "text": [
      "2l7u Featurization Failed\n",
      "4y5h Featurization Failed\n"
     ]
    },
    {
     "name": "stderr",
     "output_type": "stream",
     "text": [
      "Failed to featurize datapoint 0, COCC(Oc1cc(CC2C[S+](O)CC([NH2+]Cc3cccc(C(C)(C)C)c3)C2O)cc(F)c1N)C(F)(F)F. Appending empty array\n",
      "Exception message: 'NoneType' object is not subscriptable\n"
     ]
    },
    {
     "name": "stdout",
     "output_type": "stream",
     "text": [
      "4lxk Featurization Failed\n"
     ]
    },
    {
     "name": "stderr",
     "output_type": "stream",
     "text": [
      "Failed to featurize datapoint 0, CC(C)C1C[NH2+]C(C(=O)[O-])C1CC(=O)[O-]. Appending empty array\n",
      "Exception message: 'NoneType' object is not subscriptable\n"
     ]
    },
    {
     "name": "stdout",
     "output_type": "stream",
     "text": [
      "2xxy Featurization Failed\n",
      "4qlq Featurization Failed\n"
     ]
    },
    {
     "name": "stderr",
     "output_type": "stream",
     "text": [
      "Failed to featurize datapoint 0, CC(C)CC(C=O)NC(=O)C(CC(C)C)NC(=O)C(Cc1cnc[nH]1)NC(=O)C(CC(=O)[O-])NC(=O)C([NH3+])CC(=O)[O-]. Appending empty array\n",
      "Exception message: 'NoneType' object is not subscriptable\n"
     ]
    },
    {
     "name": "stdout",
     "output_type": "stream",
     "text": [
      "1juq Featurization Failed\n"
     ]
    },
    {
     "name": "stderr",
     "output_type": "stream",
     "text": [
      "Failed to featurize datapoint 0, CC(C)ON(C(C(=O)N=O)C(C)C)S(=O)(=O)c1ccc(-c2ccccc2)cc1. Appending empty array\n",
      "Exception message: 'NoneType' object is not subscriptable\n"
     ]
    },
    {
     "name": "stdout",
     "output_type": "stream",
     "text": [
      "4xct Featurization Failed\n"
     ]
    },
    {
     "name": "stderr",
     "output_type": "stream",
     "text": [
      "Failed to featurize datapoint 0, COc1ccc(S(=O)(=O)NCCCCC(=O)[O-])c2ccccc12. Appending empty array\n",
      "Exception message: 'NoneType' object is not subscriptable\n"
     ]
    },
    {
     "name": "stdout",
     "output_type": "stream",
     "text": [
      "5y12 Featurization Failed\n"
     ]
    },
    {
     "name": "stderr",
     "output_type": "stream",
     "text": [
      "Failed to featurize datapoint 0, CC(C)C(C=O)C1C(NS(C)(=O)=O)CCN1C(=O)c1coc(C[NH+]2CCCC2)n1. Appending empty array\n",
      "Exception message: 'NoneType' object is not subscriptable\n"
     ]
    },
    {
     "name": "stdout",
     "output_type": "stream",
     "text": [
      "1h1b Featurization Failed\n"
     ]
    },
    {
     "name": "stderr",
     "output_type": "stream",
     "text": [
      "Failed to featurize datapoint 0, [NH2+]=C1NC2(c3cc(NC(=O)c4ccc(Br)cn4)ccc3F)OCCC2CS1. Appending empty array\n",
      "Exception message: 'NoneType' object is not subscriptable\n"
     ]
    },
    {
     "name": "stdout",
     "output_type": "stream",
     "text": [
      "5tol Featurization Failed\n"
     ]
    },
    {
     "name": "stderr",
     "output_type": "stream",
     "text": [
      "Failed to featurize datapoint 0, CC([NH3+])C(=O)NC(CCCNC(N)=[NH2+])C(=O)NC(C(=O)NC(C)C(=O)NC(CCC(N)=O)C(=O)NC(C(=O)NC(C)C(=O)NC(C)C(=O)NC(CCCC[N+](C)(C)C)C(=O)NC(CO)C(=O)[O-])C(C)O)C(C)O. Appending empty array\n",
      "Exception message: 'NoneType' object is not subscriptable\n"
     ]
    },
    {
     "name": "stdout",
     "output_type": "stream",
     "text": [
      "3fdt Featurization Failed\n"
     ]
    },
    {
     "name": "stderr",
     "output_type": "stream",
     "text": [
      "Failed to featurize datapoint 0, CCC(C)C(NC(=O)C(CC(=O)[O-])NC(=O)C(Cc1c[nH]cn1)NC(=O)C(CCC(N)=O)NC(=O)C([NH3+])CCCC[NH3+])C(=O)NC(CCCNC(N)=[NH2+])C(=O)NC(CO)C(=O)NC(Cc1ccccc1)C(=O)NC(Cc1ccccc1)C(=O)NC(C(=O)[O-])C(C)C. Appending empty array\n",
      "Exception message: 'NoneType' object is not subscriptable\n"
     ]
    },
    {
     "name": "stdout",
     "output_type": "stream",
     "text": [
      "5mlo Featurization Failed\n",
      "5nz2 Featurization Failed\n"
     ]
    },
    {
     "name": "stderr",
     "output_type": "stream",
     "text": [
      "Failed to featurize datapoint 0, CC(=O)NC(Cc1ccccc1)C(O)C[NH2+]C1CC(C)(C)Oc2sc(CC(C)(C)C)cc21. Appending empty array\n",
      "Exception message: 'NoneType' object is not subscriptable\n"
     ]
    },
    {
     "name": "stdout",
     "output_type": "stream",
     "text": [
      "4exg Featurization Failed\n"
     ]
    },
    {
     "name": "stderr",
     "output_type": "stream",
     "text": [
      "Failed to featurize datapoint 0, CC1C[NH+](Cc2ccc(F)cc2)C(C)CN1C(=O)c1cc2c(C(=O)C(=O)N(C)C)cn(C)c2cc1Cl. Appending empty array\n",
      "Exception message: 'NoneType' object is not subscriptable\n"
     ]
    },
    {
     "name": "stdout",
     "output_type": "stream",
     "text": [
      "3hub Featurization Failed\n",
      "4v0i Featurization Failed\n",
      "5fqt Featurization Failed\n",
      "5foo Featurization Failed\n"
     ]
    },
    {
     "name": "stderr",
     "output_type": "stream",
     "text": [
      "Failed to featurize datapoint 0, CC(C)(C)OC(=O)N1CCCC1C(=O)N1CCC(C(=O)NC(C(=O)[O-])C2CCCC2)(c2ccc(Br)cc2)CC1. Appending empty array\n",
      "Exception message: 'NoneType' object is not subscriptable\n"
     ]
    },
    {
     "name": "stdout",
     "output_type": "stream",
     "text": [
      "6bjo Featurization Failed\n"
     ]
    },
    {
     "name": "stderr",
     "output_type": "stream",
     "text": [
      "Failed to featurize datapoint 0, CSCCC(NC(=O)C(CCCC[NH3+])NC(=O)C(NC(=O)C(C)NC(=O)C(CCCNC(N)=[NH2+])NC(=O)C([NH3+])CCCNC(N)=[NH2+])C(C)O)C(N)=O. Appending empty array\n",
      "Exception message: 'NoneType' object is not subscriptable\n"
     ]
    },
    {
     "name": "stdout",
     "output_type": "stream",
     "text": [
      "3ddb Featurization Failed\n"
     ]
    },
    {
     "name": "stderr",
     "output_type": "stream",
     "text": [
      "Failed to featurize datapoint 0, COc1ccccc1COCCCOc1ccc(N2C(=O)C[NH2+]CC2COc2ccc3c(c2)NCCC3)cc1. Appending empty array\n",
      "Exception message: 'NoneType' object is not subscriptable\n"
     ]
    },
    {
     "name": "stdout",
     "output_type": "stream",
     "text": [
      "2bkt Featurization Failed\n"
     ]
    },
    {
     "name": "stderr",
     "output_type": "stream",
     "text": [
      "Failed to featurize datapoint 0, CC(C)C(NC(=O)C(NC(=O)C([NH3+])CCC(=O)[O-])C(C)O)C(=O)NC(CS)C(=O)N1CCCC1C(=O)NC(CCCNC(N)=O)C(=O)NC(C(=O)NC(C(=O)NC(CCC(N)=O)C(=O)NC(CCC(N)=O)C(=O)NC(CO)C(=O)N1CCCC1C(=O)NC(CCC(=O)[O-])C(=O)[O-])C(C)O)C(C)O. Appending empty array\n",
      "Exception message: 'NoneType' object is not subscriptable\n"
     ]
    },
    {
     "name": "stdout",
     "output_type": "stream",
     "text": [
      "6bix Featurization Failed\n"
     ]
    },
    {
     "name": "stderr",
     "output_type": "stream",
     "text": [
      "Failed to featurize datapoint 0, CC1SCc2ncnc(N3CCN(C(=O)C([NH3+])Cc4c[nH]c5ccccc45)CC3)c21. Appending empty array\n",
      "Exception message: 'NoneType' object is not subscriptable\n"
     ]
    },
    {
     "name": "stdout",
     "output_type": "stream",
     "text": [
      "3ow3 Featurization Failed\n"
     ]
    },
    {
     "name": "stderr",
     "output_type": "stream",
     "text": [
      "Failed to featurize datapoint 0, CSC(CCCC1C(=[NH2+])NC(=[NH2+])NC1=O)c1ccc(C(=O)NC(CCC(=O)[O-])C(=O)[O-])cc1. Appending empty array\n",
      "Exception message: 'NoneType' object is not subscriptable\n"
     ]
    },
    {
     "name": "stdout",
     "output_type": "stream",
     "text": [
      "4ew3 Featurization Failed\n"
     ]
    },
    {
     "name": "stderr",
     "output_type": "stream",
     "text": [
      "Failed to featurize datapoint 0, CC(C(=O)NCc1ccc(C(N)=[NH2+])nc1)N(C)C(=O)C(CC1CCCCC1)[NH2+]CC(=O)[O-]. Appending empty array\n",
      "Exception message: 'NoneType' object is not subscriptable\n"
     ]
    },
    {
     "name": "stdout",
     "output_type": "stream",
     "text": [
      "2a2x Featurization Failed\n",
      "3nsq Featurization Failed\n"
     ]
    },
    {
     "name": "stderr",
     "output_type": "stream",
     "text": [
      "Failed to featurize datapoint 0, CC(OC1OC(CO)C(O)C(O)C1O)C([NH3+])C(=O)[O-]. Appending empty array\n",
      "Exception message: 'NoneType' object is not subscriptable\n"
     ]
    },
    {
     "name": "stdout",
     "output_type": "stream",
     "text": [
      "3vzg Featurization Failed\n"
     ]
    },
    {
     "name": "stderr",
     "output_type": "stream",
     "text": [
      "Failed to featurize datapoint 0, COCCOC(CC(O)C(COc1cc(F)cc(F)c1)NC(=O)c1cc(C(=O)NC(C)c2ccccc2)cc(N(C)S(C)(=O)=O)c1)C(=O)NC(C(=O)NCc1ccccc1)C(C)C. Appending empty array\n",
      "Exception message: 'NoneType' object is not subscriptable\n"
     ]
    },
    {
     "name": "stdout",
     "output_type": "stream",
     "text": [
      "3i25 Featurization Failed\n",
      "4tpt Featurization Failed\n"
     ]
    },
    {
     "name": "stderr",
     "output_type": "stream",
     "text": [
      "Failed to featurize datapoint 0, O=C(NC(Cc1cccc(F)c1)C(=O)[O-])c1ccc2ccccc2c1. Appending empty array\n",
      "Exception message: 'NoneType' object is not subscriptable\n"
     ]
    },
    {
     "name": "stdout",
     "output_type": "stream",
     "text": [
      "3i6c Featurization Failed\n"
     ]
    },
    {
     "name": "stderr",
     "output_type": "stream",
     "text": [
      "Failed to featurize datapoint 0, CC(C)CC(NC(=O)C([NH3+])CC(N)=O)C(=O)N1CCCC1C(=O)NC(C(=O)NC(C)C(=O)N1CCCC1C(=O)N1CCCC1C(=O)NC(CCCNC(N)=[NH2+])C(=O)NC(CCCNC(N)=[NH2+])C(=O)NC(C)C(=O)[O-])C(C)O. Appending empty array\n",
      "Exception message: 'NoneType' object is not subscriptable\n"
     ]
    },
    {
     "name": "stdout",
     "output_type": "stream",
     "text": [
      "4wci Featurization Failed\n"
     ]
    },
    {
     "name": "stderr",
     "output_type": "stream",
     "text": [
      "Failed to featurize datapoint 0, COc1ccc(C2SN=NC2c2cc(Cl)c(O)cc2O)cc1OC. Appending empty array\n",
      "Exception message: 'NoneType' object is not subscriptable\n"
     ]
    },
    {
     "name": "stdout",
     "output_type": "stream",
     "text": [
      "2yi5 Featurization Failed\n"
     ]
    },
    {
     "name": "stderr",
     "output_type": "stream",
     "text": [
      "Failed to featurize datapoint 0, O=C([O-])CNC(=O)c1ccc(OCc2ccc(Cl)cc2)c(NC(=O)c2ccccc2)c1. Appending empty array\n",
      "Exception message: 'NoneType' object is not subscriptable\n"
     ]
    },
    {
     "name": "stdout",
     "output_type": "stream",
     "text": [
      "5trk Featurization Failed\n"
     ]
    },
    {
     "name": "stderr",
     "output_type": "stream",
     "text": [
      "Failed to featurize datapoint 0, O=S(=O)(O)CC[NH+]1CC[NH+](CCO)CC1. Appending empty array\n",
      "Exception message: 'NoneType' object is not subscriptable\n"
     ]
    },
    {
     "name": "stdout",
     "output_type": "stream",
     "text": [
      "1dg9 Featurization Failed\n"
     ]
    },
    {
     "name": "stderr",
     "output_type": "stream",
     "text": [
      "Failed to featurize datapoint 0, [NH3+]C1CCCN(c2cncc(-c3[nH]nc4ccc(-c5c(F)cccc5F)cc34)n2)C1. Appending empty array\n",
      "Exception message: 'NoneType' object is not subscriptable\n"
     ]
    },
    {
     "name": "stdout",
     "output_type": "stream",
     "text": [
      "4rpv Featurization Failed\n"
     ]
    },
    {
     "name": "stderr",
     "output_type": "stream",
     "text": [
      "Failed to featurize datapoint 0, CCCCCCCCCCCCCC=CC(O)C(COC1OC(CO)C(OC2OC(CO)C(O)C(O)C2O)C(O)C1O)[NH2+]C(O)CCCCCCC. Appending empty array\n",
      "Exception message: 'NoneType' object is not subscriptable\n"
     ]
    },
    {
     "name": "stdout",
     "output_type": "stream",
     "text": [
      "2eum Featurization Failed\n"
     ]
    },
    {
     "name": "stderr",
     "output_type": "stream",
     "text": [
      "Failed to featurize datapoint 0, C[NH+](C)CCc1cnn(-c2nccc3c(=O)[nH]cnc23)c1. Appending empty array\n",
      "Exception message: 'NoneType' object is not subscriptable\n"
     ]
    },
    {
     "name": "stdout",
     "output_type": "stream",
     "text": [
      "5f3e Featurization Failed\n"
     ]
    },
    {
     "name": "stderr",
     "output_type": "stream",
     "text": [
      "Failed to featurize datapoint 0, O=C([O-])c1cc(Br)ccc1NC1CCC[NH2+]C1. Appending empty array\n",
      "Exception message: 'NoneType' object is not subscriptable\n"
     ]
    },
    {
     "name": "stdout",
     "output_type": "stream",
     "text": [
      "3juo Featurization Failed\n",
      "1q4k Featurization Failed\n"
     ]
    },
    {
     "name": "stderr",
     "output_type": "stream",
     "text": [
      "Failed to featurize datapoint 0, O=C([O-])CSc1nc(-c2cccc(Cl)c2)no1. Appending empty array\n",
      "Exception message: 'NoneType' object is not subscriptable\n"
     ]
    },
    {
     "name": "stdout",
     "output_type": "stream",
     "text": [
      "1i48 Featurization Failed\n",
      "4kxm Featurization Failed\n"
     ]
    },
    {
     "name": "stderr",
     "output_type": "stream",
     "text": [
      "Failed to featurize datapoint 0, CC1(C)Cc2cc(Cl)ccc2C(NC(Cc2ccccc2)c2nc(=O)c3cnccc3[nH]2)=N1. Appending empty array\n",
      "Exception message: 'NoneType' object is not subscriptable\n"
     ]
    },
    {
     "name": "stdout",
     "output_type": "stream",
     "text": [
      "4i10 Featurization Failed\n"
     ]
    },
    {
     "name": "stderr",
     "output_type": "stream",
     "text": [
      "Failed to featurize datapoint 0, Cc1nc(Nc2[nH]nc3c2CN(C(=O)NC(C[NH+](C)C)c2ccccc2)C3(C)C)c2sccc2n1. Appending empty array\n",
      "Exception message: 'NoneType' object is not subscriptable\n"
     ]
    },
    {
     "name": "stdout",
     "output_type": "stream",
     "text": [
      "4o0r Featurization Failed\n",
      "5km5 Featurization Failed\n"
     ]
    },
    {
     "name": "stderr",
     "output_type": "stream",
     "text": [
      "Failed to featurize datapoint 0, CCc1ccc(C=C2SC(NC(C(=O)NS(=O)(=O)c3ccc([N+](=O)[O-])cc3)c3ccc(F)cc3)=NC2=O)o1. Appending empty array\n",
      "Exception message: 'NoneType' object is not subscriptable\n"
     ]
    },
    {
     "name": "stdout",
     "output_type": "stream",
     "text": [
      "2o5d Featurization Failed\n"
     ]
    },
    {
     "name": "stderr",
     "output_type": "stream",
     "text": [
      "Failed to featurize datapoint 0, CC1COCC[NH+]1CC1CN(S(=O)(=O)c2cccs2)CCN1c1ccc(C(C)(O)C(F)(F)F)cc1. Appending empty array\n",
      "Exception message: 'NoneType' object is not subscriptable\n"
     ]
    },
    {
     "name": "stdout",
     "output_type": "stream",
     "text": [
      "4ly9 Featurization Failed\n",
      "5ls6 Featurization Failed\n"
     ]
    },
    {
     "name": "stderr",
     "output_type": "stream",
     "text": [
      "Failed to featurize datapoint 0, COc1ccc(Cn2c(=O)n3ncnc3c3c4c(sc32)C[NH+](CC2CCOCC2)CC4)cc1. Appending empty array\n",
      "Exception message: 'NoneType' object is not subscriptable\n"
     ]
    },
    {
     "name": "stdout",
     "output_type": "stream",
     "text": [
      "5uoy Featurization Failed\n"
     ]
    },
    {
     "name": "stderr",
     "output_type": "stream",
     "text": [
      "Failed to featurize datapoint 0, COc1ccc(CC(NC(=O)C(C)NC(=O)C[NH+]2CCOCC2)C(=O)NC(Cc2ccccc2)C(O)C(C)CO)cc1. Appending empty array\n",
      "Exception message: 'NoneType' object is not subscriptable\n"
     ]
    },
    {
     "name": "stdout",
     "output_type": "stream",
     "text": [
      "4qz7 Featurization Failed\n",
      "4ym4 Featurization Failed\n",
      "1d6n Featurization Failed\n"
     ]
    },
    {
     "name": "stderr",
     "output_type": "stream",
     "text": [
      "Failed to featurize datapoint 0, CC=COC1(C(=O)[O-])CC(OC2(C(=O)[O-])CCC(O)C(C(O)CO)O2)C(O)C(C(O)CO)O1. Appending empty array\n",
      "Exception message: 'NoneType' object is not subscriptable\n"
     ]
    },
    {
     "name": "stdout",
     "output_type": "stream",
     "text": [
      "3hzy Featurization Failed\n"
     ]
    },
    {
     "name": "stderr",
     "output_type": "stream",
     "text": [
      "Failed to featurize datapoint 0, NS(=O)(=O)c1ccc(Nc2cc(NC3CCC([NH3+])CC3)nc3nc[nH][n+]23)cc1. Appending empty array\n",
      "Exception message: 'NoneType' object is not subscriptable\n"
     ]
    },
    {
     "name": "stdout",
     "output_type": "stream",
     "text": [
      "2c6l Featurization Failed\n"
     ]
    },
    {
     "name": "stderr",
     "output_type": "stream",
     "text": [
      "Failed to featurize datapoint 0, CC(C#Cc1cccc(OC23CC4CC(CC(C4)C2)C3)c1)[N+](=O)C(N)=O. Appending empty array\n",
      "Exception message: 'NoneType' object is not subscriptable\n"
     ]
    },
    {
     "name": "stdout",
     "output_type": "stream",
     "text": [
      "3shj Featurization Failed\n",
      "3coj Featurization Failed\n"
     ]
    },
    {
     "name": "stderr",
     "output_type": "stream",
     "text": [
      "Failed to featurize datapoint 0, NS(=O)(=O)c1ccc(CCN2C(c3ccccc3)=CC(c3ccccc3)=CC2c2ccccc2)cc1. Appending empty array\n",
      "Exception message: 'NoneType' object is not subscriptable\n"
     ]
    },
    {
     "name": "stdout",
     "output_type": "stream",
     "text": [
      "6equ Featurization Failed\n"
     ]
    },
    {
     "name": "stderr",
     "output_type": "stream",
     "text": [
      "Failed to featurize datapoint 0, CCOC(=O)CCC(CC1CCNC1=O)NC(=O)C(CC(C)C)NC(=O)C(NC(=O)C(CO)NC(=O)OC(C)(C)C)C(C)C. Appending empty array\n",
      "Exception message: 'NoneType' object is not subscriptable\n"
     ]
    },
    {
     "name": "stdout",
     "output_type": "stream",
     "text": [
      "4rsp Featurization Failed\n"
     ]
    },
    {
     "name": "stderr",
     "output_type": "stream",
     "text": [
      "Failed to featurize datapoint 0, CC(=O)NC1C(O)CC(C(=O)[O-])(n2cc(CCC(=O)NCCC3OC(CO)C(O)C(O)C3O)nn2)OC1C(O)C(O)CO. Appending empty array\n",
      "Exception message: 'NoneType' object is not subscriptable\n"
     ]
    },
    {
     "name": "stdout",
     "output_type": "stream",
     "text": [
      "5lzh Featurization Failed\n",
      "1al7 Featurization Failed\n"
     ]
    },
    {
     "name": "stderr",
     "output_type": "stream",
     "text": [
      "Failed to featurize datapoint 0, CC(C)(C)CC1[NH2+]C(C(=O)NCCC(O)CO)C(c2cccc(Cl)c2)C1(C#N)c1ccc(Cl)cc1. Appending empty array\n",
      "Exception message: 'NoneType' object is not subscriptable\n"
     ]
    },
    {
     "name": "stdout",
     "output_type": "stream",
     "text": [
      "4jrg Featurization Failed\n"
     ]
    },
    {
     "name": "stderr",
     "output_type": "stream",
     "text": [
      "Failed to featurize datapoint 0, COC1CCC2(Cc3ccc(-c4cncnc4)cc3C23COC(=[NH2+])N3)CC1C. Appending empty array\n",
      "Exception message: 'NoneType' object is not subscriptable\n"
     ]
    },
    {
     "name": "stdout",
     "output_type": "stream",
     "text": [
      "6ej2 Featurization Failed\n"
     ]
    },
    {
     "name": "stderr",
     "output_type": "stream",
     "text": [
      "Failed to featurize datapoint 0, CC([NH3+])C(=O)NC(C(=O)NC(Cc1ccccc1)C(=O)[O-])C(C)O. Appending empty array\n",
      "Exception message: 'NoneType' object is not subscriptable\n"
     ]
    },
    {
     "name": "stdout",
     "output_type": "stream",
     "text": [
      "6fc6 Featurization Failed\n"
     ]
    },
    {
     "name": "stderr",
     "output_type": "stream",
     "text": [
      "Failed to featurize datapoint 0, CSCCC(NC(=O)C(CCCNC(N)=[NH2+])NC(=O)C(CO)NC(=O)C(NC(=O)C([NH3+])CC(=O)[O-])C(C)O)C(=O)NC(CCC(=O)[O-])C(=O)NC(CCC(=O)[O-])C(=O)NC(C(=O)NC(CC(=O)[O-])C(=O)[O-])C(C)C. Appending empty array\n",
      "Exception message: 'NoneType' object is not subscriptable\n"
     ]
    },
    {
     "name": "stdout",
     "output_type": "stream",
     "text": [
      "2c2l Featurization Failed\n"
     ]
    },
    {
     "name": "stderr",
     "output_type": "stream",
     "text": [
      "Failed to featurize datapoint 0, CSCCC(NC(=O)C(CC(C)C)NC(=O)C(CCCCNC(C)=O)NC(=O)C(CCCC[NH3+])NC(=O)C(Cc1cnc[nH]1)NC(=O)C(CCCNC(N)=[NH2+])NC(=O)C(CO)NC(=O)C(NC(=O)C(CO)NC(=O)C(CCC(N)=O)NC(=O)CNC(=O)C([NH3+])CCCC[NH3+])C(C)O)C(=O)NC(C=O)Cc1ccccc1. Appending empty array\n",
      "Exception message: 'PUGREST.BadRequest: error: '\n"
     ]
    },
    {
     "name": "stdout",
     "output_type": "stream",
     "text": [
      "2h2d Featurization Failed\n"
     ]
    },
    {
     "name": "stderr",
     "output_type": "stream",
     "text": [
      "Failed to featurize datapoint 0, COc1ccc(-c2ccc(Sc3ccccc3C(CCC(=O)[O-])C(=O)[O-])cc2)cc1. Appending empty array\n",
      "Exception message: 'NoneType' object is not subscriptable\n"
     ]
    },
    {
     "name": "stdout",
     "output_type": "stream",
     "text": [
      "6esm Featurization Failed\n"
     ]
    },
    {
     "name": "stderr",
     "output_type": "stream",
     "text": [
      "Failed to featurize datapoint 0, Cc1ccccc1-c1cc(C(F)(F)F)cc(C2(C(C)C)c3c(C)n[nH]c3OC(=N)C2C#N)c1. Appending empty array\n",
      "Exception message: 'NoneType' object is not subscriptable\n"
     ]
    },
    {
     "name": "stdout",
     "output_type": "stream",
     "text": [
      "5xmu Featurization Failed\n"
     ]
    },
    {
     "name": "stderr",
     "output_type": "stream",
     "text": [
      "Failed to featurize datapoint 0, CC(C)CC(NC(=O)C(CC(=O)[O-])NC(=O)C(CC(C)C)NC(=O)C(CCCNC(N)=[NH2+])NC(=O)C(CCCNC(N)=[NH2+])NC(=O)C(CCCC[NH3+])NC(=O)C(NC(=O)C1CCC[NH2+]1)C(C)C)C(=O)NC(C=O)CCC(=O)[O-]. Appending empty array\n",
      "Exception message: 'NoneType' object is not subscriptable\n"
     ]
    },
    {
     "name": "stdout",
     "output_type": "stream",
     "text": [
      "1h24 Featurization Failed\n"
     ]
    },
    {
     "name": "stderr",
     "output_type": "stream",
     "text": [
      "Failed to featurize datapoint 0, Cc1cncc(-c2ccc(NC3CC[NH2+]CC3OCC3CCS(=O)(=O)CC3)c3[nH]c(=O)c(C)cc23)c1. Appending empty array\n",
      "Exception message: 'NoneType' object is not subscriptable\n"
     ]
    },
    {
     "name": "stdout",
     "output_type": "stream",
     "text": [
      "5a83 Featurization Failed\n",
      "3g2v Featurization Failed\n",
      "5un9 Featurization Failed\n"
     ]
    },
    {
     "name": "stderr",
     "output_type": "stream",
     "text": [
      "Failed to featurize datapoint 0, CN(C)C(=O)C(C#N)Cc1ccc(-c2nc3cnc4[nH]ccc4c3n2C2CCCCC2)o1. Appending empty array\n",
      "Exception message: 'NoneType' object is not subscriptable\n"
     ]
    },
    {
     "name": "stdout",
     "output_type": "stream",
     "text": [
      "5lwm Featurization Failed\n",
      "4uvb Featurization Failed\n",
      "4lil Featurization Failed\n",
      "5ywx Featurization Failed\n"
     ]
    },
    {
     "name": "stderr",
     "output_type": "stream",
     "text": [
      "Failed to featurize datapoint 0, CC(C)C1NC(=O)C(Cc2c[nH]cn2)NC(=O)C(Cc2ccc(O)cc2)NC(=O)C(C(C)O)NC(=O)C(Cc2c[nH]cn2)NC(=O)C(Cc2ccc(O)cc2)NC(=O)CSCC(C(N)=O)NC(=O)C(Cc2ccc(O)cc2)NC(=O)C(Cc2ccc(O)cc2)NC(=O)C(CC(N)=O)NC(=O)C(C(C)O)NC(=O)C(CCCNC(N)=[NH2+])NC(=O)C(CCCNC(N)=[NH2+])NC(=O)C(CCCCNC(=O)C(F)(F)F)NC1=O. Appending empty array\n",
      "Exception message: 'NoneType' object is not subscriptable\n"
     ]
    },
    {
     "name": "stdout",
     "output_type": "stream",
     "text": [
      "4l3o Featurization Failed\n"
     ]
    },
    {
     "name": "stderr",
     "output_type": "stream",
     "text": [
      "Failed to featurize datapoint 0, O=C([O-])C1CCCN1C(=O)C1CCCN1C(=O)C1CCCN1C(=O)C1CCCN1C(=O)C1CCCN1C(=O)C1CCCN1C(=O)C1CCCN1C(=O)C1CCCN1C(=O)C1CCCN1C(=O)C1CCC[NH2+]1. Appending empty array\n",
      "Exception message: 'NoneType' object is not subscriptable\n"
     ]
    },
    {
     "name": "stdout",
     "output_type": "stream",
     "text": [
      "1awi Featurization Failed\n"
     ]
    },
    {
     "name": "stderr",
     "output_type": "stream",
     "text": [
      "Failed to featurize datapoint 0, OCCn1c(C[NH2+]CCCNc2nc3ccccc3[nH]2)cc2c(Cl)cc(Cl)cc21. Appending empty array\n",
      "Exception message: 'NoneType' object is not subscriptable\n"
     ]
    },
    {
     "name": "stdout",
     "output_type": "stream",
     "text": [
      "5tqu Featurization Failed\n"
     ]
    },
    {
     "name": "stderr",
     "output_type": "stream",
     "text": [
      "Failed to featurize datapoint 0, O=C([O-])c1ccc(C2CC3C([NH2+]2)C(c2cccc(Cl)c2F)C2(C(=O)Nc4cc(Cl)ccc42)[NH+]3CC2CC2)cc1. Appending empty array\n",
      "Exception message: 'NoneType' object is not subscriptable\n"
     ]
    },
    {
     "name": "stdout",
     "output_type": "stream",
     "text": [
      "5laz Featurization Failed\n"
     ]
    },
    {
     "name": "stderr",
     "output_type": "stream",
     "text": [
      "Failed to featurize datapoint 0, CC1=C(C(=O)NC(C)C(=O)NC(Cc2c[nH]c3ccccc23)C(=O)NC(CC2CCCCC2)C(O)C(C)CO)Cc2ccccc21. Appending empty array\n",
      "Exception message: 'NoneType' object is not subscriptable\n"
     ]
    },
    {
     "name": "stdout",
     "output_type": "stream",
     "text": [
      "4qlu Featurization Failed\n"
     ]
    },
    {
     "name": "stderr",
     "output_type": "stream",
     "text": [
      "Failed to featurize datapoint 0, O=C(CC(=O)Nc1cccc(C(=O)[O-])c1)NCCC[NH2+]Cc1ccc(-c2ccccc2)c(Cl)c1. Appending empty array\n",
      "Exception message: 'NoneType' object is not subscriptable\n"
     ]
    },
    {
     "name": "stdout",
     "output_type": "stream",
     "text": [
      "5mo8 Featurization Failed\n"
     ]
    },
    {
     "name": "stderr",
     "output_type": "stream",
     "text": [
      "Failed to featurize datapoint 0, COc1ccc2c(c1)cc(C(=O)NS(=O)(=O)c1ccc(C(F)(F)F)cc1)n2CC(=O)[O-]. Appending empty array\n",
      "Exception message: 'NoneType' object is not subscriptable\n"
     ]
    },
    {
     "name": "stdout",
     "output_type": "stream",
     "text": [
      "4mue Featurization Failed\n"
     ]
    },
    {
     "name": "stderr",
     "output_type": "stream",
     "text": [
      "Failed to featurize datapoint 0, COc1nc(N2CC3C(=O)N(C)C(=[NH2+])NC3(c3cc(-c4cccc(C#N)c4)cs3)C2)ncc1F. Appending empty array\n",
      "Exception message: 'NoneType' object is not subscriptable\n"
     ]
    },
    {
     "name": "stdout",
     "output_type": "stream",
     "text": [
      "5hdu Featurization Failed\n"
     ]
    },
    {
     "name": "stderr",
     "output_type": "stream",
     "text": [
      "Failed to featurize datapoint 0, COc1ccc(C2=NN(C3CCCCCC3)C(=O)C3CC=CCC23)cc1-c1ccc(C(=O)NCC(N)=O)cc1. Appending empty array\n",
      "Exception message: 'NoneType' object is not subscriptable\n"
     ]
    },
    {
     "name": "stdout",
     "output_type": "stream",
     "text": [
      "5g2b Featurization Failed\n",
      "4lj3 Featurization Failed\n"
     ]
    },
    {
     "name": "stderr",
     "output_type": "stream",
     "text": [
      "Failed to featurize datapoint 0, CCC(C)C(NC(=O)C1CCCN1C(=O)C([NH3+])CC(N)=O)C(=O)NC(CO)C(=O)NC(CC(=O)[O-])C(=O)NC(Cc1ccccc1)C(=O)N1CCCC1C(=O)NC(CC(=O)[O-])C(=O)[O-]. Appending empty array\n",
      "Exception message: 'NoneType' object is not subscriptable\n"
     ]
    },
    {
     "name": "stdout",
     "output_type": "stream",
     "text": [
      "5i25 Featurization Failed\n"
     ]
    },
    {
     "name": "stderr",
     "output_type": "stream",
     "text": [
      "Failed to featurize datapoint 0, C[NH2+]C1CC2OC(C)(C1OC)n1c3ccccc3c3c4c(c5c6ccccc6n2c5c31)C(=O)N=C4. Appending empty array\n",
      "Exception message: 'NoneType' object is not subscriptable\n"
     ]
    },
    {
     "name": "stdout",
     "output_type": "stream",
     "text": [
      "1oky Featurization Failed\n"
     ]
    },
    {
     "name": "stderr",
     "output_type": "stream",
     "text": [
      "Failed to featurize datapoint 0, COc1cccc(-c2cccc(C3CC3C3=NC(=N)N(C)C(=O)C3)c2)c1. Appending empty array\n",
      "Exception message: 'NoneType' object is not subscriptable\n"
     ]
    },
    {
     "name": "stdout",
     "output_type": "stream",
     "text": [
      "3vv7 Featurization Failed\n",
      "5d9k Featurization Failed\n"
     ]
    },
    {
     "name": "stderr",
     "output_type": "stream",
     "text": [
      "Failed to featurize datapoint 0, CC1CCC(C(=O)N(c2ccc(Oc3ccccc3)cc2C(=O)[O-])C(C)C)CC1. Appending empty array\n",
      "Exception message: 'NoneType' object is not subscriptable\n"
     ]
    },
    {
     "name": "stdout",
     "output_type": "stream",
     "text": [
      "4ju6 Featurization Failed\n",
      "2fci Featurization Failed\n"
     ]
    },
    {
     "name": "stderr",
     "output_type": "stream",
     "text": [
      "Failed to featurize datapoint 0, Cc1cccc(CC(NC(=O)c2cc(C(C)(C)C)nn2C)C(=O)NCC=N)c1. Appending empty array\n",
      "Exception message: 'NoneType' object is not subscriptable\n"
     ]
    },
    {
     "name": "stdout",
     "output_type": "stream",
     "text": [
      "3hha Featurization Failed\n"
     ]
    },
    {
     "name": "stderr",
     "output_type": "stream",
     "text": [
      "Failed to featurize datapoint 0, CCCCOc1ccc(C(C)[NH2+]CCC[NH2+]CCC(c2ccccc2)c2ccccc2)cc1OCCCC. Appending empty array\n",
      "Exception message: 'NoneType' object is not subscriptable\n"
     ]
    },
    {
     "name": "stdout",
     "output_type": "stream",
     "text": [
      "1qiw Featurization Failed\n"
     ]
    },
    {
     "name": "stderr",
     "output_type": "stream",
     "text": [
      "Failed to featurize datapoint 0, CC1C[NH+](CC(=O)N2CCc3cnc(Cl)cc32)CC[NH2+]1. Appending empty array\n",
      "Exception message: 'NoneType' object is not subscriptable\n"
     ]
    },
    {
     "name": "stdout",
     "output_type": "stream",
     "text": [
      "5c7d Featurization Failed\n"
     ]
    },
    {
     "name": "stderr",
     "output_type": "stream",
     "text": [
      "Failed to featurize datapoint 0, NC(=[NH2+])NC(=O)c1nc(-c2cc3ccccc3o2)c(N2CCCCCC2)nc1N. Appending empty array\n",
      "Exception message: 'NoneType' object is not subscriptable\n"
     ]
    },
    {
     "name": "stdout",
     "output_type": "stream",
     "text": [
      "5za9 Featurization Failed\n"
     ]
    },
    {
     "name": "stderr",
     "output_type": "stream",
     "text": [
      "Failed to featurize datapoint 0, CCC(C)C(NC(=O)C1CCCN1C(=O)C(CO)NC(=O)CNC(=O)C(CO)NC(=O)C(NC(=O)C[NH3+])C(C)O)C(=O)NC(C(=O)NC(CC(N)=O)C(=O)NC(CCCNC(N)=[NH2+])C(=O)[O-])C(C)C. Appending empty array\n",
      "Exception message: 'NoneType' object is not subscriptable\n"
     ]
    },
    {
     "name": "stdout",
     "output_type": "stream",
     "text": [
      "5wkf Featurization Failed\n"
     ]
    },
    {
     "name": "stderr",
     "output_type": "stream",
     "text": [
      "Failed to featurize datapoint 0, CCCOc1cc(OCCCC[NH+](C)C)cc(Oc2cc3c(cc2NS(=O)(=O)c2ccc(OC)c(OC)c2)n(C)c(=O)n3C)c1. Appending empty array\n",
      "Exception message: 'NoneType' object is not subscriptable\n"
     ]
    },
    {
     "name": "stdout",
     "output_type": "stream",
     "text": [
      "4yc9 Featurization Failed\n",
      "4qab Featurization Failed\n"
     ]
    },
    {
     "name": "stderr",
     "output_type": "stream",
     "text": [
      "Failed to featurize datapoint 0, NC(=[NH2+])c1ccc(CNC(=O)C2CCCN2C(=O)C(CC2CCCCC2)[NH2+]CC(=O)[O-])cn1. Appending empty array\n",
      "Exception message: 'NoneType' object is not subscriptable\n"
     ]
    },
    {
     "name": "stdout",
     "output_type": "stream",
     "text": [
      "2anm Featurization Failed\n"
     ]
    },
    {
     "name": "stderr",
     "output_type": "stream",
     "text": [
      "Failed to featurize datapoint 0, NC(=[NH2+])NCCCC([NH3+])C(=O)NO. Appending empty array\n",
      "Exception message: 'NoneType' object is not subscriptable\n"
     ]
    },
    {
     "name": "stdout",
     "output_type": "stream",
     "text": [
      "2imb Featurization Failed\n"
     ]
    },
    {
     "name": "stderr",
     "output_type": "stream",
     "text": [
      "Failed to featurize datapoint 0, N=c1ccn(Cc2cn(C3C(CO)OC(n4cnc5c(N)ncnc54)C3O)nn2)c(=O)[nH]1. Appending empty array\n",
      "Exception message: 'NoneType' object is not subscriptable\n"
     ]
    },
    {
     "name": "stdout",
     "output_type": "stream",
     "text": [
      "5e13 Featurization Failed\n",
      "3te5 Featurization Failed\n"
     ]
    },
    {
     "name": "stderr",
     "output_type": "stream",
     "text": [
      "Failed to featurize datapoint 0, Cc1[nH]c2ccccc2c1CC[NH2+]Cc1ccc(C=CC(=O)NO)cc1. Appending empty array\n",
      "Exception message: 'NoneType' object is not subscriptable\n"
     ]
    },
    {
     "name": "stdout",
     "output_type": "stream",
     "text": [
      "5ef8 Featurization Failed\n"
     ]
    },
    {
     "name": "stderr",
     "output_type": "stream",
     "text": [
      "Failed to featurize datapoint 0, C[NH+](C)Cc1nccn1-c1ccc(NC(=O)c2cc(C(F)(F)F)nn2-c2ccc3onc(N)c3c2)c(F)c1. Appending empty array\n",
      "Exception message: 'NoneType' object is not subscriptable\n"
     ]
    },
    {
     "name": "stdout",
     "output_type": "stream",
     "text": [
      "1z6e Featurization Failed\n"
     ]
    },
    {
     "name": "stderr",
     "output_type": "stream",
     "text": [
      "Failed to featurize datapoint 0, ON=Cc1nccn1CCCCCCCn1ccnc1C=NO. Appending empty array\n",
      "Exception message: 'NoneType' object is not subscriptable\n"
     ]
    },
    {
     "name": "stdout",
     "output_type": "stream",
     "text": [
      "5bwb Featurization Failed\n"
     ]
    },
    {
     "name": "stderr",
     "output_type": "stream",
     "text": [
      "Failed to featurize datapoint 0, CCC1CC1(NC(=O)C1CC2CN1C(=O)C(C(C)(C)C)NC(=O)OC1CC1CCCCCc1nc3ccc(OC)cc3nc1O2)C(=O)NS(=O)(=O)C1C=C1. Appending empty array\n",
      "Exception message: 'NoneType' object is not subscriptable\n"
     ]
    },
    {
     "name": "stdout",
     "output_type": "stream",
     "text": [
      "3sud Featurization Failed\n"
     ]
    },
    {
     "name": "stderr",
     "output_type": "stream",
     "text": [
      "Failed to featurize datapoint 0, NC(=O)CCC(NC(=O)C([NH3+])CC(N)=O)C(=O)NC(CCCC[NH3+])C(=O)NC(CCC(=O)[O-])C(=O)NC(Cc1ccc(O)cc1)C(=O)NC(Cc1ccccc1)C(=O)NC(Cc1ccccc1)C(=O)[O-]. Appending empty array\n",
      "Exception message: 'NoneType' object is not subscriptable\n"
     ]
    },
    {
     "name": "stdout",
     "output_type": "stream",
     "text": [
      "4nxq Featurization Failed\n",
      "4o1d Featurization Failed\n"
     ]
    },
    {
     "name": "stderr",
     "output_type": "stream",
     "text": [
      "Failed to featurize datapoint 0, C[NH2+]C(C)C(=O)NC(C(=O)N1CC(Oc2ccccc2)CC1C(=O)NC1CCCc2ccccc21)C(C)(C)C. Appending empty array\n",
      "Exception message: 'NoneType' object is not subscriptable\n"
     ]
    },
    {
     "name": "stdout",
     "output_type": "stream",
     "text": [
      "1tft Featurization Failed\n",
      "2hmw Featurization Failed\n"
     ]
    },
    {
     "name": "stderr",
     "output_type": "stream",
     "text": [
      "Failed to featurize datapoint 0, COc1cc(-c2ccc(NNc3ccc4c(S(=O)(=O)[O-])cc(S(=O)(=O)[O-])c(N)c4c3O)c(OC)c2)ccc1N=Nc1ccc2c(S(=O)(=O)[O-])cc(S(=O)(=O)[O-])c(N)c2c1O. Appending empty array\n",
      "Exception message: 'NoneType' object is not subscriptable\n"
     ]
    },
    {
     "name": "stdout",
     "output_type": "stream",
     "text": [
      "3u18 Featurization Failed\n",
      "2clo Featurization Failed\n"
     ]
    },
    {
     "name": "stderr",
     "output_type": "stream",
     "text": [
      "Failed to featurize datapoint 0, C=C1C(O)CC(=CCC2CCCC3(C)C2CCC3C(C)C(CCCC)CC(O)(CC)CC)CC1O. Appending empty array\n",
      "Exception message: 'NoneType' object is not subscriptable\n"
     ]
    },
    {
     "name": "stdout",
     "output_type": "stream",
     "text": [
      "3vrw Featurization Failed\n",
      "5olk Featurization Failed\n",
      "5knu Featurization Failed\n",
      "2j9l Featurization Failed\n"
     ]
    },
    {
     "name": "stderr",
     "output_type": "stream",
     "text": [
      "Failed to featurize datapoint 0, O=C([O-])c1ccc(-c2ccc(C(=S)NCc3ccc(-c4ccnn4-c4ccc(Cl)c(Cl)c4)cc3)c(Cl)c2)o1. Appending empty array\n",
      "Exception message: 'NoneType' object is not subscriptable\n"
     ]
    },
    {
     "name": "stdout",
     "output_type": "stream",
     "text": [
      "4lwc Featurization Failed\n"
     ]
    },
    {
     "name": "stderr",
     "output_type": "stream",
     "text": [
      "Failed to featurize datapoint 0, CC(C)CC(NC(=O)C(CCC(=O)[O-])NC(=O)C([NH3+])CO)C(=O)NC(CC(C)C)C(=O)NC(CCCC[NH3+])C(=O)NC(Cc1ccc(O)cc1)C(=O)NC(CC(C)C)C(=O)NC(C(=O)NC(C(=O)O)C(C)O)C(C)O. Appending empty array\n",
      "Exception message: 'NoneType' object is not subscriptable\n"
     ]
    },
    {
     "name": "stdout",
     "output_type": "stream",
     "text": [
      "1xb7 Featurization Failed\n",
      "4x6h Featurization Failed\n"
     ]
    },
    {
     "name": "stderr",
     "output_type": "stream",
     "text": [
      "Failed to featurize datapoint 0, CC1[NH2+]C1C=O. Appending empty array\n",
      "Exception message: 'NoneType' object is not subscriptable\n"
     ]
    },
    {
     "name": "stdout",
     "output_type": "stream",
     "text": [
      "4r17 Featurization Failed\n",
      "5l7f Featurization Failed\n"
     ]
    },
    {
     "name": "stderr",
     "output_type": "stream",
     "text": [
      "Failed to featurize datapoint 0, O=C([O-])c1cc(OCCc2ccccc2)c(-n2cccc2)c(I)c1O. Appending empty array\n",
      "Exception message: 'NoneType' object is not subscriptable\n"
     ]
    },
    {
     "name": "stdout",
     "output_type": "stream",
     "text": [
      "5o1g Featurization Failed\n"
     ]
    },
    {
     "name": "stderr",
     "output_type": "stream",
     "text": [
      "Failed to featurize datapoint 0, CCC(C)C(NC(=O)CNC(=O)C(NC(=O)C(C)NC(=O)C(C)NC(=O)C(CC(C)C)NC(=O)C([NH3+])CCC(=O)[O-])C(C)CC)C(=O)NC(CC(C)C)C(=O)NC(C(=O)NC(C(=O)[O-])C(C)C)C(C)O. Appending empty array\n",
      "Exception message: 'NoneType' object is not subscriptable\n"
     ]
    },
    {
     "name": "stdout",
     "output_type": "stream",
     "text": [
      "4jfd Featurization Failed\n"
     ]
    },
    {
     "name": "stderr",
     "output_type": "stream",
     "text": [
      "Failed to featurize datapoint 0, CC(c1ccccc1)C(CC(O)C[NH+]1CC[NH+](Cc2cccnc2)CC1C(=O)NC(C)(C)C)C(=O)NC1c2ccccc2CC1O. Appending empty array\n",
      "Exception message: 'NoneType' object is not subscriptable\n"
     ]
    },
    {
     "name": "stdout",
     "output_type": "stream",
     "text": [
      "1k6t Featurization Failed\n"
     ]
    },
    {
     "name": "stderr",
     "output_type": "stream",
     "text": [
      "Failed to featurize datapoint 0, CC(=O)OCC1(C)CCc2c(c(C)cc3c2[nH]c2cc(O)ccc23)O1. Appending empty array\n",
      "Exception message: 'NoneType' object is not subscriptable\n"
     ]
    },
    {
     "name": "stdout",
     "output_type": "stream",
     "text": [
      "5nzm Featurization Failed\n"
     ]
    },
    {
     "name": "stderr",
     "output_type": "stream",
     "text": [
      "Failed to featurize datapoint 0, OCC1OC(NC(S)=NN=Cc2cccc(Br)c2)C(O)C(O)C1O. Appending empty array\n",
      "Exception message: 'NoneType' object is not subscriptable\n"
     ]
    },
    {
     "name": "stdout",
     "output_type": "stream",
     "text": [
      "3mta Featurization Failed\n"
     ]
    },
    {
     "name": "stderr",
     "output_type": "stream",
     "text": [
      "Failed to featurize datapoint 0, CCC(C)C(NC(=O)C(CO)NC(=O)C[NH3+])C(=O)NC(C(=O)NC(CCCNC(N)=[NH2+])C(=O)NC(CCCC[NH3+])C(=O)NC(Cc1c[nH]c2ccccc12)C(=O)NC(CC(N)=O)C(=O)[O-])C(C)CC. Appending empty array\n",
      "Exception message: 'NoneType' object is not subscriptable\n"
     ]
    },
    {
     "name": "stdout",
     "output_type": "stream",
     "text": [
      "3q5u Featurization Failed\n"
     ]
    },
    {
     "name": "stderr",
     "output_type": "stream",
     "text": [
      "Failed to featurize datapoint 0, CCCC(NC(=O)C(Cc1c[nH]c2ccccc12)NC(=O)C(CC(C)C)NC(=O)C(CC(=O)[O-])NC(=O)C(CO)NC(=O)C(Cc1ccccc1)NC(=O)C(NC(=O)C([NH3+])CCC(=O)[O-])C(C)O)C(=O)NC(CC(C)C)C(=O)NC(CC(C)C)C(=O)N1CCCC1C(=O)NC(CCC(=O)[O-])C(=O)O. Appending empty array\n",
      "Exception message: 'NoneType' object is not subscriptable\n"
     ]
    },
    {
     "name": "stdout",
     "output_type": "stream",
     "text": [
      "3dab Featurization Failed\n"
     ]
    },
    {
     "name": "stderr",
     "output_type": "stream",
     "text": [
      "Failed to featurize datapoint 0, [NH2+]=c1[nH]c(=O)c2[nH]c(SCC(=O)c3ccc(-c4ccccc4)cc3)nc2[nH]1. Appending empty array\n",
      "Exception message: 'NoneType' object is not subscriptable\n"
     ]
    },
    {
     "name": "stdout",
     "output_type": "stream",
     "text": [
      "4cwb Featurization Failed\n"
     ]
    },
    {
     "name": "stderr",
     "output_type": "stream",
     "text": [
      "Failed to featurize datapoint 0, Cc1c(C[NH+]2CCN(C(=O)C(C)O)CC2)sc2c(N3CCOCC3)nc(-c3cnc(N)nc3)nc12. Appending empty array\n",
      "Exception message: 'NoneType' object is not subscriptable\n"
     ]
    },
    {
     "name": "stdout",
     "output_type": "stream",
     "text": [
      "3tl5 Featurization Failed\n"
     ]
    },
    {
     "name": "stderr",
     "output_type": "stream",
     "text": [
      "Failed to featurize datapoint 0, NC(=[NH2+])NCCCC(NC(=O)c1sccc1NS(=O)(=O)c1cccc2nsnc12)C(=O)[O-]. Appending empty array\n",
      "Exception message: 'NoneType' object is not subscriptable\n"
     ]
    },
    {
     "name": "stdout",
     "output_type": "stream",
     "text": [
      "3i97 Featurization Failed\n",
      "4bkj Featurization Failed\n"
     ]
    },
    {
     "name": "stderr",
     "output_type": "stream",
     "text": [
      "Failed to featurize datapoint 0, CCCCC(NC(=O)C(C)NC(=O)C(CCC(=O)[O-])NC(=O)C(Cc1ccccc1)[NH2+]CC(CC(C)C)NC(=O)C(NC(=O)C([NH3+])CCCNC(C)=[NH2+])C(C)C)C(=O)[O-]. Appending empty array\n",
      "Exception message: 'NoneType' object is not subscriptable\n"
     ]
    },
    {
     "name": "stdout",
     "output_type": "stream",
     "text": [
      "4gzf Featurization Failed\n",
      "1d04 Featurization Failed\n"
     ]
    },
    {
     "name": "stderr",
     "output_type": "stream",
     "text": [
      "Failed to featurize datapoint 0, CC(NS(=O)(=O)[O-])C(C=O)NC(=O)C(=NOC(C)(C)C(=O)[O-])c1csc(N)n1. Appending empty array\n",
      "Exception message: 'NoneType' object is not subscriptable\n"
     ]
    },
    {
     "name": "stdout",
     "output_type": "stream",
     "text": [
      "5hlb Featurization Failed\n"
     ]
    },
    {
     "name": "stderr",
     "output_type": "stream",
     "text": [
      "Failed to featurize datapoint 0, O=C([O-])c1sccc1S(=O)(=O)Nc1cccc([N+](=O)[O-])c1. Appending empty array\n",
      "Exception message: 'NoneType' object is not subscriptable\n"
     ]
    },
    {
     "name": "stdout",
     "output_type": "stream",
     "text": [
      "1xgi Featurization Failed\n"
     ]
    },
    {
     "name": "stderr",
     "output_type": "stream",
     "text": [
      "Failed to featurize datapoint 0, Cc1cc(C(=O)C[NH+]2CCC(O)CC2)c(C)n1-c1ccc(C#N)cc1. Appending empty array\n",
      "Exception message: 'NoneType' object is not subscriptable\n"
     ]
    },
    {
     "name": "stdout",
     "output_type": "stream",
     "text": [
      "6iin Featurization Failed\n",
      "3ntp Featurization Failed\n"
     ]
    },
    {
     "name": "stderr",
     "output_type": "stream",
     "text": [
      "Failed to featurize datapoint 0, O=C(NCC[NH+]1CCOCC1)c1ccc2c(c1)C(=O)c1ccc(Nc3ccc(F)c(NC(=O)c4ccccc4)c3)cc1OC2. Appending empty array\n",
      "Exception message: 'NoneType' object is not subscriptable\n"
     ]
    },
    {
     "name": "stdout",
     "output_type": "stream",
     "text": [
      "5mtx Featurization Failed\n"
     ]
    },
    {
     "name": "stderr",
     "output_type": "stream",
     "text": [
      "Failed to featurize datapoint 0, CSC1(C(=O)Nc2ccc3[nH]nc(-c4ccc(F)cc4)c3c2)CC[NH+](CC(=O)N2CCN(c3ccc(-c4ncccn4)cc3)CC2)C1. Appending empty array\n",
      "Exception message: 'NoneType' object is not subscriptable\n"
     ]
    },
    {
     "name": "stdout",
     "output_type": "stream",
     "text": [
      "6cpw Featurization Failed\n",
      "4knz Featurization Failed\n",
      "4p00 Featurization Failed\n",
      "4glr Featurization Failed\n",
      "1shc Featurization Failed\n"
     ]
    },
    {
     "name": "stderr",
     "output_type": "stream",
     "text": [
      "Failed to featurize datapoint 0, CC(=O)NCCCCC(NC(=O)C(NC(=O)C(CCCNC(N)=[NH2+])NC(=O)C(C)[NH3+])C(C)O)C(=O)NC(CCC(N)=O)C(=O)NC(C(=O)NC(C)C(=O)NC(CCCNC(N)=[NH2+])C(=O)[O-])C(C)O. Appending empty array\n",
      "Exception message: 'NoneType' object is not subscriptable\n"
     ]
    },
    {
     "name": "stdout",
     "output_type": "stream",
     "text": [
      "6e86 Featurization Failed\n"
     ]
    },
    {
     "name": "stderr",
     "output_type": "stream",
     "text": [
      "Failed to featurize datapoint 0, CC([NH3+])C(=O)NC(CCCNC(N)=[NH2+])C(=O)NC(C(=O)NC(CCCC[N+](C)(C)C)C(=O)NC(CCC(N)=O)C(=O)NC(C(=O)[O-])C(C)O)C(C)O. Appending empty array\n",
      "Exception message: 'NoneType' object is not subscriptable\n"
     ]
    },
    {
     "name": "stdout",
     "output_type": "stream",
     "text": [
      "3sow Featurization Failed\n"
     ]
    },
    {
     "name": "stderr",
     "output_type": "stream",
     "text": [
      "Failed to featurize datapoint 0, CCCOC1(C(=O)[O-])OC(C(O)CO)C(O)C(O)C1O. Appending empty array\n",
      "Exception message: 'NoneType' object is not subscriptable\n"
     ]
    },
    {
     "name": "stdout",
     "output_type": "stream",
     "text": [
      "3ijh Featurization Failed\n"
     ]
    },
    {
     "name": "stderr",
     "output_type": "stream",
     "text": [
      "Failed to featurize datapoint 0, CC=CCC(C)C(O)C(C(=O)NC(CC)C(=O)N(C)CC(=O)N(C)C(CC(C)C)C(=O)NC(C(=O)N(C)C(CC(C)C)C(=O)NC(C)C(=O)NC(C)C(=O)N(C)C(CC(C)C)C(=O)N(C)C(CC(C)C)C(=O)C(C)CC(C)C)C(C)C)[NH+](C)OO. Appending empty array\n",
      "Exception message: 'NoneType' object is not subscriptable\n"
     ]
    },
    {
     "name": "stdout",
     "output_type": "stream",
     "text": [
      "1qng Featurization Failed\n",
      "5f3z Featurization Failed\n"
     ]
    },
    {
     "name": "stderr",
     "output_type": "stream",
     "text": [
      "Failed to featurize datapoint 0, CCC(CC)CN(CC(O)C(CC1CCCCC1)NC(=O)OC1COC2OCCC12)S(=O)(=O)c1ccc(N)cc1. Appending empty array\n",
      "Exception message: 'NoneType' object is not subscriptable\n"
     ]
    },
    {
     "name": "stdout",
     "output_type": "stream",
     "text": [
      "6dgz Featurization Failed\n"
     ]
    },
    {
     "name": "stderr",
     "output_type": "stream",
     "text": [
      "Failed to featurize datapoint 0, CCCC(CCO)COc1cccc(C(O)CC[NH3+])c1. Appending empty array\n",
      "Exception message: 'NoneType' object is not subscriptable\n"
     ]
    },
    {
     "name": "stdout",
     "output_type": "stream",
     "text": [
      "5ulg Featurization Failed\n"
     ]
    },
    {
     "name": "stderr",
     "output_type": "stream",
     "text": [
      "Failed to featurize datapoint 0, CSCCC(NC(=O)C(CC(C)C)NC(=O)C(CCC(=O)[O-])NC(=O)C(CC(=O)[O-])NC(=O)C(CC(C)C)NC(=O)C(CCC(=O)[O-])NC(=O)C(CCCNC(N)=[NH2+])NC(=O)C(NC(=O)C(C)NC(=O)C(CO)NC(=O)C[NH3+])C(C)O)C(=O)NC(C)C(=O)NC(CO)C(=O)NC(CC(C)C)C(=O)NC(CO)C(=O)NC(C)C(=O)[O-]. Appending empty array\n",
      "Exception message: 'PUGREST.BadRequest: error: '\n"
     ]
    },
    {
     "name": "stdout",
     "output_type": "stream",
     "text": [
      "4xh2 Featurization Failed\n"
     ]
    },
    {
     "name": "stderr",
     "output_type": "stream",
     "text": [
      "Failed to featurize datapoint 0, O=C(Nc1ccc(Cl)cc1)C1C[NH+](CC(F)(F)F)CC1C(=O)Nc1ccc(-n2ccccc2=O)cc1F. Appending empty array\n",
      "Exception message: 'NoneType' object is not subscriptable\n"
     ]
    },
    {
     "name": "stdout",
     "output_type": "stream",
     "text": [
      "2xc4 Featurization Failed\n"
     ]
    },
    {
     "name": "stderr",
     "output_type": "stream",
     "text": [
      "Failed to featurize datapoint 0, Cc1cc(N)nc(C=Cc2cncc(C(C[NH3+])Cc3cc(C)cc(N)n3)c2)c1. Appending empty array\n",
      "Exception message: 'NoneType' object is not subscriptable\n"
     ]
    },
    {
     "name": "stdout",
     "output_type": "stream",
     "text": [
      "4cu1 Featurization Failed\n"
     ]
    },
    {
     "name": "stderr",
     "output_type": "stream",
     "text": [
      "Failed to featurize datapoint 0, CCc1c[nH]c2ncnc(N3CCC([NH3+])(CNC(=O)c4ccc(F)cc4F)C3)c12. Appending empty array\n",
      "Exception message: 'NoneType' object is not subscriptable\n"
     ]
    },
    {
     "name": "stdout",
     "output_type": "stream",
     "text": [
      "3mvh Featurization Failed\n"
     ]
    },
    {
     "name": "stderr",
     "output_type": "stream",
     "text": [
      "Failed to featurize datapoint 0, NC(=[NH2+])Nc1cc(C2CC[NH2+]CC2)cc(C(F)(F)F)c1. Appending empty array\n",
      "Exception message: 'NoneType' object is not subscriptable\n"
     ]
    },
    {
     "name": "stdout",
     "output_type": "stream",
     "text": [
      "6h8s Featurization Failed\n"
     ]
    },
    {
     "name": "stderr",
     "output_type": "stream",
     "text": [
      "Failed to featurize datapoint 0, CC(C)C[NH+]1C(C)Cc2cc(O)ccc2C1c1ccc(C=CC(=O)[O-])cc1. Appending empty array\n",
      "Exception message: 'NoneType' object is not subscriptable\n"
     ]
    },
    {
     "name": "stdout",
     "output_type": "stream",
     "text": [
      "5fqp Featurization Failed\n"
     ]
    },
    {
     "name": "stderr",
     "output_type": "stream",
     "text": [
      "Failed to featurize datapoint 0, Cc1cc2ncc(C(=O)NCC(C)(C)[NH2+]CC(=O)N3CCCC3C#N)cn2n1. Appending empty array\n",
      "Exception message: 'NoneType' object is not subscriptable\n"
     ]
    },
    {
     "name": "stdout",
     "output_type": "stream",
     "text": [
      "3wqh Featurization Failed\n"
     ]
    },
    {
     "name": "stderr",
     "output_type": "stream",
     "text": [
      "Failed to featurize datapoint 0, CCC(C)C(NC(=O)C(NC(=O)C(CO)NC(=O)C([NH3+])CO)C(C)O)C(=O)N1OC1(CSCCC(C)CCCC(C)CCCC(C)C)C(=O)OC. Appending empty array\n",
      "Exception message: 'NoneType' object is not subscriptable\n"
     ]
    },
    {
     "name": "stdout",
     "output_type": "stream",
     "text": [
      "5f2u Featurization Failed\n",
      "3bmq Featurization Failed\n",
      "4ixv Featurization Failed\n"
     ]
    },
    {
     "name": "stderr",
     "output_type": "stream",
     "text": [
      "Failed to featurize datapoint 0, [NH3+]C(Cc1cc(Cl)c([N+](=O)[O-])cc1CCC(=O)[O-])C(=O)[O-]. Appending empty array\n",
      "Exception message: 'NoneType' object is not subscriptable\n"
     ]
    },
    {
     "name": "stdout",
     "output_type": "stream",
     "text": [
      "3tza Featurization Failed\n"
     ]
    },
    {
     "name": "stderr",
     "output_type": "stream",
     "text": [
      "Failed to featurize datapoint 0, OCCC1CC1c1cncc(OCC2CC[NH2+]2)c1. Appending empty array\n",
      "Exception message: 'NoneType' object is not subscriptable\n"
     ]
    },
    {
     "name": "stdout",
     "output_type": "stream",
     "text": [
      "4b5d Featurization Failed\n",
      "5izl Featurization Failed\n",
      "4xtm Featurization Failed\n"
     ]
    },
    {
     "name": "stderr",
     "output_type": "stream",
     "text": [
      "Failed to featurize datapoint 0, CC(NC(=O)C(CCCCNC(=O)OCc1ccccc1)NC(=O)CCC(NC(=O)OC(C)(C)C)C(=O)[O-])B(O)O. Appending empty array\n",
      "Exception message: 'NoneType' object is not subscriptable\n"
     ]
    },
    {
     "name": "stdout",
     "output_type": "stream",
     "text": [
      "1z6f Featurization Failed\n"
     ]
    },
    {
     "name": "stderr",
     "output_type": "stream",
     "text": [
      "Failed to featurize datapoint 0, CC(C)CC(NC(=O)C(Cc1ccccc1)NC(=O)C(Cc1ccc(O)cc1)NC(=O)C(CC(=O)[O-])NC(=O)C1CCC[NH2+]1)C(=O)[O-]. Appending empty array\n",
      "Exception message: 'NoneType' object is not subscriptable\n"
     ]
    },
    {
     "name": "stdout",
     "output_type": "stream",
     "text": [
      "4ny3 Featurization Failed\n",
      "3cf1 Featurization Failed\n"
     ]
    },
    {
     "name": "stderr",
     "output_type": "stream",
     "text": [
      "Failed to featurize datapoint 0, CSCCC(NC(=O)C(CC(C)C)NC(=O)C(CCCC[NH3+])NC(=O)C([NH3+])CCC(=O)[O-])C(=O)NC(CCCC[NH3+])C(=O)NC(C)C(=O)NC(Cc1ccccc1)C(=O)NC(CCC(=O)[O-])C(=O)NC(CO)C(=O)NC(CC(C)C)C(=O)NC(CCCC[NH3+])C(=O)NC(CO)C(=O)NC(Cc1ccccc1)C(=O)NC(CCC(N)=O)C(=O)[O-]. Appending empty array\n",
      "Exception message: 'PUGREST.BadRequest: error: '\n",
      "Failed to featurize datapoint 0, None. Appending empty array\n",
      "Exception message: Python argument types in\n",
      "    rdkit.Chem.rdmolfiles.MolToSmiles(NoneType)\n",
      "did not match C++ signature:\n",
      "    MolToSmiles(class RDKit::ROMol mol, bool isomericSmiles=False, bool kekuleSmiles=False, int rootedAtAtom=-1, bool canonical=True, bool allBondsExplicit=False, bool allHsExplicit=False)\n"
     ]
    },
    {
     "name": "stdout",
     "output_type": "stream",
     "text": [
      "3lrh Featurization Failed\n",
      "2ksp Featurization Failed\n"
     ]
    },
    {
     "name": "stderr",
     "output_type": "stream",
     "text": [
      "Failed to featurize datapoint 0, O=C(NCCc1ccccc1)c1nc(C2CCCN2C(=O)COc2ccccc2Cl)[nH]c(=O)c1O. Appending empty array\n",
      "Exception message: 'NoneType' object is not subscriptable\n"
     ]
    },
    {
     "name": "stdout",
     "output_type": "stream",
     "text": [
      "5wdc Featurization Failed\n",
      "4rlp Featurization Failed\n"
     ]
    },
    {
     "name": "stderr",
     "output_type": "stream",
     "text": [
      "Failed to featurize datapoint 0, Cc1cc(CN2C(=O)C(C3=NS(=O)(=O)c4c3ccc3c4CN(S(C)(=O)=O)CC3)=C(O)C2C(C)(C)C)ccc1F. Appending empty array\n",
      "Exception message: 'NoneType' object is not subscriptable\n"
     ]
    },
    {
     "name": "stdout",
     "output_type": "stream",
     "text": [
      "3h5s Featurization Failed\n"
     ]
    },
    {
     "name": "stderr",
     "output_type": "stream",
     "text": [
      "Failed to featurize datapoint 0, CCCC(NC(=O)C([NH3+])CCCC[NH3+])C(=O)NC(CCCC[NH3+])C(=O)[O-]. Appending empty array\n",
      "Exception message: 'NoneType' object is not subscriptable\n"
     ]
    },
    {
     "name": "stdout",
     "output_type": "stream",
     "text": [
      "1b6h Featurization Failed\n",
      "5iee Featurization Failed\n",
      "3szm Featurization Failed\n"
     ]
    },
    {
     "name": "stderr",
     "output_type": "stream",
     "text": [
      "Failed to featurize datapoint 0, CC(NC(=O)C(C)NC(=O)C(CCCNC(N)=[NH2+])NC(=O)C([NH3+])CCCNC(N)=[NH2+])C(=O)[O-]. Appending empty array\n",
      "Exception message: 'NoneType' object is not subscriptable\n"
     ]
    },
    {
     "name": "stdout",
     "output_type": "stream",
     "text": [
      "3nim Featurization Failed\n",
      "2xaj Featurization Failed\n"
     ]
    },
    {
     "name": "stderr",
     "output_type": "stream",
     "text": [
      "Failed to featurize datapoint 0, CCc1ccc2c(c1)C([NH2+]CC(O)C1Cc3cccc(c3)CCCCn3cc(ccc3=O)C(=O)N1)CC1(CCC1)O2. Appending empty array\n",
      "Exception message: 'NoneType' object is not subscriptable\n"
     ]
    },
    {
     "name": "stdout",
     "output_type": "stream",
     "text": [
      "4ke1 Featurization Failed\n",
      "5j19 Featurization Failed\n"
     ]
    },
    {
     "name": "stderr",
     "output_type": "stream",
     "text": [
      "Failed to featurize datapoint 0, CC1OC(OC2C(CO)OC(OC3C(CO)=CC([NH2+]C4C(C)OC(OC5C(CO)OC(OC6C(CO)OC(O)C(O)C6O)C(O)C5O)C(O)C4O)C(O)C3O)C(O)C2O)C(O)C(O)C1[NH2+]C1C=C(CO)C(O)C(O)C1O. Appending empty array\n",
      "Exception message: 'NoneType' object is not subscriptable\n"
     ]
    },
    {
     "name": "stdout",
     "output_type": "stream",
     "text": [
      "3olg Featurization Failed\n"
     ]
    },
    {
     "name": "stderr",
     "output_type": "stream",
     "text": [
      "Failed to featurize datapoint 0, O=C1C(O)C(O)CC(O)(C(=O)[O-])C1Cc1c(F)c(F)c(F)c(F)c1F. Appending empty array\n",
      "Exception message: 'NoneType' object is not subscriptable\n"
     ]
    },
    {
     "name": "stdout",
     "output_type": "stream",
     "text": [
      "4b6s Featurization Failed\n",
      "4y32 Featurization Failed\n"
     ]
    },
    {
     "name": "stderr",
     "output_type": "stream",
     "text": [
      "Failed to featurize datapoint 0, CCCCOc1cc(C(=O)[O-])c(O)c(I)c1-n1cccc1. Appending empty array\n",
      "Exception message: 'NoneType' object is not subscriptable\n"
     ]
    },
    {
     "name": "stdout",
     "output_type": "stream",
     "text": [
      "5o1f Featurization Failed\n"
     ]
    },
    {
     "name": "stderr",
     "output_type": "stream",
     "text": [
      "Failed to featurize datapoint 0, NC(=[NH2+])NCCCC(C(=O)[O-])[NH+]1C(O)CCC1C(=O)[O-]. Appending empty array\n",
      "Exception message: 'NoneType' object is not subscriptable\n"
     ]
    },
    {
     "name": "stdout",
     "output_type": "stream",
     "text": [
      "4pp0 Featurization Failed\n",
      "6h7z Featurization Failed\n"
     ]
    },
    {
     "name": "stderr",
     "output_type": "stream",
     "text": [
      "Failed to featurize datapoint 0, CC1[NH2+]C(c2cn(-c3ccccc3)nn2)C(O)C1O. Appending empty array\n",
      "Exception message: 'NoneType' object is not subscriptable\n"
     ]
    },
    {
     "name": "stdout",
     "output_type": "stream",
     "text": [
      "4pee Featurization Failed\n"
     ]
    },
    {
     "name": "stderr",
     "output_type": "stream",
     "text": [
      "Failed to featurize datapoint 0, COC1OC(C(=O)[O-])C(OC2OC(COS(=O)(=O)[O-])C(O)C(O)C2NS(=O)(=O)[O-])C(O)C1OS(=O)(=O)[O-]. Appending empty array\n",
      "Exception message: 'NoneType' object is not subscriptable\n"
     ]
    },
    {
     "name": "stdout",
     "output_type": "stream",
     "text": [
      "4oef Featurization Failed\n",
      "6h9b Featurization Failed\n"
     ]
    },
    {
     "name": "stderr",
     "output_type": "stream",
     "text": [
      "Failed to featurize datapoint 0, CCCCCC=CCC=CC=CC=CCC(O)CCCC(=O)[O-]. Appending empty array\n",
      "Exception message: 'NoneType' object is not subscriptable\n"
     ]
    },
    {
     "name": "stdout",
     "output_type": "stream",
     "text": [
      "3u3u Featurization Failed\n"
     ]
    },
    {
     "name": "stderr",
     "output_type": "stream",
     "text": [
      "Failed to featurize datapoint 0, CSCCC([NH3+])C(=O)NC(Cc1c[nH]cn1)C(=O)N1CCCC1C(=O)NC(C)C(=O)NC(CCC(N)=O)C(=O)NC(C(=O)NC(CO)C(=O)NC(CCC(N)=O)C(=O)NC(Cc1c[nH]c2ccccc12)C(=O)[O-])C(C)O. Appending empty array\n",
      "Exception message: 'NoneType' object is not subscriptable\n"
     ]
    },
    {
     "name": "stdout",
     "output_type": "stream",
     "text": [
      "3rwg Featurization Failed\n",
      "4i06 Featurization Failed\n"
     ]
    },
    {
     "name": "stderr",
     "output_type": "stream",
     "text": [
      "Failed to featurize datapoint 0, O=C([O-])c1ccccc1[S+](O)Cc1ccccc1. Appending empty array\n",
      "Exception message: 'NoneType' object is not subscriptable\n"
     ]
    },
    {
     "name": "stdout",
     "output_type": "stream",
     "text": [
      "4qy3 Featurization Failed\n"
     ]
    },
    {
     "name": "stderr",
     "output_type": "stream",
     "text": [
      "Failed to featurize datapoint 0, [NH3+]CC[NH+]1CCCC(NC(=O)N2CCC(NS(=O)(=O)[O-])C2CO)CC1. Appending empty array\n",
      "Exception message: 'NoneType' object is not subscriptable\n"
     ]
    },
    {
     "name": "stdout",
     "output_type": "stream",
     "text": [
      "3s1y Featurization Failed\n"
     ]
    },
    {
     "name": "stderr",
     "output_type": "stream",
     "text": [
      "Failed to featurize datapoint 0, CCC(C)C1NC(=O)C(CCCC[NH3+])NC(=O)C(C)NC(=O)C(CO)NC(=O)C(CC(=O)[O-])NC(=O)C(CC(C)C)NC(=O)C(CC(N)=O)NC(=O)C(CC(=O)[O-])NC1=O. Appending empty array\n",
      "Exception message: 'NoneType' object is not subscriptable\n"
     ]
    },
    {
     "name": "stdout",
     "output_type": "stream",
     "text": [
      "3av9 Featurization Failed\n"
     ]
    },
    {
     "name": "stderr",
     "output_type": "stream",
     "text": [
      "Failed to featurize datapoint 0, Cc1cn(C2CC(O)C(C[NH+]3CCCCC3)O2)c(=O)[nH]c1=O. Appending empty array\n",
      "Exception message: 'NoneType' object is not subscriptable\n"
     ]
    },
    {
     "name": "stdout",
     "output_type": "stream",
     "text": [
      "3d8y Featurization Failed\n"
     ]
    },
    {
     "name": "stderr",
     "output_type": "stream",
     "text": [
      "Failed to featurize datapoint 0, CN1C(=[NH2+])NC2(c3cc(-c4cccc(C#N)c4)cs3)CN(c3ncc(F)cn3)CC2C1=O. Appending empty array\n",
      "Exception message: 'NoneType' object is not subscriptable\n"
     ]
    },
    {
     "name": "stdout",
     "output_type": "stream",
     "text": [
      "5hd0 Featurization Failed\n",
      "4ui5 Featurization Failed\n"
     ]
    },
    {
     "name": "stderr",
     "output_type": "stream",
     "text": [
      "Failed to featurize datapoint 0, CC([NH3+])C(=O)NC(C)C(=O)NC(C)C(=O)NC(C)C(=O)NC(C)C(=O)[O-]. Appending empty array\n",
      "Exception message: 'NoneType' object is not subscriptable\n"
     ]
    },
    {
     "name": "stdout",
     "output_type": "stream",
     "text": [
      "3stj Featurization Failed\n"
     ]
    },
    {
     "name": "stderr",
     "output_type": "stream",
     "text": [
      "Failed to featurize datapoint 0, COc1cc(C(=O)N2CCC([NH+]3CC[NH+](C)CC3)CC2)ccc1Nc1ncc2c(n1)N(C)c1ccccc1C(=O)N2C. Appending empty array\n",
      "Exception message: 'NoneType' object is not subscriptable\n"
     ]
    },
    {
     "name": "stdout",
     "output_type": "stream",
     "text": [
      "5oot Featurization Failed\n"
     ]
    },
    {
     "name": "stderr",
     "output_type": "stream",
     "text": [
      "Failed to featurize datapoint 0, O=C([O-])c1ccc(NC(=O)C(C2CCCCC2)n2c(-c3ccc(Cl)cc3)nc3cc(F)c(F)cc32)cc1. Appending empty array\n",
      "Exception message: 'NoneType' object is not subscriptable\n"
     ]
    },
    {
     "name": "stdout",
     "output_type": "stream",
     "text": [
      "3oof Featurization Failed\n"
     ]
    },
    {
     "name": "stderr",
     "output_type": "stream",
     "text": [
      "Failed to featurize datapoint 0, O=C1N=CCc2cc(OC3CC[NH2+]C3)c(Cl)cc21. Appending empty array\n",
      "Exception message: 'NoneType' object is not subscriptable\n"
     ]
    },
    {
     "name": "stdout",
     "output_type": "stream",
     "text": [
      "3zm4 Featurization Failed\n"
     ]
    },
    {
     "name": "stderr",
     "output_type": "stream",
     "text": [
      "Failed to featurize datapoint 0, CCC1CCC(C(=O)N2CCN(C(C)=O)C(C)C2)N1C(=O)c1sc2[n+](c1C(C)C)C(c1ccc(Cl)cc1)C(C)(c1ccc(Cl)cc1)N2. Appending empty array\n",
      "Exception message: 'NoneType' object is not subscriptable\n"
     ]
    },
    {
     "name": "stdout",
     "output_type": "stream",
     "text": [
      "3w69 Featurization Failed\n"
     ]
    },
    {
     "name": "stderr",
     "output_type": "stream",
     "text": [
      "Failed to featurize datapoint 0, CCC(C)C(NC(=O)CNC(=O)C(CCC(=O)[O-])NC(=O)CNC(=O)C(CCC(=O)[O-])NC(=O)C(CCC(=O)[O-])NC(=O)C(CC(C)C)NC(=O)CNC(=O)C(Cc1ccccc1)NC(=O)C(Cc1c[nH]cn1)NC(=O)C(Cc1ccc(O)cc1)NC(=O)C(CC(=O)[O-])NC(=O)C([NH3+])CC(C)C)C(=O)NC(CCCNC(N)=[NH2+])C(=O)NC(CC(=O)[O-])C(=O)NC(CC(C)C)C(=O)NC(Cc1ccccc1)C(=O)NC(C)CC(=O)[O-]. Appending empty array\n",
      "Exception message: 'NoneType' object is not subscriptable\n"
     ]
    },
    {
     "name": "stdout",
     "output_type": "stream",
     "text": [
      "1o9k Featurization Failed\n",
      "6m9f Featurization Failed\n"
     ]
    },
    {
     "name": "stderr",
     "output_type": "stream",
     "text": [
      "Failed to featurize datapoint 0, CC1=CSC2C=C(C(C)Nc3ncnc(N)c3C#N)C(c3cccc(C[NH+](C)C)c3)C(=O)N12. Appending empty array\n",
      "Exception message: 'NoneType' object is not subscriptable\n"
     ]
    },
    {
     "name": "stdout",
     "output_type": "stream",
     "text": [
      "5ncz Featurization Failed\n"
     ]
    },
    {
     "name": "stderr",
     "output_type": "stream",
     "text": [
      "Failed to featurize datapoint 0, CC1C[NH+](CCOc2ccc(C3Oc4ccc(O)cc4SC3c3ccc(O)cc3)cc2)CC1C. Appending empty array\n",
      "Exception message: 'NoneType' object is not subscriptable\n"
     ]
    },
    {
     "name": "stdout",
     "output_type": "stream",
     "text": [
      "1xp1 Featurization Failed\n"
     ]
    },
    {
     "name": "stderr",
     "output_type": "stream",
     "text": [
      "Failed to featurize datapoint 0, COC(C(=O)[O-])c1c(C)nc2ccc(Br)cc2c1-c1ccc(Cl)cc1. Appending empty array\n",
      "Exception message: 'NoneType' object is not subscriptable\n"
     ]
    },
    {
     "name": "stdout",
     "output_type": "stream",
     "text": [
      "4dmn Featurization Failed\n"
     ]
    },
    {
     "name": "stderr",
     "output_type": "stream",
     "text": [
      "Failed to featurize datapoint 0, COC(CC(CCCC[NH2+]Cc1ccc(F)cc1)C(=O)NO)c1ccc(F)cc1. Appending empty array\n",
      "Exception message: 'NoneType' object is not subscriptable\n"
     ]
    },
    {
     "name": "stdout",
     "output_type": "stream",
     "text": [
      "4dv8 Featurization Failed\n"
     ]
    },
    {
     "name": "stderr",
     "output_type": "stream",
     "text": [
      "Failed to featurize datapoint 0, COC(=O)Nc1ccc2c(c1)NC(=O)CC(C)C=CCC(NC(=O)c1c(F)cc(C)cc1F)c1nc-2c(Cl)[nH]1. Appending empty array\n",
      "Exception message: 'NoneType' object is not subscriptable\n"
     ]
    },
    {
     "name": "stdout",
     "output_type": "stream",
     "text": [
      "5q0h Featurization Failed\n"
     ]
    },
    {
     "name": "stderr",
     "output_type": "stream",
     "text": [
      "Failed to featurize datapoint 0, CC1(C(=O)[O-])OCC(OC(=O)NCCNC(=O)OC2COC(C)(C(=O)[O-])OC2)CO1. Appending empty array\n",
      "Exception message: 'NoneType' object is not subscriptable\n"
     ]
    },
    {
     "name": "stdout",
     "output_type": "stream",
     "text": [
      "2a3w Featurization Failed\n",
      "4zy0 Featurization Failed\n"
     ]
    },
    {
     "name": "stderr",
     "output_type": "stream",
     "text": [
      "Failed to featurize datapoint 0, CCCNC(=O)C(NC(=O)C(O)(CCC[NH+](Cc1ccc(-c2ccncc2)cc1)NC(=O)C(NC(=O)OC)C(C)(C)C)Cc1ccc(CCC)cc1)C(C)C. Appending empty array\n",
      "Exception message: 'NoneType' object is not subscriptable\n"
     ]
    },
    {
     "name": "stdout",
     "output_type": "stream",
     "text": [
      "4cp7 Featurization Failed\n"
     ]
    },
    {
     "name": "stderr",
     "output_type": "stream",
     "text": [
      "Failed to featurize datapoint 0, COc1cccc(Cn2c(C(=O)NC3CC[NH+](C(C)C)CC3)cc3ccccc32)c1. Appending empty array\n",
      "Exception message: 'NoneType' object is not subscriptable\n"
     ]
    },
    {
     "name": "stdout",
     "output_type": "stream",
     "text": [
      "2bq7 Featurization Failed\n"
     ]
    },
    {
     "name": "stderr",
     "output_type": "stream",
     "text": [
      "Failed to featurize datapoint 0, COC(Cc1ccc(OCCc2nc(-c3ccccc3)oc2C)c2ccsc12)C(=O)[O-]. Appending empty array\n",
      "Exception message: 'NoneType' object is not subscriptable\n"
     ]
    },
    {
     "name": "stdout",
     "output_type": "stream",
     "text": [
      "3g9e Featurization Failed\n"
     ]
    },
    {
     "name": "stderr",
     "output_type": "stream",
     "text": [
      "Failed to featurize datapoint 0, CC[NH+](CC)CCCCC(NC(=O)C(CC(C)C)NC(=O)C(C)NC(=O)C(Cc1ccccc1)NC(=O)c1ccc(C(C)(C)C)cc1)C(=O)NC(CO)C(=O)OC. Appending empty array\n",
      "Exception message: 'NoneType' object is not subscriptable\n"
     ]
    },
    {
     "name": "stdout",
     "output_type": "stream",
     "text": [
      "5eq0 Featurization Failed\n"
     ]
    },
    {
     "name": "stderr",
     "output_type": "stream",
     "text": [
      "Failed to featurize datapoint 0, CC(=O)NC1C(O)CC(C(=O)[O-])(n2cc(CCC(=O)NCCC3OC(CO)C(O)C(O)C3O)nn2)OC1C(O)C(O)CO. Appending empty array\n",
      "Exception message: 'NoneType' object is not subscriptable\n"
     ]
    },
    {
     "name": "stdout",
     "output_type": "stream",
     "text": [
      "5lzg Featurization Failed\n"
     ]
    },
    {
     "name": "stderr",
     "output_type": "stream",
     "text": [
      "Failed to featurize datapoint 0, CCC(C)C(NC(=O)C(CS)NC(=O)C([NH3+])CCCC[NH3+])C(=O)NC(CC(C)C)C(=O)NC(CS)C(=O)NC(CCCNC(N)=[NH2+])C(=O)NC(CC(C)C)C(=O)NC(CC(C)C)C(=O)NC(CCC(N)=O)C(=O)[O-]. Appending empty array\n",
      "Exception message: 'NoneType' object is not subscriptable\n"
     ]
    },
    {
     "name": "stdout",
     "output_type": "stream",
     "text": [
      "1pcg Featurization Failed\n"
     ]
    },
    {
     "name": "stderr",
     "output_type": "stream",
     "text": [
      "Failed to featurize datapoint 0, CCC(C)C(NC(=O)C(Cc1ccc(O)cc1)NC(=O)C(CC(N)=O)NC(=O)C(CC(C)C)NC(=O)C(CO)NC(=O)C1CCCN1C(=O)C1CCCN1C(=O)CNC(=O)C(NC(=O)C(C)NC(=O)C([NH3+])CC(C)C)C(C)C)C(=O)N1CCCC1C(=O)N1CCCC1C(=O)[O-]. Appending empty array\n",
      "Exception message: 'NoneType' object is not subscriptable\n"
     ]
    },
    {
     "name": "stdout",
     "output_type": "stream",
     "text": [
      "3wut Featurization Failed\n",
      "3fe7 Featurization Failed\n"
     ]
    },
    {
     "name": "stderr",
     "output_type": "stream",
     "text": [
      "Failed to featurize datapoint 0, CC(C)CC(NC(=O)C(CCCC[NH3+])NC(=O)C(CO)NC(=O)C([NH3+])CC(N)=O)C(=O)NC(CC(C)C)C(=O)NC(CO)C(=O)NC(CC(C)C)C(=O)NC(CC(C)C)C(=O)NC(CCCNC(N)=[NH2+])C(=O)NC(CO)C(=O)NC(CCCC[NH3+])C(=O)NC(C(=O)[O-])C(C)O. Appending empty array\n",
      "Exception message: 'NoneType' object is not subscriptable\n"
     ]
    },
    {
     "name": "stdout",
     "output_type": "stream",
     "text": [
      "5y59 Featurization Failed\n"
     ]
    },
    {
     "name": "stderr",
     "output_type": "stream",
     "text": [
      "Failed to featurize datapoint 0, CC(=O)NC(CO)C(=O)NC(CCCNC(N)=[NH2+])C(=O)NCC(=O)NC(C(=O)NC(CCC(N)=O)C(=O)NC(C(=O)NC(CCC(=O)[O-])C(=O)[O-])C(C)O)C(C)O. Appending empty array\n",
      "Exception message: 'NoneType' object is not subscriptable\n"
     ]
    },
    {
     "name": "stdout",
     "output_type": "stream",
     "text": [
      "2xqq Featurization Failed\n"
     ]
    },
    {
     "name": "stderr",
     "output_type": "stream",
     "text": [
      "Failed to featurize datapoint 0, NC(=[NH2+])c1ccc(CNC(=O)CNC(=O)C(CO)NS(=O)(=O)Cc2ccccc2)cc1. Appending empty array\n",
      "Exception message: 'NoneType' object is not subscriptable\n"
     ]
    },
    {
     "name": "stdout",
     "output_type": "stream",
     "text": [
      "1sc8 Featurization Failed\n",
      "5hbj Featurization Failed\n"
     ]
    },
    {
     "name": "stderr",
     "output_type": "stream",
     "text": [
      "Failed to featurize datapoint 0, CC(N=Cc1cc(C(N)=[NH2+])ccc1O)C(=O)[O-]. Appending empty array\n",
      "Exception message: 'NoneType' object is not subscriptable\n"
     ]
    },
    {
     "name": "stdout",
     "output_type": "stream",
     "text": [
      "1g3d Featurization Failed\n"
     ]
    },
    {
     "name": "stderr",
     "output_type": "stream",
     "text": [
      "Failed to featurize datapoint 0, O=C([O-])c1ccc(NC(=O)c2cccc(CC3CCCCC3)n2)c(Nc2cccc(OC(F)(F)F)c2)c1. Appending empty array\n",
      "Exception message: 'NoneType' object is not subscriptable\n"
     ]
    },
    {
     "name": "stdout",
     "output_type": "stream",
     "text": [
      "5v5e Featurization Failed\n",
      "5aln Featurization Failed\n"
     ]
    },
    {
     "name": "stderr",
     "output_type": "stream",
     "text": [
      "Failed to featurize datapoint 0, Cc1ccc(CC([NH3+])CNc2nnc(-c3ccc4[nH]nc(C)c4c3)s2)cc1. Appending empty array\n",
      "Exception message: 'NoneType' object is not subscriptable\n"
     ]
    },
    {
     "name": "stdout",
     "output_type": "stream",
     "text": [
      "3l9m Featurization Failed\n",
      "4p72 Featurization Failed\n",
      "6h7m Featurization Failed\n"
     ]
    },
    {
     "name": "stderr",
     "output_type": "stream",
     "text": [
      "Failed to featurize datapoint 0, CC(C)c1cccc(-c2c(C(=O)[O-])c(C(C)C)nc3ccc(Cl)cc23)c1. Appending empty array\n",
      "Exception message: 'NoneType' object is not subscriptable\n"
     ]
    },
    {
     "name": "stdout",
     "output_type": "stream",
     "text": [
      "5hz6 Featurization Failed\n",
      "4lph Featurization Failed\n"
     ]
    },
    {
     "name": "stderr",
     "output_type": "stream",
     "text": [
      "Failed to featurize datapoint 0, CC(C)(C)C(NC(=O)C(CCCNC(N)=[NH2+])NC(=O)Cc1ccc(C[NH3+])cc1)C(=O)NC(CCCNC(N)=[NH2+])C(=O)NCc1ccc(C(N)=[NH2+])cc1. Appending empty array\n",
      "Exception message: 'NoneType' object is not subscriptable\n"
     ]
    },
    {
     "name": "stdout",
     "output_type": "stream",
     "text": [
      "6eqw Featurization Failed\n",
      "1fpy Featurization Failed\n"
     ]
    },
    {
     "name": "stderr",
     "output_type": "stream",
     "text": [
      "Failed to featurize datapoint 0, CC(C)CC(NC(=O)C(NC(=O)CNC(=O)c1ccccc1)C(C)C)C(=O)NC(CCCC[NH3+])C(=O)NC(CCC(=O)[O-])C(=O)NC(Cc1ccc(O)cc1)C(=O)NCC(=O)NC(C(=O)[O-])C(C)C. Appending empty array\n",
      "Exception message: 'NoneType' object is not subscriptable\n"
     ]
    },
    {
     "name": "stdout",
     "output_type": "stream",
     "text": [
      "4uub Featurization Failed\n"
     ]
    },
    {
     "name": "stderr",
     "output_type": "stream",
     "text": [
      "Failed to featurize datapoint 0, CCC(C)C(NC(=O)C(O)Cc1ccc(O)cc1)C(=O)N1C(C(=O)NCCCCNC(N)=[NH2+])CC2CCC(OS(=O)(=O)O)CC21. Appending empty array\n",
      "Exception message: 'NoneType' object is not subscriptable\n"
     ]
    },
    {
     "name": "stdout",
     "output_type": "stream",
     "text": [
      "1aq7 Featurization Failed\n",
      "2wfg Featurization Failed\n",
      "5jmw Featurization Failed\n"
     ]
    },
    {
     "name": "stderr",
     "output_type": "stream",
     "text": [
      "Failed to featurize datapoint 0, CC(=O)NC(CC(C)C)C(=O)NC(CC(C)C)C(=O)NC(CO)CCCNC(N)=[NH2+]. Appending empty array\n",
      "Exception message: 'NoneType' object is not subscriptable\n"
     ]
    },
    {
     "name": "stdout",
     "output_type": "stream",
     "text": [
      "1jrs Featurization Failed\n"
     ]
    },
    {
     "name": "stderr",
     "output_type": "stream",
     "text": [
      "Failed to featurize datapoint 0, O=C(OC1OC(C(=O)[O-])C(O)C(O)C1O)c1c[nH]c2cc(F)c(-c3ccc(C4CCCCO4)cc3)c(F)c12. Appending empty array\n",
      "Exception message: 'NoneType' object is not subscriptable\n"
     ]
    },
    {
     "name": "stdout",
     "output_type": "stream",
     "text": [
      "6e4w Featurization Failed\n"
     ]
    },
    {
     "name": "stderr",
     "output_type": "stream",
     "text": [
      "Failed to featurize datapoint 0, [NH3+]CC1CN(c2c(-c3ccccc3)cnc3[nH]ncc23)CCO1. Appending empty array\n",
      "Exception message: 'NoneType' object is not subscriptable\n"
     ]
    },
    {
     "name": "stdout",
     "output_type": "stream",
     "text": [
      "2wmx Featurization Failed\n"
     ]
    },
    {
     "name": "stderr",
     "output_type": "stream",
     "text": [
      "Failed to featurize datapoint 0, [NH2+]=C1NC2CSC(CCCCC(=O)[O-])C2N1. Appending empty array\n",
      "Exception message: 'NoneType' object is not subscriptable\n"
     ]
    },
    {
     "name": "stdout",
     "output_type": "stream",
     "text": [
      "2izl Featurization Failed\n"
     ]
    },
    {
     "name": "stderr",
     "output_type": "stream",
     "text": [
      "Failed to featurize datapoint 0, CNC(=O)c1ccc(Cl)c(-c2ccc3c(c2)CCCN3C(=O)C2C(F)=CCC=C2Cl)c1. Appending empty array\n",
      "Exception message: 'NoneType' object is not subscriptable\n"
     ]
    },
    {
     "name": "stdout",
     "output_type": "stream",
     "text": [
      "4zjw Featurization Failed\n"
     ]
    },
    {
     "name": "stderr",
     "output_type": "stream",
     "text": [
      "Failed to featurize datapoint 0, CC1[NH2+]C(C[NH3+])C(O)C(O)C1O. Appending empty array\n",
      "Exception message: 'NoneType' object is not subscriptable\n"
     ]
    },
    {
     "name": "stdout",
     "output_type": "stream",
     "text": [
      "2zwz Featurization Failed\n"
     ]
    },
    {
     "name": "stderr",
     "output_type": "stream",
     "text": [
      "Failed to featurize datapoint 0, CC(C)CC(NS(=O)(=O)c1ccc(-c2ccccc2)cc1)C(=O)[O-]. Appending empty array\n",
      "Exception message: 'NoneType' object is not subscriptable\n"
     ]
    },
    {
     "name": "stdout",
     "output_type": "stream",
     "text": [
      "3ehx Featurization Failed\n"
     ]
    },
    {
     "name": "stderr",
     "output_type": "stream",
     "text": [
      "Failed to featurize datapoint 0, CN1CC=Nc2c1[nH]c(=[NH2+])[nH]c2=O. Appending empty array\n",
      "Exception message: 'NoneType' object is not subscriptable\n"
     ]
    },
    {
     "name": "stdout",
     "output_type": "stream",
     "text": [
      "3h2f Featurization Failed\n"
     ]
    },
    {
     "name": "stderr",
     "output_type": "stream",
     "text": [
      "Failed to featurize datapoint 0, CCOC(=O)CCC(CC1CCNC1=O)NC(=O)C(Cc1ccccc1)NC(C)=O. Appending empty array\n",
      "Exception message: 'NoneType' object is not subscriptable\n"
     ]
    },
    {
     "name": "stdout",
     "output_type": "stream",
     "text": [
      "5dpa Featurization Failed\n"
     ]
    },
    {
     "name": "stderr",
     "output_type": "stream",
     "text": [
      "Failed to featurize datapoint 0, OC1C2CCC(O)([NH2+]2)C(O)C1O. Appending empty array\n",
      "Exception message: 'NoneType' object is not subscriptable\n"
     ]
    },
    {
     "name": "stdout",
     "output_type": "stream",
     "text": [
      "4iie Featurization Failed\n",
      "1o4r Featurization Failed\n"
     ]
    },
    {
     "name": "stderr",
     "output_type": "stream",
     "text": [
      "Failed to featurize datapoint 0, CC(C)(ON=C(C(=O)NC(C=O)C(CNC(=O)NCc1cc(=O)c(O)cn1O)NS(=O)(=O)[O-])c1csc(N)n1)C(=O)[O-]. Appending empty array\n",
      "Exception message: 'NoneType' object is not subscriptable\n"
     ]
    },
    {
     "name": "stdout",
     "output_type": "stream",
     "text": [
      "4l0l Featurization Failed\n",
      "4mpc Featurization Failed\n"
     ]
    },
    {
     "name": "stderr",
     "output_type": "stream",
     "text": [
      "Failed to featurize datapoint 0, NC(=O)CC(NC(=O)C1CCC(=O)N1)C(=O)NC(Cc1c[nH]c2ccccc12)C(=O)[O-]. Appending empty array\n",
      "Exception message: 'NoneType' object is not subscriptable\n"
     ]
    },
    {
     "name": "stdout",
     "output_type": "stream",
     "text": [
      "1kug Featurization Failed\n"
     ]
    },
    {
     "name": "stderr",
     "output_type": "stream",
     "text": [
      "Failed to featurize datapoint 0, CC(NC(=O)C(CCC(=O)[O-])NC(=O)C(CC(N)=O)NC(=O)C(CCC(=O)[O-])NC(=O)C(CC(=O)[O-])NC(=O)C(CC(=O)[O-])NC(=O)C(CCC(=O)[O-])NC(=O)C(NC(=O)C1CCCN1C(=O)C(CO)NC(=O)C(CCC(N)=O)NC(=O)C([NH3+])CO)C(C)O)C(=O)[O-]. Appending empty array\n",
      "Exception message: 'PUGREST.BadRequest: error: '\n"
     ]
    },
    {
     "name": "stdout",
     "output_type": "stream",
     "text": [
      "5zuj Featurization Failed\n"
     ]
    },
    {
     "name": "stderr",
     "output_type": "stream",
     "text": [
      "Failed to featurize datapoint 0, CCCc1scc(-c2cn[nH]c2)c1CC(NC1=NC(C)(C)Cc2cc(Cl)ccc21)C(=O)[O-]. Appending empty array\n",
      "Exception message: 'NoneType' object is not subscriptable\n"
     ]
    },
    {
     "name": "stdout",
     "output_type": "stream",
     "text": [
      "4i1c Featurization Failed\n"
     ]
    },
    {
     "name": "stderr",
     "output_type": "stream",
     "text": [
      "Failed to featurize datapoint 0, CC(=O)NC1C(O)OC(CO)C(OC2OC(CO)C(O)C(OC3(C(=O)[O-])CC(O)C(NC(C)=O)C(C(O)C(O)CO)O3)C2O)C1O. Appending empty array\n",
      "Exception message: 'NoneType' object is not subscriptable\n"
     ]
    },
    {
     "name": "stdout",
     "output_type": "stream",
     "text": [
      "4lkj Featurization Failed\n"
     ]
    },
    {
     "name": "stderr",
     "output_type": "stream",
     "text": [
      "Failed to featurize datapoint 0, NC(=[NH2+])NCCCC(NC(=O)C([NH3+])CCC(N)=O)C(=O)NC(CCC(N)=O)C(=O)NC(CO)C(=O)N1CCCC1C(=O)NC(CC(=O)[O-])C(=O)NCC(=O)NC(CCC(N)=O)C(=O)NC(CO)C(=O)NC(Cc1ccccc1)C(=O)NC(CCCNC(N)=[NH2+])C(=O)NC(CO)C(N)=O. Appending empty array\n",
      "Exception message: 'PUGREST.BadRequest: error: '\n"
     ]
    },
    {
     "name": "stdout",
     "output_type": "stream",
     "text": [
      "3tww Featurization Failed\n"
     ]
    },
    {
     "name": "stderr",
     "output_type": "stream",
     "text": [
      "Failed to featurize datapoint 0, OCC1OC(SC2OC(CO)C(O)C(n3cc(-c4cccc(F)c4)nn3)C2O)C(O)C(O)C1O. Appending empty array\n",
      "Exception message: 'NoneType' object is not subscriptable\n"
     ]
    },
    {
     "name": "stdout",
     "output_type": "stream",
     "text": [
      "5h9r Featurization Failed\n"
     ]
    },
    {
     "name": "stderr",
     "output_type": "stream",
     "text": [
      "Failed to featurize datapoint 0, CC(C)CC(NC(=O)C1CSSCC2CC(NC(=O)C[NH3+])C(=O)NC(C)C(=O)NC(CC(C)C)C(=O)NCC(=O)NC(CCCNC(N)=[NH2+])C(=O)NCC(=O)NC(CSS2)C(=O)NC(CCC(=O)[O-])C(=O)NC(CC(N)=O)C(=O)NC(Cc2c[nH]cn2)C(=O)NC(CCCNC(N)=[NH2+])C(=O)N1)C(N)=O. Appending empty array\n",
      "Exception message: 'PUGREST.BadRequest: error: '\n"
     ]
    },
    {
     "name": "stdout",
     "output_type": "stream",
     "text": [
      "4os5 Featurization Failed\n",
      "6apt Featurization Failed\n",
      "3efs Featurization Failed\n",
      "6aps Featurization Failed\n"
     ]
    },
    {
     "name": "stderr",
     "output_type": "stream",
     "text": [
      "Failed to featurize datapoint 0, CNC(=O)CC1C(O)C(O)C(CO)[NH+]1CCCc1cccc(C(F)(F)F)c1. Appending empty array\n",
      "Exception message: 'NoneType' object is not subscriptable\n"
     ]
    },
    {
     "name": "stdout",
     "output_type": "stream",
     "text": [
      "5m7u Featurization Failed\n"
     ]
    },
    {
     "name": "stderr",
     "output_type": "stream",
     "text": [
      "Failed to featurize datapoint 0, O=c1ccc2c([nH]1)CCCC2[NH2+]CCCCCCCCCC[NH2+]C1CCCc2[nH]c(=O)ccc21. Appending empty array\n",
      "Exception message: 'NoneType' object is not subscriptable\n"
     ]
    },
    {
     "name": "stdout",
     "output_type": "stream",
     "text": [
      "1h22 Featurization Failed\n"
     ]
    },
    {
     "name": "stderr",
     "output_type": "stream",
     "text": [
      "Failed to featurize datapoint 0, N#Cc1ccc(OCCC[NH+]2CCC(C(O)(c3ccccn3)C3CCCC3)CC2)cc1. Appending empty array\n",
      "Exception message: 'NoneType' object is not subscriptable\n"
     ]
    },
    {
     "name": "stdout",
     "output_type": "stream",
     "text": [
      "4og5 Featurization Failed\n",
      "4ycm Featurization Failed\n"
     ]
    },
    {
     "name": "stderr",
     "output_type": "stream",
     "text": [
      "Failed to featurize datapoint 0, CC([NH3+])C(=O)NC(C(=O)NCC(=O)NC(CO)C(=O)NC(C)C(=O)NC(CCCNC(N)=[NH2+])C(=O)NC(CO)C(=O)NC(CCC(=O)[O-])C(=O)NCC(=O)NC(Cc1ccc(O)cc1)C(=O)[O-])C(C)O. Appending empty array\n",
      "Exception message: 'NoneType' object is not subscriptable\n"
     ]
    },
    {
     "name": "stdout",
     "output_type": "stream",
     "text": [
      "4ewr Featurization Failed\n"
     ]
    },
    {
     "name": "stderr",
     "output_type": "stream",
     "text": [
      "Failed to featurize datapoint 0, Cn1cncc1C(O)(c1ccc(Cl)cc1)c1cc2cc(C(=O)N[NH+]3CCOCC3)cc(-c3ccccc3)c2o1. Appending empty array\n",
      "Exception message: 'NoneType' object is not subscriptable\n"
     ]
    },
    {
     "name": "stdout",
     "output_type": "stream",
     "text": [
      "2zir Featurization Failed\n"
     ]
    },
    {
     "name": "stderr",
     "output_type": "stream",
     "text": [
      "Failed to featurize datapoint 0, CSCCC([NH2+]CC(Cc1ccccc1)NC(=O)C(CO)NC(=O)C(CC(C)C)NC(=O)C(Cc1cnc[nH]1)NC(=O)C1CCC[NH2+]1)C(=O)NC(C)C(=O)NC(Cc1cnc[nH]1)C(=O)[O-]. Appending empty array\n",
      "Exception message: 'NoneType' object is not subscriptable\n"
     ]
    },
    {
     "name": "stdout",
     "output_type": "stream",
     "text": [
      "3uri Featurization Failed\n"
     ]
    },
    {
     "name": "stderr",
     "output_type": "stream",
     "text": [
      "Failed to featurize datapoint 0, N#Cc1ccc(NC(NCC(=O)[O-])=[NH+]C(c2ccccc2)c2ccccc2)cc1. Appending empty array\n",
      "Exception message: 'NoneType' object is not subscriptable\n"
     ]
    },
    {
     "name": "stdout",
     "output_type": "stream",
     "text": [
      "1etz Featurization Failed\n",
      "1mmp Featurization Failed\n",
      "3atu Featurization Failed\n"
     ]
    },
    {
     "name": "stderr",
     "output_type": "stream",
     "text": [
      "Failed to featurize datapoint 0, CC(C)CC(NC(=O)C(CC(N)=O)NC(=O)C(NC(=O)C(CCC(=O)[O-])NC(=O)C(CO)NC(=O)C(Cc1c[nH]c2ccccc12)NC(=O)C([NH3+])Cc1c[nH]c2ccccc12)C(C)C)C(O)CC(C)C(=O)NC(C)C(=O)NC(CCC(=O)[O-])C(=O)NC(Cc1ccccc1)C(=O)[O-]. Appending empty array\n",
      "Exception message: 'NoneType' object is not subscriptable\n"
     ]
    },
    {
     "name": "stdout",
     "output_type": "stream",
     "text": [
      "1xn2 Featurization Failed\n",
      "5k4l Featurization Failed\n",
      "4bhi Featurization Failed\n"
     ]
    },
    {
     "name": "stderr",
     "output_type": "stream",
     "text": [
      "Failed to featurize datapoint 0, [B+2]c1ccc(C(O)CCc2ccc(O)c(C(=O)[O-])c2)cc1. Appending empty array\n",
      "Exception message: 'PUGREST.BadRequest: error: '\n"
     ]
    },
    {
     "name": "stdout",
     "output_type": "stream",
     "text": [
      "5wys Featurization Failed\n"
     ]
    },
    {
     "name": "stderr",
     "output_type": "stream",
     "text": [
      "Failed to featurize datapoint 0, NC(=[NH2+])c1ccc2[nH]c(-c3cc(C(CC(=O)[O-])C(=O)[O-])cc(Br)c3O)nc2c1. Appending empty array\n",
      "Exception message: 'NoneType' object is not subscriptable\n"
     ]
    },
    {
     "name": "stdout",
     "output_type": "stream",
     "text": [
      "1o2u Featurization Failed\n"
     ]
    },
    {
     "name": "stderr",
     "output_type": "stream",
     "text": [
      "Failed to featurize datapoint 0, O=c1[nH]cnc2c(-n3cc(CC[NH+]4CCC(Cc5ccc(Cl)cc5)CC4)cn3)nccc12. Appending empty array\n",
      "Exception message: 'NoneType' object is not subscriptable\n"
     ]
    },
    {
     "name": "stdout",
     "output_type": "stream",
     "text": [
      "5f3g Featurization Failed\n"
     ]
    },
    {
     "name": "stderr",
     "output_type": "stream",
     "text": [
      "Failed to featurize datapoint 0, CCC(C)C([NH3+])C(=O)NC(C(=O)NC(Cc1ccccc1)C(=O)NC1(C)CCCC=CCCCC(C)(C(=O)NC(Cc2ccc(O)cc2)C(=O)NC(Cc2ccc(O)cc2)C(=O)NCC(=O)NC(CCCC[NH3+])C(=O)NC(CCCC[NH3+])C(=O)NC(CCCC[NH3+])C(=O)[O-])NC(=O)C(CC(C)C)NC(=O)C(CC(C)C)NC(=O)C(CC(=O)[O-])NC1=O)C(C)O. Appending empty array\n",
      "Exception message: 'NoneType' object is not subscriptable\n"
     ]
    },
    {
     "name": "stdout",
     "output_type": "stream",
     "text": [
      "2l6e Featurization Failed\n"
     ]
    },
    {
     "name": "stderr",
     "output_type": "stream",
     "text": [
      "Failed to featurize datapoint 0, CSCCC(NC(=O)C([NH3+])C(C)C)C(=O)NC(C)C(=O)N1CCCC1C(=O)NC(CCCNC(N)=[NH2+])C(=O)NC(C)C(=O)NC(CC(C)C)C(=O)NC(CC(C)C)C(=O)NC(CC(C)C)C(=O)[O-]. Appending empty array\n",
      "Exception message: 'NoneType' object is not subscriptable\n"
     ]
    },
    {
     "name": "stdout",
     "output_type": "stream",
     "text": [
      "3bzf Featurization Failed\n",
      "5nps Featurization Failed\n"
     ]
    },
    {
     "name": "stderr",
     "output_type": "stream",
     "text": [
      "Failed to featurize datapoint 0, CCC(C)C(NC(=O)C(CC(=O)[O-])NC(=O)C([NH3+])Cc1ccc(O)cc1)C(=O)[O-]. Appending empty array\n",
      "Exception message: 'NoneType' object is not subscriptable\n"
     ]
    },
    {
     "name": "stdout",
     "output_type": "stream",
     "text": [
      "3iqh Featurization Failed\n"
     ]
    },
    {
     "name": "stderr",
     "output_type": "stream",
     "text": [
      "Failed to featurize datapoint 0, [NH3+]C(CC1(C(=O)[O-])CC2OCCCC2O1)C(=O)[O-]. Appending empty array\n",
      "Exception message: 'NoneType' object is not subscriptable\n"
     ]
    },
    {
     "name": "stdout",
     "output_type": "stream",
     "text": [
      "3gbb Featurization Failed\n"
     ]
    },
    {
     "name": "stderr",
     "output_type": "stream",
     "text": [
      "Failed to featurize datapoint 0, CC([NH3+])C(=O)NC(C)C(=O)NC(CO)C(=O)NC(C)C(=O)NC(CO)C(=O)NC(C)C(=O)[O-]. Appending empty array\n",
      "Exception message: 'NoneType' object is not subscriptable\n",
      "Failed to featurize datapoint 0, None. Appending empty array\n",
      "Exception message: Python argument types in\n",
      "    rdkit.Chem.rdmolfiles.MolToSmiles(NoneType)\n",
      "did not match C++ signature:\n",
      "    MolToSmiles(class RDKit::ROMol mol, bool isomericSmiles=False, bool kekuleSmiles=False, int rootedAtAtom=-1, bool canonical=True, bool allBondsExplicit=False, bool allHsExplicit=False)\n"
     ]
    },
    {
     "name": "stdout",
     "output_type": "stream",
     "text": [
      "3dri Featurization Failed\n",
      "3p44 Featurization Failed\n"
     ]
    },
    {
     "name": "stderr",
     "output_type": "stream",
     "text": [
      "Failed to featurize datapoint 0, O=S(=O)([O-])c1ccccc1C(c1ccc(O)c(Cl)c1)c1ccc(OC2OC(CO)C(O)C(O)C2O)c(Cl)c1. Appending empty array\n",
      "Exception message: 'NoneType' object is not subscriptable\n"
     ]
    },
    {
     "name": "stdout",
     "output_type": "stream",
     "text": [
      "4lk6 Featurization Failed\n"
     ]
    },
    {
     "name": "stderr",
     "output_type": "stream",
     "text": [
      "Failed to featurize datapoint 0, O=CC(Cc1ccccc1)NC(=O)C(Cc1ccccc1)NC(=O)CCc1ccccc1. Appending empty array\n",
      "Exception message: 'NoneType' object is not subscriptable\n"
     ]
    },
    {
     "name": "stdout",
     "output_type": "stream",
     "text": [
      "3sn8 Featurization Failed\n"
     ]
    },
    {
     "name": "stderr",
     "output_type": "stream",
     "text": [
      "Failed to featurize datapoint 0, COC=CC([NH3+])C(=O)[O-]. Appending empty array\n",
      "Exception message: 'NoneType' object is not subscriptable\n"
     ]
    },
    {
     "name": "stdout",
     "output_type": "stream",
     "text": [
      "1qm4 Featurization Failed\n",
      "2e9d Featurization Failed\n"
     ]
    },
    {
     "name": "stderr",
     "output_type": "stream",
     "text": [
      "Failed to featurize datapoint 0, O=C([O-])Cc1ccc(N2C(=O)C(O)=C(C(=O)c3ccc(Cl)s3)C2c2cc(Br)cs2)cc1. Appending empty array\n",
      "Exception message: 'NoneType' object is not subscriptable\n"
     ]
    },
    {
     "name": "stdout",
     "output_type": "stream",
     "text": [
      "4ibf Featurization Failed\n"
     ]
    },
    {
     "name": "stderr",
     "output_type": "stream",
     "text": [
      "Failed to featurize datapoint 0, CC([NH3+])C(=O)NC(CCCNC(N)=[NH2+])C(=O)NC(CCCC[NH3+])C(=O)NC(CCC(=O)[O-])C(=O)NC(Cc1ccc(O)cc1)C(=O)NC(Cc1ccc(O)cc1)C(=O)NC(C)C(=O)[O-]. Appending empty array\n",
      "Exception message: 'NoneType' object is not subscriptable\n"
     ]
    },
    {
     "name": "stdout",
     "output_type": "stream",
     "text": [
      "3kze Featurization Failed\n"
     ]
    },
    {
     "name": "stderr",
     "output_type": "stream",
     "text": [
      "Failed to featurize datapoint 0, O=C(c1cccc(Cl)c1)C1C[NH2+]CC1c1ccc2c(=O)[nH]cnc2c1. Appending empty array\n",
      "Exception message: 'NoneType' object is not subscriptable\n"
     ]
    },
    {
     "name": "stdout",
     "output_type": "stream",
     "text": [
      "4z84 Featurization Failed\n",
      "1i43 Featurization Failed\n"
     ]
    },
    {
     "name": "stderr",
     "output_type": "stream",
     "text": [
      "Failed to featurize datapoint 0, CCC(C)C(NC(=O)C(C)NC(=O)C(CCCNC(N)=[NH2+])NC(=O)C(NC(=O)C(CCCC[NH3+])NC(=O)C(CC(N)=O)NC(=O)C(CCCNC(N)=[NH2+])NC(=O)C(NC(=O)C([NH3+])C(C)C)C(C)CC)C(C)CC)C(=O)NCC(=O)NC(CCCC[NH3+])C(=O)NC(CCSC)C(=O)NC(C)C(=O)NC(CCCNC(N)=[NH2+])C(=O)NC(C(=O)NC(Cc1ccccc1)C(=O)NC(CO)C(=O)[O-])C(C)C. Appending empty array\n",
      "Exception message: 'NoneType' object is not subscriptable\n"
     ]
    },
    {
     "name": "stdout",
     "output_type": "stream",
     "text": [
      "2w73 Featurization Failed\n"
     ]
    },
    {
     "name": "stderr",
     "output_type": "stream",
     "text": [
      "Failed to featurize datapoint 0, O=C([O-])c1nc2ccccc2c2[nH]c3c(I)cccc3c12. Appending empty array\n",
      "Exception message: 'NoneType' object is not subscriptable\n"
     ]
    },
    {
     "name": "stdout",
     "output_type": "stream",
     "text": [
      "4ylj Featurization Failed\n"
     ]
    },
    {
     "name": "stderr",
     "output_type": "stream",
     "text": [
      "Failed to featurize datapoint 0, COc1ccc([N+](=O)[O-])cc1Cn1cc(CC(=O)[O-])c2ccccc21. Appending empty array\n",
      "Exception message: 'NoneType' object is not subscriptable\n"
     ]
    },
    {
     "name": "stdout",
     "output_type": "stream",
     "text": [
      "4ok6 Featurization Failed\n",
      "5tho Featurization Failed\n"
     ]
    },
    {
     "name": "stderr",
     "output_type": "stream",
     "text": [
      "Failed to featurize datapoint 0, [NH2+]=c1[nH]c(=O)c2ncc(C(=O)NCc3ccco3)nc2[nH]1. Appending empty array\n",
      "Exception message: 'NoneType' object is not subscriptable\n"
     ]
    },
    {
     "name": "stdout",
     "output_type": "stream",
     "text": [
      "3px9 Featurization Failed\n"
     ]
    },
    {
     "name": "stderr",
     "output_type": "stream",
     "text": [
      "Failed to featurize datapoint 0, CCOc1ccc(C(C)=O)cc1NC(=O)c1cccc(C(=O)[O-])c1. Appending empty array\n",
      "Exception message: 'NoneType' object is not subscriptable\n"
     ]
    },
    {
     "name": "stdout",
     "output_type": "stream",
     "text": [
      "4tqn Featurization Failed\n"
     ]
    },
    {
     "name": "stderr",
     "output_type": "stream",
     "text": [
      "Failed to featurize datapoint 0, [NH3+]CCCCC([NH3+])C(=O)NC(C[NH3+])C(=O)NC(CCCC[NH3+])C(=O)[O-]. Appending empty array\n",
      "Exception message: 'NoneType' object is not subscriptable\n"
     ]
    },
    {
     "name": "stdout",
     "output_type": "stream",
     "text": [
      "1b5h Featurization Failed\n"
     ]
    },
    {
     "name": "stderr",
     "output_type": "stream",
     "text": [
      "Failed to featurize datapoint 0, NC(=[NH2+])NCCCC(NC(=O)C([NH3+])CCCC[NH3+])C(=O)NC(CCCC[NH3+])C(=O)[O-]. Appending empty array\n",
      "Exception message: 'NoneType' object is not subscriptable\n"
     ]
    },
    {
     "name": "stdout",
     "output_type": "stream",
     "text": [
      "1qka Featurization Failed\n"
     ]
    },
    {
     "name": "stderr",
     "output_type": "stream",
     "text": [
      "Failed to featurize datapoint 0, COC(=O)c1c(O)cccc1OCCCCNC(=O)C(Cc1ccc(OC(C(=O)[O-])C(=O)[O-])cc1)NC(=O)OC(C)(C)C. Appending empty array\n",
      "Exception message: 'NoneType' object is not subscriptable\n"
     ]
    },
    {
     "name": "stdout",
     "output_type": "stream",
     "text": [
      "1pyn Featurization Failed\n"
     ]
    },
    {
     "name": "stderr",
     "output_type": "stream",
     "text": [
      "Failed to featurize datapoint 0, CSCCC(NC(=O)C(CCCNC(N)=[NH2+])NC(=O)C(CCSC)NC(=O)C(CCCC[NH3+])NC(=O)C(CO)NC(=O)C(NC(=O)C1CCC[NH2+]1)C(C)C)C(=O)NC(C)C(=O)NC(C(=O)N1CCCC1C(=O)NC(CC(C)C)C(=O)NC(CC(C)C)C(=O)NC(CCSC)C(=O)NC(CCC(N)=O)C(=O)[O-])C(C)O. Appending empty array\n",
      "Exception message: 'PUGREST.BadRequest: error: '\n"
     ]
    },
    {
     "name": "stdout",
     "output_type": "stream",
     "text": [
      "3qxd Featurization Failed\n"
     ]
    },
    {
     "name": "stderr",
     "output_type": "stream",
     "text": [
      "Failed to featurize datapoint 0, [NH3+]C(C[NH+]1CCC(O)[NH+](CC2CCC(C(=O)[O-])CC2)C1O)C(O)O. Appending empty array\n",
      "Exception message: 'NoneType' object is not subscriptable\n"
     ]
    },
    {
     "name": "stdout",
     "output_type": "stream",
     "text": [
      "3h06 Featurization Failed\n"
     ]
    },
    {
     "name": "stderr",
     "output_type": "stream",
     "text": [
      "Failed to featurize datapoint 0, NC(=[NH2+])NCCCNC(=O)C1CCCCN1C(=O)C(CC1CCCCC1)[NH2+]CC(=O)[O-]. Appending empty array\n",
      "Exception message: 'NoneType' object is not subscriptable\n"
     ]
    },
    {
     "name": "stdout",
     "output_type": "stream",
     "text": [
      "1k21 Featurization Failed\n"
     ]
    },
    {
     "name": "stderr",
     "output_type": "stream",
     "text": [
      "Failed to featurize datapoint 0, NC(=[NH2+])Nc1ccc(CC(=O)c2ccccc2)cc1. Appending empty array\n",
      "Exception message: 'NoneType' object is not subscriptable\n"
     ]
    },
    {
     "name": "stdout",
     "output_type": "stream",
     "text": [
      "2r2w Featurization Failed\n"
     ]
    },
    {
     "name": "stderr",
     "output_type": "stream",
     "text": [
      "Failed to featurize datapoint 0, NC(=[NH2+])NCCCC(NC(=O)CNC(=O)C(CCC(N)=O)NC(=O)C([NH3+])CC(=O)[O-])C(=O)NCC(=O)NC(CCCNC(N)=[NH2+])C(=O)NC(CCCNC(N)=[NH2+])C(=O)NC(CCCNC(N)=[NH2+])C(=O)N1CCCC1C(=O)[O-]. Appending empty array\n",
      "Exception message: 'PUGREST.BadRequest: error: '\n"
     ]
    },
    {
     "name": "stdout",
     "output_type": "stream",
     "text": [
      "5ygf Featurization Failed\n",
      "3wk6 Featurization Failed\n",
      "3qxc Featurization Failed\n"
     ]
    },
    {
     "name": "stderr",
     "output_type": "stream",
     "text": [
      "Failed to featurize datapoint 0, O=C1NC(=O)C(c2cn3c4c(cccc24)CC=C3)C1c1c[nH]c2ccccc12. Appending empty array\n",
      "Exception message: 'NoneType' object is not subscriptable\n"
     ]
    },
    {
     "name": "stdout",
     "output_type": "stream",
     "text": [
      "3rhk Featurization Failed\n",
      "3ldw Featurization Failed\n"
     ]
    },
    {
     "name": "stderr",
     "output_type": "stream",
     "text": [
      "Failed to featurize datapoint 0, CC#Cc1cncc(-c2cc(Cl)c(C3(C)CS(=O)(=O)N(C)C(=[NH2+])N3)s2)c1. Appending empty array\n",
      "Exception message: 'NoneType' object is not subscriptable\n"
     ]
    },
    {
     "name": "stdout",
     "output_type": "stream",
     "text": [
      "5htz Featurization Failed\n"
     ]
    },
    {
     "name": "stderr",
     "output_type": "stream",
     "text": [
      "Failed to featurize datapoint 0, O=C([O-])c1ccc(C2=C(O)C(O)c3cc(Cl)cc(Cl)c3O2)cc1. Appending empty array\n",
      "Exception message: 'NoneType' object is not subscriptable\n"
     ]
    },
    {
     "name": "stdout",
     "output_type": "stream",
     "text": [
      "5m56 Featurization Failed\n"
     ]
    },
    {
     "name": "stderr",
     "output_type": "stream",
     "text": [
      "Failed to featurize datapoint 0, CC(=O)N1CCCC1C(=O)NC(CC(C)C)C(=O)N1CCCC1C(=O)N1CCCC1C(=O)NC(Cc1ccc(O)cc1)C(=O)[O-]. Appending empty array\n",
      "Exception message: 'NoneType' object is not subscriptable\n"
     ]
    },
    {
     "name": "stdout",
     "output_type": "stream",
     "text": [
      "1k9r Featurization Failed\n"
     ]
    },
    {
     "name": "stderr",
     "output_type": "stream",
     "text": [
      "Failed to featurize datapoint 0, COC(=O)C(Cc1cccc(C(N)=[NH2+])c1)NC(=O)CNS(=O)(=O)c1ccc(C)cc1. Appending empty array\n",
      "Exception message: 'NoneType' object is not subscriptable\n"
     ]
    },
    {
     "name": "stdout",
     "output_type": "stream",
     "text": [
      "1v2r Featurization Failed\n"
     ]
    },
    {
     "name": "stderr",
     "output_type": "stream",
     "text": [
      "Failed to featurize datapoint 0, C[NH+](CCc1cnn(-c2nccc3c(=O)[nH]cnc23)c1)Cc1ccc(F)cc1. Appending empty array\n",
      "Exception message: 'NoneType' object is not subscriptable\n"
     ]
    },
    {
     "name": "stdout",
     "output_type": "stream",
     "text": [
      "5f3c Featurization Failed\n",
      "6agg Featurization Failed\n",
      "4e1e Featurization Failed\n"
     ]
    },
    {
     "name": "stderr",
     "output_type": "stream",
     "text": [
      "Failed to featurize datapoint 0, CCC(C)C(NC(=O)CNC(=O)C(C)NC(=O)C(CC(C)C)NC(=O)C([NH3+])CCC(=O)[O-])C(=O)NCC(=O)NC(C(=O)NC(CC(C)C)C(=O)NC(C(=O)NC(C(=O)[O-])C(C)C)C(C)O)C(C)CC. Appending empty array\n",
      "Exception message: 'NoneType' object is not subscriptable\n"
     ]
    },
    {
     "name": "stdout",
     "output_type": "stream",
     "text": [
      "4jff Featurization Failed\n"
     ]
    },
    {
     "name": "stderr",
     "output_type": "stream",
     "text": [
      "Failed to featurize datapoint 0, CC(C)CC(NC(=O)C(Cc1c[nH]cn1)NC(=O)C(Cc1c[nH]cn1)NC(=O)C(CCC(N)=O)NC(=O)C([NH3+])CCC(N)=O)C(=O)NCC(=O)NCC(=O)NC(C)C(=O)NC(CCCC[NH3+])C(=O)NC(CCC(N)=O)C(=O)NC(C)C(=O)NCC(=O)NC(CC(=O)[O-])C(=O)NC(C(=O)[O-])C(C)C. Appending empty array\n",
      "Exception message: 'PUGREST.BadRequest: error: '\n"
     ]
    },
    {
     "name": "stdout",
     "output_type": "stream",
     "text": [
      "4b60 Featurization Failed\n",
      "4ob1 Featurization Failed\n",
      "4asy Featurization Failed\n"
     ]
    },
    {
     "name": "stderr",
     "output_type": "stream",
     "text": [
      "Failed to featurize datapoint 0, CC(C)[NH+]1CCC(NC(=O)c2cc3ccccc3n2Cc2cc(-c3ccc(Cl)s3)on2)CC1. Appending empty array\n",
      "Exception message: 'NoneType' object is not subscriptable\n"
     ]
    },
    {
     "name": "stdout",
     "output_type": "stream",
     "text": [
      "2boh Featurization Failed\n"
     ]
    },
    {
     "name": "stderr",
     "output_type": "stream",
     "text": [
      "Failed to featurize datapoint 0, [NH3+]C1CCc2ccccc2CC1(O)O. Appending empty array\n",
      "Exception message: 'NoneType' object is not subscriptable\n"
     ]
    },
    {
     "name": "stdout",
     "output_type": "stream",
     "text": [
      "5mfr Featurization Failed\n",
      "5l72 Featurization Failed\n"
     ]
    },
    {
     "name": "stderr",
     "output_type": "stream",
     "text": [
      "Failed to featurize datapoint 0, CCC(C)C(NC(=O)CNC(=O)C(NC(=O)C(Cc1c[nH]c2ccccc12)NC(=O)C(Cc1c[nH]cn1)NC(=O)C(CCCC[NH3+])NC(=O)C(CO)NC(=O)C(NC(=O)C(CCCC[NH3+])NC(=O)C[NH3+])C(C)CC)C(C)O)C(=O)[O-]. Appending empty array\n",
      "Exception message: 'NoneType' object is not subscriptable\n"
     ]
    },
    {
     "name": "stdout",
     "output_type": "stream",
     "text": [
      "1y2a Featurization Failed\n",
      "5fl0 Featurization Failed\n"
     ]
    },
    {
     "name": "stderr",
     "output_type": "stream",
     "text": [
      "Failed to featurize datapoint 0, CC(CC(=O)[O-])c1nnc2nc(N)[nH]c(=O)c2c1O. Appending empty array\n",
      "Exception message: 'NoneType' object is not subscriptable\n"
     ]
    },
    {
     "name": "stdout",
     "output_type": "stream",
     "text": [
      "4d8z Featurization Failed\n"
     ]
    },
    {
     "name": "stderr",
     "output_type": "stream",
     "text": [
      "Failed to featurize datapoint 0, O=C1COc2ccc(C=C3c4ccccc4COc4cc(F)ccc43)cc2N1. Appending empty array\n",
      "Exception message: 'NoneType' object is not subscriptable\n"
     ]
    },
    {
     "name": "stdout",
     "output_type": "stream",
     "text": [
      "5hcv Featurization Failed\n"
     ]
    },
    {
     "name": "stderr",
     "output_type": "stream",
     "text": [
      "Failed to featurize datapoint 0, Cc1cccc(Nc2nc(NC3CCCCC3[NH3+])nc3c2C(=O)NC3)c1. Appending empty array\n",
      "Exception message: 'NoneType' object is not subscriptable\n"
     ]
    },
    {
     "name": "stdout",
     "output_type": "stream",
     "text": [
      "5tt7 Featurization Failed\n",
      "4ui6 Featurization Failed\n",
      "4za0 Featurization Failed\n"
     ]
    },
    {
     "name": "stderr",
     "output_type": "stream",
     "text": [
      "Failed to featurize datapoint 0, Cc1cc2cc3nc(cc4nc(cc5nc(cc5C)cc1n2)c(C)c4CCC(=O)[O-])c(CCC(=O)[O-])c3C. Appending empty array\n",
      "Exception message: 'NoneType' object is not subscriptable\n"
     ]
    },
    {
     "name": "stdout",
     "output_type": "stream",
     "text": [
      "4xkb Featurization Failed\n"
     ]
    },
    {
     "name": "stderr",
     "output_type": "stream",
     "text": [
      "Failed to featurize datapoint 0, CC(O)C(NC(=O)c1ccc(C#CC#Cc2ccc(N)cc2)cc1)C(=O)N=O. Appending empty array\n",
      "Exception message: 'NoneType' object is not subscriptable\n"
     ]
    },
    {
     "name": "stdout",
     "output_type": "stream",
     "text": [
      "3ps1 Featurization Failed\n"
     ]
    },
    {
     "name": "stderr",
     "output_type": "stream",
     "text": [
      "Failed to featurize datapoint 0, COc1cc(NC(=O)CC2(C)CC(c3cccc(Cl)c3)C(c3ccc(Cl)c(F)c3)N(C(CS(=O)(=O)C(C)(C)C)C3CC3)C2=O)ccc1C(=O)[O-]. Appending empty array\n",
      "Exception message: 'NoneType' object is not subscriptable\n"
     ]
    },
    {
     "name": "stdout",
     "output_type": "stream",
     "text": [
      "4wt2 Featurization Failed\n"
     ]
    },
    {
     "name": "stderr",
     "output_type": "stream",
     "text": [
      "Failed to featurize datapoint 0, CC(NC(=O)C(C)NC(=O)C(NC(=O)C(NC(=O)C(CCC(N)=O)NC(=O)CCC(=O)[O-])C(C)C)C(C)C)C(=O)Nc1ccc([N+](=O)[O-])cc1. Appending empty array\n",
      "Exception message: 'NoneType' object is not subscriptable\n"
     ]
    },
    {
     "name": "stdout",
     "output_type": "stream",
     "text": [
      "1pip Featurization Failed\n"
     ]
    },
    {
     "name": "stderr",
     "output_type": "stream",
     "text": [
      "Failed to featurize datapoint 0, CCC(C)C(NC(=O)C(NC(=O)C(Cc1ccccc1)NC(=O)C(CO)NC(=O)C([NH3+])CO)C(C)C)C(=O)[O-]. Appending empty array\n",
      "Exception message: 'NoneType' object is not subscriptable\n"
     ]
    },
    {
     "name": "stdout",
     "output_type": "stream",
     "text": [
      "5gmi Featurization Failed\n",
      "4bxk Featurization Failed\n"
     ]
    },
    {
     "name": "stderr",
     "output_type": "stream",
     "text": [
      "Failed to featurize datapoint 0, NC(=[NH2+])NCCCC(NC(=O)C(CCCNC(N)=[NH2+])NC(=O)CCCCCNC(=O)C1OC(n2cnc3c(N)ncnc32)C(O)C1O)C(N)=O. Appending empty array\n",
      "Exception message: 'NoneType' object is not subscriptable\n"
     ]
    },
    {
     "name": "stdout",
     "output_type": "stream",
     "text": [
      "3bwj Featurization Failed\n"
     ]
    },
    {
     "name": "stderr",
     "output_type": "stream",
     "text": [
      "Failed to featurize datapoint 0, CC(NC(=O)CCCCC([NH3+])C(=O)[O-])C(O)C(F)(F)F. Appending empty array\n",
      "Exception message: 'NoneType' object is not subscriptable\n"
     ]
    },
    {
     "name": "stdout",
     "output_type": "stream",
     "text": [
      "3zcz Featurization Failed\n"
     ]
    },
    {
     "name": "stderr",
     "output_type": "stream",
     "text": [
      "Failed to featurize datapoint 0, CCC(C)C(NC(=O)CNC(=O)C(NC(=O)C(C)[NH3+])C(C)C)C(=O)NCC(=O)NC(C)C(=O)NC(C(=O)NC(Cc1ccccc1)C(=O)[O-])C(C)C. Appending empty array\n",
      "Exception message: 'NoneType' object is not subscriptable\n"
     ]
    },
    {
     "name": "stdout",
     "output_type": "stream",
     "text": [
      "5tkj Featurization Failed\n"
     ]
    },
    {
     "name": "stderr",
     "output_type": "stream",
     "text": [
      "Failed to featurize datapoint 0, CC(NC(=O)C([NH3+])CC(=O)[O-])C(=O)NC(CCC(=O)[O-])C(=O)NC(Cc1ccccc1)C(=O)NC(CCCNC(N)=[NH2+])C(=O)NC(Cc1c[nH]cn1)C(=O)NC(CC(=O)[O-])C(=O)NC(CO)C(=O)NCC(=O)NC(Cc1ccc(O)cc1)C(=O)NC(CCC(=O)[O-])C(=O)[O-]. Appending empty array\n",
      "Exception message: 'PUGREST.BadRequest: error: '\n"
     ]
    },
    {
     "name": "stdout",
     "output_type": "stream",
     "text": [
      "5csz Featurization Failed\n",
      "5teg Featurization Failed\n",
      "3bho Featurization Failed\n",
      "4obq Featurization Failed\n"
     ]
    },
    {
     "name": "stderr",
     "output_type": "stream",
     "text": [
      "Failed to featurize datapoint 0, CN1C(=[NH2+])NC(CCC2CCCCC2)(CC2CCCC(Nc3ccc4ccccc4n3)C2)C1=O. Appending empty array\n",
      "Exception message: 'NoneType' object is not subscriptable\n"
     ]
    },
    {
     "name": "stdout",
     "output_type": "stream",
     "text": [
      "4r95 Featurization Failed\n"
     ]
    },
    {
     "name": "stderr",
     "output_type": "stream",
     "text": [
      "Failed to featurize datapoint 0, CCC(C)C(NC(=O)C(Cc1ccc(O)cc1)NC(=O)C([NH3+])C(C)C)C(=O)NC(Cc1c[nH]cn1)C(=O)N1CCCC1C(=O)NC(Cc1ccccc1)C(=O)[O-]. Appending empty array\n",
      "Exception message: 'NoneType' object is not subscriptable\n"
     ]
    },
    {
     "name": "stdout",
     "output_type": "stream",
     "text": [
      "4fys Featurization Failed\n"
     ]
    },
    {
     "name": "stderr",
     "output_type": "stream",
     "text": [
      "Failed to featurize datapoint 0, C[NH+]1CCN(c2ccc(OCc3ccccc3)c(C(=O)Nc3cccnc3)c2)CC1. Appending empty array\n",
      "Exception message: 'NoneType' object is not subscriptable\n"
     ]
    },
    {
     "name": "stdout",
     "output_type": "stream",
     "text": [
      "5op2 Featurization Failed\n"
     ]
    },
    {
     "name": "stderr",
     "output_type": "stream",
     "text": [
      "Failed to featurize datapoint 0, N=C(CCSCc1csc(NC(N)=[NH2+])n1)NS(N)(=O)=O. Appending empty array\n",
      "Exception message: 'NoneType' object is not subscriptable\n"
     ]
    },
    {
     "name": "stdout",
     "output_type": "stream",
     "text": [
      "6g3v Featurization Failed\n"
     ]
    },
    {
     "name": "stderr",
     "output_type": "stream",
     "text": [
      "Failed to featurize datapoint 0, NC(=O)C(CCCC[NH3+])[NH2+]Cc1cccc(-c2cccnc2)c1. Appending empty array\n",
      "Exception message: 'NoneType' object is not subscriptable\n"
     ]
    },
    {
     "name": "stdout",
     "output_type": "stream",
     "text": [
      "4u5u Featurization Failed\n"
     ]
    },
    {
     "name": "stderr",
     "output_type": "stream",
     "text": [
      "Failed to featurize datapoint 0, O=C([O-])c1ccc(C=NOCCON=Cc2cc(=O)[nH]c(=O)[nH]2)cc1. Appending empty array\n",
      "Exception message: 'NoneType' object is not subscriptable\n"
     ]
    },
    {
     "name": "stdout",
     "output_type": "stream",
     "text": [
      "2hxm Featurization Failed\n"
     ]
    },
    {
     "name": "stderr",
     "output_type": "stream",
     "text": [
      "Failed to featurize datapoint 0, O=C([O-])c1ccc(Cl)cc1NS(=O)(=O)c1ccc(Br)s1. Appending empty array\n",
      "Exception message: 'NoneType' object is not subscriptable\n"
     ]
    },
    {
     "name": "stdout",
     "output_type": "stream",
     "text": [
      "4j06 Featurization Failed\n"
     ]
    },
    {
     "name": "stderr",
     "output_type": "stream",
     "text": [
      "Failed to featurize datapoint 0, O=C(CCCc1ccc2c(c1)CCCC2)NC1OC(CO)C(O)C(O)C1O. Appending empty array\n",
      "Exception message: 'NoneType' object is not subscriptable\n"
     ]
    },
    {
     "name": "stdout",
     "output_type": "stream",
     "text": [
      "4mi6 Featurization Failed\n"
     ]
    },
    {
     "name": "stderr",
     "output_type": "stream",
     "text": [
      "Failed to featurize datapoint 0, CC(N=Cc1ccc(C(N)=[NH2+])cc1O)C(=O)[O-]. Appending empty array\n",
      "Exception message: 'NoneType' object is not subscriptable\n"
     ]
    },
    {
     "name": "stdout",
     "output_type": "stream",
     "text": [
      "1g3c Featurization Failed\n"
     ]
    },
    {
     "name": "stderr",
     "output_type": "stream",
     "text": [
      "Failed to featurize datapoint 0, CC(C)C(NC(=O)C(NC(=O)C(Cc1ccc(O)cc1)NC(=O)C1CCCN1C(=O)C1CCCN1C(=O)C1CCCN1C(=O)C1CCCN1C(=O)C(NC(=O)C[NH3+])C(C)O)C(C)O)C(=O)NCC(=O)[O-]. Appending empty array\n",
      "Exception message: 'NoneType' object is not subscriptable\n"
     ]
    },
    {
     "name": "stdout",
     "output_type": "stream",
     "text": [
      "1jmq Featurization Failed\n",
      "6ar2 Featurization Failed\n"
     ]
    },
    {
     "name": "stderr",
     "output_type": "stream",
     "text": [
      "Failed to featurize datapoint 0, CC(C)CC(NC(=O)CNC(=O)C([NH3+])CCC(=O)[O-])C(=O)NC(CC(=O)[O-])C(=O)NC(Cc1ccccc1)C(=O)NC(CC(C)C)C(=O)NC(Cc1ccccc1)C(=O)NC(CC(=O)[O-])C(=O)NC(C)C(=O)[O-]. Appending empty array\n",
      "Exception message: 'NoneType' object is not subscriptable\n"
     ]
    },
    {
     "name": "stdout",
     "output_type": "stream",
     "text": [
      "6drt Featurization Failed\n"
     ]
    },
    {
     "name": "stderr",
     "output_type": "stream",
     "text": [
      "Failed to featurize datapoint 0, CCOc1ccc(C(=O)Nc2ccc(F)c(C3(C)NC(=[NH2+])OCC3(F)F)c2)nc1. Appending empty array\n",
      "Exception message: 'NoneType' object is not subscriptable\n"
     ]
    },
    {
     "name": "stdout",
     "output_type": "stream",
     "text": [
      "3zlq Featurization Failed\n",
      "1njf Featurization Failed\n",
      "4m6q Featurization Failed\n"
     ]
    },
    {
     "name": "stderr",
     "output_type": "stream",
     "text": [
      "Failed to featurize datapoint 0, [NH2+]=c1ccn(C2OC(CNC(=O)c3c[nH]c4scc[n+]34)C(O)C2O)c(=O)[nH]1. Appending empty array\n",
      "Exception message: 'NoneType' object is not subscriptable\n"
     ]
    },
    {
     "name": "stdout",
     "output_type": "stream",
     "text": [
      "3q8h Featurization Failed\n"
     ]
    },
    {
     "name": "stderr",
     "output_type": "stream",
     "text": [
      "Failed to featurize datapoint 0, C[NH+]1CC(C)(O)C(=O)CC1c1ccc(Br)cc1. Appending empty array\n",
      "Exception message: 'NoneType' object is not subscriptable\n"
     ]
    },
    {
     "name": "stdout",
     "output_type": "stream",
     "text": [
      "5afj Featurization Failed\n",
      "4quo Featurization Failed\n"
     ]
    },
    {
     "name": "stderr",
     "output_type": "stream",
     "text": [
      "Failed to featurize datapoint 0, [NH3+]C(CCSCC1OC(n2cnc3c(NCc4cccc(Cl)c4)ncnc32)C(O)C1O)C(=O)[O-]. Appending empty array\n",
      "Exception message: 'NoneType' object is not subscriptable\n"
     ]
    },
    {
     "name": "stdout",
     "output_type": "stream",
     "text": [
      "3p8z Featurization Failed\n"
     ]
    },
    {
     "name": "stderr",
     "output_type": "stream",
     "text": [
      "Failed to featurize datapoint 0, CC(C)c1ccc(NC(=O)C2CCCN2C(=O)C(CCCC[NH3+])NC(=O)C(F)(F)F)cc1. Appending empty array\n",
      "Exception message: 'NoneType' object is not subscriptable\n"
     ]
    },
    {
     "name": "stdout",
     "output_type": "stream",
     "text": [
      "1ela Featurization Failed\n"
     ]
    },
    {
     "name": "stderr",
     "output_type": "stream",
     "text": [
      "Failed to featurize datapoint 0, COc1ccc(C(C)c2cc(-c3sc(C)nc3C)[nH]n2)cc1. Appending empty array\n",
      "Exception message: 'NoneType' object is not subscriptable\n"
     ]
    },
    {
     "name": "stdout",
     "output_type": "stream",
     "text": [
      "5k0f Featurization Failed\n"
     ]
    },
    {
     "name": "stderr",
     "output_type": "stream",
     "text": [
      "Failed to featurize datapoint 0, CC(C)CC(NC(=O)C(C)NC(=O)C1CCCN1C(=O)C(Cc1ccc(O)cc1)NC(=O)C(CC(N)=O)NC(=O)CNC(=O)C1CCCN1C(=O)C(C)NC(=O)C([NH3+])Cc1ccccc1)C(=O)[O-]. Appending empty array\n",
      "Exception message: 'NoneType' object is not subscriptable\n"
     ]
    },
    {
     "name": "stdout",
     "output_type": "stream",
     "text": [
      "4pg9 Featurization Failed\n"
     ]
    },
    {
     "name": "stderr",
     "output_type": "stream",
     "text": [
      "Failed to featurize datapoint 0, CCC(C)C(NC(=O)C(CC(C)C)NC(=O)C([NH3+])CCC(N)=O)C(=O)NC(CC(N)=O)C(=O)NC(C(=O)NC(CC(N)=O)C(=O)NCC(=O)NC(CO)C(=O)NC(Cc1c[nH]c2ccccc12)C(=O)NC(Cc1cnc[nH]1)C(=O)NC(C(=O)[O-])C(C)C)C(C)O. Appending empty array\n",
      "Exception message: 'NoneType' object is not subscriptable\n"
     ]
    },
    {
     "name": "stdout",
     "output_type": "stream",
     "text": [
      "4why Featurization Failed\n"
     ]
    },
    {
     "name": "stderr",
     "output_type": "stream",
     "text": [
      "Failed to featurize datapoint 0, CC(C)c1cccc(C[NH2+]CC(O)C2COCC=CCC(c3ccccc3)NC(=O)c3cc(cc(N(C)S(C)(=O)=O)c3)C(=O)N2)c1. Appending empty array\n",
      "Exception message: 'NoneType' object is not subscriptable\n"
     ]
    },
    {
     "name": "stdout",
     "output_type": "stream",
     "text": [
      "4dpf Featurization Failed\n",
      "6f5w Featurization Failed\n",
      "1akr Featurization Failed\n"
     ]
    },
    {
     "name": "stderr",
     "output_type": "stream",
     "text": [
      "Failed to featurize datapoint 0, CCOc1cc(OC2CCOC2)c(F)c(C(Nc2ccc(C(N)=[NH2+])cc2)C(=O)[O-])c1. Appending empty array\n",
      "Exception message: 'NoneType' object is not subscriptable\n"
     ]
    },
    {
     "name": "stdout",
     "output_type": "stream",
     "text": [
      "2bz6 Featurization Failed\n"
     ]
    },
    {
     "name": "stderr",
     "output_type": "stream",
     "text": [
      "Failed to featurize datapoint 0, NC(=[NH2+])NC1Cc2ccccc2C1NC(=O)C(=O)Nc1ccc(Cl)c(F)c1. Appending empty array\n",
      "Exception message: 'NoneType' object is not subscriptable\n"
     ]
    },
    {
     "name": "stdout",
     "output_type": "stream",
     "text": [
      "4dkr Featurization Failed\n"
     ]
    },
    {
     "name": "stderr",
     "output_type": "stream",
     "text": [
      "Failed to featurize datapoint 0, CC(C)(C)CC1[NH2+]C(C(=O)NCCC(O)CO)C(c2cccc(Cl)c2F)C1(C#N)c1ccc(Cl)cc1F. Appending empty array\n",
      "Exception message: 'NoneType' object is not subscriptable\n"
     ]
    },
    {
     "name": "stdout",
     "output_type": "stream",
     "text": [
      "4jsc Featurization Failed\n"
     ]
    },
    {
     "name": "stderr",
     "output_type": "stream",
     "text": [
      "Failed to featurize datapoint 0, C[NH2+]C(C)C(=O)NC(C(=O)N1CC2CCC[NH+]2CC1C(=O)NC1CCCc2ccccc21)C1CCCCC1. Appending empty array\n",
      "Exception message: 'NoneType' object is not subscriptable\n"
     ]
    },
    {
     "name": "stdout",
     "output_type": "stream",
     "text": [
      "4hy4 Featurization Failed\n"
     ]
    },
    {
     "name": "stderr",
     "output_type": "stream",
     "text": [
      "Failed to featurize datapoint 0, CCCCC(C)=CC=C(C)C(=O)C1C(=O)OC(CCCCC=NC(=O)OC)C=C1O. Appending empty array\n",
      "Exception message: 'NoneType' object is not subscriptable\n"
     ]
    },
    {
     "name": "stdout",
     "output_type": "stream",
     "text": [
      "3eql Featurization Failed\n"
     ]
    },
    {
     "name": "stderr",
     "output_type": "stream",
     "text": [
      "Failed to featurize datapoint 0, CCC(C)C([NH3+])C(=O)NC(C(=O)NCC(=O)NCC(=O)NC1CSSCC(C(=O)[O-])NC(=O)C(CCC(=O)[O-])NC(=O)C(CCC(=O)[O-])NC(=O)C(CCCNC(N)=[NH2+])NC(=O)C(CC(=O)[O-])NC(=O)C(CCSC)NC(=O)C(Cc2c[nH]c3ccccc23)NC(=O)C(Cc2ccc(O)cc2)NC(=O)C2CCCN2C1=O)C(C)CC. Appending empty array\n",
      "Exception message: 'NoneType' object is not subscriptable\n"
     ]
    },
    {
     "name": "stdout",
     "output_type": "stream",
     "text": [
      "4o3u Featurization Failed\n"
     ]
    },
    {
     "name": "stderr",
     "output_type": "stream",
     "text": [
      "Failed to featurize datapoint 0, NC(=[NH2+])NCCCC(NC(=O)C([NH3+])CCCC[NH3+])C(=O)N1CCCC1C(=O)N1CCCC1C(=O)N1CCCC1C(=O)N1CCCC1C(=O)N1CCCC1C(=O)N1CCCC1C(=O)NCC(=O)O. Appending empty array\n",
      "Exception message: 'NoneType' object is not subscriptable\n"
     ]
    },
    {
     "name": "stdout",
     "output_type": "stream",
     "text": [
      "2d1x Featurization Failed\n",
      "1yon Featurization Failed\n",
      "2q9m Featurization Failed\n"
     ]
    },
    {
     "name": "stderr",
     "output_type": "stream",
     "text": [
      "Failed to featurize datapoint 0, CCCCC(CC(O)(O)C(CCCC)NC(=O)C(NC(=O)C(NC(C)=O)C(C)O)C(C)CC)C(=O)NC(CCC(N)=O)C(=O)NC(CCCNC(N)=[NH2+])C(N)=O. Appending empty array\n",
      "Exception message: 'NoneType' object is not subscriptable\n"
     ]
    },
    {
     "name": "stdout",
     "output_type": "stream",
     "text": [
      "3dcr Featurization Failed\n",
      "5t1a Featurization Failed\n"
     ]
    },
    {
     "name": "stderr",
     "output_type": "stream",
     "text": [
      "Failed to featurize datapoint 0, NS(=O)(=O)c1c(F)c(F)c(S(=O)(=O)CCO)c(NC(c2ccccc2)C(O)c2ccccc2)c1F. Appending empty array\n",
      "Exception message: 'NoneType' object is not subscriptable\n"
     ]
    },
    {
     "name": "stdout",
     "output_type": "stream",
     "text": [
      "4qiy Featurization Failed\n",
      "1aw1 Featurization Failed\n",
      "4xg8 Featurization Failed\n"
     ]
    },
    {
     "name": "stderr",
     "output_type": "stream",
     "text": [
      "Failed to featurize datapoint 0, COC(CC(=O)[O-])C(C)C(=O)C(C)C=C(C)C1OC(=O)C(O)C(O)C=CC(C)CCCC1C. Appending empty array\n",
      "Exception message: 'NoneType' object is not subscriptable\n"
     ]
    },
    {
     "name": "stdout",
     "output_type": "stream",
     "text": [
      "5o22 Featurization Failed\n",
      "3ay9 Featurization Failed\n"
     ]
    },
    {
     "name": "stderr",
     "output_type": "stream",
     "text": [
      "Failed to featurize datapoint 0, O=C(c1cccc(Cl)c1)C1C[NH2+]CC1c1ccc2c(=O)nc[nH]c2c1. Appending empty array\n",
      "Exception message: 'NoneType' object is not subscriptable\n"
     ]
    },
    {
     "name": "stdout",
     "output_type": "stream",
     "text": [
      "4uj1 Featurization Failed\n"
     ]
    },
    {
     "name": "stderr",
     "output_type": "stream",
     "text": [
      "Failed to featurize datapoint 0, NC(=[NH2+])n1ccc(CCNC(=O)C2CC3CCC(O)CC3N2C(=O)C(Cc2ccccc2)NC(=O)C(O)Cc2ccccc2)c1. Appending empty array\n",
      "Exception message: 'NoneType' object is not subscriptable\n"
     ]
    },
    {
     "name": "stdout",
     "output_type": "stream",
     "text": [
      "1riw Featurization Failed\n"
     ]
    },
    {
     "name": "stderr",
     "output_type": "stream",
     "text": [
      "Failed to featurize datapoint 0, CC(C)CC([NH2+]C1CCC(n2cc(-c3ccc(Oc4ccccc4)cc3)c3c(N)ncnc32)CC1)C(=O)N(C)C. Appending empty array\n",
      "Exception message: 'NoneType' object is not subscriptable\n"
     ]
    },
    {
     "name": "stdout",
     "output_type": "stream",
     "text": [
      "5h0h Featurization Failed\n"
     ]
    },
    {
     "name": "stderr",
     "output_type": "stream",
     "text": [
      "Failed to featurize datapoint 0, CCc1ccc(N=C2SC(Cc3ccncc3)C(=O)N2CCOC)cc1. Appending empty array\n",
      "Exception message: 'NoneType' object is not subscriptable\n"
     ]
    },
    {
     "name": "stdout",
     "output_type": "stream",
     "text": [
      "4ztq Featurization Failed\n"
     ]
    },
    {
     "name": "stderr",
     "output_type": "stream",
     "text": [
      "Failed to featurize datapoint 0, CC[NH+](CC)CCCNc1ncc2cc(-c3cc(OC)cc(OC)c3)c(NC(=O)NC(C)(C)C)nc2n1. Appending empty array\n",
      "Exception message: 'NoneType' object is not subscriptable\n"
     ]
    },
    {
     "name": "stdout",
     "output_type": "stream",
     "text": [
      "5a4c Featurization Failed\n"
     ]
    },
    {
     "name": "stderr",
     "output_type": "stream",
     "text": [
      "Failed to featurize datapoint 0, NC(=[NH2+])NCCCC(NC(=O)C1CCCN1C(=O)C([NH3+])Cc1ccccc1)C(O)c1nc2ccccc2s1. Appending empty array\n",
      "Exception message: 'NoneType' object is not subscriptable\n"
     ]
    },
    {
     "name": "stdout",
     "output_type": "stream",
     "text": [
      "1tbz Featurization Failed\n"
     ]
    },
    {
     "name": "stderr",
     "output_type": "stream",
     "text": [
      "Failed to featurize datapoint 0, CC(Oc1cc(-c2cccc(S(C)(=O)=O)c2)cnc1N)c1cc(F)ccc1-n1nccn1. Appending empty array\n",
      "Exception message: 'NoneType' object is not subscriptable\n"
     ]
    },
    {
     "name": "stdout",
     "output_type": "stream",
     "text": [
      "4cmt Featurization Failed\n",
      "5a3q Featurization Failed\n"
     ]
    },
    {
     "name": "stderr",
     "output_type": "stream",
     "text": [
      "Failed to featurize datapoint 0, [NH2+]=c1[nH]c(=O)c2cc(CCNc3ccc(C(=O)NC(CCC(=O)[O-])C(=O)[O-])cc3)[nH]c2[nH]1. Appending empty array\n",
      "Exception message: 'NoneType' object is not subscriptable\n"
     ]
    },
    {
     "name": "stdout",
     "output_type": "stream",
     "text": [
      "5izq Featurization Failed\n",
      "2wkt Featurization Failed\n",
      "1fwu Featurization Failed\n",
      "2xy9 Featurization Failed\n",
      "3bux Featurization Failed\n"
     ]
    },
    {
     "name": "stderr",
     "output_type": "stream",
     "text": [
      "Failed to featurize datapoint 0, C=Cc1nc2c(N)ncnc2n1C1OC(C[NH+](C)CCCCO[NH3+])C(O)C1O. Appending empty array\n",
      "Exception message: 'NoneType' object is not subscriptable\n"
     ]
    },
    {
     "name": "stdout",
     "output_type": "stream",
     "text": [
      "3dz6 Featurization Failed\n"
     ]
    },
    {
     "name": "stderr",
     "output_type": "stream",
     "text": [
      "Failed to featurize datapoint 0, Cc1ccc(Oc2nc3cc(Cl)c(-c4ccc5c(ccn5C)c4)cc3[nH]2)cc1C(=O)[O-]. Appending empty array\n",
      "Exception message: 'NoneType' object is not subscriptable\n"
     ]
    },
    {
     "name": "stdout",
     "output_type": "stream",
     "text": [
      "4cfe Featurization Failed\n"
     ]
    },
    {
     "name": "stderr",
     "output_type": "stream",
     "text": [
      "Failed to featurize datapoint 0, CC(C(=O)Nc1cc(C#N)ccc1CCCC(=O)[O-])c1ccc(Br)c2ccccc12. Appending empty array\n",
      "Exception message: 'NoneType' object is not subscriptable\n"
     ]
    },
    {
     "name": "stdout",
     "output_type": "stream",
     "text": [
      "5yhl Featurization Failed\n"
     ]
    },
    {
     "name": "stderr",
     "output_type": "stream",
     "text": [
      "Failed to featurize datapoint 0, CC(N=C1C(=O)C(=O)C1=Nc1ccncc1)c1ccccc1. Appending empty array\n",
      "Exception message: 'NoneType' object is not subscriptable\n"
     ]
    },
    {
     "name": "stdout",
     "output_type": "stream",
     "text": [
      "3fpm Featurization Failed\n",
      "4yw6 Featurization Failed\n",
      "2jg8 Featurization Failed\n"
     ]
    },
    {
     "name": "stderr",
     "output_type": "stream",
     "text": [
      "Failed to featurize datapoint 0, CC(C)C[NH+]1CCc2cc(O)ccc2C1(C)c1ccc(C=CC(=O)[O-])cc1. Appending empty array\n",
      "Exception message: 'NoneType' object is not subscriptable\n"
     ]
    },
    {
     "name": "stdout",
     "output_type": "stream",
     "text": [
      "5fqs Featurization Failed\n"
     ]
    },
    {
     "name": "stderr",
     "output_type": "stream",
     "text": [
      "Failed to featurize datapoint 0, CN1N=C(C(=O)[O-])C2C(C(=O)[O-])[NH2+]CC21. Appending empty array\n",
      "Exception message: 'NoneType' object is not subscriptable\n"
     ]
    },
    {
     "name": "stdout",
     "output_type": "stream",
     "text": [
      "5nih Featurization Failed\n"
     ]
    },
    {
     "name": "stderr",
     "output_type": "stream",
     "text": [
      "Failed to featurize datapoint 0, O=C(NCCC[NH+]1CCOCC1)c1cc(OC2OC(CO)C(O)C(O)C2O)cc([N+](=O)[O-])c1. Appending empty array\n",
      "Exception message: 'NoneType' object is not subscriptable\n"
     ]
    },
    {
     "name": "stdout",
     "output_type": "stream",
     "text": [
      "1jqy Featurization Failed\n"
     ]
    },
    {
     "name": "stderr",
     "output_type": "stream",
     "text": [
      "Failed to featurize datapoint 0, C[NH+](C)CC1C2CCC(c3ccccc3)(C2)C1O. Appending empty array\n",
      "Exception message: 'NoneType' object is not subscriptable\n"
     ]
    },
    {
     "name": "stdout",
     "output_type": "stream",
     "text": [
      "5var Featurization Failed\n"
     ]
    },
    {
     "name": "stderr",
     "output_type": "stream",
     "text": [
      "Failed to featurize datapoint 0, COC(=O)C(Cc1c[nH]cn1)NC(=O)C[NH+](CC(=O)[O-])Cc1ccccc1. Appending empty array\n",
      "Exception message: 'NoneType' object is not subscriptable\n"
     ]
    },
    {
     "name": "stdout",
     "output_type": "stream",
     "text": [
      "4dtt Featurization Failed\n"
     ]
    },
    {
     "name": "stderr",
     "output_type": "stream",
     "text": [
      "Failed to featurize datapoint 0, C[NH+](C)C1CC23CCC4(O2)C(=CCC2(C)C(c5ccc6ccncc6c5)CCC42)C=C3C(O)C1O. Appending empty array\n",
      "Exception message: 'NoneType' object is not subscriptable\n"
     ]
    },
    {
     "name": "stdout",
     "output_type": "stream",
     "text": [
      "4crl Featurization Failed\n"
     ]
    },
    {
     "name": "stderr",
     "output_type": "stream",
     "text": [
      "Failed to featurize datapoint 0, O=C([O-])c1ccc2nc(-c3ccc(Cl)cc3)n(C(C(=O)NC3CCCCC3)C3CCCCC3)c2c1. Appending empty array\n",
      "Exception message: 'NoneType' object is not subscriptable\n"
     ]
    },
    {
     "name": "stdout",
     "output_type": "stream",
     "text": [
      "3okh Featurization Failed\n",
      "4qir Featurization Failed\n",
      "5myd Featurization Failed\n"
     ]
    },
    {
     "name": "stderr",
     "output_type": "stream",
     "text": [
      "Failed to featurize datapoint 0, CCC(C)C1(NC(C)=O)CC[NH+](C(CCc2ccccc2)C(=O)NC(Cc2ccccc2)C(O)C[NH2+]Cc2cccc(OC)c2)C1O. Appending empty array\n",
      "Exception message: 'NoneType' object is not subscriptable\n"
     ]
    },
    {
     "name": "stdout",
     "output_type": "stream",
     "text": [
      "3skf Featurization Failed\n",
      "2p0x Featurization Failed\n"
     ]
    },
    {
     "name": "stderr",
     "output_type": "stream",
     "text": [
      "Failed to featurize datapoint 0, Nc1ncnc2c1ncn2C1OC(COS(=O)(=O)NC(=O)CCCCC2SCC3NC(=O)NC32)C(O)C1F. Appending empty array\n",
      "Exception message: 'NoneType' object is not subscriptable\n"
     ]
    },
    {
     "name": "stdout",
     "output_type": "stream",
     "text": [
      "4xtz Featurization Failed\n"
     ]
    },
    {
     "name": "stderr",
     "output_type": "stream",
     "text": [
      "Failed to featurize datapoint 0, CCCCC(Sc1[nH]c2ccccc2c(=O)[n+]1-c1cccc(Cl)c1)C(=O)N1CCCC2(CCC[NH2+]C2)C1. Appending empty array\n",
      "Exception message: 'NoneType' object is not subscriptable\n"
     ]
    },
    {
     "name": "stdout",
     "output_type": "stream",
     "text": [
      "3f9n Featurization Failed\n",
      "5g3n Featurization Failed\n",
      "5lp6 Featurization Failed\n",
      "2xaq Featurization Failed\n"
     ]
    },
    {
     "name": "stderr",
     "output_type": "stream",
     "text": [
      "Failed to featurize datapoint 0, CC([NH3+])C(=O)NC(CCCNC(N)=[NH2+])C(=O)NC(C(=O)NC(CCCC[N+](C)(C)C)C(=O)NC(CCC(N)=O)C(=O)NC(C(=O)NC(C)C(=O)NC(CCCNC(N)=[NH2+])C(N)=O)C(C)O)C(C)O. Appending empty array\n",
      "Exception message: 'NoneType' object is not subscriptable\n"
     ]
    },
    {
     "name": "stdout",
     "output_type": "stream",
     "text": [
      "4qq4 Featurization Failed\n"
     ]
    },
    {
     "name": "stderr",
     "output_type": "stream",
     "text": [
      "Failed to featurize datapoint 0, O=C(NCc1ccccn1)c1cc(C2CC[NH2+]CC2COc2ccc3c(c2)OCO3)ccc1F. Appending empty array\n",
      "Exception message: 'NoneType' object is not subscriptable\n"
     ]
    },
    {
     "name": "stdout",
     "output_type": "stream",
     "text": [
      "5ukk Featurization Failed\n",
      "5li3 Featurization Failed\n"
     ]
    },
    {
     "name": "stderr",
     "output_type": "stream",
     "text": [
      "Failed to featurize datapoint 0, Nc1ncnc2c1ncn2C1OC(CSC2CC[NH+](CC[NH2+]Cc3cnc4[nH]c(=[NH2+])[nH]c(=O)c4n3)CC2)C(O)C1O. Appending empty array\n",
      "Exception message: 'NoneType' object is not subscriptable\n"
     ]
    },
    {
     "name": "stdout",
     "output_type": "stream",
     "text": [
      "3ud5 Featurization Failed\n",
      "2f89 Featurization Failed\n",
      "1w25 Featurization Failed\n"
     ]
    },
    {
     "name": "stderr",
     "output_type": "stream",
     "text": [
      "Failed to featurize datapoint 0, CCCCC(C[NH2+]C(CCCC)C(=O)NC(CCC(N)=O)C(=O)NC(CCCNC(N)=[NH2+])C(N)=O)NC(=O)C(NC(=O)C(NC(C)=O)C(C)OC)C(C)CC. Appending empty array\n",
      "Exception message: 'NoneType' object is not subscriptable\n"
     ]
    },
    {
     "name": "stdout",
     "output_type": "stream",
     "text": [
      "2aoc Featurization Failed\n"
     ]
    },
    {
     "name": "stderr",
     "output_type": "stream",
     "text": [
      "Failed to featurize datapoint 0, CC(NC(=O)C(CC(N)=O)NC(=O)C1CCCN1C(=O)C(CC(=O)[O-])NC(=O)C1CCCN1C(=O)C([NH3+])CC(N)=O)C(=O)NC(CC(N)=O)C(=O)N1CCCC1C(=O)NC(CC(N)=O)C(=O)NC(C(=O)NC(CC(=O)[O-])C(=O)N1CCCC1C(=O)NC(CC(N)=O)C(=O)[O-])C(C)C. Appending empty array\n",
      "Exception message: 'NoneType' object is not subscriptable\n"
     ]
    },
    {
     "name": "stdout",
     "output_type": "stream",
     "text": [
      "6b5r Featurization Failed\n"
     ]
    },
    {
     "name": "stderr",
     "output_type": "stream",
     "text": [
      "Failed to featurize datapoint 0, CCC(C)C1NC(=O)C([NH2+]CC(O)C(Cc2ccccc2)NC(=O)OC(C)(C)C)Cc2ccc(cc2)OCCCNC1=O. Appending empty array\n",
      "Exception message: 'NoneType' object is not subscriptable\n"
     ]
    },
    {
     "name": "stdout",
     "output_type": "stream",
     "text": [
      "1b6m Featurization Failed\n"
     ]
    },
    {
     "name": "stderr",
     "output_type": "stream",
     "text": [
      "Failed to featurize datapoint 0, CC(C)(C)c1nnc(C(=O)C2CCC[NH2+]2)o1. Appending empty array\n",
      "Exception message: 'NoneType' object is not subscriptable\n"
     ]
    },
    {
     "name": "stdout",
     "output_type": "stream",
     "text": [
      "1wm1 Featurization Failed\n"
     ]
    },
    {
     "name": "stderr",
     "output_type": "stream",
     "text": [
      "Failed to featurize datapoint 0, C[NH+]1CC[NH+](Cc2ccc(C(=O)Nc3cccc(Nc4nccc(-c5cccnc5)n4)c3)cc2)CC1. Appending empty array\n",
      "Exception message: 'NoneType' object is not subscriptable\n"
     ]
    },
    {
     "name": "stdout",
     "output_type": "stream",
     "text": [
      "1y57 Featurization Failed\n",
      "4cix Featurization Failed\n",
      "5khk Featurization Failed\n"
     ]
    },
    {
     "name": "stderr",
     "output_type": "stream",
     "text": [
      "Failed to featurize datapoint 0, CCC(C)C(NC(=O)C(NC(=O)C(CO)NC(=O)C(NC(=O)C1CCCN1C(=O)C(CCCCNC(C)=O)NC(=O)C(CCCNC(N)=[NH2+])NC(=O)C(CO)NC(=O)C(CC(N)=O)NC(=O)C(C)[NH3+])C(C)O)C(C)CC)C(=O)[O-]. Appending empty array\n",
      "Exception message: 'NoneType' object is not subscriptable\n"
     ]
    },
    {
     "name": "stdout",
     "output_type": "stream",
     "text": [
      "4nmr Featurization Failed\n"
     ]
    },
    {
     "name": "stderr",
     "output_type": "stream",
     "text": [
      "Failed to featurize datapoint 0, C[NH+]1CC[NH+](CCOc2cc(OC3CCOCC3)c3c(Nc4c(Cl)ccc5c4OCO5)ncnc3c2)CC1. Appending empty array\n",
      "Exception message: 'NoneType' object is not subscriptable\n"
     ]
    },
    {
     "name": "stdout",
     "output_type": "stream",
     "text": [
      "2h8h Featurization Failed\n"
     ]
    },
    {
     "name": "stderr",
     "output_type": "stream",
     "text": [
      "Failed to featurize datapoint 0, CCOCCN(CC(O)C[NH+]1CCCC2(CC(=O)c3cc(O)ccc3O2)C1)S(=O)(=O)c1c(C)cccc1C. Appending empty array\n",
      "Exception message: 'NoneType' object is not subscriptable\n"
     ]
    },
    {
     "name": "stdout",
     "output_type": "stream",
     "text": [
      "3qkk Featurization Failed\n"
     ]
    },
    {
     "name": "stderr",
     "output_type": "stream",
     "text": [
      "Failed to featurize datapoint 0, CCCOc1cc(C(=O)[O-])c(O)c(I)c1-n1cccc1. Appending empty array\n",
      "Exception message: 'NoneType' object is not subscriptable\n"
     ]
    },
    {
     "name": "stdout",
     "output_type": "stream",
     "text": [
      "5o1d Featurization Failed\n",
      "4uzd Featurization Failed\n"
     ]
    },
    {
     "name": "stderr",
     "output_type": "stream",
     "text": [
      "Failed to featurize datapoint 0, C[NH+](CC=CCOc1ccc(C(=O)c2ccc(Br)cc2)cc1)C1CC1. Appending empty array\n",
      "Exception message: 'NoneType' object is not subscriptable\n"
     ]
    },
    {
     "name": "stdout",
     "output_type": "stream",
     "text": [
      "1h36 Featurization Failed\n"
     ]
    },
    {
     "name": "stderr",
     "output_type": "stream",
     "text": [
      "Failed to featurize datapoint 0, CC(NC(=O)C1CCCN1C(=O)C(C)NC(=O)C(C)[NH3+])B(O)O. Appending empty array\n",
      "Exception message: 'NoneType' object is not subscriptable\n"
     ]
    },
    {
     "name": "stdout",
     "output_type": "stream",
     "text": [
      "1p02 Featurization Failed\n"
     ]
    },
    {
     "name": "stderr",
     "output_type": "stream",
     "text": [
      "Failed to featurize datapoint 0, CCCC[NH+](CCC1CCCCC1)Cc1ccc(C(=O)NC(CCSC)C(=O)[O-])c(-c2ccccc2C)c1. Appending empty array\n",
      "Exception message: 'NoneType' object is not subscriptable\n"
     ]
    },
    {
     "name": "stdout",
     "output_type": "stream",
     "text": [
      "1n94 Featurization Failed\n",
      "2qry Featurization Failed\n"
     ]
    },
    {
     "name": "stderr",
     "output_type": "stream",
     "text": [
      "Failed to featurize datapoint 0, COc1cc2c(Nc3ccc(NC(=O)c4ccccc4)cc3)ncnc2cc1OCC(=O)[O-]. Appending empty array\n",
      "Exception message: 'NoneType' object is not subscriptable\n"
     ]
    },
    {
     "name": "stdout",
     "output_type": "stream",
     "text": [
      "4knx Featurization Failed\n",
      "2lha Featurization Failed\n",
      "4w9w Featurization Failed\n"
     ]
    },
    {
     "name": "stderr",
     "output_type": "stream",
     "text": [
      "Failed to featurize datapoint 0, Cc1nc2c(N)ncnc2n1C1OC(C[NH+](C)CCO[NH3+])C(O)C1O. Appending empty array\n",
      "Exception message: 'NoneType' object is not subscriptable\n"
     ]
    },
    {
     "name": "stdout",
     "output_type": "stream",
     "text": [
      "3dz5 Featurization Failed\n",
      "5brn Featurization Failed\n",
      "1fpp Featurization Failed\n"
     ]
    },
    {
     "name": "stderr",
     "output_type": "stream",
     "text": [
      "Failed to featurize datapoint 0, CC(=O)NC(CC(=O)[O-])C(=O)NC(CO)C(=O)NC(Cc1ccccc1)C(=O)NC(CC(=O)[O-])C(=O)NC(C=O)CCC(N)=O. Appending empty array\n",
      "Exception message: 'NoneType' object is not subscriptable\n"
     ]
    },
    {
     "name": "stdout",
     "output_type": "stream",
     "text": [
      "3snb Featurization Failed\n"
     ]
    },
    {
     "name": "stderr",
     "output_type": "stream",
     "text": [
      "Failed to featurize datapoint 0, NC(=[NH2+])c1ccc(NC(=O)Nc2ccc(Oc3ccccc3)cc2)cc1. Appending empty array\n",
      "Exception message: 'NoneType' object is not subscriptable\n"
     ]
    },
    {
     "name": "stdout",
     "output_type": "stream",
     "text": [
      "1bjv Featurization Failed\n"
     ]
    },
    {
     "name": "stderr",
     "output_type": "stream",
     "text": [
      "Failed to featurize datapoint 0, CC(C)CC(NC(=O)C(CC(C)C)NC(=O)C(CC(=O)[O-])NC(=O)C(CC(=O)[O-])NC(=O)C(CCCNC(N)=O)NC(=O)C(CC(C)C)NC(=O)C([NH3+])C(C)C)C(=O)NC(CCC(=O)[O-])C(=O)NC(C)C(=O)[O-]. Appending empty array\n",
      "Exception message: 'NoneType' object is not subscriptable\n"
     ]
    },
    {
     "name": "stdout",
     "output_type": "stream",
     "text": [
      "3ft2 Featurization Failed\n"
     ]
    },
    {
     "name": "stderr",
     "output_type": "stream",
     "text": [
      "Failed to featurize datapoint 0, O=S(=O)([O-])C=Cc1cc(Br)ccc1O. Appending empty array\n",
      "Exception message: 'NoneType' object is not subscriptable\n"
     ]
    },
    {
     "name": "stdout",
     "output_type": "stream",
     "text": [
      "4bcw Featurization Failed\n"
     ]
    },
    {
     "name": "stderr",
     "output_type": "stream",
     "text": [
      "Failed to featurize datapoint 0, CC(C)(C)COc1ccc2c(c1)C1(COC(=[NH2+])N1)c1cc(-c3cncnc3)ccc1O2. Appending empty array\n",
      "Exception message: 'NoneType' object is not subscriptable\n"
     ]
    },
    {
     "name": "stdout",
     "output_type": "stream",
     "text": [
      "4rce Featurization Failed\n"
     ]
    },
    {
     "name": "stderr",
     "output_type": "stream",
     "text": [
      "Failed to featurize datapoint 0, [NH3+]CCCCCC(CS)C(=O)[O-]. Appending empty array\n",
      "Exception message: 'NoneType' object is not subscriptable\n"
     ]
    },
    {
     "name": "stdout",
     "output_type": "stream",
     "text": [
      "3wab Featurization Failed\n"
     ]
    },
    {
     "name": "stderr",
     "output_type": "stream",
     "text": [
      "Failed to featurize datapoint 0, O=C([O-])c1cccc(-c2ccc3c(c2)C(=NNc2nc4ccccc4s2)CCC3)n1. Appending empty array\n",
      "Exception message: 'NoneType' object is not subscriptable\n"
     ]
    },
    {
     "name": "stdout",
     "output_type": "stream",
     "text": [
      "3zln Featurization Failed\n"
     ]
    },
    {
     "name": "stderr",
     "output_type": "stream",
     "text": [
      "Failed to featurize datapoint 0, Cc1cc2cc(c1)C(O)[NH2+]C(c1ccccc1)CC=CCOCC(C(O)C[NH2+]Cc1cccc(C(C)C)c1)NC2=O. Appending empty array\n",
      "Exception message: 'NoneType' object is not subscriptable\n"
     ]
    },
    {
     "name": "stdout",
     "output_type": "stream",
     "text": [
      "4dpi Featurization Failed\n"
     ]
    },
    {
     "name": "stderr",
     "output_type": "stream",
     "text": [
      "Failed to featurize datapoint 0, CCOC(=O)c1cc2cc(-c3cc(C(=O)NCc4ccc(C(=O)[O-])cc4)nn3C)ccc2[nH]1. Appending empty array\n",
      "Exception message: 'NoneType' object is not subscriptable\n"
     ]
    },
    {
     "name": "stdout",
     "output_type": "stream",
     "text": [
      "5bpa Featurization Failed\n",
      "4p90 Featurization Failed\n"
     ]
    },
    {
     "name": "stderr",
     "output_type": "stream",
     "text": [
      "Failed to featurize datapoint 0, CC(NC(=O)C(CCC(=O)[O-])NC(=O)C(C)NC(=O)C(NC(=O)C1CCCN1C(=O)C([NH3+])Cc1c[nH]cn1)C(C)C)C(=O)NC(CC(=O)[O-])C(=O)NC(Cc1ccc(O)cc1)C(=O)NC(Cc1ccccc1)C(=O)NC(CCC(=O)[O-])C(=O)NC(Cc1ccc(O)cc1)C(=O)[O-]. Appending empty array\n",
      "Exception message: 'NoneType' object is not subscriptable\n"
     ]
    },
    {
     "name": "stdout",
     "output_type": "stream",
     "text": [
      "4prn Featurization Failed\n",
      "3hg1 Featurization Failed\n"
     ]
    },
    {
     "name": "stderr",
     "output_type": "stream",
     "text": [
      "Failed to featurize datapoint 0, [NH3+]C(CCC(=O)NC(CSC1c2ccccc2-c2ccccc2C1O)C(=O)NCC(=O)[O-])C(=O)[O-]. Appending empty array\n",
      "Exception message: 'NoneType' object is not subscriptable\n"
     ]
    },
    {
     "name": "stdout",
     "output_type": "stream",
     "text": [
      "5fwg Featurization Failed\n"
     ]
    },
    {
     "name": "stderr",
     "output_type": "stream",
     "text": [
      "Failed to featurize datapoint 0, CS(=O)(=O)NC(CCCC[NH3+])C(=O)NCC(CC1(C(=O)NC(Cc2ccc(O)cc2)C(=O)[O-])CCCC1)C(=O)[O-]. Appending empty array\n",
      "Exception message: 'NoneType' object is not subscriptable\n"
     ]
    },
    {
     "name": "stdout",
     "output_type": "stream",
     "text": [
      "6f9t Featurization Failed\n",
      "2w3o Featurization Failed\n",
      "5lgt Featurization Failed\n",
      "4qme Featurization Failed\n"
     ]
    },
    {
     "name": "stderr",
     "output_type": "stream",
     "text": [
      "Failed to featurize datapoint 0, C=CCC(NC(=O)C(O)CC(=O)OCC)C(=O)NC(CCCNC(N)=[NH2+])C(=O)NC(Cc1c[nH]c2ccccc12)C(N)=O. Appending empty array\n",
      "Exception message: 'NoneType' object is not subscriptable\n"
     ]
    },
    {
     "name": "stdout",
     "output_type": "stream",
     "text": [
      "2nqi Featurization Failed\n"
     ]
    },
    {
     "name": "stderr",
     "output_type": "stream",
     "text": [
      "Failed to featurize datapoint 0, [NH3+]C(CC1(C(=O)[O-])CC2OCCCC2O1)C(=O)[O-]. Appending empty array\n",
      "Exception message: 'NoneType' object is not subscriptable\n"
     ]
    },
    {
     "name": "stdout",
     "output_type": "stream",
     "text": [
      "3fvg Featurization Failed\n"
     ]
    },
    {
     "name": "stderr",
     "output_type": "stream",
     "text": [
      "Failed to featurize datapoint 0, C=C1C(=CC=C(CCCCCCC)c2cccc(CCCCCC(C)(C)O)c2)CC(O)CC1O. Appending empty array\n",
      "Exception message: 'NoneType' object is not subscriptable\n"
     ]
    },
    {
     "name": "stdout",
     "output_type": "stream",
     "text": [
      "6fob Featurization Failed\n"
     ]
    },
    {
     "name": "stderr",
     "output_type": "stream",
     "text": [
      "Failed to featurize datapoint 0, [NH2+]=c1[nH]c(=O)c2c(CCc3ccccc3)c[nH]c2[nH]1. Appending empty array\n",
      "Exception message: 'NoneType' object is not subscriptable\n"
     ]
    },
    {
     "name": "stdout",
     "output_type": "stream",
     "text": [
      "3jqb Featurization Failed\n",
      "5v4b Featurization Failed\n"
     ]
    },
    {
     "name": "stderr",
     "output_type": "stream",
     "text": [
      "Failed to featurize datapoint 0, CC(=O)NC(Cc1cccnc1)C(=O)NC(CC(=O)[O-])C(=O)NC(CC(=O)NC(CCC(C)C)C(=O)NC(CC(=O)[O-])C(C)=O)CC(C)C. Appending empty array\n",
      "Exception message: 'NoneType' object is not subscriptable\n"
     ]
    },
    {
     "name": "stdout",
     "output_type": "stream",
     "text": [
      "4jj8 Featurization Failed\n",
      "5ih8 Featurization Failed\n"
     ]
    },
    {
     "name": "stderr",
     "output_type": "stream",
     "text": [
      "Failed to featurize datapoint 0, NC(=O)CCC(NC(=O)C1CCCN1C(=O)C(Cc1cnc[nH]1)NC(=O)C([NH3+])CO)C(=O)NC(Cc1ccccc1)C(=O)NC(C=O)CCC(=O)[O-]. Appending empty array\n",
      "Exception message: 'NoneType' object is not subscriptable\n"
     ]
    },
    {
     "name": "stdout",
     "output_type": "stream",
     "text": [
      "1kl3 Featurization Failed\n",
      "5g1c Featurization Failed\n",
      "4f7l Featurization Failed\n"
     ]
    },
    {
     "name": "stderr",
     "output_type": "stream",
     "text": [
      "Failed to featurize datapoint 0, CCC(C)C(NC(=O)C([NH3+])CC(=O)[O-])C(=O)NC(CC(=O)[O-])C(=O)NC(C(=O)NC(CCSC)C(=O)NCC(=O)NC(CC(C)C)C(=O)[O-])C(C)C. Appending empty array\n",
      "Exception message: 'NoneType' object is not subscriptable\n"
     ]
    },
    {
     "name": "stdout",
     "output_type": "stream",
     "text": [
      "4pxf Featurization Failed\n",
      "6emh Featurization Failed\n"
     ]
    },
    {
     "name": "stderr",
     "output_type": "stream",
     "text": [
      "Failed to featurize datapoint 0, O=C(Nc1ccc([N+](=O)[O-])cc1)N1CCSC(c2ccccc2)C1. Appending empty array\n",
      "Exception message: 'NoneType' object is not subscriptable\n"
     ]
    },
    {
     "name": "stdout",
     "output_type": "stream",
     "text": [
      "5alp Featurization Failed\n"
     ]
    },
    {
     "name": "stderr",
     "output_type": "stream",
     "text": [
      "Failed to featurize datapoint 0, CC([NH3+])C(=O)NC(CCCNC(N)=[NH2+])C(=O)NC(C(=O)NC(CCCC[NH+](C)C)C(=O)NC(CCC(N)=O)C(=O)NC(C(=O)NC(C)C(=O)NC(CCCNC(N)=[NH2+])C(=O)NC(CCCC[NH3+])C(=O)[O-])C(C)O)C(C)O. Appending empty array\n",
      "Exception message: 'NoneType' object is not subscriptable\n"
     ]
    },
    {
     "name": "stdout",
     "output_type": "stream",
     "text": [
      "3lqi Featurization Failed\n"
     ]
    },
    {
     "name": "stderr",
     "output_type": "stream",
     "text": [
      "Failed to featurize datapoint 0, COC(c1ccccc1)C1NC(=O)C(C)NC(=O)C(CC(C)CO)N(C)C(=O)C2(C(O)c3cn(C(C)(C)C4CO4)c4ccccc34)ON2C(=O)C(C(C)C=C(C)C)NC(=O)C(CC(C)C)N(C)C(=O)C(C(C)C)NC1=O. Appending empty array\n",
      "Exception message: 'NoneType' object is not subscriptable\n"
     ]
    },
    {
     "name": "stdout",
     "output_type": "stream",
     "text": [
      "5cs2 Featurization Failed\n"
     ]
    },
    {
     "name": "stderr",
     "output_type": "stream",
     "text": [
      "Failed to featurize datapoint 0, [NH3+]CCCCC([NH3+])C(=O)NC(Cc1cnc[nH]1)C(=O)NC(CCCC[NH3+])C(=O)[O-]. Appending empty array\n",
      "Exception message: 'NoneType' object is not subscriptable\n"
     ]
    },
    {
     "name": "stdout",
     "output_type": "stream",
     "text": [
      "1b3f Featurization Failed\n"
     ]
    },
    {
     "name": "stderr",
     "output_type": "stream",
     "text": [
      "Failed to featurize datapoint 0, CS(=O)(=O)NC(CCCC[NH3+])C(=O)NCC(CC1(C(=O)NC(Cc2ccc(O)cc2)C(=O)[O-])CCCC1)C(=O)[O-]. Appending empty array\n",
      "Exception message: 'NoneType' object is not subscriptable\n"
     ]
    },
    {
     "name": "stdout",
     "output_type": "stream",
     "text": [
      "6f9v Featurization Failed\n"
     ]
    },
    {
     "name": "stderr",
     "output_type": "stream",
     "text": [
      "Failed to featurize datapoint 0, CC(=O)NC1C(O)OC(CO)C(OC2OC(C)C(O)C(O)C2O)C1OC1OC(CO)C(O)C(OS(=O)(=O)[O-])C1O. Appending empty array\n",
      "Exception message: 'NoneType' object is not subscriptable\n"
     ]
    },
    {
     "name": "stdout",
     "output_type": "stream",
     "text": [
      "1fwv Featurization Failed\n"
     ]
    },
    {
     "name": "stderr",
     "output_type": "stream",
     "text": [
      "Failed to featurize datapoint 0, CCCn1c(C2CC[NH+](C)CC2)nc(-c2ccc(Cl)c(Cl)c2)c1-c1ccnc(NC2CC2)n1. Appending empty array\n",
      "Exception message: 'NoneType' object is not subscriptable\n"
     ]
    },
    {
     "name": "stdout",
     "output_type": "stream",
     "text": [
      "1pmn Featurization Failed\n"
     ]
    },
    {
     "name": "stderr",
     "output_type": "stream",
     "text": [
      "Failed to featurize datapoint 0, [NH3+]C(C(=O)[O-])C1CC=NO1. Appending empty array\n",
      "Exception message: 'NoneType' object is not subscriptable\n"
     ]
    },
    {
     "name": "stdout",
     "output_type": "stream",
     "text": [
      "3fnm Featurization Failed\n"
     ]
    },
    {
     "name": "stderr",
     "output_type": "stream",
     "text": [
      "Failed to featurize datapoint 0, CC(C)C(NC(=O)C(CO)NC(=O)C(NC(=O)C(CCC(N)=O)NC(=O)C(CCCC[NH3+])NC(=O)C(Cc1ccc(O)cc1)NC(=O)C(CC(N)=O)NC(=O)C([NH3+])CCCC[NH3+])C(C)O)C(=O)[O-]. Appending empty array\n",
      "Exception message: 'NoneType' object is not subscriptable\n"
     ]
    },
    {
     "name": "stdout",
     "output_type": "stream",
     "text": [
      "5hey Featurization Failed\n"
     ]
    },
    {
     "name": "stderr",
     "output_type": "stream",
     "text": [
      "Failed to featurize datapoint 0, CC([NH3+])C(=O)NC(CCCNC(N)=[NH2+])C(=O)NC(C(=O)NC(CCCC[NH+](C)C)C(=O)NC(CCC(N)=O)C(=O)NC(C(=O)NC(C)C(=O)NC(CCCNC(N)=[NH2+])C(=O)NC(CCCC[NH3+])C(=O)NC(CO)C(=O)NC(C(=O)[O-])C(C)O)C(C)O)C(C)O. Appending empty array\n",
      "Exception message: 'PUGREST.BadRequest: error: '\n"
     ]
    },
    {
     "name": "stdout",
     "output_type": "stream",
     "text": [
      "5tdr Featurization Failed\n"
     ]
    },
    {
     "name": "stderr",
     "output_type": "stream",
     "text": [
      "Failed to featurize datapoint 0, COc1cc(C(=O)N2CCC([NH+]3CC[NH+](C)CC3)CC2)ccc1Nc1ncc2c(n1)N(C1CCC1)c1ccccc1C(=O)N2C. Appending empty array\n",
      "Exception message: 'NoneType' object is not subscriptable\n"
     ]
    },
    {
     "name": "stdout",
     "output_type": "stream",
     "text": [
      "6ciy Featurization Failed\n",
      "4xsx Featurization Failed\n"
     ]
    },
    {
     "name": "stderr",
     "output_type": "stream",
     "text": [
      "Failed to featurize datapoint 0, COc1ccc(C2(c3cccc(-c4cncnc4)c3)CCC(=[NH2+])N2)cc1. Appending empty array\n",
      "Exception message: 'NoneType' object is not subscriptable\n"
     ]
    },
    {
     "name": "stdout",
     "output_type": "stream",
     "text": [
      "4b77 Featurization Failed\n"
     ]
    },
    {
     "name": "stderr",
     "output_type": "stream",
     "text": [
      "Failed to featurize datapoint 0, None. Appending empty array\n",
      "Exception message: Python argument types in\n",
      "    rdkit.Chem.rdmolfiles.MolToSmiles(NoneType)\n",
      "did not match C++ signature:\n",
      "    MolToSmiles(class RDKit::ROMol mol, bool isomericSmiles=False, bool kekuleSmiles=False, int rootedAtAtom=-1, bool canonical=True, bool allBondsExplicit=False, bool allHsExplicit=False)\n"
     ]
    },
    {
     "name": "stdout",
     "output_type": "stream",
     "text": [
      "4jfv Featurization Failed\n",
      "1tpz Featurization Failed\n"
     ]
    },
    {
     "name": "stderr",
     "output_type": "stream",
     "text": [
      "Failed to featurize datapoint 0, CCC([NH3+])C(=O)NC(C(=O)NC(Cc1ccccc1)C(=O)NC(CO)C(=O)NC(CC(=O)[O-])C(=O)NC(CC(C)C)C(=O)NC(Cc1c[nH]c2ccccc12)C(=O)NC(CCCC[NH3+])C(=O)NC(CC(C)C)C(=O)NC(CC(C)C)C(=O)N1CCCC1C(=O)O)C(C)O. Appending empty array\n",
      "Exception message: 'NoneType' object is not subscriptable\n"
     ]
    },
    {
     "name": "stdout",
     "output_type": "stream",
     "text": [
      "2z5s Featurization Failed\n"
     ]
    },
    {
     "name": "stderr",
     "output_type": "stream",
     "text": [
      "Failed to featurize datapoint 0, CCC(=O)Nc1ccccc1Nc1nc(Nc2ccc(N3CC[NH+](C)CC3)cc2)ncc1Cl. Appending empty array\n",
      "Exception message: 'NoneType' object is not subscriptable\n"
     ]
    },
    {
     "name": "stdout",
     "output_type": "stream",
     "text": [
      "5j7s Featurization Failed\n",
      "5jiy Featurization Failed\n"
     ]
    },
    {
     "name": "stderr",
     "output_type": "stream",
     "text": [
      "Failed to featurize datapoint 0, CC(C)CC(NC(=O)C(CO)NC(=O)C(CC(=O)[O-])NC(=O)C(CC(C)C)NC(=O)C(CC(C)C)NC(=O)C(CC(=O)[O-])NC(=O)C(CC(=O)[O-])NC(=O)C(NC(=O)C(CCC(N)=O)NC(=O)C(CC(=O)[O-])NC(=O)C(CCC(N)=O)NC(=O)C(CO)NC(=O)C(C)NC(=O)C(NC(=O)C(NC(=O)CNC(=O)C(C)[NH3+])C(C)C)C(C)C)C(C)C)C(=O)NCC(=O)NC(Cc1ccccc1)C(=O)[O-]. Appending empty array\n",
      "Exception message: 'NoneType' object is not subscriptable\n"
     ]
    },
    {
     "name": "stdout",
     "output_type": "stream",
     "text": [
      "2pl9 Featurization Failed\n"
     ]
    },
    {
     "name": "stderr",
     "output_type": "stream",
     "text": [
      "Failed to featurize datapoint 0, COc1ccc(S(=O)(=O)Nc2cccc(C(=O)[O-])c2F)c2ccccc12. Appending empty array\n",
      "Exception message: 'NoneType' object is not subscriptable\n"
     ]
    },
    {
     "name": "stdout",
     "output_type": "stream",
     "text": [
      "5y0x Featurization Failed\n",
      "4iu0 Featurization Failed\n"
     ]
    },
    {
     "name": "stderr",
     "output_type": "stream",
     "text": [
      "Failed to featurize datapoint 0, CSCCC([NH3+])C(O)(O)c1ccccn1. Appending empty array\n",
      "Exception message: 'NoneType' object is not subscriptable\n"
     ]
    },
    {
     "name": "stdout",
     "output_type": "stream",
     "text": [
      "1qxy Featurization Failed\n"
     ]
    },
    {
     "name": "stderr",
     "output_type": "stream",
     "text": [
      "Failed to featurize datapoint 0, [NH3+]C1CCCN(c2ccncc2Nc2ncc3ccc(-c4c(F)cccc4F)nn23)C1. Appending empty array\n",
      "Exception message: 'NoneType' object is not subscriptable\n"
     ]
    },
    {
     "name": "stdout",
     "output_type": "stream",
     "text": [
      "5kzi Featurization Failed\n",
      "1j4p Featurization Failed\n"
     ]
    },
    {
     "name": "stderr",
     "output_type": "stream",
     "text": [
      "Failed to featurize datapoint 0, CCCCC(NC(=O)C(NC(=O)CNC(C)=O)C(C)C)C(=O)NC(CCCNC(N)=[NH2+])C(=O)NC(C(N)=O)C(C)CC. Appending empty array\n",
      "Exception message: 'NoneType' object is not subscriptable\n"
     ]
    },
    {
     "name": "stdout",
     "output_type": "stream",
     "text": [
      "6cen Featurization Failed\n"
     ]
    },
    {
     "name": "stderr",
     "output_type": "stream",
     "text": [
      "Failed to featurize datapoint 0, C[NH2+]CCCCC(NC(=O)C(NC(=O)C(CCCNC(N)=[NH2+])NC(=O)C(C)[NH3+])C(C)O)C(=O)NC(CCC(N)=O)C(=O)NC(C(=O)O)C(C)O. Appending empty array\n",
      "Exception message: 'NoneType' object is not subscriptable\n"
     ]
    },
    {
     "name": "stdout",
     "output_type": "stream",
     "text": [
      "2b2v Featurization Failed\n"
     ]
    },
    {
     "name": "stderr",
     "output_type": "stream",
     "text": [
      "Failed to featurize datapoint 0, CC(C)C1(C)CC(=O)N(Cc2cccc(N3CC(c4ccccc4)CC3=O)c2)C(=[NH2+])N1. Appending empty array\n",
      "Exception message: 'NoneType' object is not subscriptable\n"
     ]
    },
    {
     "name": "stdout",
     "output_type": "stream",
     "text": [
      "4xx4 Featurization Failed\n"
     ]
    },
    {
     "name": "stderr",
     "output_type": "stream",
     "text": [
      "Failed to featurize datapoint 0, CNC(NC)=[NH+]CCCC(NC(=O)CNC(=O)C(C)[NH3+])C(=O)NCC(=O)NC(CC(C)C)C(=O)NC(C(=O)NC(Cc1ccccc1)C(=O)NC(CCCNC(N)=[NH2+])C(=O)[O-])C(C)C. Appending empty array\n",
      "Exception message: 'NoneType' object is not subscriptable\n"
     ]
    },
    {
     "name": "stdout",
     "output_type": "stream",
     "text": [
      "4b9w Featurization Failed\n",
      "4anu Featurization Failed\n"
     ]
    },
    {
     "name": "stderr",
     "output_type": "stream",
     "text": [
      "Failed to featurize datapoint 0, CC(C)CC(NC(=O)C(CO)NC(=O)C1CCCN1C(=O)C(CC(C)C)NC(=O)C(CCCC[NH3+])NC(=O)C1CCCN1C(=O)C(CC(C)C)NC(=O)C(NC(=O)C1CCCN1C(=O)C(C)[NH3+])C(C)O)C(=O)NC(CO)C(=O)[O-]. Appending empty array\n",
      "Exception message: 'NoneType' object is not subscriptable\n"
     ]
    },
    {
     "name": "stdout",
     "output_type": "stream",
     "text": [
      "3v2o Featurization Failed\n",
      "2xlc Featurization Failed\n",
      "1o49 Featurization Failed\n"
     ]
    },
    {
     "name": "stderr",
     "output_type": "stream",
     "text": [
      "Failed to featurize datapoint 0, O=CC1CCC[NH2+]1. Appending empty array\n",
      "Exception message: 'NoneType' object is not subscriptable\n"
     ]
    },
    {
     "name": "stdout",
     "output_type": "stream",
     "text": [
      "1o6i Featurization Failed\n"
     ]
    },
    {
     "name": "stderr",
     "output_type": "stream",
     "text": [
      "Failed to featurize datapoint 0, NC(=[NH2+])NCCCNC(=O)C1CCCCN1C(=O)C(CC1CCCCC1)[NH2+]CC(=O)[O-]. Appending empty array\n",
      "Exception message: 'NoneType' object is not subscriptable\n"
     ]
    },
    {
     "name": "stdout",
     "output_type": "stream",
     "text": [
      "1k1o Featurization Failed\n"
     ]
    },
    {
     "name": "stderr",
     "output_type": "stream",
     "text": [
      "Failed to featurize datapoint 0, CC[NH2+]C1CN(CCOC)S(=O)(=O)c2sc(S(N)(=O)=O)cc21. Appending empty array\n",
      "Exception message: 'NoneType' object is not subscriptable\n"
     ]
    },
    {
     "name": "stdout",
     "output_type": "stream",
     "text": [
      "1bnq Featurization Failed\n",
      "1o41 Featurization Failed\n"
     ]
    },
    {
     "name": "stderr",
     "output_type": "stream",
     "text": [
      "Failed to featurize datapoint 0, [NH2+]=C1NC(=O)C(=C2CCNC(=O)c3[nH]ccc32)N1. Appending empty array\n",
      "Exception message: 'NoneType' object is not subscriptable\n"
     ]
    },
    {
     "name": "stdout",
     "output_type": "stream",
     "text": [
      "2cn8 Featurization Failed\n"
     ]
    },
    {
     "name": "stderr",
     "output_type": "stream",
     "text": [
      "Failed to featurize datapoint 0, CCC(C)C(NC(=O)C(Cc1ccc(O)cc1)NC(=O)C(CC(=O)[O-])NC(=O)C(CCC(=O)[O-])NC(=O)C(CO)NC(=O)C(CO)NC(=O)C(C)NC(=O)C(CO)NC(=O)CNC(=O)C(CCSC)NC(=O)C(C)NC(=O)C[NH3+])C(=O)NC(C(=O)NC(C(=O)NC(CC(C)C)C(=O)N1CCCC1C(=O)NC(CCC(=O)[O-])C(=O)NC(CO)C(=O)[O-])C(C)CC)C(C)CC. Appending empty array\n",
      "Exception message: 'NoneType' object is not subscriptable\n"
     ]
    },
    {
     "name": "stdout",
     "output_type": "stream",
     "text": [
      "2l8j Featurization Failed\n",
      "3ggc Featurization Failed\n"
     ]
    },
    {
     "name": "stderr",
     "output_type": "stream",
     "text": [
      "Failed to featurize datapoint 0, CC(C)(C)OC(=O)NC(CC[NH2+]C(Cc1ccccc1)C(=O)NC(CCC(=O)[O-])C(=O)NC(Cc1ccccc1)C(N)=O)Cc1ccccc1. Appending empty array\n",
      "Exception message: 'NoneType' object is not subscriptable\n"
     ]
    },
    {
     "name": "stdout",
     "output_type": "stream",
     "text": [
      "1m0b Featurization Failed\n"
     ]
    },
    {
     "name": "stderr",
     "output_type": "stream",
     "text": [
      "Failed to featurize datapoint 0, CC(C)CCC(=O)NC(Cc1ccc(NC(=O)CCc2ccc(Cl)cc2)cc1)C(=O)N1CCC(C)CC1. Appending empty array\n",
      "Exception message: 'NoneType' object is not subscriptable\n"
     ]
    },
    {
     "name": "stdout",
     "output_type": "stream",
     "text": [
      "5vb5 Featurization Failed\n"
     ]
    },
    {
     "name": "stderr",
     "output_type": "stream",
     "text": [
      "Failed to featurize datapoint 0, Cc1cc(Cl)c(OCCOc2ccc(C3CC[NH2+]CC3C(=O)N(Cc3cc(C[NH2+]C4CC4)ccc3Cl)C3CC3)cn2)c(Cl)c1. Appending empty array\n",
      "Exception message: 'NoneType' object is not subscriptable\n"
     ]
    },
    {
     "name": "stdout",
     "output_type": "stream",
     "text": [
      "3oag Featurization Failed\n",
      "5urm Featurization Failed\n",
      "2g96 Featurization Failed\n",
      "2gvz Featurization Failed\n"
     ]
    },
    {
     "name": "stderr",
     "output_type": "stream",
     "text": [
      "Failed to featurize datapoint 0, CC(C)CC1NC(=O)C(Cc2ccc(O)cc2)NC(=O)C(C)NC(=O)C(CO)NC(=O)C(Cc2ccc(O)cc2)NC(=O)C(C)NC(=O)C2CCCN2C(=O)C([NH3+])CSSCC(C(=O)[O-])NC(=O)C(C)NC1=O. Appending empty array\n",
      "Exception message: 'NoneType' object is not subscriptable\n"
     ]
    },
    {
     "name": "stdout",
     "output_type": "stream",
     "text": [
      "4x1s Featurization Failed\n",
      "5w7u Featurization Failed\n"
     ]
    },
    {
     "name": "stderr",
     "output_type": "stream",
     "text": [
      "Failed to featurize datapoint 0, COc1c(Br)cc(Br)cc1C[NH2+]CCCN=C1CC(=O)c2ccccc2N1. Appending empty array\n",
      "Exception message: 'NoneType' object is not subscriptable\n"
     ]
    },
    {
     "name": "stdout",
     "output_type": "stream",
     "text": [
      "4ega Featurization Failed\n"
     ]
    },
    {
     "name": "stderr",
     "output_type": "stream",
     "text": [
      "Failed to featurize datapoint 0, CCC(C)C(NC(=O)C(CC(C)C)NC(=O)C(CCCNC(N)=[NH2+])NC(=O)C([NH3+])CC(N)=O)C(=O)NC(CC(C)C)C(=O)[O-]. Appending empty array\n",
      "Exception message: 'NoneType' object is not subscriptable\n"
     ]
    },
    {
     "name": "stdout",
     "output_type": "stream",
     "text": [
      "4ezy Featurization Failed\n",
      "4lng Featurization Failed\n",
      "5ybi Featurization Failed\n"
     ]
    },
    {
     "name": "stderr",
     "output_type": "stream",
     "text": [
      "Failed to featurize datapoint 0, COc1cc(-c2cn(C)c(=O)c3cnccc23)cc(OC)c1C[NH+](C)C. Appending empty array\n",
      "Exception message: 'NoneType' object is not subscriptable\n"
     ]
    },
    {
     "name": "stdout",
     "output_type": "stream",
     "text": [
      "5eu1 Featurization Failed\n"
     ]
    },
    {
     "name": "stderr",
     "output_type": "stream",
     "text": [
      "Failed to featurize datapoint 0, CC(=O)NC(C(=O)NC(CCCNC(N)=[NH2+])C(=O)NC(CO)C(=O)NC(CCCC[NH3+])C(=O)NC(Cc1ccc(O)cc1)C(=O)NC(Cc1ccccc1)C(=O)NC(CCCC[NH3+])C(=O)[O-])C(C)C. Appending empty array\n",
      "Exception message: 'NoneType' object is not subscriptable\n"
     ]
    },
    {
     "name": "stdout",
     "output_type": "stream",
     "text": [
      "4fmn Featurization Failed\n"
     ]
    },
    {
     "name": "stderr",
     "output_type": "stream",
     "text": [
      "Failed to featurize datapoint 0, CCCCCCCC(=O)NC(COC1OC(CO)C(O)C(O)C1O)C(O)C(O)CCCCCCCCCCCCc1ccccc1. Appending empty array\n",
      "Exception message: 'NoneType' object is not subscriptable\n"
     ]
    },
    {
     "name": "stdout",
     "output_type": "stream",
     "text": [
      "5tw5 Featurization Failed\n"
     ]
    },
    {
     "name": "stderr",
     "output_type": "stream",
     "text": [
      "Failed to featurize datapoint 0, C[NH2+]C(CSSCC(NC(=O)CCC([NH3+])C(=O)[O-])C(=O)NCC(=O)[O-])C(=O)NCC(=O)[O-]. Appending empty array\n",
      "Exception message: 'NoneType' object is not subscriptable\n"
     ]
    },
    {
     "name": "stdout",
     "output_type": "stream",
     "text": [
      "4c0r Featurization Failed\n",
      "6fav Featurization Failed\n"
     ]
    },
    {
     "name": "stderr",
     "output_type": "stream",
     "text": [
      "Failed to featurize datapoint 0, C[NH+]1CCC[NH+](Cc2ccc(-c3ccc(C[NH+]4CCC[NH+](C)CC4)cc3C#N)cc2)CC1. Appending empty array\n",
      "Exception message: 'NoneType' object is not subscriptable\n"
     ]
    },
    {
     "name": "stdout",
     "output_type": "stream",
     "text": [
      "5eqy Featurization Failed\n"
     ]
    },
    {
     "name": "stderr",
     "output_type": "stream",
     "text": [
      "Failed to featurize datapoint 0, Cc1ccc2sc(COC3=CC(O)(C(=O)[O-])CC(O)C3O)cc2c1. Appending empty array\n",
      "Exception message: 'NoneType' object is not subscriptable\n"
     ]
    },
    {
     "name": "stdout",
     "output_type": "stream",
     "text": [
      "2wks Featurization Failed\n",
      "2pgl Featurization Failed\n"
     ]
    },
    {
     "name": "stderr",
     "output_type": "stream",
     "text": [
      "Failed to featurize datapoint 0, CS(=O)(=O)Nc1ccc(-c2cccc(C(=O)[O-])c2)cc1. Appending empty array\n",
      "Exception message: 'NoneType' object is not subscriptable\n"
     ]
    },
    {
     "name": "stdout",
     "output_type": "stream",
     "text": [
      "5qam Featurization Failed\n"
     ]
    },
    {
     "name": "stderr",
     "output_type": "stream",
     "text": [
      "Failed to featurize datapoint 0, O=C([O-])c1ncsc1NS(=O)(=O)c1cccnc1. Appending empty array\n",
      "Exception message: 'NoneType' object is not subscriptable\n"
     ]
    },
    {
     "name": "stdout",
     "output_type": "stream",
     "text": [
      "6hf5 Featurization Failed\n"
     ]
    },
    {
     "name": "stderr",
     "output_type": "stream",
     "text": [
      "Failed to featurize datapoint 0, O=C(Cc1cccc(OCCCC2CC[NH2+]CC2)c1)Nc1nc(-c2c[nH]c3ncccc23)cs1. Appending empty array\n",
      "Exception message: 'NoneType' object is not subscriptable\n"
     ]
    },
    {
     "name": "stdout",
     "output_type": "stream",
     "text": [
      "5uzk Featurization Failed\n"
     ]
    },
    {
     "name": "stderr",
     "output_type": "stream",
     "text": [
      "Failed to featurize datapoint 0, NC(=O)CNC(=O)C(Cc1c[nH]c2ccccc12)NC(=O)c1ccc(OC2OC(CO)C(O)C(O)C2O)cc1. Appending empty array\n",
      "Exception message: 'NoneType' object is not subscriptable\n"
     ]
    },
    {
     "name": "stdout",
     "output_type": "stream",
     "text": [
      "4lke Featurization Failed\n"
     ]
    },
    {
     "name": "stderr",
     "output_type": "stream",
     "text": [
      "Failed to featurize datapoint 0, COc1cc(C(=O)N2CC(n3cc(C4CC4)nn3)CC2C(=O)NC2CCCCC2c2ccccc2)ccc1C[NH3+]. Appending empty array\n",
      "Exception message: 'NoneType' object is not subscriptable\n"
     ]
    },
    {
     "name": "stdout",
     "output_type": "stream",
     "text": [
      "5lh8 Featurization Failed\n"
     ]
    },
    {
     "name": "stderr",
     "output_type": "stream",
     "text": [
      "Failed to featurize datapoint 0, NC(=[NH2+])c1ccc(C2C3C(=O)N(Cc4ccc5c(c4)OCO5)CC3C3CCC[NH+]32)cc1. Appending empty array\n",
      "Exception message: 'NoneType' object is not subscriptable\n"
     ]
    },
    {
     "name": "stdout",
     "output_type": "stream",
     "text": [
      "1yp9 Featurization Failed\n",
      "4yo6 Featurization Failed\n"
     ]
    },
    {
     "name": "stderr",
     "output_type": "stream",
     "text": [
      "Failed to featurize datapoint 0, CC(C)CC(NC(=O)C(CC(=O)[O-])NC(=O)C(CO)NC(=O)C(Cc1ccccc1)NC(=O)C(NC(=O)C(CCC(=O)[O-])NC(=O)C(CCC(N)=O)NC(=O)C([NH3+])CO)C(C)O)C(=O)NC(Cc1c[nH]c2ccccc12)C(=O)NC(CCCC[NH3+])C(=O)NC(CC(C)C)C(=O)NC(CC(C)C)C(=O)N1CCCC1C(=O)NC(CCC(=O)[O-])C(=O)NC(CC(N)=O)C(=O)[O-]. Appending empty array\n",
      "Exception message: 'NoneType' object is not subscriptable\n"
     ]
    },
    {
     "name": "stdout",
     "output_type": "stream",
     "text": [
      "2mwy Featurization Failed\n"
     ]
    },
    {
     "name": "stderr",
     "output_type": "stream",
     "text": [
      "Failed to featurize datapoint 0, CC(C)CC(NC(=O)C(Cc1ccccc1)NC(=O)C(CO)NC(=O)C(CO)NC(=O)C(NC(=O)C(CCC(N)=O)NC(=O)C(C)NC(=O)C(Cc1ccccc1)NC(=O)C([NH3+])CCC(=O)[O-])C(C)O)C(=O)NC(C(=O)[O-])C(C)C. Appending empty array\n",
      "Exception message: 'NoneType' object is not subscriptable\n"
     ]
    },
    {
     "name": "stdout",
     "output_type": "stream",
     "text": [
      "3tsz Featurization Failed\n"
     ]
    },
    {
     "name": "stderr",
     "output_type": "stream",
     "text": [
      "Failed to featurize datapoint 0, CC([NH3+])C(=O)NC(C)C(=O)NC(C)C(=O)NC(C)C(=O)NC(C)C(=O)NC(C)C(=O)NC(C)C(=O)O. Appending empty array\n",
      "Exception message: 'NoneType' object is not subscriptable\n"
     ]
    },
    {
     "name": "stdout",
     "output_type": "stream",
     "text": [
      "2jbu Featurization Failed\n",
      "5wbk Featurization Failed\n"
     ]
    },
    {
     "name": "stderr",
     "output_type": "stream",
     "text": [
      "Failed to featurize datapoint 0, Cc1cc2c(cc1O)CC[NH+](CC(C)C)C2c1ccc(C=CC(=O)[O-])cc1. Appending empty array\n",
      "Exception message: 'NoneType' object is not subscriptable\n"
     ]
    },
    {
     "name": "stdout",
     "output_type": "stream",
     "text": [
      "5fqv Featurization Failed\n"
     ]
    },
    {
     "name": "stderr",
     "output_type": "stream",
     "text": [
      "Failed to featurize datapoint 0, CC(C)CC(NC(=O)C(NC(=O)C([NH3+])CO)C(C)C)C(=O)NCC(=O)NC(CCCC[NH3+])C(=O)NC(CCCNC(N)=[NH2+])C(=O)NC(CCCC[NH3+])C(=O)NC(CCCNC(N)=[NH2+])C(=O)NC(Cc1cnc[nH]1)C(=O)[O-]. Appending empty array\n",
      "Exception message: 'NoneType' object is not subscriptable\n"
     ]
    },
    {
     "name": "stdout",
     "output_type": "stream",
     "text": [
      "2yns Featurization Failed\n"
     ]
    },
    {
     "name": "stderr",
     "output_type": "stream",
     "text": [
      "Failed to featurize datapoint 0, O=C([O-])c1ccc(CCCNS(=O)(=O)c2ccsc2C(=O)[O-])cc1. Appending empty array\n",
      "Exception message: 'NoneType' object is not subscriptable\n"
     ]
    },
    {
     "name": "stdout",
     "output_type": "stream",
     "text": [
      "4jxw Featurization Failed\n",
      "1kf0 Featurization Failed\n"
     ]
    },
    {
     "name": "stderr",
     "output_type": "stream",
     "text": [
      "Failed to featurize datapoint 0, O=C1NCNc2cc(C3C[NH2+]CC3C(=O)c3ccc(C(F)(F)F)cc3)ccc21. Appending empty array\n",
      "Exception message: 'NoneType' object is not subscriptable\n"
     ]
    },
    {
     "name": "stdout",
     "output_type": "stream",
     "text": [
      "4uj9 Featurization Failed\n"
     ]
    },
    {
     "name": "stderr",
     "output_type": "stream",
     "text": [
      "Failed to featurize datapoint 0, O=C([O-])Cc1cn2c(n1)C(O)C(O)C(O)C2CO. Appending empty array\n",
      "Exception message: 'NoneType' object is not subscriptable\n"
     ]
    },
    {
     "name": "stdout",
     "output_type": "stream",
     "text": [
      "2j7g Featurization Failed\n"
     ]
    },
    {
     "name": "stderr",
     "output_type": "stream",
     "text": [
      "Failed to featurize datapoint 0, CC(C)C(NC(=O)C(CCCNC(N)=[NH2+])NC(=O)C(CO)NC(=O)C1CCC[NH2+]1)C(=O)[O-]. Appending empty array\n",
      "Exception message: 'NoneType' object is not subscriptable\n"
     ]
    },
    {
     "name": "stdout",
     "output_type": "stream",
     "text": [
      "6cd8 Featurization Failed\n"
     ]
    },
    {
     "name": "stderr",
     "output_type": "stream",
     "text": [
      "Failed to featurize datapoint 0, O=C1Nc2ccccc2C12CC[NH2+]C2. Appending empty array\n",
      "Exception message: 'NoneType' object is not subscriptable\n"
     ]
    },
    {
     "name": "stdout",
     "output_type": "stream",
     "text": [
      "3udh Featurization Failed\n"
     ]
    },
    {
     "name": "stderr",
     "output_type": "stream",
     "text": [
      "Failed to featurize datapoint 0, O=C([O-])C1C2CCC(CC2)C1Nc1nc(-c2c[nH]c3ncc(F)cc23)ncc1F. Appending empty array\n",
      "Exception message: 'NoneType' object is not subscriptable\n"
     ]
    },
    {
     "name": "stdout",
     "output_type": "stream",
     "text": [
      "6euv Featurization Failed\n",
      "5fxr Featurization Failed\n"
     ]
    },
    {
     "name": "stderr",
     "output_type": "stream",
     "text": [
      "Failed to featurize datapoint 0, Oc1ccc(C(O)C[NH2+]Cc2ccc3ccccc3c2)cc1O. Appending empty array\n",
      "Exception message: 'NoneType' object is not subscriptable\n"
     ]
    },
    {
     "name": "stdout",
     "output_type": "stream",
     "text": [
      "5yto Featurization Failed\n"
     ]
    },
    {
     "name": "stderr",
     "output_type": "stream",
     "text": [
      "Failed to featurize datapoint 0, [NH3+]Cc1nc(-c2nc(-c3nc(-c4nc(C(=O)[O-])cs4)ccc3-c3nc(C(=O)[O-])cs3)cs2)cs1. Appending empty array\n",
      "Exception message: 'NoneType' object is not subscriptable\n"
     ]
    },
    {
     "name": "stdout",
     "output_type": "stream",
     "text": [
      "5w99 Featurization Failed\n"
     ]
    },
    {
     "name": "stderr",
     "output_type": "stream",
     "text": [
      "Failed to featurize datapoint 0, CC(=O)NC1C(O)CC(OC2C(O)C(CO)OC(OC3C(CO)OC(O)C(O)C3O)C2O)(C(=O)[O-])OC1C(O)C(O)CO. Appending empty array\n",
      "Exception message: 'NoneType' object is not subscriptable\n"
     ]
    },
    {
     "name": "stdout",
     "output_type": "stream",
     "text": [
      "2w68 Featurization Failed\n"
     ]
    },
    {
     "name": "stderr",
     "output_type": "stream",
     "text": [
      "Failed to featurize datapoint 0, CC(C)[NH+]1CCC(C(=O)Nc2c(OCCCOC3OC(CO)C(O)C(O)C3O)cccc2OCc2cc(-c3ccc(Cl)s3)on2)CC1. Appending empty array\n",
      "Exception message: 'NoneType' object is not subscriptable\n"
     ]
    },
    {
     "name": "stdout",
     "output_type": "stream",
     "text": [
      "6eo8 Featurization Failed\n",
      "3wke Featurization Failed\n"
     ]
    },
    {
     "name": "stderr",
     "output_type": "stream",
     "text": [
      "Failed to featurize datapoint 0, CC(C)(C)c1cccc(C[NH2+]C2C[S+](O)CC(Cc3cc(F)c(N)c(OC(C(F)(F)F)C(F)(F)F)c3)C2O)c1. Appending empty array\n",
      "Exception message: 'NoneType' object is not subscriptable\n"
     ]
    },
    {
     "name": "stdout",
     "output_type": "stream",
     "text": [
      "4lxm Featurization Failed\n",
      "4ybs Featurization Failed\n"
     ]
    },
    {
     "name": "stderr",
     "output_type": "stream",
     "text": [
      "Failed to featurize datapoint 0, [NH3+]C(CCC(=O)[O-])C(=O)NC(Cc1c[nH]c2ccccc12)C(=O)NC(CCC(=O)[O-])C(=O)[O-]. Appending empty array\n",
      "Exception message: 'NoneType' object is not subscriptable\n"
     ]
    },
    {
     "name": "stdout",
     "output_type": "stream",
     "text": [
      "3rse Featurization Failed\n"
     ]
    },
    {
     "name": "stderr",
     "output_type": "stream",
     "text": [
      "Failed to featurize datapoint 0, CC1(C)Cc2cc(Cl)ccc2C(NC(Cc2cscc2-c2cn[nH]c2)C(=O)[O-])=N1. Appending empty array\n",
      "Exception message: 'NoneType' object is not subscriptable\n"
     ]
    },
    {
     "name": "stdout",
     "output_type": "stream",
     "text": [
      "4i0f Featurization Failed\n"
     ]
    },
    {
     "name": "stderr",
     "output_type": "stream",
     "text": [
      "Failed to featurize datapoint 0, CC(C)C(NC(=O)C(CO)NC(=O)C(Cc1ccccc1)NC(=O)C(CCC(N)=O)NC(=O)C(CCCC[NH3+])[NH2+]C(O)C(Cc1ccc(O)cc1)NC(=O)C([NH3+])CC(N)=O)C(=O)[O-]. Appending empty array\n",
      "Exception message: 'NoneType' object is not subscriptable\n"
     ]
    },
    {
     "name": "stdout",
     "output_type": "stream",
     "text": [
      "5hfc Featurization Failed\n",
      "4zh4 Featurization Failed\n",
      "1tl7 Featurization Failed\n"
     ]
    },
    {
     "name": "stderr",
     "output_type": "stream",
     "text": [
      "Failed to featurize datapoint 0, CCC(C(=O)N1CCCCC1C(=O)OC(CCc1ccc(OC)c(OC)c1)c1cccc(OCC(=O)[O-])c1)c1cc(OC)c(OC)c(OC)c1. Appending empty array\n",
      "Exception message: 'NoneType' object is not subscriptable\n"
     ]
    },
    {
     "name": "stdout",
     "output_type": "stream",
     "text": [
      "1bl4 Featurization Failed\n"
     ]
    },
    {
     "name": "stderr",
     "output_type": "stream",
     "text": [
      "Failed to featurize datapoint 0, CCCCCC=CCC=CCCCCCC(O)CCCC(=O)[O-]. Appending empty array\n",
      "Exception message: 'NoneType' object is not subscriptable\n"
     ]
    },
    {
     "name": "stdout",
     "output_type": "stream",
     "text": [
      "3dzt Featurization Failed\n",
      "1o45 Featurization Failed\n",
      "5ll5 Featurization Failed\n"
     ]
    },
    {
     "name": "stderr",
     "output_type": "stream",
     "text": [
      "Failed to featurize datapoint 0, CCOCCN(CC(O)C[NH+]1CCCC2(CCc3c(ccc4[nH]ncc34)O2)C1)S(=O)(=O)c1c(C)cccc1C. Appending empty array\n",
      "Exception message: 'NoneType' object is not subscriptable\n"
     ]
    },
    {
     "name": "stdout",
     "output_type": "stream",
     "text": [
      "3qkl Featurization Failed\n",
      "2jql Featurization Failed\n",
      "1xxh Featurization Failed\n"
     ]
    },
    {
     "name": "stderr",
     "output_type": "stream",
     "text": [
      "Failed to featurize datapoint 0, CCCC(NC(=O)CNC(=O)CNC(=O)C(NC(=O)C(CO)NC(=O)C(CCCC[N+](C)(C)C)NC(=O)C(CCC)NC(=O)C(C)NC(=O)C(NC(=O)C(CCC(N)=O)NC(=O)C(C)[NH3+])C(C)O)C(C)O)C(=O)NC(C)C(=O)[O-]. Appending empty array\n",
      "Exception message: 'NoneType' object is not subscriptable\n"
     ]
    },
    {
     "name": "stdout",
     "output_type": "stream",
     "text": [
      "3r93 Featurization Failed\n"
     ]
    },
    {
     "name": "stderr",
     "output_type": "stream",
     "text": [
      "Failed to featurize datapoint 0, Nc1ncnc2c1ncn2C1OC(C(O)NS(=O)(=O)CC2CC(n3ccc(=O)[nH]c3=O)OC2CO)C(O)C1O. Appending empty array\n",
      "Exception message: 'NoneType' object is not subscriptable\n"
     ]
    },
    {
     "name": "stdout",
     "output_type": "stream",
     "text": [
      "2xoi Featurization Failed\n"
     ]
    },
    {
     "name": "stderr",
     "output_type": "stream",
     "text": [
      "Failed to featurize datapoint 0, CSCC(NC(=O)COc1cccc2cnccc12)C(=O)NC(Cc1ccccc1)C(O)C(=O)N1CSC(C)(C)C1C(=O)NC1c2ccccc2CC1O. Appending empty array\n",
      "Exception message: 'NoneType' object is not subscriptable\n"
     ]
    },
    {
     "name": "stdout",
     "output_type": "stream",
     "text": [
      "2pk6 Featurization Failed\n"
     ]
    },
    {
     "name": "stderr",
     "output_type": "stream",
     "text": [
      "Failed to featurize datapoint 0, [NH3+]C(CC(=O)[O-])C(=O)NC(Cc1c[nH]c2ccccc12)C(=O)NC(CCC(=O)[O-])C(=O)NC(Cc1ccccc1)C(=O)[O-]. Appending empty array\n",
      "Exception message: 'NoneType' object is not subscriptable\n"
     ]
    },
    {
     "name": "stdout",
     "output_type": "stream",
     "text": [
      "1upk Featurization Failed\n"
     ]
    },
    {
     "name": "stderr",
     "output_type": "stream",
     "text": [
      "Failed to featurize datapoint 0, CC1(C)Nc2nc(N)[nH]c(=O)c2N=C1C(=O)NCC(=O)NCCS(=O)(=O)CC1OC(n2cnc3c(N)ncnc32)C(O)C1O. Appending empty array\n",
      "Exception message: 'NoneType' object is not subscriptable\n"
     ]
    },
    {
     "name": "stdout",
     "output_type": "stream",
     "text": [
      "4pzv Featurization Failed\n"
     ]
    },
    {
     "name": "stderr",
     "output_type": "stream",
     "text": [
      "Failed to featurize datapoint 0, CC([NH3+])C(=O)NC(CCCNC(N)=[NH2+])C(=O)NC(C(=O)NC(CCCC[NH3+])C(=O)NC(CCC(N)=O)C(=O)NC(C(=O)NC(C)C(=O)NC(CCCNC(N)=[NH2+])C(=O)NC(CCCC[N+](C)(C)C)C(=O)NC(CO)C(=O)NC(C(=O)[O-])C(C)O)C(C)O)C(C)O. Appending empty array\n",
      "Exception message: 'PUGREST.BadRequest: error: '\n"
     ]
    },
    {
     "name": "stdout",
     "output_type": "stream",
     "text": [
      "2l75 Featurization Failed\n",
      "5h14 Featurization Failed\n"
     ]
    },
    {
     "name": "stderr",
     "output_type": "stream",
     "text": [
      "Failed to featurize datapoint 0, CC([NH3+])C(=O)NCC1OC(n2ccc(=O)[nH]c2=O)C(O)C1O. Appending empty array\n",
      "Exception message: 'NoneType' object is not subscriptable\n"
     ]
    },
    {
     "name": "stdout",
     "output_type": "stream",
     "text": [
      "4y64 Featurization Failed\n",
      "5acb Featurization Failed\n"
     ]
    },
    {
     "name": "stderr",
     "output_type": "stream",
     "text": [
      "Failed to featurize datapoint 0, COC(=O)C1=CC=CC(c2cccc(C(=O)[O-])c2)C1. Appending empty array\n",
      "Exception message: 'NoneType' object is not subscriptable\n"
     ]
    },
    {
     "name": "stdout",
     "output_type": "stream",
     "text": [
      "5qah Featurization Failed\n"
     ]
    },
    {
     "name": "stderr",
     "output_type": "stream",
     "text": [
      "Failed to featurize datapoint 0, CCCCCNS(=O)(=O)c1cc(S(N)(=O)=O)ccc1C(=O)[O-]. Appending empty array\n",
      "Exception message: 'NoneType' object is not subscriptable\n"
     ]
    },
    {
     "name": "stdout",
     "output_type": "stream",
     "text": [
      "5amg Featurization Failed\n"
     ]
    },
    {
     "name": "stderr",
     "output_type": "stream",
     "text": [
      "Failed to featurize datapoint 0, CCC(C)C(NC(=O)C(CO)NC(=O)C1CCCN1C(=O)C(C)[NH3+])C(=O)NC(CC(=O)[O-])C(=O)NC(CCCNC(N)=[NH2+])C(=O)NC(CO)C(=O)NC(C(=O)NC(CCCC[NH3+])C(=O)N1CCCC1C(=O)N1CCCC1C(=O)NC(CC(C)C)C(=O)[O-])C(C)O. Appending empty array\n",
      "Exception message: 'NoneType' object is not subscriptable\n"
     ]
    },
    {
     "name": "stdout",
     "output_type": "stream",
     "text": [
      "1oeb Featurization Failed\n"
     ]
    },
    {
     "name": "stderr",
     "output_type": "stream",
     "text": [
      "Failed to featurize datapoint 0, NC(=[NH2+])NC1Cc2ccccc2C1NC(=O)C(=O)Nc1ccc(Cl)c(F)c1. Appending empty array\n",
      "Exception message: 'NoneType' object is not subscriptable\n"
     ]
    },
    {
     "name": "stdout",
     "output_type": "stream",
     "text": [
      "4dkq Featurization Failed\n",
      "3ffu Featurization Failed\n"
     ]
    },
    {
     "name": "stderr",
     "output_type": "stream",
     "text": [
      "Failed to featurize datapoint 0, CC([NH2+]C(Cc1c[nH]cn1)C(=O)[O-])C(=O)[O-]. Appending empty array\n",
      "Exception message: 'NoneType' object is not subscriptable\n"
     ]
    },
    {
     "name": "stdout",
     "output_type": "stream",
     "text": [
      "5ot9 Featurization Failed\n"
     ]
    },
    {
     "name": "stderr",
     "output_type": "stream",
     "text": [
      "Failed to featurize datapoint 0, CCCC(C(=O)[O-])N1C(=O)C(Cc2ccc(F)cc2)OC(c2ccc(Cl)cc2)C1c1ccc(Cl)cc1. Appending empty array\n",
      "Exception message: 'NoneType' object is not subscriptable\n"
     ]
    },
    {
     "name": "stdout",
     "output_type": "stream",
     "text": [
      "4jve Featurization Failed\n"
     ]
    },
    {
     "name": "stderr",
     "output_type": "stream",
     "text": [
      "Failed to featurize datapoint 0, CNC(NC)=[NH+]CCCC(NC(=O)CNC(=O)C(CCCNC(N)=[NH2+])NC(=O)CNC(=O)C([NH3+])CCCNC(N)=[NH2+])C(=O)NCC(=O)NC(C)C(=O)[O-]. Appending empty array\n",
      "Exception message: 'NoneType' object is not subscriptable\n"
     ]
    },
    {
     "name": "stdout",
     "output_type": "stream",
     "text": [
      "3nti Featurization Failed\n"
     ]
    },
    {
     "name": "stderr",
     "output_type": "stream",
     "text": [
      "Failed to featurize datapoint 0, FC(F)(CNc1nc2ncccc2[nH]1)C[NH2+]Cc1cc(Cl)cc(Cl)c1. Appending empty array\n",
      "Exception message: 'NoneType' object is not subscriptable\n"
     ]
    },
    {
     "name": "stdout",
     "output_type": "stream",
     "text": [
      "4zt4 Featurization Failed\n"
     ]
    },
    {
     "name": "stderr",
     "output_type": "stream",
     "text": [
      "Failed to featurize datapoint 0, CC(=O)NCCCCC(NC(=O)C(C)NC(=O)C([NH3+])Cc1cnc[nH]1)C(=O)NC(CCCNC(N)=[NH2+])C(=O)NC(C(=O)O)C(C)C. Appending empty array\n",
      "Exception message: 'NoneType' object is not subscriptable\n"
     ]
    },
    {
     "name": "stdout",
     "output_type": "stream",
     "text": [
      "2h2g Featurization Failed\n",
      "5kit Featurization Failed\n"
     ]
    },
    {
     "name": "stderr",
     "output_type": "stream",
     "text": [
      "Failed to featurize datapoint 0, CCC([NH3+])C(=O)NC1C(=O)N2C(CCC1CC[NH3+])CCC2C(=O)NC(c1ccccc1)c1ccccc1. Appending empty array\n",
      "Exception message: 'NoneType' object is not subscriptable\n"
     ]
    },
    {
     "name": "stdout",
     "output_type": "stream",
     "text": [
      "3eyl Featurization Failed\n"
     ]
    },
    {
     "name": "stderr",
     "output_type": "stream",
     "text": [
      "Failed to featurize datapoint 0, CC1C[NH+](CC(=O)N2CC(C)(C)c3ncc(Cc4ccccc4)cc32)C(C(=O)N2CCOCC2)C[NH2+]1. Appending empty array\n",
      "Exception message: 'NoneType' object is not subscriptable\n"
     ]
    },
    {
     "name": "stdout",
     "output_type": "stream",
     "text": [
      "5m6h Featurization Failed\n"
     ]
    },
    {
     "name": "stderr",
     "output_type": "stream",
     "text": [
      "Failed to featurize datapoint 0, CSCCC(NC(=O)C1CCCN1C(=O)C([NH3+])C(C)O)C(=O)NC(C(=O)NC(CC(N)=O)C(=O)NC(CCCNC(N)=[NH2+])C(=O)NC(CCC(=O)[O-])C(=O)NC(CC(N)=O)C(=O)NC(CCCC[NH3+])C(=O)O)C(C)C. Appending empty array\n",
      "Exception message: 'NoneType' object is not subscriptable\n"
     ]
    },
    {
     "name": "stdout",
     "output_type": "stream",
     "text": [
      "1uj0 Featurization Failed\n"
     ]
    },
    {
     "name": "stderr",
     "output_type": "stream",
     "text": [
      "Failed to featurize datapoint 0, COc1cc2cc(c1Cl)N(C)C(=O)CC(OC(=O)CCCCc1cn(CCCNC(=O)c3ccc(C(=O)[O-])c(-c4c5ccc(=O)cc-5oc5cc(O)ccc45)c3)nn1)C1(C)OC1C(C)C1CC(O)(NC(=O)O1)C(OC)CC=CC(C)C2. Appending empty array\n",
      "Exception message: 'NoneType' object is not subscriptable\n"
     ]
    },
    {
     "name": "stdout",
     "output_type": "stream",
     "text": [
      "6fjf Featurization Failed\n"
     ]
    },
    {
     "name": "stderr",
     "output_type": "stream",
     "text": [
      "Failed to featurize datapoint 0, CCC(C)C(NC(=O)C(C)[NH3+])C(=O)NC(C(=O)NCC(=O)NC(CC(C)C)C(=O)NC(CCSC)C(=O)NC(C(=O)NCC(=O)NCC(=O)NC(C(=O)NC(C(=O)[O-])C(C)C)C(C)C)C(C)C)C(C)CC. Appending empty array\n",
      "Exception message: 'NoneType' object is not subscriptable\n"
     ]
    },
    {
     "name": "stdout",
     "output_type": "stream",
     "text": [
      "3u0t Featurization Failed\n"
     ]
    },
    {
     "name": "stderr",
     "output_type": "stream",
     "text": [
      "Failed to featurize datapoint 0, CC1CCC(O)C1NC(=O)C(Cc1ccccc1)CC(O)C[NH+]1CCN(C(=O)c2cnc(N3CC[NH+](C)CC3)c(Cl)n2)CC1C(=O)NC(C)(C)C. Appending empty array\n",
      "Exception message: 'NoneType' object is not subscriptable\n"
     ]
    },
    {
     "name": "stdout",
     "output_type": "stream",
     "text": [
      "2bpy Featurization Failed\n"
     ]
    },
    {
     "name": "stderr",
     "output_type": "stream",
     "text": [
      "Failed to featurize datapoint 0, CC(C)CCNC(=O)C1C[NH2+]CC(C[NH+]2CC(=O)N(c3ccccc3Cl)CC2(C)C)C1. Appending empty array\n",
      "Exception message: 'NoneType' object is not subscriptable\n"
     ]
    },
    {
     "name": "stdout",
     "output_type": "stream",
     "text": [
      "3vyd Featurization Failed\n",
      "16pk Featurization Failed\n"
     ]
    },
    {
     "name": "stderr",
     "output_type": "stream",
     "text": [
      "Failed to featurize datapoint 0, CC(C)n1cnnc1-c1cccc(N2Cc3ccc(OCC4C[NH+](C)CCO4)cc3C2=O)n1. Appending empty array\n",
      "Exception message: 'NoneType' object is not subscriptable\n"
     ]
    },
    {
     "name": "stdout",
     "output_type": "stream",
     "text": [
      "5uor Featurization Failed\n"
     ]
    },
    {
     "name": "stderr",
     "output_type": "stream",
     "text": [
      "Failed to featurize datapoint 0, CCC[NH2+]C(CCC([NH3+])C(=O)[O-])CC1OC(n2cnc3c(N)ncnc32)C(O)C1O. Appending empty array\n",
      "Exception message: 'NoneType' object is not subscriptable\n"
     ]
    },
    {
     "name": "stdout",
     "output_type": "stream",
     "text": [
      "4fmu Featurization Failed\n",
      "3wdz Featurization Failed\n"
     ]
    },
    {
     "name": "stderr",
     "output_type": "stream",
     "text": [
      "Failed to featurize datapoint 0, CC(O)C(NC(=O)C([NH3+])CS)C(=O)NC(Cc1ccccc1)C(=O)NC(CCCC[NH3+])C(=O)NC(C(=O)NC(CCCC[NH3+])C(=O)NC(C(=O)NC(CC(N)=O)C(=O)[O-])C(C)O)C(C)O. Appending empty array\n",
      "Exception message: 'NoneType' object is not subscriptable\n"
     ]
    },
    {
     "name": "stdout",
     "output_type": "stream",
     "text": [
      "2ynn Featurization Failed\n"
     ]
    },
    {
     "name": "stderr",
     "output_type": "stream",
     "text": [
      "Failed to featurize datapoint 0, CC(=O)NC(C(=O)NC(C(=O)N1CC(O)CC1C(=O)NCc1ccc(-c2scnc2C)cc1)C(C)(C)C)C(C)(C)C. Appending empty array\n",
      "Exception message: 'NoneType' object is not subscriptable\n"
     ]
    },
    {
     "name": "stdout",
     "output_type": "stream",
     "text": [
      "4w9l Featurization Failed\n"
     ]
    },
    {
     "name": "stderr",
     "output_type": "stream",
     "text": [
      "Failed to featurize datapoint 0, CCC(CC)CN(CC(O)C(CC1CCCCC1)NC(=O)OC1COC2OCCC12)S(=O)(=O)C1CCC([NH3+])CC1. Appending empty array\n",
      "Exception message: 'NoneType' object is not subscriptable\n"
     ]
    },
    {
     "name": "stdout",
     "output_type": "stream",
     "text": [
      "6dh5 Featurization Failed\n",
      "5edr Featurization Failed\n",
      "4dhp Featurization Failed\n",
      "3cst Featurization Failed\n",
      "5cei Featurization Failed\n"
     ]
    },
    {
     "name": "stderr",
     "output_type": "stream",
     "text": [
      "Failed to featurize datapoint 0, CCOc1ccc(C(=O)Nc2ccc(F)c(C3(C)NC(=[NH2+])OCC3(F)F)c2)nc1. Appending empty array\n",
      "Exception message: 'NoneType' object is not subscriptable\n"
     ]
    },
    {
     "name": "stdout",
     "output_type": "stream",
     "text": [
      "4j0t Featurization Failed\n"
     ]
    },
    {
     "name": "stderr",
     "output_type": "stream",
     "text": [
      "Failed to featurize datapoint 0, O=C([O-])c1ccc(-c2cccc3c(CCCOc4cccc5ccccc45)c(C(=O)[O-])nn23)cc1. Appending empty array\n",
      "Exception message: 'NoneType' object is not subscriptable\n"
     ]
    },
    {
     "name": "stdout",
     "output_type": "stream",
     "text": [
      "3wix Featurization Failed\n"
     ]
    },
    {
     "name": "stderr",
     "output_type": "stream",
     "text": [
      "Failed to featurize datapoint 0, NC(=O)c1cc2cc(OCc3cccc(C(=O)[O-])c3)ccc2[nH]1. Appending empty array\n",
      "Exception message: 'NoneType' object is not subscriptable\n"
     ]
    },
    {
     "name": "stdout",
     "output_type": "stream",
     "text": [
      "5fbi Featurization Failed\n"
     ]
    },
    {
     "name": "stderr",
     "output_type": "stream",
     "text": [
      "Failed to featurize datapoint 0, CC(=O)N1CCCC1C(=O)NC(C)C(=O)N1CCCC1C(=O)NC(Cc1ccccc1)C(=O)[O-]. Appending empty array\n",
      "Exception message: 'NoneType' object is not subscriptable\n"
     ]
    },
    {
     "name": "stdout",
     "output_type": "stream",
     "text": [
      "4sga Featurization Failed\n"
     ]
    },
    {
     "name": "stderr",
     "output_type": "stream",
     "text": [
      "Failed to featurize datapoint 0, CCOC(=O)CCC(CC1CCNC1=O)NC(=O)C(Cc1ccccc1)NC(=O)C(=O)NCCC1CC1. Appending empty array\n",
      "Exception message: 'NoneType' object is not subscriptable\n"
     ]
    },
    {
     "name": "stdout",
     "output_type": "stream",
     "text": [
      "5dp8 Featurization Failed\n",
      "1bsk Featurization Failed\n",
      "6bq0 Featurization Failed\n"
     ]
    },
    {
     "name": "stderr",
     "output_type": "stream",
     "text": [
      "Failed to featurize datapoint 0, [NH3+]C(Cc1ccccc1)C(=O)N1CCCC1C(=O)NCc1ccncc1. Appending empty array\n",
      "Exception message: 'NoneType' object is not subscriptable\n"
     ]
    },
    {
     "name": "stdout",
     "output_type": "stream",
     "text": [
      "3sv2 Featurization Failed\n",
      "4jjm Featurization Failed\n",
      "5ij7 Featurization Failed\n",
      "3gpo Featurization Failed\n"
     ]
    },
    {
     "name": "stderr",
     "output_type": "stream",
     "text": [
      "Failed to featurize datapoint 0, OCC1C[NH2+]C(O)C(OC2OC(CO)C(O)C(O)C2O)C1O. Appending empty array\n",
      "Exception message: 'NoneType' object is not subscriptable\n"
     ]
    },
    {
     "name": "stdout",
     "output_type": "stream",
     "text": [
      "5lyr Featurization Failed\n",
      "4p45 Featurization Failed\n"
     ]
    },
    {
     "name": "stderr",
     "output_type": "stream",
     "text": [
      "Failed to featurize datapoint 0, CC(NC(=O)C(CCCC[NH3+])NC(=O)C(CCC(N)=O)NC(=O)C(CCC(=O)[O-])NC(=O)C(Cc1ccccc1)NC(=O)C(CCC(N)=O)NC(=O)C1CCCN1C(=O)C(Cc1c[nH]cn1)NC(=O)C(NC(=O)C(Cc1c[nH]c2ccccc12)NC(=O)C([NH3+])CCC(=O)[O-])C(C)C)C(=O)[O-]. Appending empty array\n",
      "Exception message: 'NoneType' object is not subscriptable\n"
     ]
    },
    {
     "name": "stdout",
     "output_type": "stream",
     "text": [
      "5n7x Featurization Failed\n"
     ]
    },
    {
     "name": "stderr",
     "output_type": "stream",
     "text": [
      "Failed to featurize datapoint 0, OCC1OC(SCC2OC(SCC3C[NH2+]CC(O)C3O)C(O)C(O)C2O)C(O)C(O)C1O. Appending empty array\n",
      "Exception message: 'NoneType' object is not subscriptable\n"
     ]
    },
    {
     "name": "stdout",
     "output_type": "stream",
     "text": [
      "5m77 Featurization Failed\n"
     ]
    },
    {
     "name": "stderr",
     "output_type": "stream",
     "text": [
      "Failed to featurize datapoint 0, O=C([O-])C(=O)C=C(O)c1cccc(Br)c1. Appending empty array\n",
      "Exception message: 'NoneType' object is not subscriptable\n"
     ]
    },
    {
     "name": "stdout",
     "output_type": "stream",
     "text": [
      "3saz Featurization Failed\n"
     ]
    },
    {
     "name": "stderr",
     "output_type": "stream",
     "text": [
      "Failed to featurize datapoint 0, CC(C)CC(NC(=O)OCc1ccccc1)C(=O)N[NH2+]C(O)c1csc(C(CC(C)C)NC(=O)OCc2ccccc2)n1. Appending empty array\n",
      "Exception message: 'NoneType' object is not subscriptable\n"
     ]
    },
    {
     "name": "stdout",
     "output_type": "stream",
     "text": [
      "1ayv Featurization Failed\n"
     ]
    },
    {
     "name": "stderr",
     "output_type": "stream",
     "text": [
      "Failed to featurize datapoint 0, CCOC(=O)C[n+]1c(NC(N)=[NH2+])sc2cc(O)ccc21. Appending empty array\n",
      "Exception message: 'NoneType' object is not subscriptable\n"
     ]
    },
    {
     "name": "stdout",
     "output_type": "stream",
     "text": [
      "3po1 Featurization Failed\n"
     ]
    },
    {
     "name": "stderr",
     "output_type": "stream",
     "text": [
      "Failed to featurize datapoint 0, NC(=O)CC(NC(=O)C(CO)NC(=O)CNC(=O)C(CO)NC(=O)CNC(=O)C(CO)NC(=O)C(CO)NC(=O)C[NH3+])C(=O)NCC(=O)NC(CC(=O)[O-])C(=O)[O-]. Appending empty array\n",
      "Exception message: 'NoneType' object is not subscriptable\n"
     ]
    },
    {
     "name": "stdout",
     "output_type": "stream",
     "text": [
      "4f20 Featurization Failed\n"
     ]
    },
    {
     "name": "stderr",
     "output_type": "stream",
     "text": [
      "Failed to featurize datapoint 0, COC(=O)C1CC(OS(N)(=O)=O)CN1S(=O)(=O)C1OC(CO)C(O)C(O)C1O. Appending empty array\n",
      "Exception message: 'NoneType' object is not subscriptable\n"
     ]
    },
    {
     "name": "stdout",
     "output_type": "stream",
     "text": [
      "4zwz Featurization Failed\n"
     ]
    },
    {
     "name": "stderr",
     "output_type": "stream",
     "text": [
      "Failed to featurize datapoint 0, C#CC1CCC(C=N)N1C(=O)C[NH2+]C1(C)CCN(c2cc(C(=O)[O-])ccn2)CC1. Appending empty array\n",
      "Exception message: 'NoneType' object is not subscriptable\n"
     ]
    },
    {
     "name": "stdout",
     "output_type": "stream",
     "text": [
      "2i03 Featurization Failed\n"
     ]
    },
    {
     "name": "stderr",
     "output_type": "stream",
     "text": [
      "Failed to featurize datapoint 0, CC1C[NH+](CC(=O)N2CC(C)(C)c3ccc(Cl)cc32)CC[NH2+]1. Appending empty array\n",
      "Exception message: 'NoneType' object is not subscriptable\n"
     ]
    },
    {
     "name": "stdout",
     "output_type": "stream",
     "text": [
      "5c7c Featurization Failed\n"
     ]
    },
    {
     "name": "stderr",
     "output_type": "stream",
     "text": [
      "Failed to featurize datapoint 0, None. Appending empty array\n",
      "Exception message: Python argument types in\n",
      "    rdkit.Chem.rdmolfiles.MolToSmiles(NoneType)\n",
      "did not match C++ signature:\n",
      "    MolToSmiles(class RDKit::ROMol mol, bool isomericSmiles=False, bool kekuleSmiles=False, int rootedAtAtom=-1, bool canonical=True, bool allBondsExplicit=False, bool allHsExplicit=False)\n"
     ]
    },
    {
     "name": "stdout",
     "output_type": "stream",
     "text": [
      "5klz Featurization Failed\n",
      "3wgw Featurization Failed\n",
      "5v3r Featurization Failed\n"
     ]
    },
    {
     "name": "stderr",
     "output_type": "stream",
     "text": [
      "Failed to featurize datapoint 0, CC(O)C(NC(=O)C([NH3+])CCCC[NH3+])C(=O)NC(CCCC[NH3+])C(=O)[O-]. Appending empty array\n",
      "Exception message: 'NoneType' object is not subscriptable\n"
     ]
    },
    {
     "name": "stdout",
     "output_type": "stream",
     "text": [
      "1b52 Featurization Failed\n"
     ]
    },
    {
     "name": "stderr",
     "output_type": "stream",
     "text": [
      "Failed to featurize datapoint 0, CC(=O)NC(C(=O)NC(CC(=O)[O-])C(=O)NC(C(=O)NC(C)C(=O)NC(CC(=O)[O-])C(=O)[O-])C(C)C)C(C)C. Appending empty array\n",
      "Exception message: 'NoneType' object is not subscriptable\n"
     ]
    },
    {
     "name": "stdout",
     "output_type": "stream",
     "text": [
      "3r6g Featurization Failed\n"
     ]
    },
    {
     "name": "stderr",
     "output_type": "stream",
     "text": [
      "Failed to featurize datapoint 0, NC(=O)C(CCC(=O)[O-])NC(=O)C(CCC(=O)[O-])NC(=O)CCc1cc(-c2ccccc2)no1. Appending empty array\n",
      "Exception message: 'NoneType' object is not subscriptable\n"
     ]
    },
    {
     "name": "stdout",
     "output_type": "stream",
     "text": [
      "3lir Featurization Failed\n"
     ]
    },
    {
     "name": "stderr",
     "output_type": "stream",
     "text": [
      "Failed to featurize datapoint 0, O=C(NC1C[NH2+]CCCC1OC(=O)c1cc(O)c(C(=O)c2c(O)cccc2C(=O)[O-])c(O)c1)c1ccc(O)cc1. Appending empty array\n",
      "Exception message: 'NoneType' object is not subscriptable\n"
     ]
    },
    {
     "name": "stdout",
     "output_type": "stream",
     "text": [
      "3krx Featurization Failed\n"
     ]
    },
    {
     "name": "stderr",
     "output_type": "stream",
     "text": [
      "Failed to featurize datapoint 0, CCN1C(O)=C(c2ccc(-c3cncc(C)n3)cc2Cl)Cc2cnc(NCCC3CC[NH+](C)CC3)nc21. Appending empty array\n",
      "Exception message: 'NoneType' object is not subscriptable\n"
     ]
    },
    {
     "name": "stdout",
     "output_type": "stream",
     "text": [
      "5dfp Featurization Failed\n"
     ]
    },
    {
     "name": "stderr",
     "output_type": "stream",
     "text": [
      "Failed to featurize datapoint 0, CC(C)CC(NC(=O)C(Cc1ccccc1)NC(=O)CNC(=O)CNC(=O)C([NH3+])Cc1ccc(O)cc1)C(=O)[O-]. Appending empty array\n",
      "Exception message: 'NoneType' object is not subscriptable\n"
     ]
    },
    {
     "name": "stdout",
     "output_type": "stream",
     "text": [
      "5e3a Featurization Failed\n"
     ]
    },
    {
     "name": "stderr",
     "output_type": "stream",
     "text": [
      "Failed to featurize datapoint 0, O=S(=O)(Nc1cccc(Oc2ccc(F)cc2)c1)N1CCC([NH2+]Cc2ccccc2O)CC1. Appending empty array\n",
      "Exception message: 'NoneType' object is not subscriptable\n"
     ]
    },
    {
     "name": "stdout",
     "output_type": "stream",
     "text": [
      "1zz2 Featurization Failed\n"
     ]
    },
    {
     "name": "stderr",
     "output_type": "stream",
     "text": [
      "Failed to featurize datapoint 0, NS(=O)(=O)OC1CCN(S(=O)(=O)C2OC(CO)C(O)C(O)C2O)C1. Appending empty array\n",
      "Exception message: 'NoneType' object is not subscriptable\n"
     ]
    },
    {
     "name": "stdout",
     "output_type": "stream",
     "text": [
      "4r5a Featurization Failed\n"
     ]
    },
    {
     "name": "stderr",
     "output_type": "stream",
     "text": [
      "Failed to featurize datapoint 0, CC(C)CC(NC(=O)C([NH3+])CC(=O)[O-])C(=O)NC(CC(C)C)C(=O)NC(CC(=O)[O-])C(=O)NC(CO)C(=O)NC(CC(C)C)C(=O)NCC(=O)NC(Cc1ccccc1)C(=O)[O-]. Appending empty array\n",
      "Exception message: 'NoneType' object is not subscriptable\n"
     ]
    },
    {
     "name": "stdout",
     "output_type": "stream",
     "text": [
      "2pmc Featurization Failed\n",
      "5alu Featurization Failed\n"
     ]
    },
    {
     "name": "stderr",
     "output_type": "stream",
     "text": [
      "Failed to featurize datapoint 0, CC=C(C)C(=O)OC1CC2C(=C1C)C1OC(=O)C(C)(O)C1(O)C(OC(=O)CCCCCCCCCCC)CC2(C)OC(C)=O. Appending empty array\n",
      "Exception message: 'NoneType' object is not subscriptable\n"
     ]
    },
    {
     "name": "stdout",
     "output_type": "stream",
     "text": [
      "3nal Featurization Failed\n"
     ]
    },
    {
     "name": "stderr",
     "output_type": "stream",
     "text": [
      "Failed to featurize datapoint 0, CCC(NC(=O)CC1OC(C)C(O)C(O)C1O)C(=O)N1CCCC1C(=O)NC(CC(C)C)C(N)=O. Appending empty array\n",
      "Exception message: 'NoneType' object is not subscriptable\n"
     ]
    },
    {
     "name": "stdout",
     "output_type": "stream",
     "text": [
      "3dcq Featurization Failed\n",
      "3wqm Featurization Failed\n",
      "4uwh Featurization Failed\n"
     ]
    },
    {
     "name": "stderr",
     "output_type": "stream",
     "text": [
      "Failed to featurize datapoint 0, OCC1OC(OC2C[NH+]3C(CO)C(O)C(O)C3C2CO)C(O)C(O)C1O. Appending empty array\n",
      "Exception message: 'NoneType' object is not subscriptable\n"
     ]
    },
    {
     "name": "stdout",
     "output_type": "stream",
     "text": [
      "2wyn Featurization Failed\n"
     ]
    },
    {
     "name": "stderr",
     "output_type": "stream",
     "text": [
      "Failed to featurize datapoint 0, CCC(C)C1NC(=O)C(CCCC[NH3+])NC(=O)C(CC(C)C)NC(=O)C(CC(=O)[O-])NC(=O)C(CC(=O)[O-])NC(=O)C(CC(C)C)NC(=O)C(CC(N)=O)NC(=O)C(CC(=O)[O-])NC1=O. Appending empty array\n",
      "Exception message: 'NoneType' object is not subscriptable\n"
     ]
    },
    {
     "name": "stdout",
     "output_type": "stream",
     "text": [
      "3avf Featurization Failed\n"
     ]
    },
    {
     "name": "stderr",
     "output_type": "stream",
     "text": [
      "Failed to featurize datapoint 0, CC(=O)NC(Cc1cc(F)cc(F)c1)C(O)C[NH2+]C1CC(C2CC2)Oc2ccc(CC(C)(C)C)cc21. Appending empty array\n",
      "Exception message: 'NoneType' object is not subscriptable\n"
     ]
    },
    {
     "name": "stdout",
     "output_type": "stream",
     "text": [
      "3qi1 Featurization Failed\n",
      "2pjc Featurization Failed\n"
     ]
    },
    {
     "name": "stderr",
     "output_type": "stream",
     "text": [
      "Failed to featurize datapoint 0, NC(=O)c1cccc(NC(=O)CCC(=O)NCCc2cn(CCNS(=O)(=O)c3cccc(C(=O)[O-])c3)nn2)c1. Appending empty array\n",
      "Exception message: 'NoneType' object is not subscriptable\n"
     ]
    },
    {
     "name": "stdout",
     "output_type": "stream",
     "text": [
      "5lyh Featurization Failed\n"
     ]
    },
    {
     "name": "stderr",
     "output_type": "stream",
     "text": [
      "Failed to featurize datapoint 0, CCC1c2c(C#N)ncn2-c2cnc(Nc3ccc(C(=O)NC4CC[NH+](C)CC4)cc3OC)nc2N1C1CCCC1. Appending empty array\n",
      "Exception message: 'NoneType' object is not subscriptable\n"
     ]
    },
    {
     "name": "stdout",
     "output_type": "stream",
     "text": [
      "5ta6 Featurization Failed\n"
     ]
    },
    {
     "name": "stderr",
     "output_type": "stream",
     "text": [
      "Failed to featurize datapoint 0, Cc1nnc2ccc(N3CCC(C(=O)NCCC[NH+]4CCN(c5cccc(Cl)c5)CC4)CC3)nn12. Appending empty array\n",
      "Exception message: 'NoneType' object is not subscriptable\n"
     ]
    },
    {
     "name": "stdout",
     "output_type": "stream",
     "text": [
      "5dlx Featurization Failed\n"
     ]
    },
    {
     "name": "stderr",
     "output_type": "stream",
     "text": [
      "Failed to featurize datapoint 0, O=C1C(NS(=O)(=O)c2ccc3cc(Cl)ccc3c2)CCN1c1ccc(C2CCC[NH2+]2)cc1F. Appending empty array\n",
      "Exception message: 'NoneType' object is not subscriptable\n"
     ]
    },
    {
     "name": "stdout",
     "output_type": "stream",
     "text": [
      "2y82 Featurization Failed\n"
     ]
    },
    {
     "name": "stderr",
     "output_type": "stream",
     "text": [
      "Failed to featurize datapoint 0, C[NH2+]C(C)C(=O)NC(C(=O)N1CCC2CCC(NC(=O)C(c3ccccc3)c3ccccc3)C21)C(C)(C)C. Appending empty array\n",
      "Exception message: 'NoneType' object is not subscriptable\n"
     ]
    },
    {
     "name": "stdout",
     "output_type": "stream",
     "text": [
      "3f7h Featurization Failed\n"
     ]
    },
    {
     "name": "stderr",
     "output_type": "stream",
     "text": [
      "Failed to featurize datapoint 0, CC([NH3+])C(=O)NCC(=O)NC(CC(=O)[O-])C(=O)NC(C(=O)[O-])C(C)C. Appending empty array\n",
      "Exception message: 'NoneType' object is not subscriptable\n"
     ]
    },
    {
     "name": "stdout",
     "output_type": "stream",
     "text": [
      "4z7n Featurization Failed\n"
     ]
    },
    {
     "name": "stderr",
     "output_type": "stream",
     "text": [
      "Failed to featurize datapoint 0, CCC(C)C(NC(=O)C(CC(=O)[O-])NC(=O)C(Cc1ccc(O)cc1)NC(=O)C(C)NC(=O)C(C)NC(=O)C[NH3+])C(=O)NC(CO[P+](O)(O)O)C(=O)NC(CCC(N)=O)C(=O)NC(C(=O)NC(Cc1ccccc1)C(=O)N1CCCC1C(=O)NC(Cc1ccccc1)C(=O)NC(C)C(=O)NC(C)C(=O)O)C(C)C. Appending empty array\n",
      "Exception message: 'NoneType' object is not subscriptable\n"
     ]
    },
    {
     "name": "stdout",
     "output_type": "stream",
     "text": [
      "1t2v Featurization Failed\n"
     ]
    },
    {
     "name": "stderr",
     "output_type": "stream",
     "text": [
      "Failed to featurize datapoint 0, CNC(NC)=[NH+]CCCC(NC(=O)C(C)[NH3+])C(=O)NC(C(=O)NC(CCCC[N+](C)(C)C)C(=O)NC(C)C(=O)[O-])C(C)O. Appending empty array\n",
      "Exception message: 'NoneType' object is not subscriptable\n"
     ]
    },
    {
     "name": "stdout",
     "output_type": "stream",
     "text": [
      "3meu Featurization Failed\n",
      "4n8e Featurization Failed\n"
     ]
    },
    {
     "name": "stderr",
     "output_type": "stream",
     "text": [
      "Failed to featurize datapoint 0, Cc1cc(C(=O)NC(Cc2ccc(F)cc2)C(=O)NC(CO)CC2CCC[NH2+]C2O)no1. Appending empty array\n",
      "Exception message: 'NoneType' object is not subscriptable\n"
     ]
    },
    {
     "name": "stdout",
     "output_type": "stream",
     "text": [
      "5gso Featurization Failed\n"
     ]
    },
    {
     "name": "stderr",
     "output_type": "stream",
     "text": [
      "Failed to featurize datapoint 0, CC(CS)C(=O)NC(Cc1c[nH]c2ccccc12)C(=O)[O-]. Appending empty array\n",
      "Exception message: 'NoneType' object is not subscriptable\n"
     ]
    },
    {
     "name": "stdout",
     "output_type": "stream",
     "text": [
      "5n4s Featurization Failed\n",
      "4zmf Featurization Failed\n"
     ]
    },
    {
     "name": "stderr",
     "output_type": "stream",
     "text": [
      "Failed to featurize datapoint 0, CC(C)CC(NC(=O)C(C)NC(=O)C(Cc1ccc(Cl)c(Cl)c1)NC(=O)C(Cc1c[nH]c2ccccc12)NC(=O)C(CCC(=O)[O-])NC(=O)C(CCC(=O)[O-])NC(=O)C(CC(C)C)NC(=O)C(CC(=O)[O-])NC(=O)C(CC(=O)[O-])NC(=O)C(C)NC(=O)C(NC(=O)C(Cc1ccccc1)NC(=O)C(CC(=O)[O-])NC(=O)CCCCCNC(=S)Nc1ccc(-c2c3ccc(=O)cc-3oc3cc(O)ccc23)c(C(=O)[O-])c1)C(C)O)C(N)=O. Appending empty array\n",
      "Exception message: 'NoneType' object is not subscriptable\n"
     ]
    },
    {
     "name": "stdout",
     "output_type": "stream",
     "text": [
      "4nb3 Featurization Failed\n"
     ]
    },
    {
     "name": "stderr",
     "output_type": "stream",
     "text": [
      "Failed to featurize datapoint 0, CC(C)[NH+](CCCNC(=O)Nc1ccc(C(C)(C)C)cc1)CC1OC(n2ccc3c(N)ncnc32)C(O)C1O. Appending empty array\n",
      "Exception message: 'NoneType' object is not subscriptable\n"
     ]
    },
    {
     "name": "stdout",
     "output_type": "stream",
     "text": [
      "4eki Featurization Failed\n"
     ]
    },
    {
     "name": "stderr",
     "output_type": "stream",
     "text": [
      "Failed to featurize datapoint 0, CCC1C2C(C(=O)N1Cc1ccc3c(c1)OCO3)C(c1ccc(C(N)=[NH2+])cc1)[NH+]1CCCC21. Appending empty array\n",
      "Exception message: 'NoneType' object is not subscriptable\n"
     ]
    },
    {
     "name": "stdout",
     "output_type": "stream",
     "text": [
      "1y3w Featurization Failed\n"
     ]
    },
    {
     "name": "stderr",
     "output_type": "stream",
     "text": [
      "Failed to featurize datapoint 0, COc1ccc(S(=O)(=O)N(CC(C)C)CC(O)C(CC23CC4CC(CC(C4)C2)C3)NC(=O)OC2COC3OCCCC23)cc1. Appending empty array\n",
      "Exception message: 'NoneType' object is not subscriptable\n"
     ]
    },
    {
     "name": "stdout",
     "output_type": "stream",
     "text": [
      "5jg1 Featurization Failed\n"
     ]
    }
   ],
   "source": [
    "os.chdir('C:\\\\Users\\\\joslynn.deaver\\\\SoftDrugs\\\\Sanitization')\n",
    "Ids, Labels = load_data('train_dataset.csv')\n",
    "#featurizing_MACKeys(Ids, Labels, 'Sanitized Data')\n",
    "#featurizing_CF(Ids, Labels, 'Sanitized Data')\n",
    "featurizing_PubFP(Ids, Labels, 'Sanitized Data')\n",
    "#featurizing_RDKit(Ids, Labels, 'Sanitized Data')"
   ]
  },
  {
   "cell_type": "code",
   "execution_count": null,
   "id": "c2774048",
   "metadata": {},
   "outputs": [],
   "source": []
  }
 ],
 "metadata": {
  "kernelspec": {
   "display_name": "Python 3",
   "language": "python",
   "name": "python3"
  },
  "language_info": {
   "codemirror_mode": {
    "name": "ipython",
    "version": 3
   },
   "file_extension": ".py",
   "mimetype": "text/x-python",
   "name": "python",
   "nbconvert_exporter": "python",
   "pygments_lexer": "ipython3",
   "version": "3.6.12"
  }
 },
 "nbformat": 4,
 "nbformat_minor": 5
}
