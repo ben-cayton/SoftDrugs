{
 "cells": [
  {
   "cell_type": "code",
   "execution_count": 1,
   "id": "5d28ce70",
   "metadata": {},
   "outputs": [],
   "source": [
    "import pandas as pd\n",
    "import numpy as np\n",
    "\n",
    "def load_data(csv_file):\n",
    "    loaded_data = pd.read_csv(csv_file)\n",
    "    samples , feat_count = loaded_data.shape\n",
    "    label_idx = '%s' %(feat_count - 2)\n",
    "    features = np.zeros((samples , (feat_count - 2)))\n",
    "    n_files = len(loaded_data)\n",
    "    print(loaded_data.shape)\n",
    "    Ids = loaded_data['0']\n",
    "    for feat in range(1,(feat_count - 2)):\n",
    "        features[:, feat] = loaded_data['%s' %feat]\n",
    "    labels = loaded_data[label_idx]\n",
    "    labels = labels.to_numpy()\n",
    "    return Ids, features, labels"
   ]
  },
  {
   "cell_type": "code",
   "execution_count": 10,
   "id": "fbac568e",
   "metadata": {},
   "outputs": [],
   "source": [
    "import numpy as np\n",
    "from numpy.random import random_sample as rs, randint as r\n",
    "from sklearn.neighbors import KNeighborsRegressor as KNR\n",
    "from sklearn.model_selection import cross_val_predict as CV\n",
    "from sklearn.metrics import r2_score as r2\n",
    "\n",
    "def KnnLooCV(features, labels):\n",
    "    X = features\n",
    "    y = labels\n",
    "    model = KNR(n_neighbors=1)\n",
    "    pred = CV(model, X, y, cv=len(X))\n",
    "    r2_score = r2(pred,y)\n",
    "    print(r2_score)\n",
    "    return r2_score"
   ]
  },
  {
   "cell_type": "code",
   "execution_count": 3,
   "id": "c0d1d0d8",
   "metadata": {},
   "outputs": [
    {
     "name": "stdout",
     "output_type": "stream",
     "text": [
      "(9451, 170)\n",
      "(9451, 2051)\n",
      "(9451, 203)\n"
     ]
    }
   ],
   "source": [
    "Ids_Mac, features_Mac, labels_Mac = load_data('featured_MACKeys_train_data.csv')\n",
    "Ids_CFP, features_CFP, labels_CFP = load_data('featured_CircularFP_train_data.csv')\n",
    "Ids_RD, features_RD, labels_RD = load_data('featured_RDKit_train_data.csv')\n",
    "Ids_PCFP, features_PCFP, labels_PCFP = load_data('featured_PubChemFP_train_data.csv')\n",
    "features_RD_noNaN = np.nan_to_num(features_RD, copy=False, nan=0.0, posinf=0.0, neginf=0.0)"
   ]
  },
  {
   "cell_type": "code",
   "execution_count": 11,
   "id": "937582fe",
   "metadata": {},
   "outputs": [
    {
     "name": "stdout",
     "output_type": "stream",
     "text": [
      "0.11829874685430508\n",
      "0.051502964157197684\n",
      "0.043100933471762026\n",
      "0.15083629222973693\n"
     ]
    }
   ],
   "source": [
    "r2_score_Mac = KnnLooCV(features_Mac, labels_Mac)\n",
    "r2_score_CFP = KnnLooCV(features_CFP, labels_CFP)\n",
    "r2_score_RD = KnnLooCV(features_RD_noNaN, labels_RD)\n",
    "r2_score_PCFP = KnnLooCV(features_PCFP, labels_PCFP)"
   ]
  },
  {
   "cell_type": "code",
   "execution_count": 18,
   "id": "8fab843c",
   "metadata": {},
   "outputs": [],
   "source": [
    "import numpy as np\n",
    "from sklearn.ensemble import RandomForestRegressor\n",
    "from sklearn import datasets, model_selection\n",
    "\n",
    "def feature_importance(feature_arrays, labels):\n",
    "    y = labels\n",
    "    x = feature_arrays\n",
    "    _, n_features = feature_arrays.shape\n",
    "    importance_values = np.zeros(n_features)\n",
    "    x_train, x_test, y_train, y_test = model_selection.train_test_split(\n",
    "        x, y, test_size = 0.2, random_state = 1)\n",
    "    kf = model_selection.KFold(n_splits = 5)\n",
    "    for train_idx, val_idx in kf.split(x_train):\n",
    "        feature_imp_model = RandomForestRegressor(\n",
    "            n_estimators = 1000, criterion=\"mse\",\n",
    "            min_samples_leaf = 1, max_features = \"sqrt\")\n",
    "        feature_imp_model.fit(x_train[train_idx], y_train[train_idx])\n",
    "        fold_feat_imp = feature_imp_model.feature_importances_\n",
    "        importance_values += fold_feat_imp\n",
    "    return importance_values"
   ]
  },
  {
   "cell_type": "code",
   "execution_count": 77,
   "id": "dcb3a6a8",
   "metadata": {},
   "outputs": [],
   "source": [
    "import numpy as np\n",
    "\n",
    "def feature_rearrage(feature_arrays, importance_values):\n",
    "    samples, n_features = feature_arrays.shape\n",
    "    ranked_feature_array = np.zeros((samples, n_features))\n",
    "    new_order = np.argsort(importance_values)\n",
    "    count = n_features - 1\n",
    "    for new_ind in new_order:\n",
    "        ranked_feature_array[:,count] = feature_arrays[:,new_ind]\n",
    "        count -= 1\n",
    "    ranked_features = pd.DataFrame(data=ranked_feature_array)\n",
    "    ranked_features.to_csv('ranked_featured_PCFP_fin_data.csv')\n",
    "    return ranked_feature_array"
   ]
  },
  {
   "cell_type": "code",
   "execution_count": 65,
   "id": "e41e55ee",
   "metadata": {},
   "outputs": [],
   "source": [
    "import pandas as pd\n",
    "import numpy as np\n",
    "from sklearn import svm, model_selection\n",
    "from sklearn import metrics\n",
    "import matplotlib.pyplot as plt\n",
    "import time\n",
    "\n",
    "def SVM_optimization(train_feats, train_labels, val_feats, val_labels):\n",
    "    train_features = train_feats\n",
    "    y_train = train_labels\n",
    "    val_features = val_feats\n",
    "    y_val = val_labels\n",
    "    _, total_features = train_features.shape\n",
    "    kernel = 'rbf'\n",
    "    lmda = 0.0010\n",
    "    MSEs = np.zeros(total_features)\n",
    "    R2s = np.zeros(total_features)\n",
    "    times = np.zeros(total_features)\n",
    "    for feats_used in range(1,total_features):\n",
    "        x_train = train_features[: , 0:feats_used]\n",
    "        x_val = val_features[: , 0:feats_used]\n",
    "        prev_time = time.time()\n",
    "        svc = svm.SVR(kernel=kernel, C=1/lmda)\n",
    "        svc.fit(x_train, y_train)\n",
    "        curr_time = time.time()\n",
    "        y_pred = svc.predict(x_val)\n",
    "        MSEs[feats_used] = metrics.mean_squared_error(y_val, y_pred)\n",
    "        R2s[feats_used] = metrics.r2_score(y_val, y_pred)\n",
    "        times[feats_used] = curr_time - prev_time\n",
    "    return MSEs, R2s, times"
   ]
  },
  {
   "cell_type": "code",
   "execution_count": null,
   "id": "042e2f2e",
   "metadata": {},
   "outputs": [],
   "source": [
    "importance_values = feature_importance(features_PCFP, labels_PCFP)\n",
    "print(importance_values)\n",
    "ranked_train_feature_array = feature_rearrage(features_PCFP, importance_values)\n"
   ]
  },
  {
   "cell_type": "code",
   "execution_count": 76,
   "id": "9f3ef12a",
   "metadata": {},
   "outputs": [
    {
     "name": "stdout",
     "output_type": "stream",
     "text": [
      "(1242, 884)\n"
     ]
    }
   ],
   "source": [
    "Ids_PCFP_val, features_PCFP_val, labels_PCFP_val = load_data('featured_PubChemFP_validation_data.csv')\n",
    "ranked_val_feature_array = feature_rearrage(features_PCFP_val, importance_values)"
   ]
  },
  {
   "cell_type": "code",
   "execution_count": 90,
   "id": "63c1dd5d",
   "metadata": {},
   "outputs": [
    {
     "name": "stdout",
     "output_type": "stream",
     "text": [
      "(1247, 884)\n"
     ]
    }
   ],
   "source": [
    "Ids_PCFP_fin, features_PCFP_fin, labels_PCFP_fin = load_data('featured_PubChemFP_final_data.csv')\n",
    "ranked_fin_feature_array = feature_rearrage(features_PCFP_fin, importance_values)"
   ]
  },
  {
   "cell_type": "code",
   "execution_count": 88,
   "id": "d49009a9",
   "metadata": {},
   "outputs": [],
   "source": [
    "import pandas as pd\n",
    "import numpy as np\n",
    "from sklearn import svm, model_selection\n",
    "from sklearn import metrics\n",
    "import matplotlib.pyplot as plt\n",
    "import time\n",
    "\n",
    "def final_model(train_feats, train_labels, fin_feats, fin_labels):\n",
    "    train_features = train_feats\n",
    "    y_train = train_labels\n",
    "    test_features = fin_feats\n",
    "    y_test = fin_labels\n",
    "    _, total_features = train_features.shape\n",
    "    kernel = 'rbf'\n",
    "    lmda = 0.0010\n",
    "    x_train = train_features[: , 0:311]\n",
    "    x_test = test_features[: , 0:311]\n",
    "    prev_time = time.time()\n",
    "    svc = svm.SVR(kernel=kernel, C=1/lmda)\n",
    "    svc.fit(x_train, y_train)\n",
    "    curr_time = time.time()\n",
    "    y_pred = svc.predict(x_test)\n",
    "    MSE = metrics.mean_squared_error(y_test, y_pred)\n",
    "    R2 = metrics.r2_score(y_test, y_pred)\n",
    "    timed = curr_time - prev_time\n",
    "    return MSE, R2, timed"
   ]
  },
  {
   "cell_type": "code",
   "execution_count": 89,
   "id": "99862550",
   "metadata": {},
   "outputs": [],
   "source": [
    "ranked_val_feature_array = feature_rearrage(features_PCFP_val, importance_values)"
   ]
  },
  {
   "cell_type": "code",
   "execution_count": null,
   "id": "6590fdb4",
   "metadata": {},
   "outputs": [],
   "source": [
    "    #removed graphing of svm experiment. data was exported and ploted in excel.\n",
    "    #plt.subplot(311)\n",
    "    #plt.plot(MSEs, 'o')\n",
    "    #plt.xlabel('Features Used')\n",
    "    #plt.ylabel('Model MSE')\n",
    "    #plt.subplot(312)\n",
    "    #plt.plot(R2s, 'o')\n",
    "    #plt.xlabel('Features Used')\n",
    "    #plt.ylabel('Model R2')\n",
    "    #plt.subplot(313)\n",
    "    #plt.plot(times, 'o')\n",
    "    #plt.xlabel('Features Used')\n",
    "    #plt.ylabel('Time to Train Model')"
   ]
  },
  {
   "cell_type": "code",
   "execution_count": 66,
   "id": "ca71178c",
   "metadata": {},
   "outputs": [],
   "source": [
    "MSEs, R2s, times = SVM_optimization(ranked_train_feature_array, labels_PCFP, ranked_val_feature_array, labels_PCFP_val)"
   ]
  },
  {
   "cell_type": "code",
   "execution_count": 91,
   "id": "621c04ba",
   "metadata": {},
   "outputs": [],
   "source": [
    "MSE, R2, time = final_model(ranked_train_feature_array, labels_PCFP, ranked_fin_feature_array, labels_PCFP_fin)"
   ]
  },
  {
   "cell_type": "code",
   "execution_count": 92,
   "id": "e15f6151",
   "metadata": {},
   "outputs": [
    {
     "name": "stdout",
     "output_type": "stream",
     "text": [
      "2.5611860228015355 0.3327654542817339 8.672730207443237\n"
     ]
    }
   ],
   "source": [
    "print(MSE, R2, time)"
   ]
  },
  {
   "cell_type": "code",
   "execution_count": null,
   "id": "a217bfb5",
   "metadata": {},
   "outputs": [],
   "source": []
  }
 ],
 "metadata": {
  "kernelspec": {
   "display_name": "Python 3",
   "language": "python",
   "name": "python3"
  },
  "language_info": {
   "codemirror_mode": {
    "name": "ipython",
    "version": 3
   },
   "file_extension": ".py",
   "mimetype": "text/x-python",
   "name": "python",
   "nbconvert_exporter": "python",
   "pygments_lexer": "ipython3",
   "version": "3.6.12"
  }
 },
 "nbformat": 4,
 "nbformat_minor": 5
}
