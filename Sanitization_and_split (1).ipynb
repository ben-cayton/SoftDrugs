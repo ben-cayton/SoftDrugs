{
 "cells": [
  {
   "cell_type": "code",
   "execution_count": null,
   "id": "00905972",
   "metadata": {},
   "outputs": [],
   "source": [
    "#Import necessary Packages\n",
    "import pandas as pd\n",
    "import numpy as np\n",
    "import os\n",
    "from os.path import dirname, join as pjoin\n",
    "import sys\n",
    "from rdkit import Chem\n",
    "from rdkit.Chem import AllChem\n",
    "from deepchem.utils.docking_utils import prepare_inputs\n",
    "from sklearn.model_selection import train_test_split"
   ]
  },
  {
   "cell_type": "code",
   "execution_count": null,
   "id": "8bdca69d",
   "metadata": {},
   "outputs": [],
   "source": [
    "from tensorflow.python.client import device_lib\n",
    "print(device_lib.list_local_devices())"
   ]
  },
  {
   "cell_type": "code",
   "execution_count": 3,
   "id": "6af75511",
   "metadata": {},
   "outputs": [
    {
     "name": "stdout",
     "output_type": "stream",
     "text": [
      "Num GPUs Available:  1\n"
     ]
    }
   ],
   "source": [
    "import tensorflow as tf\n",
    "print(\"Num GPUs Available: \", len(tf.config.list_physical_devices('GPU')))"
   ]
  },
  {
   "cell_type": "code",
   "execution_count": 7,
   "id": "ef582fa4",
   "metadata": {},
   "outputs": [
    {
     "data": {
      "text/plain": [
       "<tensorflow.python.eager.context._EagerDeviceContext at 0x1db5f59fc88>"
      ]
     },
     "execution_count": 7,
     "metadata": {},
     "output_type": "execute_result"
    }
   ],
   "source": [
    "tf.config.list_physical_devices('GPU')\n",
    "tf.device('/gpu:0')"
   ]
  },
  {
   "cell_type": "code",
   "execution_count": 8,
   "id": "3019b406",
   "metadata": {},
   "outputs": [],
   "source": [
    "#Access File Directories and import Ids and labels\n",
    "\n",
    "def load_data(csv_file='./data.csv'):\n",
    "    \"\"\"\n",
    "    Loads data with 3 features and associated label for ML use\n",
    "\n",
    "    :param matrix_in: csv file with 'Ids' and 'Labels' as column headers\n",
    "    :type matrix_in: file name string\n",
    "    :return: Id array and label array\n",
    "    \"\"\"\n",
    "    norm_dir = ('C:\\\\Users\\\\joslynn.deaver\\\\SoftDrugs\\\\Sanitization')\n",
    "    os.chdir(norm_dir)\n",
    "    loaded_data = pd.read_csv(csv_file)\n",
    "    n_files = len(loaded_data)\n",
    "    Ids = loaded_data[\"Ids\"]\n",
    "    labels = loaded_data[\"Labels\"]\n",
    "    labels = labels.to_numpy()\n",
    "    return Ids, labels"
   ]
  },
  {
   "cell_type": "code",
   "execution_count": 20,
   "id": "40b0058a",
   "metadata": {},
   "outputs": [],
   "source": [
    "#Access File, Sanitize, Save\n",
    "\n",
    "def sanitizer(Ids, Labels, data_folder):\n",
    "    file_count = len(Ids)\n",
    "    sanitized_data_Ids_and_labels = np.zeros((file_count, 2), dtype = int)\n",
    "    sanitized_data_Ids_and_labels = sanitized_data_Ids_and_labels.astype(str)\n",
    "    count = 0\n",
    "    data_dir = ('C:\\\\Users\\\\joslynn.deaver\\\\Documents\\\\SoftDrugs Files\\\\Raw Data\\\\%s' % (data_folder))\n",
    "    save_dir = ('C:\\\\Users\\\\joslynn.deaver\\\\SoftDrugs\\\\Sanitization\\\\Sanitized Data')\n",
    "    norm_dir = ('C:\\\\Users\\\\joslynn.deaver\\\\SoftDrugs\\\\Sanitization')\n",
    "    for pdbid in Ids:\n",
    "        folder_dir = None\n",
    "        raw_protein, raw_ligand, molfile = None, None, None\n",
    "        protein, ligand = None, None\n",
    "        try:\n",
    "            folder_dir = pjoin(data_dir, pdbid)\n",
    "            os.chdir(folder_dir)\n",
    "        except:\n",
    "            print('%s folder access failed' % (pdbid))\n",
    "        if os.getcwd() == folder_dir:\n",
    "            try:\n",
    "                raw_protein = ('%s_protein.pdb' % (pdbid))\n",
    "                protein = raw_protein\n",
    "            except:\n",
    "                print('%s access failed' % (pdbid))\n",
    "            try:\n",
    "                raw_ligand = ('%s_ligand.mol2' % (pdbid))\n",
    "            except:\n",
    "                print('%s ligand access failed' % (pdbid))\n",
    "            if raw_ligand:\n",
    "                try:\n",
    "                    molfile = Chem.rdmolfiles.MolFromMol2File(raw_ligand)\n",
    "                except:\n",
    "                    print('%s ligand mol from mol2 file generation failed' % (pdbid))\n",
    "                if molfile:\n",
    "                    try:\n",
    "                        ligand = Chem.rdmolfiles.MolToSmiles(molfile)\n",
    "                    except:\n",
    "                        print('%s ligand pdb generation failed' % (pdbid))\n",
    "            if protein and ligand:\n",
    "                p, m = None, None\n",
    "                try:\n",
    "                    p, m = prepare_inputs(protein, ligand)\n",
    "                except:\n",
    "                    print('%s failed sanitization' % (pdbid)) \n",
    "                if p and m:\n",
    "                    os.chdir(save_dir)\n",
    "                    Chem.rdmolfiles.MolToPDBFile(p, '%s.pdb' % (pdbid))\n",
    "                    Chem.rdmolfiles.MolToPDBFile(m, '%s_ligand.pdb' % (pdbid))\n",
    "                    sanitized_data_Ids_and_labels[count, 0] = pdbid\n",
    "                    sanitized_data_Ids_and_labels[count, 1] = Labels[count]\n",
    "        count += 1\n",
    "    os.chdir(norm_dir)\n",
    "    sanitized_data_Ids_and_labels = sanitized_data_Ids_and_labels[~np.all(sanitized_data_Ids_and_labels == '0', axis=1)]\n",
    "    return sanitized_data_Ids_and_labels"
   ]
  },
  {
   "cell_type": "code",
   "execution_count": 21,
   "id": "d8d68851",
   "metadata": {},
   "outputs": [],
   "source": [
    "#join sanitized general and refined dataset labels into one\n",
    "def join_datasets(general_dataset, refine_dataset):\n",
    "    gen_count = len(general_dataset)\n",
    "    ref_count = len(refine_dataset)\n",
    "    sanitized_files = gen_count + ref_count\n",
    "    sanitized_dataset = np.zeros((sanitized_files,2))\n",
    "    count = 0\n",
    "    for loc in range(gen_count):\n",
    "        sanitized_dataset[count, 0] = general_dataset[loc, 0]\n",
    "        sanitized_dataset[count, 0] = general_dataset[loc, 1]\n",
    "        count += 1\n",
    "    for loc in range(ref_count):\n",
    "        sanitized_dataset[count, 0] = refine_dataset[loc, 0]\n",
    "        sanitized_dataset[count, 0] = refine_dataset[loc, 1]\n",
    "        count += 1\n",
    "    return sanitized_dataset"
   ]
  },
  {
   "cell_type": "code",
   "execution_count": null,
   "id": "196fc764",
   "metadata": {},
   "outputs": [],
   "source": [
    "#Run Code\n",
    "general_Ids, general_labels = load_data('General Ids and Labels.csv')\n",
    "refine_Ids, refine_labels = load_data('Refined Ids and Labels.csv')\n",
    "\n",
    "sanitized_general = sanitizer(general_Ids, general_labels, 'v2019-other-PL')\n",
    "sanitized_refine = sanitizer(refine_Ids, refine_labels, 'refined-set')\n",
    "\n",
    "sanitzed_data_directory = join_datasets(sanitized_general, sanitized_refine)"
   ]
  },
  {
   "cell_type": "code",
   "execution_count": 23,
   "id": "470cf41b",
   "metadata": {},
   "outputs": [
    {
     "data": {
      "text/plain": [
       "(3819, 2)"
      ]
     },
     "execution_count": 23,
     "metadata": {},
     "output_type": "execute_result"
    }
   ],
   "source": [
    "sanitized_refine.shape"
   ]
  },
  {
   "cell_type": "code",
   "execution_count": 25,
   "id": "2c14aae1",
   "metadata": {},
   "outputs": [],
   "source": [
    "df = pd.DataFrame(sanitized_refine, columns =['Id', 'Lable'])\n",
    "df.to_csv('Refined Sanitized.csv')"
   ]
  },
  {
   "cell_type": "code",
   "execution_count": null,
   "id": "95559216",
   "metadata": {},
   "outputs": [],
   "source": [
    "sanitized_refine = sanitizer(refine_Ids, refine_labels, 'refined-set')"
   ]
  },
  {
   "cell_type": "code",
   "execution_count": null,
   "id": "41c1ac45",
   "metadata": {},
   "outputs": [],
   "source": [
    "#split sanitized data\n",
    "def generate_datasets(sanitzed_data_directory):\n",
    "    X = sanitzed_data_directory[:, 0]\n",
    "    y = sanitzed_data_directory[:, 1]\n",
    "    X_train, X_temp, y_train, y_temp = train_test_split(\n",
    "        X, y, test_size=0.3)\n",
    "    X_val, X_test, y_val, y_test = train_test_split(\n",
    "        X_temp, y_temp, test_size=0.5)\n",
    "    train_data = [X_train, y_train]\n",
    "    validation_data = [X_val, y_val]\n",
    "    test_data = [X_test, y_test]\n",
    "    return train_data, validation_data, test_data"
   ]
  },
  {
   "cell_type": "code",
   "execution_count": null,
   "id": "3c4e3aca",
   "metadata": {},
   "outputs": [],
   "source": [
    "train_data, validation_data, test_data = generate_datasets(sanitzed_data_directory)"
   ]
  },
  {
   "cell_type": "code",
   "execution_count": null,
   "id": "27d3a170",
   "metadata": {},
   "outputs": [],
   "source": [
    "print(train_data[0])"
   ]
  },
  {
   "cell_type": "code",
   "execution_count": null,
   "id": "86d059f5",
   "metadata": {},
   "outputs": [],
   "source": [
    "print(train_data[1])"
   ]
  },
  {
   "cell_type": "code",
   "execution_count": null,
   "id": "5378f4b8",
   "metadata": {},
   "outputs": [],
   "source": [
    "print(validation_data[0])"
   ]
  },
  {
   "cell_type": "code",
   "execution_count": null,
   "id": "3c137de2",
   "metadata": {},
   "outputs": [],
   "source": [
    "print(validation_data[1])"
   ]
  },
  {
   "cell_type": "code",
   "execution_count": null,
   "id": "dcb1eab9",
   "metadata": {},
   "outputs": [],
   "source": [
    "print(test_data[0])"
   ]
  },
  {
   "cell_type": "code",
   "execution_count": null,
   "id": "aa134c98",
   "metadata": {},
   "outputs": [],
   "source": [
    "print(test_data[1])"
   ]
  },
  {
   "cell_type": "code",
   "execution_count": null,
   "id": "65a09181",
   "metadata": {},
   "outputs": [],
   "source": []
  }
 ],
 "metadata": {
  "kernelspec": {
   "display_name": "Python 3",
   "language": "python",
   "name": "python3"
  },
  "language_info": {
   "codemirror_mode": {
    "name": "ipython",
    "version": 3
   },
   "file_extension": ".py",
   "mimetype": "text/x-python",
   "name": "python",
   "nbconvert_exporter": "python",
   "pygments_lexer": "ipython3",
   "version": "3.6.12"
  }
 },
 "nbformat": 4,
 "nbformat_minor": 5
}
