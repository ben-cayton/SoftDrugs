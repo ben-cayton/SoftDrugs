{
 "cells": [
  {
   "cell_type": "code",
   "execution_count": 1,
   "id": "89b70781",
   "metadata": {},
   "outputs": [
    {
     "name": "stderr",
     "output_type": "stream",
     "text": [
      "C:\\tools\\Anaconda3\\envs\\softdrugVirtEnv\\lib\\site-packages\\tensorboard\\compat\\tensorflow_stub\\dtypes.py:541: FutureWarning: Passing (type, 1) or '1type' as a synonym of type is deprecated; in a future version of numpy, it will be understood as (type, (1,)) / '(1,)type'.\n",
      "  _np_qint8 = np.dtype([(\"qint8\", np.int8, 1)])\n",
      "C:\\tools\\Anaconda3\\envs\\softdrugVirtEnv\\lib\\site-packages\\tensorboard\\compat\\tensorflow_stub\\dtypes.py:542: FutureWarning: Passing (type, 1) or '1type' as a synonym of type is deprecated; in a future version of numpy, it will be understood as (type, (1,)) / '(1,)type'.\n",
      "  _np_quint8 = np.dtype([(\"quint8\", np.uint8, 1)])\n",
      "C:\\tools\\Anaconda3\\envs\\softdrugVirtEnv\\lib\\site-packages\\tensorboard\\compat\\tensorflow_stub\\dtypes.py:543: FutureWarning: Passing (type, 1) or '1type' as a synonym of type is deprecated; in a future version of numpy, it will be understood as (type, (1,)) / '(1,)type'.\n",
      "  _np_qint16 = np.dtype([(\"qint16\", np.int16, 1)])\n",
      "C:\\tools\\Anaconda3\\envs\\softdrugVirtEnv\\lib\\site-packages\\tensorboard\\compat\\tensorflow_stub\\dtypes.py:544: FutureWarning: Passing (type, 1) or '1type' as a synonym of type is deprecated; in a future version of numpy, it will be understood as (type, (1,)) / '(1,)type'.\n",
      "  _np_quint16 = np.dtype([(\"quint16\", np.uint16, 1)])\n",
      "C:\\tools\\Anaconda3\\envs\\softdrugVirtEnv\\lib\\site-packages\\tensorboard\\compat\\tensorflow_stub\\dtypes.py:545: FutureWarning: Passing (type, 1) or '1type' as a synonym of type is deprecated; in a future version of numpy, it will be understood as (type, (1,)) / '(1,)type'.\n",
      "  _np_qint32 = np.dtype([(\"qint32\", np.int32, 1)])\n",
      "C:\\tools\\Anaconda3\\envs\\softdrugVirtEnv\\lib\\site-packages\\tensorboard\\compat\\tensorflow_stub\\dtypes.py:550: FutureWarning: Passing (type, 1) or '1type' as a synonym of type is deprecated; in a future version of numpy, it will be understood as (type, (1,)) / '(1,)type'.\n",
      "  np_resource = np.dtype([(\"resource\", np.ubyte, 1)])\n"
     ]
    }
   ],
   "source": [
    "import pandas as pd\n",
    "import numpy as np\n",
    "import os\n",
    "import deepchem as dc\n",
    "import pubchempy as pcp\n",
    "import matplotlib.pyplot as plt\n",
    "import time\n",
    "from os.path import dirname, join as pjoin\n",
    "from deepchem.utils.typing import RDKitMol\n",
    "from deepchem.feat.base_classes import MolecularFeaturizer\n",
    "from rdkit import Chem\n",
    "from rdkit.Chem import AllChem\n",
    "from numpy.random import random_sample as rs, randint as r\n",
    "from sklearn.neighbors import KNeighborsRegressor as KNR\n",
    "from sklearn.model_selection import cross_val_predict as CV\n",
    "from sklearn.metrics import r2_score as r2\n",
    "from sklearn.model_selection import train_test_split\n",
    "from sklearn.ensemble import RandomForestRegressor\n",
    "from sklearn import datasets, model_selection\n",
    "from sklearn import svm, model_selection\n",
    "from sklearn import metrics"
   ]
  },
  {
   "cell_type": "code",
   "execution_count": 2,
   "id": "4177a2b4",
   "metadata": {},
   "outputs": [],
   "source": [
    "def load_init_data(csv_file='./data.csv'):\n",
    "    loaded_data = pd.read_csv(csv_file)\n",
    "    n_files = len(loaded_data)\n",
    "    Ids = loaded_data[\"SMILES\"]\n",
    "    labels = loaded_data[\"Affinity\"]\n",
    "    labels = labels.to_numpy()\n",
    "    return Ids, labels"
   ]
  },
  {
   "cell_type": "code",
   "execution_count": 3,
   "id": "b20cf7b5",
   "metadata": {},
   "outputs": [],
   "source": [
    "def load_round_data(csv_file='./data.csv'):\n",
    "    loaded_data = pd.read_csv(csv_file)\n",
    "    n_files = len(loaded_data)\n",
    "    Ids = loaded_data[\"Ids\"]\n",
    "    labels = loaded_data[\"Labels\"]\n",
    "    labels = labels.to_numpy()\n",
    "    return Ids, labels"
   ]
  },
  {
   "cell_type": "code",
   "execution_count": 4,
   "id": "07bbc1c8",
   "metadata": {},
   "outputs": [],
   "source": [
    "def load_featured_data(csv_file):\n",
    "    loaded_data = pd.read_csv(csv_file)\n",
    "    samples , feat_count = loaded_data.shape\n",
    "    label_idx = '%s' %(feat_count - 2)\n",
    "    features = np.zeros((samples , (feat_count - 2)))\n",
    "    n_files = len(loaded_data)\n",
    "    print(loaded_data.shape)\n",
    "    Ids = loaded_data['0']\n",
    "    for feat in range(1,(feat_count - 2)):\n",
    "        features[:, feat] = loaded_data['%s' %feat]\n",
    "    labels = loaded_data[label_idx]\n",
    "    labels = labels.to_numpy()\n",
    "    return Ids, features, labels"
   ]
  },
  {
   "cell_type": "code",
   "execution_count": 5,
   "id": "56997e6b",
   "metadata": {},
   "outputs": [],
   "source": [
    "def split_data(Ids, Labels):\n",
    "    X = Ids\n",
    "    y = Labels\n",
    "    X_train, X_temp, y_train, y_temp = train_test_split(\n",
    "        X, y, test_size=0.3)\n",
    "    X_val, X_test, y_val, y_test = train_test_split(\n",
    "        X_temp, y_temp, test_size=0.5)\n",
    "    train_data = {'Ids':X_train, 'Labels': y_train}\n",
    "    validation_data = {'Ids':X_val, 'Labels': y_val}\n",
    "    test_data = {'Ids':X_test, 'Labels': y_test}\n",
    "    train_data = pd.DataFrame(data=train_data)\n",
    "    validation_data = pd.DataFrame(data=validation_data)\n",
    "    test_data = pd.DataFrame(data=test_data)\n",
    "    train_data.to_csv('CATS_train_dataset.csv')\n",
    "    validation_data.to_csv('CATS_validation_dataset.csv')\n",
    "    test_data.to_csv('CATS_test_dataset.csv')"
   ]
  },
  {
   "cell_type": "code",
   "execution_count": 6,
   "id": "492a6622",
   "metadata": {},
   "outputs": [],
   "source": [
    "def featurizing_MACKeys(Id_array, label_array):\n",
    "    n_samples = len(Id_array)\n",
    "    features_and_labels = np.zeros((n_samples,169), dtype = int)\n",
    "    features_and_labels = features_and_labels.astype(str)\n",
    "    labels = np.zeros(n_samples)\n",
    "    MACKEYS_featurizer = dc.feat.MACCSKeysFingerprint()\n",
    "    for idx in range(n_samples):\n",
    "        mol = Id_array[idx]\n",
    "        try:\n",
    "            features_and_labels[idx,1:168] = MACKEYS_featurizer.featurize(([Chem.MolFromSmiles(mol)]))\n",
    "            features_and_labels[idx, -1] = label_array[idx]\n",
    "            features_and_labels[idx,0] = mol\n",
    "        except:\n",
    "            print('%s Featurization Failed' % (mol))\n",
    "    features_and_labels = features_and_labels[~np.all(features_and_labels == '0', axis=1)]\n",
    "    features_and_labels = pd.DataFrame(data=features_and_labels)\n",
    "    features_and_labels.to_csv('CATS_MACKeys_train_data.csv')"
   ]
  },
  {
   "cell_type": "code",
   "execution_count": 27,
   "id": "697b2474",
   "metadata": {},
   "outputs": [],
   "source": [
    "def featurizing_CF(Id_array, label_array):\n",
    "    n_samples = len(Id_array)\n",
    "    features_and_labels = np.zeros((n_samples,2050), dtype = int)\n",
    "    features_and_labels = features_and_labels.astype(str)\n",
    "    labels = np.zeros(n_samples)\n",
    "    CF_featurizer = dc.feat.CircularFingerprint()\n",
    "    for idx in range(n_samples):\n",
    "        mol = Id_array[idx]\n",
    "        try:\n",
    "            features_and_labels[idx,1:2049] = CF_featurizer.featurize(([Chem.MolFromSmiles(mol)]))\n",
    "            features_and_labels[idx, -1] = label_array[idx]\n",
    "            features_and_labels[idx,0] = mol\n",
    "        except:\n",
    "            print('%s Featurization Failed' % (mol))\n",
    "    features_and_labels = features_and_labels[~np.all(features_and_labels == '0', axis=1)]\n",
    "    features_and_labels = pd.DataFrame(data=features_and_labels)\n",
    "    features_and_labels.to_csv('CATS_CircularFP_test_data.csv')"
   ]
  },
  {
   "cell_type": "code",
   "execution_count": 8,
   "id": "b9b5e457",
   "metadata": {},
   "outputs": [],
   "source": [
    "def featurizing_PubFP(Id_array, label_array):\n",
    "    n_samples = len(Id_array)\n",
    "    features_and_labels = np.zeros((n_samples,883), dtype = int)\n",
    "    features_and_labels = features_and_labels.astype(str)\n",
    "    labels = np.zeros(n_samples)\n",
    "    PubFB_featurizer = dc.feat.PubChemFingerprint()\n",
    "    for idx in range(n_samples):\n",
    "        mol = Id_array[idx]\n",
    "        try:\n",
    "            features_and_labels[idx,1:882] = PubFB_featurizer.featurize(([Chem.MolFromSmiles(mol)]))\n",
    "            features_and_labels[idx, -1] = label_array[idx]\n",
    "            features_and_labels[idx,0] = mol\n",
    "        except:\n",
    "            print('%s Featurization Failed' % (mol))\n",
    "    features_and_labels = features_and_labels[~np.all(features_and_labels == '0', axis=1)]\n",
    "    features_and_labels = pd.DataFrame(data=features_and_labels)\n",
    "    features_and_labels.to_csv('CATS_PubChemFP_train_data.csv')"
   ]
  },
  {
   "cell_type": "code",
   "execution_count": 9,
   "id": "1ff4e64e",
   "metadata": {},
   "outputs": [],
   "source": [
    "def featurizing_RDKit(Id_array, label_array):\n",
    "    n_samples = len(Id_array)\n",
    "    features_and_labels = np.zeros((n_samples,202), dtype = int)\n",
    "    features_and_labels = features_and_labels.astype(str)\n",
    "    labels = np.zeros(n_samples)\n",
    "    RDKit_featurizer = dc.feat.RDKitDescriptors()\n",
    "    for idx in range(n_samples):\n",
    "        mol = Id_array[idx]\n",
    "        try:\n",
    "            features_and_labels[idx,1:201] = RDKit_featurizer.featurize(([Chem.MolFromSmiles(mol)]))\n",
    "            features_and_labels[idx, -1] = label_array[idx]\n",
    "            features_and_labels[idx,0] = mol\n",
    "        except:\n",
    "            print('%s Featurization Failed' % (mol))\n",
    "    features_and_labels = features_and_labels[~np.all(features_and_labels == '0', axis=1)]\n",
    "    features_and_labels = pd.DataFrame(data=features_and_labels)\n",
    "    features_and_labels.to_csv('CATS_RDKit_train_data.csv')"
   ]
  },
  {
   "cell_type": "code",
   "execution_count": 10,
   "id": "107da4ef",
   "metadata": {},
   "outputs": [],
   "source": [
    "def KnnLooCV(features, labels, k):\n",
    "    X = features\n",
    "    y = labels\n",
    "    model = KNR(n_neighbors = k)\n",
    "    pred = CV(model, X, y, cv=len(X))\n",
    "    r2_score = r2(pred,y)\n",
    "    print(r2_score)\n",
    "    return r2_score"
   ]
  },
  {
   "cell_type": "code",
   "execution_count": 12,
   "id": "e6469350",
   "metadata": {},
   "outputs": [],
   "source": [
    "def feature_importance(feature_arrays, labels):\n",
    "    y = labels\n",
    "    x = feature_arrays\n",
    "    _, n_features = feature_arrays.shape\n",
    "    importance_values = np.zeros(n_features)\n",
    "    x_train, x_test, y_train, y_test = model_selection.train_test_split(\n",
    "        x, y, test_size = 0.2, random_state = 1)\n",
    "    kf = model_selection.KFold(n_splits = 5)\n",
    "    for train_idx, val_idx in kf.split(x_train):\n",
    "        feature_imp_model = RandomForestRegressor(\n",
    "            n_estimators = 1000, criterion=\"mse\",\n",
    "            min_samples_leaf = 1, max_features = \"sqrt\")\n",
    "        feature_imp_model.fit(x_train[train_idx], y_train[train_idx])\n",
    "        fold_feat_imp = feature_imp_model.feature_importances_\n",
    "        importance_values += fold_feat_imp\n",
    "    print(importance_values)\n",
    "    return importance_values"
   ]
  },
  {
   "cell_type": "code",
   "execution_count": 28,
   "id": "0d880e57",
   "metadata": {},
   "outputs": [],
   "source": [
    "def feature_rearrage(feature_arrays, importance_values):\n",
    "    samples, n_features = feature_arrays.shape\n",
    "    ranked_feature_array = np.zeros((samples, n_features))\n",
    "    new_order = np.argsort(importance_values)\n",
    "    count = n_features - 1\n",
    "    for new_ind in new_order:\n",
    "        ranked_feature_array[:,count] = feature_arrays[:,new_ind]\n",
    "        count -= 1\n",
    "    ranked_features = pd.DataFrame(data=ranked_feature_array)\n",
    "    ranked_features.to_csv('ranked_featured_CFP_test_data.csv')\n",
    "    return ranked_feature_array"
   ]
  },
  {
   "cell_type": "code",
   "execution_count": 20,
   "id": "6dfa7b82",
   "metadata": {},
   "outputs": [],
   "source": [
    "def SVM_optimization(train_feats, train_labels, val_feats, val_labels):\n",
    "    train_features = train_feats\n",
    "    y_train = train_labels\n",
    "    val_features = val_feats\n",
    "    y_val = val_labels\n",
    "    _, total_features = train_features.shape\n",
    "    kernel = 'rbf'\n",
    "    lmda = 0.0010\n",
    "    MSEs = np.zeros(total_features)\n",
    "    R2s = np.zeros(total_features)\n",
    "    times = np.zeros(total_features)\n",
    "    for feats_used in range(1,total_features):\n",
    "        x_train = train_features[: , 0:feats_used]\n",
    "        x_val = val_features[: , 0:feats_used]\n",
    "        prev_time = time.time()\n",
    "        svc = svm.SVR(kernel=kernel, C=1/lmda)\n",
    "        svc.fit(x_train, y_train)\n",
    "        curr_time = time.time()\n",
    "        y_pred = svc.predict(x_val)\n",
    "        MSEs[feats_used] = metrics.mean_squared_error(y_val, y_pred)\n",
    "        R2s[feats_used] = metrics.r2_score(y_val, y_pred)\n",
    "        times[feats_used] = curr_time - prev_time\n",
    "    return MSEs, R2s, times"
   ]
  },
  {
   "cell_type": "code",
   "execution_count": 25,
   "id": "f9cf2312",
   "metadata": {},
   "outputs": [],
   "source": [
    "def final_model(train_feats, train_labels, fin_feats, fin_labels):\n",
    "    train_features = train_feats\n",
    "    y_train = train_labels\n",
    "    test_features = fin_feats\n",
    "    y_test = fin_labels\n",
    "    _, total_features = train_features.shape\n",
    "    kernel = 'rbf'\n",
    "    lmda = 0.0010\n",
    "    x_train = train_features[: , 0:38]\n",
    "    x_test = test_features[: , 0:38]\n",
    "    prev_time = time.time()\n",
    "    svc = svm.SVR(kernel=kernel, C=1/lmda)\n",
    "    svc.fit(x_train, y_train)\n",
    "    curr_time = time.time()\n",
    "    y_pred = svc.predict(x_test)\n",
    "    MSE = metrics.mean_squared_error(y_test, y_pred)\n",
    "    R2 = metrics.r2_score(y_test, y_pred)\n",
    "    timed = curr_time - prev_time\n",
    "    return MSE, R2, timed"
   ]
  },
  {
   "cell_type": "code",
   "execution_count": 11,
   "id": "a54082df",
   "metadata": {},
   "outputs": [
    {
     "name": "stderr",
     "output_type": "stream",
     "text": [
      "Failed to featurize datapoint 0, CC(C)NCc1cc(C#Cc2cc(-c3nn(CCCN4CCOCC4C)c4c3CN(C(=O)C(N)=O)CC4)ccc2Cl)ccc1Cl. Appending empty array\n",
      "Exception message: 'NoneType' object is not subscriptable\n"
     ]
    },
    {
     "name": "stdout",
     "output_type": "stream",
     "text": [
      "C[C@H]1COCCN1CCCn2c3c(c(n2)c4ccc(c(c4)C#Cc5ccc(c(c5)CNC(C)C)Cl)Cl)CN(CC3)C(=O)C(=O)N Featurization Failed\n"
     ]
    },
    {
     "name": "stderr",
     "output_type": "stream",
     "text": [
      "Failed to featurize datapoint 0, CC1CN(CCCn2nc(-c3ccc(Cl)c(C#Cc4ccc(CNCc5ccc(Cl)cc5)cc4)c3)c3c2CCN(S(C)(=O)=O)C3)CC(C)O1. Appending empty array\n",
      "Exception message: 'NoneType' object is not subscriptable\n"
     ]
    },
    {
     "name": "stdout",
     "output_type": "stream",
     "text": [
      "C[C@@H]1CN(C[C@@H](O1)C)CCCn2c3c(c(n2)c4ccc(c(c4)C#Cc5ccc(cc5)CNCc6ccc(cc6)Cl)Cl)CN(CC3)S(=O)(=O)C Featurization Failed\n"
     ]
    },
    {
     "name": "stderr",
     "output_type": "stream",
     "text": [
      "Failed to featurize datapoint 0, CC1COCCN1CCCn1nc(-c2ccc(Cl)c(C#Cc3ccc(Cl)c(CNCC(C)(C)O)c3)c2)c2c1CCN(C(=O)C(N)=O)C2. Appending empty array\n",
      "Exception message: 'NoneType' object is not subscriptable\n"
     ]
    },
    {
     "name": "stdout",
     "output_type": "stream",
     "text": [
      "C[C@H]1COCCN1CCCn2c3c(c(n2)c4ccc(c(c4)C#Cc5ccc(c(c5)CNCC(C)(C)O)Cl)Cl)CN(CC3)C(=O)C(=O)N Featurization Failed\n"
     ]
    },
    {
     "name": "stderr",
     "output_type": "stream",
     "text": [
      "Failed to featurize datapoint 0, NC(=O)N1CCc2c(c(-c3ccc(Cl)c(C#Cc4ccc(CNCc5cccc(F)c5)cc4)c3)nn2CCCN2CCSCC2)C1. Appending empty array\n",
      "Exception message: 'NoneType' object is not subscriptable\n"
     ]
    },
    {
     "name": "stdout",
     "output_type": "stream",
     "text": [
      "c1cc(cc(c1)F)CNCc2ccc(cc2)C#Cc3cc(ccc3Cl)c4c5c(n(n4)CCCN6CCSCC6)CCN(C5)C(=O)N Featurization Failed\n"
     ]
    },
    {
     "name": "stderr",
     "output_type": "stream",
     "text": [
      "Failed to featurize datapoint 0, CC1COCCN1CCCn1nc(-c2ccc(Cl)c(C#Cc3ccc(Cl)c(C(=O)NCCCN(C)C(=O)OC(C)(C)C)c3)c2)c2c1CCN(C(=O)C(N)=O)C2. Appending empty array\n",
      "Exception message: 'NoneType' object is not subscriptable\n"
     ]
    },
    {
     "name": "stdout",
     "output_type": "stream",
     "text": [
      "C[C@H]1COCCN1CCCn2c3c(c(n2)c4ccc(c(c4)C#Cc5ccc(c(c5)C(=O)NCCCN(C)C(=O)OC(C)(C)C)Cl)Cl)CN(CC3)C(=O)C(=O)N Featurization Failed\n"
     ]
    },
    {
     "name": "stderr",
     "output_type": "stream",
     "text": [
      "Failed to featurize datapoint 0, CC(F)(F)C1CCN(CC(O)Cn2nc(-c3ccc(C(F)(F)F)c(SCCN4CCC(F)C4)c3)c3c2CCN(S(C)(=O)=O)C3)CC1. Appending empty array\n",
      "Exception message: 'NoneType' object is not subscriptable\n"
     ]
    },
    {
     "name": "stdout",
     "output_type": "stream",
     "text": [
      "CC(C1CCN(CC1)C[C@@H](Cn2c3c(c(n2)c4ccc(c(c4)SCCN5CC[C@@H](C5)F)C(F)(F)F)CN(CC3)S(=O)(=O)C)O)(F)F Featurization Failed\n"
     ]
    },
    {
     "name": "stderr",
     "output_type": "stream",
     "text": [
      "Failed to featurize datapoint 0, O=S(=O)(N1CCc2c(c(-c3ccc(C(F)(F)F)c(SCCN4CCC(F)CC4)c3)nn2CC(O)CN2CCCCC2)C1)C(F)(F)F. Appending empty array\n",
      "Exception message: 'NoneType' object is not subscriptable\n"
     ]
    },
    {
     "name": "stdout",
     "output_type": "stream",
     "text": [
      "c1cc(c(cc1c2c3c(n(n2)C[C@H](CN4CCCCC4)O)CCN(C3)S(=O)(=O)C(F)(F)F)SCCN5CCC(CC5)F)C(F)(F)F Featurization Failed\n"
     ]
    },
    {
     "name": "stderr",
     "output_type": "stream",
     "text": [
      "Failed to featurize datapoint 0, NC(=O)N1CCc2c(c(-c3ccc(Cl)c(C#Cc4ccc(CNCc5ccccc5F)cc4)c3)nn2CCCN2CCSCC2)C1. Appending empty array\n",
      "Exception message: 'NoneType' object is not subscriptable\n"
     ]
    },
    {
     "name": "stdout",
     "output_type": "stream",
     "text": [
      "c1ccc(c(c1)CNCc2ccc(cc2)C#Cc3cc(ccc3Cl)c4c5c(n(n4)CCCN6CCSCC6)CCN(C5)C(=O)N)F Featurization Failed\n"
     ]
    },
    {
     "name": "stderr",
     "output_type": "stream",
     "text": [
      "Failed to featurize datapoint 0, OC(CN1CCN(c2cccc(C(F)(F)F)c2)CC1)Cn1nc(-c2ccc(C(F)(F)F)c(SCCN3CCC(F)CC3)c2)c2c1CCNC2. Appending empty array\n",
      "Exception message: 'NoneType' object is not subscriptable\n"
     ]
    },
    {
     "name": "stdout",
     "output_type": "stream",
     "text": [
      "c1cc(cc(c1)N2CCN(CC2)C[C@@H](Cn3c4c(c(n3)c5ccc(c(c5)SCCN6CCC(CC6)F)C(F)(F)F)CNCC4)O)C(F)(F)F Featurization Failed\n"
     ]
    },
    {
     "name": "stderr",
     "output_type": "stream",
     "text": [
      "Failed to featurize datapoint 0, NC(=O)C(=O)N1CCc2c(c(-c3ccc(Cl)c(C#Cc4ccc(Cl)c(CN5CCOCC5)c4)c3)nn2CCCN2CCCCC2)C1. Appending empty array\n",
      "Exception message: 'NoneType' object is not subscriptable\n"
     ]
    },
    {
     "name": "stdout",
     "output_type": "stream",
     "text": [
      "c1cc(c(cc1C#Cc2cc(ccc2Cl)c3c4c(n(n3)CCCN5CCCCC5)CCN(C4)C(=O)C(=O)N)CN6CCOCC6)Cl Featurization Failed\n"
     ]
    },
    {
     "name": "stderr",
     "output_type": "stream",
     "text": [
      "Failed to featurize datapoint 0, NC(=O)N1CCc2c(c(-c3ccc(Cl)c(C#Cc4ccc(CNCc5ccc(Cl)cc5)cc4)c3)nn2CCCN2CCN(c3cccc[n+]3[O-])CC2)C1. Appending empty array\n",
      "Exception message: 'NoneType' object is not subscriptable\n"
     ]
    },
    {
     "name": "stdout",
     "output_type": "stream",
     "text": [
      "c1cc[n+](c(c1)N2CCN(CC2)CCCn3c4c(c(n3)c5ccc(c(c5)C#Cc6ccc(cc6)CNCc7ccc(cc7)Cl)Cl)CN(CC4)C(=O)N)[O-] Featurization Failed\n"
     ]
    },
    {
     "name": "stderr",
     "output_type": "stream",
     "text": [
      "Failed to featurize datapoint 0, NC(=O)N1CCc2c(c(-c3ccc(Cl)c(C#Cc4cccc(CNCc5cccc(F)c5)c4)c3)nn2CCCN2CCSCC2)C1. Appending empty array\n",
      "Exception message: 'NoneType' object is not subscriptable\n"
     ]
    },
    {
     "name": "stdout",
     "output_type": "stream",
     "text": [
      "c1cc(cc(c1)C#Cc2cc(ccc2Cl)c3c4c(n(n3)CCCN5CCSCC5)CCN(C4)C(=O)N)CNCc6cccc(c6)F Featurization Failed\n"
     ]
    },
    {
     "name": "stderr",
     "output_type": "stream",
     "text": [
      "Failed to featurize datapoint 0, NC(=O)N1CCc2c(c(-c3ccc(Cl)c(C#Cc4ccc(CNCc5ccc(Cl)cc5)cc4)c3)nn2CCCN2CCC3(CC2)OCCO3)C1. Appending empty array\n",
      "Exception message: 'NoneType' object is not subscriptable\n"
     ]
    },
    {
     "name": "stdout",
     "output_type": "stream",
     "text": [
      "c1cc(ccc1CNCc2ccc(cc2)Cl)C#Cc3cc(ccc3Cl)c4c5c(n(n4)CCCN6CCC7(CC6)OCCO7)CCN(C5)C(=O)N Featurization Failed\n"
     ]
    },
    {
     "name": "stderr",
     "output_type": "stream",
     "text": [
      "Failed to featurize datapoint 0, CC1COCCN1CCCn1nc(-c2ccc(Cl)c(C#Cc3ccc(Cl)c(C(=O)NCCCNC(=O)OC(C)(C)C)c3)c2)c2c1CCN(C(=O)C(N)=O)C2. Appending empty array\n",
      "Exception message: 'NoneType' object is not subscriptable\n"
     ]
    },
    {
     "name": "stdout",
     "output_type": "stream",
     "text": [
      "C[C@H]1COCCN1CCCn2c3c(c(n2)c4ccc(c(c4)C#Cc5ccc(c(c5)C(=O)NCCCNC(=O)OC(C)(C)C)Cl)Cl)CN(CC3)C(=O)C(=O)N Featurization Failed\n",
      "(321, 170)\n",
      "(321, 2051)\n",
      "(307, 884)\n",
      "(321, 203)\n",
      "-0.6371614623809048\n",
      "-0.6153391727676052\n",
      "-1.1251955987526756\n",
      "-0.7646398356729585\n",
      "-2.179820578349534\n",
      "-1.5200891623719097\n",
      "-2.6201066030103926\n",
      "-1.468900539323681\n",
      "-3.5489059091778286\n",
      "-2.3325686309436606\n",
      "-3.356666904836853\n",
      "-2.310795211867081\n",
      "-5.960131681573764\n",
      "-2.7026764648895374\n",
      "-4.269397755834009\n",
      "-4.638163605327216\n"
     ]
    }
   ],
   "source": [
    "Ids_tot, labels_tot = load_init_data('CATS Id and Label.csv')\n",
    "split_data(Ids_tot, labels_tot)\n",
    "Ids_train, labels_train = load_round_data('CATS_train_dataset.csv')\n",
    "featurizing_MACKeys(Ids_train, labels_train)\n",
    "featurizing_CF(Ids_train, labels_train)\n",
    "featurizing_PubFP(Ids_train, labels_train)\n",
    "featurizing_RDKit(Ids_train, labels_train)\n",
    "Ids_Mac, features_Mac, labels_Mac = load_featured_data('CATS_MACKeys_train_data.csv')\n",
    "Ids_CFP, features_CFP, labels_CFP = load_featured_data('CATS_CircularFP_train_data.csv')\n",
    "Ids_PCFP, features_PCFP, labels_PCFP = load_featured_data('CATS_PubChemFP_train_data.csv')\n",
    "Ids_RD, features_RD, labels_RD = load_featured_data('CATS_RDKit_train_data.csv')\n",
    "features_RD_noNaN = np.nan_to_num(features_RD, copy=False, nan=0.0, posinf=0.0, neginf=0.0)\n",
    "r2_score_Mac = KnnLooCV(features_Mac, labels_Mac, 1)\n",
    "r2_score_CFP = KnnLooCV(features_CFP, labels_CFP, 1)\n",
    "r2_score_RD = KnnLooCV(features_RD_noNaN, labels_RD, 1)\n",
    "r2_score_PCFP = KnnLooCV(features_PCFP, labels_PCFP, 1)\n",
    "r2_score_Mac = KnnLooCV(features_Mac, labels_Mac, 2)\n",
    "r2_score_CFP = KnnLooCV(features_CFP, labels_CFP, 2)\n",
    "r2_score_RD = KnnLooCV(features_RD_noNaN, labels_RD, 2)\n",
    "r2_score_PCFP = KnnLooCV(features_PCFP, labels_PCFP, 2)\n",
    "r2_score_Mac = KnnLooCV(features_Mac, labels_Mac, 3)\n",
    "r2_score_CFP = KnnLooCV(features_CFP, labels_CFP, 3)\n",
    "r2_score_RD = KnnLooCV(features_RD_noNaN, labels_RD, 3)\n",
    "r2_score_PCFP = KnnLooCV(features_PCFP, labels_PCFP, 3)\n",
    "r2_score_Mac = KnnLooCV(features_Mac, labels_Mac, 5)\n",
    "r2_score_CFP = KnnLooCV(features_CFP, labels_CFP, 5)\n",
    "r2_score_RD = KnnLooCV(features_RD_noNaN, labels_RD, 5)\n",
    "r2_score_PCFP = KnnLooCV(features_PCFP, labels_PCFP, 5)"
   ]
  },
  {
   "cell_type": "code",
   "execution_count": 13,
   "id": "40f52382",
   "metadata": {},
   "outputs": [
    {
     "name": "stdout",
     "output_type": "stream",
     "text": [
      "[0.         0.         0.00926409 ... 0.00059225 0.00058392 0.        ]\n"
     ]
    }
   ],
   "source": [
    "importance_values = feature_importance(features_CFP, labels_CFP)"
   ]
  },
  {
   "cell_type": "code",
   "execution_count": null,
   "id": "ddac25be",
   "metadata": {},
   "outputs": [],
   "source": [
    "for item in importance_values:\n",
    "    print(item)"
   ]
  },
  {
   "cell_type": "code",
   "execution_count": 16,
   "id": "dae692fb",
   "metadata": {},
   "outputs": [],
   "source": [
    "ranked_train_feature_array = feature_rearrage(features_CFP, importance_values)"
   ]
  },
  {
   "cell_type": "code",
   "execution_count": 19,
   "id": "ee8b79e2",
   "metadata": {},
   "outputs": [
    {
     "name": "stdout",
     "output_type": "stream",
     "text": [
      "(69, 2051)\n"
     ]
    }
   ],
   "source": [
    "Ids_val, labels_val = load_round_data('CATS_validation_dataset.csv')\n",
    "featurizing_CF(Ids_val, labels_val)\n",
    "Ids_CFP_val, features_CFP_val, labels_CFP_val = load_featured_data('CATS_CircularFP_val_data.csv')\n",
    "ranked_val_feature_array = feature_rearrage(features_CFP_val, importance_values)"
   ]
  },
  {
   "cell_type": "code",
   "execution_count": 21,
   "id": "f5c63210",
   "metadata": {},
   "outputs": [],
   "source": [
    "MSEs, R2s, times = SVM_optimization(ranked_train_feature_array, labels_CFP, ranked_val_feature_array, labels_CFP_val)"
   ]
  },
  {
   "cell_type": "code",
   "execution_count": 29,
   "id": "35ffa66d",
   "metadata": {},
   "outputs": [
    {
     "name": "stdout",
     "output_type": "stream",
     "text": [
      "(69, 2051)\n"
     ]
    }
   ],
   "source": [
    "Ids_test, labels_test = load_round_data('CATS_test_dataset.csv')\n",
    "featurizing_CF(Ids_test, labels_test)\n",
    "Ids_CFP_test, features_CFP_test, labels_CFP_test = load_featured_data('CATS_CircularFP_test_data.csv')\n",
    "ranked_test_feature_array = feature_rearrage(features_CFP_test, importance_values)\n",
    "MSE, R2, time = final_model(ranked_train_feature_array, labels_CFP, ranked_test_feature_array, labels_CFP_test)"
   ]
  },
  {
   "cell_type": "code",
   "execution_count": 30,
   "id": "5638b01a",
   "metadata": {},
   "outputs": [
    {
     "name": "stdout",
     "output_type": "stream",
     "text": [
      "0.39699614756317325 -0.11526081519279652 0.0040166378021240234\n"
     ]
    }
   ],
   "source": [
    "print(MSE, R2, time)"
   ]
  },
  {
   "cell_type": "code",
   "execution_count": null,
   "id": "fa84cfd7",
   "metadata": {},
   "outputs": [],
   "source": []
  }
 ],
 "metadata": {
  "kernelspec": {
   "display_name": "Python 3",
   "language": "python",
   "name": "python3"
  },
  "language_info": {
   "codemirror_mode": {
    "name": "ipython",
    "version": 3
   },
   "file_extension": ".py",
   "mimetype": "text/x-python",
   "name": "python",
   "nbconvert_exporter": "python",
   "pygments_lexer": "ipython3",
   "version": "3.6.12"
  }
 },
 "nbformat": 4,
 "nbformat_minor": 5
}
