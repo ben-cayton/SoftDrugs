{
 "cells": [
  {
   "cell_type": "code",
   "execution_count": 1,
   "id": "assumed-pressing",
   "metadata": {},
   "outputs": [
    {
     "name": "stdout",
     "output_type": "stream",
     "text": [
      "Requirement already satisfied: deepchem in c:\\users\\josly\\anaconda3\\envs\\softenv\\lib\\site-packages (2.4.0)\n",
      "Requirement already satisfied: scikit-learn in c:\\users\\josly\\anaconda3\\envs\\softenv\\lib\\site-packages (from deepchem) (0.24.1)\n",
      "Requirement already satisfied: numpy in c:\\users\\josly\\anaconda3\\envs\\softenv\\lib\\site-packages (from deepchem) (1.19.2)\n",
      "Requirement already satisfied: pandas in c:\\users\\josly\\anaconda3\\envs\\softenv\\lib\\site-packages (from deepchem) (1.1.3)\n",
      "Requirement already satisfied: joblib in c:\\users\\josly\\anaconda3\\envs\\softenv\\lib\\site-packages (from deepchem) (1.0.1)\n",
      "Requirement already satisfied: scipy in c:\\users\\josly\\anaconda3\\envs\\softenv\\lib\\site-packages (from deepchem) (1.5.2)\n",
      "Requirement already satisfied: pytz>=2017.2 in c:\\users\\josly\\anaconda3\\envs\\softenv\\lib\\site-packages (from pandas->deepchem) (2021.1)\n",
      "Requirement already satisfied: python-dateutil>=2.7.3 in c:\\users\\josly\\anaconda3\\envs\\softenv\\lib\\site-packages (from pandas->deepchem) (2.8.1)\n",
      "Requirement already satisfied: six>=1.5 in c:\\users\\josly\\anaconda3\\envs\\softenv\\lib\\site-packages (from python-dateutil>=2.7.3->pandas->deepchem) (1.15.0)\n",
      "Requirement already satisfied: threadpoolctl>=2.0.0 in c:\\users\\josly\\anaconda3\\envs\\softenv\\lib\\site-packages (from scikit-learn->deepchem) (2.1.0)\n"
     ]
    },
    {
     "data": {
      "text/plain": [
       "'2.4.0'"
      ]
     },
     "execution_count": 1,
     "metadata": {},
     "output_type": "execute_result"
    }
   ],
   "source": [
    "!pip install --pre deepchem\n",
    "import deepchem\n",
    "deepchem.__version__"
   ]
  },
  {
   "cell_type": "code",
   "execution_count": 2,
   "id": "adaptive-radio",
   "metadata": {
    "tags": []
   },
   "outputs": [
    {
     "data": {
      "text/html": [
       "<div>\n",
       "<style scoped>\n",
       "    .dataframe tbody tr th:only-of-type {\n",
       "        vertical-align: middle;\n",
       "    }\n",
       "\n",
       "    .dataframe tbody tr th {\n",
       "        vertical-align: top;\n",
       "    }\n",
       "\n",
       "    .dataframe thead th {\n",
       "        text-align: right;\n",
       "    }\n",
       "</style>\n",
       "<table border=\"1\" class=\"dataframe\">\n",
       "  <thead>\n",
       "    <tr style=\"text-align: right;\">\n",
       "      <th></th>\n",
       "      <th>pdb_id</th>\n",
       "      <th>smiles</th>\n",
       "      <th>label</th>\n",
       "    </tr>\n",
       "  </thead>\n",
       "  <tbody>\n",
       "    <tr>\n",
       "      <th>0</th>\n",
       "      <td>2d3u</td>\n",
       "      <td>CC1CCCCC1S(O)(O)NC1CC(C2CCC(CN)CC2)SC1C(O)O</td>\n",
       "      <td>6.92</td>\n",
       "    </tr>\n",
       "    <tr>\n",
       "      <th>1</th>\n",
       "      <td>3cyx</td>\n",
       "      <td>CC(C)(C)NC(O)C1CC2CCCCC2C[NH+]1CC(O)C(CC1CCCCC...</td>\n",
       "      <td>8.00</td>\n",
       "    </tr>\n",
       "    <tr>\n",
       "      <th>2</th>\n",
       "      <td>3uo4</td>\n",
       "      <td>OC(O)C1CCC(NC2NCCC(NC3CCCCC3C3CCCCC3)N2)CC1</td>\n",
       "      <td>6.52</td>\n",
       "    </tr>\n",
       "    <tr>\n",
       "      <th>3</th>\n",
       "      <td>1p1q</td>\n",
       "      <td>CC1ONC(O)C1CC([NH3+])C(O)O</td>\n",
       "      <td>4.89</td>\n",
       "    </tr>\n",
       "    <tr>\n",
       "      <th>4</th>\n",
       "      <td>3ag9</td>\n",
       "      <td>NC(O)C(CCC[NH2+]C([NH3+])[NH3+])NC(O)C(CCC[NH2...</td>\n",
       "      <td>8.05</td>\n",
       "    </tr>\n",
       "  </tbody>\n",
       "</table>\n",
       "</div>"
      ],
      "text/plain": [
       "  pdb_id                                             smiles  label\n",
       "0   2d3u        CC1CCCCC1S(O)(O)NC1CC(C2CCC(CN)CC2)SC1C(O)O   6.92\n",
       "1   3cyx  CC(C)(C)NC(O)C1CC2CCCCC2C[NH+]1CC(O)C(CC1CCCCC...   8.00\n",
       "2   3uo4        OC(O)C1CCC(NC2NCCC(NC3CCCCC3C3CCCCC3)N2)CC1   6.52\n",
       "3   1p1q                         CC1ONC(O)C1CC([NH3+])C(O)O   4.89\n",
       "4   3ag9  NC(O)C(CCC[NH2+]C([NH3+])[NH3+])NC(O)C(CCC[NH2...   8.05"
      ]
     },
     "execution_count": 2,
     "metadata": {},
     "output_type": "execute_result"
    }
   ],
   "source": [
    "#for simplicities sake, I'm going to be using the exact data set\n",
    "#and code used in tutorial 13, which contains the pdbbind data\n",
    "\n",
    "#start with common imports\n",
    "import os\n",
    "import numpy as np\n",
    "import pandas as pd\n",
    "import tempfile\n",
    "\n",
    "from rdkit import Chem\n",
    "from rdkit.Chem import AllChem\n",
    "import deepchem as dc\n",
    "from simtk.openmm.app import PDBFile\n",
    "from pdbfixer import PDBFixer\n",
    "from sklearn.ensemble import RandomForestRegressor\n",
    "\n",
    "from deepchem.utils.vina_utils import prepare_inputs\n",
    "from deepchem.utils import download_url, load_from_disk\n",
    "from deepchem.utils.evaluate import Evaluator \n",
    "\n",
    "#slight changes are being made to follow my normal coding structure\n",
    "#create a data directory that will contain our file\n",
    "dataDir = dc.utils.get_data_dir()\n",
    "datasetFile = os.path.join(dataDir, \"pdbbind_core_df.csv.gz\")\n",
    "\n",
    "#if the file location doesnt exist, the program will find and\n",
    "#download the file from designated url\n",
    "if not os.path.exists(datasetFile):\n",
    "    print('File does not exist. Downloading file...')\n",
    "    download_url(\"https://s3-us-west-1.amazonaws.com/deepchem.io/datasets/pdbbind_core_df.csv.gz\")\n",
    "    # download_url(http://deepchem.io.s3-website-us-west-1.amazonaws.com/datasets/pdbbind_v2015.tar.gz)\n",
    "    print('File downloaded...')\n",
    "\n",
    "#place the data file into a program \"understood\" format\n",
    "raw_dataset = load_from_disk(datasetFile)\n",
    "raw_dataset = raw_dataset[['pdb_id', 'smiles', 'label']]\n",
    "\n",
    "#visualize a little bit for sanity's sake\n",
    "raw_dataset.head()\n"
   ]
  },
  {
   "cell_type": "code",
   "execution_count": 3,
   "id": "electronic-celebration",
   "metadata": {},
   "outputs": [],
   "source": [
    "pdbids = raw_dataset['pdb_id'].values\n",
    "ligand_smiles = raw_dataset['smiles'].values"
   ]
  },
  {
   "cell_type": "code",
   "execution_count": 4,
   "id": "behavioral-dispute",
   "metadata": {
    "tags": []
   },
   "outputs": [
    {
     "data": {
      "text/plain": [
       "(193, 193)"
      ]
     },
     "execution_count": 4,
     "metadata": {},
     "output_type": "execute_result"
    }
   ],
   "source": [
    "len(pdbids), len(ligand_smiles)"
   ]
  },
  {
   "cell_type": "code",
   "execution_count": null,
   "id": "large-cricket",
   "metadata": {},
   "outputs": [],
   "source": [
    "%%time\n",
    "for (pdbid, ligand) in zip(pdbids, ligand_smiles):\n",
    "  fixer = PDBFixer(url='https://files.rcsb.org/download/%s.pdb' % (pdbid))\n",
    "  PDBFile.writeFile(fixer.topology, fixer.positions, open('%s.pdb' % (pdbid), 'w'))\n",
    "  \n",
    "  p, m = None, None\n",
    "  # skip pdb fixing for speed\n",
    "  try:\n",
    "    p, m = prepare_inputs('%s.pdb' % (pdbid), ligand)\n",
    "  except:\n",
    "    print('%s failed sanitization' % (pdbid)) \n",
    "\n",
    "  if p and m:  # protein and molecule are readable by RDKit\n",
    "    Chem.rdmolfiles.MolToPDBFile(p, '%s.pdb' % (pdbid))\n",
    "    Chem.rdmolfiles.MolToPDBFile(m, 'ligand_%s.pdb' % (pdbid))"
   ]
  },
  {
   "cell_type": "code",
   "execution_count": null,
   "id": "convertible-throat",
   "metadata": {},
   "outputs": [],
   "source": [
    "proteins = [f for f in os.listdir('.') if len(f) == 8 and f.endswith('.pdb')]\n",
    "ligands = [f for f in os.listdir('.') if f.startswith('ligand') and f.endswith('.pdb')]"
   ]
  },
  {
   "cell_type": "code",
   "execution_count": null,
   "id": "likely-medicare",
   "metadata": {},
   "outputs": [],
   "source": [
    "len(proteins), len(ligands)"
   ]
  },
  {
   "cell_type": "code",
   "execution_count": null,
   "id": "coordinated-moldova",
   "metadata": {},
   "outputs": [],
   "source": [
    "# Handle failed sanitizations\n",
    "failures = set([f[:-4] for f in proteins]) - set([f[7:-4] for f in ligands])\n",
    "print(failures)\n",
    "for pdbid in failures:\n",
    "  proteins.remove(pdbid + '.pdb')"
   ]
  },
  {
   "cell_type": "code",
   "execution_count": null,
   "id": "first-syndication",
   "metadata": {},
   "outputs": [],
   "source": [
    "len(proteins), len(ligands)\n",
    "# make sure len(proteins) = len(ligands)"
   ]
  },
  {
   "cell_type": "code",
   "execution_count": null,
   "id": "limited-studio",
   "metadata": {},
   "outputs": [],
   "source": [
    "pdbids = [f[:-4] for f in proteins]\n",
    "small_dataset = raw_dataset[raw_dataset['pdb_id'].isin(pdbids)]\n",
    "labels = small_dataset.label"
   ]
  },
  {
   "cell_type": "code",
   "execution_count": null,
   "id": "resistant-criterion",
   "metadata": {},
   "outputs": [],
   "source": [
    "# Circ fingerprint featurizer \n",
    "fp_featurizer_1 = dc.feat.CircularFingerprint(size=2048)\n",
    "features_1 = fp_featurizer_1.featurize([Chem.MolFromPDBFile(l) for l in ligands])"
   ]
  },
  {
   "cell_type": "code",
   "execution_count": null,
   "id": "becoming-maria",
   "metadata": {},
   "outputs": [],
   "source": [
    "dataset_1 = dc.data.NumpyDataset(X=features_1, y=labels, ids=pdbids)\n",
    "train_dataset_1, test_dataset_1 = dc.splits.RandomSplitter().train_test_split(dataset_1, seed=2)"
   ]
  },
  {
   "cell_type": "code",
   "execution_count": null,
   "id": "experimental-client",
   "metadata": {},
   "outputs": [],
   "source": [
    "# fitting w/ the use of random state\n",
    "seed = 2\n",
    "sklearn_model = RandomForestRegressor(n_estimators=100, max_features='sqrt')\n",
    "sklearn_model.random_state = seed\n",
    "model_1 = dc.models.SklearnModel(sklearn_model)\n",
    "model_1.fit(train_dataset_1)"
   ]
  },
  {
   "cell_type": "code",
   "execution_count": null,
   "id": "laden-peace",
   "metadata": {},
   "outputs": [],
   "source": [
    "# look at accuracies\n",
    "metric = dc.metrics.Metric(dc.metrics.pearson_r2_score)\n",
    "\n",
    "evaluator = Evaluator(model_1, train_dataset_1, [])\n",
    "train_r2score = evaluator.compute_model_performance([metric])\n",
    "print(\"RF Train set R^2 %f\" % (train_r2score[\"pearson_r2_score\"]))\n",
    "\n",
    "evaluator = Evaluator(model_1, test_dataset_1, [])\n",
    "test_r2score = evaluator.compute_model_performance([metric])\n",
    "print(\"RF Test set R^2 %f\" % (test_r2score[\"pearson_r2_score\"]))"
   ]
  },
  {
   "cell_type": "code",
   "execution_count": null,
   "id": "disabled-tours",
   "metadata": {},
   "outputs": [],
   "source": [
    "#Cont. Circ. fingerprint featurizer \n",
    "fp_featurizer_2 = dc.feat.ContactCircularFingerprint(size=2048)\n",
    "features_2 = fp_featurizer_2.featurize(zip(ligands, proteins))"
   ]
  },
  {
   "cell_type": "code",
   "execution_count": null,
   "id": "minus-martin",
   "metadata": {},
   "outputs": [],
   "source": [
    "dataset_2 = dc.data.NumpyDataset(X=features_2, y=labels, ids=pdbids)\n",
    "train_dataset_2, test_dataset_2 = dc.splits.RandomSplitter().train_test_split(dataset_2, seed=2)"
   ]
  },
  {
   "cell_type": "code",
   "execution_count": null,
   "id": "diagnostic-conducting",
   "metadata": {},
   "outputs": [],
   "source": [
    "# fitting w/ the use of random state\n",
    "seed = 2\n",
    "sklearn_model = RandomForestRegressor(n_estimators=100, max_features='sqrt')\n",
    "sklearn_model.random_state = seed\n",
    "model_2 = dc.models.SklearnModel(sklearn_model)\n",
    "model_2.fit(train_dataset_2)"
   ]
  },
  {
   "cell_type": "code",
   "execution_count": null,
   "id": "provincial-gross",
   "metadata": {},
   "outputs": [],
   "source": [
    "# look at accuracies\n",
    "metric = dc.metrics.Metric(dc.metrics.pearson_r2_score)\n",
    "\n",
    "evaluator = Evaluator(model_2, train_dataset_2, [])\n",
    "train_r2score = evaluator.compute_model_performance([metric])\n",
    "print(\"RF Train set R^2 %f\" % (train_r2score[\"pearson_r2_score\"]))\n",
    "\n",
    "evaluator = Evaluator(model_2, test_dataset_2, [])\n",
    "test_r2score = evaluator.compute_model_performance([metric])\n",
    "print(\"RF Test set R^2 %f\" % (test_r2score[\"pearson_r2_score\"]))"
   ]
  }
 ],
 "metadata": {
  "kernelspec": {
   "display_name": "Python 3",
   "language": "python",
   "name": "python3"
  },
  "language_info": {
   "codemirror_mode": {
    "name": "ipython",
    "version": 3
   },
   "file_extension": ".py",
   "mimetype": "text/x-python",
   "name": "python",
   "nbconvert_exporter": "python",
   "pygments_lexer": "ipython3",
   "version": "3.6.12"
  },
  "toc-autonumbering": true,
  "toc-showcode": true
 },
 "nbformat": 4,
 "nbformat_minor": 5
}
