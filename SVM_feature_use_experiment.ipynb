{
 "cells": [
  {
   "cell_type": "code",
   "execution_count": null,
   "metadata": {},
   "outputs": [],
   "source": [
    "import pandas as pd\n",
    "import numpy as np\n",
    "from sklearn import svm, model_selection\n",
    "from sklearn import metrics\n",
    "import matplotlib.pyplot as plt\n",
    "\n",
    "def SVM_optimization(train_data, val_data):\n",
    "    train_features = train_data[: , 0]\n",
    "    y_train = train_data[: , 1]\n",
    "    val_features = val_data[: , 0]\n",
    "    y_val = val_data[: , 1]\n",
    "    , total_features = train_features.shape\n",
    "    kernel = 'rbf'\n",
    "    lmda = 0.0010\n",
    "    MSEs = np.zeros(total_features)\n",
    "    R2s = np.zeros(total_features)\n",
    "    for feats_used in range(total_features):\n",
    "        x_train = train_features[: , 0:feats_used]\n",
    "        x_val = val_features[: , 0:feats_used]\n",
    "        svc = svm.SVC(kernel=kernel, C=1/lmda)\n",
    "        svc.fit(x_train, y_train)\n",
    "        y_pred = svc.predict(x_val)\n",
    "        MSEs[feats_used] = metrics.mean_squared_error(y_val, y_pred)\n",
    "        R2s[feats_used] = metrics.r2_score(y_val, y_pred)\n",
    "    plt.subplot(121)\n",
    "    plt.plot(MSEs, 'o')\n",
    "    plt.xlabel('Features Used')\n",
    "    plt.ylabel('Model MSE')\n",
    "    plt.subplot(122)\n",
    "    plt.plot(R2s, 'o')\n",
    "    plt.xlabel('Features Used')\n",
    "    plt.ylabel('Model MSE')\n",
    "        \n",
    "    "
   ]
  },
  {
   "cell_type": "code",
   "execution_count": 2,
   "metadata": {},
   "outputs": [
    {
     "name": "stdout",
     "output_type": "stream",
     "text": [
      "range(0, 4)\n"
     ]
    }
   ],
   "source": []
  },
  {
   "cell_type": "code",
   "execution_count": null,
   "metadata": {},
   "outputs": [],
   "source": []
  }
 ],
 "metadata": {
  "kernelspec": {
   "display_name": "Python 3",
   "language": "python",
   "name": "python3"
  },
  "language_info": {
   "codemirror_mode": {
    "name": "ipython",
    "version": 3
   },
   "file_extension": ".py",
   "mimetype": "text/x-python",
   "name": "python",
   "nbconvert_exporter": "python",
   "pygments_lexer": "ipython3",
   "version": "3.8.5"
  }
 },
 "nbformat": 4,
 "nbformat_minor": 4
}
