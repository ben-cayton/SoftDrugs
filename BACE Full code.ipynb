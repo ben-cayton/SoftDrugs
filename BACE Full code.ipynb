{
 "cells": [
  {
   "cell_type": "code",
   "execution_count": 60,
   "id": "04dd0e02",
   "metadata": {},
   "outputs": [],
   "source": [
    "import pandas as pd\n",
    "import numpy as np\n",
    "import os\n",
    "import deepchem as dc\n",
    "import pubchempy as pcp\n",
    "import matplotlib.pyplot as plt\n",
    "import time\n",
    "from os.path import dirname, join as pjoin\n",
    "from deepchem.utils.typing import RDKitMol\n",
    "from deepchem.feat.base_classes import MolecularFeaturizer\n",
    "from rdkit import Chem\n",
    "from rdkit.Chem import AllChem\n",
    "from numpy.random import random_sample as rs, randint as r\n",
    "from sklearn.neighbors import KNeighborsRegressor as KNR\n",
    "from sklearn.model_selection import cross_val_predict as CV\n",
    "from sklearn.metrics import r2_score as r2\n",
    "from sklearn.model_selection import train_test_split\n",
    "from sklearn.ensemble import RandomForestRegressor\n",
    "from sklearn import datasets, model_selection\n",
    "from sklearn import svm, model_selection\n",
    "from sklearn import metrics\n"
   ]
  },
  {
   "cell_type": "code",
   "execution_count": 27,
   "id": "aa9b64cc",
   "metadata": {},
   "outputs": [],
   "source": [
    "def load_init_data(csv_file='./data.csv'):\n",
    "    loaded_data = pd.read_csv(csv_file)\n",
    "    n_files = len(loaded_data)\n",
    "    Ids = loaded_data[\"mol\"]\n",
    "    labels = loaded_data[\"pIC50\"]\n",
    "    labels = labels.to_numpy()\n",
    "    return Ids, labels"
   ]
  },
  {
   "cell_type": "code",
   "execution_count": 25,
   "id": "4f0e89af",
   "metadata": {},
   "outputs": [],
   "source": [
    "def load_round_data(csv_file='./data.csv'):\n",
    "    loaded_data = pd.read_csv(csv_file)\n",
    "    n_files = len(loaded_data)\n",
    "    Ids = loaded_data[\"Ids\"]\n",
    "    labels = loaded_data[\"Labels\"]\n",
    "    labels = labels.to_numpy()\n",
    "    return Ids, labels"
   ]
  },
  {
   "cell_type": "code",
   "execution_count": 26,
   "id": "c8a57e10",
   "metadata": {},
   "outputs": [],
   "source": [
    "def load_featured_data(csv_file):\n",
    "    loaded_data = pd.read_csv(csv_file)\n",
    "    samples , feat_count = loaded_data.shape\n",
    "    label_idx = '%s' %(feat_count - 2)\n",
    "    features = np.zeros((samples , (feat_count - 2)))\n",
    "    n_files = len(loaded_data)\n",
    "    print(loaded_data.shape)\n",
    "    Ids = loaded_data['0']\n",
    "    for feat in range(1,(feat_count - 2)):\n",
    "        features[:, feat] = loaded_data['%s' %feat]\n",
    "    labels = loaded_data[label_idx]\n",
    "    labels = labels.to_numpy()\n",
    "    return Ids, features, labels"
   ]
  },
  {
   "cell_type": "code",
   "execution_count": 4,
   "id": "60b9c3e8",
   "metadata": {},
   "outputs": [],
   "source": [
    "def split_data(Ids, Labels):\n",
    "    X = Ids\n",
    "    y = Labels\n",
    "    X_train, X_temp, y_train, y_temp = train_test_split(\n",
    "        X, y, test_size=0.3)\n",
    "    X_val, X_test, y_val, y_test = train_test_split(\n",
    "        X_temp, y_temp, test_size=0.5)\n",
    "    train_data = {'Ids':X_train, 'Labels': y_train}\n",
    "    validation_data = {'Ids':X_val, 'Labels': y_val}\n",
    "    test_data = {'Ids':X_test, 'Labels': y_test}\n",
    "    train_data = pd.DataFrame(data=train_data)\n",
    "    validation_data = pd.DataFrame(data=validation_data)\n",
    "    test_data = pd.DataFrame(data=test_data)\n",
    "    train_data.to_csv('BACE_train_dataset.csv')\n",
    "    validation_data.to_csv('BACE_validation_dataset.csv')\n",
    "    test_data.to_csv('BACE_test_dataset.csv')"
   ]
  },
  {
   "cell_type": "code",
   "execution_count": 5,
   "id": "1ba57646",
   "metadata": {},
   "outputs": [],
   "source": [
    "def featurizing_MACKeys(Id_array, label_array):\n",
    "    n_samples = len(Id_array)\n",
    "    features_and_labels = np.zeros((n_samples,169), dtype = int)\n",
    "    features_and_labels = features_and_labels.astype(str)\n",
    "    labels = np.zeros(n_samples)\n",
    "    MACKEYS_featurizer = dc.feat.MACCSKeysFingerprint()\n",
    "    for idx in range(n_samples):\n",
    "        mol = Id_array[idx]\n",
    "        try:\n",
    "            features_and_labels[idx,1:168] = MACKEYS_featurizer.featurize(([Chem.MolFromSmiles(mol)]))\n",
    "            features_and_labels[idx, -1] = label_array[idx]\n",
    "            features_and_labels[idx,0] = mol\n",
    "        except:\n",
    "            print('%s Featurization Failed' % (mol))\n",
    "    features_and_labels = features_and_labels[~np.all(features_and_labels == '0', axis=1)]\n",
    "    features_and_labels = pd.DataFrame(data=features_and_labels)\n",
    "    features_and_labels.to_csv('BACE_MACKeys_train_data.csv')"
   ]
  },
  {
   "cell_type": "code",
   "execution_count": 49,
   "id": "1cbdc77c",
   "metadata": {},
   "outputs": [],
   "source": [
    "def featurizing_CF(Id_array, label_array):\n",
    "    n_samples = len(Id_array)\n",
    "    features_and_labels = np.zeros((n_samples,2050), dtype = int)\n",
    "    features_and_labels = features_and_labels.astype(str)\n",
    "    labels = np.zeros(n_samples)\n",
    "    CF_featurizer = dc.feat.CircularFingerprint()\n",
    "    for idx in range(n_samples):\n",
    "        mol = Id_array[idx]\n",
    "        try:\n",
    "            features_and_labels[idx,1:2049] = CF_featurizer.featurize(([Chem.MolFromSmiles(mol)]))\n",
    "            features_and_labels[idx, -1] = label_array[idx]\n",
    "            features_and_labels[idx,0] = mol\n",
    "        except:\n",
    "            print('%s Featurization Failed' % (mol))\n",
    "    features_and_labels = features_and_labels[~np.all(features_and_labels == '0', axis=1)]\n",
    "    features_and_labels = pd.DataFrame(data=features_and_labels)\n",
    "    features_and_labels.to_csv('BACE_CircularFP_test_data.csv')"
   ]
  },
  {
   "cell_type": "code",
   "execution_count": 7,
   "id": "c556b321",
   "metadata": {},
   "outputs": [],
   "source": [
    "def featurizing_PubFP(Id_array, label_array):\n",
    "    n_samples = len(Id_array)\n",
    "    features_and_labels = np.zeros((n_samples,883), dtype = int)\n",
    "    features_and_labels = features_and_labels.astype(str)\n",
    "    labels = np.zeros(n_samples)\n",
    "    PubFB_featurizer = dc.feat.PubChemFingerprint()\n",
    "    for idx in range(n_samples):\n",
    "        mol = Id_array[idx]\n",
    "        try:\n",
    "            features_and_labels[idx,1:882] = PubFB_featurizer.featurize(([Chem.MolFromSmiles(mol)]))\n",
    "            features_and_labels[idx, -1] = label_array[idx]\n",
    "            features_and_labels[idx,0] = mol\n",
    "        except:\n",
    "            print('%s Featurization Failed' % (mol))\n",
    "    features_and_labels = features_and_labels[~np.all(features_and_labels == '0', axis=1)]\n",
    "    features_and_labels = pd.DataFrame(data=features_and_labels)\n",
    "    features_and_labels.to_csv('BACE_PubChemFP_train_data.csv')"
   ]
  },
  {
   "cell_type": "code",
   "execution_count": 8,
   "id": "742996b1",
   "metadata": {},
   "outputs": [],
   "source": [
    "def featurizing_RDKit(Id_array, label_array):\n",
    "    n_samples = len(Id_array)\n",
    "    features_and_labels = np.zeros((n_samples,202), dtype = int)\n",
    "    features_and_labels = features_and_labels.astype(str)\n",
    "    labels = np.zeros(n_samples)\n",
    "    RDKit_featurizer = dc.feat.RDKitDescriptors()\n",
    "    for idx in range(n_samples):\n",
    "        mol = Id_array[idx]\n",
    "        try:\n",
    "            features_and_labels[idx,1:201] = RDKit_featurizer.featurize(([Chem.MolFromSmiles(mol)]))\n",
    "            features_and_labels[idx, -1] = label_array[idx]\n",
    "            features_and_labels[idx,0] = mol\n",
    "        except:\n",
    "            print('%s Featurization Failed' % (mol))\n",
    "    features_and_labels = features_and_labels[~np.all(features_and_labels == '0', axis=1)]\n",
    "    features_and_labels = pd.DataFrame(data=features_and_labels)\n",
    "    features_and_labels.to_csv('BACE_RDKit_train_data.csv')"
   ]
  },
  {
   "cell_type": "code",
   "execution_count": 9,
   "id": "5c346c04",
   "metadata": {},
   "outputs": [],
   "source": [
    "def KnnLooCV(features, labels, k):\n",
    "    X = features\n",
    "    y = labels\n",
    "    model = KNR(n_neighbors = k)\n",
    "    pred = CV(model, X, y, cv=len(X))\n",
    "    r2_score = r2(pred,y)\n",
    "    print(r2_score)\n",
    "    return r2_score"
   ]
  },
  {
   "cell_type": "code",
   "execution_count": 18,
   "id": "677e3007",
   "metadata": {},
   "outputs": [],
   "source": [
    "def feature_importance(feature_arrays, labels):\n",
    "    y = labels\n",
    "    x = feature_arrays\n",
    "    _, n_features = feature_arrays.shape\n",
    "    importance_values = np.zeros(n_features)\n",
    "    x_train, x_test, y_train, y_test = model_selection.train_test_split(\n",
    "        x, y, test_size = 0.2, random_state = 1)\n",
    "    kf = model_selection.KFold(n_splits = 5)\n",
    "    for train_idx, val_idx in kf.split(x_train):\n",
    "        feature_imp_model = RandomForestRegressor(\n",
    "            n_estimators = 1000, criterion=\"mse\",\n",
    "            min_samples_leaf = 1, max_features = \"sqrt\")\n",
    "        feature_imp_model.fit(x_train[train_idx], y_train[train_idx])\n",
    "        fold_feat_imp = feature_imp_model.feature_importances_\n",
    "        importance_values += fold_feat_imp\n",
    "    print(importance_values)\n",
    "    return importance_values"
   ]
  },
  {
   "cell_type": "code",
   "execution_count": 55,
   "id": "eaa6bf23",
   "metadata": {},
   "outputs": [],
   "source": [
    "def feature_rearrage(feature_arrays, importance_values):\n",
    "    samples, n_features = feature_arrays.shape\n",
    "    ranked_feature_array = np.zeros((samples, n_features))\n",
    "    new_order = np.argsort(importance_values)\n",
    "    count = n_features - 1\n",
    "    for new_ind in new_order:\n",
    "        ranked_feature_array[:,count] = feature_arrays[:,new_ind]\n",
    "        count -= 1\n",
    "    ranked_features = pd.DataFrame(data=ranked_feature_array)\n",
    "    ranked_features.to_csv('ranked_featured_CFP_test_data.csv')\n",
    "    return ranked_feature_array"
   ]
  },
  {
   "cell_type": "code",
   "execution_count": 43,
   "id": "bb78f4da",
   "metadata": {},
   "outputs": [],
   "source": [
    "def SVM_optimization(train_feats, train_labels, val_feats, val_labels):\n",
    "    train_features = train_feats\n",
    "    y_train = train_labels\n",
    "    val_features = val_feats\n",
    "    y_val = val_labels\n",
    "    _, total_features = train_features.shape\n",
    "    kernel = 'rbf'\n",
    "    lmda = 0.0010\n",
    "    MSEs = np.zeros(total_features)\n",
    "    R2s = np.zeros(total_features)\n",
    "    times = np.zeros(total_features)\n",
    "    for feats_used in range(1,total_features):\n",
    "        x_train = train_features[: , 0:feats_used]\n",
    "        x_val = val_features[: , 0:feats_used]\n",
    "        prev_time = time.time()\n",
    "        svc = svm.SVR(kernel=kernel, C=1/lmda)\n",
    "        svc.fit(x_train, y_train)\n",
    "        curr_time = time.time()\n",
    "        y_pred = svc.predict(x_val)\n",
    "        MSEs[feats_used] = metrics.mean_squared_error(y_val, y_pred)\n",
    "        R2s[feats_used] = metrics.r2_score(y_val, y_pred)\n",
    "        times[feats_used] = curr_time - prev_time\n",
    "    return MSEs, R2s, times"
   ]
  },
  {
   "cell_type": "code",
   "execution_count": 58,
   "id": "eeaaa3f5",
   "metadata": {},
   "outputs": [],
   "source": [
    "def final_model(train_feats, train_labels, fin_feats, fin_labels):\n",
    "    train_features = train_feats\n",
    "    y_train = train_labels\n",
    "    test_features = fin_feats\n",
    "    y_test = fin_labels\n",
    "    _, total_features = train_features.shape\n",
    "    kernel = 'rbf'\n",
    "    lmda = 0.0010\n",
    "    x_train = train_features[: , 0:240]\n",
    "    x_test = test_features[: , 0:240]\n",
    "    prev_time = time.time()\n",
    "    svc = svm.SVR(kernel=kernel, C=1/lmda)\n",
    "    svc.fit(x_train, y_train)\n",
    "    curr_time = time.time()\n",
    "    y_pred = svc.predict(x_test)\n",
    "    MSE = metrics.mean_squared_error(y_test, y_pred)\n",
    "    R2 = metrics.r2_score(y_test, y_pred)\n",
    "    timed = curr_time - prev_time\n",
    "    return MSE, R2, timed"
   ]
  },
  {
   "cell_type": "code",
   "execution_count": null,
   "id": "cadd8b93",
   "metadata": {},
   "outputs": [],
   "source": [
    "Ids_tot, labels_tot = load_init_data('BACE ID and Label.csv')\n",
    "split_data(Ids_tot, labels_tot)"
   ]
  },
  {
   "cell_type": "code",
   "execution_count": null,
   "id": "849b59c2",
   "metadata": {},
   "outputs": [],
   "source": [
    "Ids_train, labels_train = load_round_data('BACE_train_dataset.csv')\n",
    "featurizing_MACKeys(Ids_train, labels_train)\n",
    "featurizing_CF(Ids_train, labels_train)\n",
    "featurizing_PubFP(Ids_train, labels_train)\n",
    "featurizing_RDKit(Ids_train, labels_train)"
   ]
  },
  {
   "cell_type": "code",
   "execution_count": 16,
   "id": "928d9d37",
   "metadata": {},
   "outputs": [
    {
     "name": "stdout",
     "output_type": "stream",
     "text": [
      "(1059, 170)\n",
      "(1059, 2051)\n",
      "(462, 884)\n",
      "(1059, 203)\n",
      "0.44359615467138214\n",
      "0.5201682527989713\n",
      "0.4313893328124462\n",
      "0.44699605392342523\n",
      "0.45992776041542127\n",
      "0.6101442881752968\n",
      "0.4108352439574978\n",
      "0.4341824616046184\n",
      "0.44267053485826013\n",
      "0.6061217058321291\n",
      "0.35850426538659974\n",
      "0.3944733182333918\n",
      "0.39838233912613696\n",
      "0.5740100609463514\n",
      "0.3082733739291498\n",
      "0.33698632871423917\n"
     ]
    }
   ],
   "source": [
    "Ids_Mac, features_Mac, labels_Mac = load_featured_data('BACE_MACKeys_train_data.csv')\n",
    "Ids_CFP, features_CFP, labels_CFP = load_featured_data('BACE_CircularFP_train_data.csv')\n",
    "Ids_PCFP, features_PCFP, labels_PCFP = load_featured_data('BACE_PubChemFP_train_data.csv')\n",
    "Ids_RD, features_RD, labels_RD = load_featured_data('BACE_RDKit_train_data.csv')\n",
    "features_RD_noNaN = np.nan_to_num(features_RD, copy=False, nan=0.0, posinf=0.0, neginf=0.0)\n",
    "r2_score_Mac = KnnLooCV(features_Mac, labels_Mac, 1)\n",
    "r2_score_CFP = KnnLooCV(features_CFP, labels_CFP, 1)\n",
    "r2_score_RD = KnnLooCV(features_RD_noNaN, labels_RD, 1)\n",
    "r2_score_PCFP = KnnLooCV(features_PCFP, labels_PCFP, 1)\n",
    "r2_score_Mac = KnnLooCV(features_Mac, labels_Mac, 2)\n",
    "r2_score_CFP = KnnLooCV(features_CFP, labels_CFP, 2)\n",
    "r2_score_RD = KnnLooCV(features_RD_noNaN, labels_RD, 2)\n",
    "r2_score_PCFP = KnnLooCV(features_PCFP, labels_PCFP, 2)\n",
    "r2_score_Mac = KnnLooCV(features_Mac, labels_Mac, 3)\n",
    "r2_score_CFP = KnnLooCV(features_CFP, labels_CFP, 3)\n",
    "r2_score_RD = KnnLooCV(features_RD_noNaN, labels_RD, 3)\n",
    "r2_score_PCFP = KnnLooCV(features_PCFP, labels_PCFP, 3)\n",
    "r2_score_Mac = KnnLooCV(features_Mac, labels_Mac, 5)\n",
    "r2_score_CFP = KnnLooCV(features_CFP, labels_CFP, 5)\n",
    "r2_score_RD = KnnLooCV(features_RD_noNaN, labels_RD, 5)\n",
    "r2_score_PCFP = KnnLooCV(features_PCFP, labels_PCFP, 5)"
   ]
  },
  {
   "cell_type": "code",
   "execution_count": 21,
   "id": "9f441ac5",
   "metadata": {},
   "outputs": [],
   "source": [
    "importance_values = feature_importance(features_CFP, labels_CFP)"
   ]
  },
  {
   "cell_type": "code",
   "execution_count": 42,
   "id": "5fec5063",
   "metadata": {},
   "outputs": [
    {
     "name": "stdout",
     "output_type": "stream",
     "text": [
      "(227, 2051)\n"
     ]
    }
   ],
   "source": [
    "Ids_val, labels_val = load_round_data('BACE_validation_dataset.csv')\n",
    "featurizing_CF(Ids_val, labels_val)\n",
    "Ids_CFP_val, features_CFP_val, labels_CFP_val = load_featured_data('BACE_CircularFP_val_data.csv')\n",
    "ranked_train_feature_array = feature_rearrage(features_CFP, importance_values)"
   ]
  },
  {
   "cell_type": "code",
   "execution_count": 40,
   "id": "7b88a9d6",
   "metadata": {},
   "outputs": [],
   "source": [
    "ranked_val_feature_array = feature_rearrage(features_CFP_val, importance_values)"
   ]
  },
  {
   "cell_type": "code",
   "execution_count": 44,
   "id": "248cddb1",
   "metadata": {},
   "outputs": [],
   "source": [
    "MSEs, R2s, times = SVM_optimization(ranked_train_feature_array, labels_CFP, ranked_val_feature_array, labels_CFP_val)"
   ]
  },
  {
   "cell_type": "code",
   "execution_count": 56,
   "id": "d78e56b9",
   "metadata": {},
   "outputs": [
    {
     "name": "stdout",
     "output_type": "stream",
     "text": [
      "(227, 2051)\n"
     ]
    }
   ],
   "source": [
    "Ids_test, labels_test = load_round_data('BACE_test_dataset.csv')\n",
    "featurizing_CF(Ids_test, labels_test)\n",
    "Ids_CFP_test, features_CFP_test, labels_CFP_test = load_featured_data('BACE_CircularFP_test_data.csv')\n",
    "ranked_test_feature_array = feature_rearrage(features_CFP_test, importance_values)\n",
    "MSE, R2, time = final_model(ranked_train_feature_array, labels_CFP, ranked_test_feature_array, labels_CFP_test)"
   ]
  },
  {
   "cell_type": "code",
   "execution_count": 57,
   "id": "c84dc1cf",
   "metadata": {},
   "outputs": [
    {
     "name": "stdout",
     "output_type": "stream",
     "text": [
      "0.5074651548931994 0.7276166079826318 0.7794139385223389\n"
     ]
    }
   ],
   "source": [
    "print(MSE, R2, time)"
   ]
  },
  {
   "cell_type": "code",
   "execution_count": 61,
   "id": "e9682d8d",
   "metadata": {},
   "outputs": [],
   "source": [
    "MSE, R2, time = final_model(ranked_train_feature_array, labels_CFP, ranked_test_feature_array, labels_CFP_test)"
   ]
  },
  {
   "cell_type": "code",
   "execution_count": 62,
   "id": "c6d54cae",
   "metadata": {},
   "outputs": [
    {
     "name": "stdout",
     "output_type": "stream",
     "text": [
      "0.6683661589297509 0.6412525279352049 0.13863277435302734\n"
     ]
    }
   ],
   "source": [
    "print(MSE, R2, time)"
   ]
  },
  {
   "cell_type": "code",
   "execution_count": null,
   "id": "c444e4da",
   "metadata": {},
   "outputs": [],
   "source": []
  }
 ],
 "metadata": {
  "kernelspec": {
   "display_name": "Python 3",
   "language": "python",
   "name": "python3"
  },
  "language_info": {
   "codemirror_mode": {
    "name": "ipython",
    "version": 3
   },
   "file_extension": ".py",
   "mimetype": "text/x-python",
   "name": "python",
   "nbconvert_exporter": "python",
   "pygments_lexer": "ipython3",
   "version": "3.6.12"
  }
 },
 "nbformat": 4,
 "nbformat_minor": 5
}
